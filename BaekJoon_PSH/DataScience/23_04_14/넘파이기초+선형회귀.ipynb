{
 "cells": [
  {
   "cell_type": "code",
   "execution_count": 2,
   "id": "03ff5aae-9efd-40c7-93b6-726e066e7ef3",
   "metadata": {
    "pycharm": {
     "name": "#%%\n"
    }
   },
   "outputs": [],
   "source": [
    "import numpy as np\n",
    "from sklearn.linear_model import LinearRegression"
   ]
  },
  {
   "cell_type": "markdown",
   "id": "6160261d-8e72-48d8-a5ec-4920888a57a5",
   "metadata": {
    "pycharm": {
     "name": "#%% md\n"
    }
   },
   "source": [
    "# Numpy"
   ]
  },
  {
   "cell_type": "code",
   "execution_count": 3,
   "id": "68198136-c118-49a6-9c51-060bf1b5b932",
   "metadata": {
    "pycharm": {
     "name": "#%%\n"
    }
   },
   "outputs": [
    {
     "data": {
      "text/plain": [
       "array([0, 2, 4, 6, 8])"
      ]
     },
     "execution_count": 3,
     "metadata": {},
     "output_type": "execute_result"
    }
   ],
   "source": [
    "# a ~ b 구간만큼 array 생성\n",
    "# c는 step\n",
    "np.arange(0, 10, 2)"
   ]
  },
  {
   "cell_type": "code",
   "execution_count": 5,
   "id": "9980e398-9c8c-4ca0-95f0-c260050892eb",
   "metadata": {
    "pycharm": {
     "name": "#%%\n"
    }
   },
   "outputs": [
    {
     "data": {
      "text/plain": [
       "array([  0,  25,  50,  75, 100])"
      ]
     },
     "execution_count": 5,
     "metadata": {},
     "output_type": "execute_result"
    }
   ],
   "source": [
    "# a ~ b 구간을 c 만큼 나눈 array 생성\n",
    "np.linspace(0, 100, 5, dtype=int)"
   ]
  },
  {
   "cell_type": "code",
   "execution_count": 6,
   "id": "5448d5e2-8dcc-4d68-9786-47b4521c771a",
   "metadata": {
    "pycharm": {
     "name": "#%%\n"
    }
   },
   "outputs": [
    {
     "data": {
      "text/plain": [
       "array([[0.34517424, 0.49476687, 0.89435696],\n",
       "       [0.82324692, 0.0941569 , 0.52259373],\n",
       "       [0.80103879, 0.48130936, 0.8999273 ],\n",
       "       [0.70644837, 0.18863635, 0.7916967 ],\n",
       "       [0.49075066, 0.22452528, 0.54332666],\n",
       "       [0.1469197 , 0.29393614, 0.2724201 ],\n",
       "       [0.22720586, 0.62462941, 0.29924542],\n",
       "       [0.48124074, 0.92954402, 0.31134705],\n",
       "       [0.89894857, 0.07837479, 0.75568723],\n",
       "       [0.98427714, 0.04575574, 0.06184319]])"
      ]
     },
     "execution_count": 6,
     "metadata": {},
     "output_type": "execute_result"
    }
   ],
   "source": [
    "# [a, b] 차원 만큼 random으로 채워진 array 생성\n",
    "np.random.random([10, 3])"
   ]
  },
  {
   "cell_type": "code",
   "execution_count": 10,
   "id": "c07a9549-ddf1-4aa2-893f-570af39ad9a5",
   "metadata": {
    "pycharm": {
     "name": "#%%\n"
    }
   },
   "outputs": [
    {
     "data": {
      "text/plain": [
       "array([0.46382926, 0.5983775 , 0.61475562])"
      ]
     },
     "execution_count": 10,
     "metadata": {},
     "output_type": "execute_result"
    }
   ],
   "source": [
    "# np array의 mean 메서드는 axis=0, 1 을 지정 가능. 0은 열 단위, 1은 행 단위 연산\n",
    "X = np.random.random([10, 3])\n",
    "X.mean(axis=0)"
   ]
  },
  {
   "cell_type": "code",
   "execution_count": 12,
   "id": "54e3504d-9934-44e1-a02d-f6fa2bf33c5b",
   "metadata": {
    "pycharm": {
     "name": "#%%\n"
    }
   },
   "outputs": [
    {
     "data": {
      "text/plain": [
       "array([[8, 3, 9],\n",
       "       [3, 1, 1]])"
      ]
     },
     "execution_count": 12,
     "metadata": {},
     "output_type": "execute_result"
    }
   ],
   "source": [
    "# a 범위 안의 정수를 b 사이즈만큼 생성\n",
    "arr1 = np.random.randint(10, size=(2, 3))\n",
    "arr1"
   ]
  },
  {
   "cell_type": "code",
   "execution_count": 13,
   "id": "c4dccb18-e97c-479a-91bc-f8a5380e79b1",
   "metadata": {
    "pycharm": {
     "name": "#%%\n"
    }
   },
   "outputs": [
    {
     "data": {
      "text/plain": [
       "array([[[0., 0., 0.],\n",
       "        [0., 0., 0.]]])"
      ]
     },
     "execution_count": 13,
     "metadata": {},
     "output_type": "execute_result"
    }
   ],
   "source": [
    "# 지정한 차원만큼 빈 array 생성 \n",
    "np.ndarray([1, 2, 3])"
   ]
  },
  {
   "cell_type": "code",
   "execution_count": 18,
   "id": "6075b4ff-3055-4328-932c-246c12216f81",
   "metadata": {
    "pycharm": {
     "name": "#%%\n"
    }
   },
   "outputs": [
    {
     "name": "stdout",
     "output_type": "stream",
     "text": [
      "[1, 2, 3, 4, 5, 6]\n"
     ]
    },
    {
     "data": {
      "text/plain": [
       "array([1, 2, 3, 4, 5, 6])"
      ]
     },
     "execution_count": 18,
     "metadata": {},
     "output_type": "execute_result"
    }
   ],
   "source": [
    "# 파이썬 리스트끼리 concatenate() 수행할 경우\n",
    "# list1 + list2 (일반 리스트의 + 연산 결과) 가 담긴 array 반환\n",
    "list1 = [1, 2, 3]\n",
    "list2 = [4, 5, 6]\n",
    "\n",
    "print(list1 + list2)\n",
    "np.concatenate([list1, list2])"
   ]
  },
  {
   "cell_type": "code",
   "execution_count": 19,
   "id": "efdbe0f6-6f04-4fdb-91f2-8cacc4f255b4",
   "metadata": {
    "pycharm": {
     "name": "#%%\n"
    }
   },
   "outputs": [
    {
     "data": {
      "text/plain": [
       "array([1, 2, 3])"
      ]
     },
     "execution_count": 19,
     "metadata": {},
     "output_type": "execute_result"
    }
   ],
   "source": [
    "# 파이썬 리스트를 넘파이 어레이로 변환\n",
    "np.array(list1)"
   ]
  },
  {
   "cell_type": "code",
   "execution_count": 20,
   "id": "41369f50-1640-4188-bcdb-a516f8253576",
   "metadata": {
    "pycharm": {
     "name": "#%%\n"
    }
   },
   "outputs": [
    {
     "data": {
      "text/plain": [
       "array([5, 7, 9])"
      ]
     },
     "execution_count": 20,
     "metadata": {},
     "output_type": "execute_result"
    }
   ],
   "source": [
    "# 넘파이 어레이 간의 + 연산\n",
    "np.array(list1) + np.array(list2)"
   ]
  },
  {
   "cell_type": "markdown",
   "id": "3802fa25-2fbd-4d2b-b964-237040bd30fb",
   "metadata": {
    "pycharm": {
     "name": "#%% md\n"
    }
   },
   "source": [
    "- 역수 :\n",
    "    - 임의의 수  x에 대해서 곱했을 때 1이 되게 하는 수\n",
    "\n",
    "- 역행렬 :\n",
    "    - 임의의 행렬 x에 대해서 곱했을 때 항등행렬이 되게 하는 행렬\n"
   ]
  },
  {
   "cell_type": "code",
   "execution_count": 22,
   "id": "08c1f52a-903a-46a8-b0d9-c06f150109ff",
   "metadata": {
    "pycharm": {
     "name": "#%%\n"
    }
   },
   "outputs": [
    {
     "name": "stdout",
     "output_type": "stream",
     "text": [
      "[[11 22]\n",
      " [33 44]]\n"
     ]
    }
   ],
   "source": [
    "A = np.array([[1, 2],\n",
    "              [3, 4]])\n",
    "B = np.array([[10, 20],\n",
    "              [30, 40]])\n",
    "\n",
    "C = A + B\n",
    "\n",
    "print(C)"
   ]
  },
  {
   "cell_type": "code",
   "execution_count": 23,
   "id": "e8220aad-46f2-4a8c-9811-7dd310eea593",
   "metadata": {
    "pycharm": {
     "name": "#%%\n"
    }
   },
   "outputs": [
    {
     "name": "stdout",
     "output_type": "stream",
     "text": [
      "[[-2.   1. ]\n",
      " [ 1.5 -0.5]]\n",
      "[[-2.   1. ]\n",
      " [ 1.5 -0.5]]\n",
      "[[ 70 100]\n",
      " [150 220]]\n"
     ]
    }
   ],
   "source": [
    "# 역행렬 ( linear_algorithm )\n",
    "# pinv는 역행렬이 구해지지 않는 행렬에 대해서\n",
    "# 유사 역행렬를 구하는 함수\n",
    "# A가 정방행렬이 아니라면 pinv를 사용\n",
    "\n",
    "print(np.linalg.inv(A))\n",
    "print(np.linalg.pinv(A))\n",
    "\n",
    "# 행렬곱\n",
    "D = np.matmul(A, B)\n",
    "print(D)"
   ]
  },
  {
   "cell_type": "code",
   "execution_count": 24,
   "id": "435a4a82-5804-4491-be8f-8295b40857f2",
   "metadata": {
    "pycharm": {
     "name": "#%%\n"
    }
   },
   "outputs": [
    {
     "name": "stdout",
     "output_type": "stream",
     "text": [
      "[-42.61904762]초 후 무게가 0이 됨\n"
     ]
    }
   ],
   "source": [
    "x = np.array([[10], [20], [30], [40]])\n",
    "# 행렬 x에 대해서, y 절편을 구하기 위해 각 차원에 요소로 1씩 추가해줌\n",
    "\n",
    "A = np.array([[10, 1],  [20,1 ], [30,1], [40, 1]])\n",
    "y = np.array([[71],  [45], [24], [8]])\n",
    "\n",
    "W = np.matmul(np.linalg.pinv(A), y)\n",
    "# 위 처럼 각 차원에 1씩 추가된 A의 역행렬과 y를 곱하면\n",
    "# x 1단위 당, y의 증가량이 나옴\n",
    "# 즉 가중치와 절편을 구할 수 있음.\n",
    "# 행렬 A를 풀어쓰자면 10x+1, 20x+1, 30x+1, 40x+1 이기 때문.\n",
    "# W[0]이 상수항(b)가 되고, W[1]이 가중치(w)가 됨.\n",
    "\n",
    "print(f\"{W[1]/W[0]}초 후 무게가 0이 됨\")\n",
    "\n",
    "\n",
    "# W는 linear_regression에서 coefficiency 라고 함. coef.\n",
    "# W = 계수 = 기울기 = 가중치(weight) = 독립변수 수만큼 존재\n",
    "# b = 편향 = y절편 = bias(b) = 상수항"
   ]
  },
  {
   "cell_type": "markdown",
   "id": "40ac2f20-4d65-4774-af83-67ee0f5efad5",
   "metadata": {
    "pycharm": {
     "name": "#%% md\n"
    }
   },
   "source": [
    "- sklearn의 선형회귀\n",
    "    - x의 역행렬을 구한 다음, y와 곱하는 과정을 간편화\n",
    "    - model.fit(x, y) -> model.predict(x_pred)\n",
    "    - model.coef_ : 기울기 혹은 가중치(w)와 같음\n",
    "    - model.intercept_ : 절편(b)과 같음"
   ]
  },
  {
   "cell_type": "markdown",
   "id": "5af7c9d5-2861-4ab0-8002-d3931b81e9d2",
   "metadata": {
    "pycharm": {
     "name": "#%% md\n"
    }
   },
   "source": [
    "- 모델 평가 지수\n",
    "    - MAE (Mean Absolute Error) : 평균 절대 오차\n",
    "    - MSE (Mean Square Error) : 평균 제곱 오차\n",
    "    - RMSE (Root Mean Square Error) : 평균 제곱근 오차\n",
    "    \n",
    "- MAE는 값의 범위를 줄이는 데에 더 유용함\n",
    "\n",
    "- p : predict 값 (예측값)\n",
    "- y : 실제값\n",
    "- abs(p-y) : 절대 오차\n",
    "- mean(abs(p-y)) : 평균 절대 오차\n",
    "- mean(abs(p-y)\\*\\*2) : 평균 제곱 오차\n",
    "- sqrt(mean(abs(p-y)\\*\\*2) : 평균 제곱근 오차\n",
    "\n",
    "\n"
   ]
  },
  {
   "cell_type": "markdown",
   "id": "44618d7b-9a16-4208-897c-a32405067d46",
   "metadata": {
    "tags": [],
    "pycharm": {
     "name": "#%% md\n"
    }
   },
   "source": [
    "### 택시 요금 비교"
   ]
  },
  {
   "cell_type": "markdown",
   "id": "29471276-5d78-467f-acd4-fda92abef353",
   "metadata": {
    "pycharm": {
     "name": "#%% md\n"
    }
   },
   "source": [
    "- 1, 2, 3, 4 km\n",
    "- A 회사 : 5000, 7000, 8400, 10500\n",
    "- B 회사 : 3100, 5400, 7900, 10900\n",
    "- 9km갈 때 어떤 회사가 더 좋을까?\n",
    "1. 각 회사별로 택시 요금을 모델링하여 비교하세요\n",
    "2. 두 회사의 비용 차이가 0이 되는 거리를 도출하세요"
   ]
  },
  {
   "cell_type": "code",
   "execution_count": 30,
   "id": "862392ad-771c-426d-90b4-e1fe569ad5cf",
   "metadata": {
    "pycharm": {
     "name": "#%%\n"
    }
   },
   "outputs": [
    {
     "name": "stdout",
     "output_type": "stream",
     "text": [
      "a회사 9km 예상 요금 : [19360.]\n",
      "b회사 9km 예상 요금 : [23660.]\n",
      "a_W : [1790.]\n",
      "a_b : 3249.999999999999\n",
      "b_W : [2590.]\n",
      "b_b : 349.9999999999991\n"
     ]
    }
   ],
   "source": [
    "model_A = LinearRegression()\n",
    "model_B = LinearRegression()\n",
    "\n",
    "x = np.array([[1], [2], [3], [4]])\n",
    "y_a = np.array([5000, 7000, 8400, 10500])\n",
    "y_b = np.array([3100, 5400, 7900, 10900])\n",
    "\n",
    "model_A.fit(x, y_a)\n",
    "model_B.fit(x, y_b)\n",
    "\n",
    "pred_a = model_A.predict([[9]])\n",
    "pred_b = model_B.predict([[9]])\n",
    "\n",
    "print('a회사 9km 예상 요금 :', pred_a)\n",
    "print('b회사 9km 예상 요금 :', pred_b)\n",
    "\n",
    "print('a_W :', model_A.coef_)\n",
    "print('a_b :', model_A.intercept_)\n",
    "\n",
    "print('b_W :', model_B.coef_)\n",
    "print('b_b :', model_B.intercept_)"
   ]
  },
  {
   "cell_type": "code",
   "execution_count": 32,
   "id": "55759a21-4ccc-47e7-804d-fbd2a96ee96b",
   "metadata": {
    "pycharm": {
     "name": "#%%\n"
    }
   },
   "outputs": [
    {
     "name": "stdout",
     "output_type": "stream",
     "text": [
      "a-b간 pred가 같아지는 거리: 3.625\n"
     ]
    }
   ],
   "source": [
    "# 위에서 도출한 각 모델의 w, b값에 대한 정의를 통해\n",
    "# 두 값이 서로 0이 되는 지점을 계산할 수 있음\n",
    "\n",
    "point = (3250 - 350) / (2590 - 1790)\n",
    "print('a-b간 pred가 같아지는 거리:', point)\n",
    "# 1790x + 3250 = 2590x + 350 되는 지점을 도출하기 위해 식 변환\n",
    "# (a_b - b_b) / (b_w - a_w)"
   ]
  },
  {
   "cell_type": "markdown",
   "id": "765d42ab-4b4a-41b0-ae2f-50ea50f07a6d",
   "metadata": {
    "pycharm": {
     "name": "#%% md\n"
    }
   },
   "source": [
    "- 실제로 식에 값을 대입해보면 predict 결과와 똑같이 나옴\n",
    "    - y_pred = w7 + b\n",
    "     - y_pred = int(model_A.coef_) * 7 + int(model_A.intercept_)\n",
    "     - y_pred = model.predict([[7]])"
   ]
  },
  {
   "cell_type": "code",
   "execution_count": null,
   "id": "0663a695-c6d1-4197-8f7f-7efc2355849b",
   "metadata": {
    "pycharm": {
     "name": "#%%\n"
    }
   },
   "outputs": [],
   "source": []
  }
 ],
 "metadata": {
  "kernelspec": {
   "display_name": "Python 3 (ipykernel)",
   "language": "python",
   "name": "python3"
  },
  "language_info": {
   "codemirror_mode": {
    "name": "ipython",
    "version": 3
   },
   "file_extension": ".py",
   "mimetype": "text/x-python",
   "name": "python",
   "nbconvert_exporter": "python",
   "pygments_lexer": "ipython3",
   "version": "3.9.13"
  }
 },
 "nbformat": 4,
 "nbformat_minor": 5
}