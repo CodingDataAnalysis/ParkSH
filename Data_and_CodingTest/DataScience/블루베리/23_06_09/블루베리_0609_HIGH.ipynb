{
 "cells": [
  {
   "cell_type": "code",
   "execution_count": 1,
   "metadata": {
    "collapsed": true,
    "pycharm": {
     "name": "#%%\n"
    }
   },
   "outputs": [],
   "source": [
    "# This Python 3 environment comes with many helpful analytics libraries installed\n",
    "# It is defined by the kaggle/python Docker image: https://github.com/kaggle/docker-python\n",
    "# For example, here's several helpful packages to load\n",
    "\n",
    "import numpy as np # linear algebra\n",
    "import pandas as pd # data processing, CSV file I/O (e.g. pd.read_csv)\n",
    "\n",
    "# Input data files are available in the read-only \"../input/\" directory\n",
    "# For example, running this (by clicking run or pressing Shift+Enter) will list all files under the input directory\n",
    "\n",
    "import os\n",
    "for dirname, _, filenames in os.walk('/kaggle/input'):\n",
    "    for filename in filenames:\n",
    "        print(os.path.join(dirname, filename))\n",
    "\n",
    "# You can write up to 20GB to the current directory (/kaggle/working/) that gets preserved as output when you create a version using \"Save & Run All\"\n",
    "# You can also write temporary files to /kaggle/temp/, but they won't be saved outside of the current session"
   ]
  },
  {
   "cell_type": "code",
   "execution_count": 2,
   "outputs": [],
   "source": [
    "import seaborn as sns"
   ],
   "metadata": {
    "collapsed": false,
    "pycharm": {
     "name": "#%%\n"
    }
   }
  },
  {
   "cell_type": "code",
   "execution_count": 3,
   "outputs": [],
   "source": [
    "from sklearn.model_selection import train_test_split\n",
    "from catboost import CatBoostRegressor\n",
    "from lightgbm import LGBMRegressor\n",
    "from sklearn.ensemble import VotingRegressor\n",
    "from sklearn.metrics import mean_squared_error\n",
    "from sklearn.linear_model import Lasso"
   ],
   "metadata": {
    "collapsed": false,
    "pycharm": {
     "name": "#%%\n"
    }
   }
  },
  {
   "cell_type": "code",
   "execution_count": 32,
   "outputs": [],
   "source": [
    "import pandas as pd\n",
    "\n",
    "data_path = '../blue_berry/'\n",
    "\n",
    "train = pd.read_csv(data_path + 'train.csv' , index_col = 'id')\n",
    "test = pd.read_csv(data_path + 'test.csv' , index_col = 'id')\n",
    "submission = pd.read_csv(data_path + 'sample_submission.csv' , index_col= 'id')"
   ],
   "metadata": {
    "collapsed": false,
    "pycharm": {
     "name": "#%%\n"
    }
   }
  },
  {
   "cell_type": "code",
   "execution_count": 33,
   "outputs": [
    {
     "data": {
      "text/plain": "                 yield\nclonesize             \n10.0       5423.544958\n12.5       6569.209692\n20.0       5349.923696\n25.0       5646.255505\n37.5       4192.967774\n40.0       4003.271060",
      "text/html": "<div>\n<style scoped>\n    .dataframe tbody tr th:only-of-type {\n        vertical-align: middle;\n    }\n\n    .dataframe tbody tr th {\n        vertical-align: top;\n    }\n\n    .dataframe thead th {\n        text-align: right;\n    }\n</style>\n<table border=\"1\" class=\"dataframe\">\n  <thead>\n    <tr style=\"text-align: right;\">\n      <th></th>\n      <th>yield</th>\n    </tr>\n    <tr>\n      <th>clonesize</th>\n      <th></th>\n    </tr>\n  </thead>\n  <tbody>\n    <tr>\n      <th>10.0</th>\n      <td>5423.544958</td>\n    </tr>\n    <tr>\n      <th>12.5</th>\n      <td>6569.209692</td>\n    </tr>\n    <tr>\n      <th>20.0</th>\n      <td>5349.923696</td>\n    </tr>\n    <tr>\n      <th>25.0</th>\n      <td>5646.255505</td>\n    </tr>\n    <tr>\n      <th>37.5</th>\n      <td>4192.967774</td>\n    </tr>\n    <tr>\n      <th>40.0</th>\n      <td>4003.271060</td>\n    </tr>\n  </tbody>\n</table>\n</div>"
     },
     "execution_count": 33,
     "metadata": {},
     "output_type": "execute_result"
    }
   ],
   "source": [
    "train[['clonesize','yield']].groupby('clonesize').mean()"
   ],
   "metadata": {
    "collapsed": false,
    "pycharm": {
     "name": "#%%\n"
    }
   }
  },
  {
   "cell_type": "code",
   "execution_count": 34,
   "outputs": [
    {
     "data": {
      "text/plain": "                      clonesize  honeybee   bumbles   andrena     osmia  \\\nclonesize              1.000000  0.304130  0.080433  0.065131 -0.007607   \nhoneybee               0.304130  1.000000 -0.017937  0.030671 -0.010394   \nbumbles                0.080433 -0.017937  1.000000 -0.164962  0.158001   \nandrena                0.065131  0.030671 -0.164962  1.000000  0.309556   \nosmia                 -0.007607 -0.010394  0.158001  0.309556  1.000000   \nMaxOfUpperTRange       0.016159  0.005840 -0.002104 -0.013061 -0.031391   \nMinOfUpperTRange       0.015838  0.005755 -0.001813 -0.012928 -0.030819   \nAverageOfUpperTRange   0.016057  0.005892 -0.001769 -0.012993 -0.031415   \nMaxOfLowerTRange       0.016343  0.005942 -0.001613 -0.012924 -0.031398   \nMinOfLowerTRange       0.016026  0.005809 -0.001804 -0.013035 -0.031486   \nAverageOfLowerTRange   0.015987  0.005485 -0.001644 -0.013071 -0.031337   \nRainingDays            0.165770  0.046494 -0.063294 -0.026572 -0.079874   \nAverageRainingDays     0.164823  0.037532 -0.060232 -0.027193 -0.078720   \nfruitset              -0.406793 -0.120492  0.160447  0.073669  0.209495   \nfruitmass             -0.377688 -0.135310  0.163987  0.064722  0.192210   \nseeds                 -0.396898 -0.139261  0.177022  0.063504  0.200597   \nyield                 -0.382619 -0.118001  0.161145  0.073969  0.198264   \n\n                      MaxOfUpperTRange  MinOfUpperTRange  \\\nclonesize                     0.016159          0.015838   \nhoneybee                      0.005840          0.005755   \nbumbles                      -0.002104         -0.001813   \nandrena                      -0.013061         -0.012928   \nosmia                        -0.031391         -0.030819   \nMaxOfUpperTRange              1.000000          0.998599   \nMinOfUpperTRange              0.998599          1.000000   \nAverageOfUpperTRange          0.999806          0.999004   \nMaxOfLowerTRange              0.999503          0.998199   \nMinOfLowerTRange              0.999829          0.998953   \nAverageOfLowerTRange          0.999772          0.999040   \nRainingDays                   0.011322          0.011727   \nAverageRainingDays            0.010352          0.010767   \nfruitset                      0.007580          0.008409   \nfruitmass                     0.146237          0.147203   \nseeds                         0.060963          0.061812   \nyield                        -0.022517         -0.021929   \n\n                      AverageOfUpperTRange  MaxOfLowerTRange  \\\nclonesize                         0.016057          0.016343   \nhoneybee                          0.005892          0.005942   \nbumbles                          -0.001769         -0.001613   \nandrena                          -0.012993         -0.012924   \nosmia                            -0.031415         -0.031398   \nMaxOfUpperTRange                  0.999806          0.999503   \nMinOfUpperTRange                  0.999004          0.998199   \nAverageOfUpperTRange              1.000000          0.999465   \nMaxOfLowerTRange                  0.999465          1.000000   \nMinOfLowerTRange                  0.999973          0.999489   \nAverageOfLowerTRange              0.999974          0.999423   \nRainingDays                       0.011245          0.011302   \nAverageRainingDays                0.010260          0.010262   \nfruitset                          0.008503          0.007902   \nfruitmass                         0.147676          0.146668   \nseeds                             0.062082          0.061378   \nyield                            -0.021940         -0.022197   \n\n                      MinOfLowerTRange  AverageOfLowerTRange  RainingDays  \\\nclonesize                     0.016026              0.015987     0.165770   \nhoneybee                      0.005809              0.005485     0.046494   \nbumbles                      -0.001804             -0.001644    -0.063294   \nandrena                      -0.013035             -0.013071    -0.026572   \nosmia                        -0.031486             -0.031337    -0.079874   \nMaxOfUpperTRange              0.999829              0.999772     0.011322   \nMinOfUpperTRange              0.998953              0.999040     0.011727   \nAverageOfUpperTRange          0.999973              0.999974     0.011245   \nMaxOfLowerTRange              0.999489              0.999423     0.011302   \nMinOfLowerTRange              1.000000              0.999963     0.011466   \nAverageOfLowerTRange          0.999963              1.000000     0.011334   \nRainingDays                   0.011466              0.011334     1.000000   \nAverageRainingDays            0.010479              0.010355     0.990864   \nfruitset                      0.007909              0.008329    -0.468066   \nfruitmass                     0.146704              0.147363    -0.447033   \nseeds                         0.061360              0.061853    -0.478818   \nyield                        -0.022319             -0.022081    -0.477191   \n\n                      AverageRainingDays  fruitset  fruitmass     seeds  \\\nclonesize                       0.164823 -0.406793  -0.377688 -0.396898   \nhoneybee                        0.037532 -0.120492  -0.135310 -0.139261   \nbumbles                        -0.060232  0.160447   0.163987  0.177022   \nandrena                        -0.027193  0.073669   0.064722  0.063504   \nosmia                          -0.078720  0.209495   0.192210  0.200597   \nMaxOfUpperTRange                0.010352  0.007580   0.146237  0.060963   \nMinOfUpperTRange                0.010767  0.008409   0.147203  0.061812   \nAverageOfUpperTRange            0.010260  0.008503   0.147676  0.062082   \nMaxOfLowerTRange                0.010262  0.007902   0.146668  0.061378   \nMinOfLowerTRange                0.010479  0.007909   0.146704  0.061360   \nAverageOfLowerTRange            0.010355  0.008329   0.147363  0.061853   \nRainingDays                     0.990864 -0.468066  -0.447033 -0.478818   \nAverageRainingDays              1.000000 -0.475876  -0.452870 -0.484439   \nfruitset                       -0.475876  1.000000   0.936988  0.929654   \nfruitmass                      -0.452870  0.936988   1.000000  0.931646   \nseeds                          -0.484439  0.929654   0.931646  1.000000   \nyield                          -0.483870  0.885967   0.826481  0.868853   \n\n                         yield  \nclonesize            -0.382619  \nhoneybee             -0.118001  \nbumbles               0.161145  \nandrena               0.073969  \nosmia                 0.198264  \nMaxOfUpperTRange     -0.022517  \nMinOfUpperTRange     -0.021929  \nAverageOfUpperTRange -0.021940  \nMaxOfLowerTRange     -0.022197  \nMinOfLowerTRange     -0.022319  \nAverageOfLowerTRange -0.022081  \nRainingDays          -0.477191  \nAverageRainingDays   -0.483870  \nfruitset              0.885967  \nfruitmass             0.826481  \nseeds                 0.868853  \nyield                 1.000000  ",
      "text/html": "<div>\n<style scoped>\n    .dataframe tbody tr th:only-of-type {\n        vertical-align: middle;\n    }\n\n    .dataframe tbody tr th {\n        vertical-align: top;\n    }\n\n    .dataframe thead th {\n        text-align: right;\n    }\n</style>\n<table border=\"1\" class=\"dataframe\">\n  <thead>\n    <tr style=\"text-align: right;\">\n      <th></th>\n      <th>clonesize</th>\n      <th>honeybee</th>\n      <th>bumbles</th>\n      <th>andrena</th>\n      <th>osmia</th>\n      <th>MaxOfUpperTRange</th>\n      <th>MinOfUpperTRange</th>\n      <th>AverageOfUpperTRange</th>\n      <th>MaxOfLowerTRange</th>\n      <th>MinOfLowerTRange</th>\n      <th>AverageOfLowerTRange</th>\n      <th>RainingDays</th>\n      <th>AverageRainingDays</th>\n      <th>fruitset</th>\n      <th>fruitmass</th>\n      <th>seeds</th>\n      <th>yield</th>\n    </tr>\n  </thead>\n  <tbody>\n    <tr>\n      <th>clonesize</th>\n      <td>1.000000</td>\n      <td>0.304130</td>\n      <td>0.080433</td>\n      <td>0.065131</td>\n      <td>-0.007607</td>\n      <td>0.016159</td>\n      <td>0.015838</td>\n      <td>0.016057</td>\n      <td>0.016343</td>\n      <td>0.016026</td>\n      <td>0.015987</td>\n      <td>0.165770</td>\n      <td>0.164823</td>\n      <td>-0.406793</td>\n      <td>-0.377688</td>\n      <td>-0.396898</td>\n      <td>-0.382619</td>\n    </tr>\n    <tr>\n      <th>honeybee</th>\n      <td>0.304130</td>\n      <td>1.000000</td>\n      <td>-0.017937</td>\n      <td>0.030671</td>\n      <td>-0.010394</td>\n      <td>0.005840</td>\n      <td>0.005755</td>\n      <td>0.005892</td>\n      <td>0.005942</td>\n      <td>0.005809</td>\n      <td>0.005485</td>\n      <td>0.046494</td>\n      <td>0.037532</td>\n      <td>-0.120492</td>\n      <td>-0.135310</td>\n      <td>-0.139261</td>\n      <td>-0.118001</td>\n    </tr>\n    <tr>\n      <th>bumbles</th>\n      <td>0.080433</td>\n      <td>-0.017937</td>\n      <td>1.000000</td>\n      <td>-0.164962</td>\n      <td>0.158001</td>\n      <td>-0.002104</td>\n      <td>-0.001813</td>\n      <td>-0.001769</td>\n      <td>-0.001613</td>\n      <td>-0.001804</td>\n      <td>-0.001644</td>\n      <td>-0.063294</td>\n      <td>-0.060232</td>\n      <td>0.160447</td>\n      <td>0.163987</td>\n      <td>0.177022</td>\n      <td>0.161145</td>\n    </tr>\n    <tr>\n      <th>andrena</th>\n      <td>0.065131</td>\n      <td>0.030671</td>\n      <td>-0.164962</td>\n      <td>1.000000</td>\n      <td>0.309556</td>\n      <td>-0.013061</td>\n      <td>-0.012928</td>\n      <td>-0.012993</td>\n      <td>-0.012924</td>\n      <td>-0.013035</td>\n      <td>-0.013071</td>\n      <td>-0.026572</td>\n      <td>-0.027193</td>\n      <td>0.073669</td>\n      <td>0.064722</td>\n      <td>0.063504</td>\n      <td>0.073969</td>\n    </tr>\n    <tr>\n      <th>osmia</th>\n      <td>-0.007607</td>\n      <td>-0.010394</td>\n      <td>0.158001</td>\n      <td>0.309556</td>\n      <td>1.000000</td>\n      <td>-0.031391</td>\n      <td>-0.030819</td>\n      <td>-0.031415</td>\n      <td>-0.031398</td>\n      <td>-0.031486</td>\n      <td>-0.031337</td>\n      <td>-0.079874</td>\n      <td>-0.078720</td>\n      <td>0.209495</td>\n      <td>0.192210</td>\n      <td>0.200597</td>\n      <td>0.198264</td>\n    </tr>\n    <tr>\n      <th>MaxOfUpperTRange</th>\n      <td>0.016159</td>\n      <td>0.005840</td>\n      <td>-0.002104</td>\n      <td>-0.013061</td>\n      <td>-0.031391</td>\n      <td>1.000000</td>\n      <td>0.998599</td>\n      <td>0.999806</td>\n      <td>0.999503</td>\n      <td>0.999829</td>\n      <td>0.999772</td>\n      <td>0.011322</td>\n      <td>0.010352</td>\n      <td>0.007580</td>\n      <td>0.146237</td>\n      <td>0.060963</td>\n      <td>-0.022517</td>\n    </tr>\n    <tr>\n      <th>MinOfUpperTRange</th>\n      <td>0.015838</td>\n      <td>0.005755</td>\n      <td>-0.001813</td>\n      <td>-0.012928</td>\n      <td>-0.030819</td>\n      <td>0.998599</td>\n      <td>1.000000</td>\n      <td>0.999004</td>\n      <td>0.998199</td>\n      <td>0.998953</td>\n      <td>0.999040</td>\n      <td>0.011727</td>\n      <td>0.010767</td>\n      <td>0.008409</td>\n      <td>0.147203</td>\n      <td>0.061812</td>\n      <td>-0.021929</td>\n    </tr>\n    <tr>\n      <th>AverageOfUpperTRange</th>\n      <td>0.016057</td>\n      <td>0.005892</td>\n      <td>-0.001769</td>\n      <td>-0.012993</td>\n      <td>-0.031415</td>\n      <td>0.999806</td>\n      <td>0.999004</td>\n      <td>1.000000</td>\n      <td>0.999465</td>\n      <td>0.999973</td>\n      <td>0.999974</td>\n      <td>0.011245</td>\n      <td>0.010260</td>\n      <td>0.008503</td>\n      <td>0.147676</td>\n      <td>0.062082</td>\n      <td>-0.021940</td>\n    </tr>\n    <tr>\n      <th>MaxOfLowerTRange</th>\n      <td>0.016343</td>\n      <td>0.005942</td>\n      <td>-0.001613</td>\n      <td>-0.012924</td>\n      <td>-0.031398</td>\n      <td>0.999503</td>\n      <td>0.998199</td>\n      <td>0.999465</td>\n      <td>1.000000</td>\n      <td>0.999489</td>\n      <td>0.999423</td>\n      <td>0.011302</td>\n      <td>0.010262</td>\n      <td>0.007902</td>\n      <td>0.146668</td>\n      <td>0.061378</td>\n      <td>-0.022197</td>\n    </tr>\n    <tr>\n      <th>MinOfLowerTRange</th>\n      <td>0.016026</td>\n      <td>0.005809</td>\n      <td>-0.001804</td>\n      <td>-0.013035</td>\n      <td>-0.031486</td>\n      <td>0.999829</td>\n      <td>0.998953</td>\n      <td>0.999973</td>\n      <td>0.999489</td>\n      <td>1.000000</td>\n      <td>0.999963</td>\n      <td>0.011466</td>\n      <td>0.010479</td>\n      <td>0.007909</td>\n      <td>0.146704</td>\n      <td>0.061360</td>\n      <td>-0.022319</td>\n    </tr>\n    <tr>\n      <th>AverageOfLowerTRange</th>\n      <td>0.015987</td>\n      <td>0.005485</td>\n      <td>-0.001644</td>\n      <td>-0.013071</td>\n      <td>-0.031337</td>\n      <td>0.999772</td>\n      <td>0.999040</td>\n      <td>0.999974</td>\n      <td>0.999423</td>\n      <td>0.999963</td>\n      <td>1.000000</td>\n      <td>0.011334</td>\n      <td>0.010355</td>\n      <td>0.008329</td>\n      <td>0.147363</td>\n      <td>0.061853</td>\n      <td>-0.022081</td>\n    </tr>\n    <tr>\n      <th>RainingDays</th>\n      <td>0.165770</td>\n      <td>0.046494</td>\n      <td>-0.063294</td>\n      <td>-0.026572</td>\n      <td>-0.079874</td>\n      <td>0.011322</td>\n      <td>0.011727</td>\n      <td>0.011245</td>\n      <td>0.011302</td>\n      <td>0.011466</td>\n      <td>0.011334</td>\n      <td>1.000000</td>\n      <td>0.990864</td>\n      <td>-0.468066</td>\n      <td>-0.447033</td>\n      <td>-0.478818</td>\n      <td>-0.477191</td>\n    </tr>\n    <tr>\n      <th>AverageRainingDays</th>\n      <td>0.164823</td>\n      <td>0.037532</td>\n      <td>-0.060232</td>\n      <td>-0.027193</td>\n      <td>-0.078720</td>\n      <td>0.010352</td>\n      <td>0.010767</td>\n      <td>0.010260</td>\n      <td>0.010262</td>\n      <td>0.010479</td>\n      <td>0.010355</td>\n      <td>0.990864</td>\n      <td>1.000000</td>\n      <td>-0.475876</td>\n      <td>-0.452870</td>\n      <td>-0.484439</td>\n      <td>-0.483870</td>\n    </tr>\n    <tr>\n      <th>fruitset</th>\n      <td>-0.406793</td>\n      <td>-0.120492</td>\n      <td>0.160447</td>\n      <td>0.073669</td>\n      <td>0.209495</td>\n      <td>0.007580</td>\n      <td>0.008409</td>\n      <td>0.008503</td>\n      <td>0.007902</td>\n      <td>0.007909</td>\n      <td>0.008329</td>\n      <td>-0.468066</td>\n      <td>-0.475876</td>\n      <td>1.000000</td>\n      <td>0.936988</td>\n      <td>0.929654</td>\n      <td>0.885967</td>\n    </tr>\n    <tr>\n      <th>fruitmass</th>\n      <td>-0.377688</td>\n      <td>-0.135310</td>\n      <td>0.163987</td>\n      <td>0.064722</td>\n      <td>0.192210</td>\n      <td>0.146237</td>\n      <td>0.147203</td>\n      <td>0.147676</td>\n      <td>0.146668</td>\n      <td>0.146704</td>\n      <td>0.147363</td>\n      <td>-0.447033</td>\n      <td>-0.452870</td>\n      <td>0.936988</td>\n      <td>1.000000</td>\n      <td>0.931646</td>\n      <td>0.826481</td>\n    </tr>\n    <tr>\n      <th>seeds</th>\n      <td>-0.396898</td>\n      <td>-0.139261</td>\n      <td>0.177022</td>\n      <td>0.063504</td>\n      <td>0.200597</td>\n      <td>0.060963</td>\n      <td>0.061812</td>\n      <td>0.062082</td>\n      <td>0.061378</td>\n      <td>0.061360</td>\n      <td>0.061853</td>\n      <td>-0.478818</td>\n      <td>-0.484439</td>\n      <td>0.929654</td>\n      <td>0.931646</td>\n      <td>1.000000</td>\n      <td>0.868853</td>\n    </tr>\n    <tr>\n      <th>yield</th>\n      <td>-0.382619</td>\n      <td>-0.118001</td>\n      <td>0.161145</td>\n      <td>0.073969</td>\n      <td>0.198264</td>\n      <td>-0.022517</td>\n      <td>-0.021929</td>\n      <td>-0.021940</td>\n      <td>-0.022197</td>\n      <td>-0.022319</td>\n      <td>-0.022081</td>\n      <td>-0.477191</td>\n      <td>-0.483870</td>\n      <td>0.885967</td>\n      <td>0.826481</td>\n      <td>0.868853</td>\n      <td>1.000000</td>\n    </tr>\n  </tbody>\n</table>\n</div>"
     },
     "execution_count": 34,
     "metadata": {},
     "output_type": "execute_result"
    }
   ],
   "source": [
    "train.corr()"
   ],
   "metadata": {
    "collapsed": false,
    "pycharm": {
     "name": "#%%\n"
    }
   }
  },
  {
   "cell_type": "code",
   "execution_count": 35,
   "outputs": [
    {
     "data": {
      "text/plain": "clonesize              -0.382619\nhoneybee               -0.118001\nbumbles                 0.161145\nandrena                 0.073969\nosmia                   0.198264\nMaxOfUpperTRange       -0.022517\nMinOfUpperTRange       -0.021929\nAverageOfUpperTRange   -0.021940\nMaxOfLowerTRange       -0.022197\nMinOfLowerTRange       -0.022319\nAverageOfLowerTRange   -0.022081\nRainingDays            -0.477191\nAverageRainingDays     -0.483870\nfruitset                0.885967\nfruitmass               0.826481\nseeds                   0.868853\nyield                   1.000000\nName: yield, dtype: float64"
     },
     "execution_count": 35,
     "metadata": {},
     "output_type": "execute_result"
    }
   ],
   "source": [
    "train.corr()['yield']"
   ],
   "metadata": {
    "collapsed": false,
    "pycharm": {
     "name": "#%%\n"
    }
   }
  },
  {
   "cell_type": "code",
   "execution_count": 36,
   "outputs": [],
   "source": [
    "# df.drop(columns = ['MinOfUpperTRange','AverageOfUpperTRange','MaxOfLowerTRange','MinOfLowerTRange','AverageOfLowerTRange','RainingDays','fruitmass','seeds'],inplace=True)\n",
    "# test.drop(columns = ['MinOfUpperTRange','AverageOfUpperTRange','MaxOfLowerTRange','MinOfLowerTRange','AverageOfLowerTRange','RainingDays','fruitmass','seeds'],inplace=True)\n",
    "# # 'MinOfUpperTRange', 'AverageOfUpperTRange', 'AverageOfLowerTRange', 'MaxOfUpperTRange', 'MaxOfLowerTRange'\n",
    "train.drop(columns = ['MinOfUpperTRange', 'AverageOfUpperTRange', 'AverageOfLowerTRange', 'MaxOfUpperTRange', 'MaxOfLowerTRange','AverageRainingDays'],inplace=True)\n",
    "test.drop(columns = ['MinOfUpperTRange', 'AverageOfUpperTRange', 'AverageOfLowerTRange', 'MaxOfUpperTRange', 'MaxOfLowerTRange','AverageRainingDays'],inplace=True)"
   ],
   "metadata": {
    "collapsed": false,
    "pycharm": {
     "name": "#%%\n"
    }
   }
  },
  {
   "cell_type": "code",
   "execution_count": 37,
   "outputs": [
    {
     "name": "stderr",
     "output_type": "stream",
     "text": [
      "C:\\Users\\andyp\\anaconda3\\lib\\site-packages\\seaborn\\_decorators.py:36: FutureWarning: Pass the following variable as a keyword arg: x. From version 0.12, the only valid positional argument will be `data`, and passing other arguments without an explicit keyword will result in an error or misinterpretation.\n",
      "  warnings.warn(\n"
     ]
    },
    {
     "data": {
      "text/plain": "<matplotlib.axes._subplots.AxesSubplot at 0x1ff8d9b8a60>"
     },
     "execution_count": 37,
     "metadata": {},
     "output_type": "execute_result"
    },
    {
     "data": {
      "text/plain": "<Figure size 432x288 with 1 Axes>",
      "image/png": "[encoded data removed]"
     },
     "metadata": {},
     "output_type": "display_data"
    }
   ],
   "source": [
    "sns.boxplot(train['seeds'])"
   ],
   "metadata": {
    "collapsed": false,
    "pycharm": {
     "name": "#%%\n"
    }
   }
  },
  {
   "cell_type": "code",
   "execution_count": 38,
   "outputs": [
    {
     "data": {
      "text/plain": "                  clonesize  honeybee   bumbles   andrena     osmia  \\\nclonesize          1.000000  0.716426  0.080489  0.065350 -0.007607   \nhoneybee           0.716426  1.000000  0.081718  0.148675  0.107056   \nbumbles            0.080489  0.081718  1.000000 -0.166788  0.157285   \nandrena            0.065350  0.148675 -0.166788  1.000000  0.308767   \nosmia             -0.007607  0.107056  0.157285  0.308767  1.000000   \nMinOfLowerTRange   0.016026  0.012011 -0.001781 -0.012942 -0.031486   \nRainingDays        0.165770  0.111050 -0.063651 -0.026699 -0.079874   \nfruitset          -0.406793 -0.254683  0.160612  0.073457  0.209495   \nfruitmass         -0.377688 -0.253994  0.163565  0.064192  0.192210   \nseeds             -0.396898 -0.267445  0.176652  0.062956  0.200597   \nyield             -0.382619 -0.243630  0.161484  0.073816  0.198264   \n\n                  MinOfLowerTRange  RainingDays  fruitset  fruitmass  \\\nclonesize                 0.016026     0.165770 -0.406793  -0.377688   \nhoneybee                  0.012011     0.111050 -0.254683  -0.253994   \nbumbles                  -0.001781    -0.063651  0.160612   0.163565   \nandrena                  -0.012942    -0.026699  0.073457   0.064192   \nosmia                    -0.031486    -0.079874  0.209495   0.192210   \nMinOfLowerTRange          1.000000     0.011466  0.007909   0.146704   \nRainingDays               0.011466     1.000000 -0.468066  -0.447033   \nfruitset                  0.007909    -0.468066  1.000000   0.936988   \nfruitmass                 0.146704    -0.447033  0.936988   1.000000   \nseeds                     0.061360    -0.478818  0.929654   0.931646   \nyield                    -0.022319    -0.477191  0.885967   0.826481   \n\n                     seeds     yield  \nclonesize        -0.396898 -0.382619  \nhoneybee         -0.267445 -0.243630  \nbumbles           0.176652  0.161484  \nandrena           0.062956  0.073816  \nosmia             0.200597  0.198264  \nMinOfLowerTRange  0.061360 -0.022319  \nRainingDays      -0.478818 -0.477191  \nfruitset          0.929654  0.885967  \nfruitmass         0.931646  0.826481  \nseeds             1.000000  0.868853  \nyield             0.868853  1.000000  ",
      "text/html": "<div>\n<style scoped>\n    .dataframe tbody tr th:only-of-type {\n        vertical-align: middle;\n    }\n\n    .dataframe tbody tr th {\n        vertical-align: top;\n    }\n\n    .dataframe thead th {\n        text-align: right;\n    }\n</style>\n<table border=\"1\" class=\"dataframe\">\n  <thead>\n    <tr style=\"text-align: right;\">\n      <th></th>\n      <th>clonesize</th>\n      <th>honeybee</th>\n      <th>bumbles</th>\n      <th>andrena</th>\n      <th>osmia</th>\n      <th>MinOfLowerTRange</th>\n      <th>RainingDays</th>\n      <th>fruitset</th>\n      <th>fruitmass</th>\n      <th>seeds</th>\n      <th>yield</th>\n    </tr>\n  </thead>\n  <tbody>\n    <tr>\n      <th>clonesize</th>\n      <td>1.000000</td>\n      <td>0.716426</td>\n      <td>0.080489</td>\n      <td>0.065350</td>\n      <td>-0.007607</td>\n      <td>0.016026</td>\n      <td>0.165770</td>\n      <td>-0.406793</td>\n      <td>-0.377688</td>\n      <td>-0.396898</td>\n      <td>-0.382619</td>\n    </tr>\n    <tr>\n      <th>honeybee</th>\n      <td>0.716426</td>\n      <td>1.000000</td>\n      <td>0.081718</td>\n      <td>0.148675</td>\n      <td>0.107056</td>\n      <td>0.012011</td>\n      <td>0.111050</td>\n      <td>-0.254683</td>\n      <td>-0.253994</td>\n      <td>-0.267445</td>\n      <td>-0.243630</td>\n    </tr>\n    <tr>\n      <th>bumbles</th>\n      <td>0.080489</td>\n      <td>0.081718</td>\n      <td>1.000000</td>\n      <td>-0.166788</td>\n      <td>0.157285</td>\n      <td>-0.001781</td>\n      <td>-0.063651</td>\n      <td>0.160612</td>\n      <td>0.163565</td>\n      <td>0.176652</td>\n      <td>0.161484</td>\n    </tr>\n    <tr>\n      <th>andrena</th>\n      <td>0.065350</td>\n      <td>0.148675</td>\n      <td>-0.166788</td>\n      <td>1.000000</td>\n      <td>0.308767</td>\n      <td>-0.012942</td>\n      <td>-0.026699</td>\n      <td>0.073457</td>\n      <td>0.064192</td>\n      <td>0.062956</td>\n      <td>0.073816</td>\n    </tr>\n    <tr>\n      <th>osmia</th>\n      <td>-0.007607</td>\n      <td>0.107056</td>\n      <td>0.157285</td>\n      <td>0.308767</td>\n      <td>1.000000</td>\n      <td>-0.031486</td>\n      <td>-0.079874</td>\n      <td>0.209495</td>\n      <td>0.192210</td>\n      <td>0.200597</td>\n      <td>0.198264</td>\n    </tr>\n    <tr>\n      <th>MinOfLowerTRange</th>\n      <td>0.016026</td>\n      <td>0.012011</td>\n      <td>-0.001781</td>\n      <td>-0.012942</td>\n      <td>-0.031486</td>\n      <td>1.000000</td>\n      <td>0.011466</td>\n      <td>0.007909</td>\n      <td>0.146704</td>\n      <td>0.061360</td>\n      <td>-0.022319</td>\n    </tr>\n    <tr>\n      <th>RainingDays</th>\n      <td>0.165770</td>\n      <td>0.111050</td>\n      <td>-0.063651</td>\n      <td>-0.026699</td>\n      <td>-0.079874</td>\n      <td>0.011466</td>\n      <td>1.000000</td>\n      <td>-0.468066</td>\n      <td>-0.447033</td>\n      <td>-0.478818</td>\n      <td>-0.477191</td>\n    </tr>\n    <tr>\n      <th>fruitset</th>\n      <td>-0.406793</td>\n      <td>-0.254683</td>\n      <td>0.160612</td>\n      <td>0.073457</td>\n      <td>0.209495</td>\n      <td>0.007909</td>\n      <td>-0.468066</td>\n      <td>1.000000</td>\n      <td>0.936988</td>\n      <td>0.929654</td>\n      <td>0.885967</td>\n    </tr>\n    <tr>\n      <th>fruitmass</th>\n      <td>-0.377688</td>\n      <td>-0.253994</td>\n      <td>0.163565</td>\n      <td>0.064192</td>\n      <td>0.192210</td>\n      <td>0.146704</td>\n      <td>-0.447033</td>\n      <td>0.936988</td>\n      <td>1.000000</td>\n      <td>0.931646</td>\n      <td>0.826481</td>\n    </tr>\n    <tr>\n      <th>seeds</th>\n      <td>-0.396898</td>\n      <td>-0.267445</td>\n      <td>0.176652</td>\n      <td>0.062956</td>\n      <td>0.200597</td>\n      <td>0.061360</td>\n      <td>-0.478818</td>\n      <td>0.929654</td>\n      <td>0.931646</td>\n      <td>1.000000</td>\n      <td>0.868853</td>\n    </tr>\n    <tr>\n      <th>yield</th>\n      <td>-0.382619</td>\n      <td>-0.243630</td>\n      <td>0.161484</td>\n      <td>0.073816</td>\n      <td>0.198264</td>\n      <td>-0.022319</td>\n      <td>-0.477191</td>\n      <td>0.885967</td>\n      <td>0.826481</td>\n      <td>0.868853</td>\n      <td>1.000000</td>\n    </tr>\n  </tbody>\n</table>\n</div>"
     },
     "execution_count": 38,
     "metadata": {},
     "output_type": "execute_result"
    }
   ],
   "source": [
    "lower_limit = 0.06\n",
    "upper_limit = 0.55\n",
    "train['bumbles'] = train['bumbles'].apply(lambda x: lower_limit if x < lower_limit else upper_limit if x > upper_limit else x)\n",
    "lower_limit = 0.0\n",
    "upper_limit = 4.0\n",
    "train['honeybee'] = train['honeybee'].apply(lambda x: lower_limit if x < lower_limit else upper_limit if x > upper_limit else x)\n",
    "lower_limit = 0.1\n",
    "train['andrena'] = train['andrena'].apply(lambda x: lower_limit if x < lower_limit else x)\n",
    "# lower_limit = 0.2\n",
    "# df['osmia'] = df['osmia'].apply(lambda x: lower_limit if x < lower_limit else x)\n",
    "# lower_limit = 15\n",
    "# df['RainingDays'] = df['RainingDays'].apply(lambda x: lower_limit if x < lower_limit else x)\n",
    "# lower_limit = 0.08\n",
    "# df['AverageRainingDays'] = df['AverageRainingDays'].apply(lambda x: lower_limit if x < lower_limit else x)\n",
    "# lower_limit = 0.31\n",
    "# df['fruitset'] = df['fruitset'].apply(lambda x: lower_limit if x < lower_limit else x)\n",
    "# lower_limit = 0.34\n",
    "# df['fruitmass'] = df['fruitmass'].apply(lambda x: lower_limit if x < lower_limit else x)\n",
    "# lower_limit = 25\n",
    "# df['seeds'] = df['seeds'].apply(lambda x: lower_limit if x < lower_limit else x)\n",
    "train.corr()"
   ],
   "metadata": {
    "collapsed": false,
    "pycharm": {
     "name": "#%%\n"
    }
   }
  },
  {
   "cell_type": "code",
   "execution_count": 39,
   "outputs": [
    {
     "name": "stderr",
     "output_type": "stream",
     "text": [
      "C:\\Users\\andyp\\anaconda3\\lib\\site-packages\\seaborn\\_decorators.py:36: FutureWarning: Pass the following variable as a keyword arg: x. From version 0.12, the only valid positional argument will be `data`, and passing other arguments without an explicit keyword will result in an error or misinterpretation.\n",
      "  warnings.warn(\n"
     ]
    },
    {
     "data": {
      "text/plain": "<matplotlib.axes._subplots.AxesSubplot at 0x1ff8db05040>"
     },
     "execution_count": 39,
     "metadata": {},
     "output_type": "execute_result"
    },
    {
     "data": {
      "text/plain": "<Figure size 432x288 with 1 Axes>",
      "image/png": "[encoded data removed]"
     },
     "metadata": {},
     "output_type": "display_data"
    }
   ],
   "source": [
    "sns.boxplot(train['seeds'])"
   ],
   "metadata": {
    "collapsed": false,
    "pycharm": {
     "name": "#%%\n"
    }
   }
  },
  {
   "cell_type": "code",
   "execution_count": 40,
   "outputs": [
    {
     "data": {
      "text/plain": "                  clonesize  honeybee   bumbles   andrena     osmia  \\\nclonesize          1.000000  0.716426  0.080489  0.065350 -0.007607   \nhoneybee           0.716426  1.000000  0.081718  0.148675  0.107056   \nbumbles            0.080489  0.081718  1.000000 -0.166788  0.157285   \nandrena            0.065350  0.148675 -0.166788  1.000000  0.308767   \nosmia             -0.007607  0.107056  0.157285  0.308767  1.000000   \nMinOfLowerTRange   0.016026  0.012011 -0.001781 -0.012942 -0.031486   \nRainingDays        0.165770  0.111050 -0.063651 -0.026699 -0.079874   \nfruitset          -0.406793 -0.254683  0.160612  0.073457  0.209495   \nfruitmass         -0.377688 -0.253994  0.163565  0.064192  0.192210   \nseeds             -0.396898 -0.267445  0.176652  0.062956  0.200597   \nyield             -0.382619 -0.243630  0.161484  0.073816  0.198264   \n\n                  MinOfLowerTRange  RainingDays  fruitset  fruitmass  \\\nclonesize                 0.016026     0.165770 -0.406793  -0.377688   \nhoneybee                  0.012011     0.111050 -0.254683  -0.253994   \nbumbles                  -0.001781    -0.063651  0.160612   0.163565   \nandrena                  -0.012942    -0.026699  0.073457   0.064192   \nosmia                    -0.031486    -0.079874  0.209495   0.192210   \nMinOfLowerTRange          1.000000     0.011466  0.007909   0.146704   \nRainingDays               0.011466     1.000000 -0.468066  -0.447033   \nfruitset                  0.007909    -0.468066  1.000000   0.936988   \nfruitmass                 0.146704    -0.447033  0.936988   1.000000   \nseeds                     0.061360    -0.478818  0.929654   0.931646   \nyield                    -0.022319    -0.477191  0.885967   0.826481   \n\n                     seeds     yield  \nclonesize        -0.396898 -0.382619  \nhoneybee         -0.267445 -0.243630  \nbumbles           0.176652  0.161484  \nandrena           0.062956  0.073816  \nosmia             0.200597  0.198264  \nMinOfLowerTRange  0.061360 -0.022319  \nRainingDays      -0.478818 -0.477191  \nfruitset          0.929654  0.885967  \nfruitmass         0.931646  0.826481  \nseeds             1.000000  0.868853  \nyield             0.868853  1.000000  ",
      "text/html": "<div>\n<style scoped>\n    .dataframe tbody tr th:only-of-type {\n        vertical-align: middle;\n    }\n\n    .dataframe tbody tr th {\n        vertical-align: top;\n    }\n\n    .dataframe thead th {\n        text-align: right;\n    }\n</style>\n<table border=\"1\" class=\"dataframe\">\n  <thead>\n    <tr style=\"text-align: right;\">\n      <th></th>\n      <th>clonesize</th>\n      <th>honeybee</th>\n      <th>bumbles</th>\n      <th>andrena</th>\n      <th>osmia</th>\n      <th>MinOfLowerTRange</th>\n      <th>RainingDays</th>\n      <th>fruitset</th>\n      <th>fruitmass</th>\n      <th>seeds</th>\n      <th>yield</th>\n    </tr>\n  </thead>\n  <tbody>\n    <tr>\n      <th>clonesize</th>\n      <td>1.000000</td>\n      <td>0.716426</td>\n      <td>0.080489</td>\n      <td>0.065350</td>\n      <td>-0.007607</td>\n      <td>0.016026</td>\n      <td>0.165770</td>\n      <td>-0.406793</td>\n      <td>-0.377688</td>\n      <td>-0.396898</td>\n      <td>-0.382619</td>\n    </tr>\n    <tr>\n      <th>honeybee</th>\n      <td>0.716426</td>\n      <td>1.000000</td>\n      <td>0.081718</td>\n      <td>0.148675</td>\n      <td>0.107056</td>\n      <td>0.012011</td>\n      <td>0.111050</td>\n      <td>-0.254683</td>\n      <td>-0.253994</td>\n      <td>-0.267445</td>\n      <td>-0.243630</td>\n    </tr>\n    <tr>\n      <th>bumbles</th>\n      <td>0.080489</td>\n      <td>0.081718</td>\n      <td>1.000000</td>\n      <td>-0.166788</td>\n      <td>0.157285</td>\n      <td>-0.001781</td>\n      <td>-0.063651</td>\n      <td>0.160612</td>\n      <td>0.163565</td>\n      <td>0.176652</td>\n      <td>0.161484</td>\n    </tr>\n    <tr>\n      <th>andrena</th>\n      <td>0.065350</td>\n      <td>0.148675</td>\n      <td>-0.166788</td>\n      <td>1.000000</td>\n      <td>0.308767</td>\n      <td>-0.012942</td>\n      <td>-0.026699</td>\n      <td>0.073457</td>\n      <td>0.064192</td>\n      <td>0.062956</td>\n      <td>0.073816</td>\n    </tr>\n    <tr>\n      <th>osmia</th>\n      <td>-0.007607</td>\n      <td>0.107056</td>\n      <td>0.157285</td>\n      <td>0.308767</td>\n      <td>1.000000</td>\n      <td>-0.031486</td>\n      <td>-0.079874</td>\n      <td>0.209495</td>\n      <td>0.192210</td>\n      <td>0.200597</td>\n      <td>0.198264</td>\n    </tr>\n    <tr>\n      <th>MinOfLowerTRange</th>\n      <td>0.016026</td>\n      <td>0.012011</td>\n      <td>-0.001781</td>\n      <td>-0.012942</td>\n      <td>-0.031486</td>\n      <td>1.000000</td>\n      <td>0.011466</td>\n      <td>0.007909</td>\n      <td>0.146704</td>\n      <td>0.061360</td>\n      <td>-0.022319</td>\n    </tr>\n    <tr>\n      <th>RainingDays</th>\n      <td>0.165770</td>\n      <td>0.111050</td>\n      <td>-0.063651</td>\n      <td>-0.026699</td>\n      <td>-0.079874</td>\n      <td>0.011466</td>\n      <td>1.000000</td>\n      <td>-0.468066</td>\n      <td>-0.447033</td>\n      <td>-0.478818</td>\n      <td>-0.477191</td>\n    </tr>\n    <tr>\n      <th>fruitset</th>\n      <td>-0.406793</td>\n      <td>-0.254683</td>\n      <td>0.160612</td>\n      <td>0.073457</td>\n      <td>0.209495</td>\n      <td>0.007909</td>\n      <td>-0.468066</td>\n      <td>1.000000</td>\n      <td>0.936988</td>\n      <td>0.929654</td>\n      <td>0.885967</td>\n    </tr>\n    <tr>\n      <th>fruitmass</th>\n      <td>-0.377688</td>\n      <td>-0.253994</td>\n      <td>0.163565</td>\n      <td>0.064192</td>\n      <td>0.192210</td>\n      <td>0.146704</td>\n      <td>-0.447033</td>\n      <td>0.936988</td>\n      <td>1.000000</td>\n      <td>0.931646</td>\n      <td>0.826481</td>\n    </tr>\n    <tr>\n      <th>seeds</th>\n      <td>-0.396898</td>\n      <td>-0.267445</td>\n      <td>0.176652</td>\n      <td>0.062956</td>\n      <td>0.200597</td>\n      <td>0.061360</td>\n      <td>-0.478818</td>\n      <td>0.929654</td>\n      <td>0.931646</td>\n      <td>1.000000</td>\n      <td>0.868853</td>\n    </tr>\n    <tr>\n      <th>yield</th>\n      <td>-0.382619</td>\n      <td>-0.243630</td>\n      <td>0.161484</td>\n      <td>0.073816</td>\n      <td>0.198264</td>\n      <td>-0.022319</td>\n      <td>-0.477191</td>\n      <td>0.885967</td>\n      <td>0.826481</td>\n      <td>0.868853</td>\n      <td>1.000000</td>\n    </tr>\n  </tbody>\n</table>\n</div>"
     },
     "execution_count": 40,
     "metadata": {},
     "output_type": "execute_result"
    }
   ],
   "source": [
    "train.corr()"
   ],
   "metadata": {
    "collapsed": false,
    "pycharm": {
     "name": "#%%\n"
    }
   }
  },
  {
   "cell_type": "code",
   "execution_count": 41,
   "outputs": [
    {
     "data": {
      "text/plain": "       clonesize  honeybee  bumbles  andrena  osmia  MinOfLowerTRange  \\\nid                                                                      \n0           25.0      0.50     0.25     0.75   0.50              24.3   \n1           25.0      0.50     0.25     0.50   0.50              24.3   \n2           12.5      0.25     0.25     0.63   0.63              30.0   \n3           12.5      0.25     0.25     0.63   0.50              27.0   \n4           25.0      0.50     0.25     0.63   0.63              27.0   \n...          ...       ...      ...      ...    ...               ...   \n15284       12.5      0.25     0.25     0.38   0.50              27.0   \n15285       12.5      0.25     0.25     0.25   0.50              30.0   \n15286       25.0      0.50     0.25     0.38   0.75              27.0   \n15287       25.0      0.50     0.25     0.63   0.63              24.3   \n15288       25.0      0.50     0.25     0.63   0.50              27.0   \n\n       RainingDays  fruitset  fruitmass      seeds  \nid                                                  \n0             24.0  0.425011   0.417545  32.460887  \n1             24.0  0.444908   0.422051  33.858317  \n2             24.0  0.552927   0.470853  38.341781  \n3             24.0  0.565976   0.478137  39.467561  \n4             24.0  0.579677   0.494165  40.484512  \n...            ...       ...        ...        ...  \n15284         16.0  0.556302   0.476308  40.546480  \n15285         34.0  0.354413   0.388145  29.467434  \n15286         34.0  0.422548   0.416786  32.299059  \n15287         24.0  0.542170   0.434133  36.674243  \n15288         16.0  0.492077   0.446576  35.094733  \n\n[15289 rows x 10 columns]",
      "text/html": "<div>\n<style scoped>\n    .dataframe tbody tr th:only-of-type {\n        vertical-align: middle;\n    }\n\n    .dataframe tbody tr th {\n        vertical-align: top;\n    }\n\n    .dataframe thead th {\n        text-align: right;\n    }\n</style>\n<table border=\"1\" class=\"dataframe\">\n  <thead>\n    <tr style=\"text-align: right;\">\n      <th></th>\n      <th>clonesize</th>\n      <th>honeybee</th>\n      <th>bumbles</th>\n      <th>andrena</th>\n      <th>osmia</th>\n      <th>MinOfLowerTRange</th>\n      <th>RainingDays</th>\n      <th>fruitset</th>\n      <th>fruitmass</th>\n      <th>seeds</th>\n    </tr>\n    <tr>\n      <th>id</th>\n      <th></th>\n      <th></th>\n      <th></th>\n      <th></th>\n      <th></th>\n      <th></th>\n      <th></th>\n      <th></th>\n      <th></th>\n      <th></th>\n    </tr>\n  </thead>\n  <tbody>\n    <tr>\n      <th>0</th>\n      <td>25.0</td>\n      <td>0.50</td>\n      <td>0.25</td>\n      <td>0.75</td>\n      <td>0.50</td>\n      <td>24.3</td>\n      <td>24.0</td>\n      <td>0.425011</td>\n      <td>0.417545</td>\n      <td>32.460887</td>\n    </tr>\n    <tr>\n      <th>1</th>\n      <td>25.0</td>\n      <td>0.50</td>\n      <td>0.25</td>\n      <td>0.50</td>\n      <td>0.50</td>\n      <td>24.3</td>\n      <td>24.0</td>\n      <td>0.444908</td>\n      <td>0.422051</td>\n      <td>33.858317</td>\n    </tr>\n    <tr>\n      <th>2</th>\n      <td>12.5</td>\n      <td>0.25</td>\n      <td>0.25</td>\n      <td>0.63</td>\n      <td>0.63</td>\n      <td>30.0</td>\n      <td>24.0</td>\n      <td>0.552927</td>\n      <td>0.470853</td>\n      <td>38.341781</td>\n    </tr>\n    <tr>\n      <th>3</th>\n      <td>12.5</td>\n      <td>0.25</td>\n      <td>0.25</td>\n      <td>0.63</td>\n      <td>0.50</td>\n      <td>27.0</td>\n      <td>24.0</td>\n      <td>0.565976</td>\n      <td>0.478137</td>\n      <td>39.467561</td>\n    </tr>\n    <tr>\n      <th>4</th>\n      <td>25.0</td>\n      <td>0.50</td>\n      <td>0.25</td>\n      <td>0.63</td>\n      <td>0.63</td>\n      <td>27.0</td>\n      <td>24.0</td>\n      <td>0.579677</td>\n      <td>0.494165</td>\n      <td>40.484512</td>\n    </tr>\n    <tr>\n      <th>...</th>\n      <td>...</td>\n      <td>...</td>\n      <td>...</td>\n      <td>...</td>\n      <td>...</td>\n      <td>...</td>\n      <td>...</td>\n      <td>...</td>\n      <td>...</td>\n      <td>...</td>\n    </tr>\n    <tr>\n      <th>15284</th>\n      <td>12.5</td>\n      <td>0.25</td>\n      <td>0.25</td>\n      <td>0.38</td>\n      <td>0.50</td>\n      <td>27.0</td>\n      <td>16.0</td>\n      <td>0.556302</td>\n      <td>0.476308</td>\n      <td>40.546480</td>\n    </tr>\n    <tr>\n      <th>15285</th>\n      <td>12.5</td>\n      <td>0.25</td>\n      <td>0.25</td>\n      <td>0.25</td>\n      <td>0.50</td>\n      <td>30.0</td>\n      <td>34.0</td>\n      <td>0.354413</td>\n      <td>0.388145</td>\n      <td>29.467434</td>\n    </tr>\n    <tr>\n      <th>15286</th>\n      <td>25.0</td>\n      <td>0.50</td>\n      <td>0.25</td>\n      <td>0.38</td>\n      <td>0.75</td>\n      <td>27.0</td>\n      <td>34.0</td>\n      <td>0.422548</td>\n      <td>0.416786</td>\n      <td>32.299059</td>\n    </tr>\n    <tr>\n      <th>15287</th>\n      <td>25.0</td>\n      <td>0.50</td>\n      <td>0.25</td>\n      <td>0.63</td>\n      <td>0.63</td>\n      <td>24.3</td>\n      <td>24.0</td>\n      <td>0.542170</td>\n      <td>0.434133</td>\n      <td>36.674243</td>\n    </tr>\n    <tr>\n      <th>15288</th>\n      <td>25.0</td>\n      <td>0.50</td>\n      <td>0.25</td>\n      <td>0.63</td>\n      <td>0.50</td>\n      <td>27.0</td>\n      <td>16.0</td>\n      <td>0.492077</td>\n      <td>0.446576</td>\n      <td>35.094733</td>\n    </tr>\n  </tbody>\n</table>\n<p>15289 rows × 10 columns</p>\n</div>"
     },
     "execution_count": 41,
     "metadata": {},
     "output_type": "execute_result"
    }
   ],
   "source": [
    "label = train['yield']\n",
    "features = train.drop('yield',axis=1)\n",
    "features"
   ],
   "metadata": {
    "collapsed": false,
    "pycharm": {
     "name": "#%%\n"
    }
   }
  },
  {
   "cell_type": "code",
   "execution_count": 42,
   "outputs": [],
   "source": [
    "from sklearn.model_selection import KFold\n",
    "seed = 42\n",
    "splits = 5\n",
    "k = KFold(n_splits = splits, random_state = seed, shuffle = True)\n",
    "\n",
    "np.random.seed(seed)"
   ],
   "metadata": {
    "collapsed": false,
    "pycharm": {
     "name": "#%%\n"
    }
   }
  },
  {
   "cell_type": "code",
   "execution_count": 43,
   "outputs": [
    {
     "data": {
      "text/plain": "       clonesize  honeybee  bumbles  andrena  osmia  MinOfLowerTRange  \\\nid                                                                      \n245         25.0      0.50     0.38     0.50   0.63              24.3   \n3017        12.5      0.25     0.25     0.38   0.25              33.0   \n8047        12.5      0.25     0.38     0.50   0.50              27.0   \n14223       12.5      0.25     0.38     0.50   0.75              33.0   \n13397       25.0      0.50     0.25     0.63   0.75              33.0   \n...          ...       ...      ...      ...    ...               ...   \n5191        12.5      0.25     0.25     0.75   0.50              33.0   \n13418       12.5      0.25     0.38     0.38   0.63              27.0   \n5390        25.0      0.50     0.25     0.63   0.50              30.0   \n860         12.5      0.25     0.25     0.25   0.75              33.0   \n7270        25.0      0.50     0.38     0.38   0.63              30.0   \n\n       RainingDays  fruitset  fruitmass      seeds  \nid                                                  \n245           24.0  0.384981   0.399724  29.742583  \n3017          34.0  0.335530   0.376874  27.735098  \n8047          24.0  0.582483   0.488569  40.655498  \n14223          1.0  0.573428   0.466671  37.966864  \n13397         16.0  0.502398   0.453650  36.600113  \n...            ...       ...        ...        ...  \n5191          24.0  0.603525   0.497917  42.171765  \n13418         34.0  0.615612   0.510575  42.731736  \n5390          16.0  0.469632   0.434133  34.275163  \n860            1.0  0.592489   0.491269  40.764696  \n7270          24.0  0.509989   0.455614  35.807062  \n\n[12231 rows x 10 columns]",
      "text/html": "<div>\n<style scoped>\n    .dataframe tbody tr th:only-of-type {\n        vertical-align: middle;\n    }\n\n    .dataframe tbody tr th {\n        vertical-align: top;\n    }\n\n    .dataframe thead th {\n        text-align: right;\n    }\n</style>\n<table border=\"1\" class=\"dataframe\">\n  <thead>\n    <tr style=\"text-align: right;\">\n      <th></th>\n      <th>clonesize</th>\n      <th>honeybee</th>\n      <th>bumbles</th>\n      <th>andrena</th>\n      <th>osmia</th>\n      <th>MinOfLowerTRange</th>\n      <th>RainingDays</th>\n      <th>fruitset</th>\n      <th>fruitmass</th>\n      <th>seeds</th>\n    </tr>\n    <tr>\n      <th>id</th>\n      <th></th>\n      <th></th>\n      <th></th>\n      <th></th>\n      <th></th>\n      <th></th>\n      <th></th>\n      <th></th>\n      <th></th>\n      <th></th>\n    </tr>\n  </thead>\n  <tbody>\n    <tr>\n      <th>245</th>\n      <td>25.0</td>\n      <td>0.50</td>\n      <td>0.38</td>\n      <td>0.50</td>\n      <td>0.63</td>\n      <td>24.3</td>\n      <td>24.0</td>\n      <td>0.384981</td>\n      <td>0.399724</td>\n      <td>29.742583</td>\n    </tr>\n    <tr>\n      <th>3017</th>\n      <td>12.5</td>\n      <td>0.25</td>\n      <td>0.25</td>\n      <td>0.38</td>\n      <td>0.25</td>\n      <td>33.0</td>\n      <td>34.0</td>\n      <td>0.335530</td>\n      <td>0.376874</td>\n      <td>27.735098</td>\n    </tr>\n    <tr>\n      <th>8047</th>\n      <td>12.5</td>\n      <td>0.25</td>\n      <td>0.38</td>\n      <td>0.50</td>\n      <td>0.50</td>\n      <td>27.0</td>\n      <td>24.0</td>\n      <td>0.582483</td>\n      <td>0.488569</td>\n      <td>40.655498</td>\n    </tr>\n    <tr>\n      <th>14223</th>\n      <td>12.5</td>\n      <td>0.25</td>\n      <td>0.38</td>\n      <td>0.50</td>\n      <td>0.75</td>\n      <td>33.0</td>\n      <td>1.0</td>\n      <td>0.573428</td>\n      <td>0.466671</td>\n      <td>37.966864</td>\n    </tr>\n    <tr>\n      <th>13397</th>\n      <td>25.0</td>\n      <td>0.50</td>\n      <td>0.25</td>\n      <td>0.63</td>\n      <td>0.75</td>\n      <td>33.0</td>\n      <td>16.0</td>\n      <td>0.502398</td>\n      <td>0.453650</td>\n      <td>36.600113</td>\n    </tr>\n    <tr>\n      <th>...</th>\n      <td>...</td>\n      <td>...</td>\n      <td>...</td>\n      <td>...</td>\n      <td>...</td>\n      <td>...</td>\n      <td>...</td>\n      <td>...</td>\n      <td>...</td>\n      <td>...</td>\n    </tr>\n    <tr>\n      <th>5191</th>\n      <td>12.5</td>\n      <td>0.25</td>\n      <td>0.25</td>\n      <td>0.75</td>\n      <td>0.50</td>\n      <td>33.0</td>\n      <td>24.0</td>\n      <td>0.603525</td>\n      <td>0.497917</td>\n      <td>42.171765</td>\n    </tr>\n    <tr>\n      <th>13418</th>\n      <td>12.5</td>\n      <td>0.25</td>\n      <td>0.38</td>\n      <td>0.38</td>\n      <td>0.63</td>\n      <td>27.0</td>\n      <td>34.0</td>\n      <td>0.615612</td>\n      <td>0.510575</td>\n      <td>42.731736</td>\n    </tr>\n    <tr>\n      <th>5390</th>\n      <td>25.0</td>\n      <td>0.50</td>\n      <td>0.25</td>\n      <td>0.63</td>\n      <td>0.50</td>\n      <td>30.0</td>\n      <td>16.0</td>\n      <td>0.469632</td>\n      <td>0.434133</td>\n      <td>34.275163</td>\n    </tr>\n    <tr>\n      <th>860</th>\n      <td>12.5</td>\n      <td>0.25</td>\n      <td>0.25</td>\n      <td>0.25</td>\n      <td>0.75</td>\n      <td>33.0</td>\n      <td>1.0</td>\n      <td>0.592489</td>\n      <td>0.491269</td>\n      <td>40.764696</td>\n    </tr>\n    <tr>\n      <th>7270</th>\n      <td>25.0</td>\n      <td>0.50</td>\n      <td>0.38</td>\n      <td>0.38</td>\n      <td>0.63</td>\n      <td>30.0</td>\n      <td>24.0</td>\n      <td>0.509989</td>\n      <td>0.455614</td>\n      <td>35.807062</td>\n    </tr>\n  </tbody>\n</table>\n<p>12231 rows × 10 columns</p>\n</div>"
     },
     "execution_count": 43,
     "metadata": {},
     "output_type": "execute_result"
    }
   ],
   "source": [
    "X_train, X_test, y_train, y_test=train_test_split(features,label,test_size=0.2,random_state=seed)\n",
    "X_train"
   ],
   "metadata": {
    "collapsed": false,
    "pycharm": {
     "name": "#%%\n"
    }
   }
  },
  {
   "cell_type": "code",
   "execution_count": 44,
   "outputs": [
    {
     "name": "stdout",
     "output_type": "stream",
     "text": [
      "Mean squared error:  308069.7712158829\n",
      "Root Mean Squared Error: 555.0403329631847\n"
     ]
    }
   ],
   "source": [
    "# Create the individual models\n",
    "catboost_model = CatBoostRegressor(random_state = seed, objective = 'MAE', verbose = 0)\n",
    "lgbm_model = LGBMRegressor(random_state = seed, objective = 'mae')\n",
    "\n",
    "# # Create the L1 regularized linear model\n",
    "# lasso_model = Lasso(alpha=0.1)\n",
    "\n",
    "# Create the VotingRegressor with L1 regularization\n",
    "estimators = [('catboost', catboost_model), ('lgbm', lgbm_model)]\n",
    "voting_regressor = VotingRegressor(estimators)\n",
    "\n",
    "# Train the VotingRegressor\n",
    "voting_regressor.fit(X_train, y_train)\n",
    "\n",
    "# Evaluate the model\n",
    "mse = mean_squared_error(y_test, voting_regressor.predict(X_test))\n",
    "print(\"Mean squared error: \", mse)\n",
    "rmse = np.sqrt(mse)\n",
    "print(\"Root Mean Squared Error:\", rmse)"
   ],
   "metadata": {
    "collapsed": false,
    "pycharm": {
     "name": "#%%\n"
    }
   }
  },
  {
   "cell_type": "code",
   "execution_count": 45,
   "outputs": [
    {
     "data": {
      "text/plain": "array([4290.29690864, 5918.10991869, 7215.7734853 , ..., 6527.57722073,\n       4436.54443228, 7271.59404515])"
     },
     "execution_count": 45,
     "metadata": {},
     "output_type": "execute_result"
    }
   ],
   "source": [
    "y_preds = voting_regressor.predict(test)\n",
    "y_preds"
   ],
   "metadata": {
    "collapsed": false,
    "pycharm": {
     "name": "#%%\n"
    }
   }
  },
  {
   "cell_type": "code",
   "execution_count": 19,
   "outputs": [
    {
     "name": "stdout",
     "output_type": "stream",
     "text": [
      "현재 날짜 및 시각 :  [6, 9, 14, 14, 20]\n"
     ]
    }
   ],
   "source": [
    "import datetime\n",
    "\n",
    "# 현재 날짜와 시각 구하기\n",
    "now = datetime.datetime.now()\n",
    "date_list = [now.month, now.day, now.hour, now.minute, now.second]\n",
    "# 현재 날짜와 시각 출력하기\n",
    "print(\"현재 날짜 및 시각 : \", date_list)\n",
    "\n",
    "# 제출 파일 생성\n",
    "\n",
    "submission['yield'] = y_preds\n",
    "submission.to_csv(f'submission_from_Kaggle_{date_list[0]}_{date_list[1]}_{date_list[2]}_{date_list[3]}_{date_list[4]}.csv')"
   ],
   "metadata": {
    "collapsed": false,
    "pycharm": {
     "name": "#%%\n"
    }
   }
  },
  {
   "cell_type": "code",
   "execution_count": null,
   "outputs": [],
   "source": [],
   "metadata": {
    "collapsed": false,
    "pycharm": {
     "name": "#%%\n"
    }
   }
  },
  {
   "cell_type": "code",
   "execution_count": null,
   "outputs": [],
   "source": [],
   "metadata": {
    "collapsed": false,
    "pycharm": {
     "name": "#%%\n"
    }
   }
  },
  {
   "cell_type": "code",
   "execution_count": 46,
   "outputs": [
    {
     "data": {
      "text/plain": "       clonesize  honeybee  bumbles  andrena  osmia  MinOfLowerTRange  \\\nid                                                                      \n0           25.0      0.50     0.25     0.75   0.50              24.3   \n1           25.0      0.50     0.25     0.50   0.50              24.3   \n2           12.5      0.25     0.25     0.63   0.63              30.0   \n3           12.5      0.25     0.25     0.63   0.50              27.0   \n4           25.0      0.50     0.25     0.63   0.63              27.0   \n...          ...       ...      ...      ...    ...               ...   \n15284       12.5      0.25     0.25     0.38   0.50              27.0   \n15285       12.5      0.25     0.25     0.25   0.50              30.0   \n15286       25.0      0.50     0.25     0.38   0.75              27.0   \n15287       25.0      0.50     0.25     0.63   0.63              24.3   \n15288       25.0      0.50     0.25     0.63   0.50              27.0   \n\n       RainingDays  fruitset  fruitmass      seeds       yield  \nid                                                              \n0             24.0  0.425011   0.417545  32.460887  4476.81146  \n1             24.0  0.444908   0.422051  33.858317  5548.12201  \n2             24.0  0.552927   0.470853  38.341781  6869.77760  \n3             24.0  0.565976   0.478137  39.467561  6880.77590  \n4             24.0  0.579677   0.494165  40.484512  7479.93417  \n...            ...       ...        ...        ...         ...  \n15284         16.0  0.556302   0.476308  40.546480  7667.83619  \n15285         34.0  0.354413   0.388145  29.467434  3680.56025  \n15286         34.0  0.422548   0.416786  32.299059  4696.44394  \n15287         24.0  0.542170   0.434133  36.674243  6772.93347  \n15288         16.0  0.492077   0.446576  35.094733  5867.99722  \n\n[15289 rows x 11 columns]",
      "text/html": "<div>\n<style scoped>\n    .dataframe tbody tr th:only-of-type {\n        vertical-align: middle;\n    }\n\n    .dataframe tbody tr th {\n        vertical-align: top;\n    }\n\n    .dataframe thead th {\n        text-align: right;\n    }\n</style>\n<table border=\"1\" class=\"dataframe\">\n  <thead>\n    <tr style=\"text-align: right;\">\n      <th></th>\n      <th>clonesize</th>\n      <th>honeybee</th>\n      <th>bumbles</th>\n      <th>andrena</th>\n      <th>osmia</th>\n      <th>MinOfLowerTRange</th>\n      <th>RainingDays</th>\n      <th>fruitset</th>\n      <th>fruitmass</th>\n      <th>seeds</th>\n      <th>yield</th>\n    </tr>\n    <tr>\n      <th>id</th>\n      <th></th>\n      <th></th>\n      <th></th>\n      <th></th>\n      <th></th>\n      <th></th>\n      <th></th>\n      <th></th>\n      <th></th>\n      <th></th>\n      <th></th>\n    </tr>\n  </thead>\n  <tbody>\n    <tr>\n      <th>0</th>\n      <td>25.0</td>\n      <td>0.50</td>\n      <td>0.25</td>\n      <td>0.75</td>\n      <td>0.50</td>\n      <td>24.3</td>\n      <td>24.0</td>\n      <td>0.425011</td>\n      <td>0.417545</td>\n      <td>32.460887</td>\n      <td>4476.81146</td>\n    </tr>\n    <tr>\n      <th>1</th>\n      <td>25.0</td>\n      <td>0.50</td>\n      <td>0.25</td>\n      <td>0.50</td>\n      <td>0.50</td>\n      <td>24.3</td>\n      <td>24.0</td>\n      <td>0.444908</td>\n      <td>0.422051</td>\n      <td>33.858317</td>\n      <td>5548.12201</td>\n    </tr>\n    <tr>\n      <th>2</th>\n      <td>12.5</td>\n      <td>0.25</td>\n      <td>0.25</td>\n      <td>0.63</td>\n      <td>0.63</td>\n      <td>30.0</td>\n      <td>24.0</td>\n      <td>0.552927</td>\n      <td>0.470853</td>\n      <td>38.341781</td>\n      <td>6869.77760</td>\n    </tr>\n    <tr>\n      <th>3</th>\n      <td>12.5</td>\n      <td>0.25</td>\n      <td>0.25</td>\n      <td>0.63</td>\n      <td>0.50</td>\n      <td>27.0</td>\n      <td>24.0</td>\n      <td>0.565976</td>\n      <td>0.478137</td>\n      <td>39.467561</td>\n      <td>6880.77590</td>\n    </tr>\n    <tr>\n      <th>4</th>\n      <td>25.0</td>\n      <td>0.50</td>\n      <td>0.25</td>\n      <td>0.63</td>\n      <td>0.63</td>\n      <td>27.0</td>\n      <td>24.0</td>\n      <td>0.579677</td>\n      <td>0.494165</td>\n      <td>40.484512</td>\n      <td>7479.93417</td>\n    </tr>\n    <tr>\n      <th>...</th>\n      <td>...</td>\n      <td>...</td>\n      <td>...</td>\n      <td>...</td>\n      <td>...</td>\n      <td>...</td>\n      <td>...</td>\n      <td>...</td>\n      <td>...</td>\n      <td>...</td>\n      <td>...</td>\n    </tr>\n    <tr>\n      <th>15284</th>\n      <td>12.5</td>\n      <td>0.25</td>\n      <td>0.25</td>\n      <td>0.38</td>\n      <td>0.50</td>\n      <td>27.0</td>\n      <td>16.0</td>\n      <td>0.556302</td>\n      <td>0.476308</td>\n      <td>40.546480</td>\n      <td>7667.83619</td>\n    </tr>\n    <tr>\n      <th>15285</th>\n      <td>12.5</td>\n      <td>0.25</td>\n      <td>0.25</td>\n      <td>0.25</td>\n      <td>0.50</td>\n      <td>30.0</td>\n      <td>34.0</td>\n      <td>0.354413</td>\n      <td>0.388145</td>\n      <td>29.467434</td>\n      <td>3680.56025</td>\n    </tr>\n    <tr>\n      <th>15286</th>\n      <td>25.0</td>\n      <td>0.50</td>\n      <td>0.25</td>\n      <td>0.38</td>\n      <td>0.75</td>\n      <td>27.0</td>\n      <td>34.0</td>\n      <td>0.422548</td>\n      <td>0.416786</td>\n      <td>32.299059</td>\n      <td>4696.44394</td>\n    </tr>\n    <tr>\n      <th>15287</th>\n      <td>25.0</td>\n      <td>0.50</td>\n      <td>0.25</td>\n      <td>0.63</td>\n      <td>0.63</td>\n      <td>24.3</td>\n      <td>24.0</td>\n      <td>0.542170</td>\n      <td>0.434133</td>\n      <td>36.674243</td>\n      <td>6772.93347</td>\n    </tr>\n    <tr>\n      <th>15288</th>\n      <td>25.0</td>\n      <td>0.50</td>\n      <td>0.25</td>\n      <td>0.63</td>\n      <td>0.50</td>\n      <td>27.0</td>\n      <td>16.0</td>\n      <td>0.492077</td>\n      <td>0.446576</td>\n      <td>35.094733</td>\n      <td>5867.99722</td>\n    </tr>\n  </tbody>\n</table>\n<p>15289 rows × 11 columns</p>\n</div>"
     },
     "execution_count": 46,
     "metadata": {},
     "output_type": "execute_result"
    }
   ],
   "source": [
    "train"
   ],
   "metadata": {
    "collapsed": false,
    "pycharm": {
     "name": "#%%\n"
    }
   }
  },
  {
   "cell_type": "code",
   "execution_count": 47,
   "outputs": [],
   "source": [
    "def mae_scorer(preds, dtrain):\n",
    "    labels = dtrain.get_label()\n",
    "    return 'Mae' , mean_absolute_error(labels, preds)"
   ],
   "metadata": {
    "collapsed": false,
    "pycharm": {
     "name": "#%%\n"
    }
   }
  },
  {
   "cell_type": "code",
   "execution_count": 48,
   "outputs": [
    {
     "data": {
      "text/plain": "       clonesize  honeybee  bumbles  andrena  osmia  MinOfLowerTRange  \\\nid                                                                      \n0           25.0      0.50     0.25     0.75   0.50              24.3   \n1           25.0      0.50     0.25     0.50   0.50              24.3   \n2           12.5      0.25     0.25     0.63   0.63              30.0   \n3           12.5      0.25     0.25     0.63   0.50              27.0   \n4           25.0      0.50     0.25     0.63   0.63              27.0   \n...          ...       ...      ...      ...    ...               ...   \n15284       12.5      0.25     0.25     0.38   0.50              27.0   \n15285       12.5      0.25     0.25     0.25   0.50              30.0   \n15286       25.0      0.50     0.25     0.38   0.75              27.0   \n15287       25.0      0.50     0.25     0.63   0.63              24.3   \n15288       25.0      0.50     0.25     0.63   0.50              27.0   \n\n       RainingDays  fruitset  fruitmass      seeds  \nid                                                  \n0             24.0  0.425011   0.417545  32.460887  \n1             24.0  0.444908   0.422051  33.858317  \n2             24.0  0.552927   0.470853  38.341781  \n3             24.0  0.565976   0.478137  39.467561  \n4             24.0  0.579677   0.494165  40.484512  \n...            ...       ...        ...        ...  \n15284         16.0  0.556302   0.476308  40.546480  \n15285         34.0  0.354413   0.388145  29.467434  \n15286         34.0  0.422548   0.416786  32.299059  \n15287         24.0  0.542170   0.434133  36.674243  \n15288         16.0  0.492077   0.446576  35.094733  \n\n[15289 rows x 10 columns]",
      "text/html": "<div>\n<style scoped>\n    .dataframe tbody tr th:only-of-type {\n        vertical-align: middle;\n    }\n\n    .dataframe tbody tr th {\n        vertical-align: top;\n    }\n\n    .dataframe thead th {\n        text-align: right;\n    }\n</style>\n<table border=\"1\" class=\"dataframe\">\n  <thead>\n    <tr style=\"text-align: right;\">\n      <th></th>\n      <th>clonesize</th>\n      <th>honeybee</th>\n      <th>bumbles</th>\n      <th>andrena</th>\n      <th>osmia</th>\n      <th>MinOfLowerTRange</th>\n      <th>RainingDays</th>\n      <th>fruitset</th>\n      <th>fruitmass</th>\n      <th>seeds</th>\n    </tr>\n    <tr>\n      <th>id</th>\n      <th></th>\n      <th></th>\n      <th></th>\n      <th></th>\n      <th></th>\n      <th></th>\n      <th></th>\n      <th></th>\n      <th></th>\n      <th></th>\n    </tr>\n  </thead>\n  <tbody>\n    <tr>\n      <th>0</th>\n      <td>25.0</td>\n      <td>0.50</td>\n      <td>0.25</td>\n      <td>0.75</td>\n      <td>0.50</td>\n      <td>24.3</td>\n      <td>24.0</td>\n      <td>0.425011</td>\n      <td>0.417545</td>\n      <td>32.460887</td>\n    </tr>\n    <tr>\n      <th>1</th>\n      <td>25.0</td>\n      <td>0.50</td>\n      <td>0.25</td>\n      <td>0.50</td>\n      <td>0.50</td>\n      <td>24.3</td>\n      <td>24.0</td>\n      <td>0.444908</td>\n      <td>0.422051</td>\n      <td>33.858317</td>\n    </tr>\n    <tr>\n      <th>2</th>\n      <td>12.5</td>\n      <td>0.25</td>\n      <td>0.25</td>\n      <td>0.63</td>\n      <td>0.63</td>\n      <td>30.0</td>\n      <td>24.0</td>\n      <td>0.552927</td>\n      <td>0.470853</td>\n      <td>38.341781</td>\n    </tr>\n    <tr>\n      <th>3</th>\n      <td>12.5</td>\n      <td>0.25</td>\n      <td>0.25</td>\n      <td>0.63</td>\n      <td>0.50</td>\n      <td>27.0</td>\n      <td>24.0</td>\n      <td>0.565976</td>\n      <td>0.478137</td>\n      <td>39.467561</td>\n    </tr>\n    <tr>\n      <th>4</th>\n      <td>25.0</td>\n      <td>0.50</td>\n      <td>0.25</td>\n      <td>0.63</td>\n      <td>0.63</td>\n      <td>27.0</td>\n      <td>24.0</td>\n      <td>0.579677</td>\n      <td>0.494165</td>\n      <td>40.484512</td>\n    </tr>\n    <tr>\n      <th>...</th>\n      <td>...</td>\n      <td>...</td>\n      <td>...</td>\n      <td>...</td>\n      <td>...</td>\n      <td>...</td>\n      <td>...</td>\n      <td>...</td>\n      <td>...</td>\n      <td>...</td>\n    </tr>\n    <tr>\n      <th>15284</th>\n      <td>12.5</td>\n      <td>0.25</td>\n      <td>0.25</td>\n      <td>0.38</td>\n      <td>0.50</td>\n      <td>27.0</td>\n      <td>16.0</td>\n      <td>0.556302</td>\n      <td>0.476308</td>\n      <td>40.546480</td>\n    </tr>\n    <tr>\n      <th>15285</th>\n      <td>12.5</td>\n      <td>0.25</td>\n      <td>0.25</td>\n      <td>0.25</td>\n      <td>0.50</td>\n      <td>30.0</td>\n      <td>34.0</td>\n      <td>0.354413</td>\n      <td>0.388145</td>\n      <td>29.467434</td>\n    </tr>\n    <tr>\n      <th>15286</th>\n      <td>25.0</td>\n      <td>0.50</td>\n      <td>0.25</td>\n      <td>0.38</td>\n      <td>0.75</td>\n      <td>27.0</td>\n      <td>34.0</td>\n      <td>0.422548</td>\n      <td>0.416786</td>\n      <td>32.299059</td>\n    </tr>\n    <tr>\n      <th>15287</th>\n      <td>25.0</td>\n      <td>0.50</td>\n      <td>0.25</td>\n      <td>0.63</td>\n      <td>0.63</td>\n      <td>24.3</td>\n      <td>24.0</td>\n      <td>0.542170</td>\n      <td>0.434133</td>\n      <td>36.674243</td>\n    </tr>\n    <tr>\n      <th>15288</th>\n      <td>25.0</td>\n      <td>0.50</td>\n      <td>0.25</td>\n      <td>0.63</td>\n      <td>0.50</td>\n      <td>27.0</td>\n      <td>16.0</td>\n      <td>0.492077</td>\n      <td>0.446576</td>\n      <td>35.094733</td>\n    </tr>\n  </tbody>\n</table>\n<p>15289 rows × 10 columns</p>\n</div>"
     },
     "execution_count": 48,
     "metadata": {},
     "output_type": "execute_result"
    }
   ],
   "source": [
    "train_2 = train.drop('yield' , axis=1)\n",
    "train_2"
   ],
   "metadata": {
    "collapsed": false,
    "pycharm": {
     "name": "#%%\n"
    }
   }
  },
  {
   "cell_type": "code",
   "execution_count": 49,
   "outputs": [],
   "source": [
    "from scipy import sparse\n",
    "from sklearn.model_selection import train_test_split\n",
    "import xgboost as xgb\n",
    "\n",
    "\n",
    "num_train = len(train) # 훈련 데이터 개수\n",
    "\n",
    "# 훈련 데이터와 테스트 데이터 나누기\n",
    "train_sprs = sparse.csr_matrix(train_2)\n",
    "test_sprs = sparse.csr_matrix(test)\n",
    "X= train_sprs # 0~num_train -1 행\n",
    "X_test = test_sprs # num_train ~ 마지막 행\n",
    "\n",
    "y = train['yield'].values\n",
    "\n",
    "\n",
    "\n",
    "# 8:2 비율로 훈련 데이터, 검증 데이터 분리(베이지안 최적화 수행용)\n",
    "\n",
    "X_train , X_valid , y_train , y_valid = train_test_split(X,y, test_size=0.2 , random_state=0)\n",
    "\n",
    "# 베이지안 최적화용 데이터셋\n",
    "\n",
    "bayes_dtrain = xgb.DMatrix(X_train , y_train)\n",
    "bayes_dvalid = xgb.DMatrix(X_valid, y_valid)"
   ],
   "metadata": {
    "collapsed": false,
    "pycharm": {
     "name": "#%%\n"
    }
   }
  },
  {
   "cell_type": "code",
   "execution_count": 50,
   "outputs": [],
   "source": [
    "# 베이지안 최적화를 위한 하이퍼파라미터 범위\n",
    "param_bounds = {'max_depth' : (4 , 10) , # 개별 트리의 최대 깊이, 트리 깊이가 깊을수록 모델이 복잡해지고 과대적합 우려\n",
    "                # 값이 클수록 깊이가 한 단계만 늘어나도 메모리 사용량이 급격히 많아진다.\n",
    "                # 일반적으로 3~10 사이의 값을 주로 사용한다.\n",
    "\n",
    "                'subsample' : (0.5 , 1), # 개별 트리를 훈련할 때 사용할 데이터 샘플링 비율\n",
    "                # 0~1 사이 값으로 설정할 수 있다.\n",
    "                # 0.5 로 설정하면 전체 데이터의 50%를 사용해 트리를 생성\n",
    "\n",
    "                'colsample_bytree' : (0.7 , 1.0), # 개별 트리를 훈련할 때 사용하는 피처 샘플링 비율\n",
    "                # subsample 과 유사한 개념, subsample은 전체 데이터에서 얼마나 샘플링할지 나타내는 비율\n",
    "                # colsample_bytree는 전체 피처에서 얼마나 샘플링할지 나타내는 비율\n",
    "                # 값이 작을수록 과대적합 방지 효과\n",
    "\n",
    "                'min_child_weight' : (5 , 10), # 과대적합 방지위한 값, 값이 클수록 과대적합 방지 효과가 있다.\n",
    "                'gamma' : (8 , 11), # 말단 노드가 분할하기 위한 최소 손실 감소 값\n",
    "                # 소실 감소가 gamma보다 크면 말단 노드를 분할\n",
    "                # 값이 클수록 과대적합 방지 효과가 있다.\n",
    "\n",
    "                'reg_alpha' : (7 , 9) , # L1 규제 조정 값 , 값이 클수록 과대적합 방지 효과\n",
    "                'reg_lambda' : (1.1 , 1.5), # L2 규제 조정값 , 값이 클수록 과대적합 방지 효과\n",
    "                'scale_pos_weight' : (1.4 , 1.6), # 뷸균형 데이터 가중치 조정 값 ,\n",
    "                # 타깃값이 불균형할 때 양성 값에 scale_pos_weight 만큼 가중치를 줘서 균형을 맞춤(타깃값 1을 양성 값으로 간주)\n",
    "                # 일반적으로 scale_pos_weight 값을 (음성 타깃값 개수 / 양성 타깃값 개수) 로 설정\n",
    "                'learning_rate' : (0.02, 0.1)} # 학습률( 부스팅 스텝을 반복하면서 모델을 업데이트하는 데 사용되는 비율)\n",
    "\n",
    "\n",
    "# 값이 고정된 하이퍼파라미터\n",
    "\n",
    "fixed_params = {'objective' : 'reg:squarederror' ,# 훈련 목적 , binary : logistic( 확률값을 구하는 이진분류)\n",
    "                # reg : squarederror (회귀 문제)\n",
    "                # 소프트맥스 함수를 사용하는 다중분류에서는 multi : softmax 사용\n",
    "                # 확률값을 구하는 다중분류에서는 'multi : softprob' 사용\n",
    "\n",
    "                'random_state' : 1991} # 랜덤 시드값(코드를 반복 실행해도 같은 결과가 나오게 지정하는 값)"
   ],
   "metadata": {
    "collapsed": false,
    "pycharm": {
     "name": "#%%\n"
    }
   }
  },
  {
   "cell_type": "code",
   "execution_count": 51,
   "outputs": [],
   "source": [
    "from sklearn.metrics import mean_absolute_error\n",
    "\n",
    "\n",
    "def eval_function(max_depth ,learning_rate, subsample , colsample_bytree , min_child_weight , reg_alpha , gamma , reg_lambda , scale_pos_weight) :\n",
    "\n",
    "    # 최적화하려는 평가지표(지니계수) 계산 함수\n",
    "\n",
    "    # 베이지안 최적화를 수행할 하이퍼파라미터\n",
    "\n",
    "    params = {'max_depth' : int(round(max_depth)) , # 개별 트리의 최대깊이\n",
    "              'learning_rate' : learning_rate,\n",
    "              'subsample' : subsample, # 개별 트리를 훈련할 때 사용할 데이터 샘플링 비율\n",
    "              'colsample_bytree' : colsample_bytree , # 개별 트리를 훈련할때 사용하는 피처 샘플링\n",
    "              'min_child_weight' :  # 과대적합 방지위한 값\n",
    "                  min_child_weight,\n",
    "              'gamma' : gamma, # 말단 노드가 분할하기 위한 최소 손실 감소 값\n",
    "              'reg_alpha' : reg_alpha, # L1 규제 조정값\n",
    "              'reg_lambda' : reg_lambda, # L2 규제 조정값\n",
    "              'scale_pos_weight' : scale_pos_weight} # 불균형 데이터 가중치 조정값\n",
    "\n",
    "    # 값이 고정된 하이퍼파라미터도 추가\n",
    "    params.update(fixed_params)\n",
    "\n",
    "    print('하이퍼파라미터 : ' , params)\n",
    "\n",
    "    # XGBoost 모델 훈련 , train() 메서드의 하이퍼파라미터\n",
    "    xgb_model = xgb.train(params = params , # XGBoost 모델의 하이퍼파라미터 목록 , 딕셔너리 타입으로 전달\n",
    "                          dtrain = bayes_dtrain, # 훈련 데이터셋, xgboost.DMatrix 타입으로 전달\n",
    "                          num_boost_round= 2000, # 부스팅 반복 횟수, 정수형 타입으로 전달\n",
    "                          # num_boost_round 값이 클수록 성능이 좋아질 수 있으나 과대적합의 우려가 있다.\n",
    "                          # num_boost_round 값이 작으면 반복 횟수가 줄어들어 훈련 시간이 짧아진다.\n",
    "                          # 일반적으로 num_boost_round를 늘리면 learning_rate를 줄여야 한다.\n",
    "\n",
    "                          evals = [(bayes_dvalid , ' bayes_dvalid')],\n",
    "                          # 모델 성능 평가용 검증 데이터셋\n",
    "                          # (DMatrix, 문자열) 쌍들을 원소로 갖는 리스트 타입으로 전달, 검증 데이터셋 이름을 원하는 대로 문자열로 정하면 된다.\n",
    "                          maximize = True, # feval 평가지수가 높으면 좋은지 여부\n",
    "                          feval = mae_scorer, # 검증용 평가지표, 사용자 정의 함수 형태\n",
    "                          # evals를 활용해 모델 성능을 검증할 때 사용할 사용자 정의 평가지표 함수\n",
    "                          # 예측값과 실제값을 파라미터로 전달받아, 평가지표명과 평가점수를 반환하는 함수이다.\n",
    "                          early_stopping_rounds= 200,\n",
    "                          # 조기종료 조건\n",
    "                          # 모델은 기본적으로 num_boost_round만큼 훈련을 반복하며, 매 이터레이션마다 evals로 모델 성능을 평가하여 성능이 연속으로\n",
    "                          # 좋아지지 않는다면 훈련을 중단하는데, 훈련 중단에 필요한 최소횟수가 early_stopping_rounds 이다. 즉 , early_stopping_rounds\n",
    "                          # 동안 모델 성능이 좋아지지 않는다면 훈련을 중단한다.\n",
    "\n",
    "                          # 과대적합 방지 효과\n",
    "\n",
    "                          # 조기종료를 적용하기 위해서는 evals 에 검증 데이터가 하나 이상 있어야한다. 또한 evals에 검증 데이터가 여러 개라면 마지막 검증\n",
    "                          # 데이터를 기준으로 조기종료 조건을 적용한다.\n",
    "\n",
    "\n",
    "                          verbose_eval= False) # 성능 점수 로그 설정 값\n",
    "    # True 로 설정하면 매 부스팅 스텝마다 평가점수르 출력\n",
    "    # 출력값이 너무 많아지는 것을 방지하기위해 verbose_eval로 설정\n",
    "\n",
    "    best_iter = xgb_model.best_iteration # 최적 반복횟수\n",
    "    # 검증 데이터로 예측 수행\n",
    "    preds = xgb_model.predict(bayes_dvalid , iteration_range=(0, best_iter))\n",
    "\n",
    "    # 지니계수 계산\n",
    "    mae_score = mean_absolute_error(y_valid, preds)\n",
    "    print(f'Mae_score : {mae_score}\\n')\n",
    "\n",
    "    return -mae_score"
   ],
   "metadata": {
    "collapsed": false,
    "pycharm": {
     "name": "#%%\n"
    }
   }
  },
  {
   "cell_type": "code",
   "execution_count": 52,
   "outputs": [
    {
     "name": "stdout",
     "output_type": "stream",
     "text": [
      "|   iter    |  target   | colsam... |   gamma   | learni... | max_depth | min_ch... | reg_alpha | reg_la... | scale_... | subsample |\n",
      "-------------------------------------------------------------------------------------------------------------------------------------\n",
      "하이퍼파라미터 :  {'max_depth': 7, 'learning_rate': 0.06822107008573151, 'subsample': 0.9818313802505146, 'colsample_bytree': 0.8646440511781974, 'min_child_weight': 7.118273996694524, 'gamma': 10.14556809911726, 'reg_alpha': 8.291788226133312, 'reg_lambda': 1.275034884505077, 'scale_pos_weight': 1.578354600156416, 'objective': 'reg:squarederror', 'random_state': 1991}\n"
     ]
    },
    {
     "name": "stderr",
     "output_type": "stream",
     "text": [
      "C:\\Users\\andyp\\anaconda3\\lib\\site-packages\\xgboost\\training.py:39: UserWarning: `feval` is deprecated, use `custom_metric` instead.  They have different behavior when custom objective is also used.See https://xgboost.readthedocs.io/en/latest/tutorials/custom_metric_obj.html for details on the `custom_metric`.\n",
      "  warnings.warn(\n"
     ]
    },
    {
     "name": "stdout",
     "output_type": "stream",
     "text": [
      "Mae_score : 355.7284282198077\n",
      "\n",
      "| \u001B[0m1        \u001B[0m | \u001B[0m-355.7   \u001B[0m | \u001B[0m0.8646   \u001B[0m | \u001B[0m10.15    \u001B[0m | \u001B[0m0.06822  \u001B[0m | \u001B[0m7.269    \u001B[0m | \u001B[0m7.118    \u001B[0m | \u001B[0m8.292    \u001B[0m | \u001B[0m1.275    \u001B[0m | \u001B[0m1.578    \u001B[0m | \u001B[0m0.9818   \u001B[0m |\n",
      "하이퍼파라미터 :  {'max_depth': 7, 'learning_rate': 0.06231159358023236, 'subsample': 0.916309922773969, 'colsample_bytree': 0.8150324556477333, 'min_child_weight': 9.627983191463304, 'gamma': 10.375175114247995, 'reg_alpha': 7.142072116395774, 'reg_lambda': 1.1348517198806163, 'scale_pos_weight': 1.404043679488065, 'objective': 'reg:squarederror', 'random_state': 1991}\n"
     ]
    },
    {
     "name": "stderr",
     "output_type": "stream",
     "text": [
      "C:\\Users\\andyp\\anaconda3\\lib\\site-packages\\xgboost\\training.py:39: UserWarning: `feval` is deprecated, use `custom_metric` instead.  They have different behavior when custom objective is also used.See https://xgboost.readthedocs.io/en/latest/tutorials/custom_metric_obj.html for details on the `custom_metric`.\n",
      "  warnings.warn(\n"
     ]
    },
    {
     "name": "stdout",
     "output_type": "stream",
     "text": [
      "Mae_score : 355.63630715520765\n",
      "\n",
      "| \u001B[95m2        \u001B[0m | \u001B[95m-355.6   \u001B[0m | \u001B[95m0.815    \u001B[0m | \u001B[95m10.38    \u001B[0m | \u001B[95m0.06231  \u001B[0m | \u001B[95m7.408    \u001B[0m | \u001B[95m9.628    \u001B[0m | \u001B[95m7.142    \u001B[0m | \u001B[95m1.135    \u001B[0m | \u001B[95m1.404    \u001B[0m | \u001B[95m0.9163   \u001B[0m |\n",
      "하이퍼파라미터 :  {'max_depth': 9, 'learning_rate': 0.09828946737862113, 'subsample': 0.5716766437045232, 'colsample_bytree': 0.9334470252849552, 'min_child_weight': 7.30739681126466, 'gamma': 10.610036444740457, 'reg_alpha': 8.56105835257291, 'reg_lambda': 1.1473097703475734, 'scale_pos_weight': 1.5279842042655047, 'objective': 'reg:squarederror', 'random_state': 1991}\n"
     ]
    },
    {
     "name": "stderr",
     "output_type": "stream",
     "text": [
      "C:\\Users\\andyp\\anaconda3\\lib\\site-packages\\xgboost\\training.py:39: UserWarning: `feval` is deprecated, use `custom_metric` instead.  They have different behavior when custom objective is also used.See https://xgboost.readthedocs.io/en/latest/tutorials/custom_metric_obj.html for details on the `custom_metric`.\n",
      "  warnings.warn(\n"
     ]
    },
    {
     "name": "stdout",
     "output_type": "stream",
     "text": [
      "Mae_score : 370.9613368371383\n",
      "\n",
      "| \u001B[0m3        \u001B[0m | \u001B[0m-371.0   \u001B[0m | \u001B[0m0.9334   \u001B[0m | \u001B[0m10.61    \u001B[0m | \u001B[0m0.09829  \u001B[0m | \u001B[0m8.795    \u001B[0m | \u001B[0m7.307    \u001B[0m | \u001B[0m8.561    \u001B[0m | \u001B[0m1.147    \u001B[0m | \u001B[0m1.528    \u001B[0m | \u001B[0m0.5717   \u001B[0m |\n",
      "하이퍼파라미터 :  {'max_depth': 9, 'learning_rate': 0.09480552835375229, 'subsample': 0.9154444873061973, 'colsample_bytree': 0.7237366663815606, 'min_child_weight': 9.457964776710647, 'gamma': 8.254805197743558, 'reg_alpha': 8.3182857346322, 'reg_lambda': 1.1875047687160731, 'scale_pos_weight': 1.563558309161644, 'objective': 'reg:squarederror', 'random_state': 1991}\n"
     ]
    },
    {
     "name": "stderr",
     "output_type": "stream",
     "text": [
      "C:\\Users\\andyp\\anaconda3\\lib\\site-packages\\xgboost\\training.py:39: UserWarning: `feval` is deprecated, use `custom_metric` instead.  They have different behavior when custom objective is also used.See https://xgboost.readthedocs.io/en/latest/tutorials/custom_metric_obj.html for details on the `custom_metric`.\n",
      "  warnings.warn(\n"
     ]
    },
    {
     "name": "stdout",
     "output_type": "stream",
     "text": [
      "Mae_score : 363.1775835490671\n",
      "\n",
      "| \u001B[0m4        \u001B[0m | \u001B[0m-363.2   \u001B[0m | \u001B[0m0.7237   \u001B[0m | \u001B[0m8.255    \u001B[0m | \u001B[0m0.09481  \u001B[0m | \u001B[0m8.864    \u001B[0m | \u001B[0m9.458    \u001B[0m | \u001B[0m8.318    \u001B[0m | \u001B[0m1.188    \u001B[0m | \u001B[0m1.564    \u001B[0m | \u001B[0m0.9154   \u001B[0m |\n",
      "하이퍼파라미터 :  {'max_depth': 7, 'learning_rate': 0.09022454483344085, 'subsample': 0.7811193885366128, 'colsample_bytree': 0.900887345015532, 'min_child_weight': 9.727931100946655, 'gamma': 10.421904843224063, 'reg_alpha': 7.031252715096844, 'reg_lambda': 1.127609640299307, 'scale_pos_weight': 1.5032502291387093, 'objective': 'reg:squarederror', 'random_state': 1991}\n"
     ]
    },
    {
     "name": "stderr",
     "output_type": "stream",
     "text": [
      "C:\\Users\\andyp\\anaconda3\\lib\\site-packages\\xgboost\\training.py:39: UserWarning: `feval` is deprecated, use `custom_metric` instead.  They have different behavior when custom objective is also used.See https://xgboost.readthedocs.io/en/latest/tutorials/custom_metric_obj.html for details on the `custom_metric`.\n",
      "  warnings.warn(\n"
     ]
    },
    {
     "name": "stdout",
     "output_type": "stream",
     "text": [
      "Mae_score : 358.8605798217789\n",
      "\n",
      "| \u001B[0m5        \u001B[0m | \u001B[0m-358.9   \u001B[0m | \u001B[0m0.9009   \u001B[0m | \u001B[0m10.42    \u001B[0m | \u001B[0m0.09022  \u001B[0m | \u001B[0m7.338    \u001B[0m | \u001B[0m9.728    \u001B[0m | \u001B[0m7.031    \u001B[0m | \u001B[0m1.128    \u001B[0m | \u001B[0m1.503    \u001B[0m | \u001B[0m0.7811   \u001B[0m |\n",
      "하이퍼파라미터 :  {'max_depth': 8, 'learning_rate': 0.02, 'subsample': 1.0, 'colsample_bytree': 0.7, 'min_child_weight': 9.246291462462453, 'gamma': 10.21105915758621, 'reg_alpha': 7.537307043740475, 'reg_lambda': 1.1636236234509973, 'scale_pos_weight': 1.4, 'objective': 'reg:squarederror', 'random_state': 1991}\n"
     ]
    },
    {
     "name": "stderr",
     "output_type": "stream",
     "text": [
      "C:\\Users\\andyp\\anaconda3\\lib\\site-packages\\xgboost\\training.py:39: UserWarning: `feval` is deprecated, use `custom_metric` instead.  They have different behavior when custom objective is also used.See https://xgboost.readthedocs.io/en/latest/tutorials/custom_metric_obj.html for details on the `custom_metric`.\n",
      "  warnings.warn(\n"
     ]
    },
    {
     "name": "stdout",
     "output_type": "stream",
     "text": [
      "Mae_score : 363.0488988242928\n",
      "\n",
      "| \u001B[0m6        \u001B[0m | \u001B[0m-363.0   \u001B[0m | \u001B[0m0.7      \u001B[0m | \u001B[0m10.21    \u001B[0m | \u001B[0m0.02     \u001B[0m | \u001B[0m7.628    \u001B[0m | \u001B[0m9.246    \u001B[0m | \u001B[0m7.537    \u001B[0m | \u001B[0m1.164    \u001B[0m | \u001B[0m1.4      \u001B[0m | \u001B[0m1.0      \u001B[0m |\n",
      "하이퍼파라미터 :  {'max_depth': 5, 'learning_rate': 0.05528287278347259, 'subsample': 0.780924406810942, 'colsample_bytree': 0.7845696799538712, 'min_child_weight': 8.301241814450933, 'gamma': 9.058135516558217, 'reg_alpha': 7.836042669438813, 'reg_lambda': 1.333217415920183, 'scale_pos_weight': 1.5314334307917004, 'objective': 'reg:squarederror', 'random_state': 1991}\n"
     ]
    },
    {
     "name": "stderr",
     "output_type": "stream",
     "text": [
      "C:\\Users\\andyp\\anaconda3\\lib\\site-packages\\xgboost\\training.py:39: UserWarning: `feval` is deprecated, use `custom_metric` instead.  They have different behavior when custom objective is also used.See https://xgboost.readthedocs.io/en/latest/tutorials/custom_metric_obj.html for details on the `custom_metric`.\n",
      "  warnings.warn(\n"
     ]
    },
    {
     "name": "stdout",
     "output_type": "stream",
     "text": [
      "Mae_score : 355.17633064464616\n",
      "\n",
      "| \u001B[95m7        \u001B[0m | \u001B[95m-355.2   \u001B[0m | \u001B[95m0.7846   \u001B[0m | \u001B[95m9.058    \u001B[0m | \u001B[95m0.05528  \u001B[0m | \u001B[95m5.072    \u001B[0m | \u001B[95m8.301    \u001B[0m | \u001B[95m7.836    \u001B[0m | \u001B[95m1.333    \u001B[0m | \u001B[95m1.531    \u001B[0m | \u001B[95m0.7809   \u001B[0m |\n",
      "하이퍼파라미터 :  {'max_depth': 8, 'learning_rate': 0.03636748566053493, 'subsample': 0.6686820915509768, 'colsample_bytree': 0.8756518644781319, 'min_child_weight': 9.631041879942295, 'gamma': 10.33047027786976, 'reg_alpha': 7.271635324535415, 'reg_lambda': 1.10420691385065, 'scale_pos_weight': 1.4157661391137244, 'objective': 'reg:squarederror', 'random_state': 1991}\n"
     ]
    },
    {
     "name": "stderr",
     "output_type": "stream",
     "text": [
      "C:\\Users\\andyp\\anaconda3\\lib\\site-packages\\xgboost\\training.py:39: UserWarning: `feval` is deprecated, use `custom_metric` instead.  They have different behavior when custom objective is also used.See https://xgboost.readthedocs.io/en/latest/tutorials/custom_metric_obj.html for details on the `custom_metric`.\n",
      "  warnings.warn(\n"
     ]
    },
    {
     "name": "stdout",
     "output_type": "stream",
     "text": [
      "Mae_score : 353.5401724491601\n",
      "\n",
      "| \u001B[95m8        \u001B[0m | \u001B[95m-353.5   \u001B[0m | \u001B[95m0.8757   \u001B[0m | \u001B[95m10.33    \u001B[0m | \u001B[95m0.03637  \u001B[0m | \u001B[95m7.567    \u001B[0m | \u001B[95m9.631    \u001B[0m | \u001B[95m7.272    \u001B[0m | \u001B[95m1.104    \u001B[0m | \u001B[95m1.416    \u001B[0m | \u001B[95m0.6687   \u001B[0m |\n",
      "하이퍼파라미터 :  {'max_depth': 8, 'learning_rate': 0.02, 'subsample': 0.7890816799571522, 'colsample_bytree': 0.7491001035440062, 'min_child_weight': 9.92590993286214, 'gamma': 10.342253361464845, 'reg_alpha': 7.277545716582714, 'reg_lambda': 1.1, 'scale_pos_weight': 1.4, 'objective': 'reg:squarederror', 'random_state': 1991}\n"
     ]
    },
    {
     "name": "stderr",
     "output_type": "stream",
     "text": [
      "C:\\Users\\andyp\\anaconda3\\lib\\site-packages\\xgboost\\training.py:39: UserWarning: `feval` is deprecated, use `custom_metric` instead.  They have different behavior when custom objective is also used.See https://xgboost.readthedocs.io/en/latest/tutorials/custom_metric_obj.html for details on the `custom_metric`.\n",
      "  warnings.warn(\n"
     ]
    },
    {
     "name": "stdout",
     "output_type": "stream",
     "text": [
      "Mae_score : 363.28236893654963\n",
      "\n",
      "| \u001B[0m9        \u001B[0m | \u001B[0m-363.3   \u001B[0m | \u001B[0m0.7491   \u001B[0m | \u001B[0m10.34    \u001B[0m | \u001B[0m0.02     \u001B[0m | \u001B[0m7.801    \u001B[0m | \u001B[0m9.926    \u001B[0m | \u001B[0m7.278    \u001B[0m | \u001B[0m1.1      \u001B[0m | \u001B[0m1.4      \u001B[0m | \u001B[0m0.7891   \u001B[0m |\n",
      "=====================================================================================================================================\n",
      "Wall time: 24.2 s\n"
     ]
    }
   ],
   "source": [
    "%%time\n",
    "\n",
    "from bayes_opt import BayesianOptimization\n",
    "\n",
    "# 베이지안 최적화 객체 생성\n",
    "\n",
    "optimizer = BayesianOptimization(f= eval_function, pbounds = param_bounds , random_state= 0)\n",
    "\n",
    "\n",
    "# 베이지안 최적화 수행\n",
    "\n",
    "\n",
    "optimizer.maximize(init_points= 3 , n_iter= 6)"
   ],
   "metadata": {
    "collapsed": false,
    "pycharm": {
     "name": "#%%\n"
    }
   }
  },
  {
   "cell_type": "code",
   "execution_count": 53,
   "outputs": [
    {
     "data": {
      "text/plain": "{'colsample_bytree': 0.8756518644781319,\n 'gamma': 10.33047027786976,\n 'learning_rate': 0.03636748566053493,\n 'max_depth': 8,\n 'min_child_weight': 9.631041879942295,\n 'reg_alpha': 7.271635324535415,\n 'reg_lambda': 1.10420691385065,\n 'scale_pos_weight': 1.4157661391137244,\n 'subsample': 0.6686820915509768,\n 'objective': 'reg:squarederror',\n 'random_state': 1991}"
     },
     "execution_count": 53,
     "metadata": {},
     "output_type": "execute_result"
    }
   ],
   "source": [
    "# 평가함수 점수가 최대일 대 하이퍼파라미터\n",
    "max_params = optimizer.max['params']\n",
    "max_params\n",
    "max_params['max_depth'] = int(round(max_params['max_depth']))\n",
    "\n",
    "max_params.update(fixed_params)\n",
    "max_params"
   ],
   "metadata": {
    "collapsed": false,
    "pycharm": {
     "name": "#%%\n"
    }
   }
  },
  {
   "cell_type": "code",
   "execution_count": 54,
   "outputs": [
    {
     "name": "stdout",
     "output_type": "stream",
     "text": [
      "######################################## 폴드 1 / 폴드 5 ########################################\n",
      "[0]\tvalid-rmse:5945.62804\tvalid-Mae:5805.32129\n"
     ]
    },
    {
     "name": "stderr",
     "output_type": "stream",
     "text": [
      "C:\\Users\\andyp\\anaconda3\\lib\\site-packages\\xgboost\\training.py:39: UserWarning: `feval` is deprecated, use `custom_metric` instead.  They have different behavior when custom objective is also used.See https://xgboost.readthedocs.io/en/latest/tutorials/custom_metric_obj.html for details on the `custom_metric`.\n",
      "  warnings.warn(\n"
     ]
    },
    {
     "name": "stdout",
     "output_type": "stream",
     "text": [
      "[100]\tvalid-rmse:548.26903\tvalid-Mae:366.01141\n",
      "[199]\tvalid-rmse:529.86753\tvalid-Mae:344.50790\n",
      "폴드 1  MAE : 344.493129539042\n",
      "\n",
      "######################################## 폴드 2 / 폴드 5 ########################################\n",
      "[0]\tvalid-rmse:5933.47382\tvalid-Mae:5790.25244\n"
     ]
    },
    {
     "name": "stderr",
     "output_type": "stream",
     "text": [
      "C:\\Users\\andyp\\anaconda3\\lib\\site-packages\\xgboost\\training.py:39: UserWarning: `feval` is deprecated, use `custom_metric` instead.  They have different behavior when custom objective is also used.See https://xgboost.readthedocs.io/en/latest/tutorials/custom_metric_obj.html for details on the `custom_metric`.\n",
      "  warnings.warn(\n"
     ]
    },
    {
     "name": "stdout",
     "output_type": "stream",
     "text": [
      "[100]\tvalid-rmse:604.36342\tvalid-Mae:385.71432\n",
      "[199]\tvalid-rmse:582.26062\tvalid-Mae:359.00229\n",
      "폴드 2  MAE : 359.1452280858098\n",
      "\n",
      "######################################## 폴드 3 / 폴드 5 ########################################\n",
      "[0]\tvalid-rmse:5957.35363\tvalid-Mae:5810.45703\n"
     ]
    },
    {
     "name": "stderr",
     "output_type": "stream",
     "text": [
      "C:\\Users\\andyp\\anaconda3\\lib\\site-packages\\xgboost\\training.py:39: UserWarning: `feval` is deprecated, use `custom_metric` instead.  They have different behavior when custom objective is also used.See https://xgboost.readthedocs.io/en/latest/tutorials/custom_metric_obj.html for details on the `custom_metric`.\n",
      "  warnings.warn(\n"
     ]
    },
    {
     "name": "stdout",
     "output_type": "stream",
     "text": [
      "[100]\tvalid-rmse:596.30128\tvalid-Mae:382.21753\n",
      "[200]\tvalid-rmse:572.63650\tvalid-Mae:357.94775\n",
      "폴드 3  MAE : 357.9477871383461\n",
      "\n",
      "######################################## 폴드 4 / 폴드 5 ########################################\n",
      "[0]\tvalid-rmse:5955.55765\tvalid-Mae:5814.34277\n"
     ]
    },
    {
     "name": "stderr",
     "output_type": "stream",
     "text": [
      "C:\\Users\\andyp\\anaconda3\\lib\\site-packages\\xgboost\\training.py:39: UserWarning: `feval` is deprecated, use `custom_metric` instead.  They have different behavior when custom objective is also used.See https://xgboost.readthedocs.io/en/latest/tutorials/custom_metric_obj.html for details on the `custom_metric`.\n",
      "  warnings.warn(\n"
     ]
    },
    {
     "name": "stdout",
     "output_type": "stream",
     "text": [
      "[100]\tvalid-rmse:605.08281\tvalid-Mae:383.95645\n",
      "[199]\tvalid-rmse:586.94500\tvalid-Mae:360.61191\n",
      "폴드 4  MAE : 360.68786332138546\n",
      "\n",
      "######################################## 폴드 5 / 폴드 5 ########################################\n",
      "[0]\tvalid-rmse:5956.55394\tvalid-Mae:5809.38184\n"
     ]
    },
    {
     "name": "stderr",
     "output_type": "stream",
     "text": [
      "C:\\Users\\andyp\\anaconda3\\lib\\site-packages\\xgboost\\training.py:39: UserWarning: `feval` is deprecated, use `custom_metric` instead.  They have different behavior when custom objective is also used.See https://xgboost.readthedocs.io/en/latest/tutorials/custom_metric_obj.html for details on the `custom_metric`.\n",
      "  warnings.warn(\n"
     ]
    },
    {
     "name": "stdout",
     "output_type": "stream",
     "text": [
      "[100]\tvalid-rmse:558.72403\tvalid-Mae:366.31699\n",
      "[199]\tvalid-rmse:541.09589\tvalid-Mae:343.89902\n",
      "폴드 5  MAE : 343.9678172092738\n",
      "\n"
     ]
    }
   ],
   "source": [
    "from sklearn.model_selection import StratifiedKFold, KFold\n",
    "\n",
    "# 층화 K 폴드 교차 검증기 생성\n",
    "folds = KFold(n_splits= 5 , shuffle= True , random_state= 1991)\n",
    "\n",
    "# OOF 방식으로 훈련된 모델로 검증 데이터 타깃값을 예측한 확률을 담을 1차원 배열\n",
    "oof_val_preds = np.zeros(X.shape[0])\n",
    "# # OOF 방식으로 훈련된 모델로 테스트 데이터 타깃값을 예측한 확률을 담을 1차원 배열\n",
    "oof_test_preds = np.zeros(X_test.shape[0])\n",
    "# OOF 방식으로 훈련된 모델 훈련 , 검증 , 예측\n",
    "\n",
    "for idx , (train_idx , valid_idx) in enumerate(folds.split(X,y)):\n",
    "    # 각 폴드를 구분하는 문구 출력\n",
    "\n",
    "    print('#' *40,  f'폴드 {idx+1} / 폴드 {folds.n_splits}' , '#'*40)\n",
    "\n",
    "\n",
    "    # 훈련용 데이터, 검증용 데이터 설정\n",
    "    X_train , y_train = X[train_idx] , y[train_idx]\n",
    "    X_valid , y_valid = X[valid_idx] , y[valid_idx]\n",
    "\n",
    "    #XGBoost 전용 데이터셋 생성\n",
    "\n",
    "    dtrain = xgb.DMatrix(X_train , y_train)\n",
    "    dvalid = xgb.DMatrix(X_valid , y_valid)\n",
    "    dtest = xgb.DMatrix(X_test)\n",
    "\n",
    "    #XGBoost 모델 훈련\n",
    "    xgb_model = xgb.train(params = max_params,\n",
    "                          dtrain = dtrain,\n",
    "                          num_boost_round = 2000,\n",
    "                          evals = [(dvalid , 'valid')],\n",
    "                          maximize = True,\n",
    "                          feval = mae_scorer,\n",
    "                          early_stopping_rounds = 200,\n",
    "                          verbose_eval = 100)\n",
    "\n",
    "    # 모델 성능이 가장 좋을 때의 부스팅 반복 횟수 저장\n",
    "    best_iter= xgb_model.best_iteration\n",
    "    # 테스트 데이터를 활용해 OOF 예측\n",
    "\n",
    "    oof_test_preds += xgb_model.predict(dtest, iteration_range = (0 , best_iter))/ folds.n_splits\n",
    "\n",
    "    oof_test_preds_xgb = oof_test_preds\n",
    "    # 모델 성능 평가를 위한 검증 데이터 타깃값 예측\n",
    "    oof_val_preds[valid_idx] += xgb_model.predict(dvalid , iteration_range=(0, best_iter))\n",
    "\n",
    "\n",
    "    # 검증 데이터 예측 확률에 대한 정규화 지니계수\n",
    "    mae_score = mean_absolute_error(y_valid , oof_val_preds[valid_idx])\n",
    "    print(f'폴드 {idx+1}  MAE : {mae_score}\\n')"
   ],
   "metadata": {
    "collapsed": false,
    "pycharm": {
     "name": "#%%\n"
    }
   }
  },
  {
   "cell_type": "code",
   "execution_count": 55,
   "outputs": [
    {
     "data": {
      "text/plain": "array([4268.87609863, 6203.63574219, 7198.43139648, ..., 6485.14709473,\n       4415.43823242, 7262.14294434])"
     },
     "execution_count": 55,
     "metadata": {},
     "output_type": "execute_result"
    }
   ],
   "source": [
    "y_preds = oof_test_preds\n",
    "y_preds"
   ],
   "metadata": {
    "collapsed": false,
    "pycharm": {
     "name": "#%%\n"
    }
   }
  },
  {
   "cell_type": "code",
   "execution_count": 56,
   "outputs": [],
   "source": [
    "from sklearn.model_selection import train_test_split\n",
    "\n",
    "\n",
    "num_train = len(train)  # 훈련 데이터 개수\n",
    "\n",
    "# 훈련 데이터와 테스트 데이터 나누기\n",
    "\n",
    "X = train_2  # 0~num_train -1 행\n",
    "X_test = test  # num_train ~ 마지막 행\n",
    "\n",
    "y = train['yield'].values\n",
    "\n",
    "X_train, X_valid, y_train, y_valid = train_test_split(X, y, test_size=0.2, random_state=0)"
   ],
   "metadata": {
    "collapsed": false,
    "pycharm": {
     "name": "#%%\n"
    }
   }
  },
  {
   "cell_type": "code",
   "execution_count": 57,
   "outputs": [
    {
     "name": "stdout",
     "output_type": "stream",
     "text": [
      "MAE: 316.3754074238166\n"
     ]
    }
   ],
   "source": [
    "from sklearn.metrics import mean_absolute_error\n",
    "\n",
    "\n",
    "dvalid = xgb.DMatrix(X_valid)\n",
    "\n",
    "y_pred = xgb_model.predict(dvalid)\n",
    "\n",
    "# MAE 계산\n",
    "mae = mean_absolute_error(y_valid, y_pred)\n",
    "print(\"MAE:\", mae)"
   ],
   "metadata": {
    "collapsed": false,
    "pycharm": {
     "name": "#%%\n"
    }
   }
  },
  {
   "cell_type": "code",
   "execution_count": 58,
   "outputs": [
    {
     "name": "stdout",
     "output_type": "stream",
     "text": [
      "현재 날짜 및 시각 :  [6, 9, 14, 27, 26]\n"
     ]
    }
   ],
   "source": [
    "import datetime\n",
    "\n",
    "# 현재 날짜와 시각 구하기\n",
    "now = datetime.datetime.now()\n",
    "date_list = [now.month, now.day, now.hour, now.minute, now.second]\n",
    "# 현재 날짜와 시각 출력하기\n",
    "print(\"현재 날짜 및 시각 : \", date_list)\n",
    "\n",
    "# 제출 파일 생성\n",
    "\n",
    "submission['yield'] = y_preds\n",
    "submission.to_csv(f'submission_from_Kaggle_{date_list[0]}_{date_list[1]}_{date_list[2]}_{date_list[3]}_{date_list[4]}.csv')"
   ],
   "metadata": {
    "collapsed": false,
    "pycharm": {
     "name": "#%%\n"
    }
   }
  },
  {
   "cell_type": "code",
   "execution_count": null,
   "outputs": [],
   "source": [],
   "metadata": {
    "collapsed": false,
    "pycharm": {
     "name": "#%%\n"
    }
   }
  }
 ],
 "metadata": {
  "kernelspec": {
   "display_name": "Python 3",
   "language": "python",
   "name": "python3"
  },
  "language_info": {
   "codemirror_mode": {
    "name": "ipython",
    "version": 2
   },
   "file_extension": ".py",
   "mimetype": "text/x-python",
   "name": "python",
   "nbconvert_exporter": "python",
   "pygments_lexer": "ipython2",
   "version": "2.7.6"
  }
 },
 "nbformat": 4,
 "nbformat_minor": 0
}