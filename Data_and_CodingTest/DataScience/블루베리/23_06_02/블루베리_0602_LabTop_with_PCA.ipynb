{
 "cells": [
  {
   "cell_type": "code",
   "execution_count": 69,
   "metadata": {
    "collapsed": true,
    "pycharm": {
     "name": "#%%\n"
    }
   },
   "outputs": [],
   "source": [
    "import itertools\n",
    "import platform\n",
    "import matplotlib\n",
    "import pandas as pd\n",
    "import matplotlib.pyplot as plt\n",
    "from matplotlib import font_manager, rc\n",
    "import seaborn as sns\n",
    "%precision 3\n",
    "from matplotlib import pyplot as plt\n",
    "%matplotlib inline\n",
    "#그래프를 주피터 놋북에 그리기 위해\n",
    "import numpy as np\n",
    "import copy\n",
    "from matplotlib import ticker\n",
    "from scipy.stats import probplot\n",
    "from scipy import stats\n",
    "import collections\n",
    "import itertools\n",
    "import math\n",
    "#from varname import nameof\n",
    "import sys\n",
    "from scipy import stats\n",
    "from scipy.stats import bernoulli\n",
    "import scipy\n",
    "from collections import deque\n",
    "from sympy import Symbol, solve\n",
    "\n",
    "#히스토그램 그리기\n",
    "# Window\n",
    "if platform.system() == 'Windows':\n",
    "    matplotlib.rc('font', family='Malgun Gothic')\n",
    "elif platform.system() == 'Darwin': # Mac\n",
    "    matplotlib.rc('font', family='AppleGothic')\n",
    "else: #linux\n",
    "    matplotlib.rc('font', family='NanumGothic')\n",
    "\n",
    "# 그래프에 마이너스 표시가 되도록 변경\n",
    "matplotlib.rcParams['axes.unicode_minus'] = False\n",
    "\n",
    "# 한글 폰트 설정\n",
    "font_location = 'C:/Windows/Fonts/MALGUNSL.TTF' #맑은고딕\n",
    "font_name = font_manager.FontProperties(fname=font_location).get_name()\n",
    "rc('font',family=font_name)"
   ]
  },
  {
   "cell_type": "code",
   "execution_count": 70,
   "outputs": [],
   "source": [
    "import pandas as pd\n",
    "\n",
    "data_path = '../blue_berry/'\n",
    "\n",
    "train = pd.read_csv(data_path + 'train.csv' , index_col = 'id')\n",
    "test = pd.read_csv(data_path + 'test.csv' , index_col = 'id')\n",
    "submission = pd.read_csv(data_path + 'sample_submission.csv' , index_col= 'id')"
   ],
   "metadata": {
    "collapsed": false,
    "pycharm": {
     "name": "#%%\n"
    }
   }
  },
  {
   "cell_type": "code",
   "execution_count": 71,
   "outputs": [
    {
     "data": {
      "text/plain": "       clonesize  honeybee  bumbles  andrena  osmia  MaxOfUpperTRange  \\\nid                                                                      \n0           25.0      0.50     0.25     0.75   0.50              69.7   \n1           25.0      0.50     0.25     0.50   0.50              69.7   \n2           12.5      0.25     0.25     0.63   0.63              86.0   \n3           12.5      0.25     0.25     0.63   0.50              77.4   \n4           25.0      0.50     0.25     0.63   0.63              77.4   \n...          ...       ...      ...      ...    ...               ...   \n15284       12.5      0.25     0.25     0.38   0.50              77.4   \n15285       12.5      0.25     0.25     0.25   0.50              86.0   \n15286       25.0      0.50     0.25     0.38   0.75              77.4   \n15287       25.0      0.50     0.25     0.63   0.63              69.7   \n15288       25.0      0.50     0.25     0.63   0.50              77.4   \n\n       MinOfUpperTRange  AverageOfUpperTRange  MaxOfLowerTRange  \\\nid                                                                \n0                  42.1                  58.2              50.2   \n1                  42.1                  58.2              50.2   \n2                  52.0                  71.9              62.0   \n3                  46.8                  64.7              55.8   \n4                  46.8                  64.7              55.8   \n...                 ...                   ...               ...   \n15284              46.8                  64.7              55.8   \n15285              52.0                  71.9              62.0   \n15286              46.8                  64.7              55.8   \n15287              42.1                  58.2              50.2   \n15288              46.8                  64.7              55.8   \n\n       MinOfLowerTRange  AverageOfLowerTRange  RainingDays  \\\nid                                                           \n0                  24.3                  41.2         24.0   \n1                  24.3                  41.2         24.0   \n2                  30.0                  50.8         24.0   \n3                  27.0                  45.8         24.0   \n4                  27.0                  45.8         24.0   \n...                 ...                   ...          ...   \n15284              27.0                  45.8         16.0   \n15285              30.0                  50.8         34.0   \n15286              27.0                  45.8         34.0   \n15287              24.3                  41.2         24.0   \n15288              27.0                  45.8         16.0   \n\n       AverageRainingDays  fruitset  fruitmass      seeds       yield  \nid                                                                     \n0                    0.39  0.425011   0.417545  32.460887  4476.81146  \n1                    0.39  0.444908   0.422051  33.858317  5548.12201  \n2                    0.39  0.552927   0.470853  38.341781  6869.77760  \n3                    0.39  0.565976   0.478137  39.467561  6880.77590  \n4                    0.39  0.579677   0.494165  40.484512  7479.93417  \n...                   ...       ...        ...        ...         ...  \n15284                0.26  0.556302   0.476308  40.546480  7667.83619  \n15285                0.56  0.354413   0.388145  29.467434  3680.56025  \n15286                0.56  0.422548   0.416786  32.299059  4696.44394  \n15287                0.39  0.542170   0.434133  36.674243  6772.93347  \n15288                0.26  0.492077   0.446576  35.094733  5867.99722  \n\n[15289 rows x 17 columns]",
      "text/html": "<div>\n<style scoped>\n    .dataframe tbody tr th:only-of-type {\n        vertical-align: middle;\n    }\n\n    .dataframe tbody tr th {\n        vertical-align: top;\n    }\n\n    .dataframe thead th {\n        text-align: right;\n    }\n</style>\n<table border=\"1\" class=\"dataframe\">\n  <thead>\n    <tr style=\"text-align: right;\">\n      <th></th>\n      <th>clonesize</th>\n      <th>honeybee</th>\n      <th>bumbles</th>\n      <th>andrena</th>\n      <th>osmia</th>\n      <th>MaxOfUpperTRange</th>\n      <th>MinOfUpperTRange</th>\n      <th>AverageOfUpperTRange</th>\n      <th>MaxOfLowerTRange</th>\n      <th>MinOfLowerTRange</th>\n      <th>AverageOfLowerTRange</th>\n      <th>RainingDays</th>\n      <th>AverageRainingDays</th>\n      <th>fruitset</th>\n      <th>fruitmass</th>\n      <th>seeds</th>\n      <th>yield</th>\n    </tr>\n    <tr>\n      <th>id</th>\n      <th></th>\n      <th></th>\n      <th></th>\n      <th></th>\n      <th></th>\n      <th></th>\n      <th></th>\n      <th></th>\n      <th></th>\n      <th></th>\n      <th></th>\n      <th></th>\n      <th></th>\n      <th></th>\n      <th></th>\n      <th></th>\n      <th></th>\n    </tr>\n  </thead>\n  <tbody>\n    <tr>\n      <th>0</th>\n      <td>25.0</td>\n      <td>0.50</td>\n      <td>0.25</td>\n      <td>0.75</td>\n      <td>0.50</td>\n      <td>69.7</td>\n      <td>42.1</td>\n      <td>58.2</td>\n      <td>50.2</td>\n      <td>24.3</td>\n      <td>41.2</td>\n      <td>24.0</td>\n      <td>0.39</td>\n      <td>0.425011</td>\n      <td>0.417545</td>\n      <td>32.460887</td>\n      <td>4476.81146</td>\n    </tr>\n    <tr>\n      <th>1</th>\n      <td>25.0</td>\n      <td>0.50</td>\n      <td>0.25</td>\n      <td>0.50</td>\n      <td>0.50</td>\n      <td>69.7</td>\n      <td>42.1</td>\n      <td>58.2</td>\n      <td>50.2</td>\n      <td>24.3</td>\n      <td>41.2</td>\n      <td>24.0</td>\n      <td>0.39</td>\n      <td>0.444908</td>\n      <td>0.422051</td>\n      <td>33.858317</td>\n      <td>5548.12201</td>\n    </tr>\n    <tr>\n      <th>2</th>\n      <td>12.5</td>\n      <td>0.25</td>\n      <td>0.25</td>\n      <td>0.63</td>\n      <td>0.63</td>\n      <td>86.0</td>\n      <td>52.0</td>\n      <td>71.9</td>\n      <td>62.0</td>\n      <td>30.0</td>\n      <td>50.8</td>\n      <td>24.0</td>\n      <td>0.39</td>\n      <td>0.552927</td>\n      <td>0.470853</td>\n      <td>38.341781</td>\n      <td>6869.77760</td>\n    </tr>\n    <tr>\n      <th>3</th>\n      <td>12.5</td>\n      <td>0.25</td>\n      <td>0.25</td>\n      <td>0.63</td>\n      <td>0.50</td>\n      <td>77.4</td>\n      <td>46.8</td>\n      <td>64.7</td>\n      <td>55.8</td>\n      <td>27.0</td>\n      <td>45.8</td>\n      <td>24.0</td>\n      <td>0.39</td>\n      <td>0.565976</td>\n      <td>0.478137</td>\n      <td>39.467561</td>\n      <td>6880.77590</td>\n    </tr>\n    <tr>\n      <th>4</th>\n      <td>25.0</td>\n      <td>0.50</td>\n      <td>0.25</td>\n      <td>0.63</td>\n      <td>0.63</td>\n      <td>77.4</td>\n      <td>46.8</td>\n      <td>64.7</td>\n      <td>55.8</td>\n      <td>27.0</td>\n      <td>45.8</td>\n      <td>24.0</td>\n      <td>0.39</td>\n      <td>0.579677</td>\n      <td>0.494165</td>\n      <td>40.484512</td>\n      <td>7479.93417</td>\n    </tr>\n    <tr>\n      <th>...</th>\n      <td>...</td>\n      <td>...</td>\n      <td>...</td>\n      <td>...</td>\n      <td>...</td>\n      <td>...</td>\n      <td>...</td>\n      <td>...</td>\n      <td>...</td>\n      <td>...</td>\n      <td>...</td>\n      <td>...</td>\n      <td>...</td>\n      <td>...</td>\n      <td>...</td>\n      <td>...</td>\n      <td>...</td>\n    </tr>\n    <tr>\n      <th>15284</th>\n      <td>12.5</td>\n      <td>0.25</td>\n      <td>0.25</td>\n      <td>0.38</td>\n      <td>0.50</td>\n      <td>77.4</td>\n      <td>46.8</td>\n      <td>64.7</td>\n      <td>55.8</td>\n      <td>27.0</td>\n      <td>45.8</td>\n      <td>16.0</td>\n      <td>0.26</td>\n      <td>0.556302</td>\n      <td>0.476308</td>\n      <td>40.546480</td>\n      <td>7667.83619</td>\n    </tr>\n    <tr>\n      <th>15285</th>\n      <td>12.5</td>\n      <td>0.25</td>\n      <td>0.25</td>\n      <td>0.25</td>\n      <td>0.50</td>\n      <td>86.0</td>\n      <td>52.0</td>\n      <td>71.9</td>\n      <td>62.0</td>\n      <td>30.0</td>\n      <td>50.8</td>\n      <td>34.0</td>\n      <td>0.56</td>\n      <td>0.354413</td>\n      <td>0.388145</td>\n      <td>29.467434</td>\n      <td>3680.56025</td>\n    </tr>\n    <tr>\n      <th>15286</th>\n      <td>25.0</td>\n      <td>0.50</td>\n      <td>0.25</td>\n      <td>0.38</td>\n      <td>0.75</td>\n      <td>77.4</td>\n      <td>46.8</td>\n      <td>64.7</td>\n      <td>55.8</td>\n      <td>27.0</td>\n      <td>45.8</td>\n      <td>34.0</td>\n      <td>0.56</td>\n      <td>0.422548</td>\n      <td>0.416786</td>\n      <td>32.299059</td>\n      <td>4696.44394</td>\n    </tr>\n    <tr>\n      <th>15287</th>\n      <td>25.0</td>\n      <td>0.50</td>\n      <td>0.25</td>\n      <td>0.63</td>\n      <td>0.63</td>\n      <td>69.7</td>\n      <td>42.1</td>\n      <td>58.2</td>\n      <td>50.2</td>\n      <td>24.3</td>\n      <td>41.2</td>\n      <td>24.0</td>\n      <td>0.39</td>\n      <td>0.542170</td>\n      <td>0.434133</td>\n      <td>36.674243</td>\n      <td>6772.93347</td>\n    </tr>\n    <tr>\n      <th>15288</th>\n      <td>25.0</td>\n      <td>0.50</td>\n      <td>0.25</td>\n      <td>0.63</td>\n      <td>0.50</td>\n      <td>77.4</td>\n      <td>46.8</td>\n      <td>64.7</td>\n      <td>55.8</td>\n      <td>27.0</td>\n      <td>45.8</td>\n      <td>16.0</td>\n      <td>0.26</td>\n      <td>0.492077</td>\n      <td>0.446576</td>\n      <td>35.094733</td>\n      <td>5867.99722</td>\n    </tr>\n  </tbody>\n</table>\n<p>15289 rows × 17 columns</p>\n</div>"
     },
     "execution_count": 71,
     "metadata": {},
     "output_type": "execute_result"
    }
   ],
   "source": [
    "train"
   ],
   "metadata": {
    "collapsed": false,
    "pycharm": {
     "name": "#%%\n"
    }
   }
  },
  {
   "cell_type": "code",
   "execution_count": 72,
   "outputs": [
    {
     "name": "stdout",
     "output_type": "stream",
     "text": [
      "<class 'pandas.core.frame.DataFrame'>\n",
      "Index: 15289 entries, 0 to 15288\n",
      "Data columns (total 17 columns):\n",
      " #   Column                Non-Null Count  Dtype  \n",
      "---  ------                --------------  -----  \n",
      " 0   clonesize             15289 non-null  float64\n",
      " 1   honeybee              15289 non-null  float64\n",
      " 2   bumbles               15289 non-null  float64\n",
      " 3   andrena               15289 non-null  float64\n",
      " 4   osmia                 15289 non-null  float64\n",
      " 5   MaxOfUpperTRange      15289 non-null  float64\n",
      " 6   MinOfUpperTRange      15289 non-null  float64\n",
      " 7   AverageOfUpperTRange  15289 non-null  float64\n",
      " 8   MaxOfLowerTRange      15289 non-null  float64\n",
      " 9   MinOfLowerTRange      15289 non-null  float64\n",
      " 10  AverageOfLowerTRange  15289 non-null  float64\n",
      " 11  RainingDays           15289 non-null  float64\n",
      " 12  AverageRainingDays    15289 non-null  float64\n",
      " 13  fruitset              15289 non-null  float64\n",
      " 14  fruitmass             15289 non-null  float64\n",
      " 15  seeds                 15289 non-null  float64\n",
      " 16  yield                 15289 non-null  float64\n",
      "dtypes: float64(17)\n",
      "memory usage: 2.1 MB\n"
     ]
    }
   ],
   "source": [
    "train.info()"
   ],
   "metadata": {
    "collapsed": false,
    "pycharm": {
     "name": "#%%\n"
    }
   }
  },
  {
   "cell_type": "code",
   "execution_count": 73,
   "outputs": [
    {
     "data": {
      "text/plain": "          clonesize      honeybee       bumbles       andrena         osmia  \\\ncount  15289.000000  15289.000000  15289.000000  15289.000000  15289.000000   \nmean      19.704690      0.389314      0.286768      0.492675      0.592355   \nstd        6.595211      0.361643      0.059917      0.148115      0.139489   \nmin       10.000000      0.000000      0.000000      0.000000      0.000000   \n25%       12.500000      0.250000      0.250000      0.380000      0.500000   \n50%       25.000000      0.500000      0.250000      0.500000      0.630000   \n75%       25.000000      0.500000      0.380000      0.630000      0.750000   \nmax       40.000000     18.430000      0.585000      0.750000      0.750000   \n\n       MaxOfUpperTRange  MinOfUpperTRange  AverageOfUpperTRange  \\\ncount      15289.000000      15289.000000          15289.000000   \nmean          82.169887         49.673281             68.656256   \nstd            9.146703          5.546405              7.641807   \nmin           69.700000         39.000000             58.200000   \n25%           77.400000         46.800000             64.700000   \n50%           86.000000         52.000000             71.900000   \n75%           86.000000         52.000000             71.900000   \nmax           94.600000         57.200000             79.000000   \n\n       MaxOfLowerTRange  MinOfLowerTRange  AverageOfLowerTRange   RainingDays  \\\ncount      15289.000000      15289.000000          15289.000000  15289.000000   \nmean          59.229538         28.660553             48.568500     18.660865   \nstd            6.610640          3.195367              5.390545     11.657582   \nmin           50.200000         24.300000             41.200000      1.000000   \n25%           55.800000         27.000000             45.800000     16.000000   \n50%           62.000000         30.000000             50.800000     16.000000   \n75%           62.000000         30.000000             50.800000     24.000000   \nmax           68.200000         33.000000             55.900000     34.000000   \n\n       AverageRainingDays      fruitset     fruitmass         seeds  \\\ncount        15289.000000  15289.000000  15289.000000  15289.000000   \nmean             0.324176      0.502741      0.446553     36.164950   \nstd              0.163905      0.074390      0.037035      4.031087   \nmin              0.060000      0.192732      0.311921     22.079199   \n25%              0.260000      0.458246      0.419216     33.232449   \n50%              0.260000      0.506600      0.446570     36.040675   \n75%              0.390000      0.560445      0.474134     39.158238   \nmax              0.560000      0.652144      0.535660     46.585105   \n\n              yield  \ncount  15289.000000  \nmean    6025.193999  \nstd     1337.056850  \nmin     1945.530610  \n25%     5128.163510  \n50%     6117.475900  \n75%     7019.694380  \nmax     8969.401840  ",
      "text/html": "<div>\n<style scoped>\n    .dataframe tbody tr th:only-of-type {\n        vertical-align: middle;\n    }\n\n    .dataframe tbody tr th {\n        vertical-align: top;\n    }\n\n    .dataframe thead th {\n        text-align: right;\n    }\n</style>\n<table border=\"1\" class=\"dataframe\">\n  <thead>\n    <tr style=\"text-align: right;\">\n      <th></th>\n      <th>clonesize</th>\n      <th>honeybee</th>\n      <th>bumbles</th>\n      <th>andrena</th>\n      <th>osmia</th>\n      <th>MaxOfUpperTRange</th>\n      <th>MinOfUpperTRange</th>\n      <th>AverageOfUpperTRange</th>\n      <th>MaxOfLowerTRange</th>\n      <th>MinOfLowerTRange</th>\n      <th>AverageOfLowerTRange</th>\n      <th>RainingDays</th>\n      <th>AverageRainingDays</th>\n      <th>fruitset</th>\n      <th>fruitmass</th>\n      <th>seeds</th>\n      <th>yield</th>\n    </tr>\n  </thead>\n  <tbody>\n    <tr>\n      <th>count</th>\n      <td>15289.000000</td>\n      <td>15289.000000</td>\n      <td>15289.000000</td>\n      <td>15289.000000</td>\n      <td>15289.000000</td>\n      <td>15289.000000</td>\n      <td>15289.000000</td>\n      <td>15289.000000</td>\n      <td>15289.000000</td>\n      <td>15289.000000</td>\n      <td>15289.000000</td>\n      <td>15289.000000</td>\n      <td>15289.000000</td>\n      <td>15289.000000</td>\n      <td>15289.000000</td>\n      <td>15289.000000</td>\n      <td>15289.000000</td>\n    </tr>\n    <tr>\n      <th>mean</th>\n      <td>19.704690</td>\n      <td>0.389314</td>\n      <td>0.286768</td>\n      <td>0.492675</td>\n      <td>0.592355</td>\n      <td>82.169887</td>\n      <td>49.673281</td>\n      <td>68.656256</td>\n      <td>59.229538</td>\n      <td>28.660553</td>\n      <td>48.568500</td>\n      <td>18.660865</td>\n      <td>0.324176</td>\n      <td>0.502741</td>\n      <td>0.446553</td>\n      <td>36.164950</td>\n      <td>6025.193999</td>\n    </tr>\n    <tr>\n      <th>std</th>\n      <td>6.595211</td>\n      <td>0.361643</td>\n      <td>0.059917</td>\n      <td>0.148115</td>\n      <td>0.139489</td>\n      <td>9.146703</td>\n      <td>5.546405</td>\n      <td>7.641807</td>\n      <td>6.610640</td>\n      <td>3.195367</td>\n      <td>5.390545</td>\n      <td>11.657582</td>\n      <td>0.163905</td>\n      <td>0.074390</td>\n      <td>0.037035</td>\n      <td>4.031087</td>\n      <td>1337.056850</td>\n    </tr>\n    <tr>\n      <th>min</th>\n      <td>10.000000</td>\n      <td>0.000000</td>\n      <td>0.000000</td>\n      <td>0.000000</td>\n      <td>0.000000</td>\n      <td>69.700000</td>\n      <td>39.000000</td>\n      <td>58.200000</td>\n      <td>50.200000</td>\n      <td>24.300000</td>\n      <td>41.200000</td>\n      <td>1.000000</td>\n      <td>0.060000</td>\n      <td>0.192732</td>\n      <td>0.311921</td>\n      <td>22.079199</td>\n      <td>1945.530610</td>\n    </tr>\n    <tr>\n      <th>25%</th>\n      <td>12.500000</td>\n      <td>0.250000</td>\n      <td>0.250000</td>\n      <td>0.380000</td>\n      <td>0.500000</td>\n      <td>77.400000</td>\n      <td>46.800000</td>\n      <td>64.700000</td>\n      <td>55.800000</td>\n      <td>27.000000</td>\n      <td>45.800000</td>\n      <td>16.000000</td>\n      <td>0.260000</td>\n      <td>0.458246</td>\n      <td>0.419216</td>\n      <td>33.232449</td>\n      <td>5128.163510</td>\n    </tr>\n    <tr>\n      <th>50%</th>\n      <td>25.000000</td>\n      <td>0.500000</td>\n      <td>0.250000</td>\n      <td>0.500000</td>\n      <td>0.630000</td>\n      <td>86.000000</td>\n      <td>52.000000</td>\n      <td>71.900000</td>\n      <td>62.000000</td>\n      <td>30.000000</td>\n      <td>50.800000</td>\n      <td>16.000000</td>\n      <td>0.260000</td>\n      <td>0.506600</td>\n      <td>0.446570</td>\n      <td>36.040675</td>\n      <td>6117.475900</td>\n    </tr>\n    <tr>\n      <th>75%</th>\n      <td>25.000000</td>\n      <td>0.500000</td>\n      <td>0.380000</td>\n      <td>0.630000</td>\n      <td>0.750000</td>\n      <td>86.000000</td>\n      <td>52.000000</td>\n      <td>71.900000</td>\n      <td>62.000000</td>\n      <td>30.000000</td>\n      <td>50.800000</td>\n      <td>24.000000</td>\n      <td>0.390000</td>\n      <td>0.560445</td>\n      <td>0.474134</td>\n      <td>39.158238</td>\n      <td>7019.694380</td>\n    </tr>\n    <tr>\n      <th>max</th>\n      <td>40.000000</td>\n      <td>18.430000</td>\n      <td>0.585000</td>\n      <td>0.750000</td>\n      <td>0.750000</td>\n      <td>94.600000</td>\n      <td>57.200000</td>\n      <td>79.000000</td>\n      <td>68.200000</td>\n      <td>33.000000</td>\n      <td>55.900000</td>\n      <td>34.000000</td>\n      <td>0.560000</td>\n      <td>0.652144</td>\n      <td>0.535660</td>\n      <td>46.585105</td>\n      <td>8969.401840</td>\n    </tr>\n  </tbody>\n</table>\n</div>"
     },
     "execution_count": 73,
     "metadata": {},
     "output_type": "execute_result"
    }
   ],
   "source": [
    "train.describe()"
   ],
   "metadata": {
    "collapsed": false,
    "pycharm": {
     "name": "#%%\n"
    }
   }
  },
  {
   "cell_type": "code",
   "execution_count": 74,
   "outputs": [
    {
     "data": {
      "text/plain": "<Figure size 864x864 with 16 Axes>",
      "image/png": "[encoded data removed]"
     },
     "metadata": {
      "needs_background": "light"
     },
     "output_type": "display_data"
    }
   ],
   "source": [
    "import seaborn as sns\n",
    "import matplotlib.pyplot as plt\n",
    "\n",
    "# 피처 개수 설정\n",
    "num_features = 16\n",
    "\n",
    "# 박스플롯 그리드 생성\n",
    "fig, axes = plt.subplots(nrows=num_features // 4, ncols=4, figsize=(12, 12))\n",
    "\n",
    "# 각 피처별 박스플롯 그리기\n",
    "for i, col in enumerate(train.columns[:num_features]):\n",
    "    ax = axes[i // 4, i % 4]  # 서브플롯 위치 설정\n",
    "    sns.boxplot(x=train[col], ax=ax)  # 박스플롯 그리기\n",
    "    ax.set_title(col)  # 서브플롯 제목 설정\n",
    "\n",
    "plt.tight_layout()  # 서브플롯 간격 조정\n",
    "plt.show()"
   ],
   "metadata": {
    "collapsed": false,
    "pycharm": {
     "name": "#%%\n"
    }
   }
  },
  {
   "cell_type": "code",
   "execution_count": 75,
   "outputs": [
    {
     "data": {
      "text/plain": "       clonesize  honeybee  bumbles  andrena  osmia  MaxOfUpperTRange  \\\nid                                                                      \n15289       25.0      0.25     0.25     0.25   0.25              86.0   \n15290       12.5      0.25     0.25     0.75   0.63              94.6   \n15291       12.5      0.25     0.25     0.63   0.63              86.0   \n15292       25.0      0.50     0.38     0.38   0.63              86.0   \n15293       37.5      0.75     0.25     0.25   0.25              94.6   \n...          ...       ...      ...      ...    ...               ...   \n25478       25.0      0.25     0.25     0.25   0.25              86.0   \n25479       25.0      0.50     0.25     0.50   0.75              77.4   \n25480       25.0      0.50     0.38     0.50   0.50              77.4   \n25481       12.5      0.25     0.25     0.38   0.50              94.6   \n25482       12.5      0.25     0.25     0.50   0.50              77.4   \n\n       MinOfUpperTRange  AverageOfUpperTRange  MaxOfLowerTRange  \\\nid                                                                \n15289              52.0                  71.9              62.0   \n15290              57.2                  79.0              68.2   \n15291              52.0                  71.9              62.0   \n15292              52.0                  71.9              62.0   \n15293              57.2                  79.0              68.2   \n...                 ...                   ...               ...   \n25478              52.0                  71.9              62.0   \n25479              46.8                  64.7              55.8   \n25480              46.8                  64.7              55.8   \n25481              57.2                  79.0              68.2   \n25482              46.8                  64.7              55.8   \n\n       MinOfLowerTRange  AverageOfLowerTRange  RainingDays  \\\nid                                                           \n15289              30.0                  50.8         24.0   \n15290              33.0                  55.9          1.0   \n15291              30.0                  50.8         16.0   \n15292              30.0                  50.8         16.0   \n15293              33.0                  55.9         24.0   \n...                 ...                   ...          ...   \n25478              30.0                  50.8         24.0   \n25479              27.0                  45.8         16.0   \n25480              27.0                  45.8         16.0   \n25481              33.0                  55.9         34.0   \n25482              27.0                  45.8          1.0   \n\n       AverageRainingDays  fruitset  fruitmass      seeds  \nid                                                         \n15289                0.39  0.399367   0.408088  31.394569  \n15290                0.10  0.488048   0.442866  36.846956  \n15291                0.26  0.583379   0.487057  40.037644  \n15292                0.26  0.433014   0.422847  33.116091  \n15293                0.39  0.360996   0.388860  29.558019  \n...                   ...       ...        ...        ...  \n25478                0.39  0.474162   0.437923  34.525258  \n25479                0.26  0.482854   0.440676  35.648221  \n25480                0.26  0.568854   0.463065  37.724724  \n25481                0.56  0.407374   0.409261  31.881847  \n25482                0.10  0.579677   0.486202  40.265408  \n\n[10194 rows x 16 columns]",
      "text/html": "<div>\n<style scoped>\n    .dataframe tbody tr th:only-of-type {\n        vertical-align: middle;\n    }\n\n    .dataframe tbody tr th {\n        vertical-align: top;\n    }\n\n    .dataframe thead th {\n        text-align: right;\n    }\n</style>\n<table border=\"1\" class=\"dataframe\">\n  <thead>\n    <tr style=\"text-align: right;\">\n      <th></th>\n      <th>clonesize</th>\n      <th>honeybee</th>\n      <th>bumbles</th>\n      <th>andrena</th>\n      <th>osmia</th>\n      <th>MaxOfUpperTRange</th>\n      <th>MinOfUpperTRange</th>\n      <th>AverageOfUpperTRange</th>\n      <th>MaxOfLowerTRange</th>\n      <th>MinOfLowerTRange</th>\n      <th>AverageOfLowerTRange</th>\n      <th>RainingDays</th>\n      <th>AverageRainingDays</th>\n      <th>fruitset</th>\n      <th>fruitmass</th>\n      <th>seeds</th>\n    </tr>\n    <tr>\n      <th>id</th>\n      <th></th>\n      <th></th>\n      <th></th>\n      <th></th>\n      <th></th>\n      <th></th>\n      <th></th>\n      <th></th>\n      <th></th>\n      <th></th>\n      <th></th>\n      <th></th>\n      <th></th>\n      <th></th>\n      <th></th>\n      <th></th>\n    </tr>\n  </thead>\n  <tbody>\n    <tr>\n      <th>15289</th>\n      <td>25.0</td>\n      <td>0.25</td>\n      <td>0.25</td>\n      <td>0.25</td>\n      <td>0.25</td>\n      <td>86.0</td>\n      <td>52.0</td>\n      <td>71.9</td>\n      <td>62.0</td>\n      <td>30.0</td>\n      <td>50.8</td>\n      <td>24.0</td>\n      <td>0.39</td>\n      <td>0.399367</td>\n      <td>0.408088</td>\n      <td>31.394569</td>\n    </tr>\n    <tr>\n      <th>15290</th>\n      <td>12.5</td>\n      <td>0.25</td>\n      <td>0.25</td>\n      <td>0.75</td>\n      <td>0.63</td>\n      <td>94.6</td>\n      <td>57.2</td>\n      <td>79.0</td>\n      <td>68.2</td>\n      <td>33.0</td>\n      <td>55.9</td>\n      <td>1.0</td>\n      <td>0.10</td>\n      <td>0.488048</td>\n      <td>0.442866</td>\n      <td>36.846956</td>\n    </tr>\n    <tr>\n      <th>15291</th>\n      <td>12.5</td>\n      <td>0.25</td>\n      <td>0.25</td>\n      <td>0.63</td>\n      <td>0.63</td>\n      <td>86.0</td>\n      <td>52.0</td>\n      <td>71.9</td>\n      <td>62.0</td>\n      <td>30.0</td>\n      <td>50.8</td>\n      <td>16.0</td>\n      <td>0.26</td>\n      <td>0.583379</td>\n      <td>0.487057</td>\n      <td>40.037644</td>\n    </tr>\n    <tr>\n      <th>15292</th>\n      <td>25.0</td>\n      <td>0.50</td>\n      <td>0.38</td>\n      <td>0.38</td>\n      <td>0.63</td>\n      <td>86.0</td>\n      <td>52.0</td>\n      <td>71.9</td>\n      <td>62.0</td>\n      <td>30.0</td>\n      <td>50.8</td>\n      <td>16.0</td>\n      <td>0.26</td>\n      <td>0.433014</td>\n      <td>0.422847</td>\n      <td>33.116091</td>\n    </tr>\n    <tr>\n      <th>15293</th>\n      <td>37.5</td>\n      <td>0.75</td>\n      <td>0.25</td>\n      <td>0.25</td>\n      <td>0.25</td>\n      <td>94.6</td>\n      <td>57.2</td>\n      <td>79.0</td>\n      <td>68.2</td>\n      <td>33.0</td>\n      <td>55.9</td>\n      <td>24.0</td>\n      <td>0.39</td>\n      <td>0.360996</td>\n      <td>0.388860</td>\n      <td>29.558019</td>\n    </tr>\n    <tr>\n      <th>...</th>\n      <td>...</td>\n      <td>...</td>\n      <td>...</td>\n      <td>...</td>\n      <td>...</td>\n      <td>...</td>\n      <td>...</td>\n      <td>...</td>\n      <td>...</td>\n      <td>...</td>\n      <td>...</td>\n      <td>...</td>\n      <td>...</td>\n      <td>...</td>\n      <td>...</td>\n      <td>...</td>\n    </tr>\n    <tr>\n      <th>25478</th>\n      <td>25.0</td>\n      <td>0.25</td>\n      <td>0.25</td>\n      <td>0.25</td>\n      <td>0.25</td>\n      <td>86.0</td>\n      <td>52.0</td>\n      <td>71.9</td>\n      <td>62.0</td>\n      <td>30.0</td>\n      <td>50.8</td>\n      <td>24.0</td>\n      <td>0.39</td>\n      <td>0.474162</td>\n      <td>0.437923</td>\n      <td>34.525258</td>\n    </tr>\n    <tr>\n      <th>25479</th>\n      <td>25.0</td>\n      <td>0.50</td>\n      <td>0.25</td>\n      <td>0.50</td>\n      <td>0.75</td>\n      <td>77.4</td>\n      <td>46.8</td>\n      <td>64.7</td>\n      <td>55.8</td>\n      <td>27.0</td>\n      <td>45.8</td>\n      <td>16.0</td>\n      <td>0.26</td>\n      <td>0.482854</td>\n      <td>0.440676</td>\n      <td>35.648221</td>\n    </tr>\n    <tr>\n      <th>25480</th>\n      <td>25.0</td>\n      <td>0.50</td>\n      <td>0.38</td>\n      <td>0.50</td>\n      <td>0.50</td>\n      <td>77.4</td>\n      <td>46.8</td>\n      <td>64.7</td>\n      <td>55.8</td>\n      <td>27.0</td>\n      <td>45.8</td>\n      <td>16.0</td>\n      <td>0.26</td>\n      <td>0.568854</td>\n      <td>0.463065</td>\n      <td>37.724724</td>\n    </tr>\n    <tr>\n      <th>25481</th>\n      <td>12.5</td>\n      <td>0.25</td>\n      <td>0.25</td>\n      <td>0.38</td>\n      <td>0.50</td>\n      <td>94.6</td>\n      <td>57.2</td>\n      <td>79.0</td>\n      <td>68.2</td>\n      <td>33.0</td>\n      <td>55.9</td>\n      <td>34.0</td>\n      <td>0.56</td>\n      <td>0.407374</td>\n      <td>0.409261</td>\n      <td>31.881847</td>\n    </tr>\n    <tr>\n      <th>25482</th>\n      <td>12.5</td>\n      <td>0.25</td>\n      <td>0.25</td>\n      <td>0.50</td>\n      <td>0.50</td>\n      <td>77.4</td>\n      <td>46.8</td>\n      <td>64.7</td>\n      <td>55.8</td>\n      <td>27.0</td>\n      <td>45.8</td>\n      <td>1.0</td>\n      <td>0.10</td>\n      <td>0.579677</td>\n      <td>0.486202</td>\n      <td>40.265408</td>\n    </tr>\n  </tbody>\n</table>\n<p>10194 rows × 16 columns</p>\n</div>"
     },
     "execution_count": 75,
     "metadata": {},
     "output_type": "execute_result"
    }
   ],
   "source": [
    "test"
   ],
   "metadata": {
    "collapsed": false,
    "pycharm": {
     "name": "#%%\n"
    }
   }
  },
  {
   "cell_type": "code",
   "execution_count": 76,
   "outputs": [
    {
     "name": "stdout",
     "output_type": "stream",
     "text": [
      "<class 'pandas.core.frame.DataFrame'>\n",
      "Index: 10194 entries, 15289 to 25482\n",
      "Data columns (total 16 columns):\n",
      " #   Column                Non-Null Count  Dtype  \n",
      "---  ------                --------------  -----  \n",
      " 0   clonesize             10194 non-null  float64\n",
      " 1   honeybee              10194 non-null  float64\n",
      " 2   bumbles               10194 non-null  float64\n",
      " 3   andrena               10194 non-null  float64\n",
      " 4   osmia                 10194 non-null  float64\n",
      " 5   MaxOfUpperTRange      10194 non-null  float64\n",
      " 6   MinOfUpperTRange      10194 non-null  float64\n",
      " 7   AverageOfUpperTRange  10194 non-null  float64\n",
      " 8   MaxOfLowerTRange      10194 non-null  float64\n",
      " 9   MinOfLowerTRange      10194 non-null  float64\n",
      " 10  AverageOfLowerTRange  10194 non-null  float64\n",
      " 11  RainingDays           10194 non-null  float64\n",
      " 12  AverageRainingDays    10194 non-null  float64\n",
      " 13  fruitset              10194 non-null  float64\n",
      " 14  fruitmass             10194 non-null  float64\n",
      " 15  seeds                 10194 non-null  float64\n",
      "dtypes: float64(16)\n",
      "memory usage: 1.3 MB\n"
     ]
    }
   ],
   "source": [
    "test.info()"
   ],
   "metadata": {
    "collapsed": false,
    "pycharm": {
     "name": "#%%\n"
    }
   }
  },
  {
   "cell_type": "code",
   "execution_count": 77,
   "outputs": [
    {
     "data": {
      "text/plain": "          yield\nid             \n15289  6025.194\n15290  6025.194\n15291  6025.194\n15292  6025.194\n15293  6025.194\n...         ...\n25478  6025.194\n25479  6025.194\n25480  6025.194\n25481  6025.194\n25482  6025.194\n\n[10194 rows x 1 columns]",
      "text/html": "<div>\n<style scoped>\n    .dataframe tbody tr th:only-of-type {\n        vertical-align: middle;\n    }\n\n    .dataframe tbody tr th {\n        vertical-align: top;\n    }\n\n    .dataframe thead th {\n        text-align: right;\n    }\n</style>\n<table border=\"1\" class=\"dataframe\">\n  <thead>\n    <tr style=\"text-align: right;\">\n      <th></th>\n      <th>yield</th>\n    </tr>\n    <tr>\n      <th>id</th>\n      <th></th>\n    </tr>\n  </thead>\n  <tbody>\n    <tr>\n      <th>15289</th>\n      <td>6025.194</td>\n    </tr>\n    <tr>\n      <th>15290</th>\n      <td>6025.194</td>\n    </tr>\n    <tr>\n      <th>15291</th>\n      <td>6025.194</td>\n    </tr>\n    <tr>\n      <th>15292</th>\n      <td>6025.194</td>\n    </tr>\n    <tr>\n      <th>15293</th>\n      <td>6025.194</td>\n    </tr>\n    <tr>\n      <th>...</th>\n      <td>...</td>\n    </tr>\n    <tr>\n      <th>25478</th>\n      <td>6025.194</td>\n    </tr>\n    <tr>\n      <th>25479</th>\n      <td>6025.194</td>\n    </tr>\n    <tr>\n      <th>25480</th>\n      <td>6025.194</td>\n    </tr>\n    <tr>\n      <th>25481</th>\n      <td>6025.194</td>\n    </tr>\n    <tr>\n      <th>25482</th>\n      <td>6025.194</td>\n    </tr>\n  </tbody>\n</table>\n<p>10194 rows × 1 columns</p>\n</div>"
     },
     "execution_count": 77,
     "metadata": {},
     "output_type": "execute_result"
    }
   ],
   "source": [
    "submission"
   ],
   "metadata": {
    "collapsed": false,
    "pycharm": {
     "name": "#%%\n"
    }
   }
  },
  {
   "cell_type": "code",
   "execution_count": 78,
   "outputs": [
    {
     "data": {
      "text/plain": "       clonesize  honeybee  bumbles  andrena  osmia  MaxOfUpperTRange  \\\nid                                                                      \n0           25.0      0.50     0.25     0.75   0.50              69.7   \n1           25.0      0.50     0.25     0.50   0.50              69.7   \n2           12.5      0.25     0.25     0.63   0.63              86.0   \n3           12.5      0.25     0.25     0.63   0.50              77.4   \n4           25.0      0.50     0.25     0.63   0.63              77.4   \n...          ...       ...      ...      ...    ...               ...   \n25478       25.0      0.25     0.25     0.25   0.25              86.0   \n25479       25.0      0.50     0.25     0.50   0.75              77.4   \n25480       25.0      0.50     0.38     0.50   0.50              77.4   \n25481       12.5      0.25     0.25     0.38   0.50              94.6   \n25482       12.5      0.25     0.25     0.50   0.50              77.4   \n\n       MinOfUpperTRange  AverageOfUpperTRange  MaxOfLowerTRange  \\\nid                                                                \n0                  42.1                  58.2              50.2   \n1                  42.1                  58.2              50.2   \n2                  52.0                  71.9              62.0   \n3                  46.8                  64.7              55.8   \n4                  46.8                  64.7              55.8   \n...                 ...                   ...               ...   \n25478              52.0                  71.9              62.0   \n25479              46.8                  64.7              55.8   \n25480              46.8                  64.7              55.8   \n25481              57.2                  79.0              68.2   \n25482              46.8                  64.7              55.8   \n\n       MinOfLowerTRange  AverageOfLowerTRange  RainingDays  \\\nid                                                           \n0                  24.3                  41.2         24.0   \n1                  24.3                  41.2         24.0   \n2                  30.0                  50.8         24.0   \n3                  27.0                  45.8         24.0   \n4                  27.0                  45.8         24.0   \n...                 ...                   ...          ...   \n25478              30.0                  50.8         24.0   \n25479              27.0                  45.8         16.0   \n25480              27.0                  45.8         16.0   \n25481              33.0                  55.9         34.0   \n25482              27.0                  45.8          1.0   \n\n       AverageRainingDays  fruitset  fruitmass      seeds       yield  \nid                                                                     \n0                    0.39  0.425011   0.417545  32.460887  4476.81146  \n1                    0.39  0.444908   0.422051  33.858317  5548.12201  \n2                    0.39  0.552927   0.470853  38.341781  6869.77760  \n3                    0.39  0.565976   0.478137  39.467561  6880.77590  \n4                    0.39  0.579677   0.494165  40.484512  7479.93417  \n...                   ...       ...        ...        ...         ...  \n25478                0.39  0.474162   0.437923  34.525258         NaN  \n25479                0.26  0.482854   0.440676  35.648221         NaN  \n25480                0.26  0.568854   0.463065  37.724724         NaN  \n25481                0.56  0.407374   0.409261  31.881847         NaN  \n25482                0.10  0.579677   0.486202  40.265408         NaN  \n\n[25483 rows x 17 columns]",
      "text/html": "<div>\n<style scoped>\n    .dataframe tbody tr th:only-of-type {\n        vertical-align: middle;\n    }\n\n    .dataframe tbody tr th {\n        vertical-align: top;\n    }\n\n    .dataframe thead th {\n        text-align: right;\n    }\n</style>\n<table border=\"1\" class=\"dataframe\">\n  <thead>\n    <tr style=\"text-align: right;\">\n      <th></th>\n      <th>clonesize</th>\n      <th>honeybee</th>\n      <th>bumbles</th>\n      <th>andrena</th>\n      <th>osmia</th>\n      <th>MaxOfUpperTRange</th>\n      <th>MinOfUpperTRange</th>\n      <th>AverageOfUpperTRange</th>\n      <th>MaxOfLowerTRange</th>\n      <th>MinOfLowerTRange</th>\n      <th>AverageOfLowerTRange</th>\n      <th>RainingDays</th>\n      <th>AverageRainingDays</th>\n      <th>fruitset</th>\n      <th>fruitmass</th>\n      <th>seeds</th>\n      <th>yield</th>\n    </tr>\n    <tr>\n      <th>id</th>\n      <th></th>\n      <th></th>\n      <th></th>\n      <th></th>\n      <th></th>\n      <th></th>\n      <th></th>\n      <th></th>\n      <th></th>\n      <th></th>\n      <th></th>\n      <th></th>\n      <th></th>\n      <th></th>\n      <th></th>\n      <th></th>\n      <th></th>\n    </tr>\n  </thead>\n  <tbody>\n    <tr>\n      <th>0</th>\n      <td>25.0</td>\n      <td>0.50</td>\n      <td>0.25</td>\n      <td>0.75</td>\n      <td>0.50</td>\n      <td>69.7</td>\n      <td>42.1</td>\n      <td>58.2</td>\n      <td>50.2</td>\n      <td>24.3</td>\n      <td>41.2</td>\n      <td>24.0</td>\n      <td>0.39</td>\n      <td>0.425011</td>\n      <td>0.417545</td>\n      <td>32.460887</td>\n      <td>4476.81146</td>\n    </tr>\n    <tr>\n      <th>1</th>\n      <td>25.0</td>\n      <td>0.50</td>\n      <td>0.25</td>\n      <td>0.50</td>\n      <td>0.50</td>\n      <td>69.7</td>\n      <td>42.1</td>\n      <td>58.2</td>\n      <td>50.2</td>\n      <td>24.3</td>\n      <td>41.2</td>\n      <td>24.0</td>\n      <td>0.39</td>\n      <td>0.444908</td>\n      <td>0.422051</td>\n      <td>33.858317</td>\n      <td>5548.12201</td>\n    </tr>\n    <tr>\n      <th>2</th>\n      <td>12.5</td>\n      <td>0.25</td>\n      <td>0.25</td>\n      <td>0.63</td>\n      <td>0.63</td>\n      <td>86.0</td>\n      <td>52.0</td>\n      <td>71.9</td>\n      <td>62.0</td>\n      <td>30.0</td>\n      <td>50.8</td>\n      <td>24.0</td>\n      <td>0.39</td>\n      <td>0.552927</td>\n      <td>0.470853</td>\n      <td>38.341781</td>\n      <td>6869.77760</td>\n    </tr>\n    <tr>\n      <th>3</th>\n      <td>12.5</td>\n      <td>0.25</td>\n      <td>0.25</td>\n      <td>0.63</td>\n      <td>0.50</td>\n      <td>77.4</td>\n      <td>46.8</td>\n      <td>64.7</td>\n      <td>55.8</td>\n      <td>27.0</td>\n      <td>45.8</td>\n      <td>24.0</td>\n      <td>0.39</td>\n      <td>0.565976</td>\n      <td>0.478137</td>\n      <td>39.467561</td>\n      <td>6880.77590</td>\n    </tr>\n    <tr>\n      <th>4</th>\n      <td>25.0</td>\n      <td>0.50</td>\n      <td>0.25</td>\n      <td>0.63</td>\n      <td>0.63</td>\n      <td>77.4</td>\n      <td>46.8</td>\n      <td>64.7</td>\n      <td>55.8</td>\n      <td>27.0</td>\n      <td>45.8</td>\n      <td>24.0</td>\n      <td>0.39</td>\n      <td>0.579677</td>\n      <td>0.494165</td>\n      <td>40.484512</td>\n      <td>7479.93417</td>\n    </tr>\n    <tr>\n      <th>...</th>\n      <td>...</td>\n      <td>...</td>\n      <td>...</td>\n      <td>...</td>\n      <td>...</td>\n      <td>...</td>\n      <td>...</td>\n      <td>...</td>\n      <td>...</td>\n      <td>...</td>\n      <td>...</td>\n      <td>...</td>\n      <td>...</td>\n      <td>...</td>\n      <td>...</td>\n      <td>...</td>\n      <td>...</td>\n    </tr>\n    <tr>\n      <th>25478</th>\n      <td>25.0</td>\n      <td>0.25</td>\n      <td>0.25</td>\n      <td>0.25</td>\n      <td>0.25</td>\n      <td>86.0</td>\n      <td>52.0</td>\n      <td>71.9</td>\n      <td>62.0</td>\n      <td>30.0</td>\n      <td>50.8</td>\n      <td>24.0</td>\n      <td>0.39</td>\n      <td>0.474162</td>\n      <td>0.437923</td>\n      <td>34.525258</td>\n      <td>NaN</td>\n    </tr>\n    <tr>\n      <th>25479</th>\n      <td>25.0</td>\n      <td>0.50</td>\n      <td>0.25</td>\n      <td>0.50</td>\n      <td>0.75</td>\n      <td>77.4</td>\n      <td>46.8</td>\n      <td>64.7</td>\n      <td>55.8</td>\n      <td>27.0</td>\n      <td>45.8</td>\n      <td>16.0</td>\n      <td>0.26</td>\n      <td>0.482854</td>\n      <td>0.440676</td>\n      <td>35.648221</td>\n      <td>NaN</td>\n    </tr>\n    <tr>\n      <th>25480</th>\n      <td>25.0</td>\n      <td>0.50</td>\n      <td>0.38</td>\n      <td>0.50</td>\n      <td>0.50</td>\n      <td>77.4</td>\n      <td>46.8</td>\n      <td>64.7</td>\n      <td>55.8</td>\n      <td>27.0</td>\n      <td>45.8</td>\n      <td>16.0</td>\n      <td>0.26</td>\n      <td>0.568854</td>\n      <td>0.463065</td>\n      <td>37.724724</td>\n      <td>NaN</td>\n    </tr>\n    <tr>\n      <th>25481</th>\n      <td>12.5</td>\n      <td>0.25</td>\n      <td>0.25</td>\n      <td>0.38</td>\n      <td>0.50</td>\n      <td>94.6</td>\n      <td>57.2</td>\n      <td>79.0</td>\n      <td>68.2</td>\n      <td>33.0</td>\n      <td>55.9</td>\n      <td>34.0</td>\n      <td>0.56</td>\n      <td>0.407374</td>\n      <td>0.409261</td>\n      <td>31.881847</td>\n      <td>NaN</td>\n    </tr>\n    <tr>\n      <th>25482</th>\n      <td>12.5</td>\n      <td>0.25</td>\n      <td>0.25</td>\n      <td>0.50</td>\n      <td>0.50</td>\n      <td>77.4</td>\n      <td>46.8</td>\n      <td>64.7</td>\n      <td>55.8</td>\n      <td>27.0</td>\n      <td>45.8</td>\n      <td>1.0</td>\n      <td>0.10</td>\n      <td>0.579677</td>\n      <td>0.486202</td>\n      <td>40.265408</td>\n      <td>NaN</td>\n    </tr>\n  </tbody>\n</table>\n<p>25483 rows × 17 columns</p>\n</div>"
     },
     "execution_count": 78,
     "metadata": {},
     "output_type": "execute_result"
    }
   ],
   "source": [
    "all_data = pd.concat([train,test]) # 훈련 데이터와 테스트 데이터 합치기\n",
    "# all_data = all_data.drop('Survived' , axis = 1) # 타깃값 제거\n",
    "all_data"
   ],
   "metadata": {
    "collapsed": false,
    "pycharm": {
     "name": "#%%\n"
    }
   }
  },
  {
   "cell_type": "code",
   "execution_count": 79,
   "outputs": [
    {
     "data": {
      "text/plain": "       clonesize  honeybee  bumbles  andrena  osmia  MaxOfUpperTRange  \\\nid                                                                      \n0           25.0      0.50     0.25     0.75   0.50              69.7   \n1           25.0      0.50     0.25     0.50   0.50              69.7   \n2           12.5      0.25     0.25     0.63   0.63              86.0   \n3           12.5      0.25     0.25     0.63   0.50              77.4   \n4           25.0      0.50     0.25     0.63   0.63              77.4   \n...          ...       ...      ...      ...    ...               ...   \n25478       25.0      0.25     0.25     0.25   0.25              86.0   \n25479       25.0      0.50     0.25     0.50   0.75              77.4   \n25480       25.0      0.50     0.38     0.50   0.50              77.4   \n25481       12.5      0.25     0.25     0.38   0.50              94.6   \n25482       12.5      0.25     0.25     0.50   0.50              77.4   \n\n       MinOfUpperTRange  AverageOfUpperTRange  MaxOfLowerTRange  \\\nid                                                                \n0                  42.1                  58.2              50.2   \n1                  42.1                  58.2              50.2   \n2                  52.0                  71.9              62.0   \n3                  46.8                  64.7              55.8   \n4                  46.8                  64.7              55.8   \n...                 ...                   ...               ...   \n25478              52.0                  71.9              62.0   \n25479              46.8                  64.7              55.8   \n25480              46.8                  64.7              55.8   \n25481              57.2                  79.0              68.2   \n25482              46.8                  64.7              55.8   \n\n       MinOfLowerTRange  AverageOfLowerTRange  RainingDays  \\\nid                                                           \n0                  24.3                  41.2         24.0   \n1                  24.3                  41.2         24.0   \n2                  30.0                  50.8         24.0   \n3                  27.0                  45.8         24.0   \n4                  27.0                  45.8         24.0   \n...                 ...                   ...          ...   \n25478              30.0                  50.8         24.0   \n25479              27.0                  45.8         16.0   \n25480              27.0                  45.8         16.0   \n25481              33.0                  55.9         34.0   \n25482              27.0                  45.8          1.0   \n\n       AverageRainingDays  fruitset  fruitmass      seeds  \nid                                                         \n0                    0.39  0.425011   0.417545  32.460887  \n1                    0.39  0.444908   0.422051  33.858317  \n2                    0.39  0.552927   0.470853  38.341781  \n3                    0.39  0.565976   0.478137  39.467561  \n4                    0.39  0.579677   0.494165  40.484512  \n...                   ...       ...        ...        ...  \n25478                0.39  0.474162   0.437923  34.525258  \n25479                0.26  0.482854   0.440676  35.648221  \n25480                0.26  0.568854   0.463065  37.724724  \n25481                0.56  0.407374   0.409261  31.881847  \n25482                0.10  0.579677   0.486202  40.265408  \n\n[25483 rows x 16 columns]",
      "text/html": "<div>\n<style scoped>\n    .dataframe tbody tr th:only-of-type {\n        vertical-align: middle;\n    }\n\n    .dataframe tbody tr th {\n        vertical-align: top;\n    }\n\n    .dataframe thead th {\n        text-align: right;\n    }\n</style>\n<table border=\"1\" class=\"dataframe\">\n  <thead>\n    <tr style=\"text-align: right;\">\n      <th></th>\n      <th>clonesize</th>\n      <th>honeybee</th>\n      <th>bumbles</th>\n      <th>andrena</th>\n      <th>osmia</th>\n      <th>MaxOfUpperTRange</th>\n      <th>MinOfUpperTRange</th>\n      <th>AverageOfUpperTRange</th>\n      <th>MaxOfLowerTRange</th>\n      <th>MinOfLowerTRange</th>\n      <th>AverageOfLowerTRange</th>\n      <th>RainingDays</th>\n      <th>AverageRainingDays</th>\n      <th>fruitset</th>\n      <th>fruitmass</th>\n      <th>seeds</th>\n    </tr>\n    <tr>\n      <th>id</th>\n      <th></th>\n      <th></th>\n      <th></th>\n      <th></th>\n      <th></th>\n      <th></th>\n      <th></th>\n      <th></th>\n      <th></th>\n      <th></th>\n      <th></th>\n      <th></th>\n      <th></th>\n      <th></th>\n      <th></th>\n      <th></th>\n    </tr>\n  </thead>\n  <tbody>\n    <tr>\n      <th>0</th>\n      <td>25.0</td>\n      <td>0.50</td>\n      <td>0.25</td>\n      <td>0.75</td>\n      <td>0.50</td>\n      <td>69.7</td>\n      <td>42.1</td>\n      <td>58.2</td>\n      <td>50.2</td>\n      <td>24.3</td>\n      <td>41.2</td>\n      <td>24.0</td>\n      <td>0.39</td>\n      <td>0.425011</td>\n      <td>0.417545</td>\n      <td>32.460887</td>\n    </tr>\n    <tr>\n      <th>1</th>\n      <td>25.0</td>\n      <td>0.50</td>\n      <td>0.25</td>\n      <td>0.50</td>\n      <td>0.50</td>\n      <td>69.7</td>\n      <td>42.1</td>\n      <td>58.2</td>\n      <td>50.2</td>\n      <td>24.3</td>\n      <td>41.2</td>\n      <td>24.0</td>\n      <td>0.39</td>\n      <td>0.444908</td>\n      <td>0.422051</td>\n      <td>33.858317</td>\n    </tr>\n    <tr>\n      <th>2</th>\n      <td>12.5</td>\n      <td>0.25</td>\n      <td>0.25</td>\n      <td>0.63</td>\n      <td>0.63</td>\n      <td>86.0</td>\n      <td>52.0</td>\n      <td>71.9</td>\n      <td>62.0</td>\n      <td>30.0</td>\n      <td>50.8</td>\n      <td>24.0</td>\n      <td>0.39</td>\n      <td>0.552927</td>\n      <td>0.470853</td>\n      <td>38.341781</td>\n    </tr>\n    <tr>\n      <th>3</th>\n      <td>12.5</td>\n      <td>0.25</td>\n      <td>0.25</td>\n      <td>0.63</td>\n      <td>0.50</td>\n      <td>77.4</td>\n      <td>46.8</td>\n      <td>64.7</td>\n      <td>55.8</td>\n      <td>27.0</td>\n      <td>45.8</td>\n      <td>24.0</td>\n      <td>0.39</td>\n      <td>0.565976</td>\n      <td>0.478137</td>\n      <td>39.467561</td>\n    </tr>\n    <tr>\n      <th>4</th>\n      <td>25.0</td>\n      <td>0.50</td>\n      <td>0.25</td>\n      <td>0.63</td>\n      <td>0.63</td>\n      <td>77.4</td>\n      <td>46.8</td>\n      <td>64.7</td>\n      <td>55.8</td>\n      <td>27.0</td>\n      <td>45.8</td>\n      <td>24.0</td>\n      <td>0.39</td>\n      <td>0.579677</td>\n      <td>0.494165</td>\n      <td>40.484512</td>\n    </tr>\n    <tr>\n      <th>...</th>\n      <td>...</td>\n      <td>...</td>\n      <td>...</td>\n      <td>...</td>\n      <td>...</td>\n      <td>...</td>\n      <td>...</td>\n      <td>...</td>\n      <td>...</td>\n      <td>...</td>\n      <td>...</td>\n      <td>...</td>\n      <td>...</td>\n      <td>...</td>\n      <td>...</td>\n      <td>...</td>\n    </tr>\n    <tr>\n      <th>25478</th>\n      <td>25.0</td>\n      <td>0.25</td>\n      <td>0.25</td>\n      <td>0.25</td>\n      <td>0.25</td>\n      <td>86.0</td>\n      <td>52.0</td>\n      <td>71.9</td>\n      <td>62.0</td>\n      <td>30.0</td>\n      <td>50.8</td>\n      <td>24.0</td>\n      <td>0.39</td>\n      <td>0.474162</td>\n      <td>0.437923</td>\n      <td>34.525258</td>\n    </tr>\n    <tr>\n      <th>25479</th>\n      <td>25.0</td>\n      <td>0.50</td>\n      <td>0.25</td>\n      <td>0.50</td>\n      <td>0.75</td>\n      <td>77.4</td>\n      <td>46.8</td>\n      <td>64.7</td>\n      <td>55.8</td>\n      <td>27.0</td>\n      <td>45.8</td>\n      <td>16.0</td>\n      <td>0.26</td>\n      <td>0.482854</td>\n      <td>0.440676</td>\n      <td>35.648221</td>\n    </tr>\n    <tr>\n      <th>25480</th>\n      <td>25.0</td>\n      <td>0.50</td>\n      <td>0.38</td>\n      <td>0.50</td>\n      <td>0.50</td>\n      <td>77.4</td>\n      <td>46.8</td>\n      <td>64.7</td>\n      <td>55.8</td>\n      <td>27.0</td>\n      <td>45.8</td>\n      <td>16.0</td>\n      <td>0.26</td>\n      <td>0.568854</td>\n      <td>0.463065</td>\n      <td>37.724724</td>\n    </tr>\n    <tr>\n      <th>25481</th>\n      <td>12.5</td>\n      <td>0.25</td>\n      <td>0.25</td>\n      <td>0.38</td>\n      <td>0.50</td>\n      <td>94.6</td>\n      <td>57.2</td>\n      <td>79.0</td>\n      <td>68.2</td>\n      <td>33.0</td>\n      <td>55.9</td>\n      <td>34.0</td>\n      <td>0.56</td>\n      <td>0.407374</td>\n      <td>0.409261</td>\n      <td>31.881847</td>\n    </tr>\n    <tr>\n      <th>25482</th>\n      <td>12.5</td>\n      <td>0.25</td>\n      <td>0.25</td>\n      <td>0.50</td>\n      <td>0.50</td>\n      <td>77.4</td>\n      <td>46.8</td>\n      <td>64.7</td>\n      <td>55.8</td>\n      <td>27.0</td>\n      <td>45.8</td>\n      <td>1.0</td>\n      <td>0.10</td>\n      <td>0.579677</td>\n      <td>0.486202</td>\n      <td>40.265408</td>\n    </tr>\n  </tbody>\n</table>\n<p>25483 rows × 16 columns</p>\n</div>"
     },
     "execution_count": 79,
     "metadata": {},
     "output_type": "execute_result"
    }
   ],
   "source": [
    "all_data = all_data.drop('yield' , axis = 1) # 타깃값 제거\n",
    "\n",
    "all_data"
   ],
   "metadata": {
    "collapsed": false,
    "pycharm": {
     "name": "#%%\n"
    }
   }
  },
  {
   "cell_type": "code",
   "execution_count": 80,
   "outputs": [
    {
     "data": {
      "text/plain": "                      clonesize  honeybee   bumbles   andrena     osmia  \\\nclonesize              1.000000  0.304130  0.080433  0.065131 -0.007607   \nhoneybee               0.304130  1.000000 -0.017937  0.030671 -0.010394   \nbumbles                0.080433 -0.017937  1.000000 -0.164962  0.158001   \nandrena                0.065131  0.030671 -0.164962  1.000000  0.309556   \nosmia                 -0.007607 -0.010394  0.158001  0.309556  1.000000   \nMaxOfUpperTRange       0.016159  0.005840 -0.002104 -0.013061 -0.031391   \nMinOfUpperTRange       0.015838  0.005755 -0.001813 -0.012928 -0.030819   \nAverageOfUpperTRange   0.016057  0.005892 -0.001769 -0.012993 -0.031415   \nMaxOfLowerTRange       0.016343  0.005942 -0.001613 -0.012924 -0.031398   \nMinOfLowerTRange       0.016026  0.005809 -0.001804 -0.013035 -0.031486   \nAverageOfLowerTRange   0.015987  0.005485 -0.001644 -0.013071 -0.031337   \nRainingDays            0.165770  0.046494 -0.063294 -0.026572 -0.079874   \nAverageRainingDays     0.164823  0.037532 -0.060232 -0.027193 -0.078720   \nfruitset              -0.406793 -0.120492  0.160447  0.073669  0.209495   \nfruitmass             -0.377688 -0.135310  0.163987  0.064722  0.192210   \nseeds                 -0.396898 -0.139261  0.177022  0.063504  0.200597   \n\n                      MaxOfUpperTRange  MinOfUpperTRange  \\\nclonesize                     0.016159          0.015838   \nhoneybee                      0.005840          0.005755   \nbumbles                      -0.002104         -0.001813   \nandrena                      -0.013061         -0.012928   \nosmia                        -0.031391         -0.030819   \nMaxOfUpperTRange              1.000000          0.998599   \nMinOfUpperTRange              0.998599          1.000000   \nAverageOfUpperTRange          0.999806          0.999004   \nMaxOfLowerTRange              0.999503          0.998199   \nMinOfLowerTRange              0.999829          0.998953   \nAverageOfLowerTRange          0.999772          0.999040   \nRainingDays                   0.011322          0.011727   \nAverageRainingDays            0.010352          0.010767   \nfruitset                      0.007580          0.008409   \nfruitmass                     0.146237          0.147203   \nseeds                         0.060963          0.061812   \n\n                      AverageOfUpperTRange  MaxOfLowerTRange  \\\nclonesize                         0.016057          0.016343   \nhoneybee                          0.005892          0.005942   \nbumbles                          -0.001769         -0.001613   \nandrena                          -0.012993         -0.012924   \nosmia                            -0.031415         -0.031398   \nMaxOfUpperTRange                  0.999806          0.999503   \nMinOfUpperTRange                  0.999004          0.998199   \nAverageOfUpperTRange              1.000000          0.999465   \nMaxOfLowerTRange                  0.999465          1.000000   \nMinOfLowerTRange                  0.999973          0.999489   \nAverageOfLowerTRange              0.999974          0.999423   \nRainingDays                       0.011245          0.011302   \nAverageRainingDays                0.010260          0.010262   \nfruitset                          0.008503          0.007902   \nfruitmass                         0.147676          0.146668   \nseeds                             0.062082          0.061378   \n\n                      MinOfLowerTRange  AverageOfLowerTRange  RainingDays  \\\nclonesize                     0.016026              0.015987     0.165770   \nhoneybee                      0.005809              0.005485     0.046494   \nbumbles                      -0.001804             -0.001644    -0.063294   \nandrena                      -0.013035             -0.013071    -0.026572   \nosmia                        -0.031486             -0.031337    -0.079874   \nMaxOfUpperTRange              0.999829              0.999772     0.011322   \nMinOfUpperTRange              0.998953              0.999040     0.011727   \nAverageOfUpperTRange          0.999973              0.999974     0.011245   \nMaxOfLowerTRange              0.999489              0.999423     0.011302   \nMinOfLowerTRange              1.000000              0.999963     0.011466   \nAverageOfLowerTRange          0.999963              1.000000     0.011334   \nRainingDays                   0.011466              0.011334     1.000000   \nAverageRainingDays            0.010479              0.010355     0.990864   \nfruitset                      0.007909              0.008329    -0.468066   \nfruitmass                     0.146704              0.147363    -0.447033   \nseeds                         0.061360              0.061853    -0.478818   \n\n                      AverageRainingDays  fruitset  fruitmass     seeds  \nclonesize                       0.164823 -0.406793  -0.377688 -0.396898  \nhoneybee                        0.037532 -0.120492  -0.135310 -0.139261  \nbumbles                        -0.060232  0.160447   0.163987  0.177022  \nandrena                        -0.027193  0.073669   0.064722  0.063504  \nosmia                          -0.078720  0.209495   0.192210  0.200597  \nMaxOfUpperTRange                0.010352  0.007580   0.146237  0.060963  \nMinOfUpperTRange                0.010767  0.008409   0.147203  0.061812  \nAverageOfUpperTRange            0.010260  0.008503   0.147676  0.062082  \nMaxOfLowerTRange                0.010262  0.007902   0.146668  0.061378  \nMinOfLowerTRange                0.010479  0.007909   0.146704  0.061360  \nAverageOfLowerTRange            0.010355  0.008329   0.147363  0.061853  \nRainingDays                     0.990864 -0.468066  -0.447033 -0.478818  \nAverageRainingDays              1.000000 -0.475876  -0.452870 -0.484439  \nfruitset                       -0.475876  1.000000   0.936988  0.929654  \nfruitmass                      -0.452870  0.936988   1.000000  0.931646  \nseeds                          -0.484439  0.929654   0.931646  1.000000  ",
      "text/html": "<div>\n<style scoped>\n    .dataframe tbody tr th:only-of-type {\n        vertical-align: middle;\n    }\n\n    .dataframe tbody tr th {\n        vertical-align: top;\n    }\n\n    .dataframe thead th {\n        text-align: right;\n    }\n</style>\n<table border=\"1\" class=\"dataframe\">\n  <thead>\n    <tr style=\"text-align: right;\">\n      <th></th>\n      <th>clonesize</th>\n      <th>honeybee</th>\n      <th>bumbles</th>\n      <th>andrena</th>\n      <th>osmia</th>\n      <th>MaxOfUpperTRange</th>\n      <th>MinOfUpperTRange</th>\n      <th>AverageOfUpperTRange</th>\n      <th>MaxOfLowerTRange</th>\n      <th>MinOfLowerTRange</th>\n      <th>AverageOfLowerTRange</th>\n      <th>RainingDays</th>\n      <th>AverageRainingDays</th>\n      <th>fruitset</th>\n      <th>fruitmass</th>\n      <th>seeds</th>\n    </tr>\n  </thead>\n  <tbody>\n    <tr>\n      <th>clonesize</th>\n      <td>1.000000</td>\n      <td>0.304130</td>\n      <td>0.080433</td>\n      <td>0.065131</td>\n      <td>-0.007607</td>\n      <td>0.016159</td>\n      <td>0.015838</td>\n      <td>0.016057</td>\n      <td>0.016343</td>\n      <td>0.016026</td>\n      <td>0.015987</td>\n      <td>0.165770</td>\n      <td>0.164823</td>\n      <td>-0.406793</td>\n      <td>-0.377688</td>\n      <td>-0.396898</td>\n    </tr>\n    <tr>\n      <th>honeybee</th>\n      <td>0.304130</td>\n      <td>1.000000</td>\n      <td>-0.017937</td>\n      <td>0.030671</td>\n      <td>-0.010394</td>\n      <td>0.005840</td>\n      <td>0.005755</td>\n      <td>0.005892</td>\n      <td>0.005942</td>\n      <td>0.005809</td>\n      <td>0.005485</td>\n      <td>0.046494</td>\n      <td>0.037532</td>\n      <td>-0.120492</td>\n      <td>-0.135310</td>\n      <td>-0.139261</td>\n    </tr>\n    <tr>\n      <th>bumbles</th>\n      <td>0.080433</td>\n      <td>-0.017937</td>\n      <td>1.000000</td>\n      <td>-0.164962</td>\n      <td>0.158001</td>\n      <td>-0.002104</td>\n      <td>-0.001813</td>\n      <td>-0.001769</td>\n      <td>-0.001613</td>\n      <td>-0.001804</td>\n      <td>-0.001644</td>\n      <td>-0.063294</td>\n      <td>-0.060232</td>\n      <td>0.160447</td>\n      <td>0.163987</td>\n      <td>0.177022</td>\n    </tr>\n    <tr>\n      <th>andrena</th>\n      <td>0.065131</td>\n      <td>0.030671</td>\n      <td>-0.164962</td>\n      <td>1.000000</td>\n      <td>0.309556</td>\n      <td>-0.013061</td>\n      <td>-0.012928</td>\n      <td>-0.012993</td>\n      <td>-0.012924</td>\n      <td>-0.013035</td>\n      <td>-0.013071</td>\n      <td>-0.026572</td>\n      <td>-0.027193</td>\n      <td>0.073669</td>\n      <td>0.064722</td>\n      <td>0.063504</td>\n    </tr>\n    <tr>\n      <th>osmia</th>\n      <td>-0.007607</td>\n      <td>-0.010394</td>\n      <td>0.158001</td>\n      <td>0.309556</td>\n      <td>1.000000</td>\n      <td>-0.031391</td>\n      <td>-0.030819</td>\n      <td>-0.031415</td>\n      <td>-0.031398</td>\n      <td>-0.031486</td>\n      <td>-0.031337</td>\n      <td>-0.079874</td>\n      <td>-0.078720</td>\n      <td>0.209495</td>\n      <td>0.192210</td>\n      <td>0.200597</td>\n    </tr>\n    <tr>\n      <th>MaxOfUpperTRange</th>\n      <td>0.016159</td>\n      <td>0.005840</td>\n      <td>-0.002104</td>\n      <td>-0.013061</td>\n      <td>-0.031391</td>\n      <td>1.000000</td>\n      <td>0.998599</td>\n      <td>0.999806</td>\n      <td>0.999503</td>\n      <td>0.999829</td>\n      <td>0.999772</td>\n      <td>0.011322</td>\n      <td>0.010352</td>\n      <td>0.007580</td>\n      <td>0.146237</td>\n      <td>0.060963</td>\n    </tr>\n    <tr>\n      <th>MinOfUpperTRange</th>\n      <td>0.015838</td>\n      <td>0.005755</td>\n      <td>-0.001813</td>\n      <td>-0.012928</td>\n      <td>-0.030819</td>\n      <td>0.998599</td>\n      <td>1.000000</td>\n      <td>0.999004</td>\n      <td>0.998199</td>\n      <td>0.998953</td>\n      <td>0.999040</td>\n      <td>0.011727</td>\n      <td>0.010767</td>\n      <td>0.008409</td>\n      <td>0.147203</td>\n      <td>0.061812</td>\n    </tr>\n    <tr>\n      <th>AverageOfUpperTRange</th>\n      <td>0.016057</td>\n      <td>0.005892</td>\n      <td>-0.001769</td>\n      <td>-0.012993</td>\n      <td>-0.031415</td>\n      <td>0.999806</td>\n      <td>0.999004</td>\n      <td>1.000000</td>\n      <td>0.999465</td>\n      <td>0.999973</td>\n      <td>0.999974</td>\n      <td>0.011245</td>\n      <td>0.010260</td>\n      <td>0.008503</td>\n      <td>0.147676</td>\n      <td>0.062082</td>\n    </tr>\n    <tr>\n      <th>MaxOfLowerTRange</th>\n      <td>0.016343</td>\n      <td>0.005942</td>\n      <td>-0.001613</td>\n      <td>-0.012924</td>\n      <td>-0.031398</td>\n      <td>0.999503</td>\n      <td>0.998199</td>\n      <td>0.999465</td>\n      <td>1.000000</td>\n      <td>0.999489</td>\n      <td>0.999423</td>\n      <td>0.011302</td>\n      <td>0.010262</td>\n      <td>0.007902</td>\n      <td>0.146668</td>\n      <td>0.061378</td>\n    </tr>\n    <tr>\n      <th>MinOfLowerTRange</th>\n      <td>0.016026</td>\n      <td>0.005809</td>\n      <td>-0.001804</td>\n      <td>-0.013035</td>\n      <td>-0.031486</td>\n      <td>0.999829</td>\n      <td>0.998953</td>\n      <td>0.999973</td>\n      <td>0.999489</td>\n      <td>1.000000</td>\n      <td>0.999963</td>\n      <td>0.011466</td>\n      <td>0.010479</td>\n      <td>0.007909</td>\n      <td>0.146704</td>\n      <td>0.061360</td>\n    </tr>\n    <tr>\n      <th>AverageOfLowerTRange</th>\n      <td>0.015987</td>\n      <td>0.005485</td>\n      <td>-0.001644</td>\n      <td>-0.013071</td>\n      <td>-0.031337</td>\n      <td>0.999772</td>\n      <td>0.999040</td>\n      <td>0.999974</td>\n      <td>0.999423</td>\n      <td>0.999963</td>\n      <td>1.000000</td>\n      <td>0.011334</td>\n      <td>0.010355</td>\n      <td>0.008329</td>\n      <td>0.147363</td>\n      <td>0.061853</td>\n    </tr>\n    <tr>\n      <th>RainingDays</th>\n      <td>0.165770</td>\n      <td>0.046494</td>\n      <td>-0.063294</td>\n      <td>-0.026572</td>\n      <td>-0.079874</td>\n      <td>0.011322</td>\n      <td>0.011727</td>\n      <td>0.011245</td>\n      <td>0.011302</td>\n      <td>0.011466</td>\n      <td>0.011334</td>\n      <td>1.000000</td>\n      <td>0.990864</td>\n      <td>-0.468066</td>\n      <td>-0.447033</td>\n      <td>-0.478818</td>\n    </tr>\n    <tr>\n      <th>AverageRainingDays</th>\n      <td>0.164823</td>\n      <td>0.037532</td>\n      <td>-0.060232</td>\n      <td>-0.027193</td>\n      <td>-0.078720</td>\n      <td>0.010352</td>\n      <td>0.010767</td>\n      <td>0.010260</td>\n      <td>0.010262</td>\n      <td>0.010479</td>\n      <td>0.010355</td>\n      <td>0.990864</td>\n      <td>1.000000</td>\n      <td>-0.475876</td>\n      <td>-0.452870</td>\n      <td>-0.484439</td>\n    </tr>\n    <tr>\n      <th>fruitset</th>\n      <td>-0.406793</td>\n      <td>-0.120492</td>\n      <td>0.160447</td>\n      <td>0.073669</td>\n      <td>0.209495</td>\n      <td>0.007580</td>\n      <td>0.008409</td>\n      <td>0.008503</td>\n      <td>0.007902</td>\n      <td>0.007909</td>\n      <td>0.008329</td>\n      <td>-0.468066</td>\n      <td>-0.475876</td>\n      <td>1.000000</td>\n      <td>0.936988</td>\n      <td>0.929654</td>\n    </tr>\n    <tr>\n      <th>fruitmass</th>\n      <td>-0.377688</td>\n      <td>-0.135310</td>\n      <td>0.163987</td>\n      <td>0.064722</td>\n      <td>0.192210</td>\n      <td>0.146237</td>\n      <td>0.147203</td>\n      <td>0.147676</td>\n      <td>0.146668</td>\n      <td>0.146704</td>\n      <td>0.147363</td>\n      <td>-0.447033</td>\n      <td>-0.452870</td>\n      <td>0.936988</td>\n      <td>1.000000</td>\n      <td>0.931646</td>\n    </tr>\n    <tr>\n      <th>seeds</th>\n      <td>-0.396898</td>\n      <td>-0.139261</td>\n      <td>0.177022</td>\n      <td>0.063504</td>\n      <td>0.200597</td>\n      <td>0.060963</td>\n      <td>0.061812</td>\n      <td>0.062082</td>\n      <td>0.061378</td>\n      <td>0.061360</td>\n      <td>0.061853</td>\n      <td>-0.478818</td>\n      <td>-0.484439</td>\n      <td>0.929654</td>\n      <td>0.931646</td>\n      <td>1.000000</td>\n    </tr>\n  </tbody>\n</table>\n</div>"
     },
     "execution_count": 80,
     "metadata": {},
     "output_type": "execute_result"
    }
   ],
   "source": [
    "corrMat = train[train.columns.tolist()[:-1]].corr()\n",
    "corrMat"
   ],
   "metadata": {
    "collapsed": false,
    "pycharm": {
     "name": "#%%\n"
    }
   }
  },
  {
   "cell_type": "code",
   "execution_count": 81,
   "outputs": [
    {
     "data": {
      "text/plain": "[Text(0.5, 1.0, 'Heatmap of Numerical Data')]"
     },
     "execution_count": 81,
     "metadata": {},
     "output_type": "execute_result"
    },
    {
     "data": {
      "text/plain": "<Figure size 1080x1080 with 2 Axes>",
      "image/png": "[encoded data removed]"
     },
     "metadata": {
      "needs_background": "light"
     },
     "output_type": "display_data"
    }
   ],
   "source": [
    "fig,ax = plt.subplots()\n",
    "fig.set_size_inches(15,15)\n",
    "\n",
    "sns.heatmap(corrMat , annot =True )\n",
    "ax.set(title='Heatmap of Numerical Data')"
   ],
   "metadata": {
    "collapsed": false,
    "pycharm": {
     "name": "#%%\n"
    }
   }
  },
  {
   "cell_type": "code",
   "execution_count": 82,
   "outputs": [
    {
     "data": {
      "text/plain": "[Text(0.5, 1.0, 'Heatmap of Numerical Data')]"
     },
     "execution_count": 82,
     "metadata": {},
     "output_type": "execute_result"
    },
    {
     "data": {
      "text/plain": "<Figure size 1080x1080 with 2 Axes>",
      "image/png": "[encoded data removed]"
     },
     "metadata": {
      "needs_background": "light"
     },
     "output_type": "display_data"
    }
   ],
   "source": [
    "# Mask for correlation values less than 0.1\n",
    "fig,ax = plt.subplots()\n",
    "fig.set_size_inches(15,15)\n",
    "mask = np.zeros_like(corrMat)\n",
    "mask[np.triu_indices_from(mask)] = True\n",
    "mask[np.abs(corrMat) < 0.1] = False\n",
    "\n",
    "sns.heatmap(corrMat, annot=True, mask=mask)\n",
    "ax.set(title='Heatmap of Numerical Data')"
   ],
   "metadata": {
    "collapsed": false,
    "pycharm": {
     "name": "#%%\n"
    }
   }
  },
  {
   "cell_type": "markdown",
   "source": [
    "## 베이스라인 모델_랜덤포레스트_회귀"
   ],
   "metadata": {
    "collapsed": false,
    "pycharm": {
     "name": "#%% md\n"
    }
   }
  },
  {
   "cell_type": "code",
   "execution_count": 83,
   "outputs": [],
   "source": [
    "from sklearn.model_selection import train_test_split\n",
    "#\n",
    "num_train = len(train) # 훈련 데이터 개수\n",
    "\n",
    "# 훈련 데이터와 테스트 데이터 나누기\n",
    "\n",
    "X_train= all_data[:num_train] # 0~num_train -1 행\n",
    "X_test = all_data[num_train:] # num_train ~ 마지막 행\n",
    "\n",
    "y_train = train['yield'].values\n",
    "\n",
    "\n",
    "# ########################################\n",
    "# # 데이터 분할\n",
    "# num_train = len(train) # 훈련 데이터 개수\n",
    "#\n",
    "# # 훈련 데이터와 테스트 데이터 나누기\n",
    "#\n",
    "# X= all_data_sprs[:num_train] # 0~num_train -1 행\n",
    "# X_test = all_data_sprs[num_train:] # num_train ~ 마지막 행\n",
    "#\n",
    "# y = train['Survived'].values\n",
    "#\n",
    "#\n",
    "# X_train , X_valid , y_train, y_valid = train_test_split(X,y, test_size = 0.2, random_state=0)\n",
    "y_test = submission['yield'].values"
   ],
   "metadata": {
    "collapsed": false,
    "pycharm": {
     "name": "#%%\n"
    }
   }
  },
  {
   "cell_type": "code",
   "execution_count": 84,
   "outputs": [
    {
     "name": "stdout",
     "output_type": "stream",
     "text": [
      "Best Model (Linear Regression): LinearRegression(n_jobs=-1)\n",
      "Best Parameters (Linear Regression): {'fit_intercept': True, 'n_jobs': -1}\n",
      "Wall time: 99 ms\n"
     ]
    }
   ],
   "source": [
    "%%time\n",
    "\n",
    "\n",
    "from sklearn.linear_model import LinearRegression\n",
    "from sklearn.model_selection import GridSearchCV\n",
    "\n",
    "# 선형 회귀 모델 초기화\n",
    "lr_model = LinearRegression()\n",
    "\n",
    "# 그리드 서치를 위한 하이퍼파라미터 그리드 준비\n",
    "param_grid_lr = {\n",
    "    'fit_intercept': [True, False],        # 절편 사용 여부\n",
    "    #'normalize': [True, False]             # 특성 정규화 여부\n",
    "    'n_jobs' : [-1]\n",
    "}\n",
    "\n",
    "# 그리드 서치 객체 생성\n",
    "grid_search_lr = GridSearchCV(lr_model, param_grid_lr, cv=5)\n",
    "\n",
    "# 그리드 서치 수행\n",
    "grid_search_lr.fit(X_train, y_train)\n",
    "\n",
    "# 최적의 모델 및 파라미터 출력\n",
    "best_model_grid_search_lr = grid_search_lr.best_estimator_\n",
    "best_params_grid_search_lr = grid_search_lr.best_params_\n",
    "print(\"Best Model (Linear Regression):\", best_model_grid_search_lr)\n",
    "print(\"Best Parameters (Linear Regression):\", best_params_grid_search_lr)\n",
    "\n",
    "\n"
   ],
   "metadata": {
    "collapsed": false,
    "pycharm": {
     "name": "#%%\n"
    }
   }
  },
  {
   "cell_type": "code",
   "execution_count": 85,
   "outputs": [
    {
     "data": {
      "text/plain": "array([4303.944, 6107.943, 7251.01 , ..., 6935.192, 4449.951, 7325.748])"
     },
     "execution_count": 85,
     "metadata": {},
     "output_type": "execute_result"
    }
   ],
   "source": [
    "y_preds = best_model_grid_search_lr.predict(X_test)\n",
    "\n",
    "y_preds"
   ],
   "metadata": {
    "collapsed": false,
    "pycharm": {
     "name": "#%%\n"
    }
   }
  },
  {
   "cell_type": "code",
   "execution_count": 86,
   "outputs": [],
   "source": [
    "from sklearn.model_selection import train_test_split\n",
    "#\n",
    "num_train = len(train) # 훈련 데이터 개수\n",
    "\n",
    "# 훈련 데이터와 테스트 데이터 나누기\n",
    "\n",
    "# X_train= all_data_2[:num_train] # 0~num_train -1 행\n",
    "# X_test = all_data_2[num_train:] # num_train ~ 마지막 행\n",
    "#\n",
    "# y_train = train['Survived'].values\n",
    "\n",
    "\n",
    "# ########################################\n",
    "# # 데이터 분할\n",
    "num_train = len(train) # 훈련 데이터 개수\n",
    "\n",
    "# 훈련 데이터와 테스트 데이터 나누기\n",
    "\n",
    "X= all_data[:num_train] # 0~num_train -1 행\n",
    "X_test = all_data[num_train:] # num_train ~ 마지막 행\n",
    "\n",
    "y = train['yield'].values\n",
    "\n",
    "\n",
    "X_train , X_valid , y_train, y_valid = train_test_split(X,y, test_size = 0.2, random_state=0)\n",
    "# y_test = correct['Survived'].values"
   ],
   "metadata": {
    "collapsed": false,
    "pycharm": {
     "name": "#%%\n"
    }
   }
  },
  {
   "cell_type": "code",
   "execution_count": 87,
   "outputs": [
    {
     "name": "stdout",
     "output_type": "stream",
     "text": [
      "MAE: 368.90141447649205\n"
     ]
    }
   ],
   "source": [
    "from sklearn.metrics import mean_absolute_error\n",
    "\n",
    "# 모델 학습 (예시로 Linear Regression 모델 사용)\n",
    "# model = LinearRegression()\n",
    "# model.fit(X_train, y_train)\n",
    "\n",
    "# 검증 데이터에 대한 예측 수행\n",
    "y_pred = best_model_grid_search_lr.predict(X_valid)\n",
    "\n",
    "# MAE 계산\n",
    "mae = mean_absolute_error(y_valid, y_pred)\n",
    "print(\"MAE:\", mae)\n"
   ],
   "metadata": {
    "collapsed": false,
    "pycharm": {
     "name": "#%%\n"
    }
   }
  },
  {
   "cell_type": "code",
   "execution_count": 88,
   "outputs": [
    {
     "name": "stdout",
     "output_type": "stream",
     "text": [
      "현재 날짜 및 시각 :  [6, 9, 10, 28, 59]\n"
     ]
    }
   ],
   "source": [
    "import datetime\n",
    "\n",
    "# 현재 날짜와 시각 구하기\n",
    "now = datetime.datetime.now()\n",
    "date_list = [now.month, now.day, now.hour, now.minute, now.second]\n",
    "# 현재 날짜와 시각 출력하기\n",
    "print(\"현재 날짜 및 시각 : \", date_list)\n",
    "\n",
    "# 제출 파일 생성\n",
    "\n",
    "submission['yield'] = y_preds\n",
    "submission.to_csv(f'submission_linear_{date_list[0]}_{date_list[1]}_{date_list[2]}_{date_list[3]}_{date_list[4]}.csv')"
   ],
   "metadata": {
    "collapsed": false,
    "pycharm": {
     "name": "#%%\n"
    }
   }
  },
  {
   "cell_type": "code",
   "execution_count": 89,
   "outputs": [
    {
     "data": {
      "text/plain": "['clonesize',\n 'honeybee',\n 'bumbles',\n 'andrena',\n 'osmia',\n 'MaxOfUpperTRange',\n 'MinOfUpperTRange',\n 'AverageOfUpperTRange',\n 'MaxOfLowerTRange',\n 'MinOfLowerTRange',\n 'AverageOfLowerTRange',\n 'RainingDays',\n 'AverageRainingDays',\n 'fruitset',\n 'fruitmass',\n 'seeds']"
     },
     "execution_count": 89,
     "metadata": {},
     "output_type": "execute_result"
    }
   ],
   "source": [
    "all_data.columns.tolist()"
   ],
   "metadata": {
    "collapsed": false,
    "pycharm": {
     "name": "#%%\n"
    }
   }
  },
  {
   "cell_type": "code",
   "execution_count": 46,
   "outputs": [
    {
     "data": {
      "text/plain": "id\n0        25.0\n1        25.0\n2        12.5\n3        12.5\n4        25.0\n         ... \n25478    25.0\n25479    25.0\n25480    25.0\n25481    12.5\n25482    12.5\nName: clonesize, Length: 25483, dtype: float64"
     },
     "execution_count": 46,
     "metadata": {},
     "output_type": "execute_result"
    }
   ],
   "source": [
    "all_data['clonesize']"
   ],
   "metadata": {
    "collapsed": false,
    "pycharm": {
     "name": "#%%\n"
    }
   }
  },
  {
   "cell_type": "code",
   "execution_count": 47,
   "outputs": [],
   "source": [
    "# import matplotlib.pyplot as plt\n",
    "# import seaborn as sns\n",
    "# from scipy.stats import norm\n",
    "# import matplotlib.pyplot as plt\n",
    "#\n",
    "# # 서브플롯을 생성할 크기 설정\n",
    "# plt.figure(figsize=(12, 8))\n",
    "# # sns.countplot(x='clonesize', hue='yield', data=train)\n",
    "# # 피처들의 리스트\n",
    "# features = all_data.columns.tolist()\n",
    "#\n",
    "# # 피처들에 대한 countplot 그리기\n",
    "# for i, feature in enumerate(features):\n",
    "#     plt.subplot(4, 4, i+1)\n",
    "#     sns.histplot(all_data[feature], kde=True, stat='density', color='skyblue', alpha=0.7)\n",
    "#     mu, std = norm.fit(all_data[feature].dropna())\n",
    "#     xmin, xmax = plt.xlim()\n",
    "#     x = np.linspace(xmin, xmax, 100)\n",
    "#     p = norm.pdf(x, mu, std)\n",
    "#     plt.plot(x, p, 'r', linewidth=2)\n",
    "#     plt.title(f'Features distribution (mu={mu:.2f}, std={std:.2f})')\n",
    "#     plt.title(f'{feature} - Survived Countplot')\n",
    "#\n",
    "# # 레이아웃 조정\n",
    "# plt.tight_layout()\n",
    "#\n",
    "# # 그래프 출력\n",
    "# plt.show()\n",
    "#\n",
    "# # [fruitset , fruitmass ,seeds]"
   ],
   "metadata": {
    "collapsed": false,
    "pycharm": {
     "name": "#%%\n"
    }
   }
  },
  {
   "cell_type": "code",
   "execution_count": 48,
   "outputs": [],
   "source": [
    "# sns.histplot(all_data['fruitset'], kde=True, stat='density', color='skyblue', alpha=0.7)\n",
    "# mu, std = norm.fit(all_data['fruitset'].dropna())\n",
    "# xmin, xmax = plt.xlim()\n",
    "# x = np.linspace(xmin, xmax, 100)\n",
    "# p = norm.pdf(x, mu, std)\n",
    "# plt.plot(x, p, 'r', linewidth=2)\n",
    "# plt.title(f'Features distribution (mu={mu:.2f}, std={std:.2f})')"
   ],
   "metadata": {
    "collapsed": false,
    "pycharm": {
     "name": "#%%\n"
    }
   }
  },
  {
   "cell_type": "code",
   "execution_count": 49,
   "outputs": [
    {
     "data": {
      "text/plain": "andrena\n0.380    7649\n0.500    6959\n0.630    4986\n0.750    3063\n0.250    2721\n0.409      74\n0.000      12\n0.229       5\n0.147       3\n0.490       2\n0.560       2\n0.101       1\n0.234       1\n0.240       1\n0.235       1\n0.707       1\n0.260       1\n0.585       1\nName: count, dtype: int64"
     },
     "execution_count": 49,
     "metadata": {},
     "output_type": "execute_result"
    }
   ],
   "source": [
    "all_data['andrena'].value_counts()"
   ],
   "metadata": {
    "collapsed": false,
    "pycharm": {
     "name": "#%%\n"
    }
   }
  },
  {
   "cell_type": "code",
   "execution_count": 50,
   "outputs": [],
   "source": [
    "# import datetime\n",
    "#\n",
    "# # 현재 날짜와 시각 구하기\n",
    "# now = datetime.datetime.now()\n",
    "# date_list = [now.month, now.day, now.hour, now.minute]\n",
    "# # 현재 날짜와 시각 출력하기\n",
    "# print(\"현재 날짜 및 시각 : \", date_list)\n",
    "#\n",
    "# # 제출 파일 생성\n",
    "#\n",
    "# submission['yield'] = y_preds\n",
    "# submission.to_csv(f'submission_{date_list[0]}_{date_list[1]}_{date_list[2]}_{date_list[3]}.csv')"
   ],
   "metadata": {
    "collapsed": false,
    "pycharm": {
     "name": "#%%\n"
    }
   }
  },
  {
   "cell_type": "markdown",
   "source": [
    "## 베이스라인 모델 선형 모델"
   ],
   "metadata": {
    "collapsed": false,
    "pycharm": {
     "name": "#%% md\n"
    }
   }
  },
  {
   "cell_type": "markdown",
   "source": [
    "### 그리드서치 객체 생성\n",
    "\n",
    "- 그리드서치는 하이퍼파라미터의 값을바꿔가며'모델'의 성능을 교차검증으로 '평가'해 최적의 하이퍼파라미터 값을 찾아준다.\n",
    "\n",
    "- 비교 검증해볼 하이퍼파라미터 값 목록\n",
    "\n",
    "- 대상 모델\n",
    "\n",
    "- 교차 검증용 평가 수단(평가 함수)\n",
    "## 회귀 평가지표\n",
    "\n",
    "- 회귀 모델을 훈련해 최적의 회귀계수를 구할 수 있다."
   ],
   "metadata": {
    "collapsed": false,
    "pycharm": {
     "name": "#%% md\n"
    }
   }
  },
  {
   "cell_type": "code",
   "execution_count": 51,
   "outputs": [],
   "source": [
    "from sklearn.model_selection import train_test_split\n",
    "#\n",
    "num_train = len(train) # 훈련 데이터 개수\n",
    "\n",
    "# 훈련 데이터와 테스트 데이터 나누기\n",
    "\n",
    "X_train= all_data[:num_train] # 0~num_train -1 행\n",
    "X_test = all_data[num_train:] # num_train ~ 마지막 행\n",
    "\n",
    "y_train = train['yield'].values\n",
    "\n",
    "\n",
    "# ########################################\n",
    "# # 데이터 분할\n",
    "# num_train = len(train) # 훈련 데이터 개수\n",
    "#\n",
    "# # 훈련 데이터와 테스트 데이터 나누기\n",
    "#\n",
    "# X= all_data_sprs[:num_train] # 0~num_train -1 행\n",
    "# X_test = all_data_sprs[num_train:] # num_train ~ 마지막 행\n",
    "#\n",
    "# y = train['Survived'].values\n",
    "#\n",
    "#\n",
    "# X_train , X_valid , y_train, y_valid = train_test_split(X,y, test_size = 0.2, random_state=0)\n",
    "y_test = submission['yield'].values"
   ],
   "metadata": {
    "collapsed": false,
    "pycharm": {
     "name": "#%%\n"
    }
   }
  },
  {
   "cell_type": "code",
   "execution_count": 52,
   "outputs": [
    {
     "name": "stdout",
     "output_type": "stream",
     "text": [
      "Best Model (Ridge Regression): Ridge(alpha=0.01, max_iter=30, random_state=42)\n",
      "Best Parameters (Ridge Regression): {'alpha': 0.01, 'max_iter': 30, 'random_state': 42, 'solver': 'auto'}\n",
      "Wall time: 1.18 s\n"
     ]
    }
   ],
   "source": [
    "%%time\n",
    "\n",
    "from sklearn import metrics\n",
    "from sklearn.linear_model import Ridge\n",
    "from sklearn.model_selection import GridSearchCV\n",
    "from sklearn.metrics import mean_absolute_error\n",
    "\n",
    "ridge_model = Ridge()\n",
    "\n",
    "# 하이퍼파라미터 값 목록\n",
    "ridge_params = {'max_iter': [30, 50,100,200], 'alpha': [0.01,0.05,0.1, 1] ,\n",
    "                'random_state' : [42],\n",
    "                'solver' : ['auto']}\n",
    "\n",
    "# 교차 검증용 평가 함수(MAE 계산)\n",
    "mae_scorer = metrics.make_scorer(mean_absolute_error, greater_is_better=False)\n",
    "\n",
    "gridsearch_ridge_model = GridSearchCV(estimator=ridge_model,\n",
    "                                      param_grid=ridge_params,\n",
    "                                      scoring=mae_scorer,\n",
    "                                      cv=5)\n",
    "\n",
    "# 그리드 서치 수행\n",
    "gridsearch_ridge_model.fit(X_train, y_train)\n",
    "\n",
    "best_model_grid_search_ridge = gridsearch_ridge_model.best_estimator_\n",
    "best_params_grid_search_ridge = gridsearch_ridge_model.best_params_\n",
    "\n",
    "print(\"Best Model (Ridge Regression):\", best_model_grid_search_ridge)\n",
    "print(\"Best Parameters (Ridge Regression):\", best_params_grid_search_ridge)\n"
   ],
   "metadata": {
    "collapsed": false,
    "pycharm": {
     "name": "#%%\n"
    }
   }
  },
  {
   "cell_type": "code",
   "execution_count": 53,
   "outputs": [],
   "source": [
    "# 타깃값 1일 확룰 예측\n",
    "\n",
    "y_preds= best_model_grid_search_ridge.predict(X_test)\n",
    "# y_preds"
   ],
   "metadata": {
    "collapsed": false,
    "pycharm": {
     "name": "#%%\n"
    }
   }
  },
  {
   "cell_type": "code",
   "execution_count": 54,
   "outputs": [],
   "source": [
    "# from sklearn.metrics import mean_absolute_error\n",
    "#\n",
    "# # 모델 학습 (예시로 Linear Regression 모델 사용)\n",
    "# # model = LinearRegression()\n",
    "# # model.fit(X_train, y_train)\n",
    "#\n",
    "# # 검증 데이터에 대한 예측 수행\n",
    "# # y_pred = best_model_grid_search_ridge.predict(X_valid)\n",
    "#\n",
    "# # MAE 계산\n",
    "# mae = mean_absolute_error(y_test, y_preds)\n",
    "# print(\"MAE:\", mae)"
   ],
   "metadata": {
    "collapsed": false,
    "pycharm": {
     "name": "#%%\n"
    }
   }
  },
  {
   "cell_type": "code",
   "execution_count": 55,
   "outputs": [],
   "source": [
    "from sklearn.model_selection import train_test_split\n",
    "#\n",
    "# num_train = len(train) # 훈련 데이터 개수\n",
    "\n",
    "# 훈련 데이터와 테스트 데이터 나누기\n",
    "\n",
    "# X_train= all_data_2[:num_train] # 0~num_train -1 행\n",
    "# X_test = all_data_2[num_train:] # num_train ~ 마지막 행\n",
    "#\n",
    "# y_train = train['Survived'].values\n",
    "\n",
    "\n",
    "# ########################################\n",
    "# # 데이터 분할\n",
    "num_train = len(train) # 훈련 데이터 개수\n",
    "\n",
    "# 훈련 데이터와 테스트 데이터 나누기\n",
    "\n",
    "X= all_data[:num_train] # 0~num_train -1 행\n",
    "X_test = all_data[num_train:] # num_train ~ 마지막 행\n",
    "\n",
    "y = train['yield'].values\n",
    "\n",
    "\n",
    "X_train , X_valid , y_train, y_valid = train_test_split(X,y, test_size = 0.2, random_state=0)\n",
    "# y_test = correct['Survived'].values"
   ],
   "metadata": {
    "collapsed": false,
    "pycharm": {
     "name": "#%%\n"
    }
   }
  },
  {
   "cell_type": "code",
   "execution_count": 56,
   "outputs": [
    {
     "name": "stdout",
     "output_type": "stream",
     "text": [
      "MAE: 368.9037571230631\n"
     ]
    }
   ],
   "source": [
    "from sklearn.metrics import mean_absolute_error\n",
    "\n",
    "# 모델 학습 (예시로 Linear Regression 모델 사용)\n",
    "# model = LinearRegression()\n",
    "# model.fit(X_train, y_train)\n",
    "\n",
    "# 검증 데이터에 대한 예측 수행\n",
    "y_pred = best_model_grid_search_ridge.predict(X_valid)\n",
    "\n",
    "# MAE 계산\n",
    "mae = mean_absolute_error(y_valid, y_pred)\n",
    "print(\"MAE:\", mae)\n"
   ],
   "metadata": {
    "collapsed": false,
    "pycharm": {
     "name": "#%%\n"
    }
   }
  },
  {
   "cell_type": "code",
   "execution_count": 57,
   "outputs": [
    {
     "name": "stdout",
     "output_type": "stream",
     "text": [
      "현재 날짜 및 시각 :  [6, 9, 10, 21]\n"
     ]
    }
   ],
   "source": [
    "import datetime\n",
    "\n",
    "# 현재 날짜와 시각 구하기\n",
    "now = datetime.datetime.now()\n",
    "date_list = [now.month, now.day, now.hour, now.minute]\n",
    "# 현재 날짜와 시각 출력하기\n",
    "print(\"현재 날짜 및 시각 : \", date_list)\n",
    "\n",
    "# 제출 파일 생성\n",
    "\n",
    "submission['yield'] = y_preds\n",
    "submission.to_csv(f'submission_Ridge_{date_list[0]}_{date_list[1]}_{date_list[2]}_{date_list[3]}.csv')"
   ],
   "metadata": {
    "collapsed": false,
    "pycharm": {
     "name": "#%%\n"
    }
   }
  },
  {
   "cell_type": "markdown",
   "source": [
    "## 부스팅 모델 LightGBM 사용해보기"
   ],
   "metadata": {
    "collapsed": false,
    "pycharm": {
     "name": "#%% md\n"
    }
   }
  },
  {
   "cell_type": "code",
   "execution_count": 64,
   "outputs": [],
   "source": [
    "from sklearn.model_selection import train_test_split\n",
    "#\n",
    "num_train = len(train) # 훈련 데이터 개수\n",
    "\n",
    "# 훈련 데이터와 테스트 데이터 나누기\n",
    "\n",
    "X_train= all_data[:num_train] # 0~num_train -1 행\n",
    "X_test = all_data[num_train:] # num_train ~ 마지막 행\n",
    "\n",
    "y_train = train['yield'].values\n",
    "\n",
    "\n",
    "# ########################################\n",
    "# # 데이터 분할\n",
    "# num_train = len(train) # 훈련 데이터 개수\n",
    "#\n",
    "# # 훈련 데이터와 테스트 데이터 나누기\n",
    "#\n",
    "# X= all_data_sprs[:num_train] # 0~num_train -1 행\n",
    "# X_test = all_data_sprs[num_train:] # num_train ~ 마지막 행\n",
    "#\n",
    "# y = train['Survived'].values\n",
    "#\n",
    "#\n",
    "# X_train , X_valid , y_train, y_valid = train_test_split(X,y, test_size = 0.2, random_state=0)\n",
    "y_test = submission['yield'].values"
   ],
   "metadata": {
    "collapsed": false,
    "pycharm": {
     "name": "#%%\n"
    }
   }
  },
  {
   "cell_type": "code",
   "execution_count": 65,
   "outputs": [],
   "source": [
    "import numpy as np\n",
    "\n",
    "def eval_gini(y_true , y_pred):\n",
    "    # 실제값과 예측값의 크기가 서로 같은지 확인(값이 다르면 오류 발생)\n",
    "    assert y_true.shape == y_pred.shape\n",
    "\n",
    "    n_samples = y_true.shape[0] # 데이터 개수\n",
    "    L_mid = np.linspace(1/ n_samples ,1 , n_samples) # 대각선 값\n",
    "\n",
    "    # 1) 예측값에 대한 지니계수\n",
    "\n",
    "    pred_order = y_true[y_pred.argsort()] # y_pred 크기순으로 y_true 값 정렬\n",
    "    L_pred = np.cumsum(pred_order) / np.sum(pred_order) # 로렌츠 곡선\n",
    "\n",
    "    G_pred = np.sum(L_mid - L_pred) # 예측값에 대한 지니계수\n",
    "\n",
    "    # 2) 예측이 완벽할 때 지니계수\n",
    "\n",
    "    true_order = y_true[y_true.argsort()] # y_true 크기순으로 y_true 값 정렬\n",
    "    L_true = np.cumsum(true_order) / np.sum(true_order) # 로렌츠 곡선\n",
    "    G_true = np.sum(L_mid - L_true) # 예측이 완벽할 때 지니계수\n",
    "\n",
    "    # 정규화된 지니계수\n",
    "    return G_pred / G_true"
   ],
   "metadata": {
    "collapsed": false,
    "pycharm": {
     "name": "#%%\n"
    }
   }
  },
  {
   "cell_type": "code",
   "execution_count": 68,
   "outputs": [
    {
     "name": "stdout",
     "output_type": "stream",
     "text": [
      "Requirement already satisfied: pandas in c:\\users\\andyp\\anaconda3\\lib\\site-packages (2.0.2)"
     ]
    },
    {
     "name": "stderr",
     "output_type": "stream",
     "text": [
      "WARNING: Ignoring invalid distribution -pencv-python-headless (c:\\users\\andyp\\anaconda3\\lib\\site-packages)\n",
      "WARNING: Ignoring invalid distribution -pencv-python-headless (c:\\users\\andyp\\anaconda3\\lib\\site-packages)\n",
      "WARNING: Ignoring invalid distribution -pencv-python-headless (c:\\users\\andyp\\anaconda3\\lib\\site-packages)\n",
      "WARNING: Ignoring invalid distribution -pencv-python-headless (c:\\users\\andyp\\anaconda3\\lib\\site-packages)\n",
      "WARNING: Ignoring invalid distribution -pencv-python-headless (c:\\users\\andyp\\anaconda3\\lib\\site-packages)\n",
      "WARNING: Ignoring invalid distribution -pencv-python-headless (c:\\users\\andyp\\anaconda3\\lib\\site-packages)\n",
      "\n",
      "[notice] A new release of pip is available: 23.0.1 -> 23.1.2\n",
      "[notice] To update, run: python.exe -m pip install --upgrade pip\n"
     ]
    },
    {
     "name": "stdout",
     "output_type": "stream",
     "text": [
      "\n",
      "Requirement already satisfied: pytz>=2020.1 in c:\\users\\andyp\\anaconda3\\lib\\site-packages (from pandas) (2021.1)\n",
      "Requirement already satisfied: numpy>=1.20.3 in c:\\users\\andyp\\anaconda3\\lib\\site-packages (from pandas) (1.22.4)\n",
      "Requirement already satisfied: tzdata>=2022.1 in c:\\users\\andyp\\anaconda3\\lib\\site-packages (from pandas) (2023.3)\n",
      "Requirement already satisfied: python-dateutil>=2.8.2 in c:\\users\\andyp\\anaconda3\\lib\\site-packages (from pandas) (2.8.2)\n",
      "Requirement already satisfied: six>=1.5 in c:\\users\\andyp\\anaconda3\\lib\\site-packages (from python-dateutil>=2.8.2->pandas) (1.16.0)\n"
     ]
    }
   ],
   "source": [
    "! pip install --upgrade pandas"
   ],
   "metadata": {
    "collapsed": false,
    "pycharm": {
     "name": "#%%\n"
    }
   }
  },
  {
   "cell_type": "code",
   "execution_count": 67,
   "outputs": [
    {
     "ename": "AttributeError",
     "evalue": "module 'pandas' has no attribute 'Int64Index'",
     "output_type": "error",
     "traceback": [
      "\u001B[1;31m---------------------------------------------------------------------------\u001B[0m",
      "\u001B[1;31mAttributeError\u001B[0m                            Traceback (most recent call last)",
      "\u001B[1;32m<timed exec>\u001B[0m in \u001B[0;36m<module>\u001B[1;34m\u001B[0m\n",
      "\u001B[1;32m~\\anaconda3\\lib\\site-packages\\lightgbm\\__init__.py\u001B[0m in \u001B[0;36m<module>\u001B[1;34m\u001B[0m\n\u001B[0;32m      6\u001B[0m \u001B[1;32mfrom\u001B[0m \u001B[0mpathlib\u001B[0m \u001B[1;32mimport\u001B[0m \u001B[0mPath\u001B[0m\u001B[1;33m\u001B[0m\u001B[1;33m\u001B[0m\u001B[0m\n\u001B[0;32m      7\u001B[0m \u001B[1;33m\u001B[0m\u001B[0m\n\u001B[1;32m----> 8\u001B[1;33m \u001B[1;32mfrom\u001B[0m \u001B[1;33m.\u001B[0m\u001B[0mbasic\u001B[0m \u001B[1;32mimport\u001B[0m \u001B[0mBooster\u001B[0m\u001B[1;33m,\u001B[0m \u001B[0mDataset\u001B[0m\u001B[1;33m,\u001B[0m \u001B[0mSequence\u001B[0m\u001B[1;33m,\u001B[0m \u001B[0mregister_logger\u001B[0m\u001B[1;33m\u001B[0m\u001B[1;33m\u001B[0m\u001B[0m\n\u001B[0m\u001B[0;32m      9\u001B[0m \u001B[1;32mfrom\u001B[0m \u001B[1;33m.\u001B[0m\u001B[0mcallback\u001B[0m \u001B[1;32mimport\u001B[0m \u001B[0mearly_stopping\u001B[0m\u001B[1;33m,\u001B[0m \u001B[0mlog_evaluation\u001B[0m\u001B[1;33m,\u001B[0m \u001B[0mprint_evaluation\u001B[0m\u001B[1;33m,\u001B[0m \u001B[0mrecord_evaluation\u001B[0m\u001B[1;33m,\u001B[0m \u001B[0mreset_parameter\u001B[0m\u001B[1;33m\u001B[0m\u001B[1;33m\u001B[0m\u001B[0m\n\u001B[0;32m     10\u001B[0m \u001B[1;32mfrom\u001B[0m \u001B[1;33m.\u001B[0m\u001B[0mengine\u001B[0m \u001B[1;32mimport\u001B[0m \u001B[0mCVBooster\u001B[0m\u001B[1;33m,\u001B[0m \u001B[0mcv\u001B[0m\u001B[1;33m,\u001B[0m \u001B[0mtrain\u001B[0m\u001B[1;33m\u001B[0m\u001B[1;33m\u001B[0m\u001B[0m\n",
      "\u001B[1;32m~\\anaconda3\\lib\\site-packages\\lightgbm\\basic.py\u001B[0m in \u001B[0;36m<module>\u001B[1;34m\u001B[0m\n\u001B[0;32m     18\u001B[0m \u001B[1;32mimport\u001B[0m \u001B[0mscipy\u001B[0m\u001B[1;33m.\u001B[0m\u001B[0msparse\u001B[0m\u001B[1;33m\u001B[0m\u001B[1;33m\u001B[0m\u001B[0m\n\u001B[0;32m     19\u001B[0m \u001B[1;33m\u001B[0m\u001B[0m\n\u001B[1;32m---> 20\u001B[1;33m \u001B[1;32mfrom\u001B[0m \u001B[1;33m.\u001B[0m\u001B[0mcompat\u001B[0m \u001B[1;32mimport\u001B[0m \u001B[0mPANDAS_INSTALLED\u001B[0m\u001B[1;33m,\u001B[0m \u001B[0mconcat\u001B[0m\u001B[1;33m,\u001B[0m \u001B[0mdt_DataTable\u001B[0m\u001B[1;33m,\u001B[0m \u001B[0mis_dtype_sparse\u001B[0m\u001B[1;33m,\u001B[0m \u001B[0mpd_DataFrame\u001B[0m\u001B[1;33m,\u001B[0m \u001B[0mpd_Series\u001B[0m\u001B[1;33m\u001B[0m\u001B[1;33m\u001B[0m\u001B[0m\n\u001B[0m\u001B[0;32m     21\u001B[0m \u001B[1;32mfrom\u001B[0m \u001B[1;33m.\u001B[0m\u001B[0mlibpath\u001B[0m \u001B[1;32mimport\u001B[0m \u001B[0mfind_lib_path\u001B[0m\u001B[1;33m\u001B[0m\u001B[1;33m\u001B[0m\u001B[0m\n\u001B[0;32m     22\u001B[0m \u001B[1;33m\u001B[0m\u001B[0m\n",
      "\u001B[1;32m~\\anaconda3\\lib\\site-packages\\lightgbm\\compat.py\u001B[0m in \u001B[0;36m<module>\u001B[1;34m\u001B[0m\n\u001B[0;32m    128\u001B[0m     \u001B[1;32mfrom\u001B[0m \u001B[0mdask\u001B[0m\u001B[1;33m.\u001B[0m\u001B[0marray\u001B[0m \u001B[1;32mimport\u001B[0m \u001B[0mfrom_delayed\u001B[0m \u001B[1;32mas\u001B[0m \u001B[0mdask_array_from_delayed\u001B[0m\u001B[1;33m\u001B[0m\u001B[1;33m\u001B[0m\u001B[0m\n\u001B[0;32m    129\u001B[0m     \u001B[1;32mfrom\u001B[0m \u001B[0mdask\u001B[0m\u001B[1;33m.\u001B[0m\u001B[0mbag\u001B[0m \u001B[1;32mimport\u001B[0m \u001B[0mfrom_delayed\u001B[0m \u001B[1;32mas\u001B[0m \u001B[0mdask_bag_from_delayed\u001B[0m\u001B[1;33m\u001B[0m\u001B[1;33m\u001B[0m\u001B[0m\n\u001B[1;32m--> 130\u001B[1;33m     \u001B[1;32mfrom\u001B[0m \u001B[0mdask\u001B[0m\u001B[1;33m.\u001B[0m\u001B[0mdataframe\u001B[0m \u001B[1;32mimport\u001B[0m \u001B[0mDataFrame\u001B[0m \u001B[1;32mas\u001B[0m \u001B[0mdask_DataFrame\u001B[0m\u001B[1;33m\u001B[0m\u001B[1;33m\u001B[0m\u001B[0m\n\u001B[0m\u001B[0;32m    131\u001B[0m     \u001B[1;32mfrom\u001B[0m \u001B[0mdask\u001B[0m\u001B[1;33m.\u001B[0m\u001B[0mdataframe\u001B[0m \u001B[1;32mimport\u001B[0m \u001B[0mSeries\u001B[0m \u001B[1;32mas\u001B[0m \u001B[0mdask_Series\u001B[0m\u001B[1;33m\u001B[0m\u001B[1;33m\u001B[0m\u001B[0m\n\u001B[0;32m    132\u001B[0m     \u001B[1;32mfrom\u001B[0m \u001B[0mdask\u001B[0m\u001B[1;33m.\u001B[0m\u001B[0mdistributed\u001B[0m \u001B[1;32mimport\u001B[0m \u001B[0mClient\u001B[0m\u001B[1;33m,\u001B[0m \u001B[0mdefault_client\u001B[0m\u001B[1;33m,\u001B[0m \u001B[0mwait\u001B[0m\u001B[1;33m\u001B[0m\u001B[1;33m\u001B[0m\u001B[0m\n",
      "\u001B[1;32m~\\anaconda3\\lib\\site-packages\\dask\\dataframe\\__init__.py\u001B[0m in \u001B[0;36m<module>\u001B[1;34m\u001B[0m\n\u001B[0;32m      1\u001B[0m \u001B[1;32mtry\u001B[0m\u001B[1;33m:\u001B[0m\u001B[1;33m\u001B[0m\u001B[1;33m\u001B[0m\u001B[0m\n\u001B[0;32m      2\u001B[0m     \u001B[1;32mfrom\u001B[0m \u001B[1;33m.\u001B[0m\u001B[1;33m.\u001B[0m\u001B[0mbase\u001B[0m \u001B[1;32mimport\u001B[0m \u001B[0mcompute\u001B[0m\u001B[1;33m\u001B[0m\u001B[1;33m\u001B[0m\u001B[0m\n\u001B[1;32m----> 3\u001B[1;33m     \u001B[1;32mfrom\u001B[0m \u001B[1;33m.\u001B[0m \u001B[1;32mimport\u001B[0m \u001B[0mbackends\u001B[0m\u001B[1;33m,\u001B[0m \u001B[0mrolling\u001B[0m\u001B[1;33m\u001B[0m\u001B[1;33m\u001B[0m\u001B[0m\n\u001B[0m\u001B[0;32m      4\u001B[0m     from .core import (\n\u001B[0;32m      5\u001B[0m         \u001B[0mDataFrame\u001B[0m\u001B[1;33m,\u001B[0m\u001B[1;33m\u001B[0m\u001B[1;33m\u001B[0m\u001B[0m\n",
      "\u001B[1;32m~\\anaconda3\\lib\\site-packages\\dask\\dataframe\\backends.py\u001B[0m in \u001B[0;36m<module>\u001B[1;34m\u001B[0m\n\u001B[1;32m----> 1\u001B[1;33m \u001B[1;32mfrom\u001B[0m \u001B[1;33m.\u001B[0m\u001B[0mcore\u001B[0m \u001B[1;32mimport\u001B[0m \u001B[0mget_parallel_type\u001B[0m\u001B[1;33m,\u001B[0m \u001B[0mmake_meta\u001B[0m\u001B[1;33m,\u001B[0m \u001B[0mmeta_nonempty\u001B[0m\u001B[1;33m\u001B[0m\u001B[1;33m\u001B[0m\u001B[0m\n\u001B[0m\u001B[0;32m      2\u001B[0m \u001B[1;32mfrom\u001B[0m \u001B[1;33m.\u001B[0m\u001B[0mmethods\u001B[0m \u001B[1;32mimport\u001B[0m \u001B[0mconcat_dispatch\u001B[0m\u001B[1;33m\u001B[0m\u001B[1;33m\u001B[0m\u001B[0m\n\u001B[0;32m      3\u001B[0m \u001B[1;32mfrom\u001B[0m \u001B[1;33m.\u001B[0m\u001B[0mutils\u001B[0m \u001B[1;32mimport\u001B[0m \u001B[0mgroup_split_dispatch\u001B[0m\u001B[1;33m,\u001B[0m \u001B[0mhash_object_dispatch\u001B[0m\u001B[1;33m\u001B[0m\u001B[1;33m\u001B[0m\u001B[0m\n\u001B[0;32m      4\u001B[0m \u001B[1;33m\u001B[0m\u001B[0m\n\u001B[0;32m      5\u001B[0m \u001B[1;31m######################################\u001B[0m\u001B[1;33m\u001B[0m\u001B[1;33m\u001B[0m\u001B[1;33m\u001B[0m\u001B[0m\n",
      "\u001B[1;32m~\\anaconda3\\lib\\site-packages\\dask\\dataframe\\core.py\u001B[0m in \u001B[0;36m<module>\u001B[1;34m\u001B[0m\n\u001B[0;32m     53\u001B[0m     \u001B[0mtypename\u001B[0m\u001B[1;33m,\u001B[0m\u001B[1;33m\u001B[0m\u001B[1;33m\u001B[0m\u001B[0m\n\u001B[0;32m     54\u001B[0m )\n\u001B[1;32m---> 55\u001B[1;33m \u001B[1;32mfrom\u001B[0m \u001B[1;33m.\u001B[0m \u001B[1;32mimport\u001B[0m \u001B[0mmethods\u001B[0m\u001B[1;33m\u001B[0m\u001B[1;33m\u001B[0m\u001B[0m\n\u001B[0m\u001B[0;32m     56\u001B[0m \u001B[1;32mfrom\u001B[0m \u001B[1;33m.\u001B[0m\u001B[0maccessor\u001B[0m \u001B[1;32mimport\u001B[0m \u001B[0mDatetimeAccessor\u001B[0m\u001B[1;33m,\u001B[0m \u001B[0mStringAccessor\u001B[0m\u001B[1;33m\u001B[0m\u001B[1;33m\u001B[0m\u001B[0m\n\u001B[0;32m     57\u001B[0m \u001B[1;32mfrom\u001B[0m \u001B[1;33m.\u001B[0m\u001B[0mcategorical\u001B[0m \u001B[1;32mimport\u001B[0m \u001B[0mCategoricalAccessor\u001B[0m\u001B[1;33m,\u001B[0m \u001B[0mcategorize\u001B[0m\u001B[1;33m\u001B[0m\u001B[1;33m\u001B[0m\u001B[0m\n",
      "\u001B[1;32m~\\anaconda3\\lib\\site-packages\\dask\\dataframe\\methods.py\u001B[0m in \u001B[0;36m<module>\u001B[1;34m\u001B[0m\n\u001B[0;32m      7\u001B[0m \u001B[1;33m\u001B[0m\u001B[0m\n\u001B[0;32m      8\u001B[0m \u001B[1;32mfrom\u001B[0m \u001B[1;33m.\u001B[0m\u001B[1;33m.\u001B[0m\u001B[0mutils\u001B[0m \u001B[1;32mimport\u001B[0m \u001B[0mDispatch\u001B[0m\u001B[1;33m\u001B[0m\u001B[1;33m\u001B[0m\u001B[0m\n\u001B[1;32m----> 9\u001B[1;33m from .utils import (\n\u001B[0m\u001B[0;32m     10\u001B[0m     \u001B[0mgroup_split_dispatch\u001B[0m\u001B[1;33m,\u001B[0m\u001B[1;33m\u001B[0m\u001B[1;33m\u001B[0m\u001B[0m\n\u001B[0;32m     11\u001B[0m     \u001B[0mhash_object_dispatch\u001B[0m\u001B[1;33m,\u001B[0m\u001B[1;33m\u001B[0m\u001B[1;33m\u001B[0m\u001B[0m\n",
      "\u001B[1;32m~\\anaconda3\\lib\\site-packages\\dask\\dataframe\\utils.py\u001B[0m in \u001B[0;36m<module>\u001B[1;34m\u001B[0m\n\u001B[0;32m    367\u001B[0m \u001B[1;33m\u001B[0m\u001B[0m\n\u001B[0;32m    368\u001B[0m \u001B[1;33m\u001B[0m\u001B[0m\n\u001B[1;32m--> 369\u001B[1;33m \u001B[0m_numeric_index_types\u001B[0m \u001B[1;33m=\u001B[0m \u001B[1;33m(\u001B[0m\u001B[0mpd\u001B[0m\u001B[1;33m.\u001B[0m\u001B[0mInt64Index\u001B[0m\u001B[1;33m,\u001B[0m \u001B[0mpd\u001B[0m\u001B[1;33m.\u001B[0m\u001B[0mFloat64Index\u001B[0m\u001B[1;33m,\u001B[0m \u001B[0mpd\u001B[0m\u001B[1;33m.\u001B[0m\u001B[0mUInt64Index\u001B[0m\u001B[1;33m)\u001B[0m\u001B[1;33m\u001B[0m\u001B[1;33m\u001B[0m\u001B[0m\n\u001B[0m\u001B[0;32m    370\u001B[0m \u001B[1;33m\u001B[0m\u001B[0m\n\u001B[0;32m    371\u001B[0m \u001B[0mmeta_nonempty\u001B[0m \u001B[1;33m=\u001B[0m \u001B[0mDispatch\u001B[0m\u001B[1;33m(\u001B[0m\u001B[1;34m\"meta_nonempty\"\u001B[0m\u001B[1;33m)\u001B[0m\u001B[1;33m\u001B[0m\u001B[1;33m\u001B[0m\u001B[0m\n",
      "\u001B[1;31mAttributeError\u001B[0m: module 'pandas' has no attribute 'Int64Index'"
     ]
    }
   ],
   "source": [
    "%%time\n",
    "\n",
    "from sklearn.model_selection import GridSearchCV\n",
    "from lightgbm import LGBMRegressor\n",
    "\n",
    "# LightGBM 모델 생성\n",
    "lgb_model = LGBMRegressor()\n",
    "\n",
    "# 그리드 서치를 위한 하이퍼파라미터 그리드 준비\n",
    "param_grid_lgb = {\n",
    "    'max_depth': [8,10],                        # 트리의 최대 깊이\n",
    "    'learning_rate': [0.04],               # 학습률\n",
    "    'n_estimators': [50, 200],             # 트리의 개수\n",
    "    'min_child_samples': [1, 2],           # 리프 노드에 필요한 최소 샘플 수\n",
    "    'subsample': [0.9],                   # 트리를 학습할 때 사용할 샘플링 비율\n",
    "    'colsample_bytree': [0.8],                # 트리를 학습할 때 사용할 특성의 비율\n",
    "    'reg_alpha': [0.3 ,0.2],                     # L1 정규화 항의 가중치\n",
    "    'reg_lambda': [ 0.4 , 0.5],                         # L2 정규화 항의 가중치\n",
    "    'random_state': [42]                   # 랜덤 시드\n",
    "}\n",
    "\n",
    "# 그리드 서치 객체 생성\n",
    "grid_search_lgb = GridSearchCV(lgb_model, param_grid_lgb, scoring=mae_scorer,cv=10, n_jobs=-1)\n",
    "\n",
    "# 그리드 서치 수행\n",
    "grid_search_lgb.fit(X_train, y_train)\n",
    "\n",
    "# 최적의 모델 및 파라미터 출력\n",
    "best_model_grid_search_lgb = grid_search_lgb.best_estimator_\n",
    "best_params_grid_search_lgb = grid_search_lgb.best_params_\n",
    "print(\"Best Model (LightGBM):\", best_model_grid_search_lgb)\n",
    "print(\"Best Parameters (LightGBM):\", best_params_grid_search_lgb)\n",
    "\n",
    "\n",
    "\n",
    "\n"
   ],
   "metadata": {
    "collapsed": false,
    "pycharm": {
     "name": "#%%\n"
    }
   }
  },
  {
   "cell_type": "code",
   "execution_count": 61,
   "outputs": [
    {
     "ename": "NameError",
     "evalue": "name 'best_model_grid_search_lgb' is not defined",
     "output_type": "error",
     "traceback": [
      "\u001B[1;31m---------------------------------------------------------------------------\u001B[0m",
      "\u001B[1;31mNameError\u001B[0m                                 Traceback (most recent call last)",
      "\u001B[1;32m<ipython-input-61-ea12a61bce51>\u001B[0m in \u001B[0;36m<module>\u001B[1;34m\u001B[0m\n\u001B[0;32m      1\u001B[0m \u001B[1;31m# 타깃값 1일 확룰 예측\u001B[0m\u001B[1;33m\u001B[0m\u001B[1;33m\u001B[0m\u001B[1;33m\u001B[0m\u001B[0m\n\u001B[0;32m      2\u001B[0m \u001B[1;33m\u001B[0m\u001B[0m\n\u001B[1;32m----> 3\u001B[1;33m \u001B[0my_preds\u001B[0m\u001B[1;33m=\u001B[0m \u001B[0mbest_model_grid_search_lgb\u001B[0m\u001B[1;33m.\u001B[0m\u001B[0mpredict\u001B[0m\u001B[1;33m(\u001B[0m\u001B[0mX_test\u001B[0m\u001B[1;33m)\u001B[0m\u001B[1;33m\u001B[0m\u001B[1;33m\u001B[0m\u001B[0m\n\u001B[0m\u001B[0;32m      4\u001B[0m \u001B[0my_preds\u001B[0m\u001B[1;33m\u001B[0m\u001B[1;33m\u001B[0m\u001B[0m\n",
      "\u001B[1;31mNameError\u001B[0m: name 'best_model_grid_search_lgb' is not defined"
     ]
    }
   ],
   "source": [
    "# 타깃값 1일 확룰 예측\n",
    "\n",
    "y_preds= best_model_grid_search_lgb.predict(X_test)\n",
    "y_preds"
   ],
   "metadata": {
    "collapsed": false,
    "pycharm": {
     "name": "#%%\n"
    }
   }
  },
  {
   "cell_type": "code",
   "execution_count": null,
   "outputs": [],
   "source": [
    "from sklearn.model_selection import train_test_split\n",
    "#\n",
    "# num_train = len(train) # 훈련 데이터 개수\n",
    "\n",
    "# 훈련 데이터와 테스트 데이터 나누기\n",
    "\n",
    "# X_train= all_data_2[:num_train] # 0~num_train -1 행\n",
    "# X_test = all_data_2[num_train:] # num_train ~ 마지막 행\n",
    "#\n",
    "# y_train = train['Survived'].values\n",
    "\n",
    "\n",
    "# ########################################\n",
    "# # 데이터 분할\n",
    "num_train = len(train) # 훈련 데이터 개수\n",
    "\n",
    "# 훈련 데이터와 테스트 데이터 나누기\n",
    "\n",
    "X= all_data[:num_train] # 0~num_train -1 행\n",
    "X_test = all_data[num_train:] # num_train ~ 마지막 행\n",
    "\n",
    "y = train['yield'].values\n",
    "\n",
    "\n",
    "X_train , X_valid , y_train, y_valid = train_test_split(X,y, test_size = 0.2, random_state=0)\n",
    "# y_test = correct['Survived'].values"
   ],
   "metadata": {
    "collapsed": false,
    "pycharm": {
     "name": "#%%\n"
    }
   }
  },
  {
   "cell_type": "code",
   "execution_count": null,
   "outputs": [],
   "source": [
    "from sklearn.metrics import mean_absolute_error\n",
    "\n",
    "# 모델 학습 (예시로 Linear Regression 모델 사용)\n",
    "# model = LinearRegression()\n",
    "# model.fit(X_train, y_train)\n",
    "\n",
    "# 검증 데이터에 대한 예측 수행\n",
    "y_pred = best_model_grid_search_lgb.predict(X_valid)\n",
    "\n",
    "# MAE 계산\n",
    "mae = mean_absolute_error(y_valid, y_pred)\n",
    "print(\"MAE:\", mae)\n"
   ],
   "metadata": {
    "collapsed": false,
    "pycharm": {
     "name": "#%%\n"
    }
   }
  },
  {
   "cell_type": "code",
   "execution_count": null,
   "outputs": [],
   "source": [
    "import datetime\n",
    "\n",
    "# 현재 날짜와 시각 구하기\n",
    "now = datetime.datetime.now()\n",
    "date_list = [now.month, now.day, now.hour, now.minute]\n",
    "# 현재 날짜와 시각 출력하기\n",
    "print(\"현재 날짜 및 시각 : \", date_list)\n",
    "\n",
    "# 제출 파일 생성\n",
    "\n",
    "submission['yield'] = y_preds\n",
    "submission.to_csv(f'submission_LGB_{date_list[0]}_{date_list[1]}_{date_list[2]}_{date_list[3]}.csv')"
   ],
   "metadata": {
    "collapsed": false,
    "pycharm": {
     "name": "#%%\n"
    }
   }
  },
  {
   "cell_type": "markdown",
   "source": [
    "## 부스팅 모델 XGBoost 사용해보기"
   ],
   "metadata": {
    "collapsed": false,
    "pycharm": {
     "name": "#%% md\n"
    }
   }
  },
  {
   "cell_type": "code",
   "execution_count": null,
   "outputs": [],
   "source": [
    "from sklearn.model_selection import train_test_split\n",
    "#\n",
    "num_train = len(train) # 훈련 데이터 개수\n",
    "\n",
    "# 훈련 데이터와 테스트 데이터 나누기\n",
    "\n",
    "X_train= all_data[:num_train] # 0~num_train -1 행\n",
    "X_test = all_data[num_train:] # num_train ~ 마지막 행\n",
    "\n",
    "y_train = train['yield'].values\n",
    "\n",
    "\n",
    "# ########################################\n",
    "# # 데이터 분할\n",
    "# num_train = len(train) # 훈련 데이터 개수\n",
    "#\n",
    "# # 훈련 데이터와 테스트 데이터 나누기\n",
    "#\n",
    "# X= all_data_sprs[:num_train] # 0~num_train -1 행\n",
    "# X_test = all_data_sprs[num_train:] # num_train ~ 마지막 행\n",
    "#\n",
    "# y = train['Survived'].values\n",
    "#\n",
    "#\n",
    "# X_train , X_valid , y_train, y_valid = train_test_split(X,y, test_size = 0.2, random_state=0)\n",
    "y_test = submission['yield'].values"
   ],
   "metadata": {
    "collapsed": false,
    "pycharm": {
     "name": "#%%\n"
    }
   }
  },
  {
   "cell_type": "code",
   "execution_count": null,
   "outputs": [],
   "source": [
    "%%time\n",
    "\n",
    "from sklearn.model_selection import GridSearchCV\n",
    "import xgboost as xgb\n",
    "\n",
    "# XGBoost 모델 생성\n",
    "xgb_model = xgb.XGBRegressor()\n",
    "\n",
    "# 그리드 서치를 위한 하이퍼파라미터 그리드 준비\n",
    "param_grid_xgb = {\n",
    "    # 'max_depth': [3, 5],\n",
    "    # 'learning_rate': [0.01 , 0.05],\n",
    "    # 'n_estimators': [300, 400],\n",
    "    # 'subsample': [1.0 ],  # subsample 비율\n",
    "    # 'colsample_bytree': [0.8, 0.9 ],  # 각 트리에 사용되는 특성(feature)의 비율\n",
    "    # 'gamma': [0 , 0.1],  # 트리 노드를 추가로 분할하기 위한 최소 손실 감소값\n",
    "    # 'reg_alpha': [0.01 ],  # L1 정규화 항의 가중치\n",
    "    # 'reg_lambda': [0]  # L2 정규화 항의 가중치\n",
    "    \"n_estimators\":[30, 50],\n",
    "    \"max_depth\":[3, 4,],\n",
    "    \"n_jobs\" : [-1],\n",
    "    \"learning_rate\":[.3,.2],\n",
    "    \"subsample\":[.8 , 1.0],\n",
    "    # \"colsample_bytree\":[0.8,1],\n",
    "    # \"gamma\":[0,0.1,1,5],\n",
    "    # \"lambda\":[.01,.1,1],\n",
    "    # \"ManchesterUTD\" : [0, 0.2]\n",
    "\n",
    "}\n",
    "\n",
    "# 그리드 서치 객체 생성\n",
    "grid_search_xgb = GridSearchCV(xgb_model, param_grid_xgb,scoring = mae_scorer, cv=10, n_jobs=-1)\n",
    "\n",
    "# 그리드 서치 수행\n",
    "grid_search_xgb.fit(X_train, y_train)\n",
    "\n",
    "# 최적의 모델 및 파라미터 출력\n",
    "best_model_grid_search_xgb = grid_search_xgb.best_estimator_\n",
    "best_params_grid_search_xgb = grid_search_xgb.best_params_\n",
    "print(\"Best Model (XGBoost):\", best_model_grid_search_xgb)\n",
    "print(\"Best Parameters (XGBoost):\", best_params_grid_search_xgb)\n"
   ],
   "metadata": {
    "collapsed": false,
    "pycharm": {
     "name": "#%%\n"
    }
   }
  },
  {
   "cell_type": "code",
   "execution_count": null,
   "outputs": [],
   "source": [
    "# 타깃값 1일 확룰 예측\n",
    "\n",
    "y_preds= best_model_grid_search_xgb.predict(X_test)\n",
    "y_preds"
   ],
   "metadata": {
    "collapsed": false,
    "pycharm": {
     "name": "#%%\n"
    }
   }
  },
  {
   "cell_type": "code",
   "execution_count": null,
   "outputs": [],
   "source": [
    "from sklearn.model_selection import train_test_split\n",
    "#\n",
    "# num_train = len(train) # 훈련 데이터 개수\n",
    "\n",
    "# 훈련 데이터와 테스트 데이터 나누기\n",
    "\n",
    "# X_train= all_data_2[:num_train] # 0~num_train -1 행\n",
    "# X_test = all_data_2[num_train:] # num_train ~ 마지막 행\n",
    "#\n",
    "# y_train = train['Survived'].values\n",
    "\n",
    "\n",
    "# ########################################\n",
    "# # 데이터 분할\n",
    "num_train = len(train) # 훈련 데이터 개수\n",
    "\n",
    "# 훈련 데이터와 테스트 데이터 나누기\n",
    "\n",
    "X= all_data[:num_train] # 0~num_train -1 행\n",
    "X_test = all_data[num_train:] # num_train ~ 마지막 행\n",
    "\n",
    "y = train['yield'].values\n",
    "\n",
    "\n",
    "X_train , X_valid , y_train, y_valid = train_test_split(X,y, test_size = 0.2, random_state=0)\n",
    "# y_test = correct['Survived'].values"
   ],
   "metadata": {
    "collapsed": false,
    "pycharm": {
     "name": "#%%\n"
    }
   }
  },
  {
   "cell_type": "code",
   "execution_count": null,
   "outputs": [],
   "source": [
    "from sklearn.metrics import mean_absolute_error\n",
    "\n",
    "# 모델 학습 (예시로 Linear Regression 모델 사용)\n",
    "# model = LinearRegression()\n",
    "# model.fit(X_train, y_train)\n",
    "\n",
    "# 검증 데이터에 대한 예측 수행\n",
    "y_pred = best_model_grid_search_xgb.predict(X_valid)\n",
    "\n",
    "# MAE 계산\n",
    "mae = mean_absolute_error(y_valid, y_pred)\n",
    "print(\"MAE:\", mae)\n"
   ],
   "metadata": {
    "collapsed": false,
    "pycharm": {
     "name": "#%%\n"
    }
   }
  },
  {
   "cell_type": "code",
   "execution_count": null,
   "outputs": [],
   "source": [
    "import datetime\n",
    "\n",
    "# 현재 날짜와 시각 구하기\n",
    "now = datetime.datetime.now()\n",
    "date_list = [now.month, now.day, now.hour, now.minute , now.second]\n",
    "# 현재 날짜와 시각 출력하기\n",
    "print(\"현재 날짜 및 시각 : \", date_list)\n",
    "\n",
    "# 제출 파일 생성\n",
    "\n",
    "submission['yield'] = y_preds\n",
    "submission.to_csv(f'submission_XGB_{date_list[0]}_{date_list[1]}_{date_list[2]}_{date_list[3]}_{date_list[4]}.csv')"
   ],
   "metadata": {
    "collapsed": false,
    "pycharm": {
     "name": "#%%\n"
    }
   }
  },
  {
   "cell_type": "markdown",
   "source": [
    "## 베이지안 최적화를 통한 최적의 하이퍼파라미터 찾아보기_XGBoost"
   ],
   "metadata": {
    "collapsed": false,
    "pycharm": {
     "name": "#%% md\n"
    }
   }
  },
  {
   "cell_type": "code",
   "execution_count": null,
   "outputs": [],
   "source": [
    "from sklearn.model_selection import train_test_split\n",
    "#\n",
    "num_train = len(train) # 훈련 데이터 개수\n",
    "\n",
    "# 훈련 데이터와 테스트 데이터 나누기\n",
    "\n",
    "X_train= all_data[:num_train] # 0~num_train -1 행\n",
    "X_test = all_data[num_train:] # num_train ~ 마지막 행\n",
    "\n",
    "y_train = train['yield'].values\n",
    "\n",
    "\n",
    "# ########################################\n",
    "# # 데이터 분할\n",
    "# num_train = len(train) # 훈련 데이터 개수\n",
    "#\n",
    "# # 훈련 데이터와 테스트 데이터 나누기\n",
    "#\n",
    "# X= all_data_sprs[:num_train] # 0~num_train -1 행\n",
    "# X_test = all_data_sprs[num_train:] # num_train ~ 마지막 행\n",
    "#\n",
    "# y = train['Survived'].values\n",
    "#\n",
    "#\n",
    "# X_train , X_valid , y_train, y_valid = train_test_split(X,y, test_size = 0.2, random_state=0)\n",
    "y_test = submission['yield'].values"
   ],
   "metadata": {
    "collapsed": false,
    "pycharm": {
     "name": "#%%\n"
    }
   }
  },
  {
   "cell_type": "code",
   "execution_count": null,
   "outputs": [],
   "source": [
    "from sklearn.model_selection import GridSearchCV\n",
    "import xgboost as xgb\n",
    "from skopt import BayesSearchCV\n",
    "\n",
    "# XGBoost 모델 생성\n",
    "xgb_model = xgb.XGBRegressor()\n",
    "\n",
    "# 베이지안 최적화를 위한 하이퍼파라미터 범위 정의\n",
    "param_grid_xgb = {\n",
    "    'n_estimators': (30, 50),\n",
    "    'max_depth': (3, 4),\n",
    "    'learning_rate': (0.01, 0.3),\n",
    "    'subsample': (0.8, 1.0),\n",
    "}\n",
    "\n",
    "# 베이지안 최적화 객체 생성\n",
    "bayes_search_xgb = BayesSearchCV(xgb_model, param_grid_xgb, scoring='neg_mean_absolute_error', cv=10, n_jobs=-1)\n",
    "\n",
    "# 베이지안 최적화 수행\n",
    "bayes_search_xgb.fit(X_train, y_train)\n",
    "\n",
    "# 최적의 모델 및 파라미터 출력\n",
    "best_model_bayes_xgb = bayes_search_xgb.best_estimator_\n",
    "best_params_bayes_xgb = bayes_search_xgb.best_params_\n",
    "print(\"Best Model (XGBoost - Bayesian):\", best_model_bayes_xgb)\n",
    "print(\"Best Parameters (XGBoost - Bayesian):\", best_params_bayes_xgb)\n"
   ],
   "metadata": {
    "collapsed": false,
    "pycharm": {
     "name": "#%%\n"
    }
   }
  },
  {
   "cell_type": "code",
   "execution_count": null,
   "outputs": [],
   "source": [
    "# 타깃값 1일 확룰 예측\n",
    "\n",
    "y_preds= best_model_grid_search_xgb.predict(X_test)\n",
    "y_preds"
   ],
   "metadata": {
    "collapsed": false,
    "pycharm": {
     "name": "#%%\n"
    }
   }
  },
  {
   "cell_type": "code",
   "execution_count": null,
   "outputs": [],
   "source": [
    "from sklearn.model_selection import train_test_split\n",
    "#\n",
    "# num_train = len(train) # 훈련 데이터 개수\n",
    "\n",
    "# 훈련 데이터와 테스트 데이터 나누기\n",
    "\n",
    "# X_train= all_data_2[:num_train] # 0~num_train -1 행\n",
    "# X_test = all_data_2[num_train:] # num_train ~ 마지막 행\n",
    "#\n",
    "# y_train = train['Survived'].values\n",
    "\n",
    "\n",
    "# ########################################\n",
    "# # 데이터 분할\n",
    "num_train = len(train) # 훈련 데이터 개수\n",
    "\n",
    "# 훈련 데이터와 테스트 데이터 나누기\n",
    "\n",
    "X= all_data[:num_train] # 0~num_train -1 행\n",
    "X_test = all_data[num_train:] # num_train ~ 마지막 행\n",
    "\n",
    "y = train['yield'].values\n",
    "\n",
    "\n",
    "X_train , X_valid , y_train, y_valid = train_test_split(X,y, test_size = 0.2, random_state=0)\n",
    "# y_test = correct['Survived'].values"
   ],
   "metadata": {
    "collapsed": false,
    "pycharm": {
     "name": "#%%\n"
    }
   }
  },
  {
   "cell_type": "code",
   "execution_count": null,
   "outputs": [],
   "source": [
    "from sklearn.metrics import mean_absolute_error\n",
    "\n",
    "# 모델 학습 (예시로 Linear Regression 모델 사용)\n",
    "# model = LinearRegression()\n",
    "# model.fit(X_train, y_train)\n",
    "\n",
    "# 검증 데이터에 대한 예측 수행\n",
    "y_pred = best_model_grid_search_xgb.predict(X_valid)\n",
    "\n",
    "# MAE 계산\n",
    "mae = mean_absolute_error(y_valid, y_pred)\n",
    "print(\"MAE:\", mae)\n"
   ],
   "metadata": {
    "collapsed": false,
    "pycharm": {
     "name": "#%%\n"
    }
   }
  },
  {
   "cell_type": "code",
   "execution_count": null,
   "outputs": [],
   "source": [],
   "metadata": {
    "collapsed": false,
    "pycharm": {
     "name": "#%%\n"
    }
   }
  },
  {
   "cell_type": "code",
   "execution_count": null,
   "outputs": [],
   "source": [],
   "metadata": {
    "collapsed": false,
    "pycharm": {
     "name": "#%%\n"
    }
   }
  },
  {
   "cell_type": "markdown",
   "source": [
    "## LightGBM를 활용한 MAE_SCORING활용 및 베이지안 최적화를 수행 이후 충화 K폴드 고차 검증으로 타깃값 예측"
   ],
   "metadata": {
    "collapsed": false,
    "pycharm": {
     "name": "#%% md\n"
    }
   }
  },
  {
   "cell_type": "code",
   "execution_count": null,
   "outputs": [],
   "source": [
    "from scipy import sparse\n",
    "from sklearn.model_selection import train_test_split\n",
    "import lightgbm as lgb\n",
    "\n",
    "# num_train = len(train) # 훈련 데이터 개수\n",
    "\n",
    "# 훈련 데이터와 테스트 데이터 나누기\n",
    "\n",
    "# X_train= all_data_2[:num_train] # 0~num_train -1 행\n",
    "# X_test = all_data_2[num_train:] # num_train ~ 마지막 행\n",
    "#\n",
    "# y_train = train['Survived'].values\n",
    "\n",
    "\n",
    "# ########################################\n",
    "# # 데이터 분할\n",
    "num_train = len(train) # 훈련 데이터 개수\n",
    "\n",
    "# 훈련 데이터와 테스트 데이터 나누기\n",
    "all_data_sprs = sparse.csr_matrix(all_data)\n",
    "X= all_data_sprs[:num_train] # 0~num_train -1 행\n",
    "X_test = all_data_sprs[num_train:] # num_train ~ 마지막 행\n",
    "\n",
    "y = train['yield'].values\n",
    "\n",
    "\n",
    "\n",
    "# 8:2 비율로 훈련 데이터, 검증 데이터 분리(베이지안 최적화 수행용)\n",
    "\n",
    "X_train , X_valid , y_train , y_valid = train_test_split(X,y, test_size=0.2 , random_state=0)\n",
    "\n",
    "# 베이지안 최적화용 데이터셋\n",
    "\n",
    "bayes_dtrain = lgb.Dataset(X_train , y_train)\n",
    "bayes_dvalid = lgb.Dataset(X_valid, y_valid)"
   ],
   "metadata": {
    "collapsed": false,
    "pycharm": {
     "name": "#%%\n"
    }
   }
  },
  {
   "cell_type": "code",
   "execution_count": null,
   "outputs": [],
   "source": [
    "# 베이지안 최적화를 위한 하이퍼파라미터 범위\n",
    "param_bounds = {'num_leaves' : (30 , 50) , # 개별 트리가 가질 수 있는 최대 말단 노드 개수 , 트리 복잡도 결정, 값이 클수록 좋다.\n",
    "                'learning_rate' : (0.9, 1), # 학습률( 부스팅 이터레이션을 반복하면서 모델을 업데이트하는 데 사용 되는 비율)\n",
    "                'lambda_l1' : (0.1 , 0.2), # L1 규제 조정값 , 값이 클수록 과대적합 방지 효과\n",
    "                'lambda_l2' : (0.1 , 0.2), # L2 규제 조정값 , 값이 클수록 과대적합 방지 효과\n",
    "                'feature_fraction' : (0.6 , 0.7), # 개별 트리를 훈련할 때 사용할 피처 샘플링 비율\n",
    "                'bagging_fraction' : (0.6 , 0.7), # 개별 트리를 훈련할 때 사용할 데이터 샘플링 비율\n",
    "                'min_child_samples' : (6 , 10) , # 말단 노드가 되기 위해 필요한 최소 데이터 개수 , 값이 클수록 과대적합 방지\n",
    "                'min_child_weight' : (10 , 40), # 과대적합 방지 위한 값\n",
    "                'subsample' : (0.8,1),\n",
    "                }\n",
    "\n",
    "# 값이 고정된 하이퍼파라미터\n",
    "\n",
    "fixed_params = {'objective' : 'regression' , # 훈련 목적 , 회귀에서는 'regression' , 이진분류에서는 'binary' , 다중분류에서는 'multiclass' 사용\n",
    "\n",
    "                'bagging_freq' : 1, # 배깅 수행 빈도, 몇번의 이터레이션마다 배깅 수행할 지 결정\n",
    "                'force_row_wise' : True, # 메모리 용량이 충분하지 않을 때 메모리 효율을 높이는 파라미터\n",
    "                'random_state' : 1991} # 랜덤 시드값 (코드를 반복 실행해도 같은 결과가 나오게 지정하는 값)"
   ],
   "metadata": {
    "collapsed": false,
    "pycharm": {
     "name": "#%%\n"
    }
   }
  },
  {
   "cell_type": "code",
   "execution_count": null,
   "outputs": [],
   "source": [
    "def gini(preds , dtrain):\n",
    "    labels = dtrain.get_label()\n",
    "    return 'gini' , eval_gini(labels, preds) , True"
   ],
   "metadata": {
    "collapsed": false,
    "pycharm": {
     "name": "#%%\n"
    }
   }
  },
  {
   "cell_type": "code",
   "execution_count": null,
   "outputs": [],
   "source": [
    "def mae_scorer(preds, dtrain):\n",
    "    labels = dtrain.get_label()\n",
    "    return 'Mae' , mean_absolute_error(labels, preds), True\n"
   ],
   "metadata": {
    "collapsed": false,
    "pycharm": {
     "name": "#%%\n"
    }
   }
  },
  {
   "cell_type": "code",
   "execution_count": null,
   "outputs": [],
   "source": [
    "# def eval_function(num_leaves , lambda_l1 , lambda_l2 , feature_fraction , bagging_fraction , min_child_samples , min_child_weight) :\n",
    "#\n",
    "#     # 최적화하려는 평가지표(지니계수) 계산 함수\n",
    "#\n",
    "#     # 베이지안 최적화를 수행할 하이퍼파라미터\n",
    "#\n",
    "#     params = {'num_leaves' : int(round(num_leaves)) , # 개발 트리가 가질 수 있는 최대 말단 노드 개수, 트리 복잡도 결정 , 값이 클수록 좋다.\n",
    "#               'lambda_l1' : lambda_l1, # L1 규제 조정값 , 값이 클 수록 과대적합 방지 효과\n",
    "#               'lambda_l2' : lambda_l2 , # L2 규제 조정값 , 값이 클 수록 과대적합 방지 효과\n",
    "#               'feature_fraction' : feature_fraction ,  # 개별 트리를 훈련할 때 사용할 피처 샘플링 비율\n",
    "#               'bagging_fraction' : bagging_fraction, # 개별 트리를 훈련할 때 사용할 배깅 데이터 샘플링 비율\n",
    "#               'min_child_samples' : int(round(min_child_samples)) , # 말단 노드가 되기 위해 필요한 최소 데이터 개수, 값이 클수록 과대적합 방지\n",
    "#               'min_child_weight' : min_child_weight, # 과대적합 방지 위한 값\n",
    "#               'feature_pre_filter' : False} #\n",
    "#\n",
    "#     #하이퍼파라미터도 추가\n",
    "#     params.update(fixed_params)\n",
    "#\n",
    "#     print('하이퍼파라미터 : ' , params)\n",
    "#\n",
    "#     # LightGBM 모델 훈련\n",
    "#     lgb_model = lgb.train(params = params , # 훈련용 하이퍼파라미터\n",
    "#                           train_set = bayes_dtrain, # 훈련 데이터셋\n",
    "#                           num_boost_round= 2500, #부스팅 반복횟수\n",
    "#                           valid_sets= bayes_dvalid, # 성능 평가용 검증 데이터 셋\n",
    "#                           feval = gini, # 검증용 평가지표\n",
    "#                           early_stopping_rounds= 300, # 조기종료 조건\n",
    "#                           verbose_eval= False) # 계속 점수 출력\n",
    "#     # 검증 데이터로 예측 수행\n",
    "#     preds = lgb_model.predict(X_valid)\n",
    "#\n",
    "#     # 지니계수 계산\n",
    "#     gini_score = eval_gini(y_valid, preds)\n",
    "#     print(f'지니계수 : {gini_score}\\n')\n",
    "#\n",
    "#     return gini_score\n",
    "\n",
    "#===========================================================\n",
    "def eval_function(num_leaves,learning_rate, lambda_l1, lambda_l2, feature_fraction, bagging_fraction, min_child_samples, min_child_weight ,subsample):\n",
    "    # 평가지표(MAE) 계산을 위한 함수\n",
    "    params = {\n",
    "        'num_leaves': int(round(num_leaves)),\n",
    "        'learning_rate' : learning_rate,\n",
    "        'lambda_l1': lambda_l1,\n",
    "        'lambda_l2': lambda_l2,\n",
    "        'feature_fraction': feature_fraction,\n",
    "        'bagging_fraction': bagging_fraction,\n",
    "        'min_child_samples': int(round(min_child_samples)),\n",
    "        'min_child_weight': min_child_weight,\n",
    "        'feature_pre_filter': False,\n",
    "        'subsample' : subsample\n",
    "    }\n",
    "    params.update(fixed_params)\n",
    "\n",
    "    print('하이퍼파라미터:', params)\n",
    "\n",
    "    # LightGBM 모델 훈련\n",
    "    lgb_model = lgb.train(\n",
    "        params=params,\n",
    "        train_set=bayes_dtrain,\n",
    "        num_boost_round=2500,\n",
    "        valid_sets=bayes_dvalid,\n",
    "        feval=mae_scorer,  # 수정하지 않음: MAE 평가지표 사용\n",
    "        early_stopping_rounds=300,\n",
    "        verbose_eval=False\n",
    "    )\n",
    "\n",
    "    # 검증 데이터로 예측 수행\n",
    "    preds = lgb_model.predict(X_valid)\n",
    "\n",
    "    # MAE 계산\n",
    "    mae = mean_absolute_error(y_valid, preds)\n",
    "    print(f'MAE: {mae}\\n')\n",
    "\n",
    "    return -mae  # 수정하지 않음: 음수로 반환하여 최적화에 활용\n",
    "\n",
    "\n",
    "\n",
    "\n",
    "\n",
    "\n"
   ],
   "metadata": {
    "collapsed": false,
    "pycharm": {
     "name": "#%%\n"
    }
   }
  },
  {
   "cell_type": "code",
   "execution_count": null,
   "outputs": [],
   "source": [
    "from bayes_opt import BayesianOptimization\n",
    "\n",
    "# 베이지안 최적화 객체 생성\n",
    "optimizer = BayesianOptimization(f = eval_function, # 평가지표 계산 함수\n",
    "                                 pbounds = param_bounds, # 하이퍼파라미터 범위\n",
    "                                 random_state = 0 )"
   ],
   "metadata": {
    "collapsed": false,
    "pycharm": {
     "name": "#%%\n"
    }
   }
  },
  {
   "cell_type": "code",
   "execution_count": null,
   "outputs": [],
   "source": [],
   "metadata": {
    "collapsed": false,
    "pycharm": {
     "name": "#%%\n"
    }
   }
  },
  {
   "cell_type": "code",
   "execution_count": null,
   "outputs": [],
   "source": [
    "%%time\n",
    "# 베이지안 최적화 수행\n",
    "\n",
    "optimizer.maximize(init_points=  3 , n_iter = 6) # init_points 는 무작위로 하이퍼파라미터를 탐색하는 횟수, n_iter는 베이지안 최적화 반복 횟수\n"
   ],
   "metadata": {
    "collapsed": false,
    "pycharm": {
     "name": "#%%\n"
    }
   }
  },
  {
   "cell_type": "code",
   "execution_count": null,
   "outputs": [],
   "source": [
    "# 평가함수 점수가 최대일 대 하이퍼파라미터\n",
    "max_params = optimizer.max['params']\n",
    "max_params"
   ],
   "metadata": {
    "collapsed": false,
    "pycharm": {
     "name": "#%%\n"
    }
   }
  },
  {
   "cell_type": "code",
   "execution_count": null,
   "outputs": [],
   "source": [
    "# 정수형 하이퍼파라미터 변환\n",
    "\n",
    "max_params['num_leaves'] = int(round(max_params['num_leaves']))\n",
    "max_params['min_child_samples'] = int(round(max_params['min_child_samples']))\n",
    "max_params['subsample'] = float(round(max_params['subsample'] ,2))"
   ],
   "metadata": {
    "collapsed": false,
    "pycharm": {
     "name": "#%%\n"
    }
   }
  },
  {
   "cell_type": "code",
   "execution_count": null,
   "outputs": [],
   "source": [
    "max_params.update(fixed_params)"
   ],
   "metadata": {
    "collapsed": false,
    "pycharm": {
     "name": "#%%\n"
    }
   }
  },
  {
   "cell_type": "code",
   "execution_count": null,
   "outputs": [],
   "source": [
    "max_params"
   ],
   "metadata": {
    "collapsed": false,
    "pycharm": {
     "name": "#%%\n"
    }
   }
  },
  {
   "cell_type": "code",
   "execution_count": null,
   "outputs": [],
   "source": [
    "%%time\n",
    "from sklearn.model_selection import StratifiedKFold ,KFold\n",
    "\n",
    "# 층화 K 폴드 교차 검증기 생성\n",
    "folds = KFold(n_splits=5 , shuffle = True , random_state= 1991)\n",
    "\n",
    "# OOF 방식으로 훈련된 모델로 검증 데이터 타깃값을 예측한 확률을 담을 1차원 배열\n",
    "\n",
    "oof_val_preds = np.zeros(X.shape[0])\n",
    "\n",
    "# OOF 방식으로 훈련된 모델로 테스트 데이터 타깃값을 예측한 확률을 담을 1차원 배열\n",
    "oof_test_preds = np.zeros(X_test.shape[0])\n",
    "\n",
    "# OOF 방식으로 모델 훈련 ,검증 , 예측\n",
    "\n",
    "for idx, (train_idx , valid_idx) in enumerate(folds.split(X,y)):\n",
    "    # 각 폴드를 구분하는 문구 출력\n",
    "    print('#'*40 , f'폴드 {idx+1} / 폴드 {folds.n_splits}' , '#'*40)\n",
    "\n",
    "    X_train , y_train = X[train_idx] , y[train_idx] # 훈련용 데이터\n",
    "    X_valid , y_valid = X[valid_idx] , y[valid_idx] # 검증용 데이터\n",
    "\n",
    "    # LightGBM 전용 데이터셋 생성\n",
    "    dtrain = lgb.Dataset(X_train , y_train) # LightGBM 전용 훈련 데이터셋\n",
    "    dvalid = lgb.Dataset(X_valid , y_valid) # LightGBM 전용 검증 데이터셋\n",
    "\n",
    "    # LightGBM 모델 훈련\n",
    "    lgb_model = lgb.train(params = max_params , # 최적 하이퍼파라미터\n",
    "                          train_set = dtrain, # 훈련 데이터 셋\n",
    "                          num_boost_round= 2500, # 부스팅 반복 횟수\n",
    "                          valid_sets= dvalid , # 성능 평가용 검증 데이터셋\n",
    "                          feval = mae_scorer, # 검증용 평가지표\n",
    "                          early_stopping_rounds= 300, # 조기종료 조건\n",
    "                          verbose_eval = 100) # 100 번째 마다 점수 출력\n",
    "\n",
    "    # 테스트 데이터를 활용해 OOF 예측\n",
    "    oof_test_preds += lgb_model.predict(X_test) / folds.n_splits\n",
    "\n",
    "    # 모델 성능 평가를 위한 검증 데이터 타깃값 예측\n",
    "\n",
    "    oof_val_preds[valid_idx] += lgb_model.predict(X_valid)\n",
    "    oof_test_preds_lgb = oof_test_preds\n",
    "    # 검증 데이터 예측 확률에 대한 정규화 지니계수\n",
    "    Mae_score = mean_absolute_error(y_valid, oof_val_preds[valid_idx])\n",
    "    #gini_score = eval_gini(y_valid, oof_val_preds[valid_idx])\n",
    "    print(f'폴드 {idx+1}  MAE SCORE : {Mae_score}\\n')"
   ],
   "metadata": {
    "collapsed": false,
    "pycharm": {
     "name": "#%%\n"
    }
   }
  },
  {
   "cell_type": "code",
   "execution_count": null,
   "outputs": [],
   "source": [
    "oof_val_preds"
   ],
   "metadata": {
    "collapsed": false,
    "pycharm": {
     "name": "#%%\n"
    }
   }
  },
  {
   "cell_type": "code",
   "execution_count": null,
   "outputs": [],
   "source": [
    "oof_val_preds[valid_idx]"
   ],
   "metadata": {
    "collapsed": false,
    "pycharm": {
     "name": "#%%\n"
    }
   }
  },
  {
   "cell_type": "code",
   "execution_count": null,
   "outputs": [],
   "source": [
    "print('OOF 검증 데이터 지니계수 :' , mean_absolute_error(y, oof_val_preds))"
   ],
   "metadata": {
    "collapsed": false,
    "pycharm": {
     "name": "#%%\n"
    }
   }
  },
  {
   "cell_type": "code",
   "execution_count": null,
   "outputs": [],
   "source": [
    "y_preds = oof_test_preds\n",
    "y_preds"
   ],
   "metadata": {
    "collapsed": false,
    "pycharm": {
     "name": "#%%\n"
    }
   }
  },
  {
   "cell_type": "code",
   "execution_count": null,
   "outputs": [],
   "source": [
    "from sklearn.model_selection import train_test_split\n",
    "#\n",
    "# num_train = len(train) # 훈련 데이터 개수\n",
    "\n",
    "# 훈련 데이터와 테스트 데이터 나누기\n",
    "\n",
    "# X_train= all_data_2[:num_train] # 0~num_train -1 행\n",
    "# X_test = all_data_2[num_train:] # num_train ~ 마지막 행\n",
    "#\n",
    "# y_train = train['Survived'].values\n",
    "\n",
    "\n",
    "# ########################################\n",
    "# # 데이터 분할\n",
    "num_train = len(train) # 훈련 데이터 개수\n",
    "\n",
    "# 훈련 데이터와 테스트 데이터 나누기\n",
    "\n",
    "X= all_data[:num_train] # 0~num_train -1 행\n",
    "X_test = all_data[num_train:] # num_train ~ 마지막 행\n",
    "\n",
    "y = train['yield'].values\n",
    "\n",
    "\n",
    "X_train , X_valid , y_train, y_valid = train_test_split(X,y, test_size = 0.2, random_state=0)\n",
    "# y_test = correct['Survived'].values"
   ],
   "metadata": {
    "collapsed": false,
    "pycharm": {
     "name": "#%%\n"
    }
   }
  },
  {
   "cell_type": "code",
   "execution_count": null,
   "outputs": [],
   "source": [
    "from sklearn.metrics import mean_absolute_error\n",
    "\n",
    "# 모델 학습 (예시로 Linear Regression 모델 사용)\n",
    "# model = LinearRegression()\n",
    "# model.fit(X_train, y_train)\n",
    "\n",
    "# 검증 데이터에 대한 예측 수행\n",
    "y_pred = lgb_model.predict(X_valid)\n",
    "\n",
    "# MAE 계산\n",
    "mae = mean_absolute_error(y_valid, y_pred)\n",
    "print(\"MAE:\", mae)\n"
   ],
   "metadata": {
    "collapsed": false,
    "pycharm": {
     "name": "#%%\n"
    }
   }
  },
  {
   "cell_type": "code",
   "execution_count": null,
   "outputs": [],
   "source": [
    "import datetime\n",
    "\n",
    "# 현재 날짜와 시각 구하기\n",
    "now = datetime.datetime.now()\n",
    "date_list = [now.month, now.day, now.hour, now.minute , now.second]\n",
    "# 현재 날짜와 시각 출력하기\n",
    "print(\"현재 날짜 및 시각 : \", date_list)\n",
    "\n",
    "# 제출 파일 생성\n",
    "\n",
    "submission['yield'] = y_preds\n",
    "submission.to_csv(f'submission_KFOLD_LGB_{date_list[0]}_{date_list[1]}_{date_list[2]}_{date_list[3]}_{date_list[4]}.csv')"
   ],
   "metadata": {
    "collapsed": false,
    "pycharm": {
     "name": "#%%\n"
    }
   }
  },
  {
   "cell_type": "markdown",
   "source": [
    "## XGBoost 활용"
   ],
   "metadata": {
    "collapsed": false,
    "pycharm": {
     "name": "#%% md\n"
    }
   }
  },
  {
   "cell_type": "code",
   "execution_count": null,
   "outputs": [],
   "source": [
    "def mae_scorer(preds, dtrain):\n",
    "    labels = dtrain.get_label()\n",
    "    return 'Mae' , mean_absolute_error(labels, preds)\n"
   ],
   "metadata": {
    "collapsed": false,
    "pycharm": {
     "name": "#%%\n"
    }
   }
  },
  {
   "cell_type": "code",
   "execution_count": null,
   "outputs": [],
   "source": [
    "from scipy import sparse\n",
    "from sklearn.model_selection import train_test_split\n",
    "import xgboost as xgb\n",
    "\n",
    "# num_train = len(train) # 훈련 데이터 개수\n",
    "\n",
    "# 훈련 데이터와 테스트 데이터 나누기\n",
    "\n",
    "# X_train= all_data_2[:num_train] # 0~num_train -1 행\n",
    "# X_test = all_data_2[num_train:] # num_train ~ 마지막 행\n",
    "#\n",
    "# y_train = train['Survived'].values\n",
    "\n",
    "\n",
    "# ########################################\n",
    "# # 데이터 분할\n",
    "num_train = len(train) # 훈련 데이터 개수\n",
    "\n",
    "# 훈련 데이터와 테스트 데이터 나누기\n",
    "all_data_sprs = sparse.csr_matrix(all_data)\n",
    "X= all_data_sprs[:num_train] # 0~num_train -1 행\n",
    "X_test = all_data_sprs[num_train:] # num_train ~ 마지막 행\n",
    "\n",
    "y = train['yield'].values\n",
    "\n",
    "\n",
    "\n",
    "# 8:2 비율로 훈련 데이터, 검증 데이터 분리(베이지안 최적화 수행용)\n",
    "\n",
    "X_train , X_valid , y_train , y_valid = train_test_split(X,y, test_size=0.2 , random_state=0)\n",
    "\n",
    "# 베이지안 최적화용 데이터셋\n",
    "\n",
    "bayes_dtrain = xgb.DMatrix(X_train , y_train)\n",
    "bayes_dvalid = xgb.DMatrix(X_valid, y_valid)"
   ],
   "metadata": {
    "collapsed": false,
    "pycharm": {
     "name": "#%%\n"
    }
   }
  },
  {
   "cell_type": "code",
   "execution_count": null,
   "outputs": [],
   "source": [
    "# 베이지안 최적화를 위한 하이퍼파라미터 범위\n",
    "param_bounds = {'max_depth' : (4 , 10) , # 개별 트리의 최대 깊이, 트리 깊이가 깊을수록 모델이 복잡해지고 과대적합 우려\n",
    "                # 값이 클수록 깊이가 한 단계만 늘어나도 메모리 사용량이 급격히 많아진다.\n",
    "                # 일반적으로 3~10 사이의 값을 주로 사용한다.\n",
    "\n",
    "                'subsample' : (0.5 , 1), # 개별 트리를 훈련할 때 사용할 데이터 샘플링 비율\n",
    "                # 0~1 사이 값으로 설정할 수 있다.\n",
    "                # 0.5 로 설정하면 전체 데이터의 50%를 사용해 트리를 생성\n",
    "\n",
    "                'colsample_bytree' : (0.7 , 1.0), # 개별 트리를 훈련할 때 사용하는 피처 샘플링 비율\n",
    "                # subsample 과 유사한 개념, subsample은 전체 데이터에서 얼마나 샘플링할지 나타내는 비율\n",
    "                # colsample_bytree는 전체 피처에서 얼마나 샘플링할지 나타내는 비율\n",
    "                # 값이 작을수록 과대적합 방지 효과\n",
    "\n",
    "                'min_child_weight' : (5 , 10), # 과대적합 방지위한 값, 값이 클수록 과대적합 방지 효과가 있다.\n",
    "                'gamma' : (8 , 11), # 말단 노드가 분할하기 위한 최소 손실 감소 값\n",
    "                # 소실 감소가 gamma보다 크면 말단 노드를 분할\n",
    "                # 값이 클수록 과대적합 방지 효과가 있다.\n",
    "\n",
    "                'reg_alpha' : (7 , 9) , # L1 규제 조정 값 , 값이 클수록 과대적합 방지 효과\n",
    "                'reg_lambda' : (1.1 , 1.5), # L2 규제 조정값 , 값이 클수록 과대적합 방지 효과\n",
    "                'scale_pos_weight' : (1.4 , 1.6), # 뷸균형 데이터 가중치 조정 값 ,\n",
    "# 타깃값이 불균형할 때 양성 값에 scale_pos_weight 만큼 가중치를 줘서 균형을 맞춤(타깃값 1을 양성 값으로 간주)\n",
    "# 일반적으로 scale_pos_weight 값을 (음성 타깃값 개수 / 양성 타깃값 개수) 로 설정\n",
    "                'learning_rate' : (0.02, 0.1)} # 학습률( 부스팅 스텝을 반복하면서 모델을 업데이트하는 데 사용되는 비율)\n",
    "\n",
    "\n",
    "# 값이 고정된 하이퍼파라미터\n",
    "\n",
    "fixed_params = {'objective' : 'reg:squarederror' ,# 훈련 목적 , binary : logistic( 확률값을 구하는 이진분류)\n",
    "                # reg : squarederror (회귀 문제)\n",
    "                # 소프트맥스 함수를 사용하는 다중분류에서는 multi : softmax 사용\n",
    "                # 확률값을 구하는 다중분류에서는 'multi : softprob' 사용\n",
    "\n",
    "                'random_state' : 1991} # 랜덤 시드값(코드를 반복 실행해도 같은 결과가 나오게 지정하는 값)\n",
    "\n"
   ],
   "metadata": {
    "collapsed": false,
    "pycharm": {
     "name": "#%%\n"
    }
   }
  },
  {
   "cell_type": "code",
   "execution_count": null,
   "outputs": [],
   "source": [
    "# ======================================================\n",
    "def eval_function(max_depth ,learning_rate, subsample , colsample_bytree , min_child_weight , reg_alpha , gamma , reg_lambda , scale_pos_weight) :\n",
    "\n",
    "    # 최적화하려는 평가지표(지니계수) 계산 함수\n",
    "\n",
    "    # 베이지안 최적화를 수행할 하이퍼파라미터\n",
    "\n",
    "    params = {'max_depth' : int(round(max_depth)) , # 개별 트리의 최대깊이\n",
    "              'learning_rate' : learning_rate,\n",
    "              'subsample' : subsample, # 개별 트리를 훈련할 때 사용할 데이터 샘플링 비율\n",
    "              'colsample_bytree' : colsample_bytree , # 개별 트리를 훈련할때 사용하는 피처 샘플링\n",
    "              'min_child_weight' :  # 과대적합 방지위한 값\n",
    "                  min_child_weight,\n",
    "              'gamma' : gamma, # 말단 노드가 분할하기 위한 최소 손실 감소 값\n",
    "              'reg_alpha' : reg_alpha, # L1 규제 조정값\n",
    "              'reg_lambda' : reg_lambda, # L2 규제 조정값\n",
    "              'scale_pos_weight' : scale_pos_weight} # 불균형 데이터 가중치 조정값\n",
    "\n",
    "    # 값이 고정된 하이퍼파라미터도 추가\n",
    "    params.update(fixed_params)\n",
    "\n",
    "    print('하이퍼파라미터 : ' , params)\n",
    "\n",
    "    # XGBoost 모델 훈련 , train() 메서드의 하이퍼파라미터\n",
    "    xgb_model = xgb.train(params = params , # XGBoost 모델의 하이퍼파라미터 목록 , 딕셔너리 타입으로 전달\n",
    "                          dtrain = bayes_dtrain, # 훈련 데이터셋, xgboost.DMatrix 타입으로 전달\n",
    "                          num_boost_round= 2000, # 부스팅 반복 횟수, 정수형 타입으로 전달\n",
    "                          # num_boost_round 값이 클수록 성능이 좋아질 수 있으나 과대적합의 우려가 있다.\n",
    "                          # num_boost_round 값이 작으면 반복 횟수가 줄어들어 훈련 시간이 짧아진다.\n",
    "                          # 일반적으로 num_boost_round를 늘리면 learning_rate를 줄여야 한다.\n",
    "\n",
    "                          evals = [(bayes_dvalid , ' bayes_dvalid')],\n",
    "                          # 모델 성능 평가용 검증 데이터셋\n",
    "                          # (DMatrix, 문자열) 쌍들을 원소로 갖는 리스트 타입으로 전달, 검증 데이터셋 이름을 원하는 대로 문자열로 정하면 된다.\n",
    "                          maximize = True, # feval 평가지수가 높으면 좋은지 여부\n",
    "                          feval = mae_scorer, # 검증용 평가지표, 사용자 정의 함수 형태\n",
    "                          # evals를 활용해 모델 성능을 검증할 때 사용할 사용자 정의 평가지표 함수\n",
    "                          # 예측값과 실제값을 파라미터로 전달받아, 평가지표명과 평가점수를 반환하는 함수이다.\n",
    "                          early_stopping_rounds= 200,\n",
    "                          # 조기종료 조건\n",
    "                          # 모델은 기본적으로 num_boost_round만큼 훈련을 반복하며, 매 이터레이션마다 evals로 모델 성능을 평가하여 성능이 연속으로\n",
    "                          # 좋아지지 않는다면 훈련을 중단하는데, 훈련 중단에 필요한 최소횟수가 early_stopping_rounds 이다. 즉 , early_stopping_rounds\n",
    "                          # 동안 모델 성능이 좋아지지 않는다면 훈련을 중단한다.\n",
    "\n",
    "                          # 과대적합 방지 효과\n",
    "\n",
    "                          # 조기종료를 적용하기 위해서는 evals 에 검증 데이터가 하나 이상 있어야한다. 또한 evals에 검증 데이터가 여러 개라면 마지막 검증\n",
    "                          # 데이터를 기준으로 조기종료 조건을 적용한다.\n",
    "\n",
    "\n",
    "                          verbose_eval= False) # 성능 점수 로그 설정 값\n",
    "    # True 로 설정하면 매 부스팅 스텝마다 평가점수르 출력\n",
    "    # 출력값이 너무 많아지는 것을 방지하기위해 verbose_eval로 설정\n",
    "\n",
    "    best_iter = xgb_model.best_iteration # 최적 반복횟수\n",
    "    # 검증 데이터로 예측 수행\n",
    "    preds = xgb_model.predict(bayes_dvalid , iteration_range=(0, best_iter))\n",
    "\n",
    "    # 지니계수 계산\n",
    "    mae_score = mean_absolute_error(y_valid, preds)\n",
    "    print(f'Mae_score : {mae_score}\\n')\n",
    "\n",
    "    return -mae_score"
   ],
   "metadata": {
    "collapsed": false,
    "pycharm": {
     "name": "#%%\n"
    }
   }
  },
  {
   "cell_type": "code",
   "execution_count": null,
   "outputs": [],
   "source": [
    "%%time\n",
    "\n",
    "from bayes_opt import BayesianOptimization\n",
    "\n",
    "# 베이지안 최적화 객체 생성\n",
    "\n",
    "optimizer = BayesianOptimization(f= eval_function, pbounds = param_bounds , random_state= 0)\n",
    "\n",
    "\n",
    "# 베이지안 최적화 수행\n",
    "\n",
    "\n",
    "optimizer.maximize(init_points= 3 , n_iter= 6)"
   ],
   "metadata": {
    "collapsed": false,
    "pycharm": {
     "name": "#%%\n"
    }
   }
  },
  {
   "cell_type": "markdown",
   "source": [],
   "metadata": {
    "collapsed": false,
    "pycharm": {
     "name": "#%% md\n"
    }
   }
  },
  {
   "cell_type": "code",
   "execution_count": null,
   "outputs": [],
   "source": [
    "# 평가함수 점수가 최대일 대 하이퍼파라미터\n",
    "max_params = optimizer.max['params']\n",
    "max_params"
   ],
   "metadata": {
    "collapsed": false,
    "pycharm": {
     "name": "#%%\n"
    }
   }
  },
  {
   "cell_type": "code",
   "execution_count": null,
   "outputs": [],
   "source": [
    "max_params['max_depth'] = int(round(max_params['max_depth']))\n",
    "\n",
    "max_params.update(fixed_params)\n",
    "max_params"
   ],
   "metadata": {
    "collapsed": false,
    "pycharm": {
     "name": "#%%\n"
    }
   }
  },
  {
   "cell_type": "code",
   "execution_count": null,
   "outputs": [],
   "source": [
    "%%time\n",
    "\n",
    "# %%time\n",
    "# from sklearn.model_selection import StratifiedKFold ,KFold\n",
    "#\n",
    "# # 층화 K 폴드 교차 검증기 생성\n",
    "# folds = KFold(n_splits=5 , shuffle = True , random_state= 1991)\n",
    "#\n",
    "# # OOF 방식으로 훈련된 모델로 검증 데이터 타깃값을 예측한 확률을 담을 1차원 배열\n",
    "#\n",
    "# oof_val_preds = np.zeros(X.shape[0])\n",
    "#\n",
    "# # OOF 방식으로 훈련된 모델로 테스트 데이터 타깃값을 예측한 확률을 담을 1차원 배열\n",
    "# oof_test_preds = np.zeros(X_test.shape[0])\n",
    "#\n",
    "# # OOF 방식으로 모델 훈련 ,검증 , 예측\n",
    "#\n",
    "# for idx, (train_idx , valid_idx) in enumerate(folds.split(X,y)):\n",
    "#     # 각 폴드를 구분하는 문구 출력\n",
    "#     print('#'*40 , f'폴드 {idx+1} / 폴드 {folds.n_splits}' , '#'*40)\n",
    "#\n",
    "#     X_train , y_train = X[train_idx] , y[train_idx] # 훈련용 데이터\n",
    "#     X_valid , y_valid = X[valid_idx] , y[valid_idx] # 검증용 데이터\n",
    "#\n",
    "#     # LightGBM 전용 데이터셋 생성\n",
    "#     dtrain = lgb.Dataset(X_train , y_train) # LightGBM 전용 훈련 데이터셋\n",
    "#     dvalid = lgb.Dataset(X_valid , y_valid) # LightGBM 전용 검증 데이터셋\n",
    "#\n",
    "#     # LightGBM 모델 훈련\n",
    "#     lgb_model = lgb.train(params = max_params , # 최적 하이퍼파라미터\n",
    "#                           train_set = dtrain, # 훈련 데이터 셋\n",
    "#                           num_boost_round= 2500, # 부스팅 반복 횟수\n",
    "#                           valid_sets= dvalid , # 성능 평가용 검증 데이터셋\n",
    "#                           feval = mae_scorer, # 검증용 평가지표\n",
    "#                           early_stopping_rounds= 300, # 조기종료 조건\n",
    "#                           verbose_eval = 100) # 100 번째 마다 점수 출력\n",
    "#\n",
    "#     # 테스트 데이터를 활용해 OOF 예측\n",
    "#     oof_test_preds += lgb_model.predict(X_test) / folds.n_splits\n",
    "#\n",
    "#     # 모델 성능 평가를 위한 검증 데이터 타깃값 예측\n",
    "#\n",
    "#     oof_val_preds[valid_idx] += lgb_model.predict(X_valid)\n",
    "#     oof_test_preds_lgb = oof_test_preds\n",
    "#     # 검증 데이터 예측 확률에 대한 정규화 지니계수\n",
    "#     Mae_score = mean_absolute_error(y_valid, oof_val_preds[valid_idx])\n",
    "#     #gini_score = eval_gini(y_valid, oof_val_preds[valid_idx])\n",
    "#     print(f'폴드 {idx+1}  MAE SCORE : {Mae_score}\\n')\n",
    "\n",
    "# ============================================================\n",
    "from sklearn.model_selection import StratifiedKFold, KFold\n",
    "\n",
    "# 층화 K 폴드 교차 검증기 생성\n",
    "folds = KFold(n_splits= 5 , shuffle= True , random_state= 1991)\n",
    "\n",
    "# OOF 방식으로 훈련된 모델로 검증 데이터 타깃값을 예측한 확률을 담을 1차원 배열\n",
    "oof_val_preds = np.zeros(X.shape[0])\n",
    "# # OOF 방식으로 훈련된 모델로 테스트 데이터 타깃값을 예측한 확률을 담을 1차원 배열\n",
    "oof_test_preds = np.zeros(X_test.shape[0])\n",
    "# OOF 방식으로 훈련된 모델 훈련 , 검증 , 예측\n",
    "\n",
    "for idx , (train_idx , valid_idx) in enumerate(folds.split(X,y)):\n",
    "    # 각 폴드를 구분하는 문구 출력\n",
    "\n",
    "    print('#' *40,  f'폴드 {idx+1} / 폴드 {folds.n_splits}' , '#'*40)\n",
    "\n",
    "\n",
    "    # 훈련용 데이터, 검증용 데이터 설정\n",
    "    X_train , y_train = X[train_idx] , y[train_idx]\n",
    "    X_valid , y_valid = X[valid_idx] , y[valid_idx]\n",
    "\n",
    "    #XGBoost 전용 데이터셋 생성\n",
    "\n",
    "    dtrain = xgb.DMatrix(X_train , y_train)\n",
    "    dvalid = xgb.DMatrix(X_valid , y_valid)\n",
    "    dtest = xgb.DMatrix(X_test)\n",
    "\n",
    "    #XGBoost 모델 훈련\n",
    "    xgb_model = xgb.train(params = max_params,\n",
    "                          dtrain = dtrain,\n",
    "                          num_boost_round = 2000,\n",
    "                          evals = [(dvalid , 'valid')],\n",
    "                          maximize = True,\n",
    "                          feval = mae_scorer,\n",
    "                          early_stopping_rounds = 200,\n",
    "                          verbose_eval = 100)\n",
    "\n",
    "    # 모델 성능이 가장 좋을 때의 부스팅 반복 횟수 저장\n",
    "    best_iter= xgb_model.best_iteration\n",
    "    # 테스트 데이터를 활용해 OOF 예측\n",
    "\n",
    "    oof_test_preds += xgb_model.predict(dtest, iteration_range = (0 , best_iter))/ folds.n_splits\n",
    "\n",
    "    oof_test_preds_xgb = oof_test_preds\n",
    "    # 모델 성능 평가를 위한 검증 데이터 타깃값 예측\n",
    "    oof_val_preds[valid_idx] += xgb_model.predict(dvalid , iteration_range=(0, best_iter))\n",
    "\n",
    "\n",
    "    # 검증 데이터 예측 확률에 대한 정규화 지니계수\n",
    "    mae_score = mean_absolute_error(y_valid , oof_val_preds[valid_idx])\n",
    "    print(f'폴드 {idx+1}  MAE : {mae_score}\\n')"
   ],
   "metadata": {
    "collapsed": false,
    "pycharm": {
     "name": "#%%\n"
    }
   }
  },
  {
   "cell_type": "code",
   "execution_count": null,
   "outputs": [],
   "source": [
    "oof_val_preds"
   ],
   "metadata": {
    "collapsed": false,
    "pycharm": {
     "name": "#%%\n"
    }
   }
  },
  {
   "cell_type": "code",
   "execution_count": null,
   "outputs": [],
   "source": [
    "oof_val_preds[valid_idx]"
   ],
   "metadata": {
    "collapsed": false,
    "pycharm": {
     "name": "#%%\n"
    }
   }
  },
  {
   "cell_type": "code",
   "execution_count": null,
   "outputs": [],
   "source": [
    "print('OOF 검증 데이터 mae :', mean_absolute_error(y, oof_val_preds))"
   ],
   "metadata": {
    "collapsed": false,
    "pycharm": {
     "name": "#%%\n"
    }
   }
  },
  {
   "cell_type": "code",
   "execution_count": null,
   "outputs": [],
   "source": [
    "y_preds = oof_test_preds\n",
    "y_preds"
   ],
   "metadata": {
    "collapsed": false,
    "pycharm": {
     "name": "#%%\n"
    }
   }
  },
  {
   "cell_type": "code",
   "execution_count": null,
   "outputs": [],
   "source": [
    "from sklearn.model_selection import train_test_split\n",
    "\n",
    "#\n",
    "# num_train = len(train) # 훈련 데이터 개수\n",
    "\n",
    "# 훈련 데이터와 테스트 데이터 나누기\n",
    "\n",
    "# X_train= all_data_2[:num_train] # 0~num_train -1 행\n",
    "# X_test = all_data_2[num_train:] # num_train ~ 마지막 행\n",
    "#\n",
    "# y_train = train['Survived'].values\n",
    "\n",
    "\n",
    "# ########################################\n",
    "# # 데이터 분할\n",
    "num_train = len(train)  # 훈련 데이터 개수\n",
    "\n",
    "# 훈련 데이터와 테스트 데이터 나누기\n",
    "\n",
    "X = all_data[:num_train]  # 0~num_train -1 행\n",
    "X_test = all_data[num_train:]  # num_train ~ 마지막 행\n",
    "\n",
    "y = train['yield'].values\n",
    "\n",
    "X_train, X_valid, y_train, y_valid = train_test_split(X, y, test_size=0.2, random_state=0)\n",
    "# y_test = correct['Survived'].values\n"
   ],
   "metadata": {
    "collapsed": false,
    "pycharm": {
     "name": "#%%\n"
    }
   }
  },
  {
   "cell_type": "code",
   "execution_count": null,
   "outputs": [],
   "source": [
    "X"
   ],
   "metadata": {
    "collapsed": false,
    "pycharm": {
     "name": "#%%\n"
    }
   }
  },
  {
   "cell_type": "code",
   "execution_count": null,
   "outputs": [],
   "source": [
    "from sklearn.metrics import mean_absolute_error\n",
    "\n",
    "# 모델 학습 (예시로 Linear Regression 모델 사용)\n",
    "# model = LinearRegression()\n",
    "# model.fit(X_train, y_train)\n",
    "\n",
    "# 검증 데이터에 대한 예측 수행\n",
    "dvalid = xgb.DMatrix(X_valid)\n",
    "\n",
    "y_pred = xgb_model.predict(dvalid)\n",
    "\n",
    "# MAE 계산\n",
    "mae = mean_absolute_error(y_valid, y_pred)\n",
    "print(\"MAE:\", mae)"
   ],
   "metadata": {
    "collapsed": false,
    "pycharm": {
     "name": "#%%\n"
    }
   }
  },
  {
   "cell_type": "code",
   "execution_count": null,
   "outputs": [],
   "source": [
    "y_preds"
   ],
   "metadata": {
    "collapsed": false,
    "pycharm": {
     "name": "#%%\n"
    }
   }
  },
  {
   "cell_type": "code",
   "execution_count": null,
   "outputs": [],
   "source": [
    "X_test"
   ],
   "metadata": {
    "collapsed": false,
    "pycharm": {
     "name": "#%%\n"
    }
   }
  },
  {
   "cell_type": "code",
   "execution_count": null,
   "outputs": [],
   "source": [
    "import datetime\n",
    "\n",
    "# 현재 날짜와 시각 구하기\n",
    "now = datetime.datetime.now()\n",
    "date_list = [now.month, now.day, now.hour, now.minute , now.second]\n",
    "# 현재 날짜와 시각 출력하기\n",
    "print(\"현재 날짜 및 시각 : \", date_list)\n",
    "\n",
    "# 제출 파일 생성\n",
    "\n",
    "submission['yield'] = y_preds\n",
    "submission.to_csv(f'submission_KFOLD_XGB_{date_list[0]}_{date_list[1]}_{date_list[2]}_{date_list[3]}_{date_list[4]}.csv')"
   ],
   "metadata": {
    "collapsed": false,
    "pycharm": {
     "name": "#%%\n"
    }
   }
  },
  {
   "cell_type": "markdown",
   "source": [
    "## PCA 처리 이후 모델 돌려보기"
   ],
   "metadata": {
    "collapsed": false,
    "pycharm": {
     "name": "#%% md\n"
    }
   }
  },
  {
   "cell_type": "code",
   "execution_count": null,
   "outputs": [],
   "source": [
    "all_data = pd.concat([train,test]) # 훈련 데이터와 테스트 데이터 합치기\n",
    "# all_data = all_data.drop('Survived' , axis = 1) # 타깃값 제거\n",
    "all_data = all_data.drop('yield' , axis = 1) # 타깃값 제거\n",
    "\n",
    "all_data\n",
    "\n",
    "# [fruitset , fruitmass ,seeds]"
   ],
   "metadata": {
    "collapsed": false,
    "pycharm": {
     "name": "#%%\n"
    }
   }
  },
  {
   "cell_type": "code",
   "execution_count": null,
   "outputs": [],
   "source": [
    "all_data_pca = all_data.iloc[:,:-3]\n",
    "all_data_pca"
   ],
   "metadata": {
    "collapsed": false,
    "pycharm": {
     "name": "#%%\n"
    }
   }
  },
  {
   "cell_type": "code",
   "execution_count": null,
   "outputs": [],
   "source": [
    "from sklearn.decomposition import PCA\n",
    "\n",
    "# 변수 간의 상관관계 행렬 계산\n",
    "corr_matrix = all_data_pca.corr()\n",
    "threshold = 0.9 # 상관관계의 임계값 설정\n",
    "high_corr_vars = corr_matrix[abs(corr_matrix) >= threshold].stack().index\n",
    "high_corr_vars = [var[0] for var in high_corr_vars if var[0] != var[1]]\n",
    "# 상관관계 행렬을 기반으로 PCA 수행\n",
    "pca = PCA(n_components=1)\n",
    "pca.fit(corr_matrix)\n",
    "\n",
    "# 주성분 변환 적용\n",
    "transformed_data = pca.transform(all_data_pca)\n",
    "\n",
    "# 변환된 데이터로 업데이트\n",
    "all_data['PCA_Component'] = transformed_data\n",
    "\n",
    "# 상관관계가 높은 변수들을 제외한 업데이트된 데이터\n",
    "selected_vars = [col for col in all_data_pca.columns if col not in high_corr_vars]\n",
    "updated_data = all_data_pca[selected_vars]\n",
    "updated_data\n",
    "\n"
   ],
   "metadata": {
    "collapsed": false,
    "pycharm": {
     "name": "#%%\n"
    }
   }
  },
  {
   "cell_type": "code",
   "execution_count": null,
   "outputs": [],
   "source": [
    "all_data_updated = pd.concat([updated_data, all_data[['fruitset' , 'fruitmass' ,'seeds' , 'PCA_Component']]], axis=1)\n",
    "all_data_updated"
   ],
   "metadata": {
    "collapsed": false,
    "pycharm": {
     "name": "#%%\n"
    }
   }
  },
  {
   "cell_type": "code",
   "execution_count": null,
   "outputs": [],
   "source": [
    "# import pandas as pd\n",
    "#\n",
    "# # 마지막 3개의 열을 제외한 열 선택\n",
    "# selected_columns = all_data.columns[:-3]\n",
    "# all_data_2 = pd.DataFrame()\n",
    "# # 각 열에 대해 qcut을 사용하여 5개의 범주로 나누기 (중복된 경계값 제거)\n",
    "# for column in selected_columns:\n",
    "#     all_data_2[column + '_Category'] = pd.qcut(all_data[column], q=5, labels=False, duplicates='drop')\n",
    "#\n",
    "# all_data_2"
   ],
   "metadata": {
    "collapsed": false,
    "pycharm": {
     "name": "#%%\n"
    }
   }
  },
  {
   "cell_type": "code",
   "execution_count": null,
   "outputs": [],
   "source": [
    "# import pandas as pd\n",
    "#\n",
    "# # 'all_data'의 마지막 3개 열 선택\n",
    "# last_3_columns = all_data.iloc[:, -3:]\n",
    "#\n",
    "# # 'all_data_2'와 'last_3_columns' 합치기\n",
    "# all_data_2 = pd.concat([all_data_2, last_3_columns], axis=1)\n",
    "#\n",
    "# all_data_2"
   ],
   "metadata": {
    "collapsed": false,
    "pycharm": {
     "name": "#%%\n"
    }
   }
  },
  {
   "cell_type": "code",
   "execution_count": null,
   "outputs": [],
   "source": [
    "def mae_scorer(preds, dtrain):\n",
    "    labels = dtrain.get_label()\n",
    "    return 'Mae' , mean_absolute_error(labels, preds)\n"
   ],
   "metadata": {
    "collapsed": false,
    "pycharm": {
     "name": "#%%\n"
    }
   }
  },
  {
   "cell_type": "code",
   "execution_count": null,
   "outputs": [],
   "source": [
    "from scipy import sparse\n",
    "from sklearn.model_selection import train_test_split\n",
    "import xgboost as xgb\n",
    "\n",
    "# num_train = len(train) # 훈련 데이터 개수\n",
    "\n",
    "# 훈련 데이터와 테스트 데이터 나누기\n",
    "\n",
    "# X_train= all_data_2[:num_train] # 0~num_train -1 행\n",
    "# X_test = all_data_2[num_train:] # num_train ~ 마지막 행\n",
    "#\n",
    "# y_train = train['Survived'].values\n",
    "\n",
    "\n",
    "# ########################################\n",
    "# # 데이터 분할\n",
    "num_train = len(train) # 훈련 데이터 개수\n",
    "\n",
    "# 훈련 데이터와 테스트 데이터 나누기\n",
    "all_data_sprs = sparse.csr_matrix(all_data_updated)\n",
    "X= all_data_sprs[:num_train] # 0~num_train -1 행\n",
    "X_test = all_data_sprs[num_train:] # num_train ~ 마지막 행\n",
    "\n",
    "y = train['yield'].values\n",
    "\n",
    "\n",
    "\n",
    "# 8:2 비율로 훈련 데이터, 검증 데이터 분리(베이지안 최적화 수행용)\n",
    "\n",
    "X_train , X_valid , y_train , y_valid = train_test_split(X,y, test_size=0.2 , random_state=0)\n",
    "\n",
    "# 베이지안 최적화용 데이터셋\n",
    "\n",
    "bayes_dtrain = xgb.DMatrix(X_train , y_train)\n",
    "bayes_dvalid = xgb.DMatrix(X_valid, y_valid)"
   ],
   "metadata": {
    "collapsed": false,
    "pycharm": {
     "name": "#%%\n"
    }
   }
  },
  {
   "cell_type": "code",
   "execution_count": null,
   "outputs": [],
   "source": [
    "# 베이지안 최적화를 위한 하이퍼파라미터 범위\n",
    "param_bounds = {'max_depth' : (4 , 10) , # 개별 트리의 최대 깊이, 트리 깊이가 깊을수록 모델이 복잡해지고 과대적합 우려\n",
    "                # 값이 클수록 깊이가 한 단계만 늘어나도 메모리 사용량이 급격히 많아진다.\n",
    "                # 일반적으로 3~10 사이의 값을 주로 사용한다.\n",
    "\n",
    "                'subsample' : (0.5 , 1), # 개별 트리를 훈련할 때 사용할 데이터 샘플링 비율\n",
    "                # 0~1 사이 값으로 설정할 수 있다.\n",
    "                # 0.5 로 설정하면 전체 데이터의 50%를 사용해 트리를 생성\n",
    "\n",
    "                'colsample_bytree' : (0.5 , 1.0), # 개별 트리를 훈련할 때 사용하는 피처 샘플링 비율\n",
    "                # subsample 과 유사한 개념, subsample은 전체 데이터에서 얼마나 샘플링할지 나타내는 비율\n",
    "                # colsample_bytree는 전체 피처에서 얼마나 샘플링할지 나타내는 비율\n",
    "                # 값이 작을수록 과대적합 방지 효과\n",
    "\n",
    "                'min_child_weight' : (5 , 10), # 과대적합 방지위한 값, 값이 클수록 과대적합 방지 효과가 있다.\n",
    "                'gamma' : (8 , 11), # 말단 노드가 분할하기 위한 최소 손실 감소 값\n",
    "                # 소실 감소가 gamma보다 크면 말단 노드를 분할\n",
    "                # 값이 클수록 과대적합 방지 효과가 있다.\n",
    "\n",
    "                'reg_alpha' : (7 , 9) , # L1 규제 조정 값 , 값이 클수록 과대적합 방지 효과\n",
    "                'reg_lambda' : (1.1 , 1.5), # L2 규제 조정값 , 값이 클수록 과대적합 방지 효과\n",
    "                'scale_pos_weight' : (1.4 , 1.6), # 뷸균형 데이터 가중치 조정 값 ,\n",
    "                # 타깃값이 불균형할 때 양성 값에 scale_pos_weight 만큼 가중치를 줘서 균형을 맞춤(타깃값 1을 양성 값으로 간주)\n",
    "                # 일반적으로 scale_pos_weight 값을 (음성 타깃값 개수 / 양성 타깃값 개수) 로 설정\n",
    "                'learning_rate' : (0.02, 0.1)} # 학습률( 부스팅 스텝을 반복하면서 모델을 업데이트하는 데 사용되는 비율)\n",
    "\n",
    "\n",
    "# 값이 고정된 하이퍼파라미터\n",
    "\n",
    "fixed_params = {'objective' : 'reg:squarederror' ,# 훈련 목적 , binary : logistic( 확률값을 구하는 이진분류)\n",
    "                # reg : squarederror (회귀 문제)\n",
    "                # 소프트맥스 함수를 사용하는 다중분류에서는 multi : softmax 사용\n",
    "                # 확률값을 구하는 다중분류에서는 'multi : softprob' 사용\n",
    "\n",
    "                'random_state' : 1991} # 랜덤 시드값(코드를 반복 실행해도 같은 결과가 나오게 지정하는 값)\n",
    "\n"
   ],
   "metadata": {
    "collapsed": false,
    "pycharm": {
     "name": "#%%\n"
    }
   }
  },
  {
   "cell_type": "code",
   "execution_count": null,
   "outputs": [],
   "source": [
    "# ======================================================\n",
    "def eval_function(max_depth ,learning_rate, subsample , colsample_bytree , min_child_weight , reg_alpha , gamma , reg_lambda , scale_pos_weight) :\n",
    "\n",
    "    # 최적화하려는 평가지표(지니계수) 계산 함수\n",
    "\n",
    "    # 베이지안 최적화를 수행할 하이퍼파라미터\n",
    "\n",
    "    params = {'max_depth' : int(round(max_depth)) , # 개별 트리의 최대깊이\n",
    "              'learning_rate' : learning_rate,\n",
    "              'subsample' : subsample, # 개별 트리를 훈련할 때 사용할 데이터 샘플링 비율\n",
    "              'colsample_bytree' : colsample_bytree , # 개별 트리를 훈련할때 사용하는 피처 샘플링\n",
    "              'min_child_weight' :  # 과대적합 방지위한 값\n",
    "                  min_child_weight,\n",
    "              'gamma' : gamma, # 말단 노드가 분할하기 위한 최소 손실 감소 값\n",
    "              'reg_alpha' : reg_alpha, # L1 규제 조정값\n",
    "              'reg_lambda' : reg_lambda, # L2 규제 조정값\n",
    "              'scale_pos_weight' : scale_pos_weight} # 불균형 데이터 가중치 조정값\n",
    "\n",
    "    # 값이 고정된 하이퍼파라미터도 추가\n",
    "    params.update(fixed_params)\n",
    "\n",
    "    print('하이퍼파라미터 : ' , params)\n",
    "\n",
    "    # XGBoost 모델 훈련 , train() 메서드의 하이퍼파라미터\n",
    "    xgb_model = xgb.train(params = params , # XGBoost 모델의 하이퍼파라미터 목록 , 딕셔너리 타입으로 전달\n",
    "                          dtrain = bayes_dtrain, # 훈련 데이터셋, xgboost.DMatrix 타입으로 전달\n",
    "                          num_boost_round= 2000, # 부스팅 반복 횟수, 정수형 타입으로 전달\n",
    "                          # num_boost_round 값이 클수록 성능이 좋아질 수 있으나 과대적합의 우려가 있다.\n",
    "                          # num_boost_round 값이 작으면 반복 횟수가 줄어들어 훈련 시간이 짧아진다.\n",
    "                          # 일반적으로 num_boost_round를 늘리면 learning_rate를 줄여야 한다.\n",
    "\n",
    "                          evals = [(bayes_dvalid , ' bayes_dvalid')],\n",
    "                          # 모델 성능 평가용 검증 데이터셋\n",
    "                          # (DMatrix, 문자열) 쌍들을 원소로 갖는 리스트 타입으로 전달, 검증 데이터셋 이름을 원하는 대로 문자열로 정하면 된다.\n",
    "                          maximize = True, # feval 평가지수가 높으면 좋은지 여부\n",
    "                          feval = mae_scorer, # 검증용 평가지표, 사용자 정의 함수 형태\n",
    "                          # evals를 활용해 모델 성능을 검증할 때 사용할 사용자 정의 평가지표 함수\n",
    "                          # 예측값과 실제값을 파라미터로 전달받아, 평가지표명과 평가점수를 반환하는 함수이다.\n",
    "                          early_stopping_rounds= 200,\n",
    "                          # 조기종료 조건\n",
    "                          # 모델은 기본적으로 num_boost_round만큼 훈련을 반복하며, 매 이터레이션마다 evals로 모델 성능을 평가하여 성능이 연속으로\n",
    "                          # 좋아지지 않는다면 훈련을 중단하는데, 훈련 중단에 필요한 최소횟수가 early_stopping_rounds 이다. 즉 , early_stopping_rounds\n",
    "                          # 동안 모델 성능이 좋아지지 않는다면 훈련을 중단한다.\n",
    "\n",
    "                          # 과대적합 방지 효과\n",
    "\n",
    "                          # 조기종료를 적용하기 위해서는 evals 에 검증 데이터가 하나 이상 있어야한다. 또한 evals에 검증 데이터가 여러 개라면 마지막 검증\n",
    "                          # 데이터를 기준으로 조기종료 조건을 적용한다.\n",
    "\n",
    "\n",
    "                          verbose_eval= False) # 성능 점수 로그 설정 값\n",
    "    # True 로 설정하면 매 부스팅 스텝마다 평가점수르 출력\n",
    "    # 출력값이 너무 많아지는 것을 방지하기위해 verbose_eval로 설정\n",
    "\n",
    "    best_iter = xgb_model.best_iteration # 최적 반복횟수\n",
    "    # 검증 데이터로 예측 수행\n",
    "    preds = xgb_model.predict(bayes_dvalid , iteration_range=(0, best_iter))\n",
    "\n",
    "    # 지니계수 계산\n",
    "    mae_score = mean_absolute_error(y_valid, preds)\n",
    "    print(f'Mae_score : {mae_score}\\n')\n",
    "\n",
    "    return -mae_score"
   ],
   "metadata": {
    "collapsed": false,
    "pycharm": {
     "name": "#%%\n"
    }
   }
  },
  {
   "cell_type": "code",
   "execution_count": null,
   "outputs": [],
   "source": [
    "%%time\n",
    "\n",
    "from bayes_opt import BayesianOptimization\n",
    "\n",
    "# 베이지안 최적화 객체 생성\n",
    "\n",
    "optimizer = BayesianOptimization(f= eval_function, pbounds = param_bounds , random_state= 0)\n",
    "\n",
    "\n",
    "# 베이지안 최적화 수행\n",
    "\n",
    "\n",
    "optimizer.maximize(init_points= 3 , n_iter= 6)"
   ],
   "metadata": {
    "collapsed": false,
    "pycharm": {
     "name": "#%%\n"
    }
   }
  },
  {
   "cell_type": "code",
   "execution_count": null,
   "outputs": [],
   "source": [
    "# 평가함수 점수가 최대일 대 하이퍼파라미터\n",
    "max_params = optimizer.max['params']\n",
    "max_params"
   ],
   "metadata": {
    "collapsed": false,
    "pycharm": {
     "name": "#%%\n"
    }
   }
  },
  {
   "cell_type": "code",
   "execution_count": null,
   "outputs": [],
   "source": [
    "max_params['max_depth'] = int(round(max_params['max_depth']))\n",
    "\n",
    "max_params.update(fixed_params)\n",
    "max_params"
   ],
   "metadata": {
    "collapsed": false,
    "pycharm": {
     "name": "#%%\n"
    }
   }
  },
  {
   "cell_type": "code",
   "execution_count": null,
   "outputs": [],
   "source": [
    "from sklearn.model_selection import StratifiedKFold, KFold\n",
    "\n",
    "# 층화 K 폴드 교차 검증기 생성\n",
    "folds = KFold(n_splits= 5 , shuffle= True , random_state= 1991)\n",
    "\n",
    "# OOF 방식으로 훈련된 모델로 검증 데이터 타깃값을 예측한 확률을 담을 1차원 배열\n",
    "oof_val_preds = np.zeros(X.shape[0])\n",
    "# # OOF 방식으로 훈련된 모델로 테스트 데이터 타깃값을 예측한 확률을 담을 1차원 배열\n",
    "oof_test_preds = np.zeros(X_test.shape[0])\n",
    "# OOF 방식으로 훈련된 모델 훈련 , 검증 , 예측\n",
    "\n",
    "for idx , (train_idx , valid_idx) in enumerate(folds.split(X,y)):\n",
    "    # 각 폴드를 구분하는 문구 출력\n",
    "\n",
    "    print('#' *40,  f'폴드 {idx+1} / 폴드 {folds.n_splits}' , '#'*40)\n",
    "\n",
    "\n",
    "    # 훈련용 데이터, 검증용 데이터 설정\n",
    "    X_train , y_train = X[train_idx] , y[train_idx]\n",
    "    X_valid , y_valid = X[valid_idx] , y[valid_idx]\n",
    "\n",
    "    #XGBoost 전용 데이터셋 생성\n",
    "\n",
    "    dtrain = xgb.DMatrix(X_train , y_train)\n",
    "    dvalid = xgb.DMatrix(X_valid , y_valid)\n",
    "    dtest = xgb.DMatrix(X_test)\n",
    "\n",
    "    #XGBoost 모델 훈련\n",
    "    xgb_model = xgb.train(params = max_params,\n",
    "                          dtrain = dtrain,\n",
    "                          num_boost_round = 2000,\n",
    "                          evals = [(dvalid , 'valid')],\n",
    "                          maximize = True,\n",
    "                          feval = mae_scorer,\n",
    "                          early_stopping_rounds = 200,\n",
    "                          verbose_eval = 100)\n",
    "\n",
    "    # 모델 성능이 가장 좋을 때의 부스팅 반복 횟수 저장\n",
    "    best_iter= xgb_model.best_iteration\n",
    "    # 테스트 데이터를 활용해 OOF 예측\n",
    "\n",
    "    oof_test_preds += xgb_model.predict(dtest, iteration_range = (0 , best_iter))/ folds.n_splits\n",
    "\n",
    "    oof_test_preds_xgb = oof_test_preds\n",
    "    # 모델 성능 평가를 위한 검증 데이터 타깃값 예측\n",
    "    oof_val_preds[valid_idx] += xgb_model.predict(dvalid , iteration_range=(0, best_iter))\n",
    "\n",
    "\n",
    "    # 검증 데이터 예측 확률에 대한 정규화 지니계수\n",
    "    mae_score = mean_absolute_error(y_valid , oof_val_preds[valid_idx])\n",
    "    print(f'폴드 {idx+1}  MAE : {mae_score}\\n')"
   ],
   "metadata": {
    "collapsed": false,
    "pycharm": {
     "name": "#%%\n"
    }
   }
  },
  {
   "cell_type": "code",
   "execution_count": null,
   "outputs": [],
   "source": [
    "print('OOF 검증 데이터 mae :', mean_absolute_error(y, oof_val_preds))"
   ],
   "metadata": {
    "collapsed": false,
    "pycharm": {
     "name": "#%%\n"
    }
   }
  },
  {
   "cell_type": "code",
   "execution_count": null,
   "outputs": [],
   "source": [
    "y_preds = oof_test_preds\n",
    "y_preds"
   ],
   "metadata": {
    "collapsed": false,
    "pycharm": {
     "name": "#%%\n"
    }
   }
  },
  {
   "cell_type": "code",
   "execution_count": null,
   "outputs": [],
   "source": [
    "from sklearn.model_selection import train_test_split\n",
    "\n",
    "#\n",
    "# num_train = len(train) # 훈련 데이터 개수\n",
    "\n",
    "# 훈련 데이터와 테스트 데이터 나누기\n",
    "\n",
    "# X_train= all_data_2[:num_train] # 0~num_train -1 행\n",
    "# X_test = all_data_2[num_train:] # num_train ~ 마지막 행\n",
    "#\n",
    "# y_train = train['Survived'].values\n",
    "\n",
    "\n",
    "# ########################################\n",
    "# # 데이터 분할\n",
    "num_train = len(train)  # 훈련 데이터 개수\n",
    "\n",
    "# 훈련 데이터와 테스트 데이터 나누기\n",
    "\n",
    "X = all_data_updated[:num_train]  # 0~num_train -1 행\n",
    "X_test = all_data_updated[num_train:]  # num_train ~ 마지막 행\n",
    "\n",
    "y = train['yield'].values\n",
    "\n",
    "X_train, X_valid, y_train, y_valid = train_test_split(X, y, test_size=0.2, random_state=0)\n",
    "# y_test = correct['Survived'].values\n"
   ],
   "metadata": {
    "collapsed": false,
    "pycharm": {
     "name": "#%%\n"
    }
   }
  },
  {
   "cell_type": "code",
   "execution_count": null,
   "outputs": [],
   "source": [
    "from sklearn.metrics import mean_absolute_error\n",
    "\n",
    "# 모델 학습 (예시로 Linear Regression 모델 사용)\n",
    "# model = LinearRegression()\n",
    "# model.fit(X_train, y_train)\n",
    "\n",
    "# 검증 데이터에 대한 예측 수행\n",
    "dvalid = xgb.DMatrix(X_valid)\n",
    "\n",
    "y_pred = xgb_model.predict(dvalid)\n",
    "\n",
    "# MAE 계산\n",
    "mae = mean_absolute_error(y_valid, y_pred)\n",
    "print(\"MAE:\", mae)"
   ],
   "metadata": {
    "collapsed": false,
    "pycharm": {
     "name": "#%%\n"
    }
   }
  },
  {
   "cell_type": "code",
   "execution_count": null,
   "outputs": [],
   "source": [
    "import datetime\n",
    "\n",
    "# 현재 날짜와 시각 구하기\n",
    "now = datetime.datetime.now()\n",
    "date_list = [now.month, now.day, now.hour, now.minute , now.second]\n",
    "# 현재 날짜와 시각 출력하기\n",
    "print(\"현재 날짜 및 시각 : \", date_list)\n",
    "\n",
    "# 제출 파일 생성\n",
    "\n",
    "submission['yield'] = y_preds\n",
    "submission.to_csv(f'submission_KFOLD_XGB_PCA_{date_list[0]}_{date_list[1]}_{date_list[2]}_{date_list[3]}_{date_list[4]}.csv')"
   ],
   "metadata": {
    "collapsed": false,
    "pycharm": {
     "name": "#%%\n"
    }
   }
  },
  {
   "cell_type": "markdown",
   "source": [
    "## MCA 처리 이후 모델 돌려보기"
   ],
   "metadata": {
    "collapsed": false,
    "pycharm": {
     "name": "#%% md\n"
    }
   }
  },
  {
   "cell_type": "code",
   "execution_count": null,
   "outputs": [],
   "source": [
    "all_data = pd.concat([train,test]) # 훈련 데이터와 테스트 데이터 합치기\n",
    "# all_data = all_data.drop('Survived' , axis = 1) # 타깃값 제거\n",
    "all_data = all_data.drop('yield' , axis = 1) # 타깃값 제거\n",
    "\n",
    "all_data\n",
    "\n",
    "# [fruitset , fruitmass ,seeds]"
   ],
   "metadata": {
    "collapsed": false,
    "pycharm": {
     "name": "#%%\n"
    }
   }
  },
  {
   "cell_type": "code",
   "execution_count": null,
   "outputs": [],
   "source": [
    "all_data_Mca = all_data.iloc[:,:-3]\n",
    "all_data_Mca"
   ],
   "metadata": {
    "collapsed": false,
    "pycharm": {
     "name": "#%%\n"
    }
   }
  },
  {
   "cell_type": "code",
   "execution_count": null,
   "outputs": [],
   "source": [
    "# ! pip install --trusted-host pypi.python.org --trusted-host files.pythonhosted.org --trusted-host pypi.org  prince"
   ],
   "metadata": {
    "collapsed": false,
    "pycharm": {
     "name": "#%%\n"
    }
   }
  },
  {
   "cell_type": "code",
   "execution_count": null,
   "outputs": [],
   "source": [
    "from prince import MCA\n",
    "\n",
    "# 변수 간의 상관관계 행렬 계산\n",
    "corr_matrix = all_data_Mca.corr()\n",
    "threshold = 0.9 # 상관관계의 임계값 설정\n",
    "high_corr_vars = corr_matrix[abs(corr_matrix) >= threshold].stack().index\n",
    "high_corr_vars = [var[0] for var in high_corr_vars if var[0] != var[1]]\n",
    "# 상관관계 행렬을 기반으로 MCA 수행\n",
    "mca = MCA(n_components=1)\n",
    "mca.fit(all_data_Mca)\n",
    "\n",
    "# 주성분 변환 적용\n",
    "transformed_data = mca.transform(all_data_Mca)\n",
    "\n",
    "# 변환된 데이터로 업데이트\n",
    "all_data['MCA_Component'] = transformed_data\n",
    "\n",
    "# 상관관계가 높은 변수들을 제외한 업데이트된 데이터\n",
    "selected_vars = [col for col in all_data_Mca.columns if col not in high_corr_vars]\n",
    "updated_data = all_data_Mca[selected_vars]\n",
    "updated_data\n"
   ],
   "metadata": {
    "collapsed": false,
    "pycharm": {
     "name": "#%%\n"
    }
   }
  },
  {
   "cell_type": "code",
   "execution_count": null,
   "outputs": [],
   "source": [
    "all_data_updated = pd.concat([updated_data, all_data[['fruitset' , 'fruitmass' ,'seeds' , 'MCA_Component']]], axis=1)\n",
    "all_data_updated"
   ],
   "metadata": {
    "collapsed": false,
    "pycharm": {
     "name": "#%%\n"
    }
   }
  },
  {
   "cell_type": "code",
   "execution_count": null,
   "outputs": [],
   "source": [
    "from scipy import sparse\n",
    "from sklearn.model_selection import train_test_split\n",
    "import xgboost as xgb\n",
    "\n",
    "# num_train = len(train) # 훈련 데이터 개수\n",
    "\n",
    "# 훈련 데이터와 테스트 데이터 나누기\n",
    "\n",
    "# X_train= all_data_2[:num_train] # 0~num_train -1 행\n",
    "# X_test = all_data_2[num_train:] # num_train ~ 마지막 행\n",
    "#\n",
    "# y_train = train['Survived'].values\n",
    "\n",
    "\n",
    "# ########################################\n",
    "# # 데이터 분할\n",
    "num_train = len(train) # 훈련 데이터 개수\n",
    "\n",
    "# 훈련 데이터와 테스트 데이터 나누기\n",
    "all_data_sprs = sparse.csr_matrix(all_data_updated)\n",
    "X= all_data_sprs[:num_train] # 0~num_train -1 행\n",
    "X_test = all_data_sprs[num_train:] # num_train ~ 마지막 행\n",
    "\n",
    "y = train['yield'].values\n",
    "\n",
    "\n",
    "\n",
    "# 8:2 비율로 훈련 데이터, 검증 데이터 분리(베이지안 최적화 수행용)\n",
    "\n",
    "X_train , X_valid , y_train , y_valid = train_test_split(X,y, test_size=0.2 , random_state=0)\n",
    "\n",
    "# 베이지안 최적화용 데이터셋\n",
    "\n",
    "bayes_dtrain = xgb.DMatrix(X_train , y_train)\n",
    "bayes_dvalid = xgb.DMatrix(X_valid, y_valid)"
   ],
   "metadata": {
    "collapsed": false,
    "pycharm": {
     "name": "#%%\n"
    }
   }
  },
  {
   "cell_type": "code",
   "execution_count": null,
   "outputs": [],
   "source": [
    "# 베이지안 최적화를 위한 하이퍼파라미터 범위\n",
    "param_bounds = {'max_depth' : (4 , 10) , # 개별 트리의 최대 깊이, 트리 깊이가 깊을수록 모델이 복잡해지고 과대적합 우려\n",
    "                # 값이 클수록 깊이가 한 단계만 늘어나도 메모리 사용량이 급격히 많아진다.\n",
    "                # 일반적으로 3~10 사이의 값을 주로 사용한다.\n",
    "\n",
    "                'subsample' : (0.5 , 1), # 개별 트리를 훈련할 때 사용할 데이터 샘플링 비율\n",
    "                # 0~1 사이 값으로 설정할 수 있다.\n",
    "                # 0.5 로 설정하면 전체 데이터의 50%를 사용해 트리를 생성\n",
    "\n",
    "                'colsample_bytree' : (0.5 , 1.0), # 개별 트리를 훈련할 때 사용하는 피처 샘플링 비율\n",
    "                # subsample 과 유사한 개념, subsample은 전체 데이터에서 얼마나 샘플링할지 나타내는 비율\n",
    "                # colsample_bytree는 전체 피처에서 얼마나 샘플링할지 나타내는 비율\n",
    "                # 값이 작을수록 과대적합 방지 효과\n",
    "\n",
    "                'min_child_weight' : (5 , 10), # 과대적합 방지위한 값, 값이 클수록 과대적합 방지 효과가 있다.\n",
    "                'gamma' : (8 , 11), # 말단 노드가 분할하기 위한 최소 손실 감소 값\n",
    "                # 소실 감소가 gamma보다 크면 말단 노드를 분할\n",
    "                # 값이 클수록 과대적합 방지 효과가 있다.\n",
    "\n",
    "                'reg_alpha' : (7 , 9) , # L1 규제 조정 값 , 값이 클수록 과대적합 방지 효과\n",
    "                'reg_lambda' : (1.1 , 1.5), # L2 규제 조정값 , 값이 클수록 과대적합 방지 효과\n",
    "                'scale_pos_weight' : (1.4 , 1.6), # 뷸균형 데이터 가중치 조정 값 ,\n",
    "                # 타깃값이 불균형할 때 양성 값에 scale_pos_weight 만큼 가중치를 줘서 균형을 맞춤(타깃값 1을 양성 값으로 간주)\n",
    "                # 일반적으로 scale_pos_weight 값을 (음성 타깃값 개수 / 양성 타깃값 개수) 로 설정\n",
    "                'learning_rate' : (0.02, 0.1)} # 학습률( 부스팅 스텝을 반복하면서 모델을 업데이트하는 데 사용되는 비율)\n",
    "\n",
    "\n",
    "# 값이 고정된 하이퍼파라미터\n",
    "\n",
    "fixed_params = {'objective' : 'reg:squarederror' ,# 훈련 목적 , binary : logistic( 확률값을 구하는 이진분류)\n",
    "                # reg : squarederror (회귀 문제)\n",
    "                # 소프트맥스 함수를 사용하는 다중분류에서는 multi : softmax 사용\n",
    "                # 확률값을 구하는 다중분류에서는 'multi : softprob' 사용\n",
    "\n",
    "                'random_state' : 1991} # 랜덤 시드값(코드를 반복 실행해도 같은 결과가 나오게 지정하는 값)\n",
    "\n"
   ],
   "metadata": {
    "collapsed": false,
    "pycharm": {
     "name": "#%%\n"
    }
   }
  },
  {
   "cell_type": "code",
   "execution_count": null,
   "outputs": [],
   "source": [
    "%%time\n",
    "\n",
    "from bayes_opt import BayesianOptimization\n",
    "\n",
    "# 베이지안 최적화 객체 생성\n",
    "\n",
    "optimizer = BayesianOptimization(f= eval_function, pbounds = param_bounds , random_state= 0)\n",
    "\n",
    "\n",
    "# 베이지안 최적화 수행\n",
    "\n",
    "\n",
    "optimizer.maximize(init_points= 3 , n_iter= 6)"
   ],
   "metadata": {
    "collapsed": false,
    "pycharm": {
     "name": "#%%\n"
    }
   }
  },
  {
   "cell_type": "code",
   "execution_count": null,
   "outputs": [],
   "source": [
    "# 평가함수 점수가 최대일 대 하이퍼파라미터\n",
    "max_params = optimizer.max['params']\n",
    "max_params"
   ],
   "metadata": {
    "collapsed": false,
    "pycharm": {
     "name": "#%%\n"
    }
   }
  },
  {
   "cell_type": "code",
   "execution_count": null,
   "outputs": [],
   "source": [
    "max_params['max_depth'] = int(round(max_params['max_depth']))\n",
    "\n",
    "max_params.update(fixed_params)\n",
    "max_params"
   ],
   "metadata": {
    "collapsed": false,
    "pycharm": {
     "name": "#%%\n"
    }
   }
  },
  {
   "cell_type": "code",
   "execution_count": null,
   "outputs": [],
   "source": [
    "from sklearn.model_selection import StratifiedKFold, KFold\n",
    "\n",
    "# 층화 K 폴드 교차 검증기 생성\n",
    "folds = KFold(n_splits= 5 , shuffle= True , random_state= 1991)\n",
    "\n",
    "# OOF 방식으로 훈련된 모델로 검증 데이터 타깃값을 예측한 확률을 담을 1차원 배열\n",
    "oof_val_preds = np.zeros(X.shape[0])\n",
    "# # OOF 방식으로 훈련된 모델로 테스트 데이터 타깃값을 예측한 확률을 담을 1차원 배열\n",
    "oof_test_preds = np.zeros(X_test.shape[0])\n",
    "# OOF 방식으로 훈련된 모델 훈련 , 검증 , 예측\n",
    "\n",
    "for idx , (train_idx , valid_idx) in enumerate(folds.split(X,y)):\n",
    "    # 각 폴드를 구분하는 문구 출력\n",
    "\n",
    "    print('#' *40,  f'폴드 {idx+1} / 폴드 {folds.n_splits}' , '#'*40)\n",
    "\n",
    "\n",
    "    # 훈련용 데이터, 검증용 데이터 설정\n",
    "    X_train , y_train = X[train_idx] , y[train_idx]\n",
    "    X_valid , y_valid = X[valid_idx] , y[valid_idx]\n",
    "\n",
    "    #XGBoost 전용 데이터셋 생성\n",
    "\n",
    "    dtrain = xgb.DMatrix(X_train , y_train)\n",
    "    dvalid = xgb.DMatrix(X_valid , y_valid)\n",
    "    dtest = xgb.DMatrix(X_test)\n",
    "\n",
    "    #XGBoost 모델 훈련\n",
    "    xgb_model = xgb.train(params = max_params,\n",
    "                          dtrain = dtrain,\n",
    "                          num_boost_round = 2000,\n",
    "                          evals = [(dvalid , 'valid')],\n",
    "                          maximize = True,\n",
    "                          feval = mae_scorer,\n",
    "                          early_stopping_rounds = 200,\n",
    "                          verbose_eval = 100)\n",
    "\n",
    "    # 모델 성능이 가장 좋을 때의 부스팅 반복 횟수 저장\n",
    "    best_iter= xgb_model.best_iteration\n",
    "    # 테스트 데이터를 활용해 OOF 예측\n",
    "\n",
    "    oof_test_preds += xgb_model.predict(dtest, iteration_range = (0 , best_iter))/ folds.n_splits\n",
    "\n",
    "    oof_test_preds_xgb = oof_test_preds\n",
    "    # 모델 성능 평가를 위한 검증 데이터 타깃값 예측\n",
    "    oof_val_preds[valid_idx] += xgb_model.predict(dvalid , iteration_range=(0, best_iter))\n",
    "\n",
    "\n",
    "    # 검증 데이터 예측 확률에 대한 정규화 지니계수\n",
    "    mae_score = mean_absolute_error(y_valid , oof_val_preds[valid_idx])\n",
    "    print(f'폴드 {idx+1}  MAE : {mae_score}\\n')"
   ],
   "metadata": {
    "collapsed": false,
    "pycharm": {
     "name": "#%%\n"
    }
   }
  },
  {
   "cell_type": "code",
   "execution_count": null,
   "outputs": [],
   "source": [
    "print('OOF 검증 데이터 mae :', mean_absolute_error(y, oof_val_preds))"
   ],
   "metadata": {
    "collapsed": false,
    "pycharm": {
     "name": "#%%\n"
    }
   }
  },
  {
   "cell_type": "code",
   "execution_count": null,
   "outputs": [],
   "source": [
    "y_preds = oof_test_preds\n",
    "y_preds"
   ],
   "metadata": {
    "collapsed": false,
    "pycharm": {
     "name": "#%%\n"
    }
   }
  },
  {
   "cell_type": "code",
   "execution_count": null,
   "outputs": [],
   "source": [
    "from sklearn.model_selection import train_test_split\n",
    "\n",
    "#\n",
    "# num_train = len(train) # 훈련 데이터 개수\n",
    "\n",
    "# 훈련 데이터와 테스트 데이터 나누기\n",
    "\n",
    "# X_train= all_data_2[:num_train] # 0~num_train -1 행\n",
    "# X_test = all_data_2[num_train:] # num_train ~ 마지막 행\n",
    "#\n",
    "# y_train = train['Survived'].values\n",
    "\n",
    "\n",
    "# ########################################\n",
    "# # 데이터 분할\n",
    "num_train = len(train)  # 훈련 데이터 개수\n",
    "\n",
    "# 훈련 데이터와 테스트 데이터 나누기\n",
    "\n",
    "X = all_data_updated[:num_train]  # 0~num_train -1 행\n",
    "X_test = all_data_updated[num_train:]  # num_train ~ 마지막 행\n",
    "\n",
    "y = train['yield'].values\n",
    "\n",
    "X_train, X_valid, y_train, y_valid = train_test_split(X, y, test_size=0.2, random_state=0)\n",
    "# y_test = correct['Survived'].values\n"
   ],
   "metadata": {
    "collapsed": false,
    "pycharm": {
     "name": "#%%\n"
    }
   }
  },
  {
   "cell_type": "code",
   "execution_count": null,
   "outputs": [],
   "source": [
    "from sklearn.metrics import mean_absolute_error\n",
    "\n",
    "# 모델 학습 (예시로 Linear Regression 모델 사용)\n",
    "# model = LinearRegression()\n",
    "# model.fit(X_train, y_train)\n",
    "\n",
    "# 검증 데이터에 대한 예측 수행\n",
    "dvalid = xgb.DMatrix(X_valid)\n",
    "\n",
    "y_pred = xgb_model.predict(dvalid)\n",
    "\n",
    "# MAE 계산\n",
    "mae = mean_absolute_error(y_valid, y_pred)\n",
    "print(\"MAE:\", mae)"
   ],
   "metadata": {
    "collapsed": false,
    "pycharm": {
     "name": "#%%\n"
    }
   }
  },
  {
   "cell_type": "code",
   "execution_count": null,
   "outputs": [],
   "source": [
    "import datetime\n",
    "\n",
    "# 현재 날짜와 시각 구하기\n",
    "now = datetime.datetime.now()\n",
    "date_list = [now.month, now.day, now.hour, now.minute , now.second]\n",
    "# 현재 날짜와 시각 출력하기\n",
    "print(\"현재 날짜 및 시각 : \", date_list)\n",
    "\n",
    "# 제출 파일 생성\n",
    "\n",
    "submission['yield'] = y_preds\n",
    "submission.to_csv(f'submission_KFOLD_XGB_MCA_{date_list[0]}_{date_list[1]}_{date_list[2]}_{date_list[3]}_{date_list[4]}.csv')"
   ],
   "metadata": {
    "collapsed": false,
    "pycharm": {
     "name": "#%%\n"
    }
   }
  },
  {
   "cell_type": "code",
   "execution_count": null,
   "outputs": [],
   "source": [],
   "metadata": {
    "collapsed": false,
    "pycharm": {
     "name": "#%%\n"
    }
   }
  }
 ],
 "metadata": {
  "kernelspec": {
   "display_name": "Python 3",
   "language": "python",
   "name": "python3"
  },
  "language_info": {
   "codemirror_mode": {
    "name": "ipython",
    "version": 2
   },
   "file_extension": ".py",
   "mimetype": "text/x-python",
   "name": "python",
   "nbconvert_exporter": "python",
   "pygments_lexer": "ipython2",
   "version": "2.7.6"
  }
 },
 "nbformat": 4,
 "nbformat_minor": 0
}