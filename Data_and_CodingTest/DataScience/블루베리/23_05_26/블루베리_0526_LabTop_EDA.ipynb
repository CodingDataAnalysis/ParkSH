{
 "cells": [
  {
   "cell_type": "code",
   "execution_count": 116,
   "metadata": {
    "collapsed": true,
    "pycharm": {
     "name": "#%%\n"
    }
   },
   "outputs": [],
   "source": [
    "import itertools\n",
    "import platform\n",
    "import matplotlib\n",
    "import pandas as pd\n",
    "import matplotlib.pyplot as plt\n",
    "from matplotlib import font_manager, rc\n",
    "import seaborn as sns\n",
    "%precision 3\n",
    "from matplotlib import pyplot as plt\n",
    "%matplotlib inline\n",
    "#그래프를 주피터 놋북에 그리기 위해\n",
    "import numpy as np\n",
    "import copy\n",
    "from matplotlib import ticker\n",
    "from scipy.stats import probplot\n",
    "from scipy import stats\n",
    "import collections\n",
    "import itertools\n",
    "import math\n",
    "#from varname import nameof\n",
    "import sys\n",
    "from scipy import stats\n",
    "from scipy.stats import bernoulli\n",
    "import scipy\n",
    "from collections import deque\n",
    "from sympy import Symbol, solve\n",
    "\n",
    "#히스토그램 그리기\n",
    "# Window\n",
    "if platform.system() == 'Windows':\n",
    "    matplotlib.rc('font', family='Malgun Gothic')\n",
    "elif platform.system() == 'Darwin': # Mac\n",
    "    matplotlib.rc('font', family='AppleGothic')\n",
    "else: #linux\n",
    "    matplotlib.rc('font', family='NanumGothic')\n",
    "\n",
    "# 그래프에 마이너스 표시가 되도록 변경\n",
    "matplotlib.rcParams['axes.unicode_minus'] = False\n",
    "\n",
    "# 한글 폰트 설정\n",
    "font_location = 'C:/Windows/Fonts/MALGUNSL.TTF' #맑은고딕\n",
    "font_name = font_manager.FontProperties(fname=font_location).get_name()\n",
    "rc('font',family=font_name)"
   ]
  },
  {
   "cell_type": "code",
   "execution_count": 117,
   "outputs": [],
   "source": [
    "import pandas as pd\n",
    "\n",
    "data_path = '../blue_berry/'\n",
    "\n",
    "train = pd.read_csv(data_path + 'train.csv' , index_col = 'id')\n",
    "test = pd.read_csv(data_path + 'test.csv' , index_col = 'id')\n",
    "submission = pd.read_csv(data_path + 'sample_submission.csv' , index_col= 'id')\n",
    "origin_submission = pd.read_csv(data_path + 'sample_submission.csv' , index_col= 'id')"
   ],
   "metadata": {
    "collapsed": false,
    "pycharm": {
     "name": "#%%\n"
    }
   }
  },
  {
   "cell_type": "code",
   "execution_count": 118,
   "outputs": [
    {
     "data": {
      "text/plain": "       clonesize  honeybee  bumbles  andrena  osmia  MaxOfUpperTRange  \\\nid                                                                      \n0           25.0      0.50     0.25     0.75   0.50              69.7   \n1           25.0      0.50     0.25     0.50   0.50              69.7   \n2           12.5      0.25     0.25     0.63   0.63              86.0   \n3           12.5      0.25     0.25     0.63   0.50              77.4   \n4           25.0      0.50     0.25     0.63   0.63              77.4   \n...          ...       ...      ...      ...    ...               ...   \n15284       12.5      0.25     0.25     0.38   0.50              77.4   \n15285       12.5      0.25     0.25     0.25   0.50              86.0   \n15286       25.0      0.50     0.25     0.38   0.75              77.4   \n15287       25.0      0.50     0.25     0.63   0.63              69.7   \n15288       25.0      0.50     0.25     0.63   0.50              77.4   \n\n       MinOfUpperTRange  AverageOfUpperTRange  MaxOfLowerTRange  \\\nid                                                                \n0                  42.1                  58.2              50.2   \n1                  42.1                  58.2              50.2   \n2                  52.0                  71.9              62.0   \n3                  46.8                  64.7              55.8   \n4                  46.8                  64.7              55.8   \n...                 ...                   ...               ...   \n15284              46.8                  64.7              55.8   \n15285              52.0                  71.9              62.0   \n15286              46.8                  64.7              55.8   \n15287              42.1                  58.2              50.2   \n15288              46.8                  64.7              55.8   \n\n       MinOfLowerTRange  AverageOfLowerTRange  RainingDays  \\\nid                                                           \n0                  24.3                  41.2         24.0   \n1                  24.3                  41.2         24.0   \n2                  30.0                  50.8         24.0   \n3                  27.0                  45.8         24.0   \n4                  27.0                  45.8         24.0   \n...                 ...                   ...          ...   \n15284              27.0                  45.8         16.0   \n15285              30.0                  50.8         34.0   \n15286              27.0                  45.8         34.0   \n15287              24.3                  41.2         24.0   \n15288              27.0                  45.8         16.0   \n\n       AverageRainingDays  fruitset  fruitmass      seeds       yield  \nid                                                                     \n0                    0.39  0.425011   0.417545  32.460887  4476.81146  \n1                    0.39  0.444908   0.422051  33.858317  5548.12201  \n2                    0.39  0.552927   0.470853  38.341781  6869.77760  \n3                    0.39  0.565976   0.478137  39.467561  6880.77590  \n4                    0.39  0.579677   0.494165  40.484512  7479.93417  \n...                   ...       ...        ...        ...         ...  \n15284                0.26  0.556302   0.476308  40.546480  7667.83619  \n15285                0.56  0.354413   0.388145  29.467434  3680.56025  \n15286                0.56  0.422548   0.416786  32.299059  4696.44394  \n15287                0.39  0.542170   0.434133  36.674243  6772.93347  \n15288                0.26  0.492077   0.446576  35.094733  5867.99722  \n\n[15289 rows x 17 columns]",
      "text/html": "<div>\n<style scoped>\n    .dataframe tbody tr th:only-of-type {\n        vertical-align: middle;\n    }\n\n    .dataframe tbody tr th {\n        vertical-align: top;\n    }\n\n    .dataframe thead th {\n        text-align: right;\n    }\n</style>\n<table border=\"1\" class=\"dataframe\">\n  <thead>\n    <tr style=\"text-align: right;\">\n      <th></th>\n      <th>clonesize</th>\n      <th>honeybee</th>\n      <th>bumbles</th>\n      <th>andrena</th>\n      <th>osmia</th>\n      <th>MaxOfUpperTRange</th>\n      <th>MinOfUpperTRange</th>\n      <th>AverageOfUpperTRange</th>\n      <th>MaxOfLowerTRange</th>\n      <th>MinOfLowerTRange</th>\n      <th>AverageOfLowerTRange</th>\n      <th>RainingDays</th>\n      <th>AverageRainingDays</th>\n      <th>fruitset</th>\n      <th>fruitmass</th>\n      <th>seeds</th>\n      <th>yield</th>\n    </tr>\n    <tr>\n      <th>id</th>\n      <th></th>\n      <th></th>\n      <th></th>\n      <th></th>\n      <th></th>\n      <th></th>\n      <th></th>\n      <th></th>\n      <th></th>\n      <th></th>\n      <th></th>\n      <th></th>\n      <th></th>\n      <th></th>\n      <th></th>\n      <th></th>\n      <th></th>\n    </tr>\n  </thead>\n  <tbody>\n    <tr>\n      <th>0</th>\n      <td>25.0</td>\n      <td>0.50</td>\n      <td>0.25</td>\n      <td>0.75</td>\n      <td>0.50</td>\n      <td>69.7</td>\n      <td>42.1</td>\n      <td>58.2</td>\n      <td>50.2</td>\n      <td>24.3</td>\n      <td>41.2</td>\n      <td>24.0</td>\n      <td>0.39</td>\n      <td>0.425011</td>\n      <td>0.417545</td>\n      <td>32.460887</td>\n      <td>4476.81146</td>\n    </tr>\n    <tr>\n      <th>1</th>\n      <td>25.0</td>\n      <td>0.50</td>\n      <td>0.25</td>\n      <td>0.50</td>\n      <td>0.50</td>\n      <td>69.7</td>\n      <td>42.1</td>\n      <td>58.2</td>\n      <td>50.2</td>\n      <td>24.3</td>\n      <td>41.2</td>\n      <td>24.0</td>\n      <td>0.39</td>\n      <td>0.444908</td>\n      <td>0.422051</td>\n      <td>33.858317</td>\n      <td>5548.12201</td>\n    </tr>\n    <tr>\n      <th>2</th>\n      <td>12.5</td>\n      <td>0.25</td>\n      <td>0.25</td>\n      <td>0.63</td>\n      <td>0.63</td>\n      <td>86.0</td>\n      <td>52.0</td>\n      <td>71.9</td>\n      <td>62.0</td>\n      <td>30.0</td>\n      <td>50.8</td>\n      <td>24.0</td>\n      <td>0.39</td>\n      <td>0.552927</td>\n      <td>0.470853</td>\n      <td>38.341781</td>\n      <td>6869.77760</td>\n    </tr>\n    <tr>\n      <th>3</th>\n      <td>12.5</td>\n      <td>0.25</td>\n      <td>0.25</td>\n      <td>0.63</td>\n      <td>0.50</td>\n      <td>77.4</td>\n      <td>46.8</td>\n      <td>64.7</td>\n      <td>55.8</td>\n      <td>27.0</td>\n      <td>45.8</td>\n      <td>24.0</td>\n      <td>0.39</td>\n      <td>0.565976</td>\n      <td>0.478137</td>\n      <td>39.467561</td>\n      <td>6880.77590</td>\n    </tr>\n    <tr>\n      <th>4</th>\n      <td>25.0</td>\n      <td>0.50</td>\n      <td>0.25</td>\n      <td>0.63</td>\n      <td>0.63</td>\n      <td>77.4</td>\n      <td>46.8</td>\n      <td>64.7</td>\n      <td>55.8</td>\n      <td>27.0</td>\n      <td>45.8</td>\n      <td>24.0</td>\n      <td>0.39</td>\n      <td>0.579677</td>\n      <td>0.494165</td>\n      <td>40.484512</td>\n      <td>7479.93417</td>\n    </tr>\n    <tr>\n      <th>...</th>\n      <td>...</td>\n      <td>...</td>\n      <td>...</td>\n      <td>...</td>\n      <td>...</td>\n      <td>...</td>\n      <td>...</td>\n      <td>...</td>\n      <td>...</td>\n      <td>...</td>\n      <td>...</td>\n      <td>...</td>\n      <td>...</td>\n      <td>...</td>\n      <td>...</td>\n      <td>...</td>\n      <td>...</td>\n    </tr>\n    <tr>\n      <th>15284</th>\n      <td>12.5</td>\n      <td>0.25</td>\n      <td>0.25</td>\n      <td>0.38</td>\n      <td>0.50</td>\n      <td>77.4</td>\n      <td>46.8</td>\n      <td>64.7</td>\n      <td>55.8</td>\n      <td>27.0</td>\n      <td>45.8</td>\n      <td>16.0</td>\n      <td>0.26</td>\n      <td>0.556302</td>\n      <td>0.476308</td>\n      <td>40.546480</td>\n      <td>7667.83619</td>\n    </tr>\n    <tr>\n      <th>15285</th>\n      <td>12.5</td>\n      <td>0.25</td>\n      <td>0.25</td>\n      <td>0.25</td>\n      <td>0.50</td>\n      <td>86.0</td>\n      <td>52.0</td>\n      <td>71.9</td>\n      <td>62.0</td>\n      <td>30.0</td>\n      <td>50.8</td>\n      <td>34.0</td>\n      <td>0.56</td>\n      <td>0.354413</td>\n      <td>0.388145</td>\n      <td>29.467434</td>\n      <td>3680.56025</td>\n    </tr>\n    <tr>\n      <th>15286</th>\n      <td>25.0</td>\n      <td>0.50</td>\n      <td>0.25</td>\n      <td>0.38</td>\n      <td>0.75</td>\n      <td>77.4</td>\n      <td>46.8</td>\n      <td>64.7</td>\n      <td>55.8</td>\n      <td>27.0</td>\n      <td>45.8</td>\n      <td>34.0</td>\n      <td>0.56</td>\n      <td>0.422548</td>\n      <td>0.416786</td>\n      <td>32.299059</td>\n      <td>4696.44394</td>\n    </tr>\n    <tr>\n      <th>15287</th>\n      <td>25.0</td>\n      <td>0.50</td>\n      <td>0.25</td>\n      <td>0.63</td>\n      <td>0.63</td>\n      <td>69.7</td>\n      <td>42.1</td>\n      <td>58.2</td>\n      <td>50.2</td>\n      <td>24.3</td>\n      <td>41.2</td>\n      <td>24.0</td>\n      <td>0.39</td>\n      <td>0.542170</td>\n      <td>0.434133</td>\n      <td>36.674243</td>\n      <td>6772.93347</td>\n    </tr>\n    <tr>\n      <th>15288</th>\n      <td>25.0</td>\n      <td>0.50</td>\n      <td>0.25</td>\n      <td>0.63</td>\n      <td>0.50</td>\n      <td>77.4</td>\n      <td>46.8</td>\n      <td>64.7</td>\n      <td>55.8</td>\n      <td>27.0</td>\n      <td>45.8</td>\n      <td>16.0</td>\n      <td>0.26</td>\n      <td>0.492077</td>\n      <td>0.446576</td>\n      <td>35.094733</td>\n      <td>5867.99722</td>\n    </tr>\n  </tbody>\n</table>\n<p>15289 rows × 17 columns</p>\n</div>"
     },
     "execution_count": 118,
     "metadata": {},
     "output_type": "execute_result"
    }
   ],
   "source": [
    "train"
   ],
   "metadata": {
    "collapsed": false,
    "pycharm": {
     "name": "#%%\n"
    }
   }
  },
  {
   "cell_type": "code",
   "execution_count": 119,
   "outputs": [
    {
     "data": {
      "text/plain": "       clonesize  honeybee  bumbles  andrena  osmia  MaxOfUpperTRange  \\\nid                                                                      \n15289       25.0      0.25     0.25     0.25   0.25              86.0   \n15290       12.5      0.25     0.25     0.75   0.63              94.6   \n15291       12.5      0.25     0.25     0.63   0.63              86.0   \n15292       25.0      0.50     0.38     0.38   0.63              86.0   \n15293       37.5      0.75     0.25     0.25   0.25              94.6   \n...          ...       ...      ...      ...    ...               ...   \n25478       25.0      0.25     0.25     0.25   0.25              86.0   \n25479       25.0      0.50     0.25     0.50   0.75              77.4   \n25480       25.0      0.50     0.38     0.50   0.50              77.4   \n25481       12.5      0.25     0.25     0.38   0.50              94.6   \n25482       12.5      0.25     0.25     0.50   0.50              77.4   \n\n       MinOfUpperTRange  AverageOfUpperTRange  MaxOfLowerTRange  \\\nid                                                                \n15289              52.0                  71.9              62.0   \n15290              57.2                  79.0              68.2   \n15291              52.0                  71.9              62.0   \n15292              52.0                  71.9              62.0   \n15293              57.2                  79.0              68.2   \n...                 ...                   ...               ...   \n25478              52.0                  71.9              62.0   \n25479              46.8                  64.7              55.8   \n25480              46.8                  64.7              55.8   \n25481              57.2                  79.0              68.2   \n25482              46.8                  64.7              55.8   \n\n       MinOfLowerTRange  AverageOfLowerTRange  RainingDays  \\\nid                                                           \n15289              30.0                  50.8         24.0   \n15290              33.0                  55.9          1.0   \n15291              30.0                  50.8         16.0   \n15292              30.0                  50.8         16.0   \n15293              33.0                  55.9         24.0   \n...                 ...                   ...          ...   \n25478              30.0                  50.8         24.0   \n25479              27.0                  45.8         16.0   \n25480              27.0                  45.8         16.0   \n25481              33.0                  55.9         34.0   \n25482              27.0                  45.8          1.0   \n\n       AverageRainingDays  fruitset  fruitmass      seeds  \nid                                                         \n15289                0.39  0.399367   0.408088  31.394569  \n15290                0.10  0.488048   0.442866  36.846956  \n15291                0.26  0.583379   0.487057  40.037644  \n15292                0.26  0.433014   0.422847  33.116091  \n15293                0.39  0.360996   0.388860  29.558019  \n...                   ...       ...        ...        ...  \n25478                0.39  0.474162   0.437923  34.525258  \n25479                0.26  0.482854   0.440676  35.648221  \n25480                0.26  0.568854   0.463065  37.724724  \n25481                0.56  0.407374   0.409261  31.881847  \n25482                0.10  0.579677   0.486202  40.265408  \n\n[10194 rows x 16 columns]",
      "text/html": "<div>\n<style scoped>\n    .dataframe tbody tr th:only-of-type {\n        vertical-align: middle;\n    }\n\n    .dataframe tbody tr th {\n        vertical-align: top;\n    }\n\n    .dataframe thead th {\n        text-align: right;\n    }\n</style>\n<table border=\"1\" class=\"dataframe\">\n  <thead>\n    <tr style=\"text-align: right;\">\n      <th></th>\n      <th>clonesize</th>\n      <th>honeybee</th>\n      <th>bumbles</th>\n      <th>andrena</th>\n      <th>osmia</th>\n      <th>MaxOfUpperTRange</th>\n      <th>MinOfUpperTRange</th>\n      <th>AverageOfUpperTRange</th>\n      <th>MaxOfLowerTRange</th>\n      <th>MinOfLowerTRange</th>\n      <th>AverageOfLowerTRange</th>\n      <th>RainingDays</th>\n      <th>AverageRainingDays</th>\n      <th>fruitset</th>\n      <th>fruitmass</th>\n      <th>seeds</th>\n    </tr>\n    <tr>\n      <th>id</th>\n      <th></th>\n      <th></th>\n      <th></th>\n      <th></th>\n      <th></th>\n      <th></th>\n      <th></th>\n      <th></th>\n      <th></th>\n      <th></th>\n      <th></th>\n      <th></th>\n      <th></th>\n      <th></th>\n      <th></th>\n      <th></th>\n    </tr>\n  </thead>\n  <tbody>\n    <tr>\n      <th>15289</th>\n      <td>25.0</td>\n      <td>0.25</td>\n      <td>0.25</td>\n      <td>0.25</td>\n      <td>0.25</td>\n      <td>86.0</td>\n      <td>52.0</td>\n      <td>71.9</td>\n      <td>62.0</td>\n      <td>30.0</td>\n      <td>50.8</td>\n      <td>24.0</td>\n      <td>0.39</td>\n      <td>0.399367</td>\n      <td>0.408088</td>\n      <td>31.394569</td>\n    </tr>\n    <tr>\n      <th>15290</th>\n      <td>12.5</td>\n      <td>0.25</td>\n      <td>0.25</td>\n      <td>0.75</td>\n      <td>0.63</td>\n      <td>94.6</td>\n      <td>57.2</td>\n      <td>79.0</td>\n      <td>68.2</td>\n      <td>33.0</td>\n      <td>55.9</td>\n      <td>1.0</td>\n      <td>0.10</td>\n      <td>0.488048</td>\n      <td>0.442866</td>\n      <td>36.846956</td>\n    </tr>\n    <tr>\n      <th>15291</th>\n      <td>12.5</td>\n      <td>0.25</td>\n      <td>0.25</td>\n      <td>0.63</td>\n      <td>0.63</td>\n      <td>86.0</td>\n      <td>52.0</td>\n      <td>71.9</td>\n      <td>62.0</td>\n      <td>30.0</td>\n      <td>50.8</td>\n      <td>16.0</td>\n      <td>0.26</td>\n      <td>0.583379</td>\n      <td>0.487057</td>\n      <td>40.037644</td>\n    </tr>\n    <tr>\n      <th>15292</th>\n      <td>25.0</td>\n      <td>0.50</td>\n      <td>0.38</td>\n      <td>0.38</td>\n      <td>0.63</td>\n      <td>86.0</td>\n      <td>52.0</td>\n      <td>71.9</td>\n      <td>62.0</td>\n      <td>30.0</td>\n      <td>50.8</td>\n      <td>16.0</td>\n      <td>0.26</td>\n      <td>0.433014</td>\n      <td>0.422847</td>\n      <td>33.116091</td>\n    </tr>\n    <tr>\n      <th>15293</th>\n      <td>37.5</td>\n      <td>0.75</td>\n      <td>0.25</td>\n      <td>0.25</td>\n      <td>0.25</td>\n      <td>94.6</td>\n      <td>57.2</td>\n      <td>79.0</td>\n      <td>68.2</td>\n      <td>33.0</td>\n      <td>55.9</td>\n      <td>24.0</td>\n      <td>0.39</td>\n      <td>0.360996</td>\n      <td>0.388860</td>\n      <td>29.558019</td>\n    </tr>\n    <tr>\n      <th>...</th>\n      <td>...</td>\n      <td>...</td>\n      <td>...</td>\n      <td>...</td>\n      <td>...</td>\n      <td>...</td>\n      <td>...</td>\n      <td>...</td>\n      <td>...</td>\n      <td>...</td>\n      <td>...</td>\n      <td>...</td>\n      <td>...</td>\n      <td>...</td>\n      <td>...</td>\n      <td>...</td>\n    </tr>\n    <tr>\n      <th>25478</th>\n      <td>25.0</td>\n      <td>0.25</td>\n      <td>0.25</td>\n      <td>0.25</td>\n      <td>0.25</td>\n      <td>86.0</td>\n      <td>52.0</td>\n      <td>71.9</td>\n      <td>62.0</td>\n      <td>30.0</td>\n      <td>50.8</td>\n      <td>24.0</td>\n      <td>0.39</td>\n      <td>0.474162</td>\n      <td>0.437923</td>\n      <td>34.525258</td>\n    </tr>\n    <tr>\n      <th>25479</th>\n      <td>25.0</td>\n      <td>0.50</td>\n      <td>0.25</td>\n      <td>0.50</td>\n      <td>0.75</td>\n      <td>77.4</td>\n      <td>46.8</td>\n      <td>64.7</td>\n      <td>55.8</td>\n      <td>27.0</td>\n      <td>45.8</td>\n      <td>16.0</td>\n      <td>0.26</td>\n      <td>0.482854</td>\n      <td>0.440676</td>\n      <td>35.648221</td>\n    </tr>\n    <tr>\n      <th>25480</th>\n      <td>25.0</td>\n      <td>0.50</td>\n      <td>0.38</td>\n      <td>0.50</td>\n      <td>0.50</td>\n      <td>77.4</td>\n      <td>46.8</td>\n      <td>64.7</td>\n      <td>55.8</td>\n      <td>27.0</td>\n      <td>45.8</td>\n      <td>16.0</td>\n      <td>0.26</td>\n      <td>0.568854</td>\n      <td>0.463065</td>\n      <td>37.724724</td>\n    </tr>\n    <tr>\n      <th>25481</th>\n      <td>12.5</td>\n      <td>0.25</td>\n      <td>0.25</td>\n      <td>0.38</td>\n      <td>0.50</td>\n      <td>94.6</td>\n      <td>57.2</td>\n      <td>79.0</td>\n      <td>68.2</td>\n      <td>33.0</td>\n      <td>55.9</td>\n      <td>34.0</td>\n      <td>0.56</td>\n      <td>0.407374</td>\n      <td>0.409261</td>\n      <td>31.881847</td>\n    </tr>\n    <tr>\n      <th>25482</th>\n      <td>12.5</td>\n      <td>0.25</td>\n      <td>0.25</td>\n      <td>0.50</td>\n      <td>0.50</td>\n      <td>77.4</td>\n      <td>46.8</td>\n      <td>64.7</td>\n      <td>55.8</td>\n      <td>27.0</td>\n      <td>45.8</td>\n      <td>1.0</td>\n      <td>0.10</td>\n      <td>0.579677</td>\n      <td>0.486202</td>\n      <td>40.265408</td>\n    </tr>\n  </tbody>\n</table>\n<p>10194 rows × 16 columns</p>\n</div>"
     },
     "execution_count": 119,
     "metadata": {},
     "output_type": "execute_result"
    }
   ],
   "source": [
    "test"
   ],
   "metadata": {
    "collapsed": false,
    "pycharm": {
     "name": "#%%\n"
    }
   }
  },
  {
   "cell_type": "code",
   "execution_count": 120,
   "outputs": [
    {
     "data": {
      "text/plain": "          yield\nid             \n15289  6025.194\n15290  6025.194\n15291  6025.194\n15292  6025.194\n15293  6025.194\n...         ...\n25478  6025.194\n25479  6025.194\n25480  6025.194\n25481  6025.194\n25482  6025.194\n\n[10194 rows x 1 columns]",
      "text/html": "<div>\n<style scoped>\n    .dataframe tbody tr th:only-of-type {\n        vertical-align: middle;\n    }\n\n    .dataframe tbody tr th {\n        vertical-align: top;\n    }\n\n    .dataframe thead th {\n        text-align: right;\n    }\n</style>\n<table border=\"1\" class=\"dataframe\">\n  <thead>\n    <tr style=\"text-align: right;\">\n      <th></th>\n      <th>yield</th>\n    </tr>\n    <tr>\n      <th>id</th>\n      <th></th>\n    </tr>\n  </thead>\n  <tbody>\n    <tr>\n      <th>15289</th>\n      <td>6025.194</td>\n    </tr>\n    <tr>\n      <th>15290</th>\n      <td>6025.194</td>\n    </tr>\n    <tr>\n      <th>15291</th>\n      <td>6025.194</td>\n    </tr>\n    <tr>\n      <th>15292</th>\n      <td>6025.194</td>\n    </tr>\n    <tr>\n      <th>15293</th>\n      <td>6025.194</td>\n    </tr>\n    <tr>\n      <th>...</th>\n      <td>...</td>\n    </tr>\n    <tr>\n      <th>25478</th>\n      <td>6025.194</td>\n    </tr>\n    <tr>\n      <th>25479</th>\n      <td>6025.194</td>\n    </tr>\n    <tr>\n      <th>25480</th>\n      <td>6025.194</td>\n    </tr>\n    <tr>\n      <th>25481</th>\n      <td>6025.194</td>\n    </tr>\n    <tr>\n      <th>25482</th>\n      <td>6025.194</td>\n    </tr>\n  </tbody>\n</table>\n<p>10194 rows × 1 columns</p>\n</div>"
     },
     "execution_count": 120,
     "metadata": {},
     "output_type": "execute_result"
    }
   ],
   "source": [
    "submission"
   ],
   "metadata": {
    "collapsed": false,
    "pycharm": {
     "name": "#%%\n"
    }
   }
  },
  {
   "cell_type": "code",
   "execution_count": 121,
   "outputs": [
    {
     "data": {
      "text/plain": "       clonesize  honeybee  bumbles  andrena  osmia  MaxOfUpperTRange  \\\nid                                                                      \n0           25.0      0.50     0.25     0.75   0.50              69.7   \n1           25.0      0.50     0.25     0.50   0.50              69.7   \n2           12.5      0.25     0.25     0.63   0.63              86.0   \n3           12.5      0.25     0.25     0.63   0.50              77.4   \n4           25.0      0.50     0.25     0.63   0.63              77.4   \n...          ...       ...      ...      ...    ...               ...   \n25478       25.0      0.25     0.25     0.25   0.25              86.0   \n25479       25.0      0.50     0.25     0.50   0.75              77.4   \n25480       25.0      0.50     0.38     0.50   0.50              77.4   \n25481       12.5      0.25     0.25     0.38   0.50              94.6   \n25482       12.5      0.25     0.25     0.50   0.50              77.4   \n\n       MinOfUpperTRange  AverageOfUpperTRange  MaxOfLowerTRange  \\\nid                                                                \n0                  42.1                  58.2              50.2   \n1                  42.1                  58.2              50.2   \n2                  52.0                  71.9              62.0   \n3                  46.8                  64.7              55.8   \n4                  46.8                  64.7              55.8   \n...                 ...                   ...               ...   \n25478              52.0                  71.9              62.0   \n25479              46.8                  64.7              55.8   \n25480              46.8                  64.7              55.8   \n25481              57.2                  79.0              68.2   \n25482              46.8                  64.7              55.8   \n\n       MinOfLowerTRange  AverageOfLowerTRange  RainingDays  \\\nid                                                           \n0                  24.3                  41.2         24.0   \n1                  24.3                  41.2         24.0   \n2                  30.0                  50.8         24.0   \n3                  27.0                  45.8         24.0   \n4                  27.0                  45.8         24.0   \n...                 ...                   ...          ...   \n25478              30.0                  50.8         24.0   \n25479              27.0                  45.8         16.0   \n25480              27.0                  45.8         16.0   \n25481              33.0                  55.9         34.0   \n25482              27.0                  45.8          1.0   \n\n       AverageRainingDays  fruitset  fruitmass      seeds       yield  \nid                                                                     \n0                    0.39  0.425011   0.417545  32.460887  4476.81146  \n1                    0.39  0.444908   0.422051  33.858317  5548.12201  \n2                    0.39  0.552927   0.470853  38.341781  6869.77760  \n3                    0.39  0.565976   0.478137  39.467561  6880.77590  \n4                    0.39  0.579677   0.494165  40.484512  7479.93417  \n...                   ...       ...        ...        ...         ...  \n25478                0.39  0.474162   0.437923  34.525258         NaN  \n25479                0.26  0.482854   0.440676  35.648221         NaN  \n25480                0.26  0.568854   0.463065  37.724724         NaN  \n25481                0.56  0.407374   0.409261  31.881847         NaN  \n25482                0.10  0.579677   0.486202  40.265408         NaN  \n\n[25483 rows x 17 columns]",
      "text/html": "<div>\n<style scoped>\n    .dataframe tbody tr th:only-of-type {\n        vertical-align: middle;\n    }\n\n    .dataframe tbody tr th {\n        vertical-align: top;\n    }\n\n    .dataframe thead th {\n        text-align: right;\n    }\n</style>\n<table border=\"1\" class=\"dataframe\">\n  <thead>\n    <tr style=\"text-align: right;\">\n      <th></th>\n      <th>clonesize</th>\n      <th>honeybee</th>\n      <th>bumbles</th>\n      <th>andrena</th>\n      <th>osmia</th>\n      <th>MaxOfUpperTRange</th>\n      <th>MinOfUpperTRange</th>\n      <th>AverageOfUpperTRange</th>\n      <th>MaxOfLowerTRange</th>\n      <th>MinOfLowerTRange</th>\n      <th>AverageOfLowerTRange</th>\n      <th>RainingDays</th>\n      <th>AverageRainingDays</th>\n      <th>fruitset</th>\n      <th>fruitmass</th>\n      <th>seeds</th>\n      <th>yield</th>\n    </tr>\n    <tr>\n      <th>id</th>\n      <th></th>\n      <th></th>\n      <th></th>\n      <th></th>\n      <th></th>\n      <th></th>\n      <th></th>\n      <th></th>\n      <th></th>\n      <th></th>\n      <th></th>\n      <th></th>\n      <th></th>\n      <th></th>\n      <th></th>\n      <th></th>\n      <th></th>\n    </tr>\n  </thead>\n  <tbody>\n    <tr>\n      <th>0</th>\n      <td>25.0</td>\n      <td>0.50</td>\n      <td>0.25</td>\n      <td>0.75</td>\n      <td>0.50</td>\n      <td>69.7</td>\n      <td>42.1</td>\n      <td>58.2</td>\n      <td>50.2</td>\n      <td>24.3</td>\n      <td>41.2</td>\n      <td>24.0</td>\n      <td>0.39</td>\n      <td>0.425011</td>\n      <td>0.417545</td>\n      <td>32.460887</td>\n      <td>4476.81146</td>\n    </tr>\n    <tr>\n      <th>1</th>\n      <td>25.0</td>\n      <td>0.50</td>\n      <td>0.25</td>\n      <td>0.50</td>\n      <td>0.50</td>\n      <td>69.7</td>\n      <td>42.1</td>\n      <td>58.2</td>\n      <td>50.2</td>\n      <td>24.3</td>\n      <td>41.2</td>\n      <td>24.0</td>\n      <td>0.39</td>\n      <td>0.444908</td>\n      <td>0.422051</td>\n      <td>33.858317</td>\n      <td>5548.12201</td>\n    </tr>\n    <tr>\n      <th>2</th>\n      <td>12.5</td>\n      <td>0.25</td>\n      <td>0.25</td>\n      <td>0.63</td>\n      <td>0.63</td>\n      <td>86.0</td>\n      <td>52.0</td>\n      <td>71.9</td>\n      <td>62.0</td>\n      <td>30.0</td>\n      <td>50.8</td>\n      <td>24.0</td>\n      <td>0.39</td>\n      <td>0.552927</td>\n      <td>0.470853</td>\n      <td>38.341781</td>\n      <td>6869.77760</td>\n    </tr>\n    <tr>\n      <th>3</th>\n      <td>12.5</td>\n      <td>0.25</td>\n      <td>0.25</td>\n      <td>0.63</td>\n      <td>0.50</td>\n      <td>77.4</td>\n      <td>46.8</td>\n      <td>64.7</td>\n      <td>55.8</td>\n      <td>27.0</td>\n      <td>45.8</td>\n      <td>24.0</td>\n      <td>0.39</td>\n      <td>0.565976</td>\n      <td>0.478137</td>\n      <td>39.467561</td>\n      <td>6880.77590</td>\n    </tr>\n    <tr>\n      <th>4</th>\n      <td>25.0</td>\n      <td>0.50</td>\n      <td>0.25</td>\n      <td>0.63</td>\n      <td>0.63</td>\n      <td>77.4</td>\n      <td>46.8</td>\n      <td>64.7</td>\n      <td>55.8</td>\n      <td>27.0</td>\n      <td>45.8</td>\n      <td>24.0</td>\n      <td>0.39</td>\n      <td>0.579677</td>\n      <td>0.494165</td>\n      <td>40.484512</td>\n      <td>7479.93417</td>\n    </tr>\n    <tr>\n      <th>...</th>\n      <td>...</td>\n      <td>...</td>\n      <td>...</td>\n      <td>...</td>\n      <td>...</td>\n      <td>...</td>\n      <td>...</td>\n      <td>...</td>\n      <td>...</td>\n      <td>...</td>\n      <td>...</td>\n      <td>...</td>\n      <td>...</td>\n      <td>...</td>\n      <td>...</td>\n      <td>...</td>\n      <td>...</td>\n    </tr>\n    <tr>\n      <th>25478</th>\n      <td>25.0</td>\n      <td>0.25</td>\n      <td>0.25</td>\n      <td>0.25</td>\n      <td>0.25</td>\n      <td>86.0</td>\n      <td>52.0</td>\n      <td>71.9</td>\n      <td>62.0</td>\n      <td>30.0</td>\n      <td>50.8</td>\n      <td>24.0</td>\n      <td>0.39</td>\n      <td>0.474162</td>\n      <td>0.437923</td>\n      <td>34.525258</td>\n      <td>NaN</td>\n    </tr>\n    <tr>\n      <th>25479</th>\n      <td>25.0</td>\n      <td>0.50</td>\n      <td>0.25</td>\n      <td>0.50</td>\n      <td>0.75</td>\n      <td>77.4</td>\n      <td>46.8</td>\n      <td>64.7</td>\n      <td>55.8</td>\n      <td>27.0</td>\n      <td>45.8</td>\n      <td>16.0</td>\n      <td>0.26</td>\n      <td>0.482854</td>\n      <td>0.440676</td>\n      <td>35.648221</td>\n      <td>NaN</td>\n    </tr>\n    <tr>\n      <th>25480</th>\n      <td>25.0</td>\n      <td>0.50</td>\n      <td>0.38</td>\n      <td>0.50</td>\n      <td>0.50</td>\n      <td>77.4</td>\n      <td>46.8</td>\n      <td>64.7</td>\n      <td>55.8</td>\n      <td>27.0</td>\n      <td>45.8</td>\n      <td>16.0</td>\n      <td>0.26</td>\n      <td>0.568854</td>\n      <td>0.463065</td>\n      <td>37.724724</td>\n      <td>NaN</td>\n    </tr>\n    <tr>\n      <th>25481</th>\n      <td>12.5</td>\n      <td>0.25</td>\n      <td>0.25</td>\n      <td>0.38</td>\n      <td>0.50</td>\n      <td>94.6</td>\n      <td>57.2</td>\n      <td>79.0</td>\n      <td>68.2</td>\n      <td>33.0</td>\n      <td>55.9</td>\n      <td>34.0</td>\n      <td>0.56</td>\n      <td>0.407374</td>\n      <td>0.409261</td>\n      <td>31.881847</td>\n      <td>NaN</td>\n    </tr>\n    <tr>\n      <th>25482</th>\n      <td>12.5</td>\n      <td>0.25</td>\n      <td>0.25</td>\n      <td>0.50</td>\n      <td>0.50</td>\n      <td>77.4</td>\n      <td>46.8</td>\n      <td>64.7</td>\n      <td>55.8</td>\n      <td>27.0</td>\n      <td>45.8</td>\n      <td>1.0</td>\n      <td>0.10</td>\n      <td>0.579677</td>\n      <td>0.486202</td>\n      <td>40.265408</td>\n      <td>NaN</td>\n    </tr>\n  </tbody>\n</table>\n<p>25483 rows × 17 columns</p>\n</div>"
     },
     "execution_count": 121,
     "metadata": {},
     "output_type": "execute_result"
    }
   ],
   "source": [
    "all_data = pd.concat([train,test]) # 훈련 데이터와 테스트 데이터 합치기\n",
    "# all_data = all_data.drop('Survived' , axis = 1) # 타깃값 제거\n",
    "all_data"
   ],
   "metadata": {
    "collapsed": false,
    "pycharm": {
     "name": "#%%\n"
    }
   }
  },
  {
   "cell_type": "code",
   "execution_count": 122,
   "outputs": [
    {
     "data": {
      "text/plain": "id\n0        4476.81146\n1        5548.12201\n2        6869.77760\n3        6880.77590\n4        7479.93417\n            ...    \n15284    7667.83619\n15285    3680.56025\n15286    4696.44394\n15287    6772.93347\n15288    5867.99722\nName: yield, Length: 15289, dtype: float64"
     },
     "execution_count": 122,
     "metadata": {},
     "output_type": "execute_result"
    }
   ],
   "source": [
    "num_train = len(train)\n",
    "\n",
    "\n",
    "y = all_data['yield'].iloc[:num_train]\n",
    "\n",
    "y"
   ],
   "metadata": {
    "collapsed": false,
    "pycharm": {
     "name": "#%%\n"
    }
   }
  },
  {
   "cell_type": "code",
   "execution_count": 123,
   "outputs": [],
   "source": [
    "#\n",
    "# all_data = all_data.drop('yield' , axis = 1) # 타깃값 제거\n",
    "\n",
    "# all_data"
   ],
   "metadata": {
    "collapsed": false,
    "pycharm": {
     "name": "#%%\n"
    }
   }
  },
  {
   "cell_type": "code",
   "execution_count": 124,
   "outputs": [
    {
     "data": {
      "text/plain": "                      clonesize  honeybee   bumbles   andrena     osmia  \\\nclonesize              1.000000  0.304130  0.080433  0.065131 -0.007607   \nhoneybee               0.304130  1.000000 -0.017937  0.030671 -0.010394   \nbumbles                0.080433 -0.017937  1.000000 -0.164962  0.158001   \nandrena                0.065131  0.030671 -0.164962  1.000000  0.309556   \nosmia                 -0.007607 -0.010394  0.158001  0.309556  1.000000   \nMaxOfUpperTRange       0.016159  0.005840 -0.002104 -0.013061 -0.031391   \nMinOfUpperTRange       0.015838  0.005755 -0.001813 -0.012928 -0.030819   \nAverageOfUpperTRange   0.016057  0.005892 -0.001769 -0.012993 -0.031415   \nMaxOfLowerTRange       0.016343  0.005942 -0.001613 -0.012924 -0.031398   \nMinOfLowerTRange       0.016026  0.005809 -0.001804 -0.013035 -0.031486   \nAverageOfLowerTRange   0.015987  0.005485 -0.001644 -0.013071 -0.031337   \nRainingDays            0.165770  0.046494 -0.063294 -0.026572 -0.079874   \nAverageRainingDays     0.164823  0.037532 -0.060232 -0.027193 -0.078720   \nfruitset              -0.406793 -0.120492  0.160447  0.073669  0.209495   \nfruitmass             -0.377688 -0.135310  0.163987  0.064722  0.192210   \nseeds                 -0.396898 -0.139261  0.177022  0.063504  0.200597   \nyield                 -0.382619 -0.118001  0.161145  0.073969  0.198264   \n\n                      MaxOfUpperTRange  MinOfUpperTRange  \\\nclonesize                     0.016159          0.015838   \nhoneybee                      0.005840          0.005755   \nbumbles                      -0.002104         -0.001813   \nandrena                      -0.013061         -0.012928   \nosmia                        -0.031391         -0.030819   \nMaxOfUpperTRange              1.000000          0.998599   \nMinOfUpperTRange              0.998599          1.000000   \nAverageOfUpperTRange          0.999806          0.999004   \nMaxOfLowerTRange              0.999503          0.998199   \nMinOfLowerTRange              0.999829          0.998953   \nAverageOfLowerTRange          0.999772          0.999040   \nRainingDays                   0.011322          0.011727   \nAverageRainingDays            0.010352          0.010767   \nfruitset                      0.007580          0.008409   \nfruitmass                     0.146237          0.147203   \nseeds                         0.060963          0.061812   \nyield                        -0.022517         -0.021929   \n\n                      AverageOfUpperTRange  MaxOfLowerTRange  \\\nclonesize                         0.016057          0.016343   \nhoneybee                          0.005892          0.005942   \nbumbles                          -0.001769         -0.001613   \nandrena                          -0.012993         -0.012924   \nosmia                            -0.031415         -0.031398   \nMaxOfUpperTRange                  0.999806          0.999503   \nMinOfUpperTRange                  0.999004          0.998199   \nAverageOfUpperTRange              1.000000          0.999465   \nMaxOfLowerTRange                  0.999465          1.000000   \nMinOfLowerTRange                  0.999973          0.999489   \nAverageOfLowerTRange              0.999974          0.999423   \nRainingDays                       0.011245          0.011302   \nAverageRainingDays                0.010260          0.010262   \nfruitset                          0.008503          0.007902   \nfruitmass                         0.147676          0.146668   \nseeds                             0.062082          0.061378   \nyield                            -0.021940         -0.022197   \n\n                      MinOfLowerTRange  AverageOfLowerTRange  RainingDays  \\\nclonesize                     0.016026              0.015987     0.165770   \nhoneybee                      0.005809              0.005485     0.046494   \nbumbles                      -0.001804             -0.001644    -0.063294   \nandrena                      -0.013035             -0.013071    -0.026572   \nosmia                        -0.031486             -0.031337    -0.079874   \nMaxOfUpperTRange              0.999829              0.999772     0.011322   \nMinOfUpperTRange              0.998953              0.999040     0.011727   \nAverageOfUpperTRange          0.999973              0.999974     0.011245   \nMaxOfLowerTRange              0.999489              0.999423     0.011302   \nMinOfLowerTRange              1.000000              0.999963     0.011466   \nAverageOfLowerTRange          0.999963              1.000000     0.011334   \nRainingDays                   0.011466              0.011334     1.000000   \nAverageRainingDays            0.010479              0.010355     0.990864   \nfruitset                      0.007909              0.008329    -0.468066   \nfruitmass                     0.146704              0.147363    -0.447033   \nseeds                         0.061360              0.061853    -0.478818   \nyield                        -0.022319             -0.022081    -0.477191   \n\n                      AverageRainingDays  fruitset  fruitmass     seeds  \\\nclonesize                       0.164823 -0.406793  -0.377688 -0.396898   \nhoneybee                        0.037532 -0.120492  -0.135310 -0.139261   \nbumbles                        -0.060232  0.160447   0.163987  0.177022   \nandrena                        -0.027193  0.073669   0.064722  0.063504   \nosmia                          -0.078720  0.209495   0.192210  0.200597   \nMaxOfUpperTRange                0.010352  0.007580   0.146237  0.060963   \nMinOfUpperTRange                0.010767  0.008409   0.147203  0.061812   \nAverageOfUpperTRange            0.010260  0.008503   0.147676  0.062082   \nMaxOfLowerTRange                0.010262  0.007902   0.146668  0.061378   \nMinOfLowerTRange                0.010479  0.007909   0.146704  0.061360   \nAverageOfLowerTRange            0.010355  0.008329   0.147363  0.061853   \nRainingDays                     0.990864 -0.468066  -0.447033 -0.478818   \nAverageRainingDays              1.000000 -0.475876  -0.452870 -0.484439   \nfruitset                       -0.475876  1.000000   0.936988  0.929654   \nfruitmass                      -0.452870  0.936988   1.000000  0.931646   \nseeds                          -0.484439  0.929654   0.931646  1.000000   \nyield                          -0.483870  0.885967   0.826481  0.868853   \n\n                         yield  \nclonesize            -0.382619  \nhoneybee             -0.118001  \nbumbles               0.161145  \nandrena               0.073969  \nosmia                 0.198264  \nMaxOfUpperTRange     -0.022517  \nMinOfUpperTRange     -0.021929  \nAverageOfUpperTRange -0.021940  \nMaxOfLowerTRange     -0.022197  \nMinOfLowerTRange     -0.022319  \nAverageOfLowerTRange -0.022081  \nRainingDays          -0.477191  \nAverageRainingDays   -0.483870  \nfruitset              0.885967  \nfruitmass             0.826481  \nseeds                 0.868853  \nyield                 1.000000  ",
      "text/html": "<div>\n<style scoped>\n    .dataframe tbody tr th:only-of-type {\n        vertical-align: middle;\n    }\n\n    .dataframe tbody tr th {\n        vertical-align: top;\n    }\n\n    .dataframe thead th {\n        text-align: right;\n    }\n</style>\n<table border=\"1\" class=\"dataframe\">\n  <thead>\n    <tr style=\"text-align: right;\">\n      <th></th>\n      <th>clonesize</th>\n      <th>honeybee</th>\n      <th>bumbles</th>\n      <th>andrena</th>\n      <th>osmia</th>\n      <th>MaxOfUpperTRange</th>\n      <th>MinOfUpperTRange</th>\n      <th>AverageOfUpperTRange</th>\n      <th>MaxOfLowerTRange</th>\n      <th>MinOfLowerTRange</th>\n      <th>AverageOfLowerTRange</th>\n      <th>RainingDays</th>\n      <th>AverageRainingDays</th>\n      <th>fruitset</th>\n      <th>fruitmass</th>\n      <th>seeds</th>\n      <th>yield</th>\n    </tr>\n  </thead>\n  <tbody>\n    <tr>\n      <th>clonesize</th>\n      <td>1.000000</td>\n      <td>0.304130</td>\n      <td>0.080433</td>\n      <td>0.065131</td>\n      <td>-0.007607</td>\n      <td>0.016159</td>\n      <td>0.015838</td>\n      <td>0.016057</td>\n      <td>0.016343</td>\n      <td>0.016026</td>\n      <td>0.015987</td>\n      <td>0.165770</td>\n      <td>0.164823</td>\n      <td>-0.406793</td>\n      <td>-0.377688</td>\n      <td>-0.396898</td>\n      <td>-0.382619</td>\n    </tr>\n    <tr>\n      <th>honeybee</th>\n      <td>0.304130</td>\n      <td>1.000000</td>\n      <td>-0.017937</td>\n      <td>0.030671</td>\n      <td>-0.010394</td>\n      <td>0.005840</td>\n      <td>0.005755</td>\n      <td>0.005892</td>\n      <td>0.005942</td>\n      <td>0.005809</td>\n      <td>0.005485</td>\n      <td>0.046494</td>\n      <td>0.037532</td>\n      <td>-0.120492</td>\n      <td>-0.135310</td>\n      <td>-0.139261</td>\n      <td>-0.118001</td>\n    </tr>\n    <tr>\n      <th>bumbles</th>\n      <td>0.080433</td>\n      <td>-0.017937</td>\n      <td>1.000000</td>\n      <td>-0.164962</td>\n      <td>0.158001</td>\n      <td>-0.002104</td>\n      <td>-0.001813</td>\n      <td>-0.001769</td>\n      <td>-0.001613</td>\n      <td>-0.001804</td>\n      <td>-0.001644</td>\n      <td>-0.063294</td>\n      <td>-0.060232</td>\n      <td>0.160447</td>\n      <td>0.163987</td>\n      <td>0.177022</td>\n      <td>0.161145</td>\n    </tr>\n    <tr>\n      <th>andrena</th>\n      <td>0.065131</td>\n      <td>0.030671</td>\n      <td>-0.164962</td>\n      <td>1.000000</td>\n      <td>0.309556</td>\n      <td>-0.013061</td>\n      <td>-0.012928</td>\n      <td>-0.012993</td>\n      <td>-0.012924</td>\n      <td>-0.013035</td>\n      <td>-0.013071</td>\n      <td>-0.026572</td>\n      <td>-0.027193</td>\n      <td>0.073669</td>\n      <td>0.064722</td>\n      <td>0.063504</td>\n      <td>0.073969</td>\n    </tr>\n    <tr>\n      <th>osmia</th>\n      <td>-0.007607</td>\n      <td>-0.010394</td>\n      <td>0.158001</td>\n      <td>0.309556</td>\n      <td>1.000000</td>\n      <td>-0.031391</td>\n      <td>-0.030819</td>\n      <td>-0.031415</td>\n      <td>-0.031398</td>\n      <td>-0.031486</td>\n      <td>-0.031337</td>\n      <td>-0.079874</td>\n      <td>-0.078720</td>\n      <td>0.209495</td>\n      <td>0.192210</td>\n      <td>0.200597</td>\n      <td>0.198264</td>\n    </tr>\n    <tr>\n      <th>MaxOfUpperTRange</th>\n      <td>0.016159</td>\n      <td>0.005840</td>\n      <td>-0.002104</td>\n      <td>-0.013061</td>\n      <td>-0.031391</td>\n      <td>1.000000</td>\n      <td>0.998599</td>\n      <td>0.999806</td>\n      <td>0.999503</td>\n      <td>0.999829</td>\n      <td>0.999772</td>\n      <td>0.011322</td>\n      <td>0.010352</td>\n      <td>0.007580</td>\n      <td>0.146237</td>\n      <td>0.060963</td>\n      <td>-0.022517</td>\n    </tr>\n    <tr>\n      <th>MinOfUpperTRange</th>\n      <td>0.015838</td>\n      <td>0.005755</td>\n      <td>-0.001813</td>\n      <td>-0.012928</td>\n      <td>-0.030819</td>\n      <td>0.998599</td>\n      <td>1.000000</td>\n      <td>0.999004</td>\n      <td>0.998199</td>\n      <td>0.998953</td>\n      <td>0.999040</td>\n      <td>0.011727</td>\n      <td>0.010767</td>\n      <td>0.008409</td>\n      <td>0.147203</td>\n      <td>0.061812</td>\n      <td>-0.021929</td>\n    </tr>\n    <tr>\n      <th>AverageOfUpperTRange</th>\n      <td>0.016057</td>\n      <td>0.005892</td>\n      <td>-0.001769</td>\n      <td>-0.012993</td>\n      <td>-0.031415</td>\n      <td>0.999806</td>\n      <td>0.999004</td>\n      <td>1.000000</td>\n      <td>0.999465</td>\n      <td>0.999973</td>\n      <td>0.999974</td>\n      <td>0.011245</td>\n      <td>0.010260</td>\n      <td>0.008503</td>\n      <td>0.147676</td>\n      <td>0.062082</td>\n      <td>-0.021940</td>\n    </tr>\n    <tr>\n      <th>MaxOfLowerTRange</th>\n      <td>0.016343</td>\n      <td>0.005942</td>\n      <td>-0.001613</td>\n      <td>-0.012924</td>\n      <td>-0.031398</td>\n      <td>0.999503</td>\n      <td>0.998199</td>\n      <td>0.999465</td>\n      <td>1.000000</td>\n      <td>0.999489</td>\n      <td>0.999423</td>\n      <td>0.011302</td>\n      <td>0.010262</td>\n      <td>0.007902</td>\n      <td>0.146668</td>\n      <td>0.061378</td>\n      <td>-0.022197</td>\n    </tr>\n    <tr>\n      <th>MinOfLowerTRange</th>\n      <td>0.016026</td>\n      <td>0.005809</td>\n      <td>-0.001804</td>\n      <td>-0.013035</td>\n      <td>-0.031486</td>\n      <td>0.999829</td>\n      <td>0.998953</td>\n      <td>0.999973</td>\n      <td>0.999489</td>\n      <td>1.000000</td>\n      <td>0.999963</td>\n      <td>0.011466</td>\n      <td>0.010479</td>\n      <td>0.007909</td>\n      <td>0.146704</td>\n      <td>0.061360</td>\n      <td>-0.022319</td>\n    </tr>\n    <tr>\n      <th>AverageOfLowerTRange</th>\n      <td>0.015987</td>\n      <td>0.005485</td>\n      <td>-0.001644</td>\n      <td>-0.013071</td>\n      <td>-0.031337</td>\n      <td>0.999772</td>\n      <td>0.999040</td>\n      <td>0.999974</td>\n      <td>0.999423</td>\n      <td>0.999963</td>\n      <td>1.000000</td>\n      <td>0.011334</td>\n      <td>0.010355</td>\n      <td>0.008329</td>\n      <td>0.147363</td>\n      <td>0.061853</td>\n      <td>-0.022081</td>\n    </tr>\n    <tr>\n      <th>RainingDays</th>\n      <td>0.165770</td>\n      <td>0.046494</td>\n      <td>-0.063294</td>\n      <td>-0.026572</td>\n      <td>-0.079874</td>\n      <td>0.011322</td>\n      <td>0.011727</td>\n      <td>0.011245</td>\n      <td>0.011302</td>\n      <td>0.011466</td>\n      <td>0.011334</td>\n      <td>1.000000</td>\n      <td>0.990864</td>\n      <td>-0.468066</td>\n      <td>-0.447033</td>\n      <td>-0.478818</td>\n      <td>-0.477191</td>\n    </tr>\n    <tr>\n      <th>AverageRainingDays</th>\n      <td>0.164823</td>\n      <td>0.037532</td>\n      <td>-0.060232</td>\n      <td>-0.027193</td>\n      <td>-0.078720</td>\n      <td>0.010352</td>\n      <td>0.010767</td>\n      <td>0.010260</td>\n      <td>0.010262</td>\n      <td>0.010479</td>\n      <td>0.010355</td>\n      <td>0.990864</td>\n      <td>1.000000</td>\n      <td>-0.475876</td>\n      <td>-0.452870</td>\n      <td>-0.484439</td>\n      <td>-0.483870</td>\n    </tr>\n    <tr>\n      <th>fruitset</th>\n      <td>-0.406793</td>\n      <td>-0.120492</td>\n      <td>0.160447</td>\n      <td>0.073669</td>\n      <td>0.209495</td>\n      <td>0.007580</td>\n      <td>0.008409</td>\n      <td>0.008503</td>\n      <td>0.007902</td>\n      <td>0.007909</td>\n      <td>0.008329</td>\n      <td>-0.468066</td>\n      <td>-0.475876</td>\n      <td>1.000000</td>\n      <td>0.936988</td>\n      <td>0.929654</td>\n      <td>0.885967</td>\n    </tr>\n    <tr>\n      <th>fruitmass</th>\n      <td>-0.377688</td>\n      <td>-0.135310</td>\n      <td>0.163987</td>\n      <td>0.064722</td>\n      <td>0.192210</td>\n      <td>0.146237</td>\n      <td>0.147203</td>\n      <td>0.147676</td>\n      <td>0.146668</td>\n      <td>0.146704</td>\n      <td>0.147363</td>\n      <td>-0.447033</td>\n      <td>-0.452870</td>\n      <td>0.936988</td>\n      <td>1.000000</td>\n      <td>0.931646</td>\n      <td>0.826481</td>\n    </tr>\n    <tr>\n      <th>seeds</th>\n      <td>-0.396898</td>\n      <td>-0.139261</td>\n      <td>0.177022</td>\n      <td>0.063504</td>\n      <td>0.200597</td>\n      <td>0.060963</td>\n      <td>0.061812</td>\n      <td>0.062082</td>\n      <td>0.061378</td>\n      <td>0.061360</td>\n      <td>0.061853</td>\n      <td>-0.478818</td>\n      <td>-0.484439</td>\n      <td>0.929654</td>\n      <td>0.931646</td>\n      <td>1.000000</td>\n      <td>0.868853</td>\n    </tr>\n    <tr>\n      <th>yield</th>\n      <td>-0.382619</td>\n      <td>-0.118001</td>\n      <td>0.161145</td>\n      <td>0.073969</td>\n      <td>0.198264</td>\n      <td>-0.022517</td>\n      <td>-0.021929</td>\n      <td>-0.021940</td>\n      <td>-0.022197</td>\n      <td>-0.022319</td>\n      <td>-0.022081</td>\n      <td>-0.477191</td>\n      <td>-0.483870</td>\n      <td>0.885967</td>\n      <td>0.826481</td>\n      <td>0.868853</td>\n      <td>1.000000</td>\n    </tr>\n  </tbody>\n</table>\n</div>"
     },
     "execution_count": 124,
     "metadata": {},
     "output_type": "execute_result"
    }
   ],
   "source": [
    "corrMat = train[train.columns.tolist()[:]].corr()\n",
    "corrMat"
   ],
   "metadata": {
    "collapsed": false,
    "pycharm": {
     "name": "#%%\n"
    }
   }
  },
  {
   "cell_type": "code",
   "execution_count": 125,
   "outputs": [
    {
     "data": {
      "text/plain": "[Text(0.5, 1.0, 'Heatmap of Numerical Data')]"
     },
     "execution_count": 125,
     "metadata": {},
     "output_type": "execute_result"
    },
    {
     "data": {
      "text/plain": "<Figure size 1080x1080 with 2 Axes>",
      "image/png": "[encoded data removed]"
     },
     "metadata": {
      "needs_background": "light"
     },
     "output_type": "display_data"
    }
   ],
   "source": [
    "fig,ax = plt.subplots()\n",
    "fig.set_size_inches(15,15)\n",
    "\n",
    "sns.heatmap(corrMat , annot =True )\n",
    "ax.set(title='Heatmap of Numerical Data')"
   ],
   "metadata": {
    "collapsed": false,
    "pycharm": {
     "name": "#%%\n"
    }
   }
  },
  {
   "cell_type": "code",
   "execution_count": 126,
   "outputs": [
    {
     "data": {
      "text/plain": "[Text(0.5, 1.0, 'Heatmap of Numerical Data')]"
     },
     "execution_count": 126,
     "metadata": {},
     "output_type": "execute_result"
    },
    {
     "data": {
      "text/plain": "<Figure size 1080x1080 with 2 Axes>",
      "image/png": "[encoded data removed]"
     },
     "metadata": {
      "needs_background": "light"
     },
     "output_type": "display_data"
    }
   ],
   "source": [
    "# Mask for correlation values less than 0.1\n",
    "fig,ax = plt.subplots()\n",
    "fig.set_size_inches(15,15)\n",
    "mask = np.zeros_like(corrMat)\n",
    "mask[np.triu_indices_from(mask)] = True\n",
    "mask[np.abs(corrMat) < 0.1] = False\n",
    "\n",
    "sns.heatmap(corrMat, annot=True, mask=mask)\n",
    "ax.set(title='Heatmap of Numerical Data')\n",
    "\n",
    "\n",
    "# ['MaxOfUpperTRange' , 'fruitset']"
   ],
   "metadata": {
    "collapsed": false,
    "pycharm": {
     "name": "#%%\n"
    }
   }
  },
  {
   "cell_type": "markdown",
   "source": [
    "## 변수별 분포 파악"
   ],
   "metadata": {
    "collapsed": false,
    "pycharm": {
     "name": "#%% md\n"
    }
   }
  },
  {
   "cell_type": "code",
   "execution_count": 127,
   "outputs": [
    {
     "data": {
      "text/plain": "       clonesize  honeybee  bumbles  andrena  osmia  MaxOfUpperTRange  \\\nid                                                                      \n0           25.0      0.50     0.25     0.75   0.50              69.7   \n1           25.0      0.50     0.25     0.50   0.50              69.7   \n2           12.5      0.25     0.25     0.63   0.63              86.0   \n3           12.5      0.25     0.25     0.63   0.50              77.4   \n4           25.0      0.50     0.25     0.63   0.63              77.4   \n...          ...       ...      ...      ...    ...               ...   \n25478       25.0      0.25     0.25     0.25   0.25              86.0   \n25479       25.0      0.50     0.25     0.50   0.75              77.4   \n25480       25.0      0.50     0.38     0.50   0.50              77.4   \n25481       12.5      0.25     0.25     0.38   0.50              94.6   \n25482       12.5      0.25     0.25     0.50   0.50              77.4   \n\n       MinOfUpperTRange  AverageOfUpperTRange  MaxOfLowerTRange  \\\nid                                                                \n0                  42.1                  58.2              50.2   \n1                  42.1                  58.2              50.2   \n2                  52.0                  71.9              62.0   \n3                  46.8                  64.7              55.8   \n4                  46.8                  64.7              55.8   \n...                 ...                   ...               ...   \n25478              52.0                  71.9              62.0   \n25479              46.8                  64.7              55.8   \n25480              46.8                  64.7              55.8   \n25481              57.2                  79.0              68.2   \n25482              46.8                  64.7              55.8   \n\n       MinOfLowerTRange  AverageOfLowerTRange  RainingDays  \\\nid                                                           \n0                  24.3                  41.2         24.0   \n1                  24.3                  41.2         24.0   \n2                  30.0                  50.8         24.0   \n3                  27.0                  45.8         24.0   \n4                  27.0                  45.8         24.0   \n...                 ...                   ...          ...   \n25478              30.0                  50.8         24.0   \n25479              27.0                  45.8         16.0   \n25480              27.0                  45.8         16.0   \n25481              33.0                  55.9         34.0   \n25482              27.0                  45.8          1.0   \n\n       AverageRainingDays  fruitset  fruitmass      seeds       yield  \nid                                                                     \n0                    0.39  0.425011   0.417545  32.460887  4476.81146  \n1                    0.39  0.444908   0.422051  33.858317  5548.12201  \n2                    0.39  0.552927   0.470853  38.341781  6869.77760  \n3                    0.39  0.565976   0.478137  39.467561  6880.77590  \n4                    0.39  0.579677   0.494165  40.484512  7479.93417  \n...                   ...       ...        ...        ...         ...  \n25478                0.39  0.474162   0.437923  34.525258         NaN  \n25479                0.26  0.482854   0.440676  35.648221         NaN  \n25480                0.26  0.568854   0.463065  37.724724         NaN  \n25481                0.56  0.407374   0.409261  31.881847         NaN  \n25482                0.10  0.579677   0.486202  40.265408         NaN  \n\n[25483 rows x 17 columns]",
      "text/html": "<div>\n<style scoped>\n    .dataframe tbody tr th:only-of-type {\n        vertical-align: middle;\n    }\n\n    .dataframe tbody tr th {\n        vertical-align: top;\n    }\n\n    .dataframe thead th {\n        text-align: right;\n    }\n</style>\n<table border=\"1\" class=\"dataframe\">\n  <thead>\n    <tr style=\"text-align: right;\">\n      <th></th>\n      <th>clonesize</th>\n      <th>honeybee</th>\n      <th>bumbles</th>\n      <th>andrena</th>\n      <th>osmia</th>\n      <th>MaxOfUpperTRange</th>\n      <th>MinOfUpperTRange</th>\n      <th>AverageOfUpperTRange</th>\n      <th>MaxOfLowerTRange</th>\n      <th>MinOfLowerTRange</th>\n      <th>AverageOfLowerTRange</th>\n      <th>RainingDays</th>\n      <th>AverageRainingDays</th>\n      <th>fruitset</th>\n      <th>fruitmass</th>\n      <th>seeds</th>\n      <th>yield</th>\n    </tr>\n    <tr>\n      <th>id</th>\n      <th></th>\n      <th></th>\n      <th></th>\n      <th></th>\n      <th></th>\n      <th></th>\n      <th></th>\n      <th></th>\n      <th></th>\n      <th></th>\n      <th></th>\n      <th></th>\n      <th></th>\n      <th></th>\n      <th></th>\n      <th></th>\n      <th></th>\n    </tr>\n  </thead>\n  <tbody>\n    <tr>\n      <th>0</th>\n      <td>25.0</td>\n      <td>0.50</td>\n      <td>0.25</td>\n      <td>0.75</td>\n      <td>0.50</td>\n      <td>69.7</td>\n      <td>42.1</td>\n      <td>58.2</td>\n      <td>50.2</td>\n      <td>24.3</td>\n      <td>41.2</td>\n      <td>24.0</td>\n      <td>0.39</td>\n      <td>0.425011</td>\n      <td>0.417545</td>\n      <td>32.460887</td>\n      <td>4476.81146</td>\n    </tr>\n    <tr>\n      <th>1</th>\n      <td>25.0</td>\n      <td>0.50</td>\n      <td>0.25</td>\n      <td>0.50</td>\n      <td>0.50</td>\n      <td>69.7</td>\n      <td>42.1</td>\n      <td>58.2</td>\n      <td>50.2</td>\n      <td>24.3</td>\n      <td>41.2</td>\n      <td>24.0</td>\n      <td>0.39</td>\n      <td>0.444908</td>\n      <td>0.422051</td>\n      <td>33.858317</td>\n      <td>5548.12201</td>\n    </tr>\n    <tr>\n      <th>2</th>\n      <td>12.5</td>\n      <td>0.25</td>\n      <td>0.25</td>\n      <td>0.63</td>\n      <td>0.63</td>\n      <td>86.0</td>\n      <td>52.0</td>\n      <td>71.9</td>\n      <td>62.0</td>\n      <td>30.0</td>\n      <td>50.8</td>\n      <td>24.0</td>\n      <td>0.39</td>\n      <td>0.552927</td>\n      <td>0.470853</td>\n      <td>38.341781</td>\n      <td>6869.77760</td>\n    </tr>\n    <tr>\n      <th>3</th>\n      <td>12.5</td>\n      <td>0.25</td>\n      <td>0.25</td>\n      <td>0.63</td>\n      <td>0.50</td>\n      <td>77.4</td>\n      <td>46.8</td>\n      <td>64.7</td>\n      <td>55.8</td>\n      <td>27.0</td>\n      <td>45.8</td>\n      <td>24.0</td>\n      <td>0.39</td>\n      <td>0.565976</td>\n      <td>0.478137</td>\n      <td>39.467561</td>\n      <td>6880.77590</td>\n    </tr>\n    <tr>\n      <th>4</th>\n      <td>25.0</td>\n      <td>0.50</td>\n      <td>0.25</td>\n      <td>0.63</td>\n      <td>0.63</td>\n      <td>77.4</td>\n      <td>46.8</td>\n      <td>64.7</td>\n      <td>55.8</td>\n      <td>27.0</td>\n      <td>45.8</td>\n      <td>24.0</td>\n      <td>0.39</td>\n      <td>0.579677</td>\n      <td>0.494165</td>\n      <td>40.484512</td>\n      <td>7479.93417</td>\n    </tr>\n    <tr>\n      <th>...</th>\n      <td>...</td>\n      <td>...</td>\n      <td>...</td>\n      <td>...</td>\n      <td>...</td>\n      <td>...</td>\n      <td>...</td>\n      <td>...</td>\n      <td>...</td>\n      <td>...</td>\n      <td>...</td>\n      <td>...</td>\n      <td>...</td>\n      <td>...</td>\n      <td>...</td>\n      <td>...</td>\n      <td>...</td>\n    </tr>\n    <tr>\n      <th>25478</th>\n      <td>25.0</td>\n      <td>0.25</td>\n      <td>0.25</td>\n      <td>0.25</td>\n      <td>0.25</td>\n      <td>86.0</td>\n      <td>52.0</td>\n      <td>71.9</td>\n      <td>62.0</td>\n      <td>30.0</td>\n      <td>50.8</td>\n      <td>24.0</td>\n      <td>0.39</td>\n      <td>0.474162</td>\n      <td>0.437923</td>\n      <td>34.525258</td>\n      <td>NaN</td>\n    </tr>\n    <tr>\n      <th>25479</th>\n      <td>25.0</td>\n      <td>0.50</td>\n      <td>0.25</td>\n      <td>0.50</td>\n      <td>0.75</td>\n      <td>77.4</td>\n      <td>46.8</td>\n      <td>64.7</td>\n      <td>55.8</td>\n      <td>27.0</td>\n      <td>45.8</td>\n      <td>16.0</td>\n      <td>0.26</td>\n      <td>0.482854</td>\n      <td>0.440676</td>\n      <td>35.648221</td>\n      <td>NaN</td>\n    </tr>\n    <tr>\n      <th>25480</th>\n      <td>25.0</td>\n      <td>0.50</td>\n      <td>0.38</td>\n      <td>0.50</td>\n      <td>0.50</td>\n      <td>77.4</td>\n      <td>46.8</td>\n      <td>64.7</td>\n      <td>55.8</td>\n      <td>27.0</td>\n      <td>45.8</td>\n      <td>16.0</td>\n      <td>0.26</td>\n      <td>0.568854</td>\n      <td>0.463065</td>\n      <td>37.724724</td>\n      <td>NaN</td>\n    </tr>\n    <tr>\n      <th>25481</th>\n      <td>12.5</td>\n      <td>0.25</td>\n      <td>0.25</td>\n      <td>0.38</td>\n      <td>0.50</td>\n      <td>94.6</td>\n      <td>57.2</td>\n      <td>79.0</td>\n      <td>68.2</td>\n      <td>33.0</td>\n      <td>55.9</td>\n      <td>34.0</td>\n      <td>0.56</td>\n      <td>0.407374</td>\n      <td>0.409261</td>\n      <td>31.881847</td>\n      <td>NaN</td>\n    </tr>\n    <tr>\n      <th>25482</th>\n      <td>12.5</td>\n      <td>0.25</td>\n      <td>0.25</td>\n      <td>0.50</td>\n      <td>0.50</td>\n      <td>77.4</td>\n      <td>46.8</td>\n      <td>64.7</td>\n      <td>55.8</td>\n      <td>27.0</td>\n      <td>45.8</td>\n      <td>1.0</td>\n      <td>0.10</td>\n      <td>0.579677</td>\n      <td>0.486202</td>\n      <td>40.265408</td>\n      <td>NaN</td>\n    </tr>\n  </tbody>\n</table>\n<p>25483 rows × 17 columns</p>\n</div>"
     },
     "execution_count": 127,
     "metadata": {},
     "output_type": "execute_result"
    }
   ],
   "source": [
    "all_data"
   ],
   "metadata": {
    "collapsed": false,
    "pycharm": {
     "name": "#%%\n"
    }
   }
  },
  {
   "cell_type": "code",
   "execution_count": 128,
   "outputs": [
    {
     "name": "stdout",
     "output_type": "stream",
     "text": [
      "<class 'pandas.core.frame.DataFrame'>\n",
      "Int64Index: 25483 entries, 0 to 25482\n",
      "Data columns (total 17 columns):\n",
      " #   Column                Non-Null Count  Dtype  \n",
      "---  ------                --------------  -----  \n",
      " 0   clonesize             25483 non-null  float64\n",
      " 1   honeybee              25483 non-null  float64\n",
      " 2   bumbles               25483 non-null  float64\n",
      " 3   andrena               25483 non-null  float64\n",
      " 4   osmia                 25483 non-null  float64\n",
      " 5   MaxOfUpperTRange      25483 non-null  float64\n",
      " 6   MinOfUpperTRange      25483 non-null  float64\n",
      " 7   AverageOfUpperTRange  25483 non-null  float64\n",
      " 8   MaxOfLowerTRange      25483 non-null  float64\n",
      " 9   MinOfLowerTRange      25483 non-null  float64\n",
      " 10  AverageOfLowerTRange  25483 non-null  float64\n",
      " 11  RainingDays           25483 non-null  float64\n",
      " 12  AverageRainingDays    25483 non-null  float64\n",
      " 13  fruitset              25483 non-null  float64\n",
      " 14  fruitmass             25483 non-null  float64\n",
      " 15  seeds                 25483 non-null  float64\n",
      " 16  yield                 15289 non-null  float64\n",
      "dtypes: float64(17)\n",
      "memory usage: 3.5 MB\n"
     ]
    }
   ],
   "source": [
    "all_data.info() # NULL 값은 없다!"
   ],
   "metadata": {
    "collapsed": false,
    "pycharm": {
     "name": "#%%\n"
    }
   }
  },
  {
   "cell_type": "code",
   "execution_count": 129,
   "outputs": [
    {
     "name": "stdout",
     "output_type": "stream",
     "text": [
      "Value counts for column: clonesize\n",
      "25.0    13814\n",
      "12.5    11129\n",
      "37.5      447\n",
      "20.0       85\n",
      "10.0        6\n",
      "40.0        2\n",
      "Name: clonesize, dtype: int64\n",
      "-----------------------------\n",
      "Value counts for column: honeybee\n",
      "0.500     13077\n",
      "0.250     12115\n",
      "0.750       195\n",
      "0.537        59\n",
      "0.000        23\n",
      "18.430        9\n",
      "6.640         5\n",
      "Name: honeybee, dtype: int64\n",
      "-----------------------------\n",
      "Value counts for column: bumbles\n",
      "0.250    18122\n",
      "0.380     7266\n",
      "0.117       65\n",
      "0.000       10\n",
      "0.042        7\n",
      "0.585        3\n",
      "0.065        3\n",
      "0.058        3\n",
      "0.293        2\n",
      "0.560        1\n",
      "0.260        1\n",
      "Name: bumbles, dtype: int64\n",
      "-----------------------------\n",
      "Value counts for column: andrena\n",
      "0.380    7649\n",
      "0.500    6959\n",
      "0.630    4986\n",
      "0.750    3063\n",
      "0.250    2721\n",
      "0.409      74\n",
      "0.000      12\n",
      "0.229       5\n",
      "0.147       3\n",
      "0.490       2\n",
      "0.560       2\n",
      "0.235       1\n",
      "0.707       1\n",
      "0.585       1\n",
      "0.101       1\n",
      "0.260       1\n",
      "0.240       1\n",
      "0.234       1\n",
      "Name: andrena, dtype: int64\n",
      "-----------------------------\n",
      "Value counts for column: osmia\n",
      "0.630    8009\n",
      "0.500    7717\n",
      "0.750    7330\n",
      "0.250    1481\n",
      "0.380     854\n",
      "0.058      64\n",
      "0.000      10\n",
      "0.021       5\n",
      "0.117       3\n",
      "0.585       2\n",
      "0.078       1\n",
      "0.020       1\n",
      "0.606       1\n",
      "0.060       1\n",
      "0.620       1\n",
      "0.530       1\n",
      "0.101       1\n",
      "0.033       1\n",
      "Name: osmia, dtype: int64\n",
      "-----------------------------\n",
      "Value counts for column: MaxOfUpperTRange\n",
      "86.0    6922\n",
      "77.4    6382\n",
      "94.6    6266\n",
      "69.7    5902\n",
      "89.0       6\n",
      "79.0       4\n",
      "71.9       1\n",
      "Name: MaxOfUpperTRange, dtype: int64\n",
      "-----------------------------\n",
      "Value counts for column: MinOfUpperTRange\n",
      "52.0    6923\n",
      "46.8    6381\n",
      "57.2    6272\n",
      "42.1    5901\n",
      "39.0       5\n",
      "55.8       1\n",
      "Name: MinOfUpperTRange, dtype: int64\n",
      "-----------------------------\n",
      "Value counts for column: AverageOfUpperTRange\n",
      "71.9    6923\n",
      "64.7    6380\n",
      "79.0    6269\n",
      "58.2    5903\n",
      "65.6       7\n",
      "74.6       1\n",
      "Name: AverageOfUpperTRange, dtype: int64\n",
      "-----------------------------\n",
      "Value counts for column: MaxOfLowerTRange\n",
      "62.0    6922\n",
      "55.8    6381\n",
      "68.2    6272\n",
      "50.2    5903\n",
      "66.0       4\n",
      "52.0       1\n",
      "Name: MaxOfLowerTRange, dtype: int64\n",
      "-----------------------------\n",
      "Value counts for column: MinOfLowerTRange\n",
      "30.0    6922\n",
      "27.0    6380\n",
      "33.0    6271\n",
      "24.3    5903\n",
      "28.0       5\n",
      "25.0       1\n",
      "31.0       1\n",
      "Name: MinOfLowerTRange, dtype: int64\n",
      "-----------------------------\n",
      "Value counts for column: AverageOfLowerTRange\n",
      "50.8    6923\n",
      "45.8    6381\n",
      "55.9    6271\n",
      "41.2    5903\n",
      "45.3       5\n",
      "Name: AverageOfLowerTRange, dtype: int64\n",
      "-----------------------------\n",
      "Value counts for column: RainingDays\n",
      "16.00    7192\n",
      "24.00    6371\n",
      "1.00     5959\n",
      "34.00    5872\n",
      "3.77       87\n",
      "33.00       1\n",
      "26.00       1\n",
      "Name: RainingDays, dtype: int64\n",
      "-----------------------------\n",
      "Value counts for column: AverageRainingDays\n",
      "0.26    7192\n",
      "0.39    6371\n",
      "0.10    5958\n",
      "0.56    5871\n",
      "0.06      88\n",
      "0.07       1\n",
      "0.25       1\n",
      "0.14       1\n",
      "Name: AverageRainingDays, dtype: int64\n",
      "-----------------------------\n",
      "Value counts for column: fruitset\n",
      "0.583379    172\n",
      "0.566319    133\n",
      "0.534252    115\n",
      "0.481801    104\n",
      "0.542170    102\n",
      "           ... \n",
      "0.472997      1\n",
      "0.554326      1\n",
      "0.404329      1\n",
      "0.626281      1\n",
      "0.539254      1\n",
      "Name: fruitset, Length: 1871, dtype: int64\n",
      "-----------------------------\n",
      "Value counts for column: fruitmass\n",
      "0.446570    174\n",
      "0.488639    104\n",
      "0.417947    104\n",
      "0.497979    103\n",
      "0.485990    101\n",
      "           ... \n",
      "0.446565      1\n",
      "0.477961      1\n",
      "0.476383      1\n",
      "0.444580      1\n",
      "0.506564      1\n",
      "Name: fruitmass, Length: 1930, dtype: int64\n",
      "-----------------------------\n",
      "Value counts for column: seeds\n",
      "39.988734    144\n",
      "37.966864    126\n",
      "35.923314    122\n",
      "31.928816    114\n",
      "36.976361    105\n",
      "            ... \n",
      "33.232977      1\n",
      "35.880849      1\n",
      "42.127986      1\n",
      "29.885034      1\n",
      "35.498715      1\n",
      "Name: seeds, Length: 2699, dtype: int64\n",
      "-----------------------------\n",
      "Value counts for column: yield\n",
      "6251.61184    33\n",
      "8538.46200    32\n",
      "6687.25926    32\n",
      "7667.83619    32\n",
      "6528.79888    32\n",
      "              ..\n",
      "6034.64214    10\n",
      "7270.31832    10\n",
      "8605.19995    10\n",
      "4952.98560     9\n",
      "5902.33288     7\n",
      "Name: yield, Length: 776, dtype: int64\n",
      "-----------------------------\n"
     ]
    }
   ],
   "source": [
    "for column in all_data.columns:\n",
    "    print(\"Value counts for column:\", column)\n",
    "    print(all_data[column].value_counts())\n",
    "    print(\"-----------------------------\")\n"
   ],
   "metadata": {
    "collapsed": false,
    "pycharm": {
     "name": "#%%\n"
    }
   }
  },
  {
   "cell_type": "markdown",
   "source": [
    "##\n",
    "\n",
    "clonesize: 5개의 범주화 ==> LabelEncoder() 하자\n",
    "\n",
    "honeybee : 7개의 범주화 ==> LabelEncoder() 하자\n",
    "\n",
    "bumbles : 11개의 범주화 ==> 왜도값 치우쳐져있긴 하나 LabelEncoder() 하자\n",
    "\n",
    "andrena : 여러개의 범주화 ==> qcut을 통해 6개의 LabelEncoder()하면 좋을거 같다\n",
    "\n",
    "osmia : 여러개의 범주화 ==> qcut을 통해 7개의 LabelEncoder()하면 좋을거 같다.\n",
    "\n",
    "MaxOfUpperTRange : 7개의 범주화 ==> qcut을 통해 4개의 LabelEncoder()하면 좋을거같다.\n",
    "\n",
    "MinOfLowerTRange : 7개의 범주화 ==> qcut을 통해 5개의 LabelEncoder()하면 좋을 거 같다.\n",
    "\n",
    "AverageOfLowerTRange : 5개의 범주화 ==> 그냥 두자\n",
    "\n",
    "RainingDays : 7개의 범주화 ==> 그냥 두자\n",
    "\n",
    "AverageRainingDays : 7개의 범주화 ==> 그냥 두자\n",
    "\n",
    "==> 마지막 3개를 제외하고 걍 범주화로 5개해놓고 OneHotEncoding 하면 될거 같다.\n"
   ],
   "metadata": {
    "collapsed": false,
    "pycharm": {
     "name": "#%% md\n"
    }
   }
  },
  {
   "cell_type": "code",
   "execution_count": 130,
   "outputs": [
    {
     "data": {
      "text/plain": "       clonesize  honeybee  bumbles  andrena  osmia  MaxOfUpperTRange  \\\nid                                                                      \n0           25.0      0.50     0.25     0.75   0.50              69.7   \n1           25.0      0.50     0.25     0.50   0.50              69.7   \n2           12.5      0.25     0.25     0.63   0.63              86.0   \n3           12.5      0.25     0.25     0.63   0.50              77.4   \n4           25.0      0.50     0.25     0.63   0.63              77.4   \n...          ...       ...      ...      ...    ...               ...   \n25478       25.0      0.25     0.25     0.25   0.25              86.0   \n25479       25.0      0.50     0.25     0.50   0.75              77.4   \n25480       25.0      0.50     0.38     0.50   0.50              77.4   \n25481       12.5      0.25     0.25     0.38   0.50              94.6   \n25482       12.5      0.25     0.25     0.50   0.50              77.4   \n\n       MinOfUpperTRange  AverageOfUpperTRange  MaxOfLowerTRange  \\\nid                                                                \n0                  42.1                  58.2              50.2   \n1                  42.1                  58.2              50.2   \n2                  52.0                  71.9              62.0   \n3                  46.8                  64.7              55.8   \n4                  46.8                  64.7              55.8   \n...                 ...                   ...               ...   \n25478              52.0                  71.9              62.0   \n25479              46.8                  64.7              55.8   \n25480              46.8                  64.7              55.8   \n25481              57.2                  79.0              68.2   \n25482              46.8                  64.7              55.8   \n\n       MinOfLowerTRange  AverageOfLowerTRange  RainingDays  \\\nid                                                           \n0                  24.3                  41.2         24.0   \n1                  24.3                  41.2         24.0   \n2                  30.0                  50.8         24.0   \n3                  27.0                  45.8         24.0   \n4                  27.0                  45.8         24.0   \n...                 ...                   ...          ...   \n25478              30.0                  50.8         24.0   \n25479              27.0                  45.8         16.0   \n25480              27.0                  45.8         16.0   \n25481              33.0                  55.9         34.0   \n25482              27.0                  45.8          1.0   \n\n       AverageRainingDays  fruitset  fruitmass      seeds  \nid                                                         \n0                    0.39  0.425011   0.417545  32.460887  \n1                    0.39  0.444908   0.422051  33.858317  \n2                    0.39  0.552927   0.470853  38.341781  \n3                    0.39  0.565976   0.478137  39.467561  \n4                    0.39  0.579677   0.494165  40.484512  \n...                   ...       ...        ...        ...  \n25478                0.39  0.474162   0.437923  34.525258  \n25479                0.26  0.482854   0.440676  35.648221  \n25480                0.26  0.568854   0.463065  37.724724  \n25481                0.56  0.407374   0.409261  31.881847  \n25482                0.10  0.579677   0.486202  40.265408  \n\n[25483 rows x 16 columns]",
      "text/html": "<div>\n<style scoped>\n    .dataframe tbody tr th:only-of-type {\n        vertical-align: middle;\n    }\n\n    .dataframe tbody tr th {\n        vertical-align: top;\n    }\n\n    .dataframe thead th {\n        text-align: right;\n    }\n</style>\n<table border=\"1\" class=\"dataframe\">\n  <thead>\n    <tr style=\"text-align: right;\">\n      <th></th>\n      <th>clonesize</th>\n      <th>honeybee</th>\n      <th>bumbles</th>\n      <th>andrena</th>\n      <th>osmia</th>\n      <th>MaxOfUpperTRange</th>\n      <th>MinOfUpperTRange</th>\n      <th>AverageOfUpperTRange</th>\n      <th>MaxOfLowerTRange</th>\n      <th>MinOfLowerTRange</th>\n      <th>AverageOfLowerTRange</th>\n      <th>RainingDays</th>\n      <th>AverageRainingDays</th>\n      <th>fruitset</th>\n      <th>fruitmass</th>\n      <th>seeds</th>\n    </tr>\n    <tr>\n      <th>id</th>\n      <th></th>\n      <th></th>\n      <th></th>\n      <th></th>\n      <th></th>\n      <th></th>\n      <th></th>\n      <th></th>\n      <th></th>\n      <th></th>\n      <th></th>\n      <th></th>\n      <th></th>\n      <th></th>\n      <th></th>\n      <th></th>\n    </tr>\n  </thead>\n  <tbody>\n    <tr>\n      <th>0</th>\n      <td>25.0</td>\n      <td>0.50</td>\n      <td>0.25</td>\n      <td>0.75</td>\n      <td>0.50</td>\n      <td>69.7</td>\n      <td>42.1</td>\n      <td>58.2</td>\n      <td>50.2</td>\n      <td>24.3</td>\n      <td>41.2</td>\n      <td>24.0</td>\n      <td>0.39</td>\n      <td>0.425011</td>\n      <td>0.417545</td>\n      <td>32.460887</td>\n    </tr>\n    <tr>\n      <th>1</th>\n      <td>25.0</td>\n      <td>0.50</td>\n      <td>0.25</td>\n      <td>0.50</td>\n      <td>0.50</td>\n      <td>69.7</td>\n      <td>42.1</td>\n      <td>58.2</td>\n      <td>50.2</td>\n      <td>24.3</td>\n      <td>41.2</td>\n      <td>24.0</td>\n      <td>0.39</td>\n      <td>0.444908</td>\n      <td>0.422051</td>\n      <td>33.858317</td>\n    </tr>\n    <tr>\n      <th>2</th>\n      <td>12.5</td>\n      <td>0.25</td>\n      <td>0.25</td>\n      <td>0.63</td>\n      <td>0.63</td>\n      <td>86.0</td>\n      <td>52.0</td>\n      <td>71.9</td>\n      <td>62.0</td>\n      <td>30.0</td>\n      <td>50.8</td>\n      <td>24.0</td>\n      <td>0.39</td>\n      <td>0.552927</td>\n      <td>0.470853</td>\n      <td>38.341781</td>\n    </tr>\n    <tr>\n      <th>3</th>\n      <td>12.5</td>\n      <td>0.25</td>\n      <td>0.25</td>\n      <td>0.63</td>\n      <td>0.50</td>\n      <td>77.4</td>\n      <td>46.8</td>\n      <td>64.7</td>\n      <td>55.8</td>\n      <td>27.0</td>\n      <td>45.8</td>\n      <td>24.0</td>\n      <td>0.39</td>\n      <td>0.565976</td>\n      <td>0.478137</td>\n      <td>39.467561</td>\n    </tr>\n    <tr>\n      <th>4</th>\n      <td>25.0</td>\n      <td>0.50</td>\n      <td>0.25</td>\n      <td>0.63</td>\n      <td>0.63</td>\n      <td>77.4</td>\n      <td>46.8</td>\n      <td>64.7</td>\n      <td>55.8</td>\n      <td>27.0</td>\n      <td>45.8</td>\n      <td>24.0</td>\n      <td>0.39</td>\n      <td>0.579677</td>\n      <td>0.494165</td>\n      <td>40.484512</td>\n    </tr>\n    <tr>\n      <th>...</th>\n      <td>...</td>\n      <td>...</td>\n      <td>...</td>\n      <td>...</td>\n      <td>...</td>\n      <td>...</td>\n      <td>...</td>\n      <td>...</td>\n      <td>...</td>\n      <td>...</td>\n      <td>...</td>\n      <td>...</td>\n      <td>...</td>\n      <td>...</td>\n      <td>...</td>\n      <td>...</td>\n    </tr>\n    <tr>\n      <th>25478</th>\n      <td>25.0</td>\n      <td>0.25</td>\n      <td>0.25</td>\n      <td>0.25</td>\n      <td>0.25</td>\n      <td>86.0</td>\n      <td>52.0</td>\n      <td>71.9</td>\n      <td>62.0</td>\n      <td>30.0</td>\n      <td>50.8</td>\n      <td>24.0</td>\n      <td>0.39</td>\n      <td>0.474162</td>\n      <td>0.437923</td>\n      <td>34.525258</td>\n    </tr>\n    <tr>\n      <th>25479</th>\n      <td>25.0</td>\n      <td>0.50</td>\n      <td>0.25</td>\n      <td>0.50</td>\n      <td>0.75</td>\n      <td>77.4</td>\n      <td>46.8</td>\n      <td>64.7</td>\n      <td>55.8</td>\n      <td>27.0</td>\n      <td>45.8</td>\n      <td>16.0</td>\n      <td>0.26</td>\n      <td>0.482854</td>\n      <td>0.440676</td>\n      <td>35.648221</td>\n    </tr>\n    <tr>\n      <th>25480</th>\n      <td>25.0</td>\n      <td>0.50</td>\n      <td>0.38</td>\n      <td>0.50</td>\n      <td>0.50</td>\n      <td>77.4</td>\n      <td>46.8</td>\n      <td>64.7</td>\n      <td>55.8</td>\n      <td>27.0</td>\n      <td>45.8</td>\n      <td>16.0</td>\n      <td>0.26</td>\n      <td>0.568854</td>\n      <td>0.463065</td>\n      <td>37.724724</td>\n    </tr>\n    <tr>\n      <th>25481</th>\n      <td>12.5</td>\n      <td>0.25</td>\n      <td>0.25</td>\n      <td>0.38</td>\n      <td>0.50</td>\n      <td>94.6</td>\n      <td>57.2</td>\n      <td>79.0</td>\n      <td>68.2</td>\n      <td>33.0</td>\n      <td>55.9</td>\n      <td>34.0</td>\n      <td>0.56</td>\n      <td>0.407374</td>\n      <td>0.409261</td>\n      <td>31.881847</td>\n    </tr>\n    <tr>\n      <th>25482</th>\n      <td>12.5</td>\n      <td>0.25</td>\n      <td>0.25</td>\n      <td>0.50</td>\n      <td>0.50</td>\n      <td>77.4</td>\n      <td>46.8</td>\n      <td>64.7</td>\n      <td>55.8</td>\n      <td>27.0</td>\n      <td>45.8</td>\n      <td>1.0</td>\n      <td>0.10</td>\n      <td>0.579677</td>\n      <td>0.486202</td>\n      <td>40.265408</td>\n    </tr>\n  </tbody>\n</table>\n<p>25483 rows × 16 columns</p>\n</div>"
     },
     "execution_count": 130,
     "metadata": {},
     "output_type": "execute_result"
    }
   ],
   "source": [
    "num_train = len(train)\n",
    "y = all_data['yield'].iloc[:num_train]\n",
    "\n",
    "all_data = all_data.drop('yield' , axis =1)\n",
    "all_data"
   ],
   "metadata": {
    "collapsed": false,
    "pycharm": {
     "name": "#%%\n"
    }
   }
  },
  {
   "cell_type": "code",
   "execution_count": 202,
   "outputs": [
    {
     "data": {
      "text/plain": "       clonesize  honeybee  bumbles  andrena  osmia  MaxOfUpperTRange  \\\nid                                                                      \n0           25.0      0.50     0.25     0.75   0.50              69.7   \n1           25.0      0.50     0.25     0.50   0.50              69.7   \n2           12.5      0.25     0.25     0.63   0.63              86.0   \n3           12.5      0.25     0.25     0.63   0.50              77.4   \n4           25.0      0.50     0.25     0.63   0.63              77.4   \n...          ...       ...      ...      ...    ...               ...   \n25478       25.0      0.25     0.25     0.25   0.25              86.0   \n25479       25.0      0.50     0.25     0.50   0.75              77.4   \n25480       25.0      0.50     0.38     0.50   0.50              77.4   \n25481       12.5      0.25     0.25     0.38   0.50              94.6   \n25482       12.5      0.25     0.25     0.50   0.50              77.4   \n\n       MinOfUpperTRange  AverageOfUpperTRange  MaxOfLowerTRange  \\\nid                                                                \n0                  42.1                  58.2              50.2   \n1                  42.1                  58.2              50.2   \n2                  52.0                  71.9              62.0   \n3                  46.8                  64.7              55.8   \n4                  46.8                  64.7              55.8   \n...                 ...                   ...               ...   \n25478              52.0                  71.9              62.0   \n25479              46.8                  64.7              55.8   \n25480              46.8                  64.7              55.8   \n25481              57.2                  79.0              68.2   \n25482              46.8                  64.7              55.8   \n\n       MinOfLowerTRange  AverageOfLowerTRange  RainingDays  \\\nid                                                           \n0                  24.3                  41.2         24.0   \n1                  24.3                  41.2         24.0   \n2                  30.0                  50.8         24.0   \n3                  27.0                  45.8         24.0   \n4                  27.0                  45.8         24.0   \n...                 ...                   ...          ...   \n25478              30.0                  50.8         24.0   \n25479              27.0                  45.8         16.0   \n25480              27.0                  45.8         16.0   \n25481              33.0                  55.9         34.0   \n25482              27.0                  45.8          1.0   \n\n       AverageRainingDays  fruitset  fruitmass      seeds  \nid                                                         \n0                    0.39  0.425011   0.417545  32.460887  \n1                    0.39  0.444908   0.422051  33.858317  \n2                    0.39  0.552927   0.470853  38.341781  \n3                    0.39  0.565976   0.478137  39.467561  \n4                    0.39  0.579677   0.494165  40.484512  \n...                   ...       ...        ...        ...  \n25478                0.39  0.474162   0.437923  34.525258  \n25479                0.26  0.482854   0.440676  35.648221  \n25480                0.26  0.568854   0.463065  37.724724  \n25481                0.56  0.407374   0.409261  31.881847  \n25482                0.10  0.579677   0.486202  40.265408  \n\n[25483 rows x 16 columns]",
      "text/html": "<div>\n<style scoped>\n    .dataframe tbody tr th:only-of-type {\n        vertical-align: middle;\n    }\n\n    .dataframe tbody tr th {\n        vertical-align: top;\n    }\n\n    .dataframe thead th {\n        text-align: right;\n    }\n</style>\n<table border=\"1\" class=\"dataframe\">\n  <thead>\n    <tr style=\"text-align: right;\">\n      <th></th>\n      <th>clonesize</th>\n      <th>honeybee</th>\n      <th>bumbles</th>\n      <th>andrena</th>\n      <th>osmia</th>\n      <th>MaxOfUpperTRange</th>\n      <th>MinOfUpperTRange</th>\n      <th>AverageOfUpperTRange</th>\n      <th>MaxOfLowerTRange</th>\n      <th>MinOfLowerTRange</th>\n      <th>AverageOfLowerTRange</th>\n      <th>RainingDays</th>\n      <th>AverageRainingDays</th>\n      <th>fruitset</th>\n      <th>fruitmass</th>\n      <th>seeds</th>\n    </tr>\n    <tr>\n      <th>id</th>\n      <th></th>\n      <th></th>\n      <th></th>\n      <th></th>\n      <th></th>\n      <th></th>\n      <th></th>\n      <th></th>\n      <th></th>\n      <th></th>\n      <th></th>\n      <th></th>\n      <th></th>\n      <th></th>\n      <th></th>\n      <th></th>\n    </tr>\n  </thead>\n  <tbody>\n    <tr>\n      <th>0</th>\n      <td>25.0</td>\n      <td>0.50</td>\n      <td>0.25</td>\n      <td>0.75</td>\n      <td>0.50</td>\n      <td>69.7</td>\n      <td>42.1</td>\n      <td>58.2</td>\n      <td>50.2</td>\n      <td>24.3</td>\n      <td>41.2</td>\n      <td>24.0</td>\n      <td>0.39</td>\n      <td>0.425011</td>\n      <td>0.417545</td>\n      <td>32.460887</td>\n    </tr>\n    <tr>\n      <th>1</th>\n      <td>25.0</td>\n      <td>0.50</td>\n      <td>0.25</td>\n      <td>0.50</td>\n      <td>0.50</td>\n      <td>69.7</td>\n      <td>42.1</td>\n      <td>58.2</td>\n      <td>50.2</td>\n      <td>24.3</td>\n      <td>41.2</td>\n      <td>24.0</td>\n      <td>0.39</td>\n      <td>0.444908</td>\n      <td>0.422051</td>\n      <td>33.858317</td>\n    </tr>\n    <tr>\n      <th>2</th>\n      <td>12.5</td>\n      <td>0.25</td>\n      <td>0.25</td>\n      <td>0.63</td>\n      <td>0.63</td>\n      <td>86.0</td>\n      <td>52.0</td>\n      <td>71.9</td>\n      <td>62.0</td>\n      <td>30.0</td>\n      <td>50.8</td>\n      <td>24.0</td>\n      <td>0.39</td>\n      <td>0.552927</td>\n      <td>0.470853</td>\n      <td>38.341781</td>\n    </tr>\n    <tr>\n      <th>3</th>\n      <td>12.5</td>\n      <td>0.25</td>\n      <td>0.25</td>\n      <td>0.63</td>\n      <td>0.50</td>\n      <td>77.4</td>\n      <td>46.8</td>\n      <td>64.7</td>\n      <td>55.8</td>\n      <td>27.0</td>\n      <td>45.8</td>\n      <td>24.0</td>\n      <td>0.39</td>\n      <td>0.565976</td>\n      <td>0.478137</td>\n      <td>39.467561</td>\n    </tr>\n    <tr>\n      <th>4</th>\n      <td>25.0</td>\n      <td>0.50</td>\n      <td>0.25</td>\n      <td>0.63</td>\n      <td>0.63</td>\n      <td>77.4</td>\n      <td>46.8</td>\n      <td>64.7</td>\n      <td>55.8</td>\n      <td>27.0</td>\n      <td>45.8</td>\n      <td>24.0</td>\n      <td>0.39</td>\n      <td>0.579677</td>\n      <td>0.494165</td>\n      <td>40.484512</td>\n    </tr>\n    <tr>\n      <th>...</th>\n      <td>...</td>\n      <td>...</td>\n      <td>...</td>\n      <td>...</td>\n      <td>...</td>\n      <td>...</td>\n      <td>...</td>\n      <td>...</td>\n      <td>...</td>\n      <td>...</td>\n      <td>...</td>\n      <td>...</td>\n      <td>...</td>\n      <td>...</td>\n      <td>...</td>\n      <td>...</td>\n    </tr>\n    <tr>\n      <th>25478</th>\n      <td>25.0</td>\n      <td>0.25</td>\n      <td>0.25</td>\n      <td>0.25</td>\n      <td>0.25</td>\n      <td>86.0</td>\n      <td>52.0</td>\n      <td>71.9</td>\n      <td>62.0</td>\n      <td>30.0</td>\n      <td>50.8</td>\n      <td>24.0</td>\n      <td>0.39</td>\n      <td>0.474162</td>\n      <td>0.437923</td>\n      <td>34.525258</td>\n    </tr>\n    <tr>\n      <th>25479</th>\n      <td>25.0</td>\n      <td>0.50</td>\n      <td>0.25</td>\n      <td>0.50</td>\n      <td>0.75</td>\n      <td>77.4</td>\n      <td>46.8</td>\n      <td>64.7</td>\n      <td>55.8</td>\n      <td>27.0</td>\n      <td>45.8</td>\n      <td>16.0</td>\n      <td>0.26</td>\n      <td>0.482854</td>\n      <td>0.440676</td>\n      <td>35.648221</td>\n    </tr>\n    <tr>\n      <th>25480</th>\n      <td>25.0</td>\n      <td>0.50</td>\n      <td>0.38</td>\n      <td>0.50</td>\n      <td>0.50</td>\n      <td>77.4</td>\n      <td>46.8</td>\n      <td>64.7</td>\n      <td>55.8</td>\n      <td>27.0</td>\n      <td>45.8</td>\n      <td>16.0</td>\n      <td>0.26</td>\n      <td>0.568854</td>\n      <td>0.463065</td>\n      <td>37.724724</td>\n    </tr>\n    <tr>\n      <th>25481</th>\n      <td>12.5</td>\n      <td>0.25</td>\n      <td>0.25</td>\n      <td>0.38</td>\n      <td>0.50</td>\n      <td>94.6</td>\n      <td>57.2</td>\n      <td>79.0</td>\n      <td>68.2</td>\n      <td>33.0</td>\n      <td>55.9</td>\n      <td>34.0</td>\n      <td>0.56</td>\n      <td>0.407374</td>\n      <td>0.409261</td>\n      <td>31.881847</td>\n    </tr>\n    <tr>\n      <th>25482</th>\n      <td>12.5</td>\n      <td>0.25</td>\n      <td>0.25</td>\n      <td>0.50</td>\n      <td>0.50</td>\n      <td>77.4</td>\n      <td>46.8</td>\n      <td>64.7</td>\n      <td>55.8</td>\n      <td>27.0</td>\n      <td>45.8</td>\n      <td>1.0</td>\n      <td>0.10</td>\n      <td>0.579677</td>\n      <td>0.486202</td>\n      <td>40.265408</td>\n    </tr>\n  </tbody>\n</table>\n<p>25483 rows × 16 columns</p>\n</div>"
     },
     "execution_count": 202,
     "metadata": {},
     "output_type": "execute_result"
    }
   ],
   "source": [
    "# all_data_pca = all_data.iloc[:num_train]\n",
    "all_data_pca = all_data.iloc[:,:-2]\n",
    "all_data_pca"
   ],
   "metadata": {
    "collapsed": false,
    "pycharm": {
     "name": "#%%\n"
    }
   }
  },
  {
   "cell_type": "code",
   "execution_count": 206,
   "outputs": [
    {
     "data": {
      "text/plain": "       clonesize  honeybee  bumbles  andrena  osmia  fruitset  fruitmass  \\\nid                                                                         \n0           25.0      0.50     0.25     0.75   0.50  0.425011   0.417545   \n1           25.0      0.50     0.25     0.50   0.50  0.444908   0.422051   \n2           12.5      0.25     0.25     0.63   0.63  0.552927   0.470853   \n3           12.5      0.25     0.25     0.63   0.50  0.565976   0.478137   \n4           25.0      0.50     0.25     0.63   0.63  0.579677   0.494165   \n...          ...       ...      ...      ...    ...       ...        ...   \n25478       25.0      0.25     0.25     0.25   0.25  0.474162   0.437923   \n25479       25.0      0.50     0.25     0.50   0.75  0.482854   0.440676   \n25480       25.0      0.50     0.38     0.50   0.50  0.568854   0.463065   \n25481       12.5      0.25     0.25     0.38   0.50  0.407374   0.409261   \n25482       12.5      0.25     0.25     0.50   0.50  0.579677   0.486202   \n\n           seeds  \nid                \n0      32.460887  \n1      33.858317  \n2      38.341781  \n3      39.467561  \n4      40.484512  \n...          ...  \n25478  34.525258  \n25479  35.648221  \n25480  37.724724  \n25481  31.881847  \n25482  40.265408  \n\n[25483 rows x 8 columns]",
      "text/html": "<div>\n<style scoped>\n    .dataframe tbody tr th:only-of-type {\n        vertical-align: middle;\n    }\n\n    .dataframe tbody tr th {\n        vertical-align: top;\n    }\n\n    .dataframe thead th {\n        text-align: right;\n    }\n</style>\n<table border=\"1\" class=\"dataframe\">\n  <thead>\n    <tr style=\"text-align: right;\">\n      <th></th>\n      <th>clonesize</th>\n      <th>honeybee</th>\n      <th>bumbles</th>\n      <th>andrena</th>\n      <th>osmia</th>\n      <th>fruitset</th>\n      <th>fruitmass</th>\n      <th>seeds</th>\n    </tr>\n    <tr>\n      <th>id</th>\n      <th></th>\n      <th></th>\n      <th></th>\n      <th></th>\n      <th></th>\n      <th></th>\n      <th></th>\n      <th></th>\n    </tr>\n  </thead>\n  <tbody>\n    <tr>\n      <th>0</th>\n      <td>25.0</td>\n      <td>0.50</td>\n      <td>0.25</td>\n      <td>0.75</td>\n      <td>0.50</td>\n      <td>0.425011</td>\n      <td>0.417545</td>\n      <td>32.460887</td>\n    </tr>\n    <tr>\n      <th>1</th>\n      <td>25.0</td>\n      <td>0.50</td>\n      <td>0.25</td>\n      <td>0.50</td>\n      <td>0.50</td>\n      <td>0.444908</td>\n      <td>0.422051</td>\n      <td>33.858317</td>\n    </tr>\n    <tr>\n      <th>2</th>\n      <td>12.5</td>\n      <td>0.25</td>\n      <td>0.25</td>\n      <td>0.63</td>\n      <td>0.63</td>\n      <td>0.552927</td>\n      <td>0.470853</td>\n      <td>38.341781</td>\n    </tr>\n    <tr>\n      <th>3</th>\n      <td>12.5</td>\n      <td>0.25</td>\n      <td>0.25</td>\n      <td>0.63</td>\n      <td>0.50</td>\n      <td>0.565976</td>\n      <td>0.478137</td>\n      <td>39.467561</td>\n    </tr>\n    <tr>\n      <th>4</th>\n      <td>25.0</td>\n      <td>0.50</td>\n      <td>0.25</td>\n      <td>0.63</td>\n      <td>0.63</td>\n      <td>0.579677</td>\n      <td>0.494165</td>\n      <td>40.484512</td>\n    </tr>\n    <tr>\n      <th>...</th>\n      <td>...</td>\n      <td>...</td>\n      <td>...</td>\n      <td>...</td>\n      <td>...</td>\n      <td>...</td>\n      <td>...</td>\n      <td>...</td>\n    </tr>\n    <tr>\n      <th>25478</th>\n      <td>25.0</td>\n      <td>0.25</td>\n      <td>0.25</td>\n      <td>0.25</td>\n      <td>0.25</td>\n      <td>0.474162</td>\n      <td>0.437923</td>\n      <td>34.525258</td>\n    </tr>\n    <tr>\n      <th>25479</th>\n      <td>25.0</td>\n      <td>0.50</td>\n      <td>0.25</td>\n      <td>0.50</td>\n      <td>0.75</td>\n      <td>0.482854</td>\n      <td>0.440676</td>\n      <td>35.648221</td>\n    </tr>\n    <tr>\n      <th>25480</th>\n      <td>25.0</td>\n      <td>0.50</td>\n      <td>0.38</td>\n      <td>0.50</td>\n      <td>0.50</td>\n      <td>0.568854</td>\n      <td>0.463065</td>\n      <td>37.724724</td>\n    </tr>\n    <tr>\n      <th>25481</th>\n      <td>12.5</td>\n      <td>0.25</td>\n      <td>0.25</td>\n      <td>0.38</td>\n      <td>0.50</td>\n      <td>0.407374</td>\n      <td>0.409261</td>\n      <td>31.881847</td>\n    </tr>\n    <tr>\n      <th>25482</th>\n      <td>12.5</td>\n      <td>0.25</td>\n      <td>0.25</td>\n      <td>0.50</td>\n      <td>0.50</td>\n      <td>0.579677</td>\n      <td>0.486202</td>\n      <td>40.265408</td>\n    </tr>\n  </tbody>\n</table>\n<p>25483 rows × 8 columns</p>\n</div>"
     },
     "execution_count": 206,
     "metadata": {},
     "output_type": "execute_result"
    }
   ],
   "source": [
    "from sklearn.decomposition import PCA\n",
    "\n",
    "# 변수 간의 상관관계 행렬 계산\n",
    "corr_matrix = all_data_pca.corr()\n",
    "threshold = 0.99 # 상관관계의 임계값 설정\n",
    "high_corr_vars = corr_matrix[abs(corr_matrix) >= threshold].stack().index\n",
    "high_corr_vars = [var[0] for var in high_corr_vars if var[0] != var[1]]\n",
    "# 상관관계 행렬을 기반으로 PCA 수행\n",
    "pca = PCA(n_components=1)\n",
    "pca.fit(corr_matrix)\n",
    "\n",
    "# 주성분 변환 적용\n",
    "transformed_data = pca.transform(all_data_pca)\n",
    "\n",
    "# 변환된 데이터로 업데이트\n",
    "all_data['PCA_Component'] = transformed_data\n",
    "\n",
    "# 상관관계가 높은 변수들을 제외한 업데이트된 데이터\n",
    "selected_vars = [col for col in all_data_pca.columns if col not in high_corr_vars]\n",
    "updated_data = all_data_pca[selected_vars]\n",
    "updated_data"
   ],
   "metadata": {
    "collapsed": false,
    "pycharm": {
     "name": "#%%\n"
    }
   }
  },
  {
   "cell_type": "code",
   "execution_count": 131,
   "outputs": [
    {
     "data": {
      "text/plain": "       clonesize_Category  honeybee_Category  bumbles_Category  \\\nid                                                               \n0                       1                  1                 0   \n1                       1                  1                 0   \n2                       0                  0                 0   \n3                       0                  0                 0   \n4                       1                  1                 0   \n...                   ...                ...               ...   \n25478                   1                  0                 0   \n25479                   1                  1                 0   \n25480                   1                  1                 1   \n25481                   0                  0                 0   \n25482                   0                  0                 0   \n\n       andrena_Category  osmia_Category  MaxOfUpperTRange_Category  \\\nid                                                                   \n0                     3               0                          0   \n1                     1               0                          0   \n2                     2               1                          1   \n3                     2               0                          0   \n4                     2               1                          0   \n...                 ...             ...                        ...   \n25478                 0               0                          1   \n25479                 1               2                          0   \n25480                 1               0                          0   \n25481                 0               0                          2   \n25482                 1               0                          0   \n\n       MinOfUpperTRange_Category  AverageOfUpperTRange_Category  \\\nid                                                                \n0                              0                              0   \n1                              0                              0   \n2                              2                              1   \n3                              1                              0   \n4                              1                              0   \n...                          ...                            ...   \n25478                          2                              1   \n25479                          1                              0   \n25480                          1                              0   \n25481                          3                              2   \n25482                          1                              0   \n\n       MaxOfLowerTRange_Category  MinOfLowerTRange_Category  \\\nid                                                            \n0                              0                          0   \n1                              0                          0   \n2                              1                          1   \n3                              0                          0   \n4                              0                          0   \n...                          ...                        ...   \n25478                          1                          1   \n25479                          0                          0   \n25480                          0                          0   \n25481                          2                          2   \n25482                          0                          0   \n\n       AverageOfLowerTRange_Category  RainingDays_Category  \\\nid                                                           \n0                                  0                     1   \n1                                  0                     1   \n2                                  1                     1   \n3                                  0                     1   \n4                                  0                     1   \n...                              ...                   ...   \n25478                              1                     1   \n25479                              0                     0   \n25480                              0                     0   \n25481                              2                     2   \n25482                              0                     0   \n\n       AverageRainingDays_Category  \nid                                  \n0                                2  \n1                                2  \n2                                2  \n3                                2  \n4                                2  \n...                            ...  \n25478                            2  \n25479                            1  \n25480                            1  \n25481                            3  \n25482                            0  \n\n[25483 rows x 13 columns]",
      "text/html": "<div>\n<style scoped>\n    .dataframe tbody tr th:only-of-type {\n        vertical-align: middle;\n    }\n\n    .dataframe tbody tr th {\n        vertical-align: top;\n    }\n\n    .dataframe thead th {\n        text-align: right;\n    }\n</style>\n<table border=\"1\" class=\"dataframe\">\n  <thead>\n    <tr style=\"text-align: right;\">\n      <th></th>\n      <th>clonesize_Category</th>\n      <th>honeybee_Category</th>\n      <th>bumbles_Category</th>\n      <th>andrena_Category</th>\n      <th>osmia_Category</th>\n      <th>MaxOfUpperTRange_Category</th>\n      <th>MinOfUpperTRange_Category</th>\n      <th>AverageOfUpperTRange_Category</th>\n      <th>MaxOfLowerTRange_Category</th>\n      <th>MinOfLowerTRange_Category</th>\n      <th>AverageOfLowerTRange_Category</th>\n      <th>RainingDays_Category</th>\n      <th>AverageRainingDays_Category</th>\n    </tr>\n    <tr>\n      <th>id</th>\n      <th></th>\n      <th></th>\n      <th></th>\n      <th></th>\n      <th></th>\n      <th></th>\n      <th></th>\n      <th></th>\n      <th></th>\n      <th></th>\n      <th></th>\n      <th></th>\n      <th></th>\n    </tr>\n  </thead>\n  <tbody>\n    <tr>\n      <th>0</th>\n      <td>1</td>\n      <td>1</td>\n      <td>0</td>\n      <td>3</td>\n      <td>0</td>\n      <td>0</td>\n      <td>0</td>\n      <td>0</td>\n      <td>0</td>\n      <td>0</td>\n      <td>0</td>\n      <td>1</td>\n      <td>2</td>\n    </tr>\n    <tr>\n      <th>1</th>\n      <td>1</td>\n      <td>1</td>\n      <td>0</td>\n      <td>1</td>\n      <td>0</td>\n      <td>0</td>\n      <td>0</td>\n      <td>0</td>\n      <td>0</td>\n      <td>0</td>\n      <td>0</td>\n      <td>1</td>\n      <td>2</td>\n    </tr>\n    <tr>\n      <th>2</th>\n      <td>0</td>\n      <td>0</td>\n      <td>0</td>\n      <td>2</td>\n      <td>1</td>\n      <td>1</td>\n      <td>2</td>\n      <td>1</td>\n      <td>1</td>\n      <td>1</td>\n      <td>1</td>\n      <td>1</td>\n      <td>2</td>\n    </tr>\n    <tr>\n      <th>3</th>\n      <td>0</td>\n      <td>0</td>\n      <td>0</td>\n      <td>2</td>\n      <td>0</td>\n      <td>0</td>\n      <td>1</td>\n      <td>0</td>\n      <td>0</td>\n      <td>0</td>\n      <td>0</td>\n      <td>1</td>\n      <td>2</td>\n    </tr>\n    <tr>\n      <th>4</th>\n      <td>1</td>\n      <td>1</td>\n      <td>0</td>\n      <td>2</td>\n      <td>1</td>\n      <td>0</td>\n      <td>1</td>\n      <td>0</td>\n      <td>0</td>\n      <td>0</td>\n      <td>0</td>\n      <td>1</td>\n      <td>2</td>\n    </tr>\n    <tr>\n      <th>...</th>\n      <td>...</td>\n      <td>...</td>\n      <td>...</td>\n      <td>...</td>\n      <td>...</td>\n      <td>...</td>\n      <td>...</td>\n      <td>...</td>\n      <td>...</td>\n      <td>...</td>\n      <td>...</td>\n      <td>...</td>\n      <td>...</td>\n    </tr>\n    <tr>\n      <th>25478</th>\n      <td>1</td>\n      <td>0</td>\n      <td>0</td>\n      <td>0</td>\n      <td>0</td>\n      <td>1</td>\n      <td>2</td>\n      <td>1</td>\n      <td>1</td>\n      <td>1</td>\n      <td>1</td>\n      <td>1</td>\n      <td>2</td>\n    </tr>\n    <tr>\n      <th>25479</th>\n      <td>1</td>\n      <td>1</td>\n      <td>0</td>\n      <td>1</td>\n      <td>2</td>\n      <td>0</td>\n      <td>1</td>\n      <td>0</td>\n      <td>0</td>\n      <td>0</td>\n      <td>0</td>\n      <td>0</td>\n      <td>1</td>\n    </tr>\n    <tr>\n      <th>25480</th>\n      <td>1</td>\n      <td>1</td>\n      <td>1</td>\n      <td>1</td>\n      <td>0</td>\n      <td>0</td>\n      <td>1</td>\n      <td>0</td>\n      <td>0</td>\n      <td>0</td>\n      <td>0</td>\n      <td>0</td>\n      <td>1</td>\n    </tr>\n    <tr>\n      <th>25481</th>\n      <td>0</td>\n      <td>0</td>\n      <td>0</td>\n      <td>0</td>\n      <td>0</td>\n      <td>2</td>\n      <td>3</td>\n      <td>2</td>\n      <td>2</td>\n      <td>2</td>\n      <td>2</td>\n      <td>2</td>\n      <td>3</td>\n    </tr>\n    <tr>\n      <th>25482</th>\n      <td>0</td>\n      <td>0</td>\n      <td>0</td>\n      <td>1</td>\n      <td>0</td>\n      <td>0</td>\n      <td>1</td>\n      <td>0</td>\n      <td>0</td>\n      <td>0</td>\n      <td>0</td>\n      <td>0</td>\n      <td>0</td>\n    </tr>\n  </tbody>\n</table>\n<p>25483 rows × 13 columns</p>\n</div>"
     },
     "execution_count": 131,
     "metadata": {},
     "output_type": "execute_result"
    }
   ],
   "source": [
    "import pandas as pd\n",
    "\n",
    "# 마지막 3개의 열을 제외한 열 선택\n",
    "selected_columns = all_data.columns[:-3]\n",
    "all_data_2 = pd.DataFrame()\n",
    "# 각 열에 대해 qcut을 사용하여 5개의 범주로 나누기 (중복된 경계값 제거)\n",
    "for column in selected_columns:\n",
    "    all_data_2[column + '_Category'] = pd.qcut(all_data[column], q=5, labels=False, duplicates='drop')\n",
    "\n",
    "all_data_2"
   ],
   "metadata": {
    "collapsed": false,
    "pycharm": {
     "name": "#%%\n"
    }
   }
  },
  {
   "cell_type": "code",
   "execution_count": 169,
   "outputs": [
    {
     "data": {
      "text/plain": "clonesize_Category  honeybee_Category  bumbles_Category  andrena_Category  osmia_Category  MaxOfUpperTRange_Category  MinOfUpperTRange_Category  AverageOfUpperTRange_Category  MaxOfLowerTRange_Category  MinOfLowerTRange_Category  AverageOfLowerTRange_Category  RainingDays_Category  AverageRainingDays_Category  fruitset  fruitmass  seeds    \n1                   0                  0                 0                 0               2                          3                          2                              2                          2                          2                              2                     3                            0.315500  0.367763   27.401755    3\n0                   0                  0                 0                 0               0                          1                          0                              0                          0                          0                              0                     0                            0.613333  0.504057   42.407662    3\n1                   1                  0                 1                 0               0                          0                          0                              0                          0                          0                              2                     3                            0.334220  0.377888   28.284095    2\n                                       1                 1                 0               0                          1                          0                              0                          0                          0                              1                     2                            0.523801  0.460369   37.209554    2\n2                   2                  0                 0                 0               0                          1                          0                              0                          0                          0                              2                     3                            0.284443  0.352186   26.101179    2\n                                                                                                                                                                                                                                                                                                                                                         ..\n0                   0                  0                 3                 2               2                          3                          2                              2                          2                          2                              0                     1                            0.584016  0.492642   40.655498    1\n                                                                                                                                                                                                                                                                                                                                  0.485990   40.265408    1\n                                                                                                                                                                                                                                                                                                                        0.577202  0.483356   40.274419    1\n                                                                                                                                                                                                                                                                                                                        0.575902  0.484308   39.413821    1\n2                   2                  1                 1                 2               1                          2                          1                              1                          1                          1                              2                     3                            0.483249  0.445494   35.487008    1\nLength: 25430, dtype: int64"
     },
     "execution_count": 169,
     "metadata": {},
     "output_type": "execute_result"
    }
   ],
   "source": [
    "all_data_2.value_counts()"
   ],
   "metadata": {
    "collapsed": false,
    "pycharm": {
     "name": "#%%\n"
    }
   }
  },
  {
   "cell_type": "code",
   "execution_count": 132,
   "outputs": [
    {
     "data": {
      "text/plain": "       clonesize_Category  honeybee_Category  bumbles_Category  \\\nid                                                               \n0                       1                  1                 0   \n1                       1                  1                 0   \n2                       0                  0                 0   \n3                       0                  0                 0   \n4                       1                  1                 0   \n...                   ...                ...               ...   \n25478                   1                  0                 0   \n25479                   1                  1                 0   \n25480                   1                  1                 1   \n25481                   0                  0                 0   \n25482                   0                  0                 0   \n\n       andrena_Category  osmia_Category  MaxOfUpperTRange_Category  \\\nid                                                                   \n0                     3               0                          0   \n1                     1               0                          0   \n2                     2               1                          1   \n3                     2               0                          0   \n4                     2               1                          0   \n...                 ...             ...                        ...   \n25478                 0               0                          1   \n25479                 1               2                          0   \n25480                 1               0                          0   \n25481                 0               0                          2   \n25482                 1               0                          0   \n\n       MinOfUpperTRange_Category  AverageOfUpperTRange_Category  \\\nid                                                                \n0                              0                              0   \n1                              0                              0   \n2                              2                              1   \n3                              1                              0   \n4                              1                              0   \n...                          ...                            ...   \n25478                          2                              1   \n25479                          1                              0   \n25480                          1                              0   \n25481                          3                              2   \n25482                          1                              0   \n\n       MaxOfLowerTRange_Category  MinOfLowerTRange_Category  \\\nid                                                            \n0                              0                          0   \n1                              0                          0   \n2                              1                          1   \n3                              0                          0   \n4                              0                          0   \n...                          ...                        ...   \n25478                          1                          1   \n25479                          0                          0   \n25480                          0                          0   \n25481                          2                          2   \n25482                          0                          0   \n\n       AverageOfLowerTRange_Category  RainingDays_Category  \\\nid                                                           \n0                                  0                     1   \n1                                  0                     1   \n2                                  1                     1   \n3                                  0                     1   \n4                                  0                     1   \n...                              ...                   ...   \n25478                              1                     1   \n25479                              0                     0   \n25480                              0                     0   \n25481                              2                     2   \n25482                              0                     0   \n\n       AverageRainingDays_Category  fruitset  fruitmass      seeds  \nid                                                                  \n0                                2  0.425011   0.417545  32.460887  \n1                                2  0.444908   0.422051  33.858317  \n2                                2  0.552927   0.470853  38.341781  \n3                                2  0.565976   0.478137  39.467561  \n4                                2  0.579677   0.494165  40.484512  \n...                            ...       ...        ...        ...  \n25478                            2  0.474162   0.437923  34.525258  \n25479                            1  0.482854   0.440676  35.648221  \n25480                            1  0.568854   0.463065  37.724724  \n25481                            3  0.407374   0.409261  31.881847  \n25482                            0  0.579677   0.486202  40.265408  \n\n[25483 rows x 16 columns]",
      "text/html": "<div>\n<style scoped>\n    .dataframe tbody tr th:only-of-type {\n        vertical-align: middle;\n    }\n\n    .dataframe tbody tr th {\n        vertical-align: top;\n    }\n\n    .dataframe thead th {\n        text-align: right;\n    }\n</style>\n<table border=\"1\" class=\"dataframe\">\n  <thead>\n    <tr style=\"text-align: right;\">\n      <th></th>\n      <th>clonesize_Category</th>\n      <th>honeybee_Category</th>\n      <th>bumbles_Category</th>\n      <th>andrena_Category</th>\n      <th>osmia_Category</th>\n      <th>MaxOfUpperTRange_Category</th>\n      <th>MinOfUpperTRange_Category</th>\n      <th>AverageOfUpperTRange_Category</th>\n      <th>MaxOfLowerTRange_Category</th>\n      <th>MinOfLowerTRange_Category</th>\n      <th>AverageOfLowerTRange_Category</th>\n      <th>RainingDays_Category</th>\n      <th>AverageRainingDays_Category</th>\n      <th>fruitset</th>\n      <th>fruitmass</th>\n      <th>seeds</th>\n    </tr>\n    <tr>\n      <th>id</th>\n      <th></th>\n      <th></th>\n      <th></th>\n      <th></th>\n      <th></th>\n      <th></th>\n      <th></th>\n      <th></th>\n      <th></th>\n      <th></th>\n      <th></th>\n      <th></th>\n      <th></th>\n      <th></th>\n      <th></th>\n      <th></th>\n    </tr>\n  </thead>\n  <tbody>\n    <tr>\n      <th>0</th>\n      <td>1</td>\n      <td>1</td>\n      <td>0</td>\n      <td>3</td>\n      <td>0</td>\n      <td>0</td>\n      <td>0</td>\n      <td>0</td>\n      <td>0</td>\n      <td>0</td>\n      <td>0</td>\n      <td>1</td>\n      <td>2</td>\n      <td>0.425011</td>\n      <td>0.417545</td>\n      <td>32.460887</td>\n    </tr>\n    <tr>\n      <th>1</th>\n      <td>1</td>\n      <td>1</td>\n      <td>0</td>\n      <td>1</td>\n      <td>0</td>\n      <td>0</td>\n      <td>0</td>\n      <td>0</td>\n      <td>0</td>\n      <td>0</td>\n      <td>0</td>\n      <td>1</td>\n      <td>2</td>\n      <td>0.444908</td>\n      <td>0.422051</td>\n      <td>33.858317</td>\n    </tr>\n    <tr>\n      <th>2</th>\n      <td>0</td>\n      <td>0</td>\n      <td>0</td>\n      <td>2</td>\n      <td>1</td>\n      <td>1</td>\n      <td>2</td>\n      <td>1</td>\n      <td>1</td>\n      <td>1</td>\n      <td>1</td>\n      <td>1</td>\n      <td>2</td>\n      <td>0.552927</td>\n      <td>0.470853</td>\n      <td>38.341781</td>\n    </tr>\n    <tr>\n      <th>3</th>\n      <td>0</td>\n      <td>0</td>\n      <td>0</td>\n      <td>2</td>\n      <td>0</td>\n      <td>0</td>\n      <td>1</td>\n      <td>0</td>\n      <td>0</td>\n      <td>0</td>\n      <td>0</td>\n      <td>1</td>\n      <td>2</td>\n      <td>0.565976</td>\n      <td>0.478137</td>\n      <td>39.467561</td>\n    </tr>\n    <tr>\n      <th>4</th>\n      <td>1</td>\n      <td>1</td>\n      <td>0</td>\n      <td>2</td>\n      <td>1</td>\n      <td>0</td>\n      <td>1</td>\n      <td>0</td>\n      <td>0</td>\n      <td>0</td>\n      <td>0</td>\n      <td>1</td>\n      <td>2</td>\n      <td>0.579677</td>\n      <td>0.494165</td>\n      <td>40.484512</td>\n    </tr>\n    <tr>\n      <th>...</th>\n      <td>...</td>\n      <td>...</td>\n      <td>...</td>\n      <td>...</td>\n      <td>...</td>\n      <td>...</td>\n      <td>...</td>\n      <td>...</td>\n      <td>...</td>\n      <td>...</td>\n      <td>...</td>\n      <td>...</td>\n      <td>...</td>\n      <td>...</td>\n      <td>...</td>\n      <td>...</td>\n    </tr>\n    <tr>\n      <th>25478</th>\n      <td>1</td>\n      <td>0</td>\n      <td>0</td>\n      <td>0</td>\n      <td>0</td>\n      <td>1</td>\n      <td>2</td>\n      <td>1</td>\n      <td>1</td>\n      <td>1</td>\n      <td>1</td>\n      <td>1</td>\n      <td>2</td>\n      <td>0.474162</td>\n      <td>0.437923</td>\n      <td>34.525258</td>\n    </tr>\n    <tr>\n      <th>25479</th>\n      <td>1</td>\n      <td>1</td>\n      <td>0</td>\n      <td>1</td>\n      <td>2</td>\n      <td>0</td>\n      <td>1</td>\n      <td>0</td>\n      <td>0</td>\n      <td>0</td>\n      <td>0</td>\n      <td>0</td>\n      <td>1</td>\n      <td>0.482854</td>\n      <td>0.440676</td>\n      <td>35.648221</td>\n    </tr>\n    <tr>\n      <th>25480</th>\n      <td>1</td>\n      <td>1</td>\n      <td>1</td>\n      <td>1</td>\n      <td>0</td>\n      <td>0</td>\n      <td>1</td>\n      <td>0</td>\n      <td>0</td>\n      <td>0</td>\n      <td>0</td>\n      <td>0</td>\n      <td>1</td>\n      <td>0.568854</td>\n      <td>0.463065</td>\n      <td>37.724724</td>\n    </tr>\n    <tr>\n      <th>25481</th>\n      <td>0</td>\n      <td>0</td>\n      <td>0</td>\n      <td>0</td>\n      <td>0</td>\n      <td>2</td>\n      <td>3</td>\n      <td>2</td>\n      <td>2</td>\n      <td>2</td>\n      <td>2</td>\n      <td>2</td>\n      <td>3</td>\n      <td>0.407374</td>\n      <td>0.409261</td>\n      <td>31.881847</td>\n    </tr>\n    <tr>\n      <th>25482</th>\n      <td>0</td>\n      <td>0</td>\n      <td>0</td>\n      <td>1</td>\n      <td>0</td>\n      <td>0</td>\n      <td>1</td>\n      <td>0</td>\n      <td>0</td>\n      <td>0</td>\n      <td>0</td>\n      <td>0</td>\n      <td>0</td>\n      <td>0.579677</td>\n      <td>0.486202</td>\n      <td>40.265408</td>\n    </tr>\n  </tbody>\n</table>\n<p>25483 rows × 16 columns</p>\n</div>"
     },
     "execution_count": 132,
     "metadata": {},
     "output_type": "execute_result"
    }
   ],
   "source": [
    "import pandas as pd\n",
    "\n",
    "# 'all_data'의 마지막 3개 열 선택\n",
    "last_3_columns = all_data.iloc[:, -3:]\n",
    "\n",
    "# 'all_data_2'와 'last_3_columns' 합치기\n",
    "all_data_2 = pd.concat([all_data_2, last_3_columns], axis=1)\n",
    "\n",
    "all_data_2"
   ],
   "metadata": {
    "collapsed": false,
    "pycharm": {
     "name": "#%%\n"
    }
   }
  },
  {
   "cell_type": "code",
   "execution_count": 133,
   "outputs": [
    {
     "data": {
      "text/plain": "['clonesize_Category',\n 'honeybee_Category',\n 'bumbles_Category',\n 'andrena_Category',\n 'osmia_Category',\n 'MaxOfUpperTRange_Category',\n 'MinOfUpperTRange_Category',\n 'AverageOfUpperTRange_Category',\n 'MaxOfLowerTRange_Category',\n 'MinOfLowerTRange_Category',\n 'AverageOfLowerTRange_Category',\n 'RainingDays_Category',\n 'AverageRainingDays_Category',\n 'fruitset',\n 'fruitmass',\n 'seeds']"
     },
     "execution_count": 133,
     "metadata": {},
     "output_type": "execute_result"
    }
   ],
   "source": [
    "all_data_2.columns.to_list()"
   ],
   "metadata": {
    "collapsed": false,
    "pycharm": {
     "name": "#%%\n"
    }
   }
  },
  {
   "cell_type": "code",
   "execution_count": 134,
   "outputs": [],
   "source": [
    "# import matplotlib.pyplot as plt\n",
    "# import seaborn as sns\n",
    "#\n",
    "# # 서브플롯을 생성할 크기 설정\n",
    "# plt.figure(figsize=(12, 8))\n",
    "#\n",
    "# # 피처들의 리스트\n",
    "# features = features2\n",
    "#\n",
    "# # 피처들에 대한 countplot 그리기\n",
    "# for i, feature in enumerate(features):\n",
    "#     plt.subplot(3, 2, i+1)\n",
    "#     sns.countplot(x=feature, hue='yield', data=all_data)\n",
    "#     plt.title(f'{feature} - yield Countplot')\n",
    "#\n",
    "# # 레이아웃 조정\n",
    "# plt.tight_layout()\n",
    "#\n",
    "# # 그래프 출력\n",
    "# plt.show()"
   ],
   "metadata": {
    "collapsed": false,
    "pycharm": {
     "name": "#%%\n"
    }
   }
  },
  {
   "cell_type": "code",
   "execution_count": 134,
   "outputs": [],
   "source": [],
   "metadata": {
    "collapsed": false,
    "pycharm": {
     "name": "#%%\n"
    }
   }
  },
  {
   "cell_type": "code",
   "execution_count": 134,
   "outputs": [],
   "source": [],
   "metadata": {
    "collapsed": false,
    "pycharm": {
     "name": "#%%\n"
    }
   }
  },
  {
   "cell_type": "code",
   "execution_count": 134,
   "outputs": [],
   "source": [],
   "metadata": {
    "collapsed": false,
    "pycharm": {
     "name": "#%%\n"
    }
   }
  },
  {
   "cell_type": "code",
   "execution_count": 134,
   "outputs": [],
   "source": [],
   "metadata": {
    "collapsed": false,
    "pycharm": {
     "name": "#%%\n"
    }
   }
  },
  {
   "cell_type": "code",
   "execution_count": 134,
   "outputs": [],
   "source": [],
   "metadata": {
    "collapsed": false,
    "pycharm": {
     "name": "#%%\n"
    }
   }
  },
  {
   "cell_type": "code",
   "execution_count": 134,
   "outputs": [],
   "source": [],
   "metadata": {
    "collapsed": false,
    "pycharm": {
     "name": "#%%\n"
    }
   }
  },
  {
   "cell_type": "code",
   "execution_count": 134,
   "outputs": [],
   "source": [],
   "metadata": {
    "collapsed": false,
    "pycharm": {
     "name": "#%%\n"
    }
   }
  },
  {
   "cell_type": "code",
   "execution_count": 135,
   "outputs": [],
   "source": [
    "features2 = ['clonesize',\n",
    "                  'honeybee',\n",
    "                  'bumbles',\n",
    "                  'andrena',\n",
    "                  'osmia',\n",
    "                  'MaxOfUpperTRange']"
   ],
   "metadata": {
    "collapsed": false,
    "pycharm": {
     "name": "#%%\n"
    }
   }
  },
  {
   "cell_type": "code",
   "execution_count": 136,
   "outputs": [],
   "source": [
    "# import seaborn as sns\n",
    "# from scipy.stats import norm\n",
    "# import matplotlib.pyplot as plt\n",
    "#\n",
    "#\n",
    "# for i, feature in enumerate(features):\n",
    "#     plt.subplot(4, 4, i+1)\n",
    "# # 히스토그램과 정규분포 곡선 그리기\n",
    "#     sns.histplot(all_data[features[i]], kde=True, stat='density', color='skyblue', alpha=0.7)\n",
    "#     mu, std = norm.fit(all_data['Age'].dropna())\n",
    "#     xmin, xmax = plt.xlim()\n",
    "#     x = np.linspace(xmin, xmax, 100)\n",
    "#     p = norm.pdf(x, mu, std)\n",
    "#     plt.plot(x, p, 'r', linewidth=2)\n",
    "#     plt.title(f'Features distribution (mu={mu:.2f}, std={std:.2f})')\n",
    "# plt.show()"
   ],
   "metadata": {
    "collapsed": false,
    "pycharm": {
     "name": "#%%\n"
    }
   }
  },
  {
   "cell_type": "code",
   "execution_count": 136,
   "outputs": [],
   "source": [],
   "metadata": {
    "collapsed": false,
    "pycharm": {
     "name": "#%%\n"
    }
   }
  },
  {
   "cell_type": "markdown",
   "source": [
    "## 베이스라인 모델_LightGBM"
   ],
   "metadata": {
    "collapsed": false,
    "pycharm": {
     "name": "#%% md\n"
    }
   }
  },
  {
   "cell_type": "code",
   "execution_count": 137,
   "outputs": [],
   "source": [
    "from sklearn.model_selection import train_test_split\n",
    "#\n",
    "num_train = len(train) # 훈련 데이터 개수\n",
    "\n",
    "# 훈련 데이터와 테스트 데이터 나누기\n",
    "\n",
    "X_train= all_data_2[:num_train] # 0~num_train -1 행\n",
    "X_test = all_data_2[num_train:] # num_train ~ 마지막 행\n",
    "\n",
    "y_train = train['yield'].values\n",
    "\n",
    "\n",
    "# ########################################\n",
    "# # 데이터 분할\n",
    "# num_train = len(train) # 훈련 데이터 개수\n",
    "#\n",
    "# # 훈련 데이터와 테스트 데이터 나누기\n",
    "#\n",
    "# X= all_data_sprs[:num_train] # 0~num_train -1 행\n",
    "# X_test = all_data_sprs[num_train:] # num_train ~ 마지막 행\n",
    "#\n",
    "# y = train['Survived'].values\n",
    "#\n",
    "#\n",
    "# X_train , X_valid , y_train, y_valid = train_test_split(X_train,y_train, test_size = 0.2, random_state=0)\n",
    "y_test = submission['yield'].values"
   ],
   "metadata": {
    "collapsed": false,
    "pycharm": {
     "name": "#%%\n"
    }
   }
  },
  {
   "cell_type": "code",
   "execution_count": 138,
   "outputs": [
    {
     "name": "stdout",
     "output_type": "stream",
     "text": [
      "Best Model (LightGBM): LGBMRegressor(colsample_bytree=0.9, learning_rate=0.05, max_depth=4,\n",
      "              n_estimators=300, reg_alpha=0.2, subsample=0.4)\n",
      "Best Parameters (LightGBM): {'colsample_bytree': 0.9, 'learning_rate': 0.05, 'max_depth': 4, 'n_estimators': 300, 'reg_alpha': 0.2, 'reg_lambda': 0.0, 'subsample': 0.4}\n",
      "Wall time: 2min 25s\n"
     ]
    }
   ],
   "source": [
    "%%time\n",
    "\n",
    "from sklearn.model_selection import GridSearchCV\n",
    "import lightgbm as lgb\n",
    "from sklearn.metrics import accuracy_score\n",
    "\n",
    "# LightGBM 회귀 모델 초기화\n",
    "lgb_model = lgb.LGBMRegressor()\n",
    "\n",
    "# 그리드 서치를 위한 하이퍼파라미터 그리드 준비\n",
    "param_grid_lgb = {\n",
    "    'max_depth': [3, 4],                   # 트리의 최대 깊이\n",
    "    'learning_rate': [0.05 , 0.1],         # 학습률\n",
    "    'n_estimators': [200, 300]  ,          # 트리의 개수\n",
    "    'subsample': [0.4 , 0.5],               # 트리를 학습할 때 사용할 샘플링 비율\n",
    "    'colsample_bytree': [0.9, 1],     # 트리를 학습할 때 사용할 특성의 비율\n",
    "    'reg_alpha': [0.2 , 0.3],               # L1 정규화 항의 가중치\n",
    "    'reg_lambda': [0.0, 0.1]               # L2 정규화 항의 가중치\n",
    "}\n",
    "\n",
    "# 그리드 서치 객체 생성\n",
    "grid_search_lgb = GridSearchCV(lgb_model, param_grid_lgb, cv=10, n_jobs=-1)\n",
    "\n",
    "# 그리드 서치 수행\n",
    "grid_search_lgb.fit(X_train, y_train)\n",
    "\n",
    "# 최적의 모델 및 파라미터 출력\n",
    "best_model_grid_search_lgb = grid_search_lgb.best_estimator_\n",
    "best_params_grid_search_lgb = grid_search_lgb.best_params_\n",
    "print(\"Best Model (LightGBM):\", best_model_grid_search_lgb)\n",
    "print(\"Best Parameters (LightGBM):\", best_params_grid_search_lgb)\n"
   ],
   "metadata": {
    "collapsed": false,
    "pycharm": {
     "name": "#%%\n"
    }
   }
  },
  {
   "cell_type": "code",
   "execution_count": 139,
   "outputs": [
    {
     "data": {
      "text/plain": "array([4286.311, 6244.09 , 7168.847, ..., 6462.5  , 4398.639, 7290.912])"
     },
     "execution_count": 139,
     "metadata": {},
     "output_type": "execute_result"
    }
   ],
   "source": [
    "y_preds = best_model_grid_search_lgb.predict(X_test)\n",
    "\n",
    "y_preds"
   ],
   "metadata": {
    "collapsed": false,
    "pycharm": {
     "name": "#%%\n"
    }
   }
  },
  {
   "cell_type": "code",
   "execution_count": 140,
   "outputs": [],
   "source": [
    "# from sklearn.metrics import mean_absolute_error, r2_score\n",
    "# from skimage.metrics import mean_squared_error\n",
    "#\n",
    "# # 평가 지표 계산\n",
    "# mse = mean_squared_error(y_valid, y_preds)\n",
    "# # rmse = np.sqrt(mse)\n",
    "# # mae = mean_absolute_error(y_valid, y_preds)\n",
    "# # r2 = r2_score(y_valid, y_preds)\n",
    "#\n",
    "# print(\"Mean Squared Error (MSE):\", mse)\n",
    "# # print(\"Root Mean Squared Error (RMSE):\", rmse)\n",
    "# # print(\"Mean Absolute Error (MAE):\", mae)\n",
    "# # print(\"R^2 Score:\", r2)"
   ],
   "metadata": {
    "collapsed": false,
    "pycharm": {
     "name": "#%%\n"
    }
   }
  },
  {
   "cell_type": "code",
   "execution_count": 140,
   "outputs": [],
   "source": [],
   "metadata": {
    "collapsed": false,
    "pycharm": {
     "name": "#%%\n"
    }
   }
  },
  {
   "cell_type": "code",
   "execution_count": 141,
   "outputs": [
    {
     "name": "stdout",
     "output_type": "stream",
     "text": [
      "Decsion Tree에 대한 점수 : 0.841718849638408\n"
     ]
    }
   ],
   "source": [
    "from sklearn.metrics import accuracy_score\n",
    "from sklearn.metrics import accuracy_score, precision_score, recall_score, f1_score, roc_auc_score\n",
    "print(f'Decsion Tree에 대한 점수 : {best_model_grid_search_lgb.score(X_train, y_train)}')\n",
    "\n",
    "# 테스트 데이터에 대한 예측 수행\n",
    "\n",
    "# 정확도 계산\n",
    "# accuracy = accuracy_score(y_test, y_preds)\n",
    "# print(\"Accuracy:\", accuracy)\n",
    "\n",
    "# 정밀도 계산\n",
    "# precision = precision_score(y_test, y_preds)\n",
    "# print(\"Precision:\", precision)\n",
    "\n",
    "# # 재현율 계산\n",
    "# recall = recall_score(y_test, y_preds)\n",
    "# print(\"Recall:\", recall)\n",
    "#\n",
    "# # F1 스코어 계산\n",
    "# f1 = f1_score(y_test, y_preds)\n",
    "# print(\"F1 Score:\", f1)\n",
    "#\n",
    "# # ROC AUC 계산\n",
    "# roc_auc = roc_auc_score(y_test, y_preds)\n",
    "# print(\"ROC AUC Score:\", roc_auc)"
   ],
   "metadata": {
    "collapsed": false,
    "pycharm": {
     "name": "#%%\n"
    }
   }
  },
  {
   "cell_type": "code",
   "execution_count": 142,
   "outputs": [
    {
     "name": "stdout",
     "output_type": "stream",
     "text": [
      "현재 날짜 및 시각 :  [5, 26, 17, 42, 48]\n"
     ]
    }
   ],
   "source": [
    "import datetime\n",
    "\n",
    "# 현재 날짜와 시각 구하기\n",
    "now = datetime.datetime.now()\n",
    "date_list = [now.month, now.day, now.hour, now.minute, now.second]\n",
    "# 현재 날짜와 시각 출력하기\n",
    "print(\"현재 날짜 및 시각 : \", date_list)\n",
    "\n",
    "# 제출 파일 생성\n",
    "\n",
    "submission['yield'] = y_preds\n",
    "submission.to_csv(f'submission_Lgb_{date_list[0]}_{date_list[1]}_{date_list[2]}_{date_list[3]}_{date_list[4]}.csv')"
   ],
   "metadata": {
    "collapsed": false,
    "pycharm": {
     "name": "#%%\n"
    }
   }
  },
  {
   "cell_type": "code",
   "execution_count": 143,
   "outputs": [
    {
     "data": {
      "text/plain": "             yield\nid                \n15289  4286.310867\n15290  6244.089653\n15291  7168.847198\n15292  4684.425263\n15293  3878.210708\n...            ...\n25478  5457.407213\n25479  5710.531641\n25480  6462.499673\n25481  4398.639336\n25482  7290.912384\n\n[10194 rows x 1 columns]",
      "text/html": "<div>\n<style scoped>\n    .dataframe tbody tr th:only-of-type {\n        vertical-align: middle;\n    }\n\n    .dataframe tbody tr th {\n        vertical-align: top;\n    }\n\n    .dataframe thead th {\n        text-align: right;\n    }\n</style>\n<table border=\"1\" class=\"dataframe\">\n  <thead>\n    <tr style=\"text-align: right;\">\n      <th></th>\n      <th>yield</th>\n    </tr>\n    <tr>\n      <th>id</th>\n      <th></th>\n    </tr>\n  </thead>\n  <tbody>\n    <tr>\n      <th>15289</th>\n      <td>4286.310867</td>\n    </tr>\n    <tr>\n      <th>15290</th>\n      <td>6244.089653</td>\n    </tr>\n    <tr>\n      <th>15291</th>\n      <td>7168.847198</td>\n    </tr>\n    <tr>\n      <th>15292</th>\n      <td>4684.425263</td>\n    </tr>\n    <tr>\n      <th>15293</th>\n      <td>3878.210708</td>\n    </tr>\n    <tr>\n      <th>...</th>\n      <td>...</td>\n    </tr>\n    <tr>\n      <th>25478</th>\n      <td>5457.407213</td>\n    </tr>\n    <tr>\n      <th>25479</th>\n      <td>5710.531641</td>\n    </tr>\n    <tr>\n      <th>25480</th>\n      <td>6462.499673</td>\n    </tr>\n    <tr>\n      <th>25481</th>\n      <td>4398.639336</td>\n    </tr>\n    <tr>\n      <th>25482</th>\n      <td>7290.912384</td>\n    </tr>\n  </tbody>\n</table>\n<p>10194 rows × 1 columns</p>\n</div>"
     },
     "execution_count": 143,
     "metadata": {},
     "output_type": "execute_result"
    }
   ],
   "source": [
    "submission"
   ],
   "metadata": {
    "collapsed": false,
    "pycharm": {
     "name": "#%%\n"
    }
   }
  },
  {
   "cell_type": "code",
   "execution_count": 144,
   "outputs": [
    {
     "data": {
      "text/plain": "            yield  clonesize_Category  honeybee_Category  bumbles_Category  \\\nid                                                                           \n0      4476.81146                   1                  1                 0   \n1      5548.12201                   1                  1                 0   \n2      6869.77760                   0                  0                 0   \n3      6880.77590                   0                  0                 0   \n4      7479.93417                   1                  1                 0   \n...           ...                 ...                ...               ...   \n25478         NaN                   1                  0                 0   \n25479         NaN                   1                  1                 0   \n25480         NaN                   1                  1                 1   \n25481         NaN                   0                  0                 0   \n25482         NaN                   0                  0                 0   \n\n       andrena_Category  osmia_Category  MaxOfUpperTRange_Category  \\\nid                                                                   \n0                     3               0                          0   \n1                     1               0                          0   \n2                     2               1                          1   \n3                     2               0                          0   \n4                     2               1                          0   \n...                 ...             ...                        ...   \n25478                 0               0                          1   \n25479                 1               2                          0   \n25480                 1               0                          0   \n25481                 0               0                          2   \n25482                 1               0                          0   \n\n       MinOfUpperTRange_Category  AverageOfUpperTRange_Category  \\\nid                                                                \n0                              0                              0   \n1                              0                              0   \n2                              2                              1   \n3                              1                              0   \n4                              1                              0   \n...                          ...                            ...   \n25478                          2                              1   \n25479                          1                              0   \n25480                          1                              0   \n25481                          3                              2   \n25482                          1                              0   \n\n       MaxOfLowerTRange_Category  MinOfLowerTRange_Category  \\\nid                                                            \n0                              0                          0   \n1                              0                          0   \n2                              1                          1   \n3                              0                          0   \n4                              0                          0   \n...                          ...                        ...   \n25478                          1                          1   \n25479                          0                          0   \n25480                          0                          0   \n25481                          2                          2   \n25482                          0                          0   \n\n       AverageOfLowerTRange_Category  RainingDays_Category  \\\nid                                                           \n0                                  0                     1   \n1                                  0                     1   \n2                                  1                     1   \n3                                  0                     1   \n4                                  0                     1   \n...                              ...                   ...   \n25478                              1                     1   \n25479                              0                     0   \n25480                              0                     0   \n25481                              2                     2   \n25482                              0                     0   \n\n       AverageRainingDays_Category  fruitset  fruitmass      seeds  \nid                                                                  \n0                                2  0.425011   0.417545  32.460887  \n1                                2  0.444908   0.422051  33.858317  \n2                                2  0.552927   0.470853  38.341781  \n3                                2  0.565976   0.478137  39.467561  \n4                                2  0.579677   0.494165  40.484512  \n...                            ...       ...        ...        ...  \n25478                            2  0.474162   0.437923  34.525258  \n25479                            1  0.482854   0.440676  35.648221  \n25480                            1  0.568854   0.463065  37.724724  \n25481                            3  0.407374   0.409261  31.881847  \n25482                            0  0.579677   0.486202  40.265408  \n\n[25483 rows x 17 columns]",
      "text/html": "<div>\n<style scoped>\n    .dataframe tbody tr th:only-of-type {\n        vertical-align: middle;\n    }\n\n    .dataframe tbody tr th {\n        vertical-align: top;\n    }\n\n    .dataframe thead th {\n        text-align: right;\n    }\n</style>\n<table border=\"1\" class=\"dataframe\">\n  <thead>\n    <tr style=\"text-align: right;\">\n      <th></th>\n      <th>yield</th>\n      <th>clonesize_Category</th>\n      <th>honeybee_Category</th>\n      <th>bumbles_Category</th>\n      <th>andrena_Category</th>\n      <th>osmia_Category</th>\n      <th>MaxOfUpperTRange_Category</th>\n      <th>MinOfUpperTRange_Category</th>\n      <th>AverageOfUpperTRange_Category</th>\n      <th>MaxOfLowerTRange_Category</th>\n      <th>MinOfLowerTRange_Category</th>\n      <th>AverageOfLowerTRange_Category</th>\n      <th>RainingDays_Category</th>\n      <th>AverageRainingDays_Category</th>\n      <th>fruitset</th>\n      <th>fruitmass</th>\n      <th>seeds</th>\n    </tr>\n    <tr>\n      <th>id</th>\n      <th></th>\n      <th></th>\n      <th></th>\n      <th></th>\n      <th></th>\n      <th></th>\n      <th></th>\n      <th></th>\n      <th></th>\n      <th></th>\n      <th></th>\n      <th></th>\n      <th></th>\n      <th></th>\n      <th></th>\n      <th></th>\n      <th></th>\n    </tr>\n  </thead>\n  <tbody>\n    <tr>\n      <th>0</th>\n      <td>4476.81146</td>\n      <td>1</td>\n      <td>1</td>\n      <td>0</td>\n      <td>3</td>\n      <td>0</td>\n      <td>0</td>\n      <td>0</td>\n      <td>0</td>\n      <td>0</td>\n      <td>0</td>\n      <td>0</td>\n      <td>1</td>\n      <td>2</td>\n      <td>0.425011</td>\n      <td>0.417545</td>\n      <td>32.460887</td>\n    </tr>\n    <tr>\n      <th>1</th>\n      <td>5548.12201</td>\n      <td>1</td>\n      <td>1</td>\n      <td>0</td>\n      <td>1</td>\n      <td>0</td>\n      <td>0</td>\n      <td>0</td>\n      <td>0</td>\n      <td>0</td>\n      <td>0</td>\n      <td>0</td>\n      <td>1</td>\n      <td>2</td>\n      <td>0.444908</td>\n      <td>0.422051</td>\n      <td>33.858317</td>\n    </tr>\n    <tr>\n      <th>2</th>\n      <td>6869.77760</td>\n      <td>0</td>\n      <td>0</td>\n      <td>0</td>\n      <td>2</td>\n      <td>1</td>\n      <td>1</td>\n      <td>2</td>\n      <td>1</td>\n      <td>1</td>\n      <td>1</td>\n      <td>1</td>\n      <td>1</td>\n      <td>2</td>\n      <td>0.552927</td>\n      <td>0.470853</td>\n      <td>38.341781</td>\n    </tr>\n    <tr>\n      <th>3</th>\n      <td>6880.77590</td>\n      <td>0</td>\n      <td>0</td>\n      <td>0</td>\n      <td>2</td>\n      <td>0</td>\n      <td>0</td>\n      <td>1</td>\n      <td>0</td>\n      <td>0</td>\n      <td>0</td>\n      <td>0</td>\n      <td>1</td>\n      <td>2</td>\n      <td>0.565976</td>\n      <td>0.478137</td>\n      <td>39.467561</td>\n    </tr>\n    <tr>\n      <th>4</th>\n      <td>7479.93417</td>\n      <td>1</td>\n      <td>1</td>\n      <td>0</td>\n      <td>2</td>\n      <td>1</td>\n      <td>0</td>\n      <td>1</td>\n      <td>0</td>\n      <td>0</td>\n      <td>0</td>\n      <td>0</td>\n      <td>1</td>\n      <td>2</td>\n      <td>0.579677</td>\n      <td>0.494165</td>\n      <td>40.484512</td>\n    </tr>\n    <tr>\n      <th>...</th>\n      <td>...</td>\n      <td>...</td>\n      <td>...</td>\n      <td>...</td>\n      <td>...</td>\n      <td>...</td>\n      <td>...</td>\n      <td>...</td>\n      <td>...</td>\n      <td>...</td>\n      <td>...</td>\n      <td>...</td>\n      <td>...</td>\n      <td>...</td>\n      <td>...</td>\n      <td>...</td>\n      <td>...</td>\n    </tr>\n    <tr>\n      <th>25478</th>\n      <td>NaN</td>\n      <td>1</td>\n      <td>0</td>\n      <td>0</td>\n      <td>0</td>\n      <td>0</td>\n      <td>1</td>\n      <td>2</td>\n      <td>1</td>\n      <td>1</td>\n      <td>1</td>\n      <td>1</td>\n      <td>1</td>\n      <td>2</td>\n      <td>0.474162</td>\n      <td>0.437923</td>\n      <td>34.525258</td>\n    </tr>\n    <tr>\n      <th>25479</th>\n      <td>NaN</td>\n      <td>1</td>\n      <td>1</td>\n      <td>0</td>\n      <td>1</td>\n      <td>2</td>\n      <td>0</td>\n      <td>1</td>\n      <td>0</td>\n      <td>0</td>\n      <td>0</td>\n      <td>0</td>\n      <td>0</td>\n      <td>1</td>\n      <td>0.482854</td>\n      <td>0.440676</td>\n      <td>35.648221</td>\n    </tr>\n    <tr>\n      <th>25480</th>\n      <td>NaN</td>\n      <td>1</td>\n      <td>1</td>\n      <td>1</td>\n      <td>1</td>\n      <td>0</td>\n      <td>0</td>\n      <td>1</td>\n      <td>0</td>\n      <td>0</td>\n      <td>0</td>\n      <td>0</td>\n      <td>0</td>\n      <td>1</td>\n      <td>0.568854</td>\n      <td>0.463065</td>\n      <td>37.724724</td>\n    </tr>\n    <tr>\n      <th>25481</th>\n      <td>NaN</td>\n      <td>0</td>\n      <td>0</td>\n      <td>0</td>\n      <td>0</td>\n      <td>0</td>\n      <td>2</td>\n      <td>3</td>\n      <td>2</td>\n      <td>2</td>\n      <td>2</td>\n      <td>2</td>\n      <td>2</td>\n      <td>3</td>\n      <td>0.407374</td>\n      <td>0.409261</td>\n      <td>31.881847</td>\n    </tr>\n    <tr>\n      <th>25482</th>\n      <td>NaN</td>\n      <td>0</td>\n      <td>0</td>\n      <td>0</td>\n      <td>1</td>\n      <td>0</td>\n      <td>0</td>\n      <td>1</td>\n      <td>0</td>\n      <td>0</td>\n      <td>0</td>\n      <td>0</td>\n      <td>0</td>\n      <td>0</td>\n      <td>0.579677</td>\n      <td>0.486202</td>\n      <td>40.265408</td>\n    </tr>\n  </tbody>\n</table>\n<p>25483 rows × 17 columns</p>\n</div>"
     },
     "execution_count": 144,
     "metadata": {},
     "output_type": "execute_result"
    }
   ],
   "source": [
    "all_data_3 = pd.concat([y,all_data_2], axis=1) # 훈련 데이터와 테스트 데이터 합치기\n",
    "# all_data = all_data.drop('Survived' , axis = 1) # 타깃값 제거\n",
    "all_data_3"
   ],
   "metadata": {
    "collapsed": false,
    "pycharm": {
     "name": "#%%\n"
    }
   }
  },
  {
   "cell_type": "code",
   "execution_count": 145,
   "outputs": [
    {
     "data": {
      "text/plain": "            yield  clonesize_Category  honeybee_Category  bumbles_Category  \\\nid                                                                           \n0      4476.81146                   1                  1                 0   \n1      5548.12201                   1                  1                 0   \n2      6869.77760                   0                  0                 0   \n3      6880.77590                   0                  0                 0   \n4      7479.93417                   1                  1                 0   \n...           ...                 ...                ...               ...   \n15284  7667.83619                   0                  0                 0   \n15285  3680.56025                   0                  0                 0   \n15286  4696.44394                   1                  1                 0   \n15287  6772.93347                   1                  1                 0   \n15288  5867.99722                   1                  1                 0   \n\n       andrena_Category  osmia_Category  MaxOfUpperTRange_Category  \\\nid                                                                   \n0                     3               0                          0   \n1                     1               0                          0   \n2                     2               1                          1   \n3                     2               0                          0   \n4                     2               1                          0   \n...                 ...             ...                        ...   \n15284                 0               0                          0   \n15285                 0               0                          1   \n15286                 0               2                          0   \n15287                 2               1                          0   \n15288                 2               0                          0   \n\n       MinOfUpperTRange_Category  AverageOfUpperTRange_Category  \\\nid                                                                \n0                              0                              0   \n1                              0                              0   \n2                              2                              1   \n3                              1                              0   \n4                              1                              0   \n...                          ...                            ...   \n15284                          1                              0   \n15285                          2                              1   \n15286                          1                              0   \n15287                          0                              0   \n15288                          1                              0   \n\n       MaxOfLowerTRange_Category  MinOfLowerTRange_Category  \\\nid                                                            \n0                              0                          0   \n1                              0                          0   \n2                              1                          1   \n3                              0                          0   \n4                              0                          0   \n...                          ...                        ...   \n15284                          0                          0   \n15285                          1                          1   \n15286                          0                          0   \n15287                          0                          0   \n15288                          0                          0   \n\n       AverageOfLowerTRange_Category  RainingDays_Category  \\\nid                                                           \n0                                  0                     1   \n1                                  0                     1   \n2                                  1                     1   \n3                                  0                     1   \n4                                  0                     1   \n...                              ...                   ...   \n15284                              0                     0   \n15285                              1                     2   \n15286                              0                     2   \n15287                              0                     1   \n15288                              0                     0   \n\n       AverageRainingDays_Category  fruitset  fruitmass      seeds  \nid                                                                  \n0                                2  0.425011   0.417545  32.460887  \n1                                2  0.444908   0.422051  33.858317  \n2                                2  0.552927   0.470853  38.341781  \n3                                2  0.565976   0.478137  39.467561  \n4                                2  0.579677   0.494165  40.484512  \n...                            ...       ...        ...        ...  \n15284                            1  0.556302   0.476308  40.546480  \n15285                            3  0.354413   0.388145  29.467434  \n15286                            3  0.422548   0.416786  32.299059  \n15287                            2  0.542170   0.434133  36.674243  \n15288                            1  0.492077   0.446576  35.094733  \n\n[15289 rows x 17 columns]",
      "text/html": "<div>\n<style scoped>\n    .dataframe tbody tr th:only-of-type {\n        vertical-align: middle;\n    }\n\n    .dataframe tbody tr th {\n        vertical-align: top;\n    }\n\n    .dataframe thead th {\n        text-align: right;\n    }\n</style>\n<table border=\"1\" class=\"dataframe\">\n  <thead>\n    <tr style=\"text-align: right;\">\n      <th></th>\n      <th>yield</th>\n      <th>clonesize_Category</th>\n      <th>honeybee_Category</th>\n      <th>bumbles_Category</th>\n      <th>andrena_Category</th>\n      <th>osmia_Category</th>\n      <th>MaxOfUpperTRange_Category</th>\n      <th>MinOfUpperTRange_Category</th>\n      <th>AverageOfUpperTRange_Category</th>\n      <th>MaxOfLowerTRange_Category</th>\n      <th>MinOfLowerTRange_Category</th>\n      <th>AverageOfLowerTRange_Category</th>\n      <th>RainingDays_Category</th>\n      <th>AverageRainingDays_Category</th>\n      <th>fruitset</th>\n      <th>fruitmass</th>\n      <th>seeds</th>\n    </tr>\n    <tr>\n      <th>id</th>\n      <th></th>\n      <th></th>\n      <th></th>\n      <th></th>\n      <th></th>\n      <th></th>\n      <th></th>\n      <th></th>\n      <th></th>\n      <th></th>\n      <th></th>\n      <th></th>\n      <th></th>\n      <th></th>\n      <th></th>\n      <th></th>\n      <th></th>\n    </tr>\n  </thead>\n  <tbody>\n    <tr>\n      <th>0</th>\n      <td>4476.81146</td>\n      <td>1</td>\n      <td>1</td>\n      <td>0</td>\n      <td>3</td>\n      <td>0</td>\n      <td>0</td>\n      <td>0</td>\n      <td>0</td>\n      <td>0</td>\n      <td>0</td>\n      <td>0</td>\n      <td>1</td>\n      <td>2</td>\n      <td>0.425011</td>\n      <td>0.417545</td>\n      <td>32.460887</td>\n    </tr>\n    <tr>\n      <th>1</th>\n      <td>5548.12201</td>\n      <td>1</td>\n      <td>1</td>\n      <td>0</td>\n      <td>1</td>\n      <td>0</td>\n      <td>0</td>\n      <td>0</td>\n      <td>0</td>\n      <td>0</td>\n      <td>0</td>\n      <td>0</td>\n      <td>1</td>\n      <td>2</td>\n      <td>0.444908</td>\n      <td>0.422051</td>\n      <td>33.858317</td>\n    </tr>\n    <tr>\n      <th>2</th>\n      <td>6869.77760</td>\n      <td>0</td>\n      <td>0</td>\n      <td>0</td>\n      <td>2</td>\n      <td>1</td>\n      <td>1</td>\n      <td>2</td>\n      <td>1</td>\n      <td>1</td>\n      <td>1</td>\n      <td>1</td>\n      <td>1</td>\n      <td>2</td>\n      <td>0.552927</td>\n      <td>0.470853</td>\n      <td>38.341781</td>\n    </tr>\n    <tr>\n      <th>3</th>\n      <td>6880.77590</td>\n      <td>0</td>\n      <td>0</td>\n      <td>0</td>\n      <td>2</td>\n      <td>0</td>\n      <td>0</td>\n      <td>1</td>\n      <td>0</td>\n      <td>0</td>\n      <td>0</td>\n      <td>0</td>\n      <td>1</td>\n      <td>2</td>\n      <td>0.565976</td>\n      <td>0.478137</td>\n      <td>39.467561</td>\n    </tr>\n    <tr>\n      <th>4</th>\n      <td>7479.93417</td>\n      <td>1</td>\n      <td>1</td>\n      <td>0</td>\n      <td>2</td>\n      <td>1</td>\n      <td>0</td>\n      <td>1</td>\n      <td>0</td>\n      <td>0</td>\n      <td>0</td>\n      <td>0</td>\n      <td>1</td>\n      <td>2</td>\n      <td>0.579677</td>\n      <td>0.494165</td>\n      <td>40.484512</td>\n    </tr>\n    <tr>\n      <th>...</th>\n      <td>...</td>\n      <td>...</td>\n      <td>...</td>\n      <td>...</td>\n      <td>...</td>\n      <td>...</td>\n      <td>...</td>\n      <td>...</td>\n      <td>...</td>\n      <td>...</td>\n      <td>...</td>\n      <td>...</td>\n      <td>...</td>\n      <td>...</td>\n      <td>...</td>\n      <td>...</td>\n      <td>...</td>\n    </tr>\n    <tr>\n      <th>15284</th>\n      <td>7667.83619</td>\n      <td>0</td>\n      <td>0</td>\n      <td>0</td>\n      <td>0</td>\n      <td>0</td>\n      <td>0</td>\n      <td>1</td>\n      <td>0</td>\n      <td>0</td>\n      <td>0</td>\n      <td>0</td>\n      <td>0</td>\n      <td>1</td>\n      <td>0.556302</td>\n      <td>0.476308</td>\n      <td>40.546480</td>\n    </tr>\n    <tr>\n      <th>15285</th>\n      <td>3680.56025</td>\n      <td>0</td>\n      <td>0</td>\n      <td>0</td>\n      <td>0</td>\n      <td>0</td>\n      <td>1</td>\n      <td>2</td>\n      <td>1</td>\n      <td>1</td>\n      <td>1</td>\n      <td>1</td>\n      <td>2</td>\n      <td>3</td>\n      <td>0.354413</td>\n      <td>0.388145</td>\n      <td>29.467434</td>\n    </tr>\n    <tr>\n      <th>15286</th>\n      <td>4696.44394</td>\n      <td>1</td>\n      <td>1</td>\n      <td>0</td>\n      <td>0</td>\n      <td>2</td>\n      <td>0</td>\n      <td>1</td>\n      <td>0</td>\n      <td>0</td>\n      <td>0</td>\n      <td>0</td>\n      <td>2</td>\n      <td>3</td>\n      <td>0.422548</td>\n      <td>0.416786</td>\n      <td>32.299059</td>\n    </tr>\n    <tr>\n      <th>15287</th>\n      <td>6772.93347</td>\n      <td>1</td>\n      <td>1</td>\n      <td>0</td>\n      <td>2</td>\n      <td>1</td>\n      <td>0</td>\n      <td>0</td>\n      <td>0</td>\n      <td>0</td>\n      <td>0</td>\n      <td>0</td>\n      <td>1</td>\n      <td>2</td>\n      <td>0.542170</td>\n      <td>0.434133</td>\n      <td>36.674243</td>\n    </tr>\n    <tr>\n      <th>15288</th>\n      <td>5867.99722</td>\n      <td>1</td>\n      <td>1</td>\n      <td>0</td>\n      <td>2</td>\n      <td>0</td>\n      <td>0</td>\n      <td>1</td>\n      <td>0</td>\n      <td>0</td>\n      <td>0</td>\n      <td>0</td>\n      <td>0</td>\n      <td>1</td>\n      <td>0.492077</td>\n      <td>0.446576</td>\n      <td>35.094733</td>\n    </tr>\n  </tbody>\n</table>\n<p>15289 rows × 17 columns</p>\n</div>"
     },
     "execution_count": 145,
     "metadata": {},
     "output_type": "execute_result"
    }
   ],
   "source": [
    "all_data_train = all_data_3.iloc[:num_train]\n",
    "all_data_train"
   ],
   "metadata": {
    "collapsed": false,
    "pycharm": {
     "name": "#%%\n"
    }
   }
  },
  {
   "cell_type": "code",
   "execution_count": 152,
   "outputs": [
    {
     "data": {
      "text/plain": "       clonesize  honeybee  bumbles  andrena  osmia  MaxOfUpperTRange  \\\nid                                                                      \n0           25.0      0.50     0.25     0.75   0.50              69.7   \n1           25.0      0.50     0.25     0.50   0.50              69.7   \n2           12.5      0.25     0.25     0.63   0.63              86.0   \n3           12.5      0.25     0.25     0.63   0.50              77.4   \n4           25.0      0.50     0.25     0.63   0.63              77.4   \n...          ...       ...      ...      ...    ...               ...   \n25478       25.0      0.25     0.25     0.25   0.25              86.0   \n25479       25.0      0.50     0.25     0.50   0.75              77.4   \n25480       25.0      0.50     0.38     0.50   0.50              77.4   \n25481       12.5      0.25     0.25     0.38   0.50              94.6   \n25482       12.5      0.25     0.25     0.50   0.50              77.4   \n\n       MinOfUpperTRange  AverageOfUpperTRange  MaxOfLowerTRange  \\\nid                                                                \n0                  42.1                  58.2              50.2   \n1                  42.1                  58.2              50.2   \n2                  52.0                  71.9              62.0   \n3                  46.8                  64.7              55.8   \n4                  46.8                  64.7              55.8   \n...                 ...                   ...               ...   \n25478              52.0                  71.9              62.0   \n25479              46.8                  64.7              55.8   \n25480              46.8                  64.7              55.8   \n25481              57.2                  79.0              68.2   \n25482              46.8                  64.7              55.8   \n\n       MinOfLowerTRange  AverageOfLowerTRange  RainingDays  \\\nid                                                           \n0                  24.3                  41.2         24.0   \n1                  24.3                  41.2         24.0   \n2                  30.0                  50.8         24.0   \n3                  27.0                  45.8         24.0   \n4                  27.0                  45.8         24.0   \n...                 ...                   ...          ...   \n25478              30.0                  50.8         24.0   \n25479              27.0                  45.8         16.0   \n25480              27.0                  45.8         16.0   \n25481              33.0                  55.9         34.0   \n25482              27.0                  45.8          1.0   \n\n       AverageRainingDays  fruitset  fruitmass      seeds       yield  \nid                                                                     \n0                    0.39  0.425011   0.417545  32.460887  4476.81146  \n1                    0.39  0.444908   0.422051  33.858317  5548.12201  \n2                    0.39  0.552927   0.470853  38.341781  6869.77760  \n3                    0.39  0.565976   0.478137  39.467561  6880.77590  \n4                    0.39  0.579677   0.494165  40.484512  7479.93417  \n...                   ...       ...        ...        ...         ...  \n25478                0.39  0.474162   0.437923  34.525258         NaN  \n25479                0.26  0.482854   0.440676  35.648221         NaN  \n25480                0.26  0.568854   0.463065  37.724724         NaN  \n25481                0.56  0.407374   0.409261  31.881847         NaN  \n25482                0.10  0.579677   0.486202  40.265408         NaN  \n\n[25483 rows x 17 columns]",
      "text/html": "<div>\n<style scoped>\n    .dataframe tbody tr th:only-of-type {\n        vertical-align: middle;\n    }\n\n    .dataframe tbody tr th {\n        vertical-align: top;\n    }\n\n    .dataframe thead th {\n        text-align: right;\n    }\n</style>\n<table border=\"1\" class=\"dataframe\">\n  <thead>\n    <tr style=\"text-align: right;\">\n      <th></th>\n      <th>clonesize</th>\n      <th>honeybee</th>\n      <th>bumbles</th>\n      <th>andrena</th>\n      <th>osmia</th>\n      <th>MaxOfUpperTRange</th>\n      <th>MinOfUpperTRange</th>\n      <th>AverageOfUpperTRange</th>\n      <th>MaxOfLowerTRange</th>\n      <th>MinOfLowerTRange</th>\n      <th>AverageOfLowerTRange</th>\n      <th>RainingDays</th>\n      <th>AverageRainingDays</th>\n      <th>fruitset</th>\n      <th>fruitmass</th>\n      <th>seeds</th>\n      <th>yield</th>\n    </tr>\n    <tr>\n      <th>id</th>\n      <th></th>\n      <th></th>\n      <th></th>\n      <th></th>\n      <th></th>\n      <th></th>\n      <th></th>\n      <th></th>\n      <th></th>\n      <th></th>\n      <th></th>\n      <th></th>\n      <th></th>\n      <th></th>\n      <th></th>\n      <th></th>\n      <th></th>\n    </tr>\n  </thead>\n  <tbody>\n    <tr>\n      <th>0</th>\n      <td>25.0</td>\n      <td>0.50</td>\n      <td>0.25</td>\n      <td>0.75</td>\n      <td>0.50</td>\n      <td>69.7</td>\n      <td>42.1</td>\n      <td>58.2</td>\n      <td>50.2</td>\n      <td>24.3</td>\n      <td>41.2</td>\n      <td>24.0</td>\n      <td>0.39</td>\n      <td>0.425011</td>\n      <td>0.417545</td>\n      <td>32.460887</td>\n      <td>4476.81146</td>\n    </tr>\n    <tr>\n      <th>1</th>\n      <td>25.0</td>\n      <td>0.50</td>\n      <td>0.25</td>\n      <td>0.50</td>\n      <td>0.50</td>\n      <td>69.7</td>\n      <td>42.1</td>\n      <td>58.2</td>\n      <td>50.2</td>\n      <td>24.3</td>\n      <td>41.2</td>\n      <td>24.0</td>\n      <td>0.39</td>\n      <td>0.444908</td>\n      <td>0.422051</td>\n      <td>33.858317</td>\n      <td>5548.12201</td>\n    </tr>\n    <tr>\n      <th>2</th>\n      <td>12.5</td>\n      <td>0.25</td>\n      <td>0.25</td>\n      <td>0.63</td>\n      <td>0.63</td>\n      <td>86.0</td>\n      <td>52.0</td>\n      <td>71.9</td>\n      <td>62.0</td>\n      <td>30.0</td>\n      <td>50.8</td>\n      <td>24.0</td>\n      <td>0.39</td>\n      <td>0.552927</td>\n      <td>0.470853</td>\n      <td>38.341781</td>\n      <td>6869.77760</td>\n    </tr>\n    <tr>\n      <th>3</th>\n      <td>12.5</td>\n      <td>0.25</td>\n      <td>0.25</td>\n      <td>0.63</td>\n      <td>0.50</td>\n      <td>77.4</td>\n      <td>46.8</td>\n      <td>64.7</td>\n      <td>55.8</td>\n      <td>27.0</td>\n      <td>45.8</td>\n      <td>24.0</td>\n      <td>0.39</td>\n      <td>0.565976</td>\n      <td>0.478137</td>\n      <td>39.467561</td>\n      <td>6880.77590</td>\n    </tr>\n    <tr>\n      <th>4</th>\n      <td>25.0</td>\n      <td>0.50</td>\n      <td>0.25</td>\n      <td>0.63</td>\n      <td>0.63</td>\n      <td>77.4</td>\n      <td>46.8</td>\n      <td>64.7</td>\n      <td>55.8</td>\n      <td>27.0</td>\n      <td>45.8</td>\n      <td>24.0</td>\n      <td>0.39</td>\n      <td>0.579677</td>\n      <td>0.494165</td>\n      <td>40.484512</td>\n      <td>7479.93417</td>\n    </tr>\n    <tr>\n      <th>...</th>\n      <td>...</td>\n      <td>...</td>\n      <td>...</td>\n      <td>...</td>\n      <td>...</td>\n      <td>...</td>\n      <td>...</td>\n      <td>...</td>\n      <td>...</td>\n      <td>...</td>\n      <td>...</td>\n      <td>...</td>\n      <td>...</td>\n      <td>...</td>\n      <td>...</td>\n      <td>...</td>\n      <td>...</td>\n    </tr>\n    <tr>\n      <th>25478</th>\n      <td>25.0</td>\n      <td>0.25</td>\n      <td>0.25</td>\n      <td>0.25</td>\n      <td>0.25</td>\n      <td>86.0</td>\n      <td>52.0</td>\n      <td>71.9</td>\n      <td>62.0</td>\n      <td>30.0</td>\n      <td>50.8</td>\n      <td>24.0</td>\n      <td>0.39</td>\n      <td>0.474162</td>\n      <td>0.437923</td>\n      <td>34.525258</td>\n      <td>NaN</td>\n    </tr>\n    <tr>\n      <th>25479</th>\n      <td>25.0</td>\n      <td>0.50</td>\n      <td>0.25</td>\n      <td>0.50</td>\n      <td>0.75</td>\n      <td>77.4</td>\n      <td>46.8</td>\n      <td>64.7</td>\n      <td>55.8</td>\n      <td>27.0</td>\n      <td>45.8</td>\n      <td>16.0</td>\n      <td>0.26</td>\n      <td>0.482854</td>\n      <td>0.440676</td>\n      <td>35.648221</td>\n      <td>NaN</td>\n    </tr>\n    <tr>\n      <th>25480</th>\n      <td>25.0</td>\n      <td>0.50</td>\n      <td>0.38</td>\n      <td>0.50</td>\n      <td>0.50</td>\n      <td>77.4</td>\n      <td>46.8</td>\n      <td>64.7</td>\n      <td>55.8</td>\n      <td>27.0</td>\n      <td>45.8</td>\n      <td>16.0</td>\n      <td>0.26</td>\n      <td>0.568854</td>\n      <td>0.463065</td>\n      <td>37.724724</td>\n      <td>NaN</td>\n    </tr>\n    <tr>\n      <th>25481</th>\n      <td>12.5</td>\n      <td>0.25</td>\n      <td>0.25</td>\n      <td>0.38</td>\n      <td>0.50</td>\n      <td>94.6</td>\n      <td>57.2</td>\n      <td>79.0</td>\n      <td>68.2</td>\n      <td>33.0</td>\n      <td>55.9</td>\n      <td>34.0</td>\n      <td>0.56</td>\n      <td>0.407374</td>\n      <td>0.409261</td>\n      <td>31.881847</td>\n      <td>NaN</td>\n    </tr>\n    <tr>\n      <th>25482</th>\n      <td>12.5</td>\n      <td>0.25</td>\n      <td>0.25</td>\n      <td>0.50</td>\n      <td>0.50</td>\n      <td>77.4</td>\n      <td>46.8</td>\n      <td>64.7</td>\n      <td>55.8</td>\n      <td>27.0</td>\n      <td>45.8</td>\n      <td>1.0</td>\n      <td>0.10</td>\n      <td>0.579677</td>\n      <td>0.486202</td>\n      <td>40.265408</td>\n      <td>NaN</td>\n    </tr>\n  </tbody>\n</table>\n<p>25483 rows × 17 columns</p>\n</div>"
     },
     "execution_count": 152,
     "metadata": {},
     "output_type": "execute_result"
    }
   ],
   "source": [
    "all_data = pd.concat([train,test]) # 훈련 데이터와 테스트 데이터 합치기\n",
    "# all_data = all_data.drop('Survived' , axis = 1) # 타깃값 제거\n",
    "all_data"
   ],
   "metadata": {
    "collapsed": false,
    "pycharm": {
     "name": "#%%\n"
    }
   }
  },
  {
   "cell_type": "code",
   "execution_count": 171,
   "outputs": [
    {
     "name": "stdout",
     "output_type": "stream",
     "text": [
      "['clonesize', 'honeybee', 'bumbles', 'andrena', 'osmia', 'MaxOfUpperTRange', 'MinOfUpperTRange', 'AverageOfUpperTRange', 'MaxOfLowerTRange', 'MinOfLowerTRange', 'AverageOfLowerTRange', 'RainingDays', 'AverageRainingDays']\n",
      "['clonesize_Category', 'honeybee_Category', 'bumbles_Category', 'andrena_Category', 'osmia_Category', 'MaxOfUpperTRange_Category', 'MinOfUpperTRange_Category', 'AverageOfUpperTRange_Category', 'MaxOfLowerTRange_Category', 'MinOfLowerTRange_Category', 'AverageOfLowerTRange_Category', 'RainingDays_Category', 'AverageRainingDays_Category', 'fruitset', 'fruitmass', 'seeds']\n"
     ]
    }
   ],
   "source": [
    "import pandas as pd\n",
    "\n",
    "# 변수 간의 상관관계 계산\n",
    "corr_matrix = all_data.corr()\n",
    "corr_matrix\n",
    "# 'yield' 열과의 상관관계 확인 및 상관관계가 높은 변수 제외\n",
    "threshold = 0.6  # 상관관계의 임계값 설정\n",
    "high_corr_vars = corr_matrix[abs(corr_matrix['yield']) > threshold].index\n",
    "selected_vars = [col for col in all_data.columns if col not in high_corr_vars]\n",
    "\n",
    "# 선택된 변수와 'yield' 열로 데이터프레임 업데이트\n",
    "all_data_4 = all_data[selected_vars]\n",
    "a4 = all_data_4.columns.tolist()\n",
    "\n",
    "print(a4)\n",
    "print(all_data_2.columns.tolist())"
   ],
   "metadata": {
    "collapsed": false,
    "pycharm": {
     "name": "#%%\n"
    }
   }
  },
  {
   "cell_type": "code",
   "execution_count": 155,
   "outputs": [
    {
     "data": {
      "text/plain": "       clonesize_Category  honeybee_Category  bumbles_Category  \\\nid                                                               \n0                       1                  1                 0   \n1                       1                  1                 0   \n2                       0                  0                 0   \n3                       0                  0                 0   \n4                       1                  1                 0   \n...                   ...                ...               ...   \n25478                   1                  0                 0   \n25479                   1                  1                 0   \n25480                   1                  1                 1   \n25481                   0                  0                 0   \n25482                   0                  0                 0   \n\n       andrena_Category  osmia_Category  MaxOfUpperTRange_Category  \\\nid                                                                   \n0                     3               0                          0   \n1                     1               0                          0   \n2                     2               1                          1   \n3                     2               0                          0   \n4                     2               1                          0   \n...                 ...             ...                        ...   \n25478                 0               0                          1   \n25479                 1               2                          0   \n25480                 1               0                          0   \n25481                 0               0                          2   \n25482                 1               0                          0   \n\n       MinOfUpperTRange_Category  AverageOfUpperTRange_Category  \\\nid                                                                \n0                              0                              0   \n1                              0                              0   \n2                              2                              1   \n3                              1                              0   \n4                              1                              0   \n...                          ...                            ...   \n25478                          2                              1   \n25479                          1                              0   \n25480                          1                              0   \n25481                          3                              2   \n25482                          1                              0   \n\n       MaxOfLowerTRange_Category  MinOfLowerTRange_Category  \\\nid                                                            \n0                              0                          0   \n1                              0                          0   \n2                              1                          1   \n3                              0                          0   \n4                              0                          0   \n...                          ...                        ...   \n25478                          1                          1   \n25479                          0                          0   \n25480                          0                          0   \n25481                          2                          2   \n25482                          0                          0   \n\n       AverageOfLowerTRange_Category  RainingDays_Category  \\\nid                                                           \n0                                  0                     1   \n1                                  0                     1   \n2                                  1                     1   \n3                                  0                     1   \n4                                  0                     1   \n...                              ...                   ...   \n25478                              1                     1   \n25479                              0                     0   \n25480                              0                     0   \n25481                              2                     2   \n25482                              0                     0   \n\n       AverageRainingDays_Category  \nid                                  \n0                                2  \n1                                2  \n2                                2  \n3                                2  \n4                                2  \n...                            ...  \n25478                            2  \n25479                            1  \n25480                            1  \n25481                            3  \n25482                            0  \n\n[25483 rows x 13 columns]",
      "text/html": "<div>\n<style scoped>\n    .dataframe tbody tr th:only-of-type {\n        vertical-align: middle;\n    }\n\n    .dataframe tbody tr th {\n        vertical-align: top;\n    }\n\n    .dataframe thead th {\n        text-align: right;\n    }\n</style>\n<table border=\"1\" class=\"dataframe\">\n  <thead>\n    <tr style=\"text-align: right;\">\n      <th></th>\n      <th>clonesize_Category</th>\n      <th>honeybee_Category</th>\n      <th>bumbles_Category</th>\n      <th>andrena_Category</th>\n      <th>osmia_Category</th>\n      <th>MaxOfUpperTRange_Category</th>\n      <th>MinOfUpperTRange_Category</th>\n      <th>AverageOfUpperTRange_Category</th>\n      <th>MaxOfLowerTRange_Category</th>\n      <th>MinOfLowerTRange_Category</th>\n      <th>AverageOfLowerTRange_Category</th>\n      <th>RainingDays_Category</th>\n      <th>AverageRainingDays_Category</th>\n    </tr>\n    <tr>\n      <th>id</th>\n      <th></th>\n      <th></th>\n      <th></th>\n      <th></th>\n      <th></th>\n      <th></th>\n      <th></th>\n      <th></th>\n      <th></th>\n      <th></th>\n      <th></th>\n      <th></th>\n      <th></th>\n    </tr>\n  </thead>\n  <tbody>\n    <tr>\n      <th>0</th>\n      <td>1</td>\n      <td>1</td>\n      <td>0</td>\n      <td>3</td>\n      <td>0</td>\n      <td>0</td>\n      <td>0</td>\n      <td>0</td>\n      <td>0</td>\n      <td>0</td>\n      <td>0</td>\n      <td>1</td>\n      <td>2</td>\n    </tr>\n    <tr>\n      <th>1</th>\n      <td>1</td>\n      <td>1</td>\n      <td>0</td>\n      <td>1</td>\n      <td>0</td>\n      <td>0</td>\n      <td>0</td>\n      <td>0</td>\n      <td>0</td>\n      <td>0</td>\n      <td>0</td>\n      <td>1</td>\n      <td>2</td>\n    </tr>\n    <tr>\n      <th>2</th>\n      <td>0</td>\n      <td>0</td>\n      <td>0</td>\n      <td>2</td>\n      <td>1</td>\n      <td>1</td>\n      <td>2</td>\n      <td>1</td>\n      <td>1</td>\n      <td>1</td>\n      <td>1</td>\n      <td>1</td>\n      <td>2</td>\n    </tr>\n    <tr>\n      <th>3</th>\n      <td>0</td>\n      <td>0</td>\n      <td>0</td>\n      <td>2</td>\n      <td>0</td>\n      <td>0</td>\n      <td>1</td>\n      <td>0</td>\n      <td>0</td>\n      <td>0</td>\n      <td>0</td>\n      <td>1</td>\n      <td>2</td>\n    </tr>\n    <tr>\n      <th>4</th>\n      <td>1</td>\n      <td>1</td>\n      <td>0</td>\n      <td>2</td>\n      <td>1</td>\n      <td>0</td>\n      <td>1</td>\n      <td>0</td>\n      <td>0</td>\n      <td>0</td>\n      <td>0</td>\n      <td>1</td>\n      <td>2</td>\n    </tr>\n    <tr>\n      <th>...</th>\n      <td>...</td>\n      <td>...</td>\n      <td>...</td>\n      <td>...</td>\n      <td>...</td>\n      <td>...</td>\n      <td>...</td>\n      <td>...</td>\n      <td>...</td>\n      <td>...</td>\n      <td>...</td>\n      <td>...</td>\n      <td>...</td>\n    </tr>\n    <tr>\n      <th>25478</th>\n      <td>1</td>\n      <td>0</td>\n      <td>0</td>\n      <td>0</td>\n      <td>0</td>\n      <td>1</td>\n      <td>2</td>\n      <td>1</td>\n      <td>1</td>\n      <td>1</td>\n      <td>1</td>\n      <td>1</td>\n      <td>2</td>\n    </tr>\n    <tr>\n      <th>25479</th>\n      <td>1</td>\n      <td>1</td>\n      <td>0</td>\n      <td>1</td>\n      <td>2</td>\n      <td>0</td>\n      <td>1</td>\n      <td>0</td>\n      <td>0</td>\n      <td>0</td>\n      <td>0</td>\n      <td>0</td>\n      <td>1</td>\n    </tr>\n    <tr>\n      <th>25480</th>\n      <td>1</td>\n      <td>1</td>\n      <td>1</td>\n      <td>1</td>\n      <td>0</td>\n      <td>0</td>\n      <td>1</td>\n      <td>0</td>\n      <td>0</td>\n      <td>0</td>\n      <td>0</td>\n      <td>0</td>\n      <td>1</td>\n    </tr>\n    <tr>\n      <th>25481</th>\n      <td>0</td>\n      <td>0</td>\n      <td>0</td>\n      <td>0</td>\n      <td>0</td>\n      <td>2</td>\n      <td>3</td>\n      <td>2</td>\n      <td>2</td>\n      <td>2</td>\n      <td>2</td>\n      <td>2</td>\n      <td>3</td>\n    </tr>\n    <tr>\n      <th>25482</th>\n      <td>0</td>\n      <td>0</td>\n      <td>0</td>\n      <td>1</td>\n      <td>0</td>\n      <td>0</td>\n      <td>1</td>\n      <td>0</td>\n      <td>0</td>\n      <td>0</td>\n      <td>0</td>\n      <td>0</td>\n      <td>0</td>\n    </tr>\n  </tbody>\n</table>\n<p>25483 rows × 13 columns</p>\n</div>"
     },
     "execution_count": 155,
     "metadata": {},
     "output_type": "execute_result"
    }
   ],
   "source": [
    "all_data_3 = all_data_2.iloc[:, :-3]\n",
    "all_data_3"
   ],
   "metadata": {
    "collapsed": false,
    "pycharm": {
     "name": "#%%\n"
    }
   }
  },
  {
   "cell_type": "code",
   "execution_count": 156,
   "outputs": [],
   "source": [
    "from sklearn.model_selection import train_test_split\n",
    "#\n",
    "num_train = len(train) # 훈련 데이터 개수\n",
    "\n",
    "# 훈련 데이터와 테스트 데이터 나누기\n",
    "\n",
    "X_train= all_data_3[:num_train] # 0~num_train -1 행\n",
    "X_test = all_data_3[num_train:] # num_train ~ 마지막 행\n",
    "\n",
    "y_train = train['yield'].values\n",
    "\n",
    "\n",
    "# ########################################\n",
    "# # 데이터 분할\n",
    "# num_train = len(train) # 훈련 데이터 개수\n",
    "#\n",
    "# # 훈련 데이터와 테스트 데이터 나누기\n",
    "#\n",
    "# X= all_data_sprs[:num_train] # 0~num_train -1 행\n",
    "# X_test = all_data_sprs[num_train:] # num_train ~ 마지막 행\n",
    "#\n",
    "# y = train['Survived'].values\n",
    "#\n",
    "#\n",
    "# X_train , X_valid , y_train, y_valid = train_test_split(X_train,y_train, test_size = 0.2, random_state=0)\n",
    "y_test = submission['yield'].values"
   ],
   "metadata": {
    "collapsed": false,
    "pycharm": {
     "name": "#%%\n"
    }
   }
  },
  {
   "cell_type": "code",
   "execution_count": 173,
   "outputs": [
    {
     "name": "stdout",
     "output_type": "stream",
     "text": [
      "Best Model (LightGBM): LGBMRegressor(colsample_bytree=0.9, learning_rate=0.05, max_depth=3,\n",
      "              metric='mae', n_estimators=200, objective='regression_l1',\n",
      "              reg_alpha=0.3, reg_lambda=0.1, subsample=0.4)\n",
      "Best Parameters (LightGBM): {'colsample_bytree': 0.9, 'learning_rate': 0.05, 'max_depth': 3, 'metric': 'mae', 'n_estimators': 200, 'objective': 'regression_l1', 'reg_alpha': 0.3, 'reg_lambda': 0.1, 'subsample': 0.4}\n",
      "Wall time: 6min 30s\n"
     ]
    }
   ],
   "source": [
    "%%time\n",
    "\n",
    "from sklearn.model_selection import GridSearchCV\n",
    "import lightgbm as lgb\n",
    "from sklearn.metrics import accuracy_score\n",
    "\n",
    "# LightGBM 회귀 모델 초기화\n",
    "\n",
    "lgb_model = lgb.LGBMRegressor()\n",
    "# 그리드 서치를 위한 하이퍼파라미터 그리드 준비\n",
    "param_grid_lgb = {\n",
    "    'max_depth': [3, 4],                   # 트리의 최대 깊이\n",
    "    'learning_rate': [0.05 , 0.1],         # 학습률\n",
    "    'n_estimators': [200, 1000]  ,          # 트리의 개수\n",
    "    'subsample': [0.4 , 0.5],# 트리를 학습할 때 사용할 샘플링 비율\n",
    "    'colsample_bytree': [0.9, 1],     # 트리를 학습할 때 사용할 특성의 비율\n",
    "    'reg_alpha': [0.2 , 0.3],               # L1 정규화 항의 가중치\n",
    "    'reg_lambda': [0.0, 0.1],               # L2 정규화 항의 가중치\n",
    "    'objective' : ['regression_l1'],\n",
    "    'metric' : ['mae'],\n",
    "    'n_jobs' : [-1]\n",
    "}\n",
    "\n",
    "# params = {'objective':'regression_l1',\n",
    "#           'learning_rate': 0.04, 'max_bin': 1000, 'colsample_bytree': .8,\n",
    "#           'subsample': .7, 'bagging_freq': 1 ,'metric': 'mae',\n",
    "#           \"n_estimators\":2000,'verbosity': -1,'n_jobs': -1,\n",
    "#\n",
    "#           }\n",
    "\n",
    "\n",
    "# 그리드 서치 객체 생성\n",
    "grid_search_lgb = GridSearchCV(lgb_model, param_grid_lgb, cv=10, n_jobs=-1)\n",
    "\n",
    "# 그리드 서치 수행\n",
    "grid_search_lgb.fit(X_train, y_train)\n",
    "\n",
    "# 최적의 모델 및 파라미터 출력\n",
    "best_model_grid_search_lgb = grid_search_lgb.best_estimator_\n",
    "best_params_grid_search_lgb = grid_search_lgb.best_params_\n",
    "print(\"Best Model (LightGBM):\", best_model_grid_search_lgb)\n",
    "print(\"Best Parameters (LightGBM):\", best_params_grid_search_lgb)\n"
   ],
   "metadata": {
    "collapsed": false,
    "pycharm": {
     "name": "#%%\n"
    }
   }
  },
  {
   "cell_type": "code",
   "execution_count": 174,
   "outputs": [],
   "source": [
    "# import lightgbm as lgb\n",
    "#\n",
    "# params = {'objective': 'regression_l1',\n",
    "#           'learning_rate': 0.04,\n",
    "#           'max_bin': 1000,\n",
    "#           'colsample_bytree': 0.8,\n",
    "#           'subsample': 0.7,\n",
    "#           'bagging_freq': 1,\n",
    "#           'metric': 'mae',\n",
    "#           'n_estimators': 2000,\n",
    "#           'verbosity': -1,\n",
    "#           'n_jobs': -1\n",
    "#           }\n",
    "#\n",
    "# lgb_model = lgb.LGBMRegressor(**params)\n",
    "# lgb_model.fit(X_train, y_train)\n"
   ],
   "metadata": {
    "collapsed": false,
    "pycharm": {
     "name": "#%%\n"
    }
   }
  },
  {
   "cell_type": "code",
   "execution_count": 175,
   "outputs": [
    {
     "data": {
      "text/plain": "array([4609.301, 7420.246, 7031.201, ..., 6497.574, 4574.1  , 7281.26 ])"
     },
     "execution_count": 175,
     "metadata": {},
     "output_type": "execute_result"
    }
   ],
   "source": [
    "y_preds = best_model_grid_search_lgb.predict(X_test)\n",
    "y_preds"
   ],
   "metadata": {
    "collapsed": false,
    "pycharm": {
     "name": "#%%\n"
    }
   }
  },
  {
   "cell_type": "code",
   "execution_count": 178,
   "outputs": [
    {
     "data": {
      "text/plain": "0.9486404611392844"
     },
     "execution_count": 178,
     "metadata": {},
     "output_type": "execute_result"
    }
   ],
   "source": [
    "best_model_grid_search_lgb.score(X_test , y_test)"
   ],
   "metadata": {
    "collapsed": false,
    "pycharm": {
     "name": "#%%\n"
    }
   }
  },
  {
   "cell_type": "code",
   "execution_count": 179,
   "outputs": [],
   "source": [
    "# from sklearn.metrics import accuracy_score\n",
    "# from sklearn.metrics import accuracy_score, precision_score, recall_score, f1_score, roc_auc_score\n",
    "# print(f'Decsion Tree에 대한 점수 : {best_model_grid_search_lgb.score(X_train, y_train)}')\n",
    "#\n",
    "# # 테스트 데이터에 대한 예측 수행\n",
    "#\n",
    "# # 정확도 계산\n",
    "# # accuracy = accuracy_score(y_test, y_preds)\n",
    "# # print(\"Accuracy:\", accuracy)\n",
    "#\n",
    "# # 정밀도 계산\n",
    "# # precision = precision_score(y_test, y_preds)\n",
    "# # print(\"Precision:\", precision)\n",
    "#\n",
    "# # # 재현율 계산\n",
    "# # recall = recall_score(y_test, y_preds)\n",
    "# # print(\"Recall:\", recall)\n",
    "# #\n",
    "# # # F1 스코어 계산\n",
    "# # f1 = f1_score(y_test, y_preds)\n",
    "# # print(\"F1 Score:\", f1)\n",
    "# #\n",
    "# # # ROC AUC 계산\n",
    "# # roc_auc = roc_auc_score(y_test, y_preds)\n",
    "# # print(\"ROC AUC Score:\", roc_auc)"
   ],
   "metadata": {
    "collapsed": false,
    "pycharm": {
     "name": "#%%\n"
    }
   }
  },
  {
   "cell_type": "code",
   "execution_count": 180,
   "outputs": [
    {
     "name": "stdout",
     "output_type": "stream",
     "text": [
      "현재 날짜 및 시각 :  [5, 26, 18, 9, 20]\n"
     ]
    }
   ],
   "source": [
    "import datetime\n",
    "\n",
    "# 현재 날짜와 시각 구하기\n",
    "now = datetime.datetime.now()\n",
    "date_list = [now.month, now.day, now.hour, now.minute, now.second]\n",
    "# 현재 날짜와 시각 출력하기\n",
    "print(\"현재 날짜 및 시각 : \", date_list)\n",
    "\n",
    "# 제출 파일 생성\n",
    "\n",
    "submission['yield'] = y_preds\n",
    "submission.to_csv(f'submission_Lgb_2_{date_list[0]}_{date_list[1]}_{date_list[2]}_{date_list[3]}_{date_list[4]}.csv')"
   ],
   "metadata": {
    "collapsed": false,
    "pycharm": {
     "name": "#%%\n"
    }
   }
  },
  {
   "cell_type": "code",
   "execution_count": null,
   "outputs": [],
   "source": [],
   "metadata": {
    "collapsed": false,
    "pycharm": {
     "name": "#%%\n"
    }
   }
  },
  {
   "cell_type": "code",
   "execution_count": 181,
   "outputs": [
    {
     "data": {
      "text/plain": "       clonesize_Category  honeybee_Category  bumbles_Category  \\\nid                                                               \n0                       1                  1                 0   \n1                       1                  1                 0   \n2                       0                  0                 0   \n3                       0                  0                 0   \n4                       1                  1                 0   \n...                   ...                ...               ...   \n25478                   1                  0                 0   \n25479                   1                  1                 0   \n25480                   1                  1                 1   \n25481                   0                  0                 0   \n25482                   0                  0                 0   \n\n       andrena_Category  osmia_Category  MaxOfUpperTRange_Category  \\\nid                                                                   \n0                     3               0                          0   \n1                     1               0                          0   \n2                     2               1                          1   \n3                     2               0                          0   \n4                     2               1                          0   \n...                 ...             ...                        ...   \n25478                 0               0                          1   \n25479                 1               2                          0   \n25480                 1               0                          0   \n25481                 0               0                          2   \n25482                 1               0                          0   \n\n       MinOfUpperTRange_Category  AverageOfUpperTRange_Category  \\\nid                                                                \n0                              0                              0   \n1                              0                              0   \n2                              2                              1   \n3                              1                              0   \n4                              1                              0   \n...                          ...                            ...   \n25478                          2                              1   \n25479                          1                              0   \n25480                          1                              0   \n25481                          3                              2   \n25482                          1                              0   \n\n       MaxOfLowerTRange_Category  MinOfLowerTRange_Category  \\\nid                                                            \n0                              0                          0   \n1                              0                          0   \n2                              1                          1   \n3                              0                          0   \n4                              0                          0   \n...                          ...                        ...   \n25478                          1                          1   \n25479                          0                          0   \n25480                          0                          0   \n25481                          2                          2   \n25482                          0                          0   \n\n       AverageOfLowerTRange_Category  RainingDays_Category  \\\nid                                                           \n0                                  0                     1   \n1                                  0                     1   \n2                                  1                     1   \n3                                  0                     1   \n4                                  0                     1   \n...                              ...                   ...   \n25478                              1                     1   \n25479                              0                     0   \n25480                              0                     0   \n25481                              2                     2   \n25482                              0                     0   \n\n       AverageRainingDays_Category  \nid                                  \n0                                2  \n1                                2  \n2                                2  \n3                                2  \n4                                2  \n...                            ...  \n25478                            2  \n25479                            1  \n25480                            1  \n25481                            3  \n25482                            0  \n\n[25483 rows x 13 columns]",
      "text/html": "<div>\n<style scoped>\n    .dataframe tbody tr th:only-of-type {\n        vertical-align: middle;\n    }\n\n    .dataframe tbody tr th {\n        vertical-align: top;\n    }\n\n    .dataframe thead th {\n        text-align: right;\n    }\n</style>\n<table border=\"1\" class=\"dataframe\">\n  <thead>\n    <tr style=\"text-align: right;\">\n      <th></th>\n      <th>clonesize_Category</th>\n      <th>honeybee_Category</th>\n      <th>bumbles_Category</th>\n      <th>andrena_Category</th>\n      <th>osmia_Category</th>\n      <th>MaxOfUpperTRange_Category</th>\n      <th>MinOfUpperTRange_Category</th>\n      <th>AverageOfUpperTRange_Category</th>\n      <th>MaxOfLowerTRange_Category</th>\n      <th>MinOfLowerTRange_Category</th>\n      <th>AverageOfLowerTRange_Category</th>\n      <th>RainingDays_Category</th>\n      <th>AverageRainingDays_Category</th>\n    </tr>\n    <tr>\n      <th>id</th>\n      <th></th>\n      <th></th>\n      <th></th>\n      <th></th>\n      <th></th>\n      <th></th>\n      <th></th>\n      <th></th>\n      <th></th>\n      <th></th>\n      <th></th>\n      <th></th>\n      <th></th>\n    </tr>\n  </thead>\n  <tbody>\n    <tr>\n      <th>0</th>\n      <td>1</td>\n      <td>1</td>\n      <td>0</td>\n      <td>3</td>\n      <td>0</td>\n      <td>0</td>\n      <td>0</td>\n      <td>0</td>\n      <td>0</td>\n      <td>0</td>\n      <td>0</td>\n      <td>1</td>\n      <td>2</td>\n    </tr>\n    <tr>\n      <th>1</th>\n      <td>1</td>\n      <td>1</td>\n      <td>0</td>\n      <td>1</td>\n      <td>0</td>\n      <td>0</td>\n      <td>0</td>\n      <td>0</td>\n      <td>0</td>\n      <td>0</td>\n      <td>0</td>\n      <td>1</td>\n      <td>2</td>\n    </tr>\n    <tr>\n      <th>2</th>\n      <td>0</td>\n      <td>0</td>\n      <td>0</td>\n      <td>2</td>\n      <td>1</td>\n      <td>1</td>\n      <td>2</td>\n      <td>1</td>\n      <td>1</td>\n      <td>1</td>\n      <td>1</td>\n      <td>1</td>\n      <td>2</td>\n    </tr>\n    <tr>\n      <th>3</th>\n      <td>0</td>\n      <td>0</td>\n      <td>0</td>\n      <td>2</td>\n      <td>0</td>\n      <td>0</td>\n      <td>1</td>\n      <td>0</td>\n      <td>0</td>\n      <td>0</td>\n      <td>0</td>\n      <td>1</td>\n      <td>2</td>\n    </tr>\n    <tr>\n      <th>4</th>\n      <td>1</td>\n      <td>1</td>\n      <td>0</td>\n      <td>2</td>\n      <td>1</td>\n      <td>0</td>\n      <td>1</td>\n      <td>0</td>\n      <td>0</td>\n      <td>0</td>\n      <td>0</td>\n      <td>1</td>\n      <td>2</td>\n    </tr>\n    <tr>\n      <th>...</th>\n      <td>...</td>\n      <td>...</td>\n      <td>...</td>\n      <td>...</td>\n      <td>...</td>\n      <td>...</td>\n      <td>...</td>\n      <td>...</td>\n      <td>...</td>\n      <td>...</td>\n      <td>...</td>\n      <td>...</td>\n      <td>...</td>\n    </tr>\n    <tr>\n      <th>25478</th>\n      <td>1</td>\n      <td>0</td>\n      <td>0</td>\n      <td>0</td>\n      <td>0</td>\n      <td>1</td>\n      <td>2</td>\n      <td>1</td>\n      <td>1</td>\n      <td>1</td>\n      <td>1</td>\n      <td>1</td>\n      <td>2</td>\n    </tr>\n    <tr>\n      <th>25479</th>\n      <td>1</td>\n      <td>1</td>\n      <td>0</td>\n      <td>1</td>\n      <td>2</td>\n      <td>0</td>\n      <td>1</td>\n      <td>0</td>\n      <td>0</td>\n      <td>0</td>\n      <td>0</td>\n      <td>0</td>\n      <td>1</td>\n    </tr>\n    <tr>\n      <th>25480</th>\n      <td>1</td>\n      <td>1</td>\n      <td>1</td>\n      <td>1</td>\n      <td>0</td>\n      <td>0</td>\n      <td>1</td>\n      <td>0</td>\n      <td>0</td>\n      <td>0</td>\n      <td>0</td>\n      <td>0</td>\n      <td>1</td>\n    </tr>\n    <tr>\n      <th>25481</th>\n      <td>0</td>\n      <td>0</td>\n      <td>0</td>\n      <td>0</td>\n      <td>0</td>\n      <td>2</td>\n      <td>3</td>\n      <td>2</td>\n      <td>2</td>\n      <td>2</td>\n      <td>2</td>\n      <td>2</td>\n      <td>3</td>\n    </tr>\n    <tr>\n      <th>25482</th>\n      <td>0</td>\n      <td>0</td>\n      <td>0</td>\n      <td>1</td>\n      <td>0</td>\n      <td>0</td>\n      <td>1</td>\n      <td>0</td>\n      <td>0</td>\n      <td>0</td>\n      <td>0</td>\n      <td>0</td>\n      <td>0</td>\n    </tr>\n  </tbody>\n</table>\n<p>25483 rows × 13 columns</p>\n</div>"
     },
     "execution_count": 181,
     "metadata": {},
     "output_type": "execute_result"
    }
   ],
   "source": [
    "all_data_3"
   ],
   "metadata": {
    "collapsed": false,
    "pycharm": {
     "name": "#%%\n"
    }
   }
  },
  {
   "cell_type": "code",
   "execution_count": 207,
   "outputs": [
    {
     "data": {
      "text/plain": "       clonesize  honeybee  bumbles  andrena  osmia  fruitset  fruitmass  \\\nid                                                                         \n0           25.0      0.50     0.25     0.75   0.50  0.425011   0.417545   \n1           25.0      0.50     0.25     0.50   0.50  0.444908   0.422051   \n2           12.5      0.25     0.25     0.63   0.63  0.552927   0.470853   \n3           12.5      0.25     0.25     0.63   0.50  0.565976   0.478137   \n4           25.0      0.50     0.25     0.63   0.63  0.579677   0.494165   \n...          ...       ...      ...      ...    ...       ...        ...   \n25478       25.0      0.25     0.25     0.25   0.25  0.474162   0.437923   \n25479       25.0      0.50     0.25     0.50   0.75  0.482854   0.440676   \n25480       25.0      0.50     0.38     0.50   0.50  0.568854   0.463065   \n25481       12.5      0.25     0.25     0.38   0.50  0.407374   0.409261   \n25482       12.5      0.25     0.25     0.50   0.50  0.579677   0.486202   \n\n           seeds  \nid                \n0      32.460887  \n1      33.858317  \n2      38.341781  \n3      39.467561  \n4      40.484512  \n...          ...  \n25478  34.525258  \n25479  35.648221  \n25480  37.724724  \n25481  31.881847  \n25482  40.265408  \n\n[25483 rows x 8 columns]",
      "text/html": "<div>\n<style scoped>\n    .dataframe tbody tr th:only-of-type {\n        vertical-align: middle;\n    }\n\n    .dataframe tbody tr th {\n        vertical-align: top;\n    }\n\n    .dataframe thead th {\n        text-align: right;\n    }\n</style>\n<table border=\"1\" class=\"dataframe\">\n  <thead>\n    <tr style=\"text-align: right;\">\n      <th></th>\n      <th>clonesize</th>\n      <th>honeybee</th>\n      <th>bumbles</th>\n      <th>andrena</th>\n      <th>osmia</th>\n      <th>fruitset</th>\n      <th>fruitmass</th>\n      <th>seeds</th>\n    </tr>\n    <tr>\n      <th>id</th>\n      <th></th>\n      <th></th>\n      <th></th>\n      <th></th>\n      <th></th>\n      <th></th>\n      <th></th>\n      <th></th>\n    </tr>\n  </thead>\n  <tbody>\n    <tr>\n      <th>0</th>\n      <td>25.0</td>\n      <td>0.50</td>\n      <td>0.25</td>\n      <td>0.75</td>\n      <td>0.50</td>\n      <td>0.425011</td>\n      <td>0.417545</td>\n      <td>32.460887</td>\n    </tr>\n    <tr>\n      <th>1</th>\n      <td>25.0</td>\n      <td>0.50</td>\n      <td>0.25</td>\n      <td>0.50</td>\n      <td>0.50</td>\n      <td>0.444908</td>\n      <td>0.422051</td>\n      <td>33.858317</td>\n    </tr>\n    <tr>\n      <th>2</th>\n      <td>12.5</td>\n      <td>0.25</td>\n      <td>0.25</td>\n      <td>0.63</td>\n      <td>0.63</td>\n      <td>0.552927</td>\n      <td>0.470853</td>\n      <td>38.341781</td>\n    </tr>\n    <tr>\n      <th>3</th>\n      <td>12.5</td>\n      <td>0.25</td>\n      <td>0.25</td>\n      <td>0.63</td>\n      <td>0.50</td>\n      <td>0.565976</td>\n      <td>0.478137</td>\n      <td>39.467561</td>\n    </tr>\n    <tr>\n      <th>4</th>\n      <td>25.0</td>\n      <td>0.50</td>\n      <td>0.25</td>\n      <td>0.63</td>\n      <td>0.63</td>\n      <td>0.579677</td>\n      <td>0.494165</td>\n      <td>40.484512</td>\n    </tr>\n    <tr>\n      <th>...</th>\n      <td>...</td>\n      <td>...</td>\n      <td>...</td>\n      <td>...</td>\n      <td>...</td>\n      <td>...</td>\n      <td>...</td>\n      <td>...</td>\n    </tr>\n    <tr>\n      <th>25478</th>\n      <td>25.0</td>\n      <td>0.25</td>\n      <td>0.25</td>\n      <td>0.25</td>\n      <td>0.25</td>\n      <td>0.474162</td>\n      <td>0.437923</td>\n      <td>34.525258</td>\n    </tr>\n    <tr>\n      <th>25479</th>\n      <td>25.0</td>\n      <td>0.50</td>\n      <td>0.25</td>\n      <td>0.50</td>\n      <td>0.75</td>\n      <td>0.482854</td>\n      <td>0.440676</td>\n      <td>35.648221</td>\n    </tr>\n    <tr>\n      <th>25480</th>\n      <td>25.0</td>\n      <td>0.50</td>\n      <td>0.38</td>\n      <td>0.50</td>\n      <td>0.50</td>\n      <td>0.568854</td>\n      <td>0.463065</td>\n      <td>37.724724</td>\n    </tr>\n    <tr>\n      <th>25481</th>\n      <td>12.5</td>\n      <td>0.25</td>\n      <td>0.25</td>\n      <td>0.38</td>\n      <td>0.50</td>\n      <td>0.407374</td>\n      <td>0.409261</td>\n      <td>31.881847</td>\n    </tr>\n    <tr>\n      <th>25482</th>\n      <td>12.5</td>\n      <td>0.25</td>\n      <td>0.25</td>\n      <td>0.50</td>\n      <td>0.50</td>\n      <td>0.579677</td>\n      <td>0.486202</td>\n      <td>40.265408</td>\n    </tr>\n  </tbody>\n</table>\n<p>25483 rows × 8 columns</p>\n</div>"
     },
     "execution_count": 207,
     "metadata": {},
     "output_type": "execute_result"
    }
   ],
   "source": [
    "updated_data"
   ],
   "metadata": {
    "collapsed": false,
    "pycharm": {
     "name": "#%%\n"
    }
   }
  },
  {
   "cell_type": "code",
   "execution_count": 208,
   "outputs": [],
   "source": [
    "from sklearn.model_selection import train_test_split\n",
    "#\n",
    "num_train = len(train) # 훈련 데이터 개수\n",
    "\n",
    "# 훈련 데이터와 테스트 데이터 나누기\n",
    "\n",
    "X_train= updated_data[:num_train] # 0~num_train -1 행\n",
    "X_test = updated_data[num_train:] # num_train ~ 마지막 행\n",
    "\n",
    "y_train = train['yield'].values\n",
    "\n",
    "\n",
    "# ########################################\n",
    "# # 데이터 분할\n",
    "# num_train = len(train) # 훈련 데이터 개수\n",
    "#\n",
    "# # 훈련 데이터와 테스트 데이터 나누기\n",
    "#\n",
    "# X= all_data_sprs[:num_train] # 0~num_train -1 행\n",
    "# X_test = all_data_sprs[num_train:] # num_train ~ 마지막 행\n",
    "#\n",
    "# y = train['Survived'].values\n",
    "#\n",
    "#\n",
    "# X_train , X_valid , y_train, y_valid = train_test_split(X_train,y_train, test_size = 0.2, random_state=0)\n",
    "y_test = submission['yield'].values"
   ],
   "metadata": {
    "collapsed": false,
    "pycharm": {
     "name": "#%%\n"
    }
   }
  },
  {
   "cell_type": "code",
   "execution_count": 209,
   "outputs": [
    {
     "name": "stdout",
     "output_type": "stream",
     "text": [
      "Best Model (LightGBM): LGBMRegressor(colsample_bytree=1, learning_rate=0.05, max_depth=4,\n",
      "              n_estimators=300, reg_alpha=0.2, reg_lambda=0.1, subsample=0.4)\n",
      "Best Parameters (LightGBM): {'colsample_bytree': 1, 'learning_rate': 0.05, 'max_depth': 4, 'n_estimators': 300, 'reg_alpha': 0.2, 'reg_lambda': 0.1, 'subsample': 0.4}\n",
      "Wall time: 1min 44s\n"
     ]
    }
   ],
   "source": [
    "%%time\n",
    "\n",
    "from sklearn.model_selection import GridSearchCV\n",
    "import lightgbm as lgb\n",
    "from sklearn.metrics import accuracy_score\n",
    "\n",
    "# LightGBM 회귀 모델 초기화\n",
    "lgb_model = lgb.LGBMRegressor()\n",
    "\n",
    "# 그리드 서치를 위한 하이퍼파라미터 그리드 준비\n",
    "param_grid_lgb = {\n",
    "    'max_depth': [3, 4],                   # 트리의 최대 깊이\n",
    "    'learning_rate': [0.05 , 0.1],         # 학습률\n",
    "    'n_estimators': [200, 300]  ,          # 트리의 개수\n",
    "    'subsample': [0.4 , 0.5],               # 트리를 학습할 때 사용할 샘플링 비율\n",
    "    'colsample_bytree': [0.9, 1],     # 트리를 학습할 때 사용할 특성의 비율\n",
    "    'reg_alpha': [0.2 , 0.3],               # L1 정규화 항의 가중치\n",
    "    'reg_lambda': [0.0, 0.1]               # L2 정규화 항의 가중치\n",
    "}\n",
    "\n",
    "# 그리드 서치 객체 생성\n",
    "grid_search_lgb = GridSearchCV(lgb_model, param_grid_lgb, cv=10, n_jobs=-1)\n",
    "\n",
    "# 그리드 서치 수행\n",
    "grid_search_lgb.fit(X_train, y_train)\n",
    "\n",
    "# 최적의 모델 및 파라미터 출력\n",
    "best_model_grid_search_lgb = grid_search_lgb.best_estimator_\n",
    "best_params_grid_search_lgb = grid_search_lgb.best_params_\n",
    "print(\"Best Model (LightGBM):\", best_model_grid_search_lgb)\n",
    "print(\"Best Parameters (LightGBM):\", best_params_grid_search_lgb)\n"
   ],
   "metadata": {
    "collapsed": false,
    "pycharm": {
     "name": "#%%\n"
    }
   }
  },
  {
   "cell_type": "code",
   "execution_count": 210,
   "outputs": [
    {
     "data": {
      "text/plain": "array([4264.824, 6106.815, 7137.405, ..., 6513.644, 4415.815, 7270.296])"
     },
     "execution_count": 210,
     "metadata": {},
     "output_type": "execute_result"
    }
   ],
   "source": [
    "y_preds = best_model_grid_search_lgb.predict(X_test)\n",
    "y_preds"
   ],
   "metadata": {
    "collapsed": false,
    "pycharm": {
     "name": "#%%\n"
    }
   }
  },
  {
   "cell_type": "code",
   "execution_count": 211,
   "outputs": [
    {
     "data": {
      "text/plain": "-1.6552969559327462"
     },
     "execution_count": 211,
     "metadata": {},
     "output_type": "execute_result"
    }
   ],
   "source": [
    "best_model_grid_search_lgb.score(X_test , y_test)"
   ],
   "metadata": {
    "collapsed": false,
    "pycharm": {
     "name": "#%%\n"
    }
   }
  },
  {
   "cell_type": "code",
   "execution_count": 212,
   "outputs": [
    {
     "name": "stdout",
     "output_type": "stream",
     "text": [
      "현재 날짜 및 시각 :  [5, 26, 18, 32, 14]\n"
     ]
    }
   ],
   "source": [
    "import datetime\n",
    "\n",
    "# 현재 날짜와 시각 구하기\n",
    "now = datetime.datetime.now()\n",
    "date_list = [now.month, now.day, now.hour, now.minute, now.second]\n",
    "# 현재 날짜와 시각 출력하기\n",
    "print(\"현재 날짜 및 시각 : \", date_list)\n",
    "\n",
    "# 제출 파일 생성\n",
    "\n",
    "submission['yield'] = y_preds\n",
    "submission.to_csv(f'submission_PCA_Lgb_2_{date_list[0]}_{date_list[1]}_{date_list[2]}_{date_list[3]}_{date_list[4]}.csv')"
   ],
   "metadata": {
    "collapsed": false,
    "pycharm": {
     "name": "#%%\n"
    }
   }
  },
  {
   "cell_type": "code",
   "execution_count": null,
   "outputs": [],
   "source": [],
   "metadata": {
    "collapsed": false,
    "pycharm": {
     "name": "#%%\n"
    }
   }
  },
  {
   "cell_type": "code",
   "execution_count": null,
   "outputs": [],
   "source": [],
   "metadata": {
    "collapsed": false,
    "pycharm": {
     "name": "#%%\n"
    }
   }
  },
  {
   "cell_type": "code",
   "execution_count": 12,
   "outputs": [],
   "source": [],
   "metadata": {
    "collapsed": false,
    "pycharm": {
     "name": "#%%\n"
    }
   }
  },
  {
   "cell_type": "markdown",
   "source": [
    "## 베이스라인 모델 선형 모델"
   ],
   "metadata": {
    "collapsed": false,
    "pycharm": {
     "name": "#%% md\n"
    }
   }
  },
  {
   "cell_type": "code",
   "execution_count": 16,
   "outputs": [
    {
     "ename": "TypeError",
     "evalue": "__init__() got an unexpected keyword argument 'max_iter'",
     "output_type": "error",
     "traceback": [
      "\u001B[1;31m---------------------------------------------------------------------------\u001B[0m",
      "\u001B[1;31mTypeError\u001B[0m                                 Traceback (most recent call last)",
      "\u001B[1;32m<ipython-input-16-56ead96494fa>\u001B[0m in \u001B[0;36m<module>\u001B[1;34m\u001B[0m\n\u001B[0;32m      1\u001B[0m \u001B[1;32mfrom\u001B[0m \u001B[0msklearn\u001B[0m\u001B[1;33m.\u001B[0m\u001B[0mlinear_model\u001B[0m \u001B[1;32mimport\u001B[0m \u001B[0mLinearRegression\u001B[0m\u001B[1;33m\u001B[0m\u001B[1;33m\u001B[0m\u001B[0m\n\u001B[0;32m      2\u001B[0m \u001B[1;33m\u001B[0m\u001B[0m\n\u001B[1;32m----> 3\u001B[1;33m \u001B[0mlogistic_model\u001B[0m \u001B[1;33m=\u001B[0m \u001B[0mLinearRegression\u001B[0m\u001B[1;33m(\u001B[0m\u001B[0mmax_iter\u001B[0m\u001B[1;33m=\u001B[0m\u001B[1;36m1000\u001B[0m\u001B[1;33m,\u001B[0m \u001B[0mrandom_state\u001B[0m\u001B[1;33m=\u001B[0m\u001B[1;36m42\u001B[0m\u001B[1;33m)\u001B[0m\u001B[1;33m\u001B[0m\u001B[1;33m\u001B[0m\u001B[0m\n\u001B[0m\u001B[0;32m      4\u001B[0m \u001B[0mlogistic_model\u001B[0m\u001B[1;33m.\u001B[0m\u001B[0mfit\u001B[0m\u001B[1;33m(\u001B[0m\u001B[0mX_train\u001B[0m\u001B[1;33m,\u001B[0m \u001B[0my_train\u001B[0m\u001B[1;33m)\u001B[0m  \u001B[1;31m# 타깃 변수를 범주형으로 변환하여 모델 훈련\u001B[0m\u001B[1;33m\u001B[0m\u001B[1;33m\u001B[0m\u001B[0m\n\u001B[0;32m      5\u001B[0m \u001B[1;33m\u001B[0m\u001B[0m\n",
      "\u001B[1;32m~\\anaconda3\\lib\\site-packages\\sklearn\\utils\\validation.py\u001B[0m in \u001B[0;36minner_f\u001B[1;34m(*args, **kwargs)\u001B[0m\n\u001B[0;32m     61\u001B[0m             \u001B[0mextra_args\u001B[0m \u001B[1;33m=\u001B[0m \u001B[0mlen\u001B[0m\u001B[1;33m(\u001B[0m\u001B[0margs\u001B[0m\u001B[1;33m)\u001B[0m \u001B[1;33m-\u001B[0m \u001B[0mlen\u001B[0m\u001B[1;33m(\u001B[0m\u001B[0mall_args\u001B[0m\u001B[1;33m)\u001B[0m\u001B[1;33m\u001B[0m\u001B[1;33m\u001B[0m\u001B[0m\n\u001B[0;32m     62\u001B[0m             \u001B[1;32mif\u001B[0m \u001B[0mextra_args\u001B[0m \u001B[1;33m<=\u001B[0m \u001B[1;36m0\u001B[0m\u001B[1;33m:\u001B[0m\u001B[1;33m\u001B[0m\u001B[1;33m\u001B[0m\u001B[0m\n\u001B[1;32m---> 63\u001B[1;33m                 \u001B[1;32mreturn\u001B[0m \u001B[0mf\u001B[0m\u001B[1;33m(\u001B[0m\u001B[1;33m*\u001B[0m\u001B[0margs\u001B[0m\u001B[1;33m,\u001B[0m \u001B[1;33m**\u001B[0m\u001B[0mkwargs\u001B[0m\u001B[1;33m)\u001B[0m\u001B[1;33m\u001B[0m\u001B[1;33m\u001B[0m\u001B[0m\n\u001B[0m\u001B[0;32m     64\u001B[0m \u001B[1;33m\u001B[0m\u001B[0m\n\u001B[0;32m     65\u001B[0m             \u001B[1;31m# extra_args > 0\u001B[0m\u001B[1;33m\u001B[0m\u001B[1;33m\u001B[0m\u001B[1;33m\u001B[0m\u001B[0m\n",
      "\u001B[1;31mTypeError\u001B[0m: __init__() got an unexpected keyword argument 'max_iter'"
     ]
    }
   ],
   "source": [
    "from sklearn.linear_model import LinearRegression\n",
    "\n",
    "logistic_model = LinearRegression(max_iter=1000, random_state=42)\n",
    "logistic_model.fit(X_train, y_train)  # 타깃 변수를 범주형으로 변환하여 모델 훈련\n"
   ],
   "metadata": {
    "collapsed": false,
    "pycharm": {
     "name": "#%%\n"
    }
   }
  },
  {
   "cell_type": "markdown",
   "source": [
    "### 그리드서치 객체 생성\n",
    "\n",
    "- 그리드서치는 하이퍼파라미터의 값을바꿔가며'모델'의 성능을 교차검증으로 '평가'해 최적의 하이퍼파라미터 값을 찾아준다.\n",
    "\n",
    "- 비교 검증해볼 하이퍼파라미터 값 목록\n",
    "\n",
    "- 대상 모델\n",
    "\n",
    "- 교차 검증용 평가 수단(평가 함수)\n",
    "## 회귀 평가지표\n",
    "\n",
    "- 회귀 모델을 훈련해 최적의 회귀계수를 구할 수 있다."
   ],
   "metadata": {
    "collapsed": false,
    "pycharm": {
     "name": "#%% md\n"
    }
   }
  },
  {
   "cell_type": "code",
   "execution_count": 17,
   "outputs": [
    {
     "name": "stderr",
     "output_type": "stream",
     "text": [
      "C:\\Users\\andyp\\anaconda3\\lib\\site-packages\\pandas\\core\\arraylike.py:358: RuntimeWarning: overflow encountered in exp\n",
      "  result = getattr(ufunc, method)(*inputs, **kwargs)\n",
      "<ipython-input-17-3c211142254d>:13: RuntimeWarning: overflow encountered in exp\n",
      "  y_pred = np.exp(y_pred)\n",
      "C:\\Users\\andyp\\anaconda3\\lib\\site-packages\\pandas\\core\\arraylike.py:358: RuntimeWarning: overflow encountered in exp\n",
      "  result = getattr(ufunc, method)(*inputs, **kwargs)\n",
      "<ipython-input-17-3c211142254d>:13: RuntimeWarning: overflow encountered in exp\n",
      "  y_pred = np.exp(y_pred)\n",
      "C:\\Users\\andyp\\anaconda3\\lib\\site-packages\\pandas\\core\\arraylike.py:358: RuntimeWarning: overflow encountered in exp\n",
      "  result = getattr(ufunc, method)(*inputs, **kwargs)\n",
      "<ipython-input-17-3c211142254d>:13: RuntimeWarning: overflow encountered in exp\n",
      "  y_pred = np.exp(y_pred)\n",
      "<ipython-input-17-3c211142254d>:20: RuntimeWarning: overflow encountered in square\n",
      "  output = np.sqrt(np.mean((log_true - log_pred) ** 2))\n",
      "C:\\Users\\andyp\\anaconda3\\lib\\site-packages\\pandas\\core\\arraylike.py:358: RuntimeWarning: overflow encountered in exp\n",
      "  result = getattr(ufunc, method)(*inputs, **kwargs)\n",
      "<ipython-input-17-3c211142254d>:13: RuntimeWarning: overflow encountered in exp\n",
      "  y_pred = np.exp(y_pred)\n",
      "C:\\Users\\andyp\\anaconda3\\lib\\site-packages\\pandas\\core\\arraylike.py:358: RuntimeWarning: overflow encountered in exp\n",
      "  result = getattr(ufunc, method)(*inputs, **kwargs)\n",
      "<ipython-input-17-3c211142254d>:13: RuntimeWarning: overflow encountered in exp\n",
      "  y_pred = np.exp(y_pred)\n",
      "C:\\Users\\andyp\\anaconda3\\lib\\site-packages\\pandas\\core\\arraylike.py:358: RuntimeWarning: overflow encountered in exp\n",
      "  result = getattr(ufunc, method)(*inputs, **kwargs)\n",
      "<ipython-input-17-3c211142254d>:13: RuntimeWarning: overflow encountered in exp\n",
      "  y_pred = np.exp(y_pred)\n",
      "C:\\Users\\andyp\\anaconda3\\lib\\site-packages\\pandas\\core\\arraylike.py:358: RuntimeWarning: overflow encountered in exp\n",
      "  result = getattr(ufunc, method)(*inputs, **kwargs)\n",
      "<ipython-input-17-3c211142254d>:13: RuntimeWarning: overflow encountered in exp\n",
      "  y_pred = np.exp(y_pred)\n",
      "C:\\Users\\andyp\\anaconda3\\lib\\site-packages\\pandas\\core\\arraylike.py:358: RuntimeWarning: overflow encountered in exp\n",
      "  result = getattr(ufunc, method)(*inputs, **kwargs)\n",
      "<ipython-input-17-3c211142254d>:13: RuntimeWarning: overflow encountered in exp\n",
      "  y_pred = np.exp(y_pred)\n",
      "<ipython-input-17-3c211142254d>:20: RuntimeWarning: overflow encountered in square\n",
      "  output = np.sqrt(np.mean((log_true - log_pred) ** 2))\n",
      "C:\\Users\\andyp\\anaconda3\\lib\\site-packages\\pandas\\core\\arraylike.py:358: RuntimeWarning: overflow encountered in exp\n",
      "  result = getattr(ufunc, method)(*inputs, **kwargs)\n",
      "<ipython-input-17-3c211142254d>:13: RuntimeWarning: overflow encountered in exp\n",
      "  y_pred = np.exp(y_pred)\n",
      "C:\\Users\\andyp\\anaconda3\\lib\\site-packages\\pandas\\core\\arraylike.py:358: RuntimeWarning: overflow encountered in exp\n",
      "  result = getattr(ufunc, method)(*inputs, **kwargs)\n",
      "<ipython-input-17-3c211142254d>:13: RuntimeWarning: overflow encountered in exp\n",
      "  y_pred = np.exp(y_pred)\n",
      "C:\\Users\\andyp\\anaconda3\\lib\\site-packages\\pandas\\core\\arraylike.py:358: RuntimeWarning: overflow encountered in exp\n",
      "  result = getattr(ufunc, method)(*inputs, **kwargs)\n",
      "<ipython-input-17-3c211142254d>:13: RuntimeWarning: overflow encountered in exp\n",
      "  y_pred = np.exp(y_pred)\n",
      "C:\\Users\\andyp\\anaconda3\\lib\\site-packages\\pandas\\core\\arraylike.py:358: RuntimeWarning: overflow encountered in exp\n",
      "  result = getattr(ufunc, method)(*inputs, **kwargs)\n",
      "<ipython-input-17-3c211142254d>:13: RuntimeWarning: overflow encountered in exp\n",
      "  y_pred = np.exp(y_pred)\n",
      "C:\\Users\\andyp\\anaconda3\\lib\\site-packages\\pandas\\core\\arraylike.py:358: RuntimeWarning: overflow encountered in exp\n",
      "  result = getattr(ufunc, method)(*inputs, **kwargs)\n",
      "<ipython-input-17-3c211142254d>:13: RuntimeWarning: overflow encountered in exp\n",
      "  y_pred = np.exp(y_pred)\n",
      "<ipython-input-17-3c211142254d>:20: RuntimeWarning: overflow encountered in square\n",
      "  output = np.sqrt(np.mean((log_true - log_pred) ** 2))\n",
      "C:\\Users\\andyp\\anaconda3\\lib\\site-packages\\pandas\\core\\arraylike.py:358: RuntimeWarning: overflow encountered in exp\n",
      "  result = getattr(ufunc, method)(*inputs, **kwargs)\n",
      "<ipython-input-17-3c211142254d>:13: RuntimeWarning: overflow encountered in exp\n",
      "  y_pred = np.exp(y_pred)\n",
      "C:\\Users\\andyp\\anaconda3\\lib\\site-packages\\pandas\\core\\arraylike.py:358: RuntimeWarning: overflow encountered in exp\n",
      "  result = getattr(ufunc, method)(*inputs, **kwargs)\n",
      "<ipython-input-17-3c211142254d>:13: RuntimeWarning: overflow encountered in exp\n",
      "  y_pred = np.exp(y_pred)\n",
      "C:\\Users\\andyp\\anaconda3\\lib\\site-packages\\pandas\\core\\arraylike.py:358: RuntimeWarning: overflow encountered in exp\n",
      "  result = getattr(ufunc, method)(*inputs, **kwargs)\n",
      "<ipython-input-17-3c211142254d>:13: RuntimeWarning: overflow encountered in exp\n",
      "  y_pred = np.exp(y_pred)\n",
      "C:\\Users\\andyp\\anaconda3\\lib\\site-packages\\pandas\\core\\arraylike.py:358: RuntimeWarning: overflow encountered in exp\n",
      "  result = getattr(ufunc, method)(*inputs, **kwargs)\n",
      "<ipython-input-17-3c211142254d>:13: RuntimeWarning: overflow encountered in exp\n",
      "  y_pred = np.exp(y_pred)\n",
      "C:\\Users\\andyp\\anaconda3\\lib\\site-packages\\pandas\\core\\arraylike.py:358: RuntimeWarning: overflow encountered in exp\n",
      "  result = getattr(ufunc, method)(*inputs, **kwargs)\n",
      "<ipython-input-17-3c211142254d>:13: RuntimeWarning: overflow encountered in exp\n",
      "  y_pred = np.exp(y_pred)\n",
      "<ipython-input-17-3c211142254d>:20: RuntimeWarning: overflow encountered in square\n",
      "  output = np.sqrt(np.mean((log_true - log_pred) ** 2))\n",
      "C:\\Users\\andyp\\anaconda3\\lib\\site-packages\\pandas\\core\\arraylike.py:358: RuntimeWarning: overflow encountered in exp\n",
      "  result = getattr(ufunc, method)(*inputs, **kwargs)\n",
      "<ipython-input-17-3c211142254d>:13: RuntimeWarning: overflow encountered in exp\n",
      "  y_pred = np.exp(y_pred)\n",
      "C:\\Users\\andyp\\anaconda3\\lib\\site-packages\\pandas\\core\\arraylike.py:358: RuntimeWarning: overflow encountered in exp\n",
      "  result = getattr(ufunc, method)(*inputs, **kwargs)\n",
      "<ipython-input-17-3c211142254d>:13: RuntimeWarning: overflow encountered in exp\n",
      "  y_pred = np.exp(y_pred)\n",
      "C:\\Users\\andyp\\anaconda3\\lib\\site-packages\\pandas\\core\\arraylike.py:358: RuntimeWarning: overflow encountered in exp\n",
      "  result = getattr(ufunc, method)(*inputs, **kwargs)\n",
      "<ipython-input-17-3c211142254d>:13: RuntimeWarning: overflow encountered in exp\n",
      "  y_pred = np.exp(y_pred)\n",
      "C:\\Users\\andyp\\anaconda3\\lib\\site-packages\\pandas\\core\\arraylike.py:358: RuntimeWarning: overflow encountered in exp\n",
      "  result = getattr(ufunc, method)(*inputs, **kwargs)\n",
      "<ipython-input-17-3c211142254d>:13: RuntimeWarning: overflow encountered in exp\n",
      "  y_pred = np.exp(y_pred)\n",
      "C:\\Users\\andyp\\anaconda3\\lib\\site-packages\\pandas\\core\\arraylike.py:358: RuntimeWarning: overflow encountered in exp\n",
      "  result = getattr(ufunc, method)(*inputs, **kwargs)\n",
      "<ipython-input-17-3c211142254d>:13: RuntimeWarning: overflow encountered in exp\n",
      "  y_pred = np.exp(y_pred)\n",
      "<ipython-input-17-3c211142254d>:20: RuntimeWarning: overflow encountered in square\n",
      "  output = np.sqrt(np.mean((log_true - log_pred) ** 2))\n",
      "C:\\Users\\andyp\\anaconda3\\lib\\site-packages\\pandas\\core\\arraylike.py:358: RuntimeWarning: overflow encountered in exp\n",
      "  result = getattr(ufunc, method)(*inputs, **kwargs)\n",
      "<ipython-input-17-3c211142254d>:13: RuntimeWarning: overflow encountered in exp\n",
      "  y_pred = np.exp(y_pred)\n",
      "C:\\Users\\andyp\\anaconda3\\lib\\site-packages\\pandas\\core\\arraylike.py:358: RuntimeWarning: overflow encountered in exp\n",
      "  result = getattr(ufunc, method)(*inputs, **kwargs)\n",
      "<ipython-input-17-3c211142254d>:13: RuntimeWarning: overflow encountered in exp\n",
      "  y_pred = np.exp(y_pred)\n",
      "C:\\Users\\andyp\\anaconda3\\lib\\site-packages\\pandas\\core\\arraylike.py:358: RuntimeWarning: overflow encountered in exp\n",
      "  result = getattr(ufunc, method)(*inputs, **kwargs)\n",
      "<ipython-input-17-3c211142254d>:13: RuntimeWarning: overflow encountered in exp\n",
      "  y_pred = np.exp(y_pred)\n",
      "C:\\Users\\andyp\\anaconda3\\lib\\site-packages\\pandas\\core\\arraylike.py:358: RuntimeWarning: overflow encountered in exp\n",
      "  result = getattr(ufunc, method)(*inputs, **kwargs)\n",
      "<ipython-input-17-3c211142254d>:13: RuntimeWarning: overflow encountered in exp\n",
      "  y_pred = np.exp(y_pred)\n",
      "C:\\Users\\andyp\\anaconda3\\lib\\site-packages\\pandas\\core\\arraylike.py:358: RuntimeWarning: overflow encountered in exp\n",
      "  result = getattr(ufunc, method)(*inputs, **kwargs)\n",
      "<ipython-input-17-3c211142254d>:13: RuntimeWarning: overflow encountered in exp\n",
      "  y_pred = np.exp(y_pred)\n",
      "<ipython-input-17-3c211142254d>:20: RuntimeWarning: overflow encountered in square\n",
      "  output = np.sqrt(np.mean((log_true - log_pred) ** 2))\n",
      "C:\\Users\\andyp\\anaconda3\\lib\\site-packages\\pandas\\core\\arraylike.py:358: RuntimeWarning: overflow encountered in exp\n",
      "  result = getattr(ufunc, method)(*inputs, **kwargs)\n",
      "<ipython-input-17-3c211142254d>:13: RuntimeWarning: overflow encountered in exp\n",
      "  y_pred = np.exp(y_pred)\n",
      "C:\\Users\\andyp\\anaconda3\\lib\\site-packages\\pandas\\core\\arraylike.py:358: RuntimeWarning: overflow encountered in exp\n",
      "  result = getattr(ufunc, method)(*inputs, **kwargs)\n",
      "<ipython-input-17-3c211142254d>:13: RuntimeWarning: overflow encountered in exp\n",
      "  y_pred = np.exp(y_pred)\n",
      "C:\\Users\\andyp\\anaconda3\\lib\\site-packages\\pandas\\core\\arraylike.py:358: RuntimeWarning: overflow encountered in exp\n",
      "  result = getattr(ufunc, method)(*inputs, **kwargs)\n",
      "<ipython-input-17-3c211142254d>:13: RuntimeWarning: overflow encountered in exp\n",
      "  y_pred = np.exp(y_pred)\n",
      "C:\\Users\\andyp\\anaconda3\\lib\\site-packages\\pandas\\core\\arraylike.py:358: RuntimeWarning: overflow encountered in exp\n",
      "  result = getattr(ufunc, method)(*inputs, **kwargs)\n",
      "<ipython-input-17-3c211142254d>:13: RuntimeWarning: overflow encountered in exp\n",
      "  y_pred = np.exp(y_pred)\n",
      "C:\\Users\\andyp\\anaconda3\\lib\\site-packages\\pandas\\core\\arraylike.py:358: RuntimeWarning: overflow encountered in exp\n",
      "  result = getattr(ufunc, method)(*inputs, **kwargs)\n",
      "<ipython-input-17-3c211142254d>:13: RuntimeWarning: overflow encountered in exp\n",
      "  y_pred = np.exp(y_pred)\n",
      "<ipython-input-17-3c211142254d>:20: RuntimeWarning: overflow encountered in square\n",
      "  output = np.sqrt(np.mean((log_true - log_pred) ** 2))\n",
      "C:\\Users\\andyp\\anaconda3\\lib\\site-packages\\pandas\\core\\arraylike.py:358: RuntimeWarning: overflow encountered in exp\n",
      "  result = getattr(ufunc, method)(*inputs, **kwargs)\n",
      "<ipython-input-17-3c211142254d>:13: RuntimeWarning: overflow encountered in exp\n",
      "  y_pred = np.exp(y_pred)\n",
      "C:\\Users\\andyp\\anaconda3\\lib\\site-packages\\pandas\\core\\arraylike.py:358: RuntimeWarning: overflow encountered in exp\n",
      "  result = getattr(ufunc, method)(*inputs, **kwargs)\n",
      "<ipython-input-17-3c211142254d>:13: RuntimeWarning: overflow encountered in exp\n",
      "  y_pred = np.exp(y_pred)\n",
      "C:\\Users\\andyp\\anaconda3\\lib\\site-packages\\pandas\\core\\arraylike.py:358: RuntimeWarning: overflow encountered in exp\n",
      "  result = getattr(ufunc, method)(*inputs, **kwargs)\n",
      "<ipython-input-17-3c211142254d>:13: RuntimeWarning: overflow encountered in exp\n",
      "  y_pred = np.exp(y_pred)\n",
      "C:\\Users\\andyp\\anaconda3\\lib\\site-packages\\pandas\\core\\arraylike.py:358: RuntimeWarning: overflow encountered in exp\n",
      "  result = getattr(ufunc, method)(*inputs, **kwargs)\n",
      "<ipython-input-17-3c211142254d>:13: RuntimeWarning: overflow encountered in exp\n",
      "  y_pred = np.exp(y_pred)\n",
      "C:\\Users\\andyp\\anaconda3\\lib\\site-packages\\pandas\\core\\arraylike.py:358: RuntimeWarning: overflow encountered in exp\n",
      "  result = getattr(ufunc, method)(*inputs, **kwargs)\n",
      "<ipython-input-17-3c211142254d>:13: RuntimeWarning: overflow encountered in exp\n",
      "  y_pred = np.exp(y_pred)\n",
      "C:\\Users\\andyp\\anaconda3\\lib\\site-packages\\pandas\\core\\arraylike.py:358: RuntimeWarning: overflow encountered in exp\n",
      "  result = getattr(ufunc, method)(*inputs, **kwargs)\n",
      "<ipython-input-17-3c211142254d>:13: RuntimeWarning: overflow encountered in exp\n",
      "  y_pred = np.exp(y_pred)\n",
      "C:\\Users\\andyp\\anaconda3\\lib\\site-packages\\pandas\\core\\arraylike.py:358: RuntimeWarning: overflow encountered in exp\n",
      "  result = getattr(ufunc, method)(*inputs, **kwargs)\n",
      "<ipython-input-17-3c211142254d>:13: RuntimeWarning: overflow encountered in exp\n",
      "  y_pred = np.exp(y_pred)\n",
      "C:\\Users\\andyp\\anaconda3\\lib\\site-packages\\pandas\\core\\arraylike.py:358: RuntimeWarning: overflow encountered in exp\n",
      "  result = getattr(ufunc, method)(*inputs, **kwargs)\n",
      "<ipython-input-17-3c211142254d>:13: RuntimeWarning: overflow encountered in exp\n",
      "  y_pred = np.exp(y_pred)\n",
      "C:\\Users\\andyp\\anaconda3\\lib\\site-packages\\pandas\\core\\arraylike.py:358: RuntimeWarning: overflow encountered in exp\n",
      "  result = getattr(ufunc, method)(*inputs, **kwargs)\n",
      "<ipython-input-17-3c211142254d>:13: RuntimeWarning: overflow encountered in exp\n",
      "  y_pred = np.exp(y_pred)\n",
      "C:\\Users\\andyp\\anaconda3\\lib\\site-packages\\pandas\\core\\arraylike.py:358: RuntimeWarning: overflow encountered in exp\n",
      "  result = getattr(ufunc, method)(*inputs, **kwargs)\n",
      "<ipython-input-17-3c211142254d>:13: RuntimeWarning: overflow encountered in exp\n",
      "  y_pred = np.exp(y_pred)\n",
      "C:\\Users\\andyp\\anaconda3\\lib\\site-packages\\pandas\\core\\arraylike.py:358: RuntimeWarning: overflow encountered in exp\n",
      "  result = getattr(ufunc, method)(*inputs, **kwargs)\n",
      "<ipython-input-17-3c211142254d>:13: RuntimeWarning: overflow encountered in exp\n",
      "  y_pred = np.exp(y_pred)\n",
      "C:\\Users\\andyp\\anaconda3\\lib\\site-packages\\pandas\\core\\arraylike.py:358: RuntimeWarning: overflow encountered in exp\n",
      "  result = getattr(ufunc, method)(*inputs, **kwargs)\n",
      "<ipython-input-17-3c211142254d>:13: RuntimeWarning: overflow encountered in exp\n",
      "  y_pred = np.exp(y_pred)\n",
      "C:\\Users\\andyp\\anaconda3\\lib\\site-packages\\pandas\\core\\arraylike.py:358: RuntimeWarning: overflow encountered in exp\n",
      "  result = getattr(ufunc, method)(*inputs, **kwargs)\n",
      "<ipython-input-17-3c211142254d>:13: RuntimeWarning: overflow encountered in exp\n",
      "  y_pred = np.exp(y_pred)\n",
      "C:\\Users\\andyp\\anaconda3\\lib\\site-packages\\pandas\\core\\arraylike.py:358: RuntimeWarning: overflow encountered in exp\n",
      "  result = getattr(ufunc, method)(*inputs, **kwargs)\n",
      "<ipython-input-17-3c211142254d>:13: RuntimeWarning: overflow encountered in exp\n",
      "  y_pred = np.exp(y_pred)\n",
      "C:\\Users\\andyp\\anaconda3\\lib\\site-packages\\pandas\\core\\arraylike.py:358: RuntimeWarning: overflow encountered in exp\n",
      "  result = getattr(ufunc, method)(*inputs, **kwargs)\n",
      "<ipython-input-17-3c211142254d>:13: RuntimeWarning: overflow encountered in exp\n",
      "  y_pred = np.exp(y_pred)\n",
      "C:\\Users\\andyp\\anaconda3\\lib\\site-packages\\pandas\\core\\arraylike.py:358: RuntimeWarning: overflow encountered in exp\n",
      "  result = getattr(ufunc, method)(*inputs, **kwargs)\n",
      "<ipython-input-17-3c211142254d>:13: RuntimeWarning: overflow encountered in exp\n",
      "  y_pred = np.exp(y_pred)\n",
      "C:\\Users\\andyp\\anaconda3\\lib\\site-packages\\pandas\\core\\arraylike.py:358: RuntimeWarning: overflow encountered in exp\n",
      "  result = getattr(ufunc, method)(*inputs, **kwargs)\n",
      "<ipython-input-17-3c211142254d>:13: RuntimeWarning: overflow encountered in exp\n",
      "  y_pred = np.exp(y_pred)\n",
      "C:\\Users\\andyp\\anaconda3\\lib\\site-packages\\pandas\\core\\arraylike.py:358: RuntimeWarning: overflow encountered in exp\n",
      "  result = getattr(ufunc, method)(*inputs, **kwargs)\n",
      "<ipython-input-17-3c211142254d>:13: RuntimeWarning: overflow encountered in exp\n",
      "  y_pred = np.exp(y_pred)\n",
      "C:\\Users\\andyp\\anaconda3\\lib\\site-packages\\pandas\\core\\arraylike.py:358: RuntimeWarning: overflow encountered in exp\n",
      "  result = getattr(ufunc, method)(*inputs, **kwargs)\n",
      "<ipython-input-17-3c211142254d>:13: RuntimeWarning: overflow encountered in exp\n",
      "  y_pred = np.exp(y_pred)\n",
      "C:\\Users\\andyp\\anaconda3\\lib\\site-packages\\pandas\\core\\arraylike.py:358: RuntimeWarning: overflow encountered in exp\n",
      "  result = getattr(ufunc, method)(*inputs, **kwargs)\n",
      "<ipython-input-17-3c211142254d>:13: RuntimeWarning: overflow encountered in exp\n",
      "  y_pred = np.exp(y_pred)\n",
      "C:\\Users\\andyp\\anaconda3\\lib\\site-packages\\pandas\\core\\arraylike.py:358: RuntimeWarning: overflow encountered in exp\n",
      "  result = getattr(ufunc, method)(*inputs, **kwargs)\n",
      "<ipython-input-17-3c211142254d>:13: RuntimeWarning: overflow encountered in exp\n",
      "  y_pred = np.exp(y_pred)\n",
      "C:\\Users\\andyp\\anaconda3\\lib\\site-packages\\pandas\\core\\arraylike.py:358: RuntimeWarning: overflow encountered in exp\n",
      "  result = getattr(ufunc, method)(*inputs, **kwargs)\n",
      "<ipython-input-17-3c211142254d>:13: RuntimeWarning: overflow encountered in exp\n",
      "  y_pred = np.exp(y_pred)\n",
      "C:\\Users\\andyp\\anaconda3\\lib\\site-packages\\pandas\\core\\arraylike.py:358: RuntimeWarning: overflow encountered in exp\n",
      "  result = getattr(ufunc, method)(*inputs, **kwargs)\n",
      "<ipython-input-17-3c211142254d>:13: RuntimeWarning: overflow encountered in exp\n",
      "  y_pred = np.exp(y_pred)\n",
      "C:\\Users\\andyp\\anaconda3\\lib\\site-packages\\pandas\\core\\arraylike.py:358: RuntimeWarning: overflow encountered in exp\n",
      "  result = getattr(ufunc, method)(*inputs, **kwargs)\n",
      "<ipython-input-17-3c211142254d>:13: RuntimeWarning: overflow encountered in exp\n",
      "  y_pred = np.exp(y_pred)\n",
      "C:\\Users\\andyp\\anaconda3\\lib\\site-packages\\pandas\\core\\arraylike.py:358: RuntimeWarning: overflow encountered in exp\n",
      "  result = getattr(ufunc, method)(*inputs, **kwargs)\n",
      "<ipython-input-17-3c211142254d>:13: RuntimeWarning: overflow encountered in exp\n",
      "  y_pred = np.exp(y_pred)\n",
      "C:\\Users\\andyp\\anaconda3\\lib\\site-packages\\pandas\\core\\arraylike.py:358: RuntimeWarning: overflow encountered in exp\n",
      "  result = getattr(ufunc, method)(*inputs, **kwargs)\n",
      "<ipython-input-17-3c211142254d>:13: RuntimeWarning: overflow encountered in exp\n",
      "  y_pred = np.exp(y_pred)\n",
      "C:\\Users\\andyp\\anaconda3\\lib\\site-packages\\pandas\\core\\arraylike.py:358: RuntimeWarning: overflow encountered in exp\n",
      "  result = getattr(ufunc, method)(*inputs, **kwargs)\n",
      "<ipython-input-17-3c211142254d>:13: RuntimeWarning: overflow encountered in exp\n",
      "  y_pred = np.exp(y_pred)\n",
      "C:\\Users\\andyp\\anaconda3\\lib\\site-packages\\pandas\\core\\arraylike.py:358: RuntimeWarning: overflow encountered in exp\n",
      "  result = getattr(ufunc, method)(*inputs, **kwargs)\n"
     ]
    },
    {
     "name": "stdout",
     "output_type": "stream",
     "text": [
      "최적 하이퍼파라미터 : {'alpha': 100, 'max_iter': 3000}\n"
     ]
    },
    {
     "name": "stderr",
     "output_type": "stream",
     "text": [
      "<ipython-input-17-3c211142254d>:13: RuntimeWarning: overflow encountered in exp\n",
      "  y_pred = np.exp(y_pred)\n",
      "C:\\Users\\andyp\\anaconda3\\lib\\site-packages\\pandas\\core\\arraylike.py:358: RuntimeWarning: overflow encountered in exp\n",
      "  result = getattr(ufunc, method)(*inputs, **kwargs)\n",
      "<ipython-input-17-3c211142254d>:13: RuntimeWarning: overflow encountered in exp\n",
      "  y_pred = np.exp(y_pred)\n",
      "C:\\Users\\andyp\\anaconda3\\lib\\site-packages\\pandas\\core\\arraylike.py:358: RuntimeWarning: overflow encountered in exp\n",
      "  result = getattr(ufunc, method)(*inputs, **kwargs)\n",
      "<ipython-input-17-3c211142254d>:13: RuntimeWarning: overflow encountered in exp\n",
      "  y_pred = np.exp(y_pred)\n",
      "C:\\Users\\andyp\\anaconda3\\lib\\site-packages\\pandas\\core\\arraylike.py:358: RuntimeWarning: overflow encountered in exp\n",
      "  result = getattr(ufunc, method)(*inputs, **kwargs)\n",
      "<ipython-input-17-3c211142254d>:13: RuntimeWarning: overflow encountered in exp\n",
      "  y_pred = np.exp(y_pred)\n",
      "C:\\Users\\andyp\\anaconda3\\lib\\site-packages\\pandas\\core\\arraylike.py:358: RuntimeWarning: overflow encountered in exp\n",
      "  result = getattr(ufunc, method)(*inputs, **kwargs)\n",
      "<ipython-input-17-3c211142254d>:13: RuntimeWarning: overflow encountered in exp\n",
      "  y_pred = np.exp(y_pred)\n",
      "C:\\Users\\andyp\\anaconda3\\lib\\site-packages\\pandas\\core\\arraylike.py:358: RuntimeWarning: overflow encountered in exp\n",
      "  result = getattr(ufunc, method)(*inputs, **kwargs)\n",
      "<ipython-input-17-3c211142254d>:13: RuntimeWarning: overflow encountered in exp\n",
      "  y_pred = np.exp(y_pred)\n",
      "C:\\Users\\andyp\\anaconda3\\lib\\site-packages\\pandas\\core\\arraylike.py:358: RuntimeWarning: overflow encountered in exp\n",
      "  result = getattr(ufunc, method)(*inputs, **kwargs)\n",
      "<ipython-input-17-3c211142254d>:13: RuntimeWarning: overflow encountered in exp\n",
      "  y_pred = np.exp(y_pred)\n",
      "C:\\Users\\andyp\\anaconda3\\lib\\site-packages\\pandas\\core\\arraylike.py:358: RuntimeWarning: overflow encountered in exp\n",
      "  result = getattr(ufunc, method)(*inputs, **kwargs)\n",
      "<ipython-input-17-3c211142254d>:13: RuntimeWarning: overflow encountered in exp\n",
      "  y_pred = np.exp(y_pred)\n",
      "C:\\Users\\andyp\\anaconda3\\lib\\site-packages\\pandas\\core\\arraylike.py:358: RuntimeWarning: overflow encountered in exp\n",
      "  result = getattr(ufunc, method)(*inputs, **kwargs)\n",
      "<ipython-input-17-3c211142254d>:13: RuntimeWarning: overflow encountered in exp\n",
      "  y_pred = np.exp(y_pred)\n",
      "C:\\Users\\andyp\\anaconda3\\lib\\site-packages\\pandas\\core\\arraylike.py:358: RuntimeWarning: overflow encountered in exp\n",
      "  result = getattr(ufunc, method)(*inputs, **kwargs)\n",
      "<ipython-input-17-3c211142254d>:13: RuntimeWarning: overflow encountered in exp\n",
      "  y_pred = np.exp(y_pred)\n",
      "C:\\Users\\andyp\\anaconda3\\lib\\site-packages\\sklearn\\model_selection\\_search.py:918: UserWarning: One or more of the test scores are non-finite: [-inf -inf -inf -inf -inf -inf -inf   0.   0.   0.   0.   0.   0.   0.]\n",
      "  warnings.warn(\n",
      "C:\\Users\\andyp\\anaconda3\\lib\\site-packages\\sklearn\\model_selection\\_search.py:925: RuntimeWarning: invalid value encountered in subtract\n",
      "  array_stds = np.sqrt(np.average((array -\n"
     ]
    },
    {
     "data": {
      "text/plain": "GridSearchCV(cv=5, estimator=Ridge(),\n             param_grid={'alpha': [0.1, 1, 2, 3, 4, 10, 30, 100, 200, 300, 400,\n                                   800, 900, 1000],\n                         'max_iter': [3000]},\n             scoring=make_scorer(rmsle, greater_is_better=False))"
     },
     "execution_count": 17,
     "metadata": {},
     "output_type": "execute_result"
    }
   ],
   "source": [
    "from sklearn.linear_model import Ridge\n",
    "from sklearn.model_selection import GridSearchCV\n",
    "from sklearn import metrics\n",
    "\n",
    "ridge_model = Ridge()\n",
    "import numpy as np\n",
    "\n",
    "#\n",
    "def rmsle(y_true, y_pred, convertExp=True):\n",
    "    # 지수 변환\n",
    "    if convertExp:\n",
    "        y_true = np.exp(y_true)\n",
    "        y_pred = np.exp(y_pred)\n",
    "\n",
    "    # 로그변환 후 결측값을 0으로 변환\n",
    "    log_true = np.nan_to_num(np.log(y_true + 1))\n",
    "    log_pred = np.nan_to_num(np.log(y_pred + 1))\n",
    "\n",
    "    # RMSLE 계산\n",
    "    output = np.sqrt(np.mean((log_true - log_pred) ** 2))\n",
    "    return output\n",
    "\n",
    "\n",
    "\n",
    "# 하이퍼파라미터 값 목록\n",
    "\n",
    "ridge_params = {'max_iter': [3000], 'alpha': [0.1, 1, 2, 3, 4, 10, 30, 100, 200, 300, 400, 800, 900, 1000]}\n",
    "\n",
    "# alpha 값이 클수록 규제 강도가 세진다.\n",
    "\n",
    "# 교차 검증용 평가 함수(RMSLE 점수 계산)\n",
    "rmsle_scorer = metrics.make_scorer(rmsle, greater_is_better=False)\n",
    "\n",
    "gridsearch_ridge_model = GridSearchCV(estimator=ridge_model,  # 릿지 모델\n",
    "                                      param_grid=ridge_params,  # 값 목록\n",
    "                                      scoring=rmsle_scorer,  # 평가지표,\n",
    "                                      cv=5)  # 교차검증 분할 수\n",
    "## 그리드서치 수행\n",
    "# log_y = np.log(y_train)  # 타깃값 로그변환\n",
    "\n",
    "gridsearch_ridge_model.fit(X_train, y_train)  # 훈련(그리드서치)\n",
    "print('최적 하이퍼파라미터 :', gridsearch_ridge_model.best_params_)\n",
    "# 예측\n",
    "\n",
    "preds = gridsearch_ridge_model.best_estimator_.predict(X_train)\n",
    "\n",
    "# 평가\n",
    "#\n",
    "# print(f'릿지 회귀 RMSLE 값 : {rmsle(log_y, preds, True) :.4f}')\n",
    "\n",
    "ridge_model_preds = gridsearch_ridge_model.predict(X_test)\n",
    "# print(linear_reg_model.score(X_train, preds))\n",
    "\n",
    "ridge_model_preds\n",
    "gridsearch_ridge_model\n"
   ],
   "metadata": {
    "collapsed": false,
    "pycharm": {
     "name": "#%%\n"
    }
   }
  },
  {
   "cell_type": "code",
   "execution_count": 18,
   "outputs": [
    {
     "data": {
      "text/plain": "array([4482.82 , 6314.821, 7146.68 , ..., 6500.538, 4622.844, 7381.351])"
     },
     "execution_count": 18,
     "metadata": {},
     "output_type": "execute_result"
    }
   ],
   "source": [
    "# 타깃값 1일 확룰 예측\n",
    "\n",
    "y_preds= gridsearch_ridge_model.predict(X_test)\n",
    "y_preds"
   ],
   "metadata": {
    "collapsed": false,
    "pycharm": {
     "name": "#%%\n"
    }
   }
  },
  {
   "cell_type": "code",
   "execution_count": 19,
   "outputs": [
    {
     "name": "stdout",
     "output_type": "stream",
     "text": [
      "현재 날짜 및 시각 :  [5, 18, 20, 31]\n"
     ]
    }
   ],
   "source": [
    "import datetime\n",
    "\n",
    "# 현재 날짜와 시각 구하기\n",
    "now = datetime.datetime.now()\n",
    "date_list = [now.month, now.day, now.hour, now.minute]\n",
    "# 현재 날짜와 시각 출력하기\n",
    "print(\"현재 날짜 및 시각 : \", date_list)\n",
    "\n",
    "# 제출 파일 생성\n",
    "\n",
    "submission['yield'] = y_preds\n",
    "submission.to_csv(f'submission_{date_list[0]}_{date_list[1]}_{date_list[2]}_{date_list[3]}.csv')"
   ],
   "metadata": {
    "collapsed": false,
    "pycharm": {
     "name": "#%%\n"
    }
   }
  },
  {
   "cell_type": "markdown",
   "source": [
    "## 랜덤포레스트 회귀 모델"
   ],
   "metadata": {
    "collapsed": false,
    "pycharm": {
     "name": "#%% md\n"
    }
   }
  },
  {
   "cell_type": "code",
   "execution_count": null,
   "outputs": [],
   "source": [
    "# from sklearn.ensemble import RandomForestRegressor\n",
    "#\n",
    "# # 모델 생성\n",
    "# randomforest_model = RandomForestRegressor()\n",
    "#\n",
    "# # 그리드서치 객체 생성\n",
    "# rf_params = {'random_state':[123, 369, 1004], 'n_estimators':[150, 250, 500, 1000],\n",
    "#              'max_depth':[5, 10, 15, 20, 30], 'max_features':[\"auto\", \"sqrt\", \"log2\"]}\n",
    "#\n",
    "#\n",
    "# # randomstate :\n",
    "# grid_rf_model = GridSearchCV(estimator=randomforest_model, param_grid=rf_params, scoring='r2', cv=5)\n",
    "#\n",
    "# # estimator = 모델 이름\n",
    "# # param_grid = 값 목록\n",
    "# # scoring = 평가지표\n",
    "# # cv = 교차검증 분할 수\n",
    "# # log_y = np.log(y_train) # y= X_train['SalesPrice']\n",
    "# grid_rf_model.fit(X_train, y_train)\n",
    "# print(grid_rf_model.best_params_)"
   ],
   "metadata": {
    "collapsed": false,
    "pycharm": {
     "name": "#%%\n",
     "is_executing": true
    }
   }
  },
  {
   "cell_type": "code",
   "execution_count": null,
   "outputs": [],
   "source": [
    "# # 예측\n",
    "#\n",
    "# preds = grid_rf_model.best_estimator_.predict(X_train)\n",
    "#\n",
    "# # 평가\n",
    "#\n",
    "# # print(f'랜덤포레스트 RMSLE 값 : {rmsle(log_y , preds , True) :.4f}')\n",
    "#\n",
    "# grid_rf_model_preds = grid_rf_model.predict(X_test)\n",
    "# # print(linear_reg_model.score(X_train,preds))\n",
    "#\n",
    "# grid_rf_model_preds"
   ],
   "metadata": {
    "collapsed": false,
    "pycharm": {
     "name": "#%%\n"
    }
   }
  },
  {
   "cell_type": "code",
   "execution_count": null,
   "outputs": [],
   "source": [
    "# y_preds = grid_rf_model_preds\n",
    "#\n",
    "# # 현재 날짜와 시각 구하기\n",
    "# now = datetime.datetime.now()\n",
    "# date_list = [now.month, now.day, now.hour, now.minute]\n",
    "# # 현재 날짜와 시각 출력하기\n",
    "# print(\"현재 날짜 및 시각 : \", date_list)\n",
    "#\n",
    "# # 제출 파일 생성\n",
    "#\n",
    "# submission['yield'] = y_preds\n",
    "# submission.to_csv(f'submission_{date_list[0]}_{date_list[1]}_{date_list[2]}_{date_list[3]}.csv')"
   ],
   "metadata": {
    "collapsed": false,
    "pycharm": {
     "name": "#%%\n"
    }
   }
  },
  {
   "cell_type": "markdown",
   "source": [
    "## 부스팅 모델 LightGBM 사용해보기"
   ],
   "metadata": {
    "collapsed": false,
    "pycharm": {
     "name": "#%% md\n"
    }
   }
  },
  {
   "cell_type": "markdown",
   "source": [
    "## OOF 예측 방식을 활용한 베이스라인 모델 훈련시키기"
   ],
   "metadata": {
    "collapsed": false,
    "pycharm": {
     "name": "#%% md\n"
    }
   }
  },
  {
   "cell_type": "code",
   "execution_count": 76,
   "outputs": [
    {
     "data": {
      "text/plain": "<25483x16 sparse matrix of type '<class 'numpy.float64'>'\n\twith 407673 stored elements in Compressed Sparse Row format>"
     },
     "execution_count": 76,
     "metadata": {},
     "output_type": "execute_result"
    }
   ],
   "source": [
    "from scipy import sparse\n",
    "\n",
    "all_data = pd.concat([train,test]) # 훈련 데이터와 테스트 데이터 합치기\n",
    "all_data = all_data.drop('yield' , axis = 1) # 타깃값 제거\n",
    "\n",
    "# all_data_sprs = sparse.hstack([sparse.csr_matrix(all_data[remaining_features]) , encoded_cat_matrix] , format= 'csr')\n",
    "#\n",
    "# all_data_sprs\n",
    "all_data_sprs = sparse.csr_matrix(all_data)\n",
    "all_data_sprs"
   ],
   "metadata": {
    "collapsed": false,
    "pycharm": {
     "name": "#%%\n"
    }
   }
  },
  {
   "cell_type": "code",
   "execution_count": 77,
   "outputs": [],
   "source": [
    "num_train = len(train) # 훈련 데이터 개수\n",
    "\n",
    "# 훈련 데이터와 테스트 데이터 나누기\n",
    "\n",
    "X= all_data_sprs[:num_train]\n",
    "X_test = all_data_sprs[num_train:]\n",
    "y = train['yield'].values"
   ],
   "metadata": {
    "collapsed": false,
    "pycharm": {
     "name": "#%%\n"
    }
   }
  },
  {
   "cell_type": "code",
   "execution_count": 78,
   "outputs": [],
   "source": [
    "import numpy as np\n",
    "\n",
    "def eval_gini(y_true , y_pred):\n",
    "    # 실제값과 예측값의 크기가 서로 같은지 확인(값이 다르면 오류 발생)\n",
    "    assert y_true.shape == y_pred.shape\n",
    "\n",
    "    n_samples = y_true.shape[0] # 데이터 개수\n",
    "    L_mid = np.linspace(1/ n_samples ,1 , n_samples) # 대각선 값\n",
    "\n",
    "    # 1) 예측값에 대한 지니계수\n",
    "\n",
    "    pred_order = y_true[y_pred.argsort()] # y_pred 크기순으로 y_true 값 정렬\n",
    "    L_pred = np.cumsum(pred_order) / np.sum(pred_order) # 로렌츠 곡선\n",
    "\n",
    "    G_pred = np.sum(L_mid - L_pred) # 예측값에 대한 지니계수\n",
    "\n",
    "    # 2) 예측이 완벽할 때 지니계수\n",
    "\n",
    "    true_order = y_true[y_true.argsort()] # y_true 크기순으로 y_true 값 정렬\n",
    "    L_true = np.cumsum(true_order) / np.sum(true_order) # 로렌츠 곡선\n",
    "    G_true = np.sum(L_mid - L_true) # 예측이 완벽할 때 지니계수\n",
    "\n",
    "    # 정규화된 지니계수\n",
    "    return G_pred / G_true"
   ],
   "metadata": {
    "collapsed": false,
    "pycharm": {
     "name": "#%%\n"
    }
   }
  },
  {
   "cell_type": "code",
   "execution_count": 79,
   "outputs": [],
   "source": [
    "# LightGBM 용 gini() 함수\n",
    "\n",
    "def gini(preds , dtrain):\n",
    "    labels = dtrain.get_label()\n",
    "\n",
    "    return 'gini' , eval_gini(labels , preds ) , True"
   ],
   "metadata": {
    "collapsed": false,
    "pycharm": {
     "name": "#%%\n"
    }
   }
  },
  {
   "cell_type": "code",
   "execution_count": 80,
   "outputs": [],
   "source": [
    "# OOF 방식으로 LightGBM 훈련\n",
    "from sklearn.model_selection import StratifiedKFold\n",
    "\n",
    "# 층화 K 폴드 교차 검증기\n",
    "\n",
    "folds = StratifiedKFold(n_splits= 5 , shuffle= True , random_state= 1991)\n",
    "\n",
    "# 층화 K 폴드 교차 검증기는 타깃값이 불균형하므로 K폴드가 아닌 층화 K폴드를 수행하는 게 바람직하다. 층화 K폴드는 타깃값이 균등하게\n",
    "# 폴드를 나누는 방식이기 때문이다.\n",
    "\n",
    "\n",
    "# n_splits 파라미터로 전달한 수만큼 폴드를 나눈다. 여기서는 5개로 나누었다. shuffle = True 를 전달하면 폴드를 나눌때 데이터를 섞어준다."
   ],
   "metadata": {
    "collapsed": false,
    "pycharm": {
     "name": "#%%\n"
    }
   }
  },
  {
   "cell_type": "code",
   "execution_count": 81,
   "outputs": [],
   "source": [
    "# LightGBM의 하이퍼파라미터를 설정한다. LightGBM은 하이퍼파라미터를 갖고 있지만, 여기서는 4가지만 설정한다.\n",
    "\n",
    "params = {'objective' : 'binary' , 'learning_rate' : 0.01 , 'force_row_wise' : True , 'random_state' : 0}\n",
    "\n",
    "# 이진분류 문제이므로 objective 파라미터는 binary로 설정했다. 학습률은 0.01로, 랜덤 스테이트 값은 9으로 설정했다.\n",
    "# force_row_wise : True 는 경고 문구를 없애려고 추가한 파라미터이다."
   ],
   "metadata": {
    "collapsed": false,
    "pycharm": {
     "name": "#%%\n"
    }
   }
  },
  {
   "cell_type": "code",
   "execution_count": 82,
   "outputs": [],
   "source": [
    "# OOF 방식으로 훈련된 모델로 검증 데이터 타깃값을 예측한 확률을 담을 1차원 배열\n",
    "oof_val_preds = np.zeros(X.shape[0])\n",
    "\n",
    "# ==> oof_val_preds 는 검증 데이터를 활용해 예측한 확률값을 저장하는 배열이다. K 폴드로 나누어도 훈련 데이터 전체가 결국엔 한 번씩 검증 데이터로 활용된다. 따라서 oof_val_preds 배열 크기는 훈련 데이터와 같아야 한다.\n",
    "# 훈련 데이터 개수는 X.shpae[0]으로 구한다.\n",
    "\n",
    "# OOF 방식으로 훈련된 모델로 데이터 타깃값을 예측한 확률을 담을 1차원 배열\n",
    "oof_test_preds = np.zeros(X_test.shape[0])\n",
    "\n",
    "# oof_test_preds는 테스트 데이터를 활용해 예측한 확률값을 저장하는 배열이다. 최종 제출에 사용할 값이므로 크기는 테스트 데이터와 같아야한다. 테스트 데이터 개수는 X_test.shape[0]으로 구한다."
   ],
   "metadata": {
    "collapsed": false,
    "pycharm": {
     "name": "#%%\n"
    }
   }
  },
  {
   "cell_type": "code",
   "execution_count": 83,
   "outputs": [
    {
     "data": {
      "text/plain": "<15289x16 sparse matrix of type '<class 'numpy.float64'>'\n\twith 244589 stored elements in Compressed Sparse Row format>"
     },
     "execution_count": 83,
     "metadata": {},
     "output_type": "execute_result"
    }
   ],
   "source": [
    "X"
   ],
   "metadata": {
    "collapsed": false,
    "pycharm": {
     "name": "#%%\n"
    }
   }
  },
  {
   "cell_type": "code",
   "execution_count": 84,
   "outputs": [
    {
     "data": {
      "text/plain": "array([4476.811, 5548.122, 6869.778, ..., 4696.444, 6772.933, 5867.997])"
     },
     "execution_count": 84,
     "metadata": {},
     "output_type": "execute_result"
    }
   ],
   "source": [
    "y"
   ],
   "metadata": {
    "collapsed": false,
    "pycharm": {
     "name": "#%%\n"
    }
   }
  },
  {
   "cell_type": "code",
   "execution_count": 86,
   "outputs": [
    {
     "name": "stdout",
     "output_type": "stream",
     "text": [
      "<generator object <genexpr> at 0x000001CCDA42DE40>\n"
     ]
    }
   ],
   "source": [
    "import lightgbm as lgb\n",
    "\n",
    "# OOF 방식으로 모델 훈련 , 검증 , 예측\n",
    "print( i for i in folds.split(X,y))\n",
    "#\n",
    "for idx, (train_idx , valid_idx) in enumerate(folds.split(X, y)):\n",
    "    print(idx)\n",
    "    # 각 폴드를 구분하는 문구 출력\n",
    "    print('#'*40 , f'폴드 {idx +1} / 폴드 {folds.n_splits}' , '#'*40)\n",
    "\n",
    "    # 훈련용 데이터, 검증용 데이터 설정\n",
    "    X_train , y_train = X[train_idx] , y[train_idx] # 훈련용 데이터\n",
    "    X_valid , y_valid = X[valid_idx] , y[valid_idx] # 검증용 데이터\n",
    "\n",
    "    # LightGBM 전용 데이터셋 생성\n",
    "    dtrain = lgb.Dataset(X_train , y_train) # LightGBM 전용 훈련 데이터 셋\n",
    "    dvalid = lgb.Dataset(X_valid , y_valid) # LightGBM 전용 검증 데이터 셋\n",
    "\n",
    "    # LightGBM 모델 훈련\n",
    "    lgb_model = lgb.train(params = params , # 훈련용 하이퍼파라미터\n",
    "                          train_set = dtrain, # 훈련 데이터 셋\n",
    "                          num_boost_round = 1000, # 부스팅 반복 횟수\n",
    "                          valid_sets=  dvalid ,  # 성능 평가용 검증 데이터 셋\n",
    "                          feval = gini, # 검증용 평가지표\n",
    "                          early_stopping_rounds = 100, # 조기종료 조건\n",
    "                          verbose_eval = 100 ) # 100번째마다 점수 출력\n",
    "\n",
    "    # 테스트 데이터를 활용해 OOF 예측\n",
    "\n",
    "    oof_test_preds += lgb_model.predict(X_test)/folds.n_splits\n",
    "\n",
    "    # 모델 성능 평가를 위한 검증 데이터 타깃값 예측\n",
    "\n",
    "    oof_val_preds[valid_idx] += lgb_model.predict(X_valid)\n",
    "\n",
    "    # 검증 데이터 예측 확률에 대한 정규화 지니계수\n",
    "\n",
    "    gini_score = eval_gini(y_valid , oof_val_preds[valid_idx])\n",
    "    print(f'폴드 {idx +1} 지니계수 : {gini_score}\\n')"
   ],
   "metadata": {
    "collapsed": false,
    "pycharm": {
     "name": "#%%\n"
    }
   }
  },
  {
   "cell_type": "code",
   "execution_count": 59,
   "outputs": [
    {
     "ename": "ValueError",
     "evalue": "Supported target types are: ('binary', 'multiclass'). Got 'continuous' instead.",
     "output_type": "error",
     "traceback": [
      "\u001B[1;31m---------------------------------------------------------------------------\u001B[0m",
      "\u001B[1;31mValueError\u001B[0m                                Traceback (most recent call last)",
      "\u001B[1;32m<ipython-input-59-d91bd07bcccb>\u001B[0m in \u001B[0;36m<module>\u001B[1;34m\u001B[0m\n\u001B[0;32m      3\u001B[0m \u001B[1;31m# OOF 방식으로 모델 훈련, 검증, 예측\u001B[0m\u001B[1;33m\u001B[0m\u001B[1;33m\u001B[0m\u001B[1;33m\u001B[0m\u001B[0m\n\u001B[0;32m      4\u001B[0m \u001B[1;33m\u001B[0m\u001B[0m\n\u001B[1;32m----> 5\u001B[1;33m \u001B[1;32mfor\u001B[0m \u001B[0midx\u001B[0m\u001B[1;33m,\u001B[0m \u001B[1;33m(\u001B[0m\u001B[0mtrain_idx\u001B[0m\u001B[1;33m,\u001B[0m \u001B[0mvalid_idx\u001B[0m\u001B[1;33m)\u001B[0m \u001B[1;32min\u001B[0m \u001B[0menumerate\u001B[0m\u001B[1;33m(\u001B[0m\u001B[0mfolds\u001B[0m\u001B[1;33m.\u001B[0m\u001B[0msplit\u001B[0m\u001B[1;33m(\u001B[0m\u001B[0mX\u001B[0m\u001B[1;33m,\u001B[0m \u001B[0my\u001B[0m\u001B[1;33m)\u001B[0m\u001B[1;33m)\u001B[0m\u001B[1;33m:\u001B[0m\u001B[1;33m\u001B[0m\u001B[1;33m\u001B[0m\u001B[0m\n\u001B[0m\u001B[0;32m      6\u001B[0m     \u001B[1;31m# 각 폴드를 구분하는 문구 출력\u001B[0m\u001B[1;33m\u001B[0m\u001B[1;33m\u001B[0m\u001B[1;33m\u001B[0m\u001B[0m\n\u001B[0;32m      7\u001B[0m     \u001B[0mprint\u001B[0m\u001B[1;33m(\u001B[0m\u001B[1;34m'#'\u001B[0m \u001B[1;33m*\u001B[0m \u001B[1;36m40\u001B[0m\u001B[1;33m,\u001B[0m \u001B[1;34mf'폴드 {idx + 1} / 폴드 {folds.n_splits}'\u001B[0m\u001B[1;33m,\u001B[0m \u001B[1;34m'#'\u001B[0m \u001B[1;33m*\u001B[0m \u001B[1;36m40\u001B[0m\u001B[1;33m)\u001B[0m\u001B[1;33m\u001B[0m\u001B[1;33m\u001B[0m\u001B[0m\n",
      "\u001B[1;32m~\\anaconda3\\lib\\site-packages\\sklearn\\model_selection\\_split.py\u001B[0m in \u001B[0;36msplit\u001B[1;34m(self, X, y, groups)\u001B[0m\n\u001B[0;32m    330\u001B[0m                 .format(self.n_splits, n_samples))\n\u001B[0;32m    331\u001B[0m \u001B[1;33m\u001B[0m\u001B[0m\n\u001B[1;32m--> 332\u001B[1;33m         \u001B[1;32mfor\u001B[0m \u001B[0mtrain\u001B[0m\u001B[1;33m,\u001B[0m \u001B[0mtest\u001B[0m \u001B[1;32min\u001B[0m \u001B[0msuper\u001B[0m\u001B[1;33m(\u001B[0m\u001B[1;33m)\u001B[0m\u001B[1;33m.\u001B[0m\u001B[0msplit\u001B[0m\u001B[1;33m(\u001B[0m\u001B[0mX\u001B[0m\u001B[1;33m,\u001B[0m \u001B[0my\u001B[0m\u001B[1;33m,\u001B[0m \u001B[0mgroups\u001B[0m\u001B[1;33m)\u001B[0m\u001B[1;33m:\u001B[0m\u001B[1;33m\u001B[0m\u001B[1;33m\u001B[0m\u001B[0m\n\u001B[0m\u001B[0;32m    333\u001B[0m             \u001B[1;32myield\u001B[0m \u001B[0mtrain\u001B[0m\u001B[1;33m,\u001B[0m \u001B[0mtest\u001B[0m\u001B[1;33m\u001B[0m\u001B[1;33m\u001B[0m\u001B[0m\n\u001B[0;32m    334\u001B[0m \u001B[1;33m\u001B[0m\u001B[0m\n",
      "\u001B[1;32m~\\anaconda3\\lib\\site-packages\\sklearn\\model_selection\\_split.py\u001B[0m in \u001B[0;36msplit\u001B[1;34m(self, X, y, groups)\u001B[0m\n\u001B[0;32m     78\u001B[0m         \u001B[0mX\u001B[0m\u001B[1;33m,\u001B[0m \u001B[0my\u001B[0m\u001B[1;33m,\u001B[0m \u001B[0mgroups\u001B[0m \u001B[1;33m=\u001B[0m \u001B[0mindexable\u001B[0m\u001B[1;33m(\u001B[0m\u001B[0mX\u001B[0m\u001B[1;33m,\u001B[0m \u001B[0my\u001B[0m\u001B[1;33m,\u001B[0m \u001B[0mgroups\u001B[0m\u001B[1;33m)\u001B[0m\u001B[1;33m\u001B[0m\u001B[1;33m\u001B[0m\u001B[0m\n\u001B[0;32m     79\u001B[0m         \u001B[0mindices\u001B[0m \u001B[1;33m=\u001B[0m \u001B[0mnp\u001B[0m\u001B[1;33m.\u001B[0m\u001B[0marange\u001B[0m\u001B[1;33m(\u001B[0m\u001B[0m_num_samples\u001B[0m\u001B[1;33m(\u001B[0m\u001B[0mX\u001B[0m\u001B[1;33m)\u001B[0m\u001B[1;33m)\u001B[0m\u001B[1;33m\u001B[0m\u001B[1;33m\u001B[0m\u001B[0m\n\u001B[1;32m---> 80\u001B[1;33m         \u001B[1;32mfor\u001B[0m \u001B[0mtest_index\u001B[0m \u001B[1;32min\u001B[0m \u001B[0mself\u001B[0m\u001B[1;33m.\u001B[0m\u001B[0m_iter_test_masks\u001B[0m\u001B[1;33m(\u001B[0m\u001B[0mX\u001B[0m\u001B[1;33m,\u001B[0m \u001B[0my\u001B[0m\u001B[1;33m,\u001B[0m \u001B[0mgroups\u001B[0m\u001B[1;33m)\u001B[0m\u001B[1;33m:\u001B[0m\u001B[1;33m\u001B[0m\u001B[1;33m\u001B[0m\u001B[0m\n\u001B[0m\u001B[0;32m     81\u001B[0m             \u001B[0mtrain_index\u001B[0m \u001B[1;33m=\u001B[0m \u001B[0mindices\u001B[0m\u001B[1;33m[\u001B[0m\u001B[0mnp\u001B[0m\u001B[1;33m.\u001B[0m\u001B[0mlogical_not\u001B[0m\u001B[1;33m(\u001B[0m\u001B[0mtest_index\u001B[0m\u001B[1;33m)\u001B[0m\u001B[1;33m]\u001B[0m\u001B[1;33m\u001B[0m\u001B[1;33m\u001B[0m\u001B[0m\n\u001B[0;32m     82\u001B[0m             \u001B[0mtest_index\u001B[0m \u001B[1;33m=\u001B[0m \u001B[0mindices\u001B[0m\u001B[1;33m[\u001B[0m\u001B[0mtest_index\u001B[0m\u001B[1;33m]\u001B[0m\u001B[1;33m\u001B[0m\u001B[1;33m\u001B[0m\u001B[0m\n",
      "\u001B[1;32m~\\anaconda3\\lib\\site-packages\\sklearn\\model_selection\\_split.py\u001B[0m in \u001B[0;36m_iter_test_masks\u001B[1;34m(self, X, y, groups)\u001B[0m\n\u001B[0;32m    691\u001B[0m \u001B[1;33m\u001B[0m\u001B[0m\n\u001B[0;32m    692\u001B[0m     \u001B[1;32mdef\u001B[0m \u001B[0m_iter_test_masks\u001B[0m\u001B[1;33m(\u001B[0m\u001B[0mself\u001B[0m\u001B[1;33m,\u001B[0m \u001B[0mX\u001B[0m\u001B[1;33m,\u001B[0m \u001B[0my\u001B[0m\u001B[1;33m=\u001B[0m\u001B[1;32mNone\u001B[0m\u001B[1;33m,\u001B[0m \u001B[0mgroups\u001B[0m\u001B[1;33m=\u001B[0m\u001B[1;32mNone\u001B[0m\u001B[1;33m)\u001B[0m\u001B[1;33m:\u001B[0m\u001B[1;33m\u001B[0m\u001B[1;33m\u001B[0m\u001B[0m\n\u001B[1;32m--> 693\u001B[1;33m         \u001B[0mtest_folds\u001B[0m \u001B[1;33m=\u001B[0m \u001B[0mself\u001B[0m\u001B[1;33m.\u001B[0m\u001B[0m_make_test_folds\u001B[0m\u001B[1;33m(\u001B[0m\u001B[0mX\u001B[0m\u001B[1;33m,\u001B[0m \u001B[0my\u001B[0m\u001B[1;33m)\u001B[0m\u001B[1;33m\u001B[0m\u001B[1;33m\u001B[0m\u001B[0m\n\u001B[0m\u001B[0;32m    694\u001B[0m         \u001B[1;32mfor\u001B[0m \u001B[0mi\u001B[0m \u001B[1;32min\u001B[0m \u001B[0mrange\u001B[0m\u001B[1;33m(\u001B[0m\u001B[0mself\u001B[0m\u001B[1;33m.\u001B[0m\u001B[0mn_splits\u001B[0m\u001B[1;33m)\u001B[0m\u001B[1;33m:\u001B[0m\u001B[1;33m\u001B[0m\u001B[1;33m\u001B[0m\u001B[0m\n\u001B[0;32m    695\u001B[0m             \u001B[1;32myield\u001B[0m \u001B[0mtest_folds\u001B[0m \u001B[1;33m==\u001B[0m \u001B[0mi\u001B[0m\u001B[1;33m\u001B[0m\u001B[1;33m\u001B[0m\u001B[0m\n",
      "\u001B[1;32m~\\anaconda3\\lib\\site-packages\\sklearn\\model_selection\\_split.py\u001B[0m in \u001B[0;36m_make_test_folds\u001B[1;34m(self, X, y)\u001B[0m\n\u001B[0;32m    643\u001B[0m         \u001B[0mallowed_target_types\u001B[0m \u001B[1;33m=\u001B[0m \u001B[1;33m(\u001B[0m\u001B[1;34m'binary'\u001B[0m\u001B[1;33m,\u001B[0m \u001B[1;34m'multiclass'\u001B[0m\u001B[1;33m)\u001B[0m\u001B[1;33m\u001B[0m\u001B[1;33m\u001B[0m\u001B[0m\n\u001B[0;32m    644\u001B[0m         \u001B[1;32mif\u001B[0m \u001B[0mtype_of_target_y\u001B[0m \u001B[1;32mnot\u001B[0m \u001B[1;32min\u001B[0m \u001B[0mallowed_target_types\u001B[0m\u001B[1;33m:\u001B[0m\u001B[1;33m\u001B[0m\u001B[1;33m\u001B[0m\u001B[0m\n\u001B[1;32m--> 645\u001B[1;33m             raise ValueError(\n\u001B[0m\u001B[0;32m    646\u001B[0m                 'Supported target types are: {}. Got {!r} instead.'.format(\n\u001B[0;32m    647\u001B[0m                     allowed_target_types, type_of_target_y))\n",
      "\u001B[1;31mValueError\u001B[0m: Supported target types are: ('binary', 'multiclass'). Got 'continuous' instead."
     ]
    }
   ],
   "source": [],
   "metadata": {
    "collapsed": false,
    "pycharm": {
     "name": "#%%\n"
    }
   }
  },
  {
   "cell_type": "code",
   "execution_count": null,
   "outputs": [],
   "source": [
    "print('OOF 검증 데이터 지니계수 : ' , eval_gini(y , oof_val_preds))"
   ],
   "metadata": {
    "collapsed": false,
    "pycharm": {
     "name": "#%%\n"
    }
   }
  }
 ],
 "metadata": {
  "kernelspec": {
   "display_name": "Python 3",
   "language": "python",
   "name": "python3"
  },
  "language_info": {
   "codemirror_mode": {
    "name": "ipython",
    "version": 2
   },
   "file_extension": ".py",
   "mimetype": "text/x-python",
   "name": "python",
   "nbconvert_exporter": "python",
   "pygments_lexer": "ipython2",
   "version": "2.7.6"
  }
 },
 "nbformat": 4,
 "nbformat_minor": 0
}