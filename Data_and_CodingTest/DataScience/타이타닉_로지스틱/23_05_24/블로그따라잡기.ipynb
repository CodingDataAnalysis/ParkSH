{
 "cells": [
  {
   "cell_type": "code",
   "execution_count": 2,
   "outputs": [],
   "source": [
    "import itertools\n",
    "import platform\n",
    "import matplotlib\n",
    "import pandas as pd\n",
    "import matplotlib.pyplot as plt\n",
    "from matplotlib import font_manager, rc\n",
    "import seaborn as sns\n",
    "%precision 3\n",
    "from matplotlib import pyplot as plt\n",
    "%matplotlib inline\n",
    "#그래프를 주피터 놋북에 그리기 위해\n",
    "import numpy as np\n",
    "import copy\n",
    "from matplotlib import ticker\n",
    "from scipy.stats import probplot\n",
    "from scipy import stats\n",
    "import collections\n",
    "import itertools\n",
    "import math\n",
    "#from varname import nameof\n",
    "import sys\n",
    "from scipy import stats\n",
    "from scipy.stats import bernoulli\n",
    "import scipy\n",
    "from collections import deque\n",
    "from sympy import Symbol, solve\n",
    "import seaborn as sns\n",
    "import matplotlib as mpl\n",
    "import matplotlib.pyplot as plt\n",
    "%matplotlib inline\n",
    "import seaborn as sns\n",
    "\n",
    "#히스토그램 그리기\n",
    "# Window\n",
    "if platform.system() == 'Windows':\n",
    "    matplotlib.rc('font', family='Malgun Gothic')\n",
    "elif platform.system() == 'Darwin': # Mac\n",
    "    matplotlib.rc('font', family='AppleGothic')\n",
    "else: #linux\n",
    "    matplotlib.rc('font', family='NanumGothic')\n",
    "\n",
    "# 그래프에 마이너스 표시가 되도록 변경\n",
    "matplotlib.rcParams['axes.unicode_minus'] = False\n",
    "\n",
    "# 한글 폰트 설정\n",
    "font_location = 'C:/Windows/Fonts/MALGUNSL.TTF' #맑은고딕\n",
    "font_name = font_manager.FontProperties(fname=font_location).get_name()\n",
    "rc('font',family=font_name)"
   ],
   "metadata": {
    "collapsed": false,
    "pycharm": {
     "name": "#%%\n"
    }
   }
  },
  {
   "cell_type": "code",
   "execution_count": 3,
   "outputs": [],
   "source": [
    "import pandas as pd\n",
    "\n",
    "data_path = '../titanic/'\n",
    "\n",
    "train = pd.read_csv(data_path + 'train.csv' , index_col = 'PassengerId')\n",
    "test = pd.read_csv(data_path + 'test.csv' , index_col = 'PassengerId')\n",
    "submission = pd.read_csv(data_path + 'gender_submission.csv' , index_col= 'PassengerId')\n",
    "\n",
    "all_data = pd.read_csv(data_path + 'all_data_5_22_17_10_42.csv' , index_col= 'PassengerId')"
   ],
   "metadata": {
    "collapsed": false,
    "pycharm": {
     "name": "#%%\n"
    }
   }
  },
  {
   "cell_type": "code",
   "execution_count": 4,
   "outputs": [
    {
     "data": {
      "text/plain": "             Survived  Pclass  \\\nPassengerId                     \n1                   0       3   \n2                   1       1   \n3                   1       3   \n4                   1       1   \n5                   0       3   \n...               ...     ...   \n887                 0       2   \n888                 1       1   \n889                 0       3   \n890                 1       1   \n891                 0       3   \n\n                                                          Name     Sex   Age  \\\nPassengerId                                                                    \n1                                      Braund, Mr. Owen Harris    male  22.0   \n2            Cumings, Mrs. John Bradley (Florence Briggs Th...  female  38.0   \n3                                       Heikkinen, Miss. Laina  female  26.0   \n4                 Futrelle, Mrs. Jacques Heath (Lily May Peel)  female  35.0   \n5                                     Allen, Mr. William Henry    male  35.0   \n...                                                        ...     ...   ...   \n887                                      Montvila, Rev. Juozas    male  27.0   \n888                               Graham, Miss. Margaret Edith  female  19.0   \n889                   Johnston, Miss. Catherine Helen \"Carrie\"  female   NaN   \n890                                      Behr, Mr. Karl Howell    male  26.0   \n891                                        Dooley, Mr. Patrick    male  32.0   \n\n             SibSp  Parch            Ticket     Fare Cabin Embarked  \nPassengerId                                                          \n1                1      0         A/5 21171   7.2500   NaN        S  \n2                1      0          PC 17599  71.2833   C85        C  \n3                0      0  STON/O2. 3101282   7.9250   NaN        S  \n4                1      0            113803  53.1000  C123        S  \n5                0      0            373450   8.0500   NaN        S  \n...            ...    ...               ...      ...   ...      ...  \n887              0      0            211536  13.0000   NaN        S  \n888              0      0            112053  30.0000   B42        S  \n889              1      2        W./C. 6607  23.4500   NaN        S  \n890              0      0            111369  30.0000  C148        C  \n891              0      0            370376   7.7500   NaN        Q  \n\n[891 rows x 11 columns]",
      "text/html": "<div>\n<style scoped>\n    .dataframe tbody tr th:only-of-type {\n        vertical-align: middle;\n    }\n\n    .dataframe tbody tr th {\n        vertical-align: top;\n    }\n\n    .dataframe thead th {\n        text-align: right;\n    }\n</style>\n<table border=\"1\" class=\"dataframe\">\n  <thead>\n    <tr style=\"text-align: right;\">\n      <th></th>\n      <th>Survived</th>\n      <th>Pclass</th>\n      <th>Name</th>\n      <th>Sex</th>\n      <th>Age</th>\n      <th>SibSp</th>\n      <th>Parch</th>\n      <th>Ticket</th>\n      <th>Fare</th>\n      <th>Cabin</th>\n      <th>Embarked</th>\n    </tr>\n    <tr>\n      <th>PassengerId</th>\n      <th></th>\n      <th></th>\n      <th></th>\n      <th></th>\n      <th></th>\n      <th></th>\n      <th></th>\n      <th></th>\n      <th></th>\n      <th></th>\n      <th></th>\n    </tr>\n  </thead>\n  <tbody>\n    <tr>\n      <th>1</th>\n      <td>0</td>\n      <td>3</td>\n      <td>Braund, Mr. Owen Harris</td>\n      <td>male</td>\n      <td>22.0</td>\n      <td>1</td>\n      <td>0</td>\n      <td>A/5 21171</td>\n      <td>7.2500</td>\n      <td>NaN</td>\n      <td>S</td>\n    </tr>\n    <tr>\n      <th>2</th>\n      <td>1</td>\n      <td>1</td>\n      <td>Cumings, Mrs. John Bradley (Florence Briggs Th...</td>\n      <td>female</td>\n      <td>38.0</td>\n      <td>1</td>\n      <td>0</td>\n      <td>PC 17599</td>\n      <td>71.2833</td>\n      <td>C85</td>\n      <td>C</td>\n    </tr>\n    <tr>\n      <th>3</th>\n      <td>1</td>\n      <td>3</td>\n      <td>Heikkinen, Miss. Laina</td>\n      <td>female</td>\n      <td>26.0</td>\n      <td>0</td>\n      <td>0</td>\n      <td>STON/O2. 3101282</td>\n      <td>7.9250</td>\n      <td>NaN</td>\n      <td>S</td>\n    </tr>\n    <tr>\n      <th>4</th>\n      <td>1</td>\n      <td>1</td>\n      <td>Futrelle, Mrs. Jacques Heath (Lily May Peel)</td>\n      <td>female</td>\n      <td>35.0</td>\n      <td>1</td>\n      <td>0</td>\n      <td>113803</td>\n      <td>53.1000</td>\n      <td>C123</td>\n      <td>S</td>\n    </tr>\n    <tr>\n      <th>5</th>\n      <td>0</td>\n      <td>3</td>\n      <td>Allen, Mr. William Henry</td>\n      <td>male</td>\n      <td>35.0</td>\n      <td>0</td>\n      <td>0</td>\n      <td>373450</td>\n      <td>8.0500</td>\n      <td>NaN</td>\n      <td>S</td>\n    </tr>\n    <tr>\n      <th>...</th>\n      <td>...</td>\n      <td>...</td>\n      <td>...</td>\n      <td>...</td>\n      <td>...</td>\n      <td>...</td>\n      <td>...</td>\n      <td>...</td>\n      <td>...</td>\n      <td>...</td>\n      <td>...</td>\n    </tr>\n    <tr>\n      <th>887</th>\n      <td>0</td>\n      <td>2</td>\n      <td>Montvila, Rev. Juozas</td>\n      <td>male</td>\n      <td>27.0</td>\n      <td>0</td>\n      <td>0</td>\n      <td>211536</td>\n      <td>13.0000</td>\n      <td>NaN</td>\n      <td>S</td>\n    </tr>\n    <tr>\n      <th>888</th>\n      <td>1</td>\n      <td>1</td>\n      <td>Graham, Miss. Margaret Edith</td>\n      <td>female</td>\n      <td>19.0</td>\n      <td>0</td>\n      <td>0</td>\n      <td>112053</td>\n      <td>30.0000</td>\n      <td>B42</td>\n      <td>S</td>\n    </tr>\n    <tr>\n      <th>889</th>\n      <td>0</td>\n      <td>3</td>\n      <td>Johnston, Miss. Catherine Helen \"Carrie\"</td>\n      <td>female</td>\n      <td>NaN</td>\n      <td>1</td>\n      <td>2</td>\n      <td>W./C. 6607</td>\n      <td>23.4500</td>\n      <td>NaN</td>\n      <td>S</td>\n    </tr>\n    <tr>\n      <th>890</th>\n      <td>1</td>\n      <td>1</td>\n      <td>Behr, Mr. Karl Howell</td>\n      <td>male</td>\n      <td>26.0</td>\n      <td>0</td>\n      <td>0</td>\n      <td>111369</td>\n      <td>30.0000</td>\n      <td>C148</td>\n      <td>C</td>\n    </tr>\n    <tr>\n      <th>891</th>\n      <td>0</td>\n      <td>3</td>\n      <td>Dooley, Mr. Patrick</td>\n      <td>male</td>\n      <td>32.0</td>\n      <td>0</td>\n      <td>0</td>\n      <td>370376</td>\n      <td>7.7500</td>\n      <td>NaN</td>\n      <td>Q</td>\n    </tr>\n  </tbody>\n</table>\n<p>891 rows × 11 columns</p>\n</div>"
     },
     "execution_count": 4,
     "metadata": {},
     "output_type": "execute_result"
    }
   ],
   "source": [
    "train"
   ],
   "metadata": {
    "collapsed": false,
    "pycharm": {
     "name": "#%%\n"
    }
   }
  },
  {
   "cell_type": "code",
   "execution_count": 5,
   "outputs": [
    {
     "name": "stdout",
     "output_type": "stream",
     "text": [
      "<class 'pandas.core.frame.DataFrame'>\n",
      "Int64Index: 891 entries, 1 to 891\n",
      "Data columns (total 11 columns):\n",
      " #   Column    Non-Null Count  Dtype  \n",
      "---  ------    --------------  -----  \n",
      " 0   Survived  891 non-null    int64  \n",
      " 1   Pclass    891 non-null    int64  \n",
      " 2   Name      891 non-null    object \n",
      " 3   Sex       891 non-null    object \n",
      " 4   Age       714 non-null    float64\n",
      " 5   SibSp     891 non-null    int64  \n",
      " 6   Parch     891 non-null    int64  \n",
      " 7   Ticket    891 non-null    object \n",
      " 8   Fare      891 non-null    float64\n",
      " 9   Cabin     204 non-null    object \n",
      " 10  Embarked  889 non-null    object \n",
      "dtypes: float64(2), int64(4), object(5)\n",
      "memory usage: 83.5+ KB\n"
     ]
    }
   ],
   "source": [
    "train.info()"
   ],
   "metadata": {
    "collapsed": false,
    "pycharm": {
     "name": "#%%\n"
    }
   }
  },
  {
   "cell_type": "code",
   "execution_count": 6,
   "outputs": [
    {
     "data": {
      "text/plain": "             Pclass                                          Name     Sex  \\\nPassengerId                                                                 \n892               3                              Kelly, Mr. James    male   \n893               3              Wilkes, Mrs. James (Ellen Needs)  female   \n894               2                     Myles, Mr. Thomas Francis    male   \n895               3                              Wirz, Mr. Albert    male   \n896               3  Hirvonen, Mrs. Alexander (Helga E Lindqvist)  female   \n...             ...                                           ...     ...   \n1305              3                            Spector, Mr. Woolf    male   \n1306              1                  Oliva y Ocana, Dona. Fermina  female   \n1307              3                  Saether, Mr. Simon Sivertsen    male   \n1308              3                           Ware, Mr. Frederick    male   \n1309              3                      Peter, Master. Michael J    male   \n\n              Age  SibSp  Parch              Ticket      Fare Cabin Embarked  \nPassengerId                                                                   \n892          34.5      0      0              330911    7.8292   NaN        Q  \n893          47.0      1      0              363272    7.0000   NaN        S  \n894          62.0      0      0              240276    9.6875   NaN        Q  \n895          27.0      0      0              315154    8.6625   NaN        S  \n896          22.0      1      1             3101298   12.2875   NaN        S  \n...           ...    ...    ...                 ...       ...   ...      ...  \n1305          NaN      0      0           A.5. 3236    8.0500   NaN        S  \n1306         39.0      0      0            PC 17758  108.9000  C105        C  \n1307         38.5      0      0  SOTON/O.Q. 3101262    7.2500   NaN        S  \n1308          NaN      0      0              359309    8.0500   NaN        S  \n1309          NaN      1      1                2668   22.3583   NaN        C  \n\n[418 rows x 10 columns]",
      "text/html": "<div>\n<style scoped>\n    .dataframe tbody tr th:only-of-type {\n        vertical-align: middle;\n    }\n\n    .dataframe tbody tr th {\n        vertical-align: top;\n    }\n\n    .dataframe thead th {\n        text-align: right;\n    }\n</style>\n<table border=\"1\" class=\"dataframe\">\n  <thead>\n    <tr style=\"text-align: right;\">\n      <th></th>\n      <th>Pclass</th>\n      <th>Name</th>\n      <th>Sex</th>\n      <th>Age</th>\n      <th>SibSp</th>\n      <th>Parch</th>\n      <th>Ticket</th>\n      <th>Fare</th>\n      <th>Cabin</th>\n      <th>Embarked</th>\n    </tr>\n    <tr>\n      <th>PassengerId</th>\n      <th></th>\n      <th></th>\n      <th></th>\n      <th></th>\n      <th></th>\n      <th></th>\n      <th></th>\n      <th></th>\n      <th></th>\n      <th></th>\n    </tr>\n  </thead>\n  <tbody>\n    <tr>\n      <th>892</th>\n      <td>3</td>\n      <td>Kelly, Mr. James</td>\n      <td>male</td>\n      <td>34.5</td>\n      <td>0</td>\n      <td>0</td>\n      <td>330911</td>\n      <td>7.8292</td>\n      <td>NaN</td>\n      <td>Q</td>\n    </tr>\n    <tr>\n      <th>893</th>\n      <td>3</td>\n      <td>Wilkes, Mrs. James (Ellen Needs)</td>\n      <td>female</td>\n      <td>47.0</td>\n      <td>1</td>\n      <td>0</td>\n      <td>363272</td>\n      <td>7.0000</td>\n      <td>NaN</td>\n      <td>S</td>\n    </tr>\n    <tr>\n      <th>894</th>\n      <td>2</td>\n      <td>Myles, Mr. Thomas Francis</td>\n      <td>male</td>\n      <td>62.0</td>\n      <td>0</td>\n      <td>0</td>\n      <td>240276</td>\n      <td>9.6875</td>\n      <td>NaN</td>\n      <td>Q</td>\n    </tr>\n    <tr>\n      <th>895</th>\n      <td>3</td>\n      <td>Wirz, Mr. Albert</td>\n      <td>male</td>\n      <td>27.0</td>\n      <td>0</td>\n      <td>0</td>\n      <td>315154</td>\n      <td>8.6625</td>\n      <td>NaN</td>\n      <td>S</td>\n    </tr>\n    <tr>\n      <th>896</th>\n      <td>3</td>\n      <td>Hirvonen, Mrs. Alexander (Helga E Lindqvist)</td>\n      <td>female</td>\n      <td>22.0</td>\n      <td>1</td>\n      <td>1</td>\n      <td>3101298</td>\n      <td>12.2875</td>\n      <td>NaN</td>\n      <td>S</td>\n    </tr>\n    <tr>\n      <th>...</th>\n      <td>...</td>\n      <td>...</td>\n      <td>...</td>\n      <td>...</td>\n      <td>...</td>\n      <td>...</td>\n      <td>...</td>\n      <td>...</td>\n      <td>...</td>\n      <td>...</td>\n    </tr>\n    <tr>\n      <th>1305</th>\n      <td>3</td>\n      <td>Spector, Mr. Woolf</td>\n      <td>male</td>\n      <td>NaN</td>\n      <td>0</td>\n      <td>0</td>\n      <td>A.5. 3236</td>\n      <td>8.0500</td>\n      <td>NaN</td>\n      <td>S</td>\n    </tr>\n    <tr>\n      <th>1306</th>\n      <td>1</td>\n      <td>Oliva y Ocana, Dona. Fermina</td>\n      <td>female</td>\n      <td>39.0</td>\n      <td>0</td>\n      <td>0</td>\n      <td>PC 17758</td>\n      <td>108.9000</td>\n      <td>C105</td>\n      <td>C</td>\n    </tr>\n    <tr>\n      <th>1307</th>\n      <td>3</td>\n      <td>Saether, Mr. Simon Sivertsen</td>\n      <td>male</td>\n      <td>38.5</td>\n      <td>0</td>\n      <td>0</td>\n      <td>SOTON/O.Q. 3101262</td>\n      <td>7.2500</td>\n      <td>NaN</td>\n      <td>S</td>\n    </tr>\n    <tr>\n      <th>1308</th>\n      <td>3</td>\n      <td>Ware, Mr. Frederick</td>\n      <td>male</td>\n      <td>NaN</td>\n      <td>0</td>\n      <td>0</td>\n      <td>359309</td>\n      <td>8.0500</td>\n      <td>NaN</td>\n      <td>S</td>\n    </tr>\n    <tr>\n      <th>1309</th>\n      <td>3</td>\n      <td>Peter, Master. Michael J</td>\n      <td>male</td>\n      <td>NaN</td>\n      <td>1</td>\n      <td>1</td>\n      <td>2668</td>\n      <td>22.3583</td>\n      <td>NaN</td>\n      <td>C</td>\n    </tr>\n  </tbody>\n</table>\n<p>418 rows × 10 columns</p>\n</div>"
     },
     "execution_count": 6,
     "metadata": {},
     "output_type": "execute_result"
    }
   ],
   "source": [
    "test"
   ],
   "metadata": {
    "collapsed": false,
    "pycharm": {
     "name": "#%%\n"
    }
   }
  },
  {
   "cell_type": "code",
   "execution_count": 7,
   "outputs": [
    {
     "data": {
      "text/plain": "             Survived\nPassengerId          \n892                 0\n893                 1\n894                 0\n895                 0\n896                 1\n...               ...\n1305                0\n1306                1\n1307                0\n1308                0\n1309                0\n\n[418 rows x 1 columns]",
      "text/html": "<div>\n<style scoped>\n    .dataframe tbody tr th:only-of-type {\n        vertical-align: middle;\n    }\n\n    .dataframe tbody tr th {\n        vertical-align: top;\n    }\n\n    .dataframe thead th {\n        text-align: right;\n    }\n</style>\n<table border=\"1\" class=\"dataframe\">\n  <thead>\n    <tr style=\"text-align: right;\">\n      <th></th>\n      <th>Survived</th>\n    </tr>\n    <tr>\n      <th>PassengerId</th>\n      <th></th>\n    </tr>\n  </thead>\n  <tbody>\n    <tr>\n      <th>892</th>\n      <td>0</td>\n    </tr>\n    <tr>\n      <th>893</th>\n      <td>1</td>\n    </tr>\n    <tr>\n      <th>894</th>\n      <td>0</td>\n    </tr>\n    <tr>\n      <th>895</th>\n      <td>0</td>\n    </tr>\n    <tr>\n      <th>896</th>\n      <td>1</td>\n    </tr>\n    <tr>\n      <th>...</th>\n      <td>...</td>\n    </tr>\n    <tr>\n      <th>1305</th>\n      <td>0</td>\n    </tr>\n    <tr>\n      <th>1306</th>\n      <td>1</td>\n    </tr>\n    <tr>\n      <th>1307</th>\n      <td>0</td>\n    </tr>\n    <tr>\n      <th>1308</th>\n      <td>0</td>\n    </tr>\n    <tr>\n      <th>1309</th>\n      <td>0</td>\n    </tr>\n  </tbody>\n</table>\n<p>418 rows × 1 columns</p>\n</div>"
     },
     "execution_count": 7,
     "metadata": {},
     "output_type": "execute_result"
    }
   ],
   "source": [
    "submission"
   ],
   "metadata": {
    "collapsed": false,
    "pycharm": {
     "name": "#%%\n"
    }
   }
  },
  {
   "cell_type": "code",
   "execution_count": 8,
   "outputs": [
    {
     "data": {
      "text/plain": "             Name  Sex  Embarked        Age Age_binned  Pclass  SibSp  Parch  \\\nPassengerId                                                                    \n1               3    1         2  22.000000        20대       3      1      0   \n2               4    0         0  38.000000        30대       1      1      0   \n3               2    0         2  26.000000        20대       3      0      0   \n4               4    0         2  35.000000        30대       1      1      0   \n5               3    1         2  35.000000        30대       3      0      0   \n...           ...  ...       ...        ...        ...     ...    ...    ...   \n1305            3    1         2  28.516607        20대       3      0      0   \n1306            6    0         0  39.000000        30대       1      0      0   \n1307            3    1         2  38.500000        30대       3      0      0   \n1308            3    1         2  28.516607        20대       3      0      0   \n1309            1    1         0  12.326040        10대       3      1      1   \n\n            Survival  Cabin      Fare  Fare_binned  \nPassengerId                                         \n1                 사망      8    7.2500          1.9  \n2                 생존      2   71.2833          4.2  \n3                 생존      8    7.9250          2.0  \n4                 생존      2   53.1000          4.0  \n5                 사망      8    8.0500          2.0  \n...              ...    ...       ...          ...  \n1305             NaN      8    8.0500          2.0  \n1306             NaN      2  108.9000          4.6  \n1307             NaN      8    7.2500          1.9  \n1308             NaN      8    8.0500          2.0  \n1309             NaN      8   22.3583          3.1  \n\n[1309 rows x 12 columns]",
      "text/html": "<div>\n<style scoped>\n    .dataframe tbody tr th:only-of-type {\n        vertical-align: middle;\n    }\n\n    .dataframe tbody tr th {\n        vertical-align: top;\n    }\n\n    .dataframe thead th {\n        text-align: right;\n    }\n</style>\n<table border=\"1\" class=\"dataframe\">\n  <thead>\n    <tr style=\"text-align: right;\">\n      <th></th>\n      <th>Name</th>\n      <th>Sex</th>\n      <th>Embarked</th>\n      <th>Age</th>\n      <th>Age_binned</th>\n      <th>Pclass</th>\n      <th>SibSp</th>\n      <th>Parch</th>\n      <th>Survival</th>\n      <th>Cabin</th>\n      <th>Fare</th>\n      <th>Fare_binned</th>\n    </tr>\n    <tr>\n      <th>PassengerId</th>\n      <th></th>\n      <th></th>\n      <th></th>\n      <th></th>\n      <th></th>\n      <th></th>\n      <th></th>\n      <th></th>\n      <th></th>\n      <th></th>\n      <th></th>\n      <th></th>\n    </tr>\n  </thead>\n  <tbody>\n    <tr>\n      <th>1</th>\n      <td>3</td>\n      <td>1</td>\n      <td>2</td>\n      <td>22.000000</td>\n      <td>20대</td>\n      <td>3</td>\n      <td>1</td>\n      <td>0</td>\n      <td>사망</td>\n      <td>8</td>\n      <td>7.2500</td>\n      <td>1.9</td>\n    </tr>\n    <tr>\n      <th>2</th>\n      <td>4</td>\n      <td>0</td>\n      <td>0</td>\n      <td>38.000000</td>\n      <td>30대</td>\n      <td>1</td>\n      <td>1</td>\n      <td>0</td>\n      <td>생존</td>\n      <td>2</td>\n      <td>71.2833</td>\n      <td>4.2</td>\n    </tr>\n    <tr>\n      <th>3</th>\n      <td>2</td>\n      <td>0</td>\n      <td>2</td>\n      <td>26.000000</td>\n      <td>20대</td>\n      <td>3</td>\n      <td>0</td>\n      <td>0</td>\n      <td>생존</td>\n      <td>8</td>\n      <td>7.9250</td>\n      <td>2.0</td>\n    </tr>\n    <tr>\n      <th>4</th>\n      <td>4</td>\n      <td>0</td>\n      <td>2</td>\n      <td>35.000000</td>\n      <td>30대</td>\n      <td>1</td>\n      <td>1</td>\n      <td>0</td>\n      <td>생존</td>\n      <td>2</td>\n      <td>53.1000</td>\n      <td>4.0</td>\n    </tr>\n    <tr>\n      <th>5</th>\n      <td>3</td>\n      <td>1</td>\n      <td>2</td>\n      <td>35.000000</td>\n      <td>30대</td>\n      <td>3</td>\n      <td>0</td>\n      <td>0</td>\n      <td>사망</td>\n      <td>8</td>\n      <td>8.0500</td>\n      <td>2.0</td>\n    </tr>\n    <tr>\n      <th>...</th>\n      <td>...</td>\n      <td>...</td>\n      <td>...</td>\n      <td>...</td>\n      <td>...</td>\n      <td>...</td>\n      <td>...</td>\n      <td>...</td>\n      <td>...</td>\n      <td>...</td>\n      <td>...</td>\n      <td>...</td>\n    </tr>\n    <tr>\n      <th>1305</th>\n      <td>3</td>\n      <td>1</td>\n      <td>2</td>\n      <td>28.516607</td>\n      <td>20대</td>\n      <td>3</td>\n      <td>0</td>\n      <td>0</td>\n      <td>NaN</td>\n      <td>8</td>\n      <td>8.0500</td>\n      <td>2.0</td>\n    </tr>\n    <tr>\n      <th>1306</th>\n      <td>6</td>\n      <td>0</td>\n      <td>0</td>\n      <td>39.000000</td>\n      <td>30대</td>\n      <td>1</td>\n      <td>0</td>\n      <td>0</td>\n      <td>NaN</td>\n      <td>2</td>\n      <td>108.9000</td>\n      <td>4.6</td>\n    </tr>\n    <tr>\n      <th>1307</th>\n      <td>3</td>\n      <td>1</td>\n      <td>2</td>\n      <td>38.500000</td>\n      <td>30대</td>\n      <td>3</td>\n      <td>0</td>\n      <td>0</td>\n      <td>NaN</td>\n      <td>8</td>\n      <td>7.2500</td>\n      <td>1.9</td>\n    </tr>\n    <tr>\n      <th>1308</th>\n      <td>3</td>\n      <td>1</td>\n      <td>2</td>\n      <td>28.516607</td>\n      <td>20대</td>\n      <td>3</td>\n      <td>0</td>\n      <td>0</td>\n      <td>NaN</td>\n      <td>8</td>\n      <td>8.0500</td>\n      <td>2.0</td>\n    </tr>\n    <tr>\n      <th>1309</th>\n      <td>1</td>\n      <td>1</td>\n      <td>0</td>\n      <td>12.326040</td>\n      <td>10대</td>\n      <td>3</td>\n      <td>1</td>\n      <td>1</td>\n      <td>NaN</td>\n      <td>8</td>\n      <td>22.3583</td>\n      <td>3.1</td>\n    </tr>\n  </tbody>\n</table>\n<p>1309 rows × 12 columns</p>\n</div>"
     },
     "execution_count": 8,
     "metadata": {},
     "output_type": "execute_result"
    }
   ],
   "source": [
    "all_data"
   ],
   "metadata": {
    "collapsed": false,
    "pycharm": {
     "name": "#%%\n"
    }
   }
  },
  {
   "cell_type": "code",
   "execution_count": 9,
   "outputs": [
    {
     "data": {
      "text/plain": "             Name  Sex  Embarked        Age Age_binned  Pclass  SibSp  Parch  \\\nPassengerId                                                                    \n1               3    1         2  22.000000        20대       3      1      0   \n2               4    0         0  38.000000        30대       1      1      0   \n3               2    0         2  26.000000        20대       3      0      0   \n4               4    0         2  35.000000        30대       1      1      0   \n5               3    1         2  35.000000        30대       3      0      0   \n...           ...  ...       ...        ...        ...     ...    ...    ...   \n1305            3    1         2  28.516607        20대       3      0      0   \n1306            6    0         0  39.000000        30대       1      0      0   \n1307            3    1         2  38.500000        30대       3      0      0   \n1308            3    1         2  28.516607        20대       3      0      0   \n1309            1    1         0  12.326040        10대       3      1      1   \n\n            Survival  Cabin      Fare  Fare_binned  log_Fare  \nPassengerId                                                   \n1                 사망      8    7.2500          1.9  1.981001  \n2                 생존      2   71.2833          4.2  4.266662  \n3                 생존      8    7.9250          2.0  2.070022  \n4                 생존      2   53.1000          4.0  3.972177  \n5                 사망      8    8.0500          2.0  2.085672  \n...              ...    ...       ...          ...       ...  \n1305             NaN      8    8.0500          2.0  2.085672  \n1306             NaN      2  108.9000          4.6  4.690430  \n1307             NaN      8    7.2500          1.9  1.981001  \n1308             NaN      8    8.0500          2.0  2.085672  \n1309             NaN      8   22.3583          3.1  3.107198  \n\n[1309 rows x 13 columns]",
      "text/html": "<div>\n<style scoped>\n    .dataframe tbody tr th:only-of-type {\n        vertical-align: middle;\n    }\n\n    .dataframe tbody tr th {\n        vertical-align: top;\n    }\n\n    .dataframe thead th {\n        text-align: right;\n    }\n</style>\n<table border=\"1\" class=\"dataframe\">\n  <thead>\n    <tr style=\"text-align: right;\">\n      <th></th>\n      <th>Name</th>\n      <th>Sex</th>\n      <th>Embarked</th>\n      <th>Age</th>\n      <th>Age_binned</th>\n      <th>Pclass</th>\n      <th>SibSp</th>\n      <th>Parch</th>\n      <th>Survival</th>\n      <th>Cabin</th>\n      <th>Fare</th>\n      <th>Fare_binned</th>\n      <th>log_Fare</th>\n    </tr>\n    <tr>\n      <th>PassengerId</th>\n      <th></th>\n      <th></th>\n      <th></th>\n      <th></th>\n      <th></th>\n      <th></th>\n      <th></th>\n      <th></th>\n      <th></th>\n      <th></th>\n      <th></th>\n      <th></th>\n      <th></th>\n    </tr>\n  </thead>\n  <tbody>\n    <tr>\n      <th>1</th>\n      <td>3</td>\n      <td>1</td>\n      <td>2</td>\n      <td>22.000000</td>\n      <td>20대</td>\n      <td>3</td>\n      <td>1</td>\n      <td>0</td>\n      <td>사망</td>\n      <td>8</td>\n      <td>7.2500</td>\n      <td>1.9</td>\n      <td>1.981001</td>\n    </tr>\n    <tr>\n      <th>2</th>\n      <td>4</td>\n      <td>0</td>\n      <td>0</td>\n      <td>38.000000</td>\n      <td>30대</td>\n      <td>1</td>\n      <td>1</td>\n      <td>0</td>\n      <td>생존</td>\n      <td>2</td>\n      <td>71.2833</td>\n      <td>4.2</td>\n      <td>4.266662</td>\n    </tr>\n    <tr>\n      <th>3</th>\n      <td>2</td>\n      <td>0</td>\n      <td>2</td>\n      <td>26.000000</td>\n      <td>20대</td>\n      <td>3</td>\n      <td>0</td>\n      <td>0</td>\n      <td>생존</td>\n      <td>8</td>\n      <td>7.9250</td>\n      <td>2.0</td>\n      <td>2.070022</td>\n    </tr>\n    <tr>\n      <th>4</th>\n      <td>4</td>\n      <td>0</td>\n      <td>2</td>\n      <td>35.000000</td>\n      <td>30대</td>\n      <td>1</td>\n      <td>1</td>\n      <td>0</td>\n      <td>생존</td>\n      <td>2</td>\n      <td>53.1000</td>\n      <td>4.0</td>\n      <td>3.972177</td>\n    </tr>\n    <tr>\n      <th>5</th>\n      <td>3</td>\n      <td>1</td>\n      <td>2</td>\n      <td>35.000000</td>\n      <td>30대</td>\n      <td>3</td>\n      <td>0</td>\n      <td>0</td>\n      <td>사망</td>\n      <td>8</td>\n      <td>8.0500</td>\n      <td>2.0</td>\n      <td>2.085672</td>\n    </tr>\n    <tr>\n      <th>...</th>\n      <td>...</td>\n      <td>...</td>\n      <td>...</td>\n      <td>...</td>\n      <td>...</td>\n      <td>...</td>\n      <td>...</td>\n      <td>...</td>\n      <td>...</td>\n      <td>...</td>\n      <td>...</td>\n      <td>...</td>\n      <td>...</td>\n    </tr>\n    <tr>\n      <th>1305</th>\n      <td>3</td>\n      <td>1</td>\n      <td>2</td>\n      <td>28.516607</td>\n      <td>20대</td>\n      <td>3</td>\n      <td>0</td>\n      <td>0</td>\n      <td>NaN</td>\n      <td>8</td>\n      <td>8.0500</td>\n      <td>2.0</td>\n      <td>2.085672</td>\n    </tr>\n    <tr>\n      <th>1306</th>\n      <td>6</td>\n      <td>0</td>\n      <td>0</td>\n      <td>39.000000</td>\n      <td>30대</td>\n      <td>1</td>\n      <td>0</td>\n      <td>0</td>\n      <td>NaN</td>\n      <td>2</td>\n      <td>108.9000</td>\n      <td>4.6</td>\n      <td>4.690430</td>\n    </tr>\n    <tr>\n      <th>1307</th>\n      <td>3</td>\n      <td>1</td>\n      <td>2</td>\n      <td>38.500000</td>\n      <td>30대</td>\n      <td>3</td>\n      <td>0</td>\n      <td>0</td>\n      <td>NaN</td>\n      <td>8</td>\n      <td>7.2500</td>\n      <td>1.9</td>\n      <td>1.981001</td>\n    </tr>\n    <tr>\n      <th>1308</th>\n      <td>3</td>\n      <td>1</td>\n      <td>2</td>\n      <td>28.516607</td>\n      <td>20대</td>\n      <td>3</td>\n      <td>0</td>\n      <td>0</td>\n      <td>NaN</td>\n      <td>8</td>\n      <td>8.0500</td>\n      <td>2.0</td>\n      <td>2.085672</td>\n    </tr>\n    <tr>\n      <th>1309</th>\n      <td>1</td>\n      <td>1</td>\n      <td>0</td>\n      <td>12.326040</td>\n      <td>10대</td>\n      <td>3</td>\n      <td>1</td>\n      <td>1</td>\n      <td>NaN</td>\n      <td>8</td>\n      <td>22.3583</td>\n      <td>3.1</td>\n      <td>3.107198</td>\n    </tr>\n  </tbody>\n</table>\n<p>1309 rows × 13 columns</p>\n</div>"
     },
     "execution_count": 9,
     "metadata": {},
     "output_type": "execute_result"
    }
   ],
   "source": [
    "all_data['log_Fare'] = np.log(all_data['Fare'])\n",
    "all_data"
   ],
   "metadata": {
    "collapsed": false,
    "pycharm": {
     "name": "#%%\n"
    }
   }
  },
  {
   "cell_type": "code",
   "execution_count": 10,
   "outputs": [
    {
     "data": {
      "text/plain": "             Name  Sex  Embarked        Age Age_binned  Pclass  SibSp  Parch  \\\nPassengerId                                                                    \n1               3    1         2  22.000000        20대       3      1      0   \n2               4    0         0  38.000000        30대       1      1      0   \n3               2    0         2  26.000000        20대       3      0      0   \n4               4    0         2  35.000000        30대       1      1      0   \n5               3    1         2  35.000000        30대       3      0      0   \n...           ...  ...       ...        ...        ...     ...    ...    ...   \n1305            3    1         2  28.516607        20대       3      0      0   \n1306            6    0         0  39.000000        30대       1      0      0   \n1307            3    1         2  38.500000        30대       3      0      0   \n1308            3    1         2  28.516607        20대       3      0      0   \n1309            1    1         0  12.326040        10대       3      1      1   \n\n            Survival  Cabin      Fare  Fare_binned  log_Fare  \\\nPassengerId                                                    \n1                 사망      8    7.2500          1.9  1.981001   \n2                 생존      2   71.2833          4.2  4.266662   \n3                 생존      8    7.9250          2.0  2.070022   \n4                 생존      2   53.1000          4.0  3.972177   \n5                 사망      8    8.0500          2.0  2.085672   \n...              ...    ...       ...          ...       ...   \n1305             NaN      8    8.0500          2.0  2.085672   \n1306             NaN      2  108.9000          4.6  4.690430   \n1307             NaN      8    7.2500          1.9  1.981001   \n1308             NaN      8    8.0500          2.0  2.085672   \n1309             NaN      8   22.3583          3.1  3.107198   \n\n                      FareBin  Fare_clean  \nPassengerId                                \n1               (3.17, 7.879]           0  \n2            (46.06, 512.329]           4  \n3             (7.879, 11.293]           1  \n4            (46.06, 512.329]           4  \n5             (7.879, 11.293]           1  \n...                       ...         ...  \n1305          (7.879, 11.293]           1  \n1306         (46.06, 512.329]           4  \n1307            (3.17, 7.879]           0  \n1308          (7.879, 11.293]           1  \n1309         (11.293, 22.358]           2  \n\n[1309 rows x 15 columns]",
      "text/html": "<div>\n<style scoped>\n    .dataframe tbody tr th:only-of-type {\n        vertical-align: middle;\n    }\n\n    .dataframe tbody tr th {\n        vertical-align: top;\n    }\n\n    .dataframe thead th {\n        text-align: right;\n    }\n</style>\n<table border=\"1\" class=\"dataframe\">\n  <thead>\n    <tr style=\"text-align: right;\">\n      <th></th>\n      <th>Name</th>\n      <th>Sex</th>\n      <th>Embarked</th>\n      <th>Age</th>\n      <th>Age_binned</th>\n      <th>Pclass</th>\n      <th>SibSp</th>\n      <th>Parch</th>\n      <th>Survival</th>\n      <th>Cabin</th>\n      <th>Fare</th>\n      <th>Fare_binned</th>\n      <th>log_Fare</th>\n      <th>FareBin</th>\n      <th>Fare_clean</th>\n    </tr>\n    <tr>\n      <th>PassengerId</th>\n      <th></th>\n      <th></th>\n      <th></th>\n      <th></th>\n      <th></th>\n      <th></th>\n      <th></th>\n      <th></th>\n      <th></th>\n      <th></th>\n      <th></th>\n      <th></th>\n      <th></th>\n      <th></th>\n      <th></th>\n    </tr>\n  </thead>\n  <tbody>\n    <tr>\n      <th>1</th>\n      <td>3</td>\n      <td>1</td>\n      <td>2</td>\n      <td>22.000000</td>\n      <td>20대</td>\n      <td>3</td>\n      <td>1</td>\n      <td>0</td>\n      <td>사망</td>\n      <td>8</td>\n      <td>7.2500</td>\n      <td>1.9</td>\n      <td>1.981001</td>\n      <td>(3.17, 7.879]</td>\n      <td>0</td>\n    </tr>\n    <tr>\n      <th>2</th>\n      <td>4</td>\n      <td>0</td>\n      <td>0</td>\n      <td>38.000000</td>\n      <td>30대</td>\n      <td>1</td>\n      <td>1</td>\n      <td>0</td>\n      <td>생존</td>\n      <td>2</td>\n      <td>71.2833</td>\n      <td>4.2</td>\n      <td>4.266662</td>\n      <td>(46.06, 512.329]</td>\n      <td>4</td>\n    </tr>\n    <tr>\n      <th>3</th>\n      <td>2</td>\n      <td>0</td>\n      <td>2</td>\n      <td>26.000000</td>\n      <td>20대</td>\n      <td>3</td>\n      <td>0</td>\n      <td>0</td>\n      <td>생존</td>\n      <td>8</td>\n      <td>7.9250</td>\n      <td>2.0</td>\n      <td>2.070022</td>\n      <td>(7.879, 11.293]</td>\n      <td>1</td>\n    </tr>\n    <tr>\n      <th>4</th>\n      <td>4</td>\n      <td>0</td>\n      <td>2</td>\n      <td>35.000000</td>\n      <td>30대</td>\n      <td>1</td>\n      <td>1</td>\n      <td>0</td>\n      <td>생존</td>\n      <td>2</td>\n      <td>53.1000</td>\n      <td>4.0</td>\n      <td>3.972177</td>\n      <td>(46.06, 512.329]</td>\n      <td>4</td>\n    </tr>\n    <tr>\n      <th>5</th>\n      <td>3</td>\n      <td>1</td>\n      <td>2</td>\n      <td>35.000000</td>\n      <td>30대</td>\n      <td>3</td>\n      <td>0</td>\n      <td>0</td>\n      <td>사망</td>\n      <td>8</td>\n      <td>8.0500</td>\n      <td>2.0</td>\n      <td>2.085672</td>\n      <td>(7.879, 11.293]</td>\n      <td>1</td>\n    </tr>\n    <tr>\n      <th>...</th>\n      <td>...</td>\n      <td>...</td>\n      <td>...</td>\n      <td>...</td>\n      <td>...</td>\n      <td>...</td>\n      <td>...</td>\n      <td>...</td>\n      <td>...</td>\n      <td>...</td>\n      <td>...</td>\n      <td>...</td>\n      <td>...</td>\n      <td>...</td>\n      <td>...</td>\n    </tr>\n    <tr>\n      <th>1305</th>\n      <td>3</td>\n      <td>1</td>\n      <td>2</td>\n      <td>28.516607</td>\n      <td>20대</td>\n      <td>3</td>\n      <td>0</td>\n      <td>0</td>\n      <td>NaN</td>\n      <td>8</td>\n      <td>8.0500</td>\n      <td>2.0</td>\n      <td>2.085672</td>\n      <td>(7.879, 11.293]</td>\n      <td>1</td>\n    </tr>\n    <tr>\n      <th>1306</th>\n      <td>6</td>\n      <td>0</td>\n      <td>0</td>\n      <td>39.000000</td>\n      <td>30대</td>\n      <td>1</td>\n      <td>0</td>\n      <td>0</td>\n      <td>NaN</td>\n      <td>2</td>\n      <td>108.9000</td>\n      <td>4.6</td>\n      <td>4.690430</td>\n      <td>(46.06, 512.329]</td>\n      <td>4</td>\n    </tr>\n    <tr>\n      <th>1307</th>\n      <td>3</td>\n      <td>1</td>\n      <td>2</td>\n      <td>38.500000</td>\n      <td>30대</td>\n      <td>3</td>\n      <td>0</td>\n      <td>0</td>\n      <td>NaN</td>\n      <td>8</td>\n      <td>7.2500</td>\n      <td>1.9</td>\n      <td>1.981001</td>\n      <td>(3.17, 7.879]</td>\n      <td>0</td>\n    </tr>\n    <tr>\n      <th>1308</th>\n      <td>3</td>\n      <td>1</td>\n      <td>2</td>\n      <td>28.516607</td>\n      <td>20대</td>\n      <td>3</td>\n      <td>0</td>\n      <td>0</td>\n      <td>NaN</td>\n      <td>8</td>\n      <td>8.0500</td>\n      <td>2.0</td>\n      <td>2.085672</td>\n      <td>(7.879, 11.293]</td>\n      <td>1</td>\n    </tr>\n    <tr>\n      <th>1309</th>\n      <td>1</td>\n      <td>1</td>\n      <td>0</td>\n      <td>12.326040</td>\n      <td>10대</td>\n      <td>3</td>\n      <td>1</td>\n      <td>1</td>\n      <td>NaN</td>\n      <td>8</td>\n      <td>22.3583</td>\n      <td>3.1</td>\n      <td>3.107198</td>\n      <td>(11.293, 22.358]</td>\n      <td>2</td>\n    </tr>\n  </tbody>\n</table>\n<p>1309 rows × 15 columns</p>\n</div>"
     },
     "execution_count": 10,
     "metadata": {},
     "output_type": "execute_result"
    }
   ],
   "source": [
    "all_data['FareBin'] = pd.qcut(all_data['Fare'], 10)\n",
    "all_data['Fare_clean'] = all_data['FareBin'].astype('category').cat.codes\n",
    "all_data"
   ],
   "metadata": {
    "collapsed": false,
    "pycharm": {
     "name": "#%%\n"
    }
   }
  },
  {
   "cell_type": "code",
   "execution_count": 11,
   "outputs": [
    {
     "data": {
      "text/plain": "             Name  Sex  Embarked        Age Age_binned  Pclass  SibSp  Parch  \\\nPassengerId                                                                    \n1               3    1         2  22.000000        20대       3      1      0   \n2               4    0         0  38.000000        30대       1      1      0   \n3               2    0         2  26.000000        20대       3      0      0   \n4               4    0         2  35.000000        30대       1      1      0   \n5               3    1         2  35.000000        30대       3      0      0   \n...           ...  ...       ...        ...        ...     ...    ...    ...   \n1305            3    1         2  28.516607        20대       3      0      0   \n1306            6    0         0  39.000000        30대       1      0      0   \n1307            3    1         2  38.500000        30대       3      0      0   \n1308            3    1         2  28.516607        20대       3      0      0   \n1309            1    1         0  12.326040        10대       3      1      1   \n\n            Survival  Cabin      Fare  Fare_binned  log_Fare  \\\nPassengerId                                                    \n1                 사망      8    7.2500          1.9  1.981001   \n2                 생존      2   71.2833          4.2  4.266662   \n3                 생존      8    7.9250          2.0  2.070022   \n4                 생존      2   53.1000          4.0  3.972177   \n5                 사망      8    8.0500          2.0  2.085672   \n...              ...    ...       ...          ...       ...   \n1305             NaN      8    8.0500          2.0  2.085672   \n1306             NaN      2  108.9000          4.6  4.690430   \n1307             NaN      8    7.2500          1.9  1.981001   \n1308             NaN      8    8.0500          2.0  2.085672   \n1309             NaN      8   22.3583          3.1  3.107198   \n\n                      FareBin  Fare_clean  Family  \nPassengerId                                        \n1               (3.17, 7.879]           0       1  \n2            (46.06, 512.329]           4       1  \n3             (7.879, 11.293]           1       0  \n4            (46.06, 512.329]           4       1  \n5             (7.879, 11.293]           1       0  \n...                       ...         ...     ...  \n1305          (7.879, 11.293]           1       0  \n1306         (46.06, 512.329]           4       0  \n1307            (3.17, 7.879]           0       0  \n1308          (7.879, 11.293]           1       0  \n1309         (11.293, 22.358]           2       2  \n\n[1309 rows x 16 columns]",
      "text/html": "<div>\n<style scoped>\n    .dataframe tbody tr th:only-of-type {\n        vertical-align: middle;\n    }\n\n    .dataframe tbody tr th {\n        vertical-align: top;\n    }\n\n    .dataframe thead th {\n        text-align: right;\n    }\n</style>\n<table border=\"1\" class=\"dataframe\">\n  <thead>\n    <tr style=\"text-align: right;\">\n      <th></th>\n      <th>Name</th>\n      <th>Sex</th>\n      <th>Embarked</th>\n      <th>Age</th>\n      <th>Age_binned</th>\n      <th>Pclass</th>\n      <th>SibSp</th>\n      <th>Parch</th>\n      <th>Survival</th>\n      <th>Cabin</th>\n      <th>Fare</th>\n      <th>Fare_binned</th>\n      <th>log_Fare</th>\n      <th>FareBin</th>\n      <th>Fare_clean</th>\n      <th>Family</th>\n    </tr>\n    <tr>\n      <th>PassengerId</th>\n      <th></th>\n      <th></th>\n      <th></th>\n      <th></th>\n      <th></th>\n      <th></th>\n      <th></th>\n      <th></th>\n      <th></th>\n      <th></th>\n      <th></th>\n      <th></th>\n      <th></th>\n      <th></th>\n      <th></th>\n      <th></th>\n    </tr>\n  </thead>\n  <tbody>\n    <tr>\n      <th>1</th>\n      <td>3</td>\n      <td>1</td>\n      <td>2</td>\n      <td>22.000000</td>\n      <td>20대</td>\n      <td>3</td>\n      <td>1</td>\n      <td>0</td>\n      <td>사망</td>\n      <td>8</td>\n      <td>7.2500</td>\n      <td>1.9</td>\n      <td>1.981001</td>\n      <td>(3.17, 7.879]</td>\n      <td>0</td>\n      <td>1</td>\n    </tr>\n    <tr>\n      <th>2</th>\n      <td>4</td>\n      <td>0</td>\n      <td>0</td>\n      <td>38.000000</td>\n      <td>30대</td>\n      <td>1</td>\n      <td>1</td>\n      <td>0</td>\n      <td>생존</td>\n      <td>2</td>\n      <td>71.2833</td>\n      <td>4.2</td>\n      <td>4.266662</td>\n      <td>(46.06, 512.329]</td>\n      <td>4</td>\n      <td>1</td>\n    </tr>\n    <tr>\n      <th>3</th>\n      <td>2</td>\n      <td>0</td>\n      <td>2</td>\n      <td>26.000000</td>\n      <td>20대</td>\n      <td>3</td>\n      <td>0</td>\n      <td>0</td>\n      <td>생존</td>\n      <td>8</td>\n      <td>7.9250</td>\n      <td>2.0</td>\n      <td>2.070022</td>\n      <td>(7.879, 11.293]</td>\n      <td>1</td>\n      <td>0</td>\n    </tr>\n    <tr>\n      <th>4</th>\n      <td>4</td>\n      <td>0</td>\n      <td>2</td>\n      <td>35.000000</td>\n      <td>30대</td>\n      <td>1</td>\n      <td>1</td>\n      <td>0</td>\n      <td>생존</td>\n      <td>2</td>\n      <td>53.1000</td>\n      <td>4.0</td>\n      <td>3.972177</td>\n      <td>(46.06, 512.329]</td>\n      <td>4</td>\n      <td>1</td>\n    </tr>\n    <tr>\n      <th>5</th>\n      <td>3</td>\n      <td>1</td>\n      <td>2</td>\n      <td>35.000000</td>\n      <td>30대</td>\n      <td>3</td>\n      <td>0</td>\n      <td>0</td>\n      <td>사망</td>\n      <td>8</td>\n      <td>8.0500</td>\n      <td>2.0</td>\n      <td>2.085672</td>\n      <td>(7.879, 11.293]</td>\n      <td>1</td>\n      <td>0</td>\n    </tr>\n    <tr>\n      <th>...</th>\n      <td>...</td>\n      <td>...</td>\n      <td>...</td>\n      <td>...</td>\n      <td>...</td>\n      <td>...</td>\n      <td>...</td>\n      <td>...</td>\n      <td>...</td>\n      <td>...</td>\n      <td>...</td>\n      <td>...</td>\n      <td>...</td>\n      <td>...</td>\n      <td>...</td>\n      <td>...</td>\n    </tr>\n    <tr>\n      <th>1305</th>\n      <td>3</td>\n      <td>1</td>\n      <td>2</td>\n      <td>28.516607</td>\n      <td>20대</td>\n      <td>3</td>\n      <td>0</td>\n      <td>0</td>\n      <td>NaN</td>\n      <td>8</td>\n      <td>8.0500</td>\n      <td>2.0</td>\n      <td>2.085672</td>\n      <td>(7.879, 11.293]</td>\n      <td>1</td>\n      <td>0</td>\n    </tr>\n    <tr>\n      <th>1306</th>\n      <td>6</td>\n      <td>0</td>\n      <td>0</td>\n      <td>39.000000</td>\n      <td>30대</td>\n      <td>1</td>\n      <td>0</td>\n      <td>0</td>\n      <td>NaN</td>\n      <td>2</td>\n      <td>108.9000</td>\n      <td>4.6</td>\n      <td>4.690430</td>\n      <td>(46.06, 512.329]</td>\n      <td>4</td>\n      <td>0</td>\n    </tr>\n    <tr>\n      <th>1307</th>\n      <td>3</td>\n      <td>1</td>\n      <td>2</td>\n      <td>38.500000</td>\n      <td>30대</td>\n      <td>3</td>\n      <td>0</td>\n      <td>0</td>\n      <td>NaN</td>\n      <td>8</td>\n      <td>7.2500</td>\n      <td>1.9</td>\n      <td>1.981001</td>\n      <td>(3.17, 7.879]</td>\n      <td>0</td>\n      <td>0</td>\n    </tr>\n    <tr>\n      <th>1308</th>\n      <td>3</td>\n      <td>1</td>\n      <td>2</td>\n      <td>28.516607</td>\n      <td>20대</td>\n      <td>3</td>\n      <td>0</td>\n      <td>0</td>\n      <td>NaN</td>\n      <td>8</td>\n      <td>8.0500</td>\n      <td>2.0</td>\n      <td>2.085672</td>\n      <td>(7.879, 11.293]</td>\n      <td>1</td>\n      <td>0</td>\n    </tr>\n    <tr>\n      <th>1309</th>\n      <td>1</td>\n      <td>1</td>\n      <td>0</td>\n      <td>12.326040</td>\n      <td>10대</td>\n      <td>3</td>\n      <td>1</td>\n      <td>1</td>\n      <td>NaN</td>\n      <td>8</td>\n      <td>22.3583</td>\n      <td>3.1</td>\n      <td>3.107198</td>\n      <td>(11.293, 22.358]</td>\n      <td>2</td>\n      <td>2</td>\n    </tr>\n  </tbody>\n</table>\n<p>1309 rows × 16 columns</p>\n</div>"
     },
     "execution_count": 11,
     "metadata": {},
     "output_type": "execute_result"
    }
   ],
   "source": [
    "\n",
    "all_data['Family'] = 1 + all_data['SibSp'] + all_data['Parch']\n",
    "\n",
    "all_data['Solo'] = (all_data['Family'] ==1)\n",
    "\n",
    "\n",
    "all_data"
   ],
   "metadata": {
    "collapsed": false,
    "pycharm": {
     "name": "#%%\n"
    }
   }
  },
  {
   "cell_type": "code",
   "execution_count": 12,
   "outputs": [
    {
     "data": {
      "text/plain": "<Figure size 432x288 with 1 Axes>",
      "image/png": "[encoded data removed]"
     },
     "metadata": {
      "needs_background": "light"
     },
     "output_type": "display_data"
    }
   ],
   "source": [
    "ax = sns.countplot(x='Family',  hue = 'Survival' , data = all_data)\n",
    "plt.show()"
   ],
   "metadata": {
    "collapsed": false,
    "pycharm": {
     "name": "#%%\n"
    }
   }
  },
  {
   "cell_type": "code",
   "execution_count": 13,
   "outputs": [
    {
     "data": {
      "text/plain": "<Figure size 432x288 with 1 Axes>",
      "image/png": "[encoded data removed]"
     },
     "metadata": {
      "needs_background": "light"
     },
     "output_type": "display_data"
    }
   ],
   "source": [
    "ax = sns.countplot(x='Name',  hue = 'Survival' , data = all_data)\n",
    "plt.show()"
   ],
   "metadata": {
    "collapsed": false,
    "pycharm": {
     "name": "#%%\n"
    }
   }
  },
  {
   "cell_type": "markdown",
   "source": [
    "## Cabin 전처리 해보기"
   ],
   "metadata": {
    "collapsed": false,
    "pycharm": {
     "name": "#%% md\n"
    }
   }
  },
  {
   "cell_type": "code",
   "execution_count": 14,
   "outputs": [
    {
     "data": {
      "text/plain": "8    1014\n2      94\n1      65\n3      46\n4      41\n0      22\n5      21\n6       5\n7       1\nName: Cabin, dtype: int64"
     },
     "execution_count": 14,
     "metadata": {},
     "output_type": "execute_result"
    }
   ],
   "source": [
    "all_data['Cabin'].value_counts()"
   ],
   "metadata": {
    "collapsed": false,
    "pycharm": {
     "name": "#%%\n"
    }
   }
  },
  {
   "cell_type": "code",
   "execution_count": 15,
   "outputs": [
    {
     "name": "stdout",
     "output_type": "stream",
     "text": [
      "<class 'pandas.core.frame.DataFrame'>\n",
      "Int64Index: 1309 entries, 1 to 1309\n",
      "Data columns (total 16 columns):\n",
      " #   Column       Non-Null Count  Dtype   \n",
      "---  ------       --------------  -----   \n",
      " 0   Name         1309 non-null   int64   \n",
      " 1   Sex          1309 non-null   int64   \n",
      " 2   Embarked     1309 non-null   int64   \n",
      " 3   Age          1309 non-null   float64 \n",
      " 4   Age_binned   1309 non-null   object  \n",
      " 5   Pclass       1309 non-null   int64   \n",
      " 6   SibSp        1309 non-null   int64   \n",
      " 7   Parch        1309 non-null   int64   \n",
      " 8   Survival     891 non-null    object  \n",
      " 9   Cabin        1309 non-null   int64   \n",
      " 10  Fare         1309 non-null   float64 \n",
      " 11  Fare_binned  1309 non-null   float64 \n",
      " 12  log_Fare     1309 non-null   float64 \n",
      " 13  FareBin      1309 non-null   category\n",
      " 14  Fare_clean   1309 non-null   int8    \n",
      " 15  Family       1309 non-null   int64   \n",
      "dtypes: category(1), float64(4), int64(8), int8(1), object(2)\n",
      "memory usage: 188.5+ KB\n"
     ]
    }
   ],
   "source": [
    "all_data.info()"
   ],
   "metadata": {
    "collapsed": false,
    "pycharm": {
     "name": "#%%\n"
    }
   }
  },
  {
   "cell_type": "code",
   "execution_count": 16,
   "outputs": [
    {
     "data": {
      "text/plain": "             Name  Sex  Embarked        Age Age_binned  Pclass  SibSp  Parch  \\\nPassengerId                                                                    \n1               3    1         2  22.000000        20대       3      1      0   \n2               4    0         0  38.000000        30대       1      1      0   \n3               2    0         2  26.000000        20대       3      0      0   \n4               4    0         2  35.000000        30대       1      1      0   \n5               3    1         2  35.000000        30대       3      0      0   \n...           ...  ...       ...        ...        ...     ...    ...    ...   \n1305            3    1         2  28.516607        20대       3      0      0   \n1306            6    0         0  39.000000        30대       1      0      0   \n1307            3    1         2  38.500000        30대       3      0      0   \n1308            3    1         2  28.516607        20대       3      0      0   \n1309            1    1         0  12.326040        10대       3      1      1   \n\n            Survival  Cabin      Fare  Fare_binned  log_Fare  \\\nPassengerId                                                    \n1                 사망      8    7.2500          1.9  1.981001   \n2                 생존      2   71.2833          4.2  4.266662   \n3                 생존      8    7.9250          2.0  2.070022   \n4                 생존      2   53.1000          4.0  3.972177   \n5                 사망      8    8.0500          2.0  2.085672   \n...              ...    ...       ...          ...       ...   \n1305             NaN      8    8.0500          2.0  2.085672   \n1306             NaN      2  108.9000          4.6  4.690430   \n1307             NaN      8    7.2500          1.9  1.981001   \n1308             NaN      8    8.0500          2.0  2.085672   \n1309             NaN      8   22.3583          3.1  3.107198   \n\n                      FareBin  Fare_clean  Family  \nPassengerId                                        \n1               (3.17, 7.879]           0       1  \n2            (46.06, 512.329]           4       1  \n3             (7.879, 11.293]           1       0  \n4            (46.06, 512.329]           4       1  \n5             (7.879, 11.293]           1       0  \n...                       ...         ...     ...  \n1305          (7.879, 11.293]           1       0  \n1306         (46.06, 512.329]           4       0  \n1307            (3.17, 7.879]           0       0  \n1308          (7.879, 11.293]           1       0  \n1309         (11.293, 22.358]           2       2  \n\n[1309 rows x 16 columns]",
      "text/html": "<div>\n<style scoped>\n    .dataframe tbody tr th:only-of-type {\n        vertical-align: middle;\n    }\n\n    .dataframe tbody tr th {\n        vertical-align: top;\n    }\n\n    .dataframe thead th {\n        text-align: right;\n    }\n</style>\n<table border=\"1\" class=\"dataframe\">\n  <thead>\n    <tr style=\"text-align: right;\">\n      <th></th>\n      <th>Name</th>\n      <th>Sex</th>\n      <th>Embarked</th>\n      <th>Age</th>\n      <th>Age_binned</th>\n      <th>Pclass</th>\n      <th>SibSp</th>\n      <th>Parch</th>\n      <th>Survival</th>\n      <th>Cabin</th>\n      <th>Fare</th>\n      <th>Fare_binned</th>\n      <th>log_Fare</th>\n      <th>FareBin</th>\n      <th>Fare_clean</th>\n      <th>Family</th>\n    </tr>\n    <tr>\n      <th>PassengerId</th>\n      <th></th>\n      <th></th>\n      <th></th>\n      <th></th>\n      <th></th>\n      <th></th>\n      <th></th>\n      <th></th>\n      <th></th>\n      <th></th>\n      <th></th>\n      <th></th>\n      <th></th>\n      <th></th>\n      <th></th>\n      <th></th>\n    </tr>\n  </thead>\n  <tbody>\n    <tr>\n      <th>1</th>\n      <td>3</td>\n      <td>1</td>\n      <td>2</td>\n      <td>22.000000</td>\n      <td>20대</td>\n      <td>3</td>\n      <td>1</td>\n      <td>0</td>\n      <td>사망</td>\n      <td>8</td>\n      <td>7.2500</td>\n      <td>1.9</td>\n      <td>1.981001</td>\n      <td>(3.17, 7.879]</td>\n      <td>0</td>\n      <td>1</td>\n    </tr>\n    <tr>\n      <th>2</th>\n      <td>4</td>\n      <td>0</td>\n      <td>0</td>\n      <td>38.000000</td>\n      <td>30대</td>\n      <td>1</td>\n      <td>1</td>\n      <td>0</td>\n      <td>생존</td>\n      <td>2</td>\n      <td>71.2833</td>\n      <td>4.2</td>\n      <td>4.266662</td>\n      <td>(46.06, 512.329]</td>\n      <td>4</td>\n      <td>1</td>\n    </tr>\n    <tr>\n      <th>3</th>\n      <td>2</td>\n      <td>0</td>\n      <td>2</td>\n      <td>26.000000</td>\n      <td>20대</td>\n      <td>3</td>\n      <td>0</td>\n      <td>0</td>\n      <td>생존</td>\n      <td>8</td>\n      <td>7.9250</td>\n      <td>2.0</td>\n      <td>2.070022</td>\n      <td>(7.879, 11.293]</td>\n      <td>1</td>\n      <td>0</td>\n    </tr>\n    <tr>\n      <th>4</th>\n      <td>4</td>\n      <td>0</td>\n      <td>2</td>\n      <td>35.000000</td>\n      <td>30대</td>\n      <td>1</td>\n      <td>1</td>\n      <td>0</td>\n      <td>생존</td>\n      <td>2</td>\n      <td>53.1000</td>\n      <td>4.0</td>\n      <td>3.972177</td>\n      <td>(46.06, 512.329]</td>\n      <td>4</td>\n      <td>1</td>\n    </tr>\n    <tr>\n      <th>5</th>\n      <td>3</td>\n      <td>1</td>\n      <td>2</td>\n      <td>35.000000</td>\n      <td>30대</td>\n      <td>3</td>\n      <td>0</td>\n      <td>0</td>\n      <td>사망</td>\n      <td>8</td>\n      <td>8.0500</td>\n      <td>2.0</td>\n      <td>2.085672</td>\n      <td>(7.879, 11.293]</td>\n      <td>1</td>\n      <td>0</td>\n    </tr>\n    <tr>\n      <th>...</th>\n      <td>...</td>\n      <td>...</td>\n      <td>...</td>\n      <td>...</td>\n      <td>...</td>\n      <td>...</td>\n      <td>...</td>\n      <td>...</td>\n      <td>...</td>\n      <td>...</td>\n      <td>...</td>\n      <td>...</td>\n      <td>...</td>\n      <td>...</td>\n      <td>...</td>\n      <td>...</td>\n    </tr>\n    <tr>\n      <th>1305</th>\n      <td>3</td>\n      <td>1</td>\n      <td>2</td>\n      <td>28.516607</td>\n      <td>20대</td>\n      <td>3</td>\n      <td>0</td>\n      <td>0</td>\n      <td>NaN</td>\n      <td>8</td>\n      <td>8.0500</td>\n      <td>2.0</td>\n      <td>2.085672</td>\n      <td>(7.879, 11.293]</td>\n      <td>1</td>\n      <td>0</td>\n    </tr>\n    <tr>\n      <th>1306</th>\n      <td>6</td>\n      <td>0</td>\n      <td>0</td>\n      <td>39.000000</td>\n      <td>30대</td>\n      <td>1</td>\n      <td>0</td>\n      <td>0</td>\n      <td>NaN</td>\n      <td>2</td>\n      <td>108.9000</td>\n      <td>4.6</td>\n      <td>4.690430</td>\n      <td>(46.06, 512.329]</td>\n      <td>4</td>\n      <td>0</td>\n    </tr>\n    <tr>\n      <th>1307</th>\n      <td>3</td>\n      <td>1</td>\n      <td>2</td>\n      <td>38.500000</td>\n      <td>30대</td>\n      <td>3</td>\n      <td>0</td>\n      <td>0</td>\n      <td>NaN</td>\n      <td>8</td>\n      <td>7.2500</td>\n      <td>1.9</td>\n      <td>1.981001</td>\n      <td>(3.17, 7.879]</td>\n      <td>0</td>\n      <td>0</td>\n    </tr>\n    <tr>\n      <th>1308</th>\n      <td>3</td>\n      <td>1</td>\n      <td>2</td>\n      <td>28.516607</td>\n      <td>20대</td>\n      <td>3</td>\n      <td>0</td>\n      <td>0</td>\n      <td>NaN</td>\n      <td>8</td>\n      <td>8.0500</td>\n      <td>2.0</td>\n      <td>2.085672</td>\n      <td>(7.879, 11.293]</td>\n      <td>1</td>\n      <td>0</td>\n    </tr>\n    <tr>\n      <th>1309</th>\n      <td>1</td>\n      <td>1</td>\n      <td>0</td>\n      <td>12.326040</td>\n      <td>10대</td>\n      <td>3</td>\n      <td>1</td>\n      <td>1</td>\n      <td>NaN</td>\n      <td>8</td>\n      <td>22.3583</td>\n      <td>3.1</td>\n      <td>3.107198</td>\n      <td>(11.293, 22.358]</td>\n      <td>2</td>\n      <td>2</td>\n    </tr>\n  </tbody>\n</table>\n<p>1309 rows × 16 columns</p>\n</div>"
     },
     "execution_count": 16,
     "metadata": {},
     "output_type": "execute_result"
    }
   ],
   "source": [
    "\n",
    "\n",
    "\n",
    "all_data"
   ],
   "metadata": {
    "collapsed": false,
    "pycharm": {
     "name": "#%%\n"
    }
   }
  },
  {
   "cell_type": "code",
   "execution_count": 17,
   "outputs": [
    {
     "data": {
      "text/plain": "             Name  Sex  Embarked        Age  Age_binned  Pclass  SibSp  Parch  \\\nPassengerId                                                                     \n1               3    1         2  22.000000           2       3      1      0   \n2               4    0         0  38.000000           3       1      1      0   \n3               2    0         2  26.000000           2       3      0      0   \n4               4    0         2  35.000000           3       1      1      0   \n5               3    1         2  35.000000           3       3      0      0   \n...           ...  ...       ...        ...         ...     ...    ...    ...   \n1305            3    1         2  28.516607           2       3      0      0   \n1306            6    0         0  39.000000           3       1      0      0   \n1307            3    1         2  38.500000           3       3      0      0   \n1308            3    1         2  28.516607           2       3      0      0   \n1309            1    1         0  12.326040           1       3      1      1   \n\n            Survival  Cabin      Fare  Fare_binned  log_Fare  \\\nPassengerId                                                    \n1                 사망      8    7.2500          1.9  1.981001   \n2                 생존      2   71.2833          4.2  4.266662   \n3                 생존      8    7.9250          2.0  2.070022   \n4                 생존      2   53.1000          4.0  3.972177   \n5                 사망      8    8.0500          2.0  2.085672   \n...              ...    ...       ...          ...       ...   \n1305             NaN      8    8.0500          2.0  2.085672   \n1306             NaN      2  108.9000          4.6  4.690430   \n1307             NaN      8    7.2500          1.9  1.981001   \n1308             NaN      8    8.0500          2.0  2.085672   \n1309             NaN      8   22.3583          3.1  3.107198   \n\n                      FareBin  Fare_clean  Family  \nPassengerId                                        \n1               (3.17, 7.879]           0       1  \n2            (46.06, 512.329]           4       1  \n3             (7.879, 11.293]           1       0  \n4            (46.06, 512.329]           4       1  \n5             (7.879, 11.293]           1       0  \n...                       ...         ...     ...  \n1305          (7.879, 11.293]           1       0  \n1306         (46.06, 512.329]           4       0  \n1307            (3.17, 7.879]           0       0  \n1308          (7.879, 11.293]           1       0  \n1309         (11.293, 22.358]           2       2  \n\n[1309 rows x 16 columns]",
      "text/html": "<div>\n<style scoped>\n    .dataframe tbody tr th:only-of-type {\n        vertical-align: middle;\n    }\n\n    .dataframe tbody tr th {\n        vertical-align: top;\n    }\n\n    .dataframe thead th {\n        text-align: right;\n    }\n</style>\n<table border=\"1\" class=\"dataframe\">\n  <thead>\n    <tr style=\"text-align: right;\">\n      <th></th>\n      <th>Name</th>\n      <th>Sex</th>\n      <th>Embarked</th>\n      <th>Age</th>\n      <th>Age_binned</th>\n      <th>Pclass</th>\n      <th>SibSp</th>\n      <th>Parch</th>\n      <th>Survival</th>\n      <th>Cabin</th>\n      <th>Fare</th>\n      <th>Fare_binned</th>\n      <th>log_Fare</th>\n      <th>FareBin</th>\n      <th>Fare_clean</th>\n      <th>Family</th>\n    </tr>\n    <tr>\n      <th>PassengerId</th>\n      <th></th>\n      <th></th>\n      <th></th>\n      <th></th>\n      <th></th>\n      <th></th>\n      <th></th>\n      <th></th>\n      <th></th>\n      <th></th>\n      <th></th>\n      <th></th>\n      <th></th>\n      <th></th>\n      <th></th>\n      <th></th>\n    </tr>\n  </thead>\n  <tbody>\n    <tr>\n      <th>1</th>\n      <td>3</td>\n      <td>1</td>\n      <td>2</td>\n      <td>22.000000</td>\n      <td>2</td>\n      <td>3</td>\n      <td>1</td>\n      <td>0</td>\n      <td>사망</td>\n      <td>8</td>\n      <td>7.2500</td>\n      <td>1.9</td>\n      <td>1.981001</td>\n      <td>(3.17, 7.879]</td>\n      <td>0</td>\n      <td>1</td>\n    </tr>\n    <tr>\n      <th>2</th>\n      <td>4</td>\n      <td>0</td>\n      <td>0</td>\n      <td>38.000000</td>\n      <td>3</td>\n      <td>1</td>\n      <td>1</td>\n      <td>0</td>\n      <td>생존</td>\n      <td>2</td>\n      <td>71.2833</td>\n      <td>4.2</td>\n      <td>4.266662</td>\n      <td>(46.06, 512.329]</td>\n      <td>4</td>\n      <td>1</td>\n    </tr>\n    <tr>\n      <th>3</th>\n      <td>2</td>\n      <td>0</td>\n      <td>2</td>\n      <td>26.000000</td>\n      <td>2</td>\n      <td>3</td>\n      <td>0</td>\n      <td>0</td>\n      <td>생존</td>\n      <td>8</td>\n      <td>7.9250</td>\n      <td>2.0</td>\n      <td>2.070022</td>\n      <td>(7.879, 11.293]</td>\n      <td>1</td>\n      <td>0</td>\n    </tr>\n    <tr>\n      <th>4</th>\n      <td>4</td>\n      <td>0</td>\n      <td>2</td>\n      <td>35.000000</td>\n      <td>3</td>\n      <td>1</td>\n      <td>1</td>\n      <td>0</td>\n      <td>생존</td>\n      <td>2</td>\n      <td>53.1000</td>\n      <td>4.0</td>\n      <td>3.972177</td>\n      <td>(46.06, 512.329]</td>\n      <td>4</td>\n      <td>1</td>\n    </tr>\n    <tr>\n      <th>5</th>\n      <td>3</td>\n      <td>1</td>\n      <td>2</td>\n      <td>35.000000</td>\n      <td>3</td>\n      <td>3</td>\n      <td>0</td>\n      <td>0</td>\n      <td>사망</td>\n      <td>8</td>\n      <td>8.0500</td>\n      <td>2.0</td>\n      <td>2.085672</td>\n      <td>(7.879, 11.293]</td>\n      <td>1</td>\n      <td>0</td>\n    </tr>\n    <tr>\n      <th>...</th>\n      <td>...</td>\n      <td>...</td>\n      <td>...</td>\n      <td>...</td>\n      <td>...</td>\n      <td>...</td>\n      <td>...</td>\n      <td>...</td>\n      <td>...</td>\n      <td>...</td>\n      <td>...</td>\n      <td>...</td>\n      <td>...</td>\n      <td>...</td>\n      <td>...</td>\n      <td>...</td>\n    </tr>\n    <tr>\n      <th>1305</th>\n      <td>3</td>\n      <td>1</td>\n      <td>2</td>\n      <td>28.516607</td>\n      <td>2</td>\n      <td>3</td>\n      <td>0</td>\n      <td>0</td>\n      <td>NaN</td>\n      <td>8</td>\n      <td>8.0500</td>\n      <td>2.0</td>\n      <td>2.085672</td>\n      <td>(7.879, 11.293]</td>\n      <td>1</td>\n      <td>0</td>\n    </tr>\n    <tr>\n      <th>1306</th>\n      <td>6</td>\n      <td>0</td>\n      <td>0</td>\n      <td>39.000000</td>\n      <td>3</td>\n      <td>1</td>\n      <td>0</td>\n      <td>0</td>\n      <td>NaN</td>\n      <td>2</td>\n      <td>108.9000</td>\n      <td>4.6</td>\n      <td>4.690430</td>\n      <td>(46.06, 512.329]</td>\n      <td>4</td>\n      <td>0</td>\n    </tr>\n    <tr>\n      <th>1307</th>\n      <td>3</td>\n      <td>1</td>\n      <td>2</td>\n      <td>38.500000</td>\n      <td>3</td>\n      <td>3</td>\n      <td>0</td>\n      <td>0</td>\n      <td>NaN</td>\n      <td>8</td>\n      <td>7.2500</td>\n      <td>1.9</td>\n      <td>1.981001</td>\n      <td>(3.17, 7.879]</td>\n      <td>0</td>\n      <td>0</td>\n    </tr>\n    <tr>\n      <th>1308</th>\n      <td>3</td>\n      <td>1</td>\n      <td>2</td>\n      <td>28.516607</td>\n      <td>2</td>\n      <td>3</td>\n      <td>0</td>\n      <td>0</td>\n      <td>NaN</td>\n      <td>8</td>\n      <td>8.0500</td>\n      <td>2.0</td>\n      <td>2.085672</td>\n      <td>(7.879, 11.293]</td>\n      <td>1</td>\n      <td>0</td>\n    </tr>\n    <tr>\n      <th>1309</th>\n      <td>1</td>\n      <td>1</td>\n      <td>0</td>\n      <td>12.326040</td>\n      <td>1</td>\n      <td>3</td>\n      <td>1</td>\n      <td>1</td>\n      <td>NaN</td>\n      <td>8</td>\n      <td>22.3583</td>\n      <td>3.1</td>\n      <td>3.107198</td>\n      <td>(11.293, 22.358]</td>\n      <td>2</td>\n      <td>2</td>\n    </tr>\n  </tbody>\n</table>\n<p>1309 rows × 16 columns</p>\n</div>"
     },
     "execution_count": 17,
     "metadata": {},
     "output_type": "execute_result"
    }
   ],
   "source": [
    "from sklearn.preprocessing import LabelEncoder\n",
    "\n",
    "# LabelEncoder 객체 생성\n",
    "label_encoder = LabelEncoder()\n",
    "\n",
    "# 나이 열 변환\n",
    "all_data['Age_binned'] = label_encoder.fit_transform(all_data['Age_binned'])\n",
    "\n",
    "all_data\n"
   ],
   "metadata": {
    "collapsed": false,
    "pycharm": {
     "name": "#%%\n"
    }
   }
  },
  {
   "cell_type": "markdown",
   "source": [
    "## 성능 개선 없이 그냥 베이스라인 모델 돌려보기"
   ],
   "metadata": {
    "collapsed": false,
    "pycharm": {
     "name": "#%% md\n"
    }
   }
  },
  {
   "cell_type": "code",
   "execution_count": 18,
   "outputs": [
    {
     "data": {
      "text/plain": "<1309x911 sparse matrix of type '<class 'numpy.float64'>'\n\twith 20944 stored elements in Compressed Sparse Row format>"
     },
     "execution_count": 18,
     "metadata": {},
     "output_type": "execute_result"
    }
   ],
   "source": [
    "from sklearn.preprocessing import OneHotEncoder\n",
    "\n",
    "encoder = OneHotEncoder() # 원-핫 인코더 생성\n",
    "\n",
    "all_data_encoded = encoder.fit_transform(all_data)\n",
    "\n",
    "all_data_encoded"
   ],
   "metadata": {
    "collapsed": false,
    "pycharm": {
     "name": "#%%\n"
    }
   }
  },
  {
   "cell_type": "code",
   "execution_count": 19,
   "outputs": [],
   "source": [
    "num_train = len(train) # 훈련 데이터 개수\n",
    "\n",
    "# 훈련 데이터와 테스트 데이터 나누기\n",
    "\n",
    "X= all_data_encoded[:num_train] # 0~num_train -1 행\n",
    "X_test = all_data_encoded[num_train:] # num_train ~ 마지막 행\n",
    "\n",
    "y = train['Survived'].values"
   ],
   "metadata": {
    "collapsed": false,
    "pycharm": {
     "name": "#%%\n"
    }
   }
  },
  {
   "cell_type": "code",
   "execution_count": 20,
   "outputs": [],
   "source": [
    "features2 = all_data.columns.tolist()"
   ],
   "metadata": {
    "collapsed": false,
    "pycharm": {
     "name": "#%%\n"
    }
   }
  },
  {
   "cell_type": "code",
   "execution_count": 21,
   "outputs": [
    {
     "data": {
      "text/plain": "<Figure size 864x576 with 16 Axes>",
      "image/png": "[encoded data removed]"
     },
     "metadata": {
      "needs_background": "light"
     },
     "output_type": "display_data"
    }
   ],
   "source": [
    "import matplotlib.pyplot as plt\n",
    "import seaborn as sns\n",
    "\n",
    "# 서브플롯을 생성할 크기 설정\n",
    "plt.figure(figsize=(12, 8))\n",
    "\n",
    "# 피처들의 리스트\n",
    "features = features2\n",
    "\n",
    "# 피처들에 대한 countplot 그리기\n",
    "for i, feature in enumerate(features):\n",
    "    plt.subplot(4, 4, i+1)\n",
    "    sns.countplot(x=feature, hue='Survival', data=all_data)\n",
    "    plt.title(f'{feature} - Survived Countplot')\n",
    "\n",
    "# 레이아웃 조정\n",
    "plt.tight_layout()\n",
    "\n",
    "# 그래프 출력\n",
    "plt.show()\n"
   ],
   "metadata": {
    "collapsed": false,
    "pycharm": {
     "name": "#%%\n"
    }
   }
  },
  {
   "cell_type": "code",
   "execution_count": 22,
   "outputs": [
    {
     "data": {
      "text/plain": "<Figure size 720x576 with 2 Axes>",
      "image/png": "[encoded data removed]"
     },
     "metadata": {
      "needs_background": "light"
     },
     "output_type": "display_data"
    }
   ],
   "source": [
    "import seaborn as sns\n",
    "\n",
    "# 피처들의 리스트\n",
    "features = features\n",
    "\n",
    "# 각 피처별 'Survived'와의 상관계수 계산\n",
    "correlations = all_data[features + ['Survival']].corr()\n",
    "# filtered_correlations = correlations[correlations['Survival'].abs() >= 0.2]\n",
    "\n",
    "# 상관계수 히트맵 시각화\n",
    "plt.figure(figsize=(10, 8))\n",
    "sns.heatmap(correlations, annot=True, cmap='RdYlBu')\n",
    "plt.title(\"Correlation Heatmap\")\n",
    "\n",
    "# 그래프 출력\n",
    "plt.show()\n"
   ],
   "metadata": {
    "collapsed": false,
    "pycharm": {
     "name": "#%%\n"
    }
   }
  },
  {
   "cell_type": "code",
   "execution_count": 23,
   "outputs": [],
   "source": [
    "object_col = ['Name' , 'Sex' , 'Embarked'  ,'Age_binned', 'Fare_clean' ,  'Cabin'  ]\n",
    "binary_col = ['Fare' ,'Family', 'Pclass', 'log_Fare'  ]\n",
    "\n",
    "idx_col = ['Age_binned' , 'Fare_binned']"
   ],
   "metadata": {
    "collapsed": false,
    "pycharm": {
     "name": "#%%\n"
    }
   }
  },
  {
   "cell_type": "code",
   "execution_count": 24,
   "outputs": [
    {
     "data": {
      "text/plain": "['Name',\n 'Sex',\n 'Embarked',\n 'Age',\n 'Age_binned',\n 'Pclass',\n 'SibSp',\n 'Parch',\n 'Survival',\n 'Cabin',\n 'Fare',\n 'Fare_binned',\n 'log_Fare',\n 'FareBin',\n 'Fare_clean',\n 'Family']"
     },
     "execution_count": 24,
     "metadata": {},
     "output_type": "execute_result"
    }
   ],
   "source": [
    "all_data.columns.tolist()"
   ],
   "metadata": {
    "collapsed": false,
    "pycharm": {
     "name": "#%%\n"
    }
   }
  },
  {
   "cell_type": "code",
   "execution_count": 25,
   "outputs": [
    {
     "data": {
      "text/plain": "             Name  Sex  Embarked  Age_binned  Fare_clean  Cabin  Family  \\\nPassengerId                                                               \n1               3    1         2           2           0      8       1   \n2               4    0         0           3           4      2       1   \n3               2    0         2           2           1      8       0   \n4               4    0         2           3           4      2       1   \n5               3    1         2           3           1      8       0   \n...           ...  ...       ...         ...         ...    ...     ...   \n1305            3    1         2           2           1      8       0   \n1306            6    0         0           3           4      2       0   \n1307            3    1         2           3           0      8       0   \n1308            3    1         2           2           1      8       0   \n1309            1    1         0           1           2      8       2   \n\n             Pclass  \nPassengerId          \n1                 3  \n2                 1  \n3                 3  \n4                 1  \n5                 3  \n...             ...  \n1305              3  \n1306              1  \n1307              3  \n1308              3  \n1309              3  \n\n[1309 rows x 8 columns]",
      "text/html": "<div>\n<style scoped>\n    .dataframe tbody tr th:only-of-type {\n        vertical-align: middle;\n    }\n\n    .dataframe tbody tr th {\n        vertical-align: top;\n    }\n\n    .dataframe thead th {\n        text-align: right;\n    }\n</style>\n<table border=\"1\" class=\"dataframe\">\n  <thead>\n    <tr style=\"text-align: right;\">\n      <th></th>\n      <th>Name</th>\n      <th>Sex</th>\n      <th>Embarked</th>\n      <th>Age_binned</th>\n      <th>Fare_clean</th>\n      <th>Cabin</th>\n      <th>Family</th>\n      <th>Pclass</th>\n    </tr>\n    <tr>\n      <th>PassengerId</th>\n      <th></th>\n      <th></th>\n      <th></th>\n      <th></th>\n      <th></th>\n      <th></th>\n      <th></th>\n      <th></th>\n    </tr>\n  </thead>\n  <tbody>\n    <tr>\n      <th>1</th>\n      <td>3</td>\n      <td>1</td>\n      <td>2</td>\n      <td>2</td>\n      <td>0</td>\n      <td>8</td>\n      <td>1</td>\n      <td>3</td>\n    </tr>\n    <tr>\n      <th>2</th>\n      <td>4</td>\n      <td>0</td>\n      <td>0</td>\n      <td>3</td>\n      <td>4</td>\n      <td>2</td>\n      <td>1</td>\n      <td>1</td>\n    </tr>\n    <tr>\n      <th>3</th>\n      <td>2</td>\n      <td>0</td>\n      <td>2</td>\n      <td>2</td>\n      <td>1</td>\n      <td>8</td>\n      <td>0</td>\n      <td>3</td>\n    </tr>\n    <tr>\n      <th>4</th>\n      <td>4</td>\n      <td>0</td>\n      <td>2</td>\n      <td>3</td>\n      <td>4</td>\n      <td>2</td>\n      <td>1</td>\n      <td>1</td>\n    </tr>\n    <tr>\n      <th>5</th>\n      <td>3</td>\n      <td>1</td>\n      <td>2</td>\n      <td>3</td>\n      <td>1</td>\n      <td>8</td>\n      <td>0</td>\n      <td>3</td>\n    </tr>\n    <tr>\n      <th>...</th>\n      <td>...</td>\n      <td>...</td>\n      <td>...</td>\n      <td>...</td>\n      <td>...</td>\n      <td>...</td>\n      <td>...</td>\n      <td>...</td>\n    </tr>\n    <tr>\n      <th>1305</th>\n      <td>3</td>\n      <td>1</td>\n      <td>2</td>\n      <td>2</td>\n      <td>1</td>\n      <td>8</td>\n      <td>0</td>\n      <td>3</td>\n    </tr>\n    <tr>\n      <th>1306</th>\n      <td>6</td>\n      <td>0</td>\n      <td>0</td>\n      <td>3</td>\n      <td>4</td>\n      <td>2</td>\n      <td>0</td>\n      <td>1</td>\n    </tr>\n    <tr>\n      <th>1307</th>\n      <td>3</td>\n      <td>1</td>\n      <td>2</td>\n      <td>3</td>\n      <td>0</td>\n      <td>8</td>\n      <td>0</td>\n      <td>3</td>\n    </tr>\n    <tr>\n      <th>1308</th>\n      <td>3</td>\n      <td>1</td>\n      <td>2</td>\n      <td>2</td>\n      <td>1</td>\n      <td>8</td>\n      <td>0</td>\n      <td>3</td>\n    </tr>\n    <tr>\n      <th>1309</th>\n      <td>1</td>\n      <td>1</td>\n      <td>0</td>\n      <td>1</td>\n      <td>2</td>\n      <td>8</td>\n      <td>2</td>\n      <td>3</td>\n    </tr>\n  </tbody>\n</table>\n<p>1309 rows × 8 columns</p>\n</div>"
     },
     "execution_count": 25,
     "metadata": {},
     "output_type": "execute_result"
    }
   ],
   "source": [
    "all_data_2 = all_data[['Name' , 'Sex' , 'Embarked' , 'Age_binned' , 'Fare_clean' , 'Cabin' , 'Family' , 'Pclass']]\n",
    "\n",
    "all_data_2"
   ],
   "metadata": {
    "collapsed": false,
    "pycharm": {
     "name": "#%%\n"
    }
   }
  },
  {
   "cell_type": "markdown",
   "source": [],
   "metadata": {
    "collapsed": false,
    "pycharm": {
     "name": "#%% md\n"
    }
   }
  },
  {
   "cell_type": "markdown",
   "source": [
    "## 타깃값 분포"
   ],
   "metadata": {
    "collapsed": false,
    "pycharm": {
     "name": "#%% md\n"
    }
   }
  },
  {
   "cell_type": "code",
   "execution_count": 26,
   "outputs": [],
   "source": [
    "def write_percent(ax , total_size):\n",
    "    '''도형 객체를 순회하며 막대 상단에 타깃값 비율 표시'''\n",
    "    for patch in ax.patches:\n",
    "        height = patch.get_height() # 도형 높이(데이터 개수)\n",
    "        width = patch.get_width() # 도형 너비\n",
    "        left_coord = patch.get_x() # 도형 왼쪽 테두리의 x축 위치\n",
    "        percent = height/total_size*100 # 타깃값 비율\n",
    "\n",
    "\n",
    "        # (x, y) 좌표에 텍스트 입력\n",
    "        ax.text(x= left_coord + width/2.0 ,   # x축 위치\n",
    "                y = height + total_size*0.001, #y축 위치\n",
    "                s = f'{percent : 1.1f}%', # 입력 텍스트\n",
    "                ha = 'center') #가운데 정렬\n"
   ],
   "metadata": {
    "collapsed": false,
    "pycharm": {
     "name": "#%%\n"
    }
   }
  },
  {
   "cell_type": "markdown",
   "source": [
    "## 연속형 피처 분포"
   ],
   "metadata": {
    "collapsed": false,
    "pycharm": {
     "name": "#%% md\n"
    }
   }
  },
  {
   "cell_type": "code",
   "execution_count": 27,
   "outputs": [
    {
     "data": {
      "text/plain": "                 Fare  Family  Pclass  log_Fare\nPassengerId                                    \n1              7.2500       1       3  1.981001\n2             71.2833       1       1  4.266662\n3              7.9250       0       3  2.070022\n4             53.1000       1       1  3.972177\n5              8.0500       0       3  2.085672\n...               ...     ...     ...       ...\n1305           8.0500       0       3  2.085672\n1306         108.9000       0       1  4.690430\n1307           7.2500       0       3  1.981001\n1308           8.0500       0       3  2.085672\n1309          22.3583       2       3  3.107198\n\n[1309 rows x 4 columns]",
      "text/html": "<div>\n<style scoped>\n    .dataframe tbody tr th:only-of-type {\n        vertical-align: middle;\n    }\n\n    .dataframe tbody tr th {\n        vertical-align: top;\n    }\n\n    .dataframe thead th {\n        text-align: right;\n    }\n</style>\n<table border=\"1\" class=\"dataframe\">\n  <thead>\n    <tr style=\"text-align: right;\">\n      <th></th>\n      <th>Fare</th>\n      <th>Family</th>\n      <th>Pclass</th>\n      <th>log_Fare</th>\n    </tr>\n    <tr>\n      <th>PassengerId</th>\n      <th></th>\n      <th></th>\n      <th></th>\n      <th></th>\n    </tr>\n  </thead>\n  <tbody>\n    <tr>\n      <th>1</th>\n      <td>7.2500</td>\n      <td>1</td>\n      <td>3</td>\n      <td>1.981001</td>\n    </tr>\n    <tr>\n      <th>2</th>\n      <td>71.2833</td>\n      <td>1</td>\n      <td>1</td>\n      <td>4.266662</td>\n    </tr>\n    <tr>\n      <th>3</th>\n      <td>7.9250</td>\n      <td>0</td>\n      <td>3</td>\n      <td>2.070022</td>\n    </tr>\n    <tr>\n      <th>4</th>\n      <td>53.1000</td>\n      <td>1</td>\n      <td>1</td>\n      <td>3.972177</td>\n    </tr>\n    <tr>\n      <th>5</th>\n      <td>8.0500</td>\n      <td>0</td>\n      <td>3</td>\n      <td>2.085672</td>\n    </tr>\n    <tr>\n      <th>...</th>\n      <td>...</td>\n      <td>...</td>\n      <td>...</td>\n      <td>...</td>\n    </tr>\n    <tr>\n      <th>1305</th>\n      <td>8.0500</td>\n      <td>0</td>\n      <td>3</td>\n      <td>2.085672</td>\n    </tr>\n    <tr>\n      <th>1306</th>\n      <td>108.9000</td>\n      <td>0</td>\n      <td>1</td>\n      <td>4.690430</td>\n    </tr>\n    <tr>\n      <th>1307</th>\n      <td>7.2500</td>\n      <td>0</td>\n      <td>3</td>\n      <td>1.981001</td>\n    </tr>\n    <tr>\n      <th>1308</th>\n      <td>8.0500</td>\n      <td>0</td>\n      <td>3</td>\n      <td>2.085672</td>\n    </tr>\n    <tr>\n      <th>1309</th>\n      <td>22.3583</td>\n      <td>2</td>\n      <td>3</td>\n      <td>3.107198</td>\n    </tr>\n  </tbody>\n</table>\n<p>1309 rows × 4 columns</p>\n</div>"
     },
     "execution_count": 27,
     "metadata": {},
     "output_type": "execute_result"
    }
   ],
   "source": [
    "all_data_bin = all_data[binary_col]\n",
    "\n",
    "all_data_bin"
   ],
   "metadata": {
    "collapsed": false,
    "pycharm": {
     "name": "#%%\n"
    }
   }
  },
  {
   "cell_type": "code",
   "execution_count": 28,
   "outputs": [
    {
     "data": {
      "text/plain": "<Figure size 432x288 with 1 Axes>",
      "image/png": "[encoded data removed]"
     },
     "metadata": {
      "needs_background": "light"
     },
     "output_type": "display_data"
    }
   ],
   "source": [
    "import seaborn as sns\n",
    "from scipy.stats import norm\n",
    "import matplotlib.pyplot as plt\n",
    "\n",
    "# 히스토그램과 정규분포 곡선 그리기\n",
    "sns.histplot(all_data['Age'], kde=True, stat='density', color='skyblue', alpha=0.7)\n",
    "mu, std = norm.fit(all_data['Age'].dropna())\n",
    "xmin, xmax = plt.xlim()\n",
    "x = np.linspace(xmin, xmax, 100)\n",
    "p = norm.pdf(x, mu, std)\n",
    "plt.plot(x, p, 'r', linewidth=2)\n",
    "plt.title(f'Age distribution (mu={mu:.2f}, std={std:.2f})')\n",
    "plt.show()"
   ],
   "metadata": {
    "collapsed": false,
    "pycharm": {
     "name": "#%%\n"
    }
   }
  },
  {
   "cell_type": "markdown",
   "source": [
    "## 모델링_with 피처엔지니어링\n",
    "\n",
    "- 명목형 피처는 OneHotEncoding ==> Name , Sex , Embarked\n",
    "\n",
    "- Pclass 는 MinMaxScaler로"
   ],
   "metadata": {
    "collapsed": false,
    "pycharm": {
     "name": "#%% md\n"
    }
   }
  },
  {
   "cell_type": "code",
   "execution_count": 29,
   "outputs": [
    {
     "name": "stdout",
     "output_type": "stream",
     "text": [
      "<class 'scipy.sparse.csr.csr_matrix'>\n"
     ]
    },
    {
     "data": {
      "text/plain": "<1309x34 sparse matrix of type '<class 'numpy.float64'>'\n\twith 7854 stored elements in Compressed Sparse Row format>"
     },
     "execution_count": 29,
     "metadata": {},
     "output_type": "execute_result"
    }
   ],
   "source": [
    "from sklearn.preprocessing import OneHotEncoder\n",
    "\n",
    "onehot_encoder = OneHotEncoder() # 원-핫 인코더 생성\n",
    "# nom_feature = ['Name','Sex' , 'Embarked', 'Cabin' , 'SibSp' , 'Parch']\n",
    "encoded_nom_matrix = onehot_encoder.fit_transform(all_data[object_col])\n",
    "print(type(encoded_nom_matrix))\n",
    "encoded_nom_matrix\n"
   ],
   "metadata": {
    "collapsed": false,
    "pycharm": {
     "name": "#%%\n"
    }
   }
  },
  {
   "cell_type": "code",
   "execution_count": 30,
   "outputs": [
    {
     "name": "stdout",
     "output_type": "stream",
     "text": [
      "['Name_0', 'Name_1', 'Name_2', 'Name_3', 'Name_4', 'Name_5', 'Name_6', 'Sex_0', 'Sex_1', 'Embarked_0', 'Embarked_1', 'Embarked_2', 'Age_binned_0', 'Age_binned_1', 'Age_binned_2', 'Age_binned_3', 'Age_binned_4', 'Age_binned_5', 'Age_binned_6', 'Age_binned_7', 'Fare_clean_0', 'Fare_clean_1', 'Fare_clean_2', 'Fare_clean_3', 'Fare_clean_4', 'Cabin_0', 'Cabin_1', 'Cabin_2', 'Cabin_3', 'Cabin_4', 'Cabin_5', 'Cabin_6', 'Cabin_7', 'Cabin_8']\n"
     ]
    }
   ],
   "source": [
    "# 범주형 변수의 원래 이름을 추출합니다.\n",
    "#\n",
    "nom_feature_names = []\n",
    "for feature in object_col:\n",
    "    categories = onehot_encoder.categories_[object_col.index(feature)]\n",
    "    for category in categories:\n",
    "        nom_feature_names.append(f\"{feature}_{category}\")\n",
    "\n",
    "\n",
    "\n",
    "# 결과를 출력합니다.\n",
    "print(nom_feature_names)\n"
   ],
   "metadata": {
    "collapsed": false,
    "pycharm": {
     "name": "#%%\n"
    }
   }
  },
  {
   "cell_type": "code",
   "execution_count": 31,
   "outputs": [
    {
     "name": "stdout",
     "output_type": "stream",
     "text": [
      "<class 'scipy.sparse.csr.csr_matrix'>\n"
     ]
    }
   ],
   "source": [
    "print(type(encoded_nom_matrix))"
   ],
   "metadata": {
    "collapsed": false,
    "pycharm": {
     "name": "#%%\n"
    }
   }
  },
  {
   "cell_type": "code",
   "execution_count": 32,
   "outputs": [
    {
     "data": {
      "text/plain": "<Figure size 864x432 with 1 Axes>",
      "image/png": "[encoded data removed]"
     },
     "metadata": {
      "needs_background": "light"
     },
     "output_type": "display_data"
    }
   ],
   "source": [
    "import matplotlib.pyplot as plt\n",
    "import seaborn as sns\n",
    "\n",
    "# 그래프 크기 설정\n",
    "plt.figure(figsize=(12, 6))\n",
    "\n",
    "# 그래프 그리기\n",
    "ax = sns.countplot(x='Fare_clean', hue='Survival', data=all_data)\n",
    "\n",
    "# x 축 값이 잘 보이도록 설정\n",
    "ax.tick_params(axis='x', labelrotation=45)\n",
    "\n",
    "# 그래프 출력\n",
    "plt.show()"
   ],
   "metadata": {
    "collapsed": false,
    "pycharm": {
     "name": "#%%\n"
    }
   }
  },
  {
   "cell_type": "code",
   "execution_count": 32,
   "outputs": [],
   "source": [],
   "metadata": {
    "collapsed": false,
    "pycharm": {
     "name": "#%%\n"
    }
   }
  },
  {
   "cell_type": "code",
   "execution_count": 33,
   "outputs": [
    {
     "data": {
      "text/plain": "<Figure size 432x288 with 1 Axes>",
      "image/png": "[encoded data removed]"
     },
     "metadata": {
      "needs_background": "light"
     },
     "output_type": "display_data"
    }
   ],
   "source": [
    "import numpy as np\n",
    "import matplotlib.pyplot as plt\n",
    "import seaborn as sns\n",
    "from scipy.stats import norm\n",
    "\n",
    "# 히스토그램 그리기\n",
    "sns.histplot(all_data['Fare_binned'].dropna(), kde=True, stat='density', color='skyblue', alpha=0.7)\n",
    "\n",
    "# 정규분포 계산\n",
    "mu, std = norm.fit(all_data['Fare_binned'].dropna())\n",
    "\n",
    "# x 값 범위 설정\n",
    "xmin, xmax = plt.xlim()\n",
    "x = np.linspace(xmin, xmax, 100)\n",
    "\n",
    "# 정규분포 그래프 그리기\n",
    "p = norm.pdf(x, mu, std)\n",
    "plt.plot(x, p, 'r', linewidth=2)\n",
    "\n",
    "# 그래프 제목 설정\n",
    "plt.title(f'Fare 범위(log화) (mu={mu:.2f}, std={std:.2f})')\n",
    "\n",
    "# 그래프 출력\n",
    "plt.show()\n"
   ],
   "metadata": {
    "collapsed": false,
    "pycharm": {
     "name": "#%%\n"
    }
   }
  },
  {
   "cell_type": "markdown",
   "source": [
    "# 인코딩 및 스케일링 된 피처 합치기"
   ],
   "metadata": {
    "collapsed": false,
    "pycharm": {
     "name": "#%% md\n"
    }
   }
  },
  {
   "cell_type": "code",
   "execution_count": 34,
   "outputs": [
    {
     "data": {
      "text/plain": "['Name_0',\n 'Name_1',\n 'Name_2',\n 'Name_3',\n 'Name_4',\n 'Name_5',\n 'Name_6',\n 'Sex_0',\n 'Sex_1',\n 'Embarked_0',\n 'Embarked_1',\n 'Embarked_2',\n 'Age_binned_0',\n 'Age_binned_1',\n 'Age_binned_2',\n 'Age_binned_3',\n 'Age_binned_4',\n 'Age_binned_5',\n 'Age_binned_6',\n 'Age_binned_7',\n 'Fare_clean_0',\n 'Fare_clean_1',\n 'Fare_clean_2',\n 'Fare_clean_3',\n 'Fare_clean_4',\n 'Cabin_0',\n 'Cabin_1',\n 'Cabin_2',\n 'Cabin_3',\n 'Cabin_4',\n 'Cabin_5',\n 'Cabin_6',\n 'Cabin_7',\n 'Cabin_8']"
     },
     "execution_count": 34,
     "metadata": {},
     "output_type": "execute_result"
    }
   ],
   "source": [
    "nom_feature_names"
   ],
   "metadata": {
    "collapsed": false,
    "pycharm": {
     "name": "#%%\n"
    }
   }
  },
  {
   "cell_type": "code",
   "execution_count": 35,
   "outputs": [
    {
     "data": {
      "text/plain": "             Family  Pclass  log_Fare\nPassengerId                          \n1                 1       3  1.981001\n2                 1       1  4.266662\n3                 0       3  2.070022\n4                 1       1  3.972177\n5                 0       3  2.085672\n...             ...     ...       ...\n1305              0       3  2.085672\n1306              0       1  4.690430\n1307              0       3  1.981001\n1308              0       3  2.085672\n1309              2       3  3.107198\n\n[1309 rows x 3 columns]",
      "text/html": "<div>\n<style scoped>\n    .dataframe tbody tr th:only-of-type {\n        vertical-align: middle;\n    }\n\n    .dataframe tbody tr th {\n        vertical-align: top;\n    }\n\n    .dataframe thead th {\n        text-align: right;\n    }\n</style>\n<table border=\"1\" class=\"dataframe\">\n  <thead>\n    <tr style=\"text-align: right;\">\n      <th></th>\n      <th>Family</th>\n      <th>Pclass</th>\n      <th>log_Fare</th>\n    </tr>\n    <tr>\n      <th>PassengerId</th>\n      <th></th>\n      <th></th>\n      <th></th>\n    </tr>\n  </thead>\n  <tbody>\n    <tr>\n      <th>1</th>\n      <td>1</td>\n      <td>3</td>\n      <td>1.981001</td>\n    </tr>\n    <tr>\n      <th>2</th>\n      <td>1</td>\n      <td>1</td>\n      <td>4.266662</td>\n    </tr>\n    <tr>\n      <th>3</th>\n      <td>0</td>\n      <td>3</td>\n      <td>2.070022</td>\n    </tr>\n    <tr>\n      <th>4</th>\n      <td>1</td>\n      <td>1</td>\n      <td>3.972177</td>\n    </tr>\n    <tr>\n      <th>5</th>\n      <td>0</td>\n      <td>3</td>\n      <td>2.085672</td>\n    </tr>\n    <tr>\n      <th>...</th>\n      <td>...</td>\n      <td>...</td>\n      <td>...</td>\n    </tr>\n    <tr>\n      <th>1305</th>\n      <td>0</td>\n      <td>3</td>\n      <td>2.085672</td>\n    </tr>\n    <tr>\n      <th>1306</th>\n      <td>0</td>\n      <td>1</td>\n      <td>4.690430</td>\n    </tr>\n    <tr>\n      <th>1307</th>\n      <td>0</td>\n      <td>3</td>\n      <td>1.981001</td>\n    </tr>\n    <tr>\n      <th>1308</th>\n      <td>0</td>\n      <td>3</td>\n      <td>2.085672</td>\n    </tr>\n    <tr>\n      <th>1309</th>\n      <td>2</td>\n      <td>3</td>\n      <td>3.107198</td>\n    </tr>\n  </tbody>\n</table>\n<p>1309 rows × 3 columns</p>\n</div>"
     },
     "execution_count": 35,
     "metadata": {},
     "output_type": "execute_result"
    }
   ],
   "source": [
    "all_data_3 = all_data[binary_col[1:]]\n",
    "all_data_3"
   ],
   "metadata": {
    "collapsed": false,
    "pycharm": {
     "name": "#%%\n"
    }
   }
  },
  {
   "cell_type": "code",
   "execution_count": 36,
   "outputs": [
    {
     "data": {
      "text/plain": "<1309x34 sparse matrix of type '<class 'numpy.float64'>'\n\twith 7854 stored elements in Compressed Sparse Row format>"
     },
     "execution_count": 36,
     "metadata": {},
     "output_type": "execute_result"
    }
   ],
   "source": [
    "encoded_nom_matrix"
   ],
   "metadata": {
    "collapsed": false,
    "pycharm": {
     "name": "#%%\n"
    }
   }
  },
  {
   "cell_type": "code",
   "execution_count": 37,
   "outputs": [],
   "source": [
    "# encoded_stan"
   ],
   "metadata": {
    "collapsed": false,
    "pycharm": {
     "name": "#%%\n"
    }
   }
  },
  {
   "cell_type": "code",
   "execution_count": 38,
   "outputs": [],
   "source": [
    "# from scipy import sparse\n",
    "#\n",
    "# all_data_sprs = sparse.hstack([sparse.csr_matrix(all_data2),\n",
    "#                                encoded_nom_matrix],\n",
    "#                               format='csr')\n",
    "#\n",
    "# all_data_sprs"
   ],
   "metadata": {
    "collapsed": false,
    "pycharm": {
     "name": "#%%\n"
    }
   }
  },
  {
   "cell_type": "code",
   "execution_count": 39,
   "outputs": [
    {
     "data": {
      "text/plain": "             Name  Sex  Embarked  Age_binned  Fare_clean  Cabin  Family  \\\nPassengerId                                                               \n1             3.0  1.0       2.0         2.0         0.0    8.0     1.0   \n2             4.0  0.0       0.0         3.0         4.0    2.0     1.0   \n3             2.0  0.0       2.0         2.0         1.0    8.0     0.0   \n4             4.0  0.0       2.0         3.0         4.0    2.0     1.0   \n5             3.0  1.0       2.0         3.0         1.0    8.0     0.0   \n...           ...  ...       ...         ...         ...    ...     ...   \n1305          3.0  1.0       2.0         2.0         1.0    8.0     0.0   \n1306          6.0  0.0       0.0         3.0         4.0    2.0     0.0   \n1307          3.0  1.0       2.0         3.0         0.0    8.0     0.0   \n1308          3.0  1.0       2.0         2.0         1.0    8.0     0.0   \n1309          1.0  1.0       0.0         1.0         2.0    8.0     2.0   \n\n             Pclass  \nPassengerId          \n1               3.0  \n2               1.0  \n3               3.0  \n4               1.0  \n5               3.0  \n...             ...  \n1305            3.0  \n1306            1.0  \n1307            3.0  \n1308            3.0  \n1309            3.0  \n\n[1309 rows x 8 columns]",
      "text/html": "<div>\n<style scoped>\n    .dataframe tbody tr th:only-of-type {\n        vertical-align: middle;\n    }\n\n    .dataframe tbody tr th {\n        vertical-align: top;\n    }\n\n    .dataframe thead th {\n        text-align: right;\n    }\n</style>\n<table border=\"1\" class=\"dataframe\">\n  <thead>\n    <tr style=\"text-align: right;\">\n      <th></th>\n      <th>Name</th>\n      <th>Sex</th>\n      <th>Embarked</th>\n      <th>Age_binned</th>\n      <th>Fare_clean</th>\n      <th>Cabin</th>\n      <th>Family</th>\n      <th>Pclass</th>\n    </tr>\n    <tr>\n      <th>PassengerId</th>\n      <th></th>\n      <th></th>\n      <th></th>\n      <th></th>\n      <th></th>\n      <th></th>\n      <th></th>\n      <th></th>\n    </tr>\n  </thead>\n  <tbody>\n    <tr>\n      <th>1</th>\n      <td>3.0</td>\n      <td>1.0</td>\n      <td>2.0</td>\n      <td>2.0</td>\n      <td>0.0</td>\n      <td>8.0</td>\n      <td>1.0</td>\n      <td>3.0</td>\n    </tr>\n    <tr>\n      <th>2</th>\n      <td>4.0</td>\n      <td>0.0</td>\n      <td>0.0</td>\n      <td>3.0</td>\n      <td>4.0</td>\n      <td>2.0</td>\n      <td>1.0</td>\n      <td>1.0</td>\n    </tr>\n    <tr>\n      <th>3</th>\n      <td>2.0</td>\n      <td>0.0</td>\n      <td>2.0</td>\n      <td>2.0</td>\n      <td>1.0</td>\n      <td>8.0</td>\n      <td>0.0</td>\n      <td>3.0</td>\n    </tr>\n    <tr>\n      <th>4</th>\n      <td>4.0</td>\n      <td>0.0</td>\n      <td>2.0</td>\n      <td>3.0</td>\n      <td>4.0</td>\n      <td>2.0</td>\n      <td>1.0</td>\n      <td>1.0</td>\n    </tr>\n    <tr>\n      <th>5</th>\n      <td>3.0</td>\n      <td>1.0</td>\n      <td>2.0</td>\n      <td>3.0</td>\n      <td>1.0</td>\n      <td>8.0</td>\n      <td>0.0</td>\n      <td>3.0</td>\n    </tr>\n    <tr>\n      <th>...</th>\n      <td>...</td>\n      <td>...</td>\n      <td>...</td>\n      <td>...</td>\n      <td>...</td>\n      <td>...</td>\n      <td>...</td>\n      <td>...</td>\n    </tr>\n    <tr>\n      <th>1305</th>\n      <td>3.0</td>\n      <td>1.0</td>\n      <td>2.0</td>\n      <td>2.0</td>\n      <td>1.0</td>\n      <td>8.0</td>\n      <td>0.0</td>\n      <td>3.0</td>\n    </tr>\n    <tr>\n      <th>1306</th>\n      <td>6.0</td>\n      <td>0.0</td>\n      <td>0.0</td>\n      <td>3.0</td>\n      <td>4.0</td>\n      <td>2.0</td>\n      <td>0.0</td>\n      <td>1.0</td>\n    </tr>\n    <tr>\n      <th>1307</th>\n      <td>3.0</td>\n      <td>1.0</td>\n      <td>2.0</td>\n      <td>3.0</td>\n      <td>0.0</td>\n      <td>8.0</td>\n      <td>0.0</td>\n      <td>3.0</td>\n    </tr>\n    <tr>\n      <th>1308</th>\n      <td>3.0</td>\n      <td>1.0</td>\n      <td>2.0</td>\n      <td>2.0</td>\n      <td>1.0</td>\n      <td>8.0</td>\n      <td>0.0</td>\n      <td>3.0</td>\n    </tr>\n    <tr>\n      <th>1309</th>\n      <td>1.0</td>\n      <td>1.0</td>\n      <td>0.0</td>\n      <td>1.0</td>\n      <td>2.0</td>\n      <td>8.0</td>\n      <td>2.0</td>\n      <td>3.0</td>\n    </tr>\n  </tbody>\n</table>\n<p>1309 rows × 8 columns</p>\n</div>"
     },
     "execution_count": 39,
     "metadata": {},
     "output_type": "execute_result"
    }
   ],
   "source": [
    "import numpy as np\n",
    "\n",
    "all_data_2 = all_data_2.astype(np.float32)\n",
    "\n",
    "\n",
    "\n",
    "all_data_2"
   ],
   "metadata": {
    "collapsed": false,
    "pycharm": {
     "name": "#%%\n"
    }
   }
  },
  {
   "cell_type": "code",
   "execution_count": 40,
   "outputs": [
    {
     "data": {
      "text/plain": "<1309x8 sparse matrix of type '<class 'numpy.float32'>'\n\twith 8555 stored elements in Compressed Sparse Row format>"
     },
     "execution_count": 40,
     "metadata": {},
     "output_type": "execute_result"
    }
   ],
   "source": [
    "from scipy import sparse\n",
    "from scipy.sparse import csr_matrix\n",
    "\n",
    "all_data_sprs = csr_matrix(all_data_2.values)\n",
    "\n",
    "all_data_sprs"
   ],
   "metadata": {
    "collapsed": false,
    "pycharm": {
     "name": "#%%\n"
    }
   }
  },
  {
   "cell_type": "code",
   "execution_count": 41,
   "outputs": [
    {
     "data": {
      "text/plain": "['Name',\n 'Sex',\n 'Embarked',\n 'Age_binned',\n 'Fare_clean',\n 'Cabin',\n 'Family',\n 'Pclass',\n 'Name_0',\n 'Name_1',\n 'Name_2',\n 'Name_3',\n 'Name_4',\n 'Name_5',\n 'Name_6',\n 'Sex_0',\n 'Sex_1',\n 'Embarked_0',\n 'Embarked_1',\n 'Embarked_2',\n 'Age_binned_0',\n 'Age_binned_1',\n 'Age_binned_2',\n 'Age_binned_3',\n 'Age_binned_4',\n 'Age_binned_5',\n 'Age_binned_6',\n 'Age_binned_7',\n 'Fare_clean_0',\n 'Fare_clean_1',\n 'Fare_clean_2',\n 'Fare_clean_3',\n 'Fare_clean_4',\n 'Cabin_0',\n 'Cabin_1',\n 'Cabin_2',\n 'Cabin_3',\n 'Cabin_4',\n 'Cabin_5',\n 'Cabin_6',\n 'Cabin_7',\n 'Cabin_8']"
     },
     "execution_count": 41,
     "metadata": {},
     "output_type": "execute_result"
    }
   ],
   "source": [
    "CSR_NAMES = all_data_2.columns.tolist() + nom_feature_names\n",
    "CSR_NAMES"
   ],
   "metadata": {
    "collapsed": false,
    "pycharm": {
     "name": "#%%\n"
    }
   }
  },
  {
   "cell_type": "code",
   "execution_count": 42,
   "outputs": [],
   "source": [
    "num_train = len(train) # 훈련 데이터 개수\n",
    "\n",
    "# 훈련 데이터와 테스트 데이터 나누기\n",
    "\n",
    "X= all_data_sprs[:num_train] # 0~num_train -1 행\n",
    "X_test = all_data_sprs[num_train:] # num_train ~ 마지막 행\n",
    "\n",
    "y = train['Survived'].values\n",
    "\n",
    "# y_test = test['Survived'].values"
   ],
   "metadata": {
    "collapsed": false,
    "pycharm": {
     "name": "#%%\n"
    }
   }
  },
  {
   "cell_type": "code",
   "execution_count": 43,
   "outputs": [
    {
     "name": "stdout",
     "output_type": "stream",
     "text": [
      "[[3. 1. 2. ... 8. 1. 3.]\n",
      " [4. 0. 0. ... 2. 1. 1.]\n",
      " [2. 0. 2. ... 8. 0. 3.]\n",
      " ...\n",
      " [2. 0. 2. ... 8. 3. 3.]\n",
      " [3. 1. 0. ... 2. 0. 1.]\n",
      " [3. 1. 1. ... 8. 0. 3.]]\n"
     ]
    }
   ],
   "source": [
    "print(X.toarray())"
   ],
   "metadata": {
    "collapsed": false,
    "pycharm": {
     "name": "#%%\n"
    }
   }
  },
  {
   "cell_type": "code",
   "execution_count": 44,
   "outputs": [],
   "source": [
    "#랜덤포레스트"
   ],
   "metadata": {
    "collapsed": false,
    "pycharm": {
     "name": "#%%\n"
    }
   }
  },
  {
   "cell_type": "markdown",
   "source": [
    "## LightGBM 모델 하이퍼파라미터 최적화"
   ],
   "metadata": {
    "collapsed": false,
    "pycharm": {
     "name": "#%% md\n"
    }
   }
  },
  {
   "cell_type": "code",
   "execution_count": 45,
   "outputs": [
    {
     "data": {
      "text/plain": "<1309x8 sparse matrix of type '<class 'numpy.float32'>'\n\twith 8555 stored elements in Compressed Sparse Row format>"
     },
     "execution_count": 45,
     "metadata": {},
     "output_type": "execute_result"
    }
   ],
   "source": [
    "all_data_sprs"
   ],
   "metadata": {
    "collapsed": false,
    "pycharm": {
     "name": "#%%\n"
    }
   }
  },
  {
   "cell_type": "markdown",
   "source": [
    "## LightGBM 과 XGBoost 앙상블 & DescisionTree & RandomForest"
   ],
   "metadata": {
    "collapsed": false,
    "pycharm": {
     "name": "#%% md\n"
    }
   }
  },
  {
   "cell_type": "code",
   "execution_count": 46,
   "outputs": [
    {
     "data": {
      "text/plain": "             Name  Sex  Embarked        Age  Age_binned  Pclass  SibSp  Parch  \\\nPassengerId                                                                     \n1               3    1         2  22.000000           2       3      1      0   \n2               4    0         0  38.000000           3       1      1      0   \n3               2    0         2  26.000000           2       3      0      0   \n4               4    0         2  35.000000           3       1      1      0   \n5               3    1         2  35.000000           3       3      0      0   \n...           ...  ...       ...        ...         ...     ...    ...    ...   \n1305            3    1         2  28.516607           2       3      0      0   \n1306            6    0         0  39.000000           3       1      0      0   \n1307            3    1         2  38.500000           3       3      0      0   \n1308            3    1         2  28.516607           2       3      0      0   \n1309            1    1         0  12.326040           1       3      1      1   \n\n            Survival  Cabin      Fare  Fare_binned  log_Fare  \\\nPassengerId                                                    \n1                 사망      8    7.2500          1.9  1.981001   \n2                 생존      2   71.2833          4.2  4.266662   \n3                 생존      8    7.9250          2.0  2.070022   \n4                 생존      2   53.1000          4.0  3.972177   \n5                 사망      8    8.0500          2.0  2.085672   \n...              ...    ...       ...          ...       ...   \n1305             NaN      8    8.0500          2.0  2.085672   \n1306             NaN      2  108.9000          4.6  4.690430   \n1307             NaN      8    7.2500          1.9  1.981001   \n1308             NaN      8    8.0500          2.0  2.085672   \n1309             NaN      8   22.3583          3.1  3.107198   \n\n                      FareBin  Fare_clean  Family  \nPassengerId                                        \n1               (3.17, 7.879]           0       1  \n2            (46.06, 512.329]           4       1  \n3             (7.879, 11.293]           1       0  \n4            (46.06, 512.329]           4       1  \n5             (7.879, 11.293]           1       0  \n...                       ...         ...     ...  \n1305          (7.879, 11.293]           1       0  \n1306         (46.06, 512.329]           4       0  \n1307            (3.17, 7.879]           0       0  \n1308          (7.879, 11.293]           1       0  \n1309         (11.293, 22.358]           2       2  \n\n[1309 rows x 16 columns]",
      "text/html": "<div>\n<style scoped>\n    .dataframe tbody tr th:only-of-type {\n        vertical-align: middle;\n    }\n\n    .dataframe tbody tr th {\n        vertical-align: top;\n    }\n\n    .dataframe thead th {\n        text-align: right;\n    }\n</style>\n<table border=\"1\" class=\"dataframe\">\n  <thead>\n    <tr style=\"text-align: right;\">\n      <th></th>\n      <th>Name</th>\n      <th>Sex</th>\n      <th>Embarked</th>\n      <th>Age</th>\n      <th>Age_binned</th>\n      <th>Pclass</th>\n      <th>SibSp</th>\n      <th>Parch</th>\n      <th>Survival</th>\n      <th>Cabin</th>\n      <th>Fare</th>\n      <th>Fare_binned</th>\n      <th>log_Fare</th>\n      <th>FareBin</th>\n      <th>Fare_clean</th>\n      <th>Family</th>\n    </tr>\n    <tr>\n      <th>PassengerId</th>\n      <th></th>\n      <th></th>\n      <th></th>\n      <th></th>\n      <th></th>\n      <th></th>\n      <th></th>\n      <th></th>\n      <th></th>\n      <th></th>\n      <th></th>\n      <th></th>\n      <th></th>\n      <th></th>\n      <th></th>\n      <th></th>\n    </tr>\n  </thead>\n  <tbody>\n    <tr>\n      <th>1</th>\n      <td>3</td>\n      <td>1</td>\n      <td>2</td>\n      <td>22.000000</td>\n      <td>2</td>\n      <td>3</td>\n      <td>1</td>\n      <td>0</td>\n      <td>사망</td>\n      <td>8</td>\n      <td>7.2500</td>\n      <td>1.9</td>\n      <td>1.981001</td>\n      <td>(3.17, 7.879]</td>\n      <td>0</td>\n      <td>1</td>\n    </tr>\n    <tr>\n      <th>2</th>\n      <td>4</td>\n      <td>0</td>\n      <td>0</td>\n      <td>38.000000</td>\n      <td>3</td>\n      <td>1</td>\n      <td>1</td>\n      <td>0</td>\n      <td>생존</td>\n      <td>2</td>\n      <td>71.2833</td>\n      <td>4.2</td>\n      <td>4.266662</td>\n      <td>(46.06, 512.329]</td>\n      <td>4</td>\n      <td>1</td>\n    </tr>\n    <tr>\n      <th>3</th>\n      <td>2</td>\n      <td>0</td>\n      <td>2</td>\n      <td>26.000000</td>\n      <td>2</td>\n      <td>3</td>\n      <td>0</td>\n      <td>0</td>\n      <td>생존</td>\n      <td>8</td>\n      <td>7.9250</td>\n      <td>2.0</td>\n      <td>2.070022</td>\n      <td>(7.879, 11.293]</td>\n      <td>1</td>\n      <td>0</td>\n    </tr>\n    <tr>\n      <th>4</th>\n      <td>4</td>\n      <td>0</td>\n      <td>2</td>\n      <td>35.000000</td>\n      <td>3</td>\n      <td>1</td>\n      <td>1</td>\n      <td>0</td>\n      <td>생존</td>\n      <td>2</td>\n      <td>53.1000</td>\n      <td>4.0</td>\n      <td>3.972177</td>\n      <td>(46.06, 512.329]</td>\n      <td>4</td>\n      <td>1</td>\n    </tr>\n    <tr>\n      <th>5</th>\n      <td>3</td>\n      <td>1</td>\n      <td>2</td>\n      <td>35.000000</td>\n      <td>3</td>\n      <td>3</td>\n      <td>0</td>\n      <td>0</td>\n      <td>사망</td>\n      <td>8</td>\n      <td>8.0500</td>\n      <td>2.0</td>\n      <td>2.085672</td>\n      <td>(7.879, 11.293]</td>\n      <td>1</td>\n      <td>0</td>\n    </tr>\n    <tr>\n      <th>...</th>\n      <td>...</td>\n      <td>...</td>\n      <td>...</td>\n      <td>...</td>\n      <td>...</td>\n      <td>...</td>\n      <td>...</td>\n      <td>...</td>\n      <td>...</td>\n      <td>...</td>\n      <td>...</td>\n      <td>...</td>\n      <td>...</td>\n      <td>...</td>\n      <td>...</td>\n      <td>...</td>\n    </tr>\n    <tr>\n      <th>1305</th>\n      <td>3</td>\n      <td>1</td>\n      <td>2</td>\n      <td>28.516607</td>\n      <td>2</td>\n      <td>3</td>\n      <td>0</td>\n      <td>0</td>\n      <td>NaN</td>\n      <td>8</td>\n      <td>8.0500</td>\n      <td>2.0</td>\n      <td>2.085672</td>\n      <td>(7.879, 11.293]</td>\n      <td>1</td>\n      <td>0</td>\n    </tr>\n    <tr>\n      <th>1306</th>\n      <td>6</td>\n      <td>0</td>\n      <td>0</td>\n      <td>39.000000</td>\n      <td>3</td>\n      <td>1</td>\n      <td>0</td>\n      <td>0</td>\n      <td>NaN</td>\n      <td>2</td>\n      <td>108.9000</td>\n      <td>4.6</td>\n      <td>4.690430</td>\n      <td>(46.06, 512.329]</td>\n      <td>4</td>\n      <td>0</td>\n    </tr>\n    <tr>\n      <th>1307</th>\n      <td>3</td>\n      <td>1</td>\n      <td>2</td>\n      <td>38.500000</td>\n      <td>3</td>\n      <td>3</td>\n      <td>0</td>\n      <td>0</td>\n      <td>NaN</td>\n      <td>8</td>\n      <td>7.2500</td>\n      <td>1.9</td>\n      <td>1.981001</td>\n      <td>(3.17, 7.879]</td>\n      <td>0</td>\n      <td>0</td>\n    </tr>\n    <tr>\n      <th>1308</th>\n      <td>3</td>\n      <td>1</td>\n      <td>2</td>\n      <td>28.516607</td>\n      <td>2</td>\n      <td>3</td>\n      <td>0</td>\n      <td>0</td>\n      <td>NaN</td>\n      <td>8</td>\n      <td>8.0500</td>\n      <td>2.0</td>\n      <td>2.085672</td>\n      <td>(7.879, 11.293]</td>\n      <td>1</td>\n      <td>0</td>\n    </tr>\n    <tr>\n      <th>1309</th>\n      <td>1</td>\n      <td>1</td>\n      <td>0</td>\n      <td>12.326040</td>\n      <td>1</td>\n      <td>3</td>\n      <td>1</td>\n      <td>1</td>\n      <td>NaN</td>\n      <td>8</td>\n      <td>22.3583</td>\n      <td>3.1</td>\n      <td>3.107198</td>\n      <td>(11.293, 22.358]</td>\n      <td>2</td>\n      <td>2</td>\n    </tr>\n  </tbody>\n</table>\n<p>1309 rows × 16 columns</p>\n</div>"
     },
     "execution_count": 46,
     "metadata": {},
     "output_type": "execute_result"
    }
   ],
   "source": [
    "all_data"
   ],
   "metadata": {
    "collapsed": false,
    "pycharm": {
     "name": "#%%\n"
    }
   }
  },
  {
   "cell_type": "code",
   "execution_count": 47,
   "outputs": [],
   "source": [
    "from sklearn.model_selection import train_test_split\n",
    "\n",
    "# 데이터 분할\n",
    "X_train , X_valid , y_train, y_valid = train_test_split(X,y, test_size = 0.2, random_state=0)\n",
    "y_test = submission['Survived'].values"
   ],
   "metadata": {
    "collapsed": false,
    "pycharm": {
     "name": "#%%\n"
    }
   }
  },
  {
   "cell_type": "code",
   "execution_count": 48,
   "outputs": [],
   "source": [
    "# from sklearn.model_selection import train_test_split\n",
    "#\n",
    "# num_train = len(train) # 훈련 데이터 개수\n",
    "#\n",
    "# # 훈련 데이터와 테스트 데이터 나누기\n",
    "#\n",
    "# X_train= all_data_sprs[:num_train] # 0~num_train -1 행\n",
    "# X_test = all_data_sprs[num_train:] # num_train ~ 마지막 행\n",
    "#\n",
    "# y_train = train['Survived'].values\n",
    "#\n",
    "#\n",
    "# ########################################\n",
    "# # 데이터 분할\n",
    "# num_train = len(train) # 훈련 데이터 개수\n",
    "#\n",
    "# # 훈련 데이터와 테스트 데이터 나누기\n",
    "#\n",
    "# X= all_data_sprs[:num_train] # 0~num_train -1 행\n",
    "# X_test = all_data_sprs[num_train:] # num_train ~ 마지막 행\n",
    "#\n",
    "# y = train['Survived'].values\n",
    "#\n",
    "#\n",
    "# X_train , X_valid , y_train, y_valid = train_test_split(X,y, test_size = 0.2, random_state=0)\n",
    "# y_test = submission['Survived'].values"
   ],
   "metadata": {
    "collapsed": false,
    "pycharm": {
     "name": "#%%\n"
    }
   }
  },
  {
   "cell_type": "code",
   "execution_count": 48,
   "outputs": [],
   "source": [],
   "metadata": {
    "collapsed": false,
    "pycharm": {
     "name": "#%%\n"
    }
   }
  },
  {
   "cell_type": "code",
   "execution_count": 49,
   "outputs": [
    {
     "data": {
      "text/plain": "<418x8 sparse matrix of type '<class 'numpy.float32'>'\n\twith 2706 stored elements in Compressed Sparse Row format>"
     },
     "execution_count": 49,
     "metadata": {},
     "output_type": "execute_result"
    }
   ],
   "source": [
    "X_test"
   ],
   "metadata": {
    "collapsed": false,
    "pycharm": {
     "name": "#%%\n"
    }
   }
  },
  {
   "cell_type": "code",
   "execution_count": 50,
   "outputs": [
    {
     "data": {
      "text/plain": "712"
     },
     "execution_count": 50,
     "metadata": {},
     "output_type": "execute_result"
    }
   ],
   "source": [
    "len(y_train)"
   ],
   "metadata": {
    "collapsed": false,
    "pycharm": {
     "name": "#%%\n"
    }
   }
  },
  {
   "cell_type": "code",
   "execution_count": 51,
   "outputs": [
    {
     "data": {
      "text/plain": "             Survived\nPassengerId          \n892                 0\n893                 1\n894                 0\n895                 0\n896                 1\n...               ...\n1305                0\n1306                1\n1307                0\n1308                0\n1309                0\n\n[418 rows x 1 columns]",
      "text/html": "<div>\n<style scoped>\n    .dataframe tbody tr th:only-of-type {\n        vertical-align: middle;\n    }\n\n    .dataframe tbody tr th {\n        vertical-align: top;\n    }\n\n    .dataframe thead th {\n        text-align: right;\n    }\n</style>\n<table border=\"1\" class=\"dataframe\">\n  <thead>\n    <tr style=\"text-align: right;\">\n      <th></th>\n      <th>Survived</th>\n    </tr>\n    <tr>\n      <th>PassengerId</th>\n      <th></th>\n    </tr>\n  </thead>\n  <tbody>\n    <tr>\n      <th>892</th>\n      <td>0</td>\n    </tr>\n    <tr>\n      <th>893</th>\n      <td>1</td>\n    </tr>\n    <tr>\n      <th>894</th>\n      <td>0</td>\n    </tr>\n    <tr>\n      <th>895</th>\n      <td>0</td>\n    </tr>\n    <tr>\n      <th>896</th>\n      <td>1</td>\n    </tr>\n    <tr>\n      <th>...</th>\n      <td>...</td>\n    </tr>\n    <tr>\n      <th>1305</th>\n      <td>0</td>\n    </tr>\n    <tr>\n      <th>1306</th>\n      <td>1</td>\n    </tr>\n    <tr>\n      <th>1307</th>\n      <td>0</td>\n    </tr>\n    <tr>\n      <th>1308</th>\n      <td>0</td>\n    </tr>\n    <tr>\n      <th>1309</th>\n      <td>0</td>\n    </tr>\n  </tbody>\n</table>\n<p>418 rows × 1 columns</p>\n</div>"
     },
     "execution_count": 51,
     "metadata": {},
     "output_type": "execute_result"
    }
   ],
   "source": [
    "submission"
   ],
   "metadata": {
    "collapsed": false,
    "pycharm": {
     "name": "#%%\n"
    }
   }
  },
  {
   "cell_type": "code",
   "execution_count": 52,
   "outputs": [
    {
     "data": {
      "text/plain": "<891x8 sparse matrix of type '<class 'numpy.float32'>'\n\twith 5849 stored elements in Compressed Sparse Row format>"
     },
     "execution_count": 52,
     "metadata": {},
     "output_type": "execute_result"
    }
   ],
   "source": [
    "X"
   ],
   "metadata": {
    "collapsed": false,
    "pycharm": {
     "name": "#%%\n"
    }
   }
  },
  {
   "cell_type": "markdown",
   "source": [],
   "metadata": {
    "collapsed": false,
    "pycharm": {
     "name": "#%% md\n"
    }
   }
  },
  {
   "cell_type": "markdown",
   "source": [
    "## 로지스틱 회귀"
   ],
   "metadata": {
    "collapsed": false,
    "pycharm": {
     "name": "#%% md\n"
    }
   }
  },
  {
   "cell_type": "code",
   "execution_count": 53,
   "outputs": [
    {
     "name": "stdout",
     "output_type": "stream",
     "text": [
      "Accuracy: 0.9282296650717703\n"
     ]
    }
   ],
   "source": [
    "from sklearn.linear_model import LogisticRegression\n",
    "from sklearn.metrics import accuracy_score\n",
    "\n",
    "# Logistic regression model creation\n",
    "logistic_model = LogisticRegression()\n",
    "\n",
    "# Model training\n",
    "logistic_model.fit(X_train, y_train)\n",
    "\n",
    "# Predict\n",
    "y_pred = logistic_model.predict(X_test)\n",
    "\n",
    "# Accuracy evaluation\n",
    "accuracy = accuracy_score(y_test, y_pred)\n",
    "print(\"Accuracy:\", accuracy)\n"
   ],
   "metadata": {
    "collapsed": false,
    "pycharm": {
     "name": "#%%\n"
    }
   }
  },
  {
   "cell_type": "code",
   "execution_count": 54,
   "outputs": [
    {
     "data": {
      "text/plain": "array([0, 0, 0, 0, 1, 0, 1, 0, 1, 0, 0, 0, 1, 0, 1, 1, 0, 0, 1, 0, 0, 0,\n       1, 1, 1, 0, 1, 0, 0, 0, 0, 0, 0, 0, 1, 0, 1, 1, 0, 0, 0, 0, 0, 1,\n       1, 0, 0, 0, 1, 0, 1, 0, 1, 1, 0, 0, 0, 0, 0, 1, 0, 0, 0, 1, 1, 1,\n       1, 0, 1, 1, 1, 0, 1, 1, 1, 1, 0, 1, 0, 1, 0, 0, 0, 0, 0, 0, 1, 1,\n       0, 0, 1, 0, 1, 0, 1, 0, 1, 0, 1, 0, 1, 0, 0, 0, 1, 0, 0, 0, 0, 0,\n       0, 1, 1, 1, 1, 0, 0, 1, 1, 1, 1, 0, 1, 0, 0, 1, 0, 1, 0, 0, 0, 0,\n       0, 0, 0, 0, 0, 0, 1, 0, 0, 1, 0, 0, 0, 0, 0, 0, 0, 0, 1, 0, 0, 0,\n       0, 0, 1, 1, 0, 1, 1, 0, 1, 0, 0, 1, 0, 0, 1, 1, 0, 0, 0, 0, 0, 1,\n       1, 0, 1, 1, 0, 0, 1, 0, 1, 0, 1, 0, 0, 0, 0, 0, 0, 0, 0, 0, 1, 1,\n       0, 1, 1, 0, 0, 1, 0, 0, 1, 0, 1, 0, 0, 0, 0, 1, 0, 0, 1, 0, 1, 0,\n       1, 0, 1, 0, 1, 1, 0, 1, 0, 0, 0, 1, 0, 0, 1, 0, 0, 0, 1, 1, 1, 1,\n       0, 0, 0, 0, 1, 0, 1, 1, 1, 0, 1, 0, 0, 0, 0, 0, 1, 0, 0, 0, 1, 1,\n       0, 0, 0, 0, 1, 0, 0, 0, 1, 1, 0, 1, 0, 0, 0, 0, 1, 0, 1, 1, 1, 0,\n       0, 1, 0, 0, 0, 1, 0, 0, 0, 0, 1, 0, 0, 0, 0, 0, 0, 0, 1, 1, 0, 0,\n       0, 0, 0, 0, 0, 1, 1, 1, 0, 0, 0, 0, 0, 0, 0, 0, 1, 0, 1, 0, 0, 0,\n       1, 1, 0, 1, 0, 1, 0, 0, 0, 0, 0, 0, 0, 1, 0, 1, 0, 1, 0, 1, 1, 0,\n       0, 0, 1, 0, 1, 0, 0, 1, 0, 1, 1, 0, 1, 0, 0, 1, 1, 0, 0, 1, 0, 0,\n       1, 1, 1, 0, 0, 0, 0, 0, 1, 1, 0, 1, 0, 0, 0, 0, 1, 1, 0, 0, 0, 1,\n       0, 1, 0, 0, 1, 0, 1, 1, 0, 0, 0, 0, 1, 1, 1, 1, 1, 0, 1, 0, 0, 0],\n      dtype=int64)"
     },
     "execution_count": 54,
     "metadata": {},
     "output_type": "execute_result"
    }
   ],
   "source": [
    "y_pred"
   ],
   "metadata": {
    "collapsed": false,
    "pycharm": {
     "name": "#%%\n"
    }
   }
  },
  {
   "cell_type": "code",
   "execution_count": 55,
   "outputs": [
    {
     "name": "stdout",
     "output_type": "stream",
     "text": [
      "현재 날짜 및 시각 :  [5, 24, 16, 29, 1]\n"
     ]
    }
   ],
   "source": [
    "import datetime\n",
    "\n",
    "# 현재 날짜와 시각 구하기\n",
    "now = datetime.datetime.now()\n",
    "date_list = [now.month, now.day, now.hour, now.minute, now.second]\n",
    "# 현재 날짜와 시각 출력하기\n",
    "print(\"현재 날짜 및 시각 : \", date_list)\n",
    "\n",
    "# 제출 파일 생성\n",
    "\n",
    "submission['Survived'] = y_pred\n",
    "submission.to_csv(f'submission_Logistic_{date_list[0]}_{date_list[1]}_{date_list[2]}_{date_list[3]}_{date_list[4]}.csv')"
   ],
   "metadata": {
    "collapsed": false,
    "pycharm": {
     "name": "#%%\n"
    }
   }
  },
  {
   "cell_type": "code",
   "execution_count": 56,
   "outputs": [],
   "source": [
    "from sklearn.model_selection import train_test_split\n",
    "#\n",
    "num_train = len(train) # 훈련 데이터 개수\n",
    "\n",
    "# 훈련 데이터와 테스트 데이터 나누기\n",
    "\n",
    "X_train= all_data_sprs[:num_train] # 0~num_train -1 행\n",
    "X_test = all_data_sprs[num_train:] # num_train ~ 마지막 행\n",
    "\n",
    "y_train = train['Survived'].values\n",
    "\n",
    "\n",
    "# ########################################\n",
    "# # 데이터 분할\n",
    "# num_train = len(train) # 훈련 데이터 개수\n",
    "#\n",
    "# # 훈련 데이터와 테스트 데이터 나누기\n",
    "#\n",
    "# X= all_data_sprs[:num_train] # 0~num_train -1 행\n",
    "# X_test = all_data_sprs[num_train:] # num_train ~ 마지막 행\n",
    "#\n",
    "# y = train['Survived'].values\n",
    "#\n",
    "#\n",
    "# X_train , X_valid , y_train, y_valid = train_test_split(X,y, test_size = 0.2, random_state=0)\n",
    "# y_test = submission['Survived'].values"
   ],
   "metadata": {
    "collapsed": false,
    "pycharm": {
     "name": "#%%\n"
    }
   }
  },
  {
   "cell_type": "code",
   "execution_count": 57,
   "outputs": [
    {
     "name": "stdout",
     "output_type": "stream",
     "text": [
      "최적 하이퍼파라미터:  {'C': 5, 'max_iter': 50, 'random_state': 42, 'solver': 'liblinear'}\n",
      "Wall time: 2.29 s\n"
     ]
    }
   ],
   "source": [
    "%%time\n",
    "\n",
    "from sklearn.model_selection import GridSearchCV\n",
    "from sklearn.linear_model import LogisticRegression\n",
    "\n",
    "# 로지스틱 회귀 모델 생성\n",
    "\n",
    "logistic_model = LogisticRegression()\n",
    "\n",
    "# 하이퍼파라미터 값 목록\n",
    "\n",
    "lr_params = {'C': [0.1,0.125,0.2,0.3,0.4,0.5,0.8, 1.5,5,7,7.2] , 'max_iter' : [50, 100, 150],\n",
    "             'solver' : ['liblinear' , 'saga'] , 'random_state' : [42]}\n",
    "# C는 규제강도\n",
    "\n",
    "# 그리드서치 객체 생성\n",
    "\n",
    "gridsearch_logistic_model = GridSearchCV(estimator= logistic_model ,\n",
    "                                         param_grid= lr_params,\n",
    "                                         scoring = 'roc_auc' , # 평가지표\n",
    "                                         cv = 5)\n",
    "\n",
    "# 그리드서치 수행\n",
    "\n",
    "gridsearch_logistic_model.fit(X_train,y_train)\n",
    "print('최적 하이퍼파라미터: ' , gridsearch_logistic_model.best_params_)"
   ],
   "metadata": {
    "collapsed": false,
    "pycharm": {
     "name": "#%%\n"
    }
   }
  },
  {
   "cell_type": "code",
   "execution_count": 58,
   "outputs": [],
   "source": [
    "from sklearn.model_selection import train_test_split\n",
    "#\n",
    "# num_train = len(train) # 훈련 데이터 개수\n",
    "#\n",
    "# # 훈련 데이터와 테스트 데이터 나누기\n",
    "#\n",
    "# X_train= all_data_sprs[:num_train] # 0~num_train -1 행\n",
    "# X_test = all_data_sprs[num_train:] # num_train ~ 마지막 행\n",
    "#\n",
    "# y_train = train['Survived'].values\n",
    "#\n",
    "#\n",
    "# ########################################\n",
    "# 데이터 분할\n",
    "num_train = len(train) # 훈련 데이터 개수\n",
    "\n",
    "# 훈련 데이터와 테스트 데이터 나누기\n",
    "\n",
    "X= all_data_sprs[:num_train] # 0~num_train -1 행\n",
    "X_test = all_data_sprs[num_train:] # num_train ~ 마지막 행\n",
    "\n",
    "y = train['Survived'].values\n",
    "\n",
    "\n",
    "X_train , X_valid , y_train, y_valid = train_test_split(X,y, test_size = 0.2, random_state=0)\n",
    "y_test = submission['Survived'].values"
   ],
   "metadata": {
    "collapsed": false,
    "pycharm": {
     "name": "#%%\n"
    }
   }
  },
  {
   "cell_type": "code",
   "execution_count": 59,
   "outputs": [
    {
     "name": "stdout",
     "output_type": "stream",
     "text": [
      "Decsion Tree에 대한 점수 : 0.8826745718050066\n"
     ]
    }
   ],
   "source": [
    "print(f'Decsion Tree에 대한 점수 : {gridsearch_logistic_model.score(X_valid , y_valid)}')"
   ],
   "metadata": {
    "collapsed": false,
    "pycharm": {
     "name": "#%%\n"
    }
   }
  },
  {
   "cell_type": "code",
   "execution_count": 60,
   "outputs": [
    {
     "data": {
      "text/plain": "array([0, 0, 0, 0, 1, 0, 1, 0, 1, 0, 0, 0, 1, 0, 1, 1, 0, 0, 1, 0, 0, 0,\n       1, 0, 1, 0, 1, 0, 0, 0, 0, 0, 0, 0, 1, 0, 1, 1, 0, 0, 0, 0, 0, 1,\n       1, 0, 1, 0, 1, 0, 1, 0, 1, 1, 0, 0, 0, 0, 0, 1, 0, 0, 0, 1, 1, 1,\n       1, 0, 1, 1, 1, 0, 1, 1, 1, 1, 0, 1, 0, 1, 0, 0, 0, 0, 0, 0, 1, 1,\n       0, 0, 1, 0, 1, 0, 1, 0, 1, 0, 1, 0, 1, 0, 0, 0, 1, 0, 0, 0, 0, 0,\n       0, 1, 1, 1, 1, 0, 0, 1, 1, 1, 1, 0, 1, 0, 0, 1, 0, 1, 0, 0, 0, 0,\n       0, 0, 0, 0, 0, 0, 1, 0, 0, 1, 0, 0, 0, 0, 0, 0, 0, 0, 1, 0, 0, 0,\n       0, 0, 1, 1, 0, 1, 1, 0, 1, 0, 0, 1, 1, 0, 1, 1, 0, 0, 0, 0, 0, 1,\n       1, 0, 1, 1, 0, 0, 1, 0, 1, 0, 1, 0, 0, 0, 0, 0, 0, 0, 0, 0, 1, 1,\n       0, 1, 1, 0, 0, 1, 0, 0, 1, 0, 1, 0, 0, 0, 0, 1, 0, 0, 1, 0, 1, 0,\n       1, 0, 1, 0, 1, 1, 0, 1, 0, 0, 0, 1, 0, 0, 1, 0, 0, 0, 1, 1, 1, 1,\n       0, 0, 0, 0, 1, 0, 1, 1, 1, 0, 1, 0, 0, 0, 0, 0, 1, 0, 0, 0, 1, 1,\n       0, 0, 0, 0, 1, 0, 1, 0, 1, 1, 0, 1, 0, 0, 0, 0, 1, 0, 1, 1, 1, 0,\n       0, 1, 0, 0, 0, 1, 0, 0, 0, 0, 1, 0, 0, 0, 0, 0, 0, 0, 1, 1, 0, 0,\n       0, 0, 0, 0, 0, 1, 1, 1, 0, 0, 0, 0, 0, 0, 0, 0, 1, 0, 1, 0, 0, 0,\n       1, 1, 0, 1, 0, 1, 0, 0, 0, 0, 0, 0, 0, 1, 0, 1, 0, 1, 0, 1, 1, 0,\n       0, 0, 1, 0, 1, 0, 0, 1, 0, 1, 1, 0, 1, 0, 0, 1, 1, 0, 0, 1, 0, 0,\n       1, 1, 1, 0, 0, 0, 0, 0, 1, 1, 0, 1, 0, 0, 0, 0, 1, 1, 0, 0, 0, 1,\n       0, 1, 0, 0, 1, 0, 1, 1, 0, 0, 0, 0, 1, 1, 1, 1, 1, 0, 1, 0, 0, 0],\n      dtype=int64)"
     },
     "execution_count": 60,
     "metadata": {},
     "output_type": "execute_result"
    }
   ],
   "source": [
    "y_preds = gridsearch_logistic_model.predict(X_test)\n",
    "\n",
    "y_preds"
   ],
   "metadata": {
    "collapsed": false,
    "pycharm": {
     "name": "#%%\n"
    }
   }
  },
  {
   "cell_type": "code",
   "execution_count": 61,
   "outputs": [
    {
     "name": "stdout",
     "output_type": "stream",
     "text": [
      "현재 날짜 및 시각 :  [5, 24, 16, 29, 3]\n"
     ]
    }
   ],
   "source": [
    "import datetime\n",
    "\n",
    "# 현재 날짜와 시각 구하기\n",
    "now = datetime.datetime.now()\n",
    "date_list = [now.month, now.day, now.hour, now.minute, now.second]\n",
    "# 현재 날짜와 시각 출력하기\n",
    "print(\"현재 날짜 및 시각 : \", date_list)\n",
    "\n",
    "# 제출 파일 생성\n",
    "\n",
    "submission['Survived'] = y_preds\n",
    "submission.to_csv(f'submission_DescisionTree_logistic_{date_list[0]}_{date_list[1]}_{date_list[2]}_{date_list[3]}_{date_list[4]}.csv')"
   ],
   "metadata": {
    "collapsed": false,
    "pycharm": {
     "name": "#%%\n"
    }
   }
  },
  {
   "cell_type": "code",
   "execution_count": 61,
   "outputs": [],
   "source": [],
   "metadata": {
    "collapsed": false,
    "pycharm": {
     "name": "#%%\n"
    }
   }
  },
  {
   "cell_type": "markdown",
   "source": [
    " 위의 코드는 이미 K-Fold 교차 검증을 적용하고 있습니다. GridSearchCV 함수의 cv 매개변수를 5로 설정하여 5-Fold 교차 검증을 수행하고 있습니다. cv 매개변수를 원하는 K 값으로 변경하여 다른 K-Fold 값에서 교차 검증을 수행할 수 있습니다.\n",
    "\n",
    "따라서, 위의 코드는 이미 K-Fold 교차 검증을 시행하고 있으며, 각 Fold에서의 최적 모델과 파라미터를 출력하고 있습니다."
   ],
   "metadata": {
    "collapsed": false,
    "pycharm": {
     "name": "#%% md\n"
    }
   }
  },
  {
   "cell_type": "code",
   "execution_count": 62,
   "outputs": [],
   "source": [
    "from sklearn.model_selection import train_test_split\n",
    "#\n",
    "num_train = len(train) # 훈련 데이터 개수\n",
    "\n",
    "# 훈련 데이터와 테스트 데이터 나누기\n",
    "\n",
    "X_train= all_data_sprs[:num_train] # 0~num_train -1 행\n",
    "X_test = all_data_sprs[num_train:] # num_train ~ 마지막 행\n",
    "\n",
    "y_train = train['Survived'].values\n",
    "\n",
    "\n",
    "# ########################################\n",
    "# # 데이터 분할\n",
    "# num_train = len(train) # 훈련 데이터 개수\n",
    "#\n",
    "# # 훈련 데이터와 테스트 데이터 나누기\n",
    "#\n",
    "# X= all_data_sprs[:num_train] # 0~num_train -1 행\n",
    "# X_test = all_data_sprs[num_train:] # num_train ~ 마지막 행\n",
    "#\n",
    "# y = train['Survived'].values\n",
    "#\n",
    "#\n",
    "# X_train , X_valid , y_train, y_valid = train_test_split(X,y, test_size = 0.2, random_state=0)\n",
    "# y_test = submission['Survived'].values"
   ],
   "metadata": {
    "collapsed": false,
    "pycharm": {
     "name": "#%%\n"
    }
   }
  },
  {
   "cell_type": "code",
   "execution_count": 63,
   "outputs": [
    {
     "name": "stdout",
     "output_type": "stream",
     "text": [
      "Best Model: DecisionTreeClassifier(max_depth=12, min_samples_split=7)\n",
      "Best Parameters: {'max_depth': 12, 'min_samples_leaf': 1, 'min_samples_split': 7}\n"
     ]
    },
    {
     "name": "stderr",
     "output_type": "stream",
     "text": [
      "C:\\Users\\andyp\\anaconda3\\lib\\site-packages\\sklearn\\model_selection\\_search.py:918: UserWarning: One or more of the test scores are non-finite: [  nan 0.816 0.816 0.815 0.816 0.818   nan 0.814 0.814 0.814 0.815 0.816\n",
      "   nan 0.811 0.813 0.811 0.815 0.814   nan 0.813 0.813 0.813 0.811 0.81\n",
      "   nan 0.816 0.815 0.815 0.817 0.813   nan 0.815 0.815 0.815 0.816 0.815\n",
      "   nan 0.815 0.815 0.823 0.825 0.82    nan 0.82  0.812 0.82  0.827 0.824\n",
      "   nan 0.818 0.817 0.816 0.816 0.814   nan 0.819 0.814 0.82  0.819 0.811\n",
      "   nan 0.811 0.81  0.81  0.809 0.809   nan 0.811 0.808 0.809 0.81  0.811\n",
      "   nan 0.814 0.816 0.82  0.828 0.823   nan 0.813 0.817 0.818 0.825 0.822\n",
      "   nan 0.815 0.819 0.818 0.817 0.816   nan 0.813 0.815 0.816 0.811 0.818\n",
      "   nan 0.811 0.813 0.813 0.808 0.813   nan 0.811 0.813 0.81  0.81  0.813]\n",
      "  warnings.warn(\n"
     ]
    }
   ],
   "source": [
    "from sklearn.model_selection import GridSearchCV\n",
    "from sklearn.tree import DecisionTreeClassifier\n",
    "\n",
    "dt_model = DecisionTreeClassifier()\n",
    "\n",
    "# 그리드 서치를 위한 하이퍼파라미터 그리드 준비\n",
    "param_grid = {\n",
    "    'max_depth': [5,10,12],\n",
    "    'min_samples_split': [1, 2, 3, 5, 7, 10],\n",
    "    'min_samples_leaf': [1, 2, 3, 4, 5, 6]\n",
    "}\n",
    "\n",
    "# 그리드 서치 객체 생성\n",
    "grid_search = GridSearchCV(dt_model, param_grid, cv=10 , n_jobs=-1)\n",
    "\n",
    "# 그리드 서치 수행\n",
    "grid_search.fit(X_train, y_train)\n",
    "\n",
    "# 최적의 모델 및 파라미터 출력\n",
    "best_model_grid_search_dc = grid_search.best_estimator_\n",
    "best_params_grid_search_dc = grid_search.best_params_\n",
    "print(\"Best Model:\", best_model_grid_search_dc)\n",
    "print(\"Best Parameters:\", best_params_grid_search_dc)"
   ],
   "metadata": {
    "collapsed": false,
    "pycharm": {
     "name": "#%%\n"
    }
   }
  },
  {
   "cell_type": "code",
   "execution_count": 64,
   "outputs": [
    {
     "data": {
      "text/plain": "array([0, 0, 0, 0, 1, 0, 0, 0, 1, 0, 0, 0, 1, 0, 1, 1, 0, 0, 0, 0, 0, 1,\n       1, 0, 1, 0, 1, 0, 0, 0, 0, 0, 1, 0, 0, 0, 0, 0, 0, 1, 0, 0, 0, 1,\n       1, 0, 0, 0, 1, 1, 0, 0, 1, 1, 0, 0, 0, 0, 0, 1, 0, 0, 0, 0, 1, 1,\n       1, 0, 1, 1, 0, 0, 0, 1, 1, 1, 0, 1, 0, 0, 1, 0, 0, 0, 0, 0, 0, 0,\n       0, 1, 1, 0, 1, 0, 1, 0, 1, 0, 0, 0, 1, 0, 0, 0, 1, 0, 0, 0, 0, 1,\n       0, 1, 1, 1, 1, 1, 0, 1, 1, 1, 1, 0, 1, 0, 0, 0, 0, 1, 0, 0, 0, 1,\n       0, 0, 0, 0, 0, 0, 0, 0, 0, 1, 0, 0, 0, 0, 0, 0, 0, 0, 1, 0, 0, 1,\n       0, 0, 1, 1, 0, 1, 1, 1, 1, 0, 0, 1, 0, 0, 1, 0, 0, 0, 0, 0, 0, 1,\n       1, 0, 1, 1, 0, 0, 1, 0, 1, 0, 0, 0, 0, 0, 0, 0, 1, 0, 1, 0, 1, 0,\n       0, 1, 1, 1, 1, 1, 0, 0, 0, 0, 1, 0, 0, 0, 0, 1, 1, 0, 1, 0, 1, 0,\n       0, 0, 1, 0, 1, 1, 0, 1, 0, 0, 0, 1, 0, 0, 1, 0, 0, 0, 1, 1, 1, 1,\n       0, 0, 1, 0, 1, 0, 1, 0, 1, 0, 0, 0, 0, 0, 0, 0, 1, 0, 0, 0, 1, 1,\n       0, 0, 0, 0, 0, 0, 1, 0, 1, 1, 0, 1, 0, 0, 0, 0, 0, 1, 1, 1, 1, 0,\n       0, 0, 0, 0, 0, 0, 0, 0, 0, 0, 1, 0, 1, 0, 0, 0, 0, 0, 1, 1, 1, 1,\n       0, 0, 0, 0, 0, 0, 1, 1, 0, 0, 0, 0, 0, 0, 1, 0, 1, 0, 1, 0, 0, 0,\n       1, 1, 0, 1, 0, 1, 0, 0, 0, 0, 0, 0, 0, 1, 1, 0, 0, 0, 0, 1, 1, 0,\n       0, 0, 1, 0, 1, 0, 0, 1, 0, 1, 1, 0, 1, 0, 0, 0, 1, 0, 0, 1, 0, 0,\n       1, 1, 1, 0, 0, 0, 0, 0, 1, 0, 0, 1, 0, 0, 0, 0, 0, 1, 1, 0, 0, 1,\n       0, 1, 0, 0, 1, 0, 1, 0, 1, 0, 0, 0, 1, 1, 1, 1, 1, 0, 1, 0, 0, 1],\n      dtype=int64)"
     },
     "execution_count": 64,
     "metadata": {},
     "output_type": "execute_result"
    }
   ],
   "source": [
    "y_preds = best_model_grid_search_dc.predict(X_test)\n",
    "\n",
    "y_preds"
   ],
   "metadata": {
    "collapsed": false,
    "pycharm": {
     "name": "#%%\n"
    }
   }
  },
  {
   "cell_type": "code",
   "execution_count": 65,
   "outputs": [
    {
     "name": "stdout",
     "output_type": "stream",
     "text": [
      "Decsion Tree에 대한 점수 : 0.8956228956228957\n"
     ]
    }
   ],
   "source": [
    "print(f'Decsion Tree에 대한 점수 : {best_model_grid_search_dc.score(X_train , y_train)}')"
   ],
   "metadata": {
    "collapsed": false,
    "pycharm": {
     "name": "#%%\n"
    }
   }
  },
  {
   "cell_type": "code",
   "execution_count": 66,
   "outputs": [],
   "source": [
    "from sklearn.model_selection import train_test_split\n",
    "#\n",
    "# num_train = len(train) # 훈련 데이터 개수\n",
    "#\n",
    "# # 훈련 데이터와 테스트 데이터 나누기\n",
    "#\n",
    "# X_train= all_data_sprs[:num_train] # 0~num_train -1 행\n",
    "# X_test = all_data_sprs[num_train:] # num_train ~ 마지막 행\n",
    "#\n",
    "# y_train = train['Survived'].values\n",
    "#\n",
    "#\n",
    "# ########################################\n",
    "# # 데이터 분할\n",
    "num_train = len(train) # 훈련 데이터 개수\n",
    "\n",
    "# 훈련 데이터와 테스트 데이터 나누기\n",
    "\n",
    "X= all_data_sprs[:num_train] # 0~num_train -1 행\n",
    "X_test = all_data_sprs[num_train:] # num_train ~ 마지막 행\n",
    "\n",
    "y = train['Survived'].values\n",
    "\n",
    "\n",
    "X_train , X_valid , y_train, y_valid = train_test_split(X,y, test_size = 0.2, random_state=0)\n",
    "y_test = submission['Survived'].values"
   ],
   "metadata": {
    "collapsed": false,
    "pycharm": {
     "name": "#%%\n"
    }
   }
  },
  {
   "cell_type": "code",
   "execution_count": 67,
   "outputs": [
    {
     "name": "stdout",
     "output_type": "stream",
     "text": [
      "Decsion Tree에 대한 점수 : 0.9162011173184358\n"
     ]
    }
   ],
   "source": [
    "print(f'Decsion Tree에 대한 점수 : {best_model_grid_search_dc.score(X_valid , y_valid)}')"
   ],
   "metadata": {
    "collapsed": false,
    "pycharm": {
     "name": "#%%\n"
    }
   }
  },
  {
   "cell_type": "code",
   "execution_count": 68,
   "outputs": [
    {
     "data": {
      "text/plain": "<Figure size 2160x1080 with 1 Axes>",
      "image/png": "[encoded data removed]"
     },
     "metadata": {
      "needs_background": "light"
     },
     "output_type": "display_data"
    }
   ],
   "source": [
    "from sklearn.tree import plot_tree\n",
    "\n",
    "fig = plt.figure(figsize =  (30,15)) # 그래프 크기 설정\n",
    "\n",
    "ax =plot_tree(best_model_grid_search_dc, max_depth=5, fontsize=15)\n",
    "# 트리 그래프 출력\n",
    "\n",
    "plt.show()"
   ],
   "metadata": {
    "collapsed": false,
    "pycharm": {
     "name": "#%%\n"
    }
   }
  },
  {
   "cell_type": "code",
   "execution_count": 69,
   "outputs": [
    {
     "name": "stdout",
     "output_type": "stream",
     "text": [
      "현재 날짜 및 시각 :  [5, 24, 16, 29, 16]\n"
     ]
    }
   ],
   "source": [
    "import datetime\n",
    "\n",
    "# 현재 날짜와 시각 구하기\n",
    "now = datetime.datetime.now()\n",
    "date_list = [now.month, now.day, now.hour, now.minute, now.second]\n",
    "# 현재 날짜와 시각 출력하기\n",
    "print(\"현재 날짜 및 시각 : \", date_list)\n",
    "\n",
    "# 제출 파일 생성\n",
    "\n",
    "submission['Survived'] = y_preds\n",
    "submission.to_csv(f'submission_gridsearch_DescisionTree_{date_list[0]}_{date_list[1]}_{date_list[2]}_{date_list[3]}_{date_list[4]}.csv')"
   ],
   "metadata": {
    "collapsed": false,
    "pycharm": {
     "name": "#%%\n"
    }
   }
  },
  {
   "cell_type": "markdown",
   "source": [
    "## LightGBM 모델"
   ],
   "metadata": {
    "collapsed": false,
    "pycharm": {
     "name": "#%% md\n"
    }
   }
  },
  {
   "cell_type": "code",
   "execution_count": 70,
   "outputs": [],
   "source": [
    "from sklearn.model_selection import train_test_split\n",
    "#\n",
    "num_train = len(train) # 훈련 데이터 개수\n",
    "\n",
    "# 훈련 데이터와 테스트 데이터 나누기\n",
    "\n",
    "X_train= all_data_sprs[:num_train] # 0~num_train -1 행\n",
    "X_test = all_data_sprs[num_train:] # num_train ~ 마지막 행\n",
    "\n",
    "y_train = train['Survived'].values\n",
    "\n",
    "\n",
    "# ########################################\n",
    "# # 데이터 분할\n",
    "# num_train = len(train) # 훈련 데이터 개수\n",
    "#\n",
    "# # 훈련 데이터와 테스트 데이터 나누기\n",
    "#\n",
    "# X= all_data_sprs[:num_train] # 0~num_train -1 행\n",
    "# X_test = all_data_sprs[num_train:] # num_train ~ 마지막 행\n",
    "#\n",
    "# y = train['Survived'].values\n",
    "#\n",
    "#\n",
    "# X_train , X_valid , y_train, y_valid = train_test_split(X,y, test_size = 0.2, random_state=0)\n",
    "# y_test = submission['Survived'].values"
   ],
   "metadata": {
    "collapsed": false,
    "pycharm": {
     "name": "#%%\n"
    }
   }
  },
  {
   "cell_type": "code",
   "execution_count": 71,
   "outputs": [
    {
     "data": {
      "text/plain": "Name          float32\nSex           float32\nEmbarked      float32\nAge_binned    float32\nFare_clean    float32\nCabin         float32\nFamily        float32\nPclass        float32\ndtype: object"
     },
     "execution_count": 71,
     "metadata": {},
     "output_type": "execute_result"
    }
   ],
   "source": [
    "all_data_2.dtypes"
   ],
   "metadata": {
    "collapsed": false,
    "pycharm": {
     "name": "#%%\n"
    }
   }
  },
  {
   "cell_type": "code",
   "execution_count": 72,
   "outputs": [
    {
     "name": "stdout",
     "output_type": "stream",
     "text": [
      "Best Model (LightGBM): LGBMClassifier(colsample_bytree=0.9, learning_rate=0.01, max_depth=4,\n",
      "               min_child_samples=2, n_estimators=200, reg_alpha=0.2,\n",
      "               subsample=0.05)\n",
      "Best Parameters (LightGBM): {'colsample_bytree': 0.9, 'learning_rate': 0.01, 'max_depth': 4, 'min_child_samples': 2, 'n_estimators': 200, 'reg_alpha': 0.2, 'reg_lambda': 0.0, 'subsample': 0.05}\n",
      "Wall time: 1min 39s\n"
     ]
    }
   ],
   "source": [
    "%%time\n",
    "\n",
    "from sklearn.model_selection import GridSearchCV\n",
    "from sklearn.tree import DecisionTreeClassifier\n",
    "import lightgbm as lgb\n",
    "\n",
    "# LightGBM 모델 생성\n",
    "lgb_model = lgb.LGBMClassifier()\n",
    "\n",
    "# 그리드 서치를 위한 하이퍼파라미터 그리드 준비\n",
    "param_grid_lgb = {\n",
    "    'max_depth': [3,4],\n",
    "    'learning_rate': [0.01, 0.05],\n",
    "    'n_estimators': [200, 300, 400 ],\n",
    "    'min_child_samples': [1 ,2 , 3, 4],\n",
    "    'subsample': [0.05 , 0.01],\n",
    "    'colsample_bytree': [0.9 ,1],\n",
    "    'reg_alpha': [0.2 , 0.3],\n",
    "    'reg_lambda': [0.0 ]\n",
    "}\n",
    "\n",
    "\n",
    "# 그리드 서치 객체 생성\n",
    "grid_search_lgb = GridSearchCV(lgb_model, param_grid_lgb, cv=10, n_jobs=-1)\n",
    "\n",
    "# 그리드 서치 수행\n",
    "grid_search_lgb.fit(X_train, y_train)\n",
    "\n",
    "# 최적의 모델 및 파라미터 출력\n",
    "best_model_grid_search_lgb = grid_search_lgb.best_estimator_\n",
    "best_params_grid_search_lgb = grid_search_lgb.best_params_\n",
    "print(\"Best Model (LightGBM):\", best_model_grid_search_lgb)\n",
    "print(\"Best Parameters (LightGBM):\", best_params_grid_search_lgb)\n"
   ],
   "metadata": {
    "collapsed": false,
    "pycharm": {
     "name": "#%%\n"
    }
   }
  },
  {
   "cell_type": "code",
   "execution_count": 73,
   "outputs": [
    {
     "data": {
      "text/plain": "array([0, 0, 0, 0, 1, 0, 1, 0, 1, 0, 0, 0, 1, 0, 1, 1, 0, 0, 0, 0, 0, 1,\n       1, 0, 1, 0, 1, 0, 0, 0, 0, 0, 0, 0, 0, 0, 0, 0, 0, 0, 0, 0, 0, 1,\n       1, 0, 0, 0, 1, 0, 0, 0, 1, 1, 0, 0, 0, 0, 0, 1, 0, 0, 0, 1, 1, 1,\n       1, 0, 0, 1, 1, 0, 0, 1, 1, 0, 0, 1, 0, 1, 1, 0, 0, 0, 0, 0, 1, 0,\n       0, 1, 1, 0, 1, 0, 0, 0, 1, 0, 1, 0, 1, 0, 0, 0, 1, 0, 0, 0, 0, 0,\n       0, 1, 1, 1, 1, 0, 0, 1, 0, 1, 1, 0, 1, 0, 0, 0, 0, 1, 0, 0, 0, 1,\n       0, 0, 0, 0, 0, 0, 0, 0, 0, 1, 0, 0, 0, 0, 0, 0, 0, 0, 1, 0, 0, 0,\n       0, 0, 1, 1, 0, 1, 1, 1, 1, 0, 0, 1, 0, 0, 1, 0, 0, 0, 0, 0, 0, 1,\n       1, 0, 1, 1, 0, 1, 1, 0, 1, 0, 1, 0, 0, 0, 0, 0, 1, 0, 1, 0, 1, 1,\n       0, 0, 1, 1, 1, 1, 0, 0, 0, 0, 1, 0, 0, 0, 0, 1, 0, 0, 1, 0, 1, 0,\n       1, 0, 1, 0, 1, 1, 0, 1, 0, 0, 0, 1, 0, 0, 0, 0, 0, 0, 1, 1, 1, 1,\n       0, 0, 1, 0, 1, 0, 1, 1, 1, 0, 0, 0, 0, 0, 0, 0, 1, 0, 0, 0, 1, 1,\n       0, 0, 0, 0, 0, 0, 0, 0, 1, 1, 0, 1, 0, 0, 0, 0, 0, 1, 1, 1, 1, 0,\n       0, 0, 0, 0, 0, 1, 0, 0, 0, 0, 1, 0, 0, 0, 0, 0, 0, 0, 1, 1, 0, 1,\n       0, 0, 0, 0, 0, 0, 1, 1, 0, 0, 0, 0, 0, 0, 0, 0, 1, 0, 1, 0, 0, 0,\n       1, 0, 0, 1, 0, 0, 0, 0, 0, 1, 0, 0, 0, 1, 1, 1, 0, 0, 0, 1, 1, 0,\n       0, 0, 1, 0, 1, 0, 0, 1, 0, 1, 1, 0, 1, 0, 0, 0, 1, 0, 0, 1, 0, 0,\n       1, 1, 0, 0, 0, 0, 0, 0, 0, 1, 0, 1, 0, 0, 0, 0, 0, 1, 1, 0, 0, 1,\n       0, 1, 0, 0, 1, 0, 1, 0, 0, 0, 0, 0, 1, 1, 1, 1, 1, 0, 1, 0, 0, 1],\n      dtype=int64)"
     },
     "execution_count": 73,
     "metadata": {},
     "output_type": "execute_result"
    }
   ],
   "source": [
    "y_preds = best_model_grid_search_lgb.predict(X_test)\n",
    "\n",
    "y_preds"
   ],
   "metadata": {
    "collapsed": false,
    "pycharm": {
     "name": "#%%\n"
    }
   }
  },
  {
   "cell_type": "code",
   "execution_count": 74,
   "outputs": [
    {
     "name": "stdout",
     "output_type": "stream",
     "text": [
      "Decsion Tree에 대한 점수 : 0.8641975308641975\n"
     ]
    }
   ],
   "source": [
    "print(f'Decsion Tree에 대한 점수 : {best_model_grid_search_lgb.score(X_train , y_train)}')"
   ],
   "metadata": {
    "collapsed": false,
    "pycharm": {
     "name": "#%%\n"
    }
   }
  },
  {
   "cell_type": "code",
   "execution_count": 75,
   "outputs": [],
   "source": [
    "from sklearn.model_selection import train_test_split\n",
    "#\n",
    "# num_train = len(train) # 훈련 데이터 개수\n",
    "#\n",
    "# # 훈련 데이터와 테스트 데이터 나누기\n",
    "#\n",
    "# X_train= all_data_sprs[:num_train] # 0~num_train -1 행\n",
    "# X_test = all_data_sprs[num_train:] # num_train ~ 마지막 행\n",
    "#\n",
    "# y_train = train['Survived'].values\n",
    "\n",
    "\n",
    "# ########################################\n",
    "# # 데이터 분할\n",
    "num_train = len(train) # 훈련 데이터 개수\n",
    "\n",
    "# 훈련 데이터와 테스트 데이터 나누기\n",
    "\n",
    "X= all_data_sprs[:num_train] # 0~num_train -1 행\n",
    "X_test = all_data_sprs[num_train:] # num_train ~ 마지막 행\n",
    "\n",
    "y = train['Survived'].values\n",
    "\n",
    "\n",
    "X_train , X_valid , y_train, y_valid = train_test_split(X,y, test_size = 0.2, random_state=0)\n",
    "y_test = submission['Survived'].values"
   ],
   "metadata": {
    "collapsed": false,
    "pycharm": {
     "name": "#%%\n"
    }
   }
  },
  {
   "cell_type": "code",
   "execution_count": 76,
   "outputs": [
    {
     "name": "stdout",
     "output_type": "stream",
     "text": [
      "Decsion Tree에 대한 점수 : 0.8547486033519553\n"
     ]
    }
   ],
   "source": [
    "print(f'Decsion Tree에 대한 점수 : {best_model_grid_search_lgb.score(X_valid , y_valid)}')"
   ],
   "metadata": {
    "collapsed": false,
    "pycharm": {
     "name": "#%%\n"
    }
   }
  },
  {
   "cell_type": "code",
   "execution_count": 77,
   "outputs": [
    {
     "name": "stdout",
     "output_type": "stream",
     "text": [
      "현재 날짜 및 시각 :  [5, 24, 16, 30, 56]\n"
     ]
    }
   ],
   "source": [
    "import datetime\n",
    "\n",
    "# 현재 날짜와 시각 구하기\n",
    "now = datetime.datetime.now()\n",
    "date_list = [now.month, now.day, now.hour, now.minute, now.second]\n",
    "# 현재 날짜와 시각 출력하기\n",
    "print(\"현재 날짜 및 시각 : \", date_list)\n",
    "\n",
    "# 제출 파일 생성\n",
    "\n",
    "submission['Survived'] = y_preds\n",
    "submission.to_csv(f'submission_DescisionTree_lgb_{date_list[0]}_{date_list[1]}_{date_list[2]}_{date_list[3]}_{date_list[4]}.csv')"
   ],
   "metadata": {
    "collapsed": false,
    "pycharm": {
     "name": "#%%\n"
    }
   }
  },
  {
   "cell_type": "markdown",
   "source": [
    "## XGBoost"
   ],
   "metadata": {
    "collapsed": false,
    "pycharm": {
     "name": "#%% md\n"
    }
   }
  },
  {
   "cell_type": "code",
   "execution_count": 78,
   "outputs": [],
   "source": [
    "from sklearn.model_selection import train_test_split\n",
    "#\n",
    "num_train = len(train) # 훈련 데이터 개수\n",
    "\n",
    "# 훈련 데이터와 테스트 데이터 나누기\n",
    "\n",
    "X_train= all_data_sprs[:num_train] # 0~num_train -1 행\n",
    "X_test = all_data_sprs[num_train:] # num_train ~ 마지막 행\n",
    "\n",
    "y_train = train['Survived'].values\n",
    "\n",
    "\n",
    "# ########################################\n",
    "# # 데이터 분할\n",
    "# num_train = len(train) # 훈련 데이터 개수\n",
    "#\n",
    "# # 훈련 데이터와 테스트 데이터 나누기\n",
    "#\n",
    "# X= all_data_sprs[:num_train] # 0~num_train -1 행\n",
    "# X_test = all_data_sprs[num_train:] # num_train ~ 마지막 행\n",
    "#\n",
    "# y = train['Survived'].values\n",
    "#\n",
    "#\n",
    "# X_train , X_valid , y_train, y_valid = train_test_split(X,y, test_size = 0.2, random_state=0)\n",
    "# y_test = submission['Survived'].values"
   ],
   "metadata": {
    "collapsed": false,
    "pycharm": {
     "name": "#%%\n"
    }
   }
  },
  {
   "cell_type": "code",
   "execution_count": 79,
   "outputs": [
    {
     "name": "stdout",
     "output_type": "stream",
     "text": [
      "Best Model (XGBoost): XGBClassifier(base_score=None, booster=None, callbacks=None,\n",
      "              colsample_bylevel=None, colsample_bynode=None,\n",
      "              colsample_bytree=0.8, early_stopping_rounds=None,\n",
      "              enable_categorical=False, eval_metric=None, feature_types=None,\n",
      "              gamma=0.1, gpu_id=None, grow_policy=None, importance_type=None,\n",
      "              interaction_constraints=None, learning_rate=0.01, max_bin=None,\n",
      "              max_cat_threshold=None, max_cat_to_onehot=None,\n",
      "              max_delta_step=None, max_depth=3, max_leaves=None,\n",
      "              min_child_weight=None, missing=nan, monotone_constraints=None,\n",
      "              n_estimators=400, n_jobs=None, num_parallel_tree=None,\n",
      "              predictor=None, random_state=None, ...)\n",
      "Best Parameters (XGBoost): {'colsample_bytree': 0.8, 'gamma': 0.1, 'learning_rate': 0.01, 'max_depth': 3, 'n_estimators': 400, 'reg_alpha': 0.01, 'reg_lambda': 0, 'subsample': 1.0}\n",
      "Wall time: 23.9 s\n"
     ]
    }
   ],
   "source": [
    "%%time\n",
    "\n",
    "from sklearn.model_selection import GridSearchCV\n",
    "import xgboost as xgb\n",
    "\n",
    "# XGBoost 모델 생성\n",
    "xgb_model = xgb.XGBClassifier()\n",
    "\n",
    "# 그리드 서치를 위한 하이퍼파라미터 그리드 준비\n",
    "param_grid_xgb = {\n",
    "    'max_depth': [3, 5],\n",
    "    'learning_rate': [0.01 , 0.05],\n",
    "    'n_estimators': [300, 400],\n",
    "    'subsample': [1.0 ],  # subsample 비율\n",
    "    'colsample_bytree': [0.8, 0.9 ],  # 각 트리에 사용되는 특성(feature)의 비율\n",
    "    'gamma': [0 , 0.1],  # 트리 노드를 추가로 분할하기 위한 최소 손실 감소값\n",
    "    'reg_alpha': [0.01 ],  # L1 정규화 항의 가중치\n",
    "    'reg_lambda': [0]  # L2 정규화 항의 가중치\n",
    "}\n",
    "\n",
    "# 그리드 서치 객체 생성\n",
    "grid_search_xgb = GridSearchCV(xgb_model, param_grid_xgb, cv=10, n_jobs=-1)\n",
    "\n",
    "# 그리드 서치 수행\n",
    "grid_search_xgb.fit(X_train, y_train)\n",
    "\n",
    "# 최적의 모델 및 파라미터 출력\n",
    "best_model_grid_search_xgb = grid_search_xgb.best_estimator_\n",
    "best_params_grid_search_xgb = grid_search_xgb.best_params_\n",
    "print(\"Best Model (XGBoost):\", best_model_grid_search_xgb)\n",
    "print(\"Best Parameters (XGBoost):\", best_params_grid_search_xgb)\n"
   ],
   "metadata": {
    "collapsed": false,
    "pycharm": {
     "name": "#%%\n"
    }
   }
  },
  {
   "cell_type": "code",
   "execution_count": 80,
   "outputs": [
    {
     "data": {
      "text/plain": "array([0, 0, 0, 0, 1, 0, 1, 0, 1, 0, 0, 0, 1, 0, 1, 1, 0, 0, 0, 0, 0, 1,\n       1, 0, 1, 0, 1, 0, 0, 0, 0, 0, 1, 0, 0, 0, 0, 0, 0, 0, 0, 0, 0, 1,\n       1, 0, 0, 0, 1, 1, 0, 0, 1, 1, 0, 0, 0, 0, 0, 1, 0, 0, 0, 1, 0, 1,\n       1, 0, 0, 1, 1, 0, 0, 1, 1, 0, 0, 1, 0, 1, 1, 0, 0, 0, 0, 0, 1, 0,\n       0, 1, 1, 0, 1, 0, 0, 0, 1, 0, 1, 0, 1, 0, 0, 0, 1, 0, 0, 0, 0, 0,\n       0, 1, 1, 1, 1, 0, 0, 1, 0, 1, 1, 0, 1, 0, 0, 1, 0, 1, 0, 0, 0, 0,\n       0, 0, 0, 0, 0, 0, 0, 0, 0, 1, 0, 0, 0, 0, 0, 0, 0, 0, 1, 0, 0, 1,\n       0, 0, 1, 1, 0, 1, 1, 1, 1, 0, 0, 1, 0, 0, 1, 0, 0, 0, 0, 0, 0, 1,\n       1, 0, 1, 1, 0, 1, 1, 0, 1, 0, 1, 0, 0, 0, 0, 0, 1, 0, 1, 0, 1, 1,\n       0, 0, 1, 1, 1, 1, 0, 0, 1, 0, 1, 0, 0, 0, 0, 1, 0, 0, 1, 0, 1, 0,\n       1, 0, 1, 0, 1, 1, 0, 1, 0, 0, 0, 1, 0, 0, 0, 0, 0, 0, 1, 1, 1, 1,\n       0, 0, 1, 0, 1, 0, 1, 1, 1, 0, 0, 0, 0, 0, 0, 0, 1, 0, 0, 0, 1, 1,\n       0, 0, 0, 0, 0, 0, 0, 0, 1, 1, 0, 1, 0, 0, 0, 0, 0, 1, 1, 1, 1, 0,\n       0, 0, 0, 0, 0, 1, 0, 0, 0, 0, 1, 0, 0, 0, 0, 0, 0, 0, 1, 1, 0, 1,\n       0, 0, 0, 0, 0, 1, 1, 1, 0, 0, 0, 0, 0, 0, 0, 0, 1, 0, 1, 0, 0, 0,\n       1, 0, 0, 1, 0, 0, 0, 0, 0, 1, 0, 0, 0, 1, 1, 1, 0, 1, 0, 1, 1, 0,\n       0, 0, 1, 0, 1, 0, 0, 1, 0, 1, 1, 0, 1, 0, 0, 0, 1, 0, 0, 1, 0, 0,\n       1, 1, 0, 0, 0, 0, 0, 0, 1, 1, 0, 1, 0, 0, 0, 0, 0, 1, 1, 0, 0, 1,\n       0, 1, 0, 0, 1, 0, 1, 0, 0, 0, 0, 0, 1, 1, 1, 1, 1, 0, 1, 0, 0, 1])"
     },
     "execution_count": 80,
     "metadata": {},
     "output_type": "execute_result"
    }
   ],
   "source": [
    "y_preds = best_model_grid_search_xgb.predict(X_test)\n",
    "\n",
    "y_preds"
   ],
   "metadata": {
    "collapsed": false,
    "pycharm": {
     "name": "#%%\n"
    }
   }
  },
  {
   "cell_type": "code",
   "execution_count": 81,
   "outputs": [
    {
     "name": "stdout",
     "output_type": "stream",
     "text": [
      "Decsion Tree에 대한 점수 : 0.8608305274971941\n"
     ]
    }
   ],
   "source": [
    "print(f'Decsion Tree에 대한 점수 : {best_model_grid_search_xgb.score(X_train , y_train)}')"
   ],
   "metadata": {
    "collapsed": false,
    "pycharm": {
     "name": "#%%\n"
    }
   }
  },
  {
   "cell_type": "code",
   "execution_count": 82,
   "outputs": [],
   "source": [
    "from sklearn.model_selection import train_test_split\n",
    "#\n",
    "# num_train = len(train) # 훈련 데이터 개수\n",
    "#\n",
    "# # 훈련 데이터와 테스트 데이터 나누기\n",
    "#\n",
    "# X_train= all_data_sprs[:num_train] # 0~num_train -1 행\n",
    "# X_test = all_data_sprs[num_train:] # num_train ~ 마지막 행\n",
    "#\n",
    "# y_train = train['Survived'].values\n",
    "\n",
    "\n",
    "# ########################################\n",
    "# # 데이터 분할\n",
    "num_train = len(train) # 훈련 데이터 개수\n",
    "\n",
    "# 훈련 데이터와 테스트 데이터 나누기\n",
    "\n",
    "X= all_data_sprs[:num_train] # 0~num_train -1 행\n",
    "X_test = all_data_sprs[num_train:] # num_train ~ 마지막 행\n",
    "\n",
    "y = train['Survived'].values\n",
    "\n",
    "\n",
    "X_train , X_valid , y_train, y_valid = train_test_split(X,y, test_size = 0.2, random_state=0)\n",
    "y_test = submission['Survived'].values"
   ],
   "metadata": {
    "collapsed": false,
    "pycharm": {
     "name": "#%%\n"
    }
   }
  },
  {
   "cell_type": "code",
   "execution_count": 83,
   "outputs": [
    {
     "name": "stdout",
     "output_type": "stream",
     "text": [
      "Decsion Tree에 대한 점수 : 0.88268156424581\n"
     ]
    }
   ],
   "source": [
    "print(f'Decsion Tree에 대한 점수 : {best_model_grid_search_xgb.score(X_valid , y_valid)}')"
   ],
   "metadata": {
    "collapsed": false,
    "pycharm": {
     "name": "#%%\n"
    }
   }
  },
  {
   "cell_type": "code",
   "execution_count": 84,
   "outputs": [
    {
     "name": "stdout",
     "output_type": "stream",
     "text": [
      "현재 날짜 및 시각 :  [5, 24, 16, 31, 20]\n"
     ]
    }
   ],
   "source": [
    "import datetime\n",
    "\n",
    "# 현재 날짜와 시각 구하기\n",
    "now = datetime.datetime.now()\n",
    "date_list = [now.month, now.day, now.hour, now.minute, now.second]\n",
    "# 현재 날짜와 시각 출력하기\n",
    "print(\"현재 날짜 및 시각 : \", date_list)\n",
    "\n",
    "# 제출 파일 생성\n",
    "\n",
    "submission['Survived'] = y_preds\n",
    "submission.to_csv(f'submission_DescisionTree_xgb_{date_list[0]}_{date_list[1]}_{date_list[2]}_{date_list[3]}_{date_list[4]}.csv')"
   ],
   "metadata": {
    "collapsed": false,
    "pycharm": {
     "name": "#%%\n"
    }
   }
  },
  {
   "cell_type": "markdown",
   "source": [
    "## RandomForest"
   ],
   "metadata": {
    "collapsed": false,
    "pycharm": {
     "name": "#%% md\n"
    }
   }
  },
  {
   "cell_type": "code",
   "execution_count": 85,
   "outputs": [],
   "source": [
    "from sklearn.model_selection import train_test_split\n",
    "#\n",
    "num_train = len(train) # 훈련 데이터 개수\n",
    "\n",
    "# 훈련 데이터와 테스트 데이터 나누기\n",
    "\n",
    "X_train= all_data_sprs[:num_train] # 0~num_train -1 행\n",
    "X_test = all_data_sprs[num_train:] # num_train ~ 마지막 행\n",
    "\n",
    "y_train = train['Survived'].values\n",
    "\n",
    "\n",
    "# ########################################\n",
    "# # 데이터 분할\n",
    "# num_train = len(train) # 훈련 데이터 개수\n",
    "#\n",
    "# # 훈련 데이터와 테스트 데이터 나누기\n",
    "#\n",
    "# X= all_data_sprs[:num_train] # 0~num_train -1 행\n",
    "# X_test = all_data_sprs[num_train:] # num_train ~ 마지막 행\n",
    "#\n",
    "# y = train['Survived'].values\n",
    "#\n",
    "#\n",
    "# X_train , X_valid , y_train, y_valid = train_test_split(X,y, test_size = 0.2, random_state=0)\n",
    "# y_test = submission['Survived'].values"
   ],
   "metadata": {
    "collapsed": false,
    "pycharm": {
     "name": "#%%\n"
    }
   }
  },
  {
   "cell_type": "code",
   "execution_count": 86,
   "outputs": [
    {
     "name": "stdout",
     "output_type": "stream",
     "text": [
      "Best Model (Random Forest): RandomForestClassifier(min_samples_leaf=4, min_samples_split=5,\n",
      "                       n_estimators=300)\n",
      "Best Parameters (Random Forest): {'max_depth': None, 'min_samples_leaf': 4, 'min_samples_split': 5, 'n_estimators': 300}\n"
     ]
    }
   ],
   "source": [
    "from sklearn.ensemble import RandomForestClassifier\n",
    "from sklearn.model_selection import GridSearchCV\n",
    "\n",
    "# Random Forest 모델 생성\n",
    "rf_model = RandomForestClassifier()\n",
    "\n",
    "# 그리드 서치를 위한 하이퍼파라미터 그리드 준비\n",
    "param_grid_rf = {\n",
    "    'n_estimators': [100, 200, 300],\n",
    "    'max_depth': [None, 5, 10],\n",
    "    'min_samples_split': [2, 5, 10],\n",
    "    'min_samples_leaf': [1, 2, 4]\n",
    "}\n",
    "\n",
    "# 그리드 서치 객체 생성\n",
    "grid_search_rf = GridSearchCV(rf_model, param_grid_rf, cv=5, n_jobs=-1)\n",
    "\n",
    "# 그리드 서치 수행\n",
    "grid_search_rf.fit(X_train, y_train)\n",
    "\n",
    "# 최적의 모델 및 파라미터 출력\n",
    "best_model_grid_search_rf = grid_search_rf.best_estimator_\n",
    "best_params_grid_search_rf = grid_search_rf.best_params_\n",
    "print(\"Best Model (Random Forest):\", best_model_grid_search_rf)\n",
    "print(\"Best Parameters (Random Forest):\", best_params_grid_search_rf)\n"
   ],
   "metadata": {
    "collapsed": false,
    "pycharm": {
     "name": "#%%\n"
    }
   }
  },
  {
   "cell_type": "code",
   "execution_count": 87,
   "outputs": [
    {
     "data": {
      "text/plain": "array([0, 0, 0, 0, 1, 0, 1, 0, 1, 0, 0, 0, 1, 0, 1, 1, 0, 0, 0, 1, 0, 1,\n       1, 0, 1, 0, 1, 0, 0, 0, 0, 0, 1, 0, 0, 0, 0, 0, 0, 0, 0, 0, 0, 1,\n       1, 0, 0, 0, 1, 1, 0, 0, 1, 1, 0, 0, 0, 0, 0, 1, 0, 0, 0, 1, 1, 1,\n       1, 0, 0, 1, 1, 0, 0, 1, 1, 0, 0, 1, 0, 1, 1, 0, 0, 0, 0, 0, 1, 0,\n       1, 1, 1, 0, 1, 0, 0, 0, 1, 0, 1, 0, 1, 0, 0, 0, 1, 0, 0, 0, 0, 0,\n       0, 1, 1, 1, 1, 0, 0, 1, 0, 1, 1, 0, 1, 0, 0, 1, 0, 1, 0, 0, 0, 0,\n       0, 0, 0, 0, 0, 0, 0, 0, 0, 1, 0, 0, 0, 0, 0, 0, 0, 0, 1, 0, 0, 1,\n       0, 0, 1, 1, 0, 1, 1, 1, 1, 0, 0, 1, 0, 0, 1, 0, 0, 0, 0, 0, 0, 1,\n       1, 0, 1, 1, 0, 1, 1, 0, 1, 0, 1, 0, 0, 0, 0, 0, 1, 0, 1, 0, 1, 1,\n       0, 1, 1, 1, 1, 1, 0, 0, 1, 0, 1, 0, 0, 0, 0, 1, 0, 0, 1, 0, 1, 0,\n       1, 0, 1, 0, 1, 1, 0, 1, 0, 0, 0, 1, 0, 0, 0, 0, 0, 0, 1, 1, 1, 1,\n       0, 0, 0, 0, 1, 0, 1, 1, 1, 0, 0, 0, 0, 0, 0, 0, 1, 0, 0, 0, 1, 1,\n       0, 0, 0, 0, 0, 0, 0, 0, 1, 1, 0, 1, 0, 0, 0, 0, 0, 1, 1, 1, 1, 0,\n       0, 0, 0, 0, 0, 1, 0, 1, 0, 0, 1, 0, 0, 0, 0, 0, 0, 0, 1, 1, 0, 1,\n       0, 0, 0, 0, 0, 1, 1, 1, 0, 0, 0, 0, 0, 0, 0, 0, 1, 0, 1, 0, 0, 0,\n       1, 0, 0, 1, 0, 0, 0, 0, 0, 1, 0, 0, 0, 1, 1, 1, 0, 1, 0, 1, 1, 0,\n       0, 0, 1, 0, 1, 0, 0, 1, 0, 1, 1, 0, 1, 0, 0, 0, 1, 0, 0, 1, 0, 0,\n       1, 1, 0, 0, 0, 0, 0, 0, 1, 1, 0, 1, 0, 0, 0, 0, 0, 1, 1, 0, 0, 1,\n       0, 1, 0, 0, 1, 0, 1, 0, 0, 0, 0, 0, 1, 1, 1, 1, 1, 0, 1, 0, 0, 1],\n      dtype=int64)"
     },
     "execution_count": 87,
     "metadata": {},
     "output_type": "execute_result"
    }
   ],
   "source": [
    "y_preds = best_model_grid_search_rf.predict(X_test)\n",
    "\n",
    "y_preds"
   ],
   "metadata": {
    "collapsed": false,
    "pycharm": {
     "name": "#%%\n"
    }
   }
  },
  {
   "cell_type": "code",
   "execution_count": 88,
   "outputs": [
    {
     "name": "stdout",
     "output_type": "stream",
     "text": [
      "Decsion Tree에 대한 점수 : 0.8619528619528619\n"
     ]
    }
   ],
   "source": [
    "print(f'Decsion Tree에 대한 점수 : {best_model_grid_search_rf.score(X_train , y_train)}')"
   ],
   "metadata": {
    "collapsed": false,
    "pycharm": {
     "name": "#%%\n"
    }
   }
  },
  {
   "cell_type": "code",
   "execution_count": 89,
   "outputs": [],
   "source": [
    "from sklearn.model_selection import train_test_split\n",
    "#\n",
    "# num_train = len(train) # 훈련 데이터 개수\n",
    "#\n",
    "# # 훈련 데이터와 테스트 데이터 나누기\n",
    "#\n",
    "# X_train= all_data_sprs[:num_train] # 0~num_train -1 행\n",
    "# X_test = all_data_sprs[num_train:] # num_train ~ 마지막 행\n",
    "#\n",
    "# y_train = train['Survived'].values\n",
    "\n",
    "\n",
    "# ########################################\n",
    "# # 데이터 분할\n",
    "num_train = len(train) # 훈련 데이터 개수\n",
    "\n",
    "# 훈련 데이터와 테스트 데이터 나누기\n",
    "\n",
    "X= all_data_sprs[:num_train] # 0~num_train -1 행\n",
    "X_test = all_data_sprs[num_train:] # num_train ~ 마지막 행\n",
    "\n",
    "y = train['Survived'].values\n",
    "\n",
    "\n",
    "X_train , X_valid , y_train, y_valid = train_test_split(X,y, test_size = 0.2, random_state=0)\n",
    "y_test = submission['Survived'].values"
   ],
   "metadata": {
    "collapsed": false,
    "pycharm": {
     "name": "#%%\n"
    }
   }
  },
  {
   "cell_type": "code",
   "execution_count": 90,
   "outputs": [
    {
     "name": "stdout",
     "output_type": "stream",
     "text": [
      "Decsion Tree에 대한 점수 : 0.8770949720670391\n"
     ]
    }
   ],
   "source": [
    "print(f'Decsion Tree에 대한 점수 : {best_model_grid_search_rf.score(X_valid , y_valid)}')"
   ],
   "metadata": {
    "collapsed": false,
    "pycharm": {
     "name": "#%%\n"
    }
   }
  },
  {
   "cell_type": "code",
   "execution_count": 91,
   "outputs": [
    {
     "name": "stdout",
     "output_type": "stream",
     "text": [
      "현재 날짜 및 시각 :  [5, 24, 16, 32, 26]\n"
     ]
    }
   ],
   "source": [
    "import datetime\n",
    "\n",
    "# 현재 날짜와 시각 구하기\n",
    "now = datetime.datetime.now()\n",
    "date_list = [now.month, now.day, now.hour, now.minute, now.second]\n",
    "# 현재 날짜와 시각 출력하기\n",
    "print(\"현재 날짜 및 시각 : \", date_list)\n",
    "\n",
    "# 제출 파일 생성\n",
    "\n",
    "submission['Survived'] = y_preds\n",
    "submission.to_csv(f'submission_DescisionTree_rf_{date_list[0]}_{date_list[1]}_{date_list[2]}_{date_list[3]}_{date_list[4]}.csv')"
   ],
   "metadata": {
    "collapsed": false,
    "pycharm": {
     "name": "#%%\n"
    }
   }
  },
  {
   "cell_type": "markdown",
   "source": [
    "## 앙상블 학습"
   ],
   "metadata": {
    "collapsed": false,
    "pycharm": {
     "name": "#%% md\n"
    }
   }
  },
  {
   "cell_type": "code",
   "execution_count": 91,
   "outputs": [],
   "source": [],
   "metadata": {
    "collapsed": false,
    "pycharm": {
     "name": "#%%\n"
    }
   }
  },
  {
   "cell_type": "code",
   "execution_count": 92,
   "outputs": [],
   "source": [
    "from sklearn.model_selection import train_test_split\n",
    "#\n",
    "num_train = len(train) # 훈련 데이터 개수\n",
    "\n",
    "# 훈련 데이터와 테스트 데이터 나누기\n",
    "\n",
    "X_train= all_data_sprs[:num_train] # 0~num_train -1 행\n",
    "X_test = all_data_sprs[num_train:] # num_train ~ 마지막 행\n",
    "\n",
    "y_train = train['Survived'].values\n",
    "\n",
    "\n",
    "# ########################################\n",
    "# # 데이터 분할\n",
    "# num_train = len(train) # 훈련 데이터 개수\n",
    "#\n",
    "# # 훈련 데이터와 테스트 데이터 나누기\n",
    "#\n",
    "# X= all_data_sprs[:num_train] # 0~num_train -1 행\n",
    "# X_test = all_data_sprs[num_train:] # num_train ~ 마지막 행\n",
    "#\n",
    "# y = train['Survived'].values\n",
    "#\n",
    "#\n",
    "# X_train , X_valid , y_train, y_valid = train_test_split(X,y, test_size = 0.2, random_state=0)\n",
    "# y_test = submission['Survived'].values"
   ],
   "metadata": {
    "collapsed": false,
    "pycharm": {
     "name": "#%%\n"
    }
   }
  },
  {
   "cell_type": "code",
   "execution_count": 93,
   "outputs": [],
   "source": [
    "from sklearn.ensemble import VotingClassifier\n",
    "\n",
    "# 최적의 모델들 생성\n",
    "best_model_log = gridsearch_logistic_model\n",
    "best_model_dc_Tree = grid_search.best_estimator_\n",
    "best_model_rf = grid_search_rf.best_estimator_\n",
    "best_model_xgb = grid_search_xgb.best_estimator_\n",
    "best_model_lgb = grid_search_lgb.best_estimator_\n",
    "\n",
    "# 앙상블 모델 생성\n",
    "ensemble_model = VotingClassifier(\n",
    "    estimators=[('log', best_model_log),('dcT', best_model_dc_Tree),('rf', best_model_rf), ('xgb', best_model_xgb), ('lgb', best_model_lgb)],\n",
    "    voting='soft'  # 소프트 보팅 방식 사용 (확률 기반)\n",
    ")\n",
    "\n",
    "# 앙상블 모델 훈련\n",
    "ensemble_model.fit(X_train, y_train)\n",
    "\n",
    "# 앙상블 모델 예측\n",
    "ensemble_predictions = ensemble_model.predict(X_test)\n"
   ],
   "metadata": {
    "collapsed": false,
    "pycharm": {
     "name": "#%%\n"
    }
   }
  },
  {
   "cell_type": "code",
   "execution_count": 94,
   "outputs": [
    {
     "data": {
      "text/plain": "array([0, 0, 0, 0, 1, 0, 1, 0, 1, 0, 0, 0, 1, 0, 1, 1, 0, 0, 0, 0, 0, 1,\n       1, 0, 1, 0, 1, 0, 0, 0, 0, 0, 1, 0, 0, 0, 0, 0, 0, 0, 0, 0, 0, 1,\n       1, 0, 0, 0, 1, 1, 0, 0, 1, 1, 0, 0, 0, 0, 0, 1, 0, 0, 0, 1, 1, 1,\n       1, 0, 1, 1, 1, 0, 0, 1, 1, 1, 0, 1, 0, 1, 1, 0, 0, 0, 0, 0, 1, 0,\n       0, 1, 1, 0, 1, 0, 0, 0, 1, 0, 1, 0, 1, 0, 0, 0, 1, 0, 0, 0, 0, 0,\n       0, 1, 1, 1, 1, 0, 0, 1, 1, 1, 1, 0, 1, 0, 0, 0, 0, 1, 0, 0, 0, 0,\n       0, 0, 0, 0, 0, 0, 0, 0, 0, 1, 0, 0, 0, 0, 0, 0, 0, 0, 1, 0, 0, 1,\n       0, 0, 1, 1, 0, 1, 1, 1, 1, 0, 0, 1, 0, 0, 1, 0, 0, 0, 0, 0, 0, 1,\n       1, 0, 1, 1, 0, 1, 1, 0, 1, 0, 1, 0, 0, 0, 0, 0, 1, 0, 1, 0, 1, 1,\n       0, 1, 1, 1, 1, 1, 0, 0, 0, 0, 1, 0, 0, 0, 0, 1, 0, 0, 1, 0, 1, 0,\n       1, 0, 1, 0, 1, 1, 0, 1, 0, 0, 0, 1, 0, 0, 1, 0, 0, 0, 1, 1, 1, 1,\n       0, 0, 1, 0, 1, 0, 1, 1, 1, 0, 0, 0, 0, 0, 0, 0, 1, 0, 0, 0, 1, 1,\n       0, 0, 0, 0, 0, 0, 0, 0, 1, 1, 0, 1, 0, 0, 0, 0, 0, 1, 1, 1, 1, 0,\n       0, 0, 0, 0, 0, 1, 0, 0, 0, 0, 1, 0, 0, 0, 0, 0, 0, 0, 1, 1, 0, 1,\n       0, 0, 0, 0, 0, 0, 1, 1, 0, 0, 0, 0, 0, 0, 0, 0, 1, 0, 1, 0, 0, 0,\n       1, 1, 0, 1, 0, 0, 0, 0, 0, 0, 0, 0, 0, 1, 1, 1, 0, 0, 0, 1, 1, 0,\n       0, 0, 1, 0, 1, 0, 0, 1, 0, 1, 1, 0, 1, 0, 0, 0, 1, 0, 0, 1, 0, 0,\n       1, 1, 1, 0, 0, 0, 0, 0, 1, 0, 0, 1, 0, 0, 0, 0, 0, 1, 1, 0, 0, 1,\n       0, 1, 0, 0, 1, 0, 1, 0, 0, 0, 0, 0, 1, 1, 1, 1, 1, 0, 1, 0, 0, 1],\n      dtype=int64)"
     },
     "execution_count": 94,
     "metadata": {},
     "output_type": "execute_result"
    }
   ],
   "source": [
    "y_preds = ensemble_predictions\n",
    "\n",
    "y_preds"
   ],
   "metadata": {
    "collapsed": false,
    "pycharm": {
     "name": "#%%\n"
    }
   }
  },
  {
   "cell_type": "code",
   "execution_count": 95,
   "outputs": [
    {
     "name": "stdout",
     "output_type": "stream",
     "text": [
      "0.8742985409652076\n"
     ]
    }
   ],
   "source": [
    "print(ensemble_model.score(X_train, y_train))"
   ],
   "metadata": {
    "collapsed": false,
    "pycharm": {
     "name": "#%%\n"
    }
   }
  },
  {
   "cell_type": "code",
   "execution_count": 96,
   "outputs": [],
   "source": [
    "from sklearn.model_selection import train_test_split\n",
    "#\n",
    "# num_train = len(train) # 훈련 데이터 개수\n",
    "#\n",
    "# # 훈련 데이터와 테스트 데이터 나누기\n",
    "#\n",
    "# X_train= all_data_sprs[:num_train] # 0~num_train -1 행\n",
    "# X_test = all_data_sprs[num_train:] # num_train ~ 마지막 행\n",
    "#\n",
    "# y_train = train['Survived'].values\n",
    "\n",
    "\n",
    "# ########################################\n",
    "# # 데이터 분할\n",
    "num_train = len(train) # 훈련 데이터 개수\n",
    "\n",
    "# 훈련 데이터와 테스트 데이터 나누기\n",
    "\n",
    "X= all_data_sprs[:num_train] # 0~num_train -1 행\n",
    "X_test = all_data_sprs[num_train:] # num_train ~ 마지막 행\n",
    "\n",
    "y = train['Survived'].values\n",
    "\n",
    "\n",
    "X_train , X_valid , y_train, y_valid = train_test_split(X,y, test_size = 0.2, random_state=0)\n",
    "y_test = submission['Survived'].values"
   ],
   "metadata": {
    "collapsed": false,
    "pycharm": {
     "name": "#%%\n"
    }
   }
  },
  {
   "cell_type": "code",
   "execution_count": 97,
   "outputs": [
    {
     "name": "stdout",
     "output_type": "stream",
     "text": [
      "0.888268156424581\n"
     ]
    }
   ],
   "source": [
    "print(ensemble_model.score(X_valid , y_valid))"
   ],
   "metadata": {
    "collapsed": false,
    "pycharm": {
     "name": "#%%\n"
    }
   }
  },
  {
   "cell_type": "code",
   "execution_count": 98,
   "outputs": [
    {
     "name": "stdout",
     "output_type": "stream",
     "text": [
      "현재 날짜 및 시각 :  [5, 24, 16, 32, 30]\n"
     ]
    }
   ],
   "source": [
    "import datetime\n",
    "\n",
    "# 현재 날짜와 시각 구하기\n",
    "now = datetime.datetime.now()\n",
    "date_list = [now.month, now.day, now.hour, now.minute, now.second]\n",
    "# 현재 날짜와 시각 출력하기\n",
    "print(\"현재 날짜 및 시각 : \", date_list)\n",
    "\n",
    "# 제출 파일 생성\n",
    "\n",
    "submission['Survived'] = y_preds\n",
    "submission.to_csv(f'submission_ensemble_{date_list[0]}_{date_list[1]}_{date_list[2]}_{date_list[3]}_{date_list[4]}.csv')"
   ],
   "metadata": {
    "collapsed": false,
    "pycharm": {
     "name": "#%%\n"
    }
   }
  },
  {
   "cell_type": "code",
   "execution_count": 99,
   "outputs": [],
   "source": [
    "from sklearn.model_selection import train_test_split\n",
    "#\n",
    "num_train = len(train) # 훈련 데이터 개수\n",
    "\n",
    "# 훈련 데이터와 테스트 데이터 나누기\n",
    "\n",
    "X_train= all_data_sprs[:num_train] # 0~num_train -1 행\n",
    "X_test = all_data_sprs[num_train:] # num_train ~ 마지막 행\n",
    "\n",
    "y_train = train['Survived'].values\n",
    "\n",
    "\n",
    "# ########################################\n",
    "# # 데이터 분할\n",
    "# num_train = len(train) # 훈련 데이터 개수\n",
    "#\n",
    "# # 훈련 데이터와 테스트 데이터 나누기\n",
    "#\n",
    "# X= all_data_sprs[:num_train] # 0~num_train -1 행\n",
    "# X_test = all_data_sprs[num_train:] # num_train ~ 마지막 행\n",
    "#\n",
    "# y = train['Survived'].values\n",
    "#\n",
    "#\n",
    "# X_train , X_valid , y_train, y_valid = train_test_split(X,y, test_size = 0.2, random_state=0)\n",
    "# y_test = submission['Survived'].values"
   ],
   "metadata": {
    "collapsed": false,
    "pycharm": {
     "name": "#%%\n"
    }
   }
  },
  {
   "cell_type": "code",
   "execution_count": 100,
   "outputs": [
    {
     "name": "stdout",
     "output_type": "stream",
     "text": [
      "Correlation Matrix:\n",
      "[[1.    0.687 0.754 0.754 0.743]\n",
      " [0.687 1.    0.787 0.796 0.806]\n",
      " [0.754 0.787 1.    0.969 0.928]\n",
      " [0.754 0.796 0.969 1.    0.948]\n",
      " [0.743 0.806 0.928 0.948 1.   ]]\n"
     ]
    }
   ],
   "source": [
    "import numpy as np\n",
    "\n",
    "# 모델들의 예측 결과 가져오기\n",
    "pred_logistic = gridsearch_logistic_model.predict(X_test)\n",
    "pred_dc = best_model_grid_search_dc.predict(X_test)\n",
    "pred_rf = best_model_grid_search_rf.predict(X_test)\n",
    "pred_xgb = best_model_grid_search_xgb.predict(X_test)\n",
    "pred_lgb = best_model_grid_search_lgb.predict(X_test)\n",
    "\n",
    "# 예측 결과를 numpy 배열로 변환\n",
    "preds = np.array([pred_logistic, pred_dc, pred_rf, pred_xgb, pred_lgb])\n",
    "\n",
    "# 상관 계수 계산\n",
    "correlation_matrix = np.corrcoef(preds)\n",
    "\n",
    "print(\"Correlation Matrix:\")\n",
    "print(correlation_matrix)"
   ],
   "metadata": {
    "collapsed": false,
    "pycharm": {
     "name": "#%%\n"
    }
   }
  },
  {
   "cell_type": "markdown",
   "source": [
    "## 앙상블 다시 개별 학습"
   ],
   "metadata": {
    "collapsed": false,
    "pycharm": {
     "name": "#%% md\n"
    }
   }
  },
  {
   "cell_type": "code",
   "execution_count": 101,
   "outputs": [],
   "source": [
    "from sklearn.model_selection import GridSearchCV\n",
    "from sklearn.tree import DecisionTreeClassifier\n",
    "from sklearn.ensemble import RandomForestClassifier\n",
    "import xgboost as xgb\n",
    "import lightgbm as lgb\n",
    "from sklearn.linear_model import LogisticRegression\n",
    "from sklearn.metrics import accuracy_score\n",
    "\n",
    "# 개별 모델 생성\n",
    "model_logistic = LogisticRegression()\n",
    "model_dc_tree = DecisionTreeClassifier()\n",
    "model_rf = RandomForestClassifier()\n",
    "model_xgb = xgb.XGBClassifier()\n",
    "model_lgb = lgb.LGBMClassifier()\n",
    "\n",
    "# 개별 모델의 하이퍼파라미터 그리드 준비\n",
    "param_grid_logistic = {'C': [0.1, 0.5, 1.0], 'max_iter': [100, 200, 500]}\n",
    "param_grid_dc_tree = {'max_depth': [3, 5, 7], 'min_samples_split': [2, 5, 10]}\n",
    "param_grid_rf = {'n_estimators': [100, 200, 500], 'max_depth': [None, 5, 10]}\n",
    "param_grid_xgb = {'max_depth': [3, 5, 7], 'learning_rate': [0.1, 0.01, 0.001]}\n",
    "param_grid_lgb = {'max_depth': [3, 5, 7], 'learning_rate': [0.1, 0.01, 0.001]}\n",
    "\n",
    "# 개별 모델의 그리드 서치 객체 생성\n",
    "grid_search_logistic = GridSearchCV(model_logistic, param_grid_logistic, cv=5)\n",
    "grid_search_dc_tree = GridSearchCV(model_dc_tree, param_grid_dc_tree, cv=5)\n",
    "grid_search_rf = GridSearchCV(model_rf, param_grid_rf, cv=5)\n",
    "grid_search_xgb = GridSearchCV(model_xgb, param_grid_xgb, cv=5)\n",
    "grid_search_lgb = GridSearchCV(model_lgb, param_grid_lgb, cv=5)\n",
    "\n",
    "# 개별 모델의 그리드 서치 수행\n",
    "grid_search_logistic.fit(X_train, y_train)\n",
    "grid_search_dc_tree.fit(X_train, y_train)\n",
    "grid_search_rf.fit(X_train, y_train)\n",
    "grid_search_xgb.fit(X_train, y_train)\n",
    "grid_search_lgb.fit(X_train, y_train)\n",
    "\n",
    "# 최적의 개별 모델 및 파라미터 출력\n",
    "best_model_logistic = grid_search_logistic.best_estimator_\n",
    "best_model_dc_tree = grid_search_dc_tree.best_estimator_\n",
    "best_model_rf = grid_search_rf.best_estimator_\n",
    "best_model_xgb = grid_search_xgb.best_estimator_\n",
    "best_model_lgb = grid_search_lgb.best_estimator_\n",
    "\n",
    "# 앙상블 모델 생성\n",
    "ensemble_model = VotingClassifier(\n",
    "    estimators=[\n",
    "        ('log', best_model_logistic),\n",
    "        ('dcT', best_model_dc_tree),\n",
    "        ('rf', best_model_rf),\n",
    "        ('xgb', best_model_xgb),\n",
    "        ('lgb', best_model_lgb)\n",
    "    ],\n",
    "    voting='soft'\n",
    ")\n"
   ],
   "metadata": {
    "collapsed": false,
    "pycharm": {
     "name": "#%%\n"
    }
   }
  },
  {
   "cell_type": "code",
   "execution_count": 102,
   "outputs": [
    {
     "name": "stdout",
     "output_type": "stream",
     "text": [
      "0.8832772166105499\n"
     ]
    }
   ],
   "source": [
    "\n",
    "# 앙상블 모델 훈련\n",
    "ensemble_model.fit(X_train, y_train)\n",
    "\n",
    "# 앙상블 모델 예측\n",
    "ensemble_predictions = ensemble_model.predict(X_test)\n",
    "print(ensemble_model.score(X_train, y_train))"
   ],
   "metadata": {
    "collapsed": false,
    "pycharm": {
     "name": "#%%\n"
    }
   }
  },
  {
   "cell_type": "code",
   "execution_count": 103,
   "outputs": [
    {
     "data": {
      "text/plain": "array([0, 0, 0, 0, 1, 0, 1, 0, 1, 0, 0, 0, 1, 0, 1, 1, 0, 0, 0, 0, 0, 1,\n       1, 0, 1, 0, 1, 0, 0, 0, 0, 0, 1, 0, 0, 0, 0, 0, 0, 0, 0, 0, 0, 1,\n       1, 0, 0, 0, 1, 1, 0, 0, 1, 1, 0, 0, 0, 0, 0, 1, 0, 0, 0, 1, 1, 1,\n       1, 0, 1, 1, 1, 0, 0, 1, 1, 1, 0, 1, 0, 1, 1, 0, 0, 0, 0, 0, 1, 0,\n       0, 1, 1, 0, 1, 0, 0, 0, 1, 0, 1, 0, 1, 0, 0, 0, 1, 0, 0, 0, 0, 0,\n       0, 1, 1, 1, 1, 0, 0, 1, 1, 1, 1, 0, 1, 0, 0, 1, 0, 1, 0, 0, 0, 1,\n       0, 0, 0, 0, 0, 0, 0, 0, 0, 1, 0, 0, 0, 0, 0, 0, 0, 0, 1, 0, 0, 1,\n       0, 0, 1, 1, 0, 1, 1, 1, 1, 0, 0, 1, 0, 0, 1, 0, 0, 0, 0, 0, 0, 1,\n       1, 0, 1, 1, 0, 1, 1, 0, 1, 0, 1, 0, 0, 0, 0, 0, 1, 0, 1, 0, 1, 1,\n       0, 1, 1, 1, 1, 1, 0, 0, 0, 0, 1, 0, 0, 0, 0, 1, 0, 0, 1, 0, 1, 0,\n       1, 0, 1, 0, 1, 1, 0, 1, 0, 0, 0, 1, 0, 0, 1, 0, 0, 0, 1, 1, 1, 1,\n       0, 0, 1, 0, 1, 0, 1, 1, 1, 0, 0, 0, 0, 0, 0, 0, 1, 0, 0, 0, 1, 1,\n       0, 0, 0, 0, 0, 0, 0, 0, 1, 1, 0, 1, 0, 0, 0, 0, 0, 1, 1, 1, 1, 0,\n       0, 0, 0, 0, 0, 1, 0, 1, 0, 0, 1, 0, 0, 0, 0, 0, 0, 0, 1, 1, 0, 1,\n       0, 0, 0, 0, 0, 0, 1, 1, 0, 0, 0, 0, 0, 0, 0, 0, 1, 0, 1, 0, 0, 0,\n       1, 1, 0, 1, 0, 1, 0, 0, 0, 0, 0, 0, 0, 1, 1, 1, 0, 0, 0, 1, 1, 0,\n       0, 0, 1, 0, 1, 0, 0, 1, 0, 1, 1, 0, 1, 0, 0, 0, 1, 0, 0, 1, 0, 0,\n       1, 1, 0, 0, 0, 0, 0, 0, 1, 1, 0, 1, 0, 0, 0, 0, 0, 1, 1, 0, 0, 1,\n       0, 1, 0, 0, 1, 0, 1, 0, 0, 1, 0, 0, 1, 1, 1, 1, 1, 0, 1, 0, 0, 1],\n      dtype=int64)"
     },
     "execution_count": 103,
     "metadata": {},
     "output_type": "execute_result"
    }
   ],
   "source": [
    "y_preds = ensemble_predictions\n",
    "\n",
    "y_preds"
   ],
   "metadata": {
    "collapsed": false,
    "pycharm": {
     "name": "#%%\n"
    }
   }
  },
  {
   "cell_type": "code",
   "execution_count": 104,
   "outputs": [
    {
     "name": "stdout",
     "output_type": "stream",
     "text": [
      "현재 날짜 및 시각 :  [5, 24, 16, 33, 6]\n"
     ]
    }
   ],
   "source": [
    "import datetime\n",
    "\n",
    "# 현재 날짜와 시각 구하기\n",
    "now = datetime.datetime.now()\n",
    "date_list = [now.month, now.day, now.hour, now.minute, now.second]\n",
    "# 현재 날짜와 시각 출력하기\n",
    "print(\"현재 날짜 및 시각 : \", date_list)\n",
    "\n",
    "# 제출 파일 생성\n",
    "\n",
    "submission['Survived'] = y_preds\n",
    "submission.to_csv(f'submission_ensemble2_{date_list[0]}_{date_list[1]}_{date_list[2]}_{date_list[3]}_{date_list[4]}.csv')"
   ],
   "metadata": {
    "collapsed": false,
    "pycharm": {
     "name": "#%%\n"
    }
   }
  },
  {
   "cell_type": "markdown",
   "source": [
    "## 그리드값 많이 넣어보자"
   ],
   "metadata": {
    "collapsed": false,
    "pycharm": {
     "name": "#%% md\n"
    }
   }
  },
  {
   "cell_type": "code",
   "execution_count": null,
   "outputs": [],
   "source": [
    "from sklearn.model_selection import train_test_split\n",
    "#\n",
    "num_train = len(train) # 훈련 데이터 개수\n",
    "\n",
    "# 훈련 데이터와 테스트 데이터 나누기\n",
    "\n",
    "X_train= all_data[:num_train] # 0~num_train -1 행\n",
    "X_test = all_data[num_train:] # num_train ~ 마지막 행\n",
    "\n",
    "y_train = train['Survived'].values\n",
    "\n",
    "\n",
    "# ########################################\n",
    "# # 데이터 분할\n",
    "# num_train = len(train) # 훈련 데이터 개수\n",
    "#\n",
    "# # 훈련 데이터와 테스트 데이터 나누기\n",
    "#\n",
    "# X= all_data_sprs[:num_train] # 0~num_train -1 행\n",
    "# X_test = all_data_sprs[num_train:] # num_train ~ 마지막 행\n",
    "#\n",
    "# y = train['Survived'].values\n",
    "#\n",
    "#\n",
    "# X_train , X_valid , y_train, y_valid = train_test_split(X,y, test_size = 0.2, random_state=0)\n",
    "# y_test = submission['Survived'].values"
   ],
   "metadata": {
    "collapsed": false,
    "pycharm": {
     "name": "#%%\n"
    }
   }
  },
  {
   "cell_type": "code",
   "execution_count": null,
   "outputs": [],
   "source": [
    "feature = [\n",
    "    'Pclass',\n",
    "    'Sex',\n",
    "    'SibSp',\n",
    "    'Parch',\n",
    "    'Embarked',\n",
    "    'Family',\n",
    "    'Name',\n",
    "    'Solo',\n",
    "    'Age_binned',\n",
    "    'Cabin',\n",
    "    'Fare_clean'\n",
    "]\n",
    "\n",
    "label = [\n",
    "    'Survived',\n",
    "]"
   ],
   "metadata": {
    "collapsed": false,
    "pycharm": {
     "name": "#%%\n"
    }
   }
  },
  {
   "cell_type": "code",
   "execution_count": null,
   "outputs": [],
   "source": [
    "X_train = X_train[feature]\n",
    "X_test = X_test[feature]\n"
   ],
   "metadata": {
    "collapsed": false,
    "pycharm": {
     "name": "#%%\n"
    }
   }
  },
  {
   "cell_type": "code",
   "execution_count": null,
   "outputs": [],
   "source": [
    "from sklearn.model_selection import GridSearchCV\n",
    "from sklearn.tree import DecisionTreeClassifier\n",
    "from sklearn.ensemble import RandomForestClassifier\n",
    "import xgboost as xgb\n",
    "import lightgbm as lgb\n",
    "from sklearn.linear_model import LogisticRegression\n",
    "from sklearn.metrics import accuracy_score\n",
    "\n",
    "# 개별 모델 생성\n",
    "model_logistic = LogisticRegression()\n",
    "model_dc_tree = DecisionTreeClassifier()\n",
    "model_rf = RandomForestClassifier()\n",
    "model_xgb = xgb.XGBClassifier()\n",
    "model_lgb = lgb.LGBMClassifier()\n",
    "\n",
    "# 개별 모델의 하이퍼파라미터 그리드 준비\n",
    "param_grid_logistic = {'C': [0.1, 0.5, 1.0], 'max_iter': [100, 200, 500]}\n",
    "param_grid_dc_tree = {'max_depth': [3, 5, 7], 'min_samples_split': [2, 5, 10]}\n",
    "param_grid_rf = {'n_estimators': [100, 200, 500], 'max_depth': [None, 5, 10]}\n",
    "param_grid_xgb = {'max_depth': [3, 5, 7], 'learning_rate': [0.1, 0.01, 0.001]}\n",
    "param_grid_lgb = {'max_depth': [3, 5, 7], 'learning_rate': [0.1, 0.01, 0.001]}\n",
    "\n",
    "# 개별 모델의 그리드 서치 객체 생성\n",
    "grid_search_logistic = GridSearchCV(model_logistic, param_grid_logistic, cv=5)\n",
    "grid_search_dc_tree = GridSearchCV(model_dc_tree, param_grid_dc_tree, cv=5)\n",
    "grid_search_rf = GridSearchCV(model_rf, param_grid_rf, cv=5)\n",
    "grid_search_xgb = GridSearchCV(model_xgb, param_grid_xgb, cv=5)\n",
    "grid_search_lgb = GridSearchCV(model_lgb, param_grid_lgb, cv=5)\n",
    "\n"
   ],
   "metadata": {
    "collapsed": false,
    "pycharm": {
     "name": "#%%\n"
    }
   }
  },
  {
   "cell_type": "code",
   "execution_count": null,
   "outputs": [],
   "source": [
    "\n",
    "# 개별 모델의 그리드 서치 수행\n",
    "grid_search_logistic.fit(X_train, y_train)\n",
    "grid_search_dc_tree.fit(X_train, y_train)\n",
    "grid_search_rf.fit(X_train, y_train)\n",
    "grid_search_xgb.fit(X_train, y_train)\n",
    "grid_search_lgb.fit(X_train, y_train)\n",
    "\n",
    "# 최적의 개별 모델 및 파라미터 출력\n",
    "best_model_logistic = grid_search_logistic.best_estimator_\n",
    "best_model_dc_tree = grid_search_dc_tree.best_estimator_\n",
    "best_model_rf = grid_search_rf.best_estimator_\n",
    "best_model_xgb = grid_search_xgb.best_estimator_\n",
    "best_model_lgb = grid_search_lgb.best_estimator_\n",
    "\n",
    "# 앙상블 모델 생성\n",
    "ensemble_model = VotingClassifier(\n",
    "    estimators=[\n",
    "        ('log', best_model_logistic),\n",
    "        ('dcT', best_model_dc_tree),\n",
    "        ('rf', best_model_rf),\n",
    "        ('xgb', best_model_xgb),\n",
    "        ('lgb', best_model_lgb)\n",
    "    ],\n",
    "    voting='soft'\n",
    ")"
   ],
   "metadata": {
    "collapsed": false,
    "pycharm": {
     "name": "#%%\n"
    }
   }
  },
  {
   "cell_type": "markdown",
   "source": [
    "# voting = 'hard'"
   ],
   "metadata": {
    "collapsed": false,
    "pycharm": {
     "name": "#%% md\n"
    }
   }
  },
  {
   "cell_type": "code",
   "execution_count": null,
   "outputs": [],
   "source": [],
   "metadata": {
    "collapsed": false,
    "pycharm": {
     "name": "#%%\n"
    }
   }
  },
  {
   "cell_type": "code",
   "execution_count": null,
   "outputs": [],
   "source": [],
   "metadata": {
    "collapsed": false,
    "pycharm": {
     "name": "#%%\n"
    }
   }
  },
  {
   "cell_type": "code",
   "execution_count": null,
   "outputs": [],
   "source": [],
   "metadata": {
    "collapsed": false,
    "pycharm": {
     "name": "#%%\n"
    }
   }
  },
  {
   "cell_type": "markdown",
   "source": [
    "## 블로그 따라잡기"
   ],
   "metadata": {
    "collapsed": false,
    "pycharm": {
     "name": "#%% md\n"
    }
   }
  },
  {
   "cell_type": "code",
   "execution_count": 122,
   "outputs": [
    {
     "data": {
      "text/plain": "             Name  Sex  Embarked  Age_binned  Fare_clean  Cabin  Family  \\\nPassengerId                                                               \n1             3.0  1.0       2.0         2.0         0.0    8.0     1.0   \n2             4.0  0.0       0.0         3.0         4.0    2.0     1.0   \n3             2.0  0.0       2.0         2.0         1.0    8.0     0.0   \n4             4.0  0.0       2.0         3.0         4.0    2.0     1.0   \n5             3.0  1.0       2.0         3.0         1.0    8.0     0.0   \n...           ...  ...       ...         ...         ...    ...     ...   \n1305          3.0  1.0       2.0         2.0         1.0    8.0     0.0   \n1306          6.0  0.0       0.0         3.0         4.0    2.0     0.0   \n1307          3.0  1.0       2.0         3.0         0.0    8.0     0.0   \n1308          3.0  1.0       2.0         2.0         1.0    8.0     0.0   \n1309          1.0  1.0       0.0         1.0         2.0    8.0     2.0   \n\n             Pclass  \nPassengerId          \n1               3.0  \n2               1.0  \n3               3.0  \n4               1.0  \n5               3.0  \n...             ...  \n1305            3.0  \n1306            1.0  \n1307            3.0  \n1308            3.0  \n1309            3.0  \n\n[1309 rows x 8 columns]",
      "text/html": "<div>\n<style scoped>\n    .dataframe tbody tr th:only-of-type {\n        vertical-align: middle;\n    }\n\n    .dataframe tbody tr th {\n        vertical-align: top;\n    }\n\n    .dataframe thead th {\n        text-align: right;\n    }\n</style>\n<table border=\"1\" class=\"dataframe\">\n  <thead>\n    <tr style=\"text-align: right;\">\n      <th></th>\n      <th>Name</th>\n      <th>Sex</th>\n      <th>Embarked</th>\n      <th>Age_binned</th>\n      <th>Fare_clean</th>\n      <th>Cabin</th>\n      <th>Family</th>\n      <th>Pclass</th>\n    </tr>\n    <tr>\n      <th>PassengerId</th>\n      <th></th>\n      <th></th>\n      <th></th>\n      <th></th>\n      <th></th>\n      <th></th>\n      <th></th>\n      <th></th>\n    </tr>\n  </thead>\n  <tbody>\n    <tr>\n      <th>1</th>\n      <td>3.0</td>\n      <td>1.0</td>\n      <td>2.0</td>\n      <td>2.0</td>\n      <td>0.0</td>\n      <td>8.0</td>\n      <td>1.0</td>\n      <td>3.0</td>\n    </tr>\n    <tr>\n      <th>2</th>\n      <td>4.0</td>\n      <td>0.0</td>\n      <td>0.0</td>\n      <td>3.0</td>\n      <td>4.0</td>\n      <td>2.0</td>\n      <td>1.0</td>\n      <td>1.0</td>\n    </tr>\n    <tr>\n      <th>3</th>\n      <td>2.0</td>\n      <td>0.0</td>\n      <td>2.0</td>\n      <td>2.0</td>\n      <td>1.0</td>\n      <td>8.0</td>\n      <td>0.0</td>\n      <td>3.0</td>\n    </tr>\n    <tr>\n      <th>4</th>\n      <td>4.0</td>\n      <td>0.0</td>\n      <td>2.0</td>\n      <td>3.0</td>\n      <td>4.0</td>\n      <td>2.0</td>\n      <td>1.0</td>\n      <td>1.0</td>\n    </tr>\n    <tr>\n      <th>5</th>\n      <td>3.0</td>\n      <td>1.0</td>\n      <td>2.0</td>\n      <td>3.0</td>\n      <td>1.0</td>\n      <td>8.0</td>\n      <td>0.0</td>\n      <td>3.0</td>\n    </tr>\n    <tr>\n      <th>...</th>\n      <td>...</td>\n      <td>...</td>\n      <td>...</td>\n      <td>...</td>\n      <td>...</td>\n      <td>...</td>\n      <td>...</td>\n      <td>...</td>\n    </tr>\n    <tr>\n      <th>1305</th>\n      <td>3.0</td>\n      <td>1.0</td>\n      <td>2.0</td>\n      <td>2.0</td>\n      <td>1.0</td>\n      <td>8.0</td>\n      <td>0.0</td>\n      <td>3.0</td>\n    </tr>\n    <tr>\n      <th>1306</th>\n      <td>6.0</td>\n      <td>0.0</td>\n      <td>0.0</td>\n      <td>3.0</td>\n      <td>4.0</td>\n      <td>2.0</td>\n      <td>0.0</td>\n      <td>1.0</td>\n    </tr>\n    <tr>\n      <th>1307</th>\n      <td>3.0</td>\n      <td>1.0</td>\n      <td>2.0</td>\n      <td>3.0</td>\n      <td>0.0</td>\n      <td>8.0</td>\n      <td>0.0</td>\n      <td>3.0</td>\n    </tr>\n    <tr>\n      <th>1308</th>\n      <td>3.0</td>\n      <td>1.0</td>\n      <td>2.0</td>\n      <td>2.0</td>\n      <td>1.0</td>\n      <td>8.0</td>\n      <td>0.0</td>\n      <td>3.0</td>\n    </tr>\n    <tr>\n      <th>1309</th>\n      <td>1.0</td>\n      <td>1.0</td>\n      <td>0.0</td>\n      <td>1.0</td>\n      <td>2.0</td>\n      <td>8.0</td>\n      <td>2.0</td>\n      <td>3.0</td>\n    </tr>\n  </tbody>\n</table>\n<p>1309 rows × 8 columns</p>\n</div>"
     },
     "execution_count": 122,
     "metadata": {},
     "output_type": "execute_result"
    }
   ],
   "source": [
    "all_data_2"
   ],
   "metadata": {
    "collapsed": false,
    "pycharm": {
     "name": "#%%\n"
    }
   }
  },
  {
   "cell_type": "code",
   "execution_count": 123,
   "outputs": [
    {
     "data": {
      "text/plain": "             Name  Sex  Embarked        Age  Age_binned  Pclass  SibSp  Parch  \\\nPassengerId                                                                     \n1               3    1         2  22.000000           2       3      1      0   \n2               4    0         0  38.000000           3       1      1      0   \n3               2    0         2  26.000000           2       3      0      0   \n4               4    0         2  35.000000           3       1      1      0   \n5               3    1         2  35.000000           3       3      0      0   \n...           ...  ...       ...        ...         ...     ...    ...    ...   \n1305            3    1         2  28.516607           2       3      0      0   \n1306            6    0         0  39.000000           3       1      0      0   \n1307            3    1         2  38.500000           3       3      0      0   \n1308            3    1         2  28.516607           2       3      0      0   \n1309            1    1         0  12.326040           1       3      1      1   \n\n            Survival  Cabin      Fare  Fare_binned  log_Fare  \\\nPassengerId                                                    \n1                 사망      8    7.2500          1.9  1.981001   \n2                 생존      2   71.2833          4.2  4.266662   \n3                 생존      8    7.9250          2.0  2.070022   \n4                 생존      2   53.1000          4.0  3.972177   \n5                 사망      8    8.0500          2.0  2.085672   \n...              ...    ...       ...          ...       ...   \n1305             NaN      8    8.0500          2.0  2.085672   \n1306             NaN      2  108.9000          4.6  4.690430   \n1307             NaN      8    7.2500          1.9  1.981001   \n1308             NaN      8    8.0500          2.0  2.085672   \n1309             NaN      8   22.3583          3.1  3.107198   \n\n                      FareBin  Fare_clean  Family   Solo  \nPassengerId                                               \n1               (3.17, 7.879]           0       2  False  \n2            (46.06, 512.329]           4       2  False  \n3             (7.879, 11.293]           1       1   True  \n4            (46.06, 512.329]           4       2  False  \n5             (7.879, 11.293]           1       1   True  \n...                       ...         ...     ...    ...  \n1305          (7.879, 11.293]           1       1   True  \n1306         (46.06, 512.329]           4       1   True  \n1307            (3.17, 7.879]           0       1   True  \n1308          (7.879, 11.293]           1       1   True  \n1309         (11.293, 22.358]           2       3  False  \n\n[1309 rows x 17 columns]",
      "text/html": "<div>\n<style scoped>\n    .dataframe tbody tr th:only-of-type {\n        vertical-align: middle;\n    }\n\n    .dataframe tbody tr th {\n        vertical-align: top;\n    }\n\n    .dataframe thead th {\n        text-align: right;\n    }\n</style>\n<table border=\"1\" class=\"dataframe\">\n  <thead>\n    <tr style=\"text-align: right;\">\n      <th></th>\n      <th>Name</th>\n      <th>Sex</th>\n      <th>Embarked</th>\n      <th>Age</th>\n      <th>Age_binned</th>\n      <th>Pclass</th>\n      <th>SibSp</th>\n      <th>Parch</th>\n      <th>Survival</th>\n      <th>Cabin</th>\n      <th>Fare</th>\n      <th>Fare_binned</th>\n      <th>log_Fare</th>\n      <th>FareBin</th>\n      <th>Fare_clean</th>\n      <th>Family</th>\n      <th>Solo</th>\n    </tr>\n    <tr>\n      <th>PassengerId</th>\n      <th></th>\n      <th></th>\n      <th></th>\n      <th></th>\n      <th></th>\n      <th></th>\n      <th></th>\n      <th></th>\n      <th></th>\n      <th></th>\n      <th></th>\n      <th></th>\n      <th></th>\n      <th></th>\n      <th></th>\n      <th></th>\n      <th></th>\n    </tr>\n  </thead>\n  <tbody>\n    <tr>\n      <th>1</th>\n      <td>3</td>\n      <td>1</td>\n      <td>2</td>\n      <td>22.000000</td>\n      <td>2</td>\n      <td>3</td>\n      <td>1</td>\n      <td>0</td>\n      <td>사망</td>\n      <td>8</td>\n      <td>7.2500</td>\n      <td>1.9</td>\n      <td>1.981001</td>\n      <td>(3.17, 7.879]</td>\n      <td>0</td>\n      <td>2</td>\n      <td>False</td>\n    </tr>\n    <tr>\n      <th>2</th>\n      <td>4</td>\n      <td>0</td>\n      <td>0</td>\n      <td>38.000000</td>\n      <td>3</td>\n      <td>1</td>\n      <td>1</td>\n      <td>0</td>\n      <td>생존</td>\n      <td>2</td>\n      <td>71.2833</td>\n      <td>4.2</td>\n      <td>4.266662</td>\n      <td>(46.06, 512.329]</td>\n      <td>4</td>\n      <td>2</td>\n      <td>False</td>\n    </tr>\n    <tr>\n      <th>3</th>\n      <td>2</td>\n      <td>0</td>\n      <td>2</td>\n      <td>26.000000</td>\n      <td>2</td>\n      <td>3</td>\n      <td>0</td>\n      <td>0</td>\n      <td>생존</td>\n      <td>8</td>\n      <td>7.9250</td>\n      <td>2.0</td>\n      <td>2.070022</td>\n      <td>(7.879, 11.293]</td>\n      <td>1</td>\n      <td>1</td>\n      <td>True</td>\n    </tr>\n    <tr>\n      <th>4</th>\n      <td>4</td>\n      <td>0</td>\n      <td>2</td>\n      <td>35.000000</td>\n      <td>3</td>\n      <td>1</td>\n      <td>1</td>\n      <td>0</td>\n      <td>생존</td>\n      <td>2</td>\n      <td>53.1000</td>\n      <td>4.0</td>\n      <td>3.972177</td>\n      <td>(46.06, 512.329]</td>\n      <td>4</td>\n      <td>2</td>\n      <td>False</td>\n    </tr>\n    <tr>\n      <th>5</th>\n      <td>3</td>\n      <td>1</td>\n      <td>2</td>\n      <td>35.000000</td>\n      <td>3</td>\n      <td>3</td>\n      <td>0</td>\n      <td>0</td>\n      <td>사망</td>\n      <td>8</td>\n      <td>8.0500</td>\n      <td>2.0</td>\n      <td>2.085672</td>\n      <td>(7.879, 11.293]</td>\n      <td>1</td>\n      <td>1</td>\n      <td>True</td>\n    </tr>\n    <tr>\n      <th>...</th>\n      <td>...</td>\n      <td>...</td>\n      <td>...</td>\n      <td>...</td>\n      <td>...</td>\n      <td>...</td>\n      <td>...</td>\n      <td>...</td>\n      <td>...</td>\n      <td>...</td>\n      <td>...</td>\n      <td>...</td>\n      <td>...</td>\n      <td>...</td>\n      <td>...</td>\n      <td>...</td>\n      <td>...</td>\n    </tr>\n    <tr>\n      <th>1305</th>\n      <td>3</td>\n      <td>1</td>\n      <td>2</td>\n      <td>28.516607</td>\n      <td>2</td>\n      <td>3</td>\n      <td>0</td>\n      <td>0</td>\n      <td>NaN</td>\n      <td>8</td>\n      <td>8.0500</td>\n      <td>2.0</td>\n      <td>2.085672</td>\n      <td>(7.879, 11.293]</td>\n      <td>1</td>\n      <td>1</td>\n      <td>True</td>\n    </tr>\n    <tr>\n      <th>1306</th>\n      <td>6</td>\n      <td>0</td>\n      <td>0</td>\n      <td>39.000000</td>\n      <td>3</td>\n      <td>1</td>\n      <td>0</td>\n      <td>0</td>\n      <td>NaN</td>\n      <td>2</td>\n      <td>108.9000</td>\n      <td>4.6</td>\n      <td>4.690430</td>\n      <td>(46.06, 512.329]</td>\n      <td>4</td>\n      <td>1</td>\n      <td>True</td>\n    </tr>\n    <tr>\n      <th>1307</th>\n      <td>3</td>\n      <td>1</td>\n      <td>2</td>\n      <td>38.500000</td>\n      <td>3</td>\n      <td>3</td>\n      <td>0</td>\n      <td>0</td>\n      <td>NaN</td>\n      <td>8</td>\n      <td>7.2500</td>\n      <td>1.9</td>\n      <td>1.981001</td>\n      <td>(3.17, 7.879]</td>\n      <td>0</td>\n      <td>1</td>\n      <td>True</td>\n    </tr>\n    <tr>\n      <th>1308</th>\n      <td>3</td>\n      <td>1</td>\n      <td>2</td>\n      <td>28.516607</td>\n      <td>2</td>\n      <td>3</td>\n      <td>0</td>\n      <td>0</td>\n      <td>NaN</td>\n      <td>8</td>\n      <td>8.0500</td>\n      <td>2.0</td>\n      <td>2.085672</td>\n      <td>(7.879, 11.293]</td>\n      <td>1</td>\n      <td>1</td>\n      <td>True</td>\n    </tr>\n    <tr>\n      <th>1309</th>\n      <td>1</td>\n      <td>1</td>\n      <td>0</td>\n      <td>12.326040</td>\n      <td>1</td>\n      <td>3</td>\n      <td>1</td>\n      <td>1</td>\n      <td>NaN</td>\n      <td>8</td>\n      <td>22.3583</td>\n      <td>3.1</td>\n      <td>3.107198</td>\n      <td>(11.293, 22.358]</td>\n      <td>2</td>\n      <td>3</td>\n      <td>False</td>\n    </tr>\n  </tbody>\n</table>\n<p>1309 rows × 17 columns</p>\n</div>"
     },
     "execution_count": 123,
     "metadata": {},
     "output_type": "execute_result"
    }
   ],
   "source": [],
   "metadata": {
    "collapsed": false,
    "pycharm": {
     "name": "#%%\n"
    }
   }
  },
  {
   "cell_type": "code",
   "execution_count": 124,
   "outputs": [
    {
     "data": {
      "text/plain": "3    757\n2    260\n4    197\n1     61\n6     18\n0      8\n5      8\nName: Name, dtype: int64"
     },
     "execution_count": 124,
     "metadata": {},
     "output_type": "execute_result"
    }
   ],
   "source": [
    "all_data['Name'].value_counts()"
   ],
   "metadata": {
    "collapsed": false,
    "pycharm": {
     "name": "#%%\n"
    }
   }
  },
  {
   "cell_type": "code",
   "execution_count": 124,
   "outputs": [],
   "source": [],
   "metadata": {
    "collapsed": false,
    "pycharm": {
     "name": "#%%\n"
    }
   }
  },
  {
   "cell_type": "code",
   "execution_count": 125,
   "outputs": [],
   "source": [
    "feature = [\n",
    "    'Pclass',\n",
    "    'Sex',\n",
    "    'SibSp',\n",
    "    'Parch',\n",
    "    'Embarked',\n",
    "    'Family',\n",
    "    'Name',\n",
    "    'Solo',\n",
    "    'Age_binned',\n",
    "    'Cabin',\n",
    "    'Fare_clean'\n",
    "]\n",
    "\n",
    "label = [\n",
    "    'Survived',\n",
    "]"
   ],
   "metadata": {
    "collapsed": false,
    "pycharm": {
     "name": "#%%\n"
    }
   }
  },
  {
   "cell_type": "code",
   "execution_count": 126,
   "outputs": [],
   "source": [
    "from sklearn.model_selection import train_test_split\n",
    "#\n",
    "num_train = len(train) # 훈련 데이터 개수\n",
    "\n",
    "# 훈련 데이터와 테스트 데이터 나누기\n",
    "\n",
    "X_train= all_data[:num_train] # 0~num_train -1 행\n",
    "X_test = all_data[num_train:] # num_train ~ 마지막 행\n",
    "\n",
    "y_train = train['Survived'].values\n",
    "\n",
    "\n",
    "# ########################################\n",
    "# # 데이터 분할\n",
    "# num_train = len(train) # 훈련 데이터 개수\n",
    "#\n",
    "# # 훈련 데이터와 테스트 데이터 나누기\n",
    "#\n",
    "# X= all_data_sprs[:num_train] # 0~num_train -1 행\n",
    "# X_test = all_data_sprs[num_train:] # num_train ~ 마지막 행\n",
    "#\n",
    "# y = train['Survived'].values\n",
    "#\n",
    "#\n",
    "# X_train , X_valid , y_train, y_valid = train_test_split(X,y, test_size = 0.2, random_state=0)\n",
    "# y_test = submission['Survived'].values"
   ],
   "metadata": {
    "collapsed": false,
    "pycharm": {
     "name": "#%%\n"
    }
   }
  },
  {
   "cell_type": "code",
   "execution_count": 127,
   "outputs": [
    {
     "name": "stderr",
     "output_type": "stream",
     "text": [
      "C:\\Users\\andyp\\anaconda3\\lib\\site-packages\\sklearn\\model_selection\\_validation.py:593: DataConversionWarning: A column-vector y was passed when a 1d array was expected. Please change the shape of y to (n_samples,), for example using ravel().\n",
      "  estimator.fit(X_train, y_train, **fit_params)\n",
      "C:\\Users\\andyp\\anaconda3\\lib\\site-packages\\sklearn\\model_selection\\_validation.py:593: DataConversionWarning: A column-vector y was passed when a 1d array was expected. Please change the shape of y to (n_samples,), for example using ravel().\n",
      "  estimator.fit(X_train, y_train, **fit_params)\n",
      "C:\\Users\\andyp\\anaconda3\\lib\\site-packages\\sklearn\\model_selection\\_validation.py:593: DataConversionWarning: A column-vector y was passed when a 1d array was expected. Please change the shape of y to (n_samples,), for example using ravel().\n",
      "  estimator.fit(X_train, y_train, **fit_params)\n",
      "C:\\Users\\andyp\\anaconda3\\lib\\site-packages\\sklearn\\model_selection\\_validation.py:593: DataConversionWarning: A column-vector y was passed when a 1d array was expected. Please change the shape of y to (n_samples,), for example using ravel().\n",
      "  estimator.fit(X_train, y_train, **fit_params)\n",
      "C:\\Users\\andyp\\anaconda3\\lib\\site-packages\\sklearn\\model_selection\\_validation.py:593: DataConversionWarning: A column-vector y was passed when a 1d array was expected. Please change the shape of y to (n_samples,), for example using ravel().\n",
      "  estimator.fit(X_train, y_train, **fit_params)\n",
      "C:\\Users\\andyp\\anaconda3\\lib\\site-packages\\sklearn\\model_selection\\_validation.py:593: DataConversionWarning: A column-vector y was passed when a 1d array was expected. Please change the shape of y to (n_samples,), for example using ravel().\n",
      "  estimator.fit(X_train, y_train, **fit_params)\n",
      "C:\\Users\\andyp\\anaconda3\\lib\\site-packages\\sklearn\\model_selection\\_validation.py:593: DataConversionWarning: A column-vector y was passed when a 1d array was expected. Please change the shape of y to (n_samples,), for example using ravel().\n",
      "  estimator.fit(X_train, y_train, **fit_params)\n",
      "C:\\Users\\andyp\\anaconda3\\lib\\site-packages\\sklearn\\model_selection\\_validation.py:593: DataConversionWarning: A column-vector y was passed when a 1d array was expected. Please change the shape of y to (n_samples,), for example using ravel().\n",
      "  estimator.fit(X_train, y_train, **fit_params)\n",
      "C:\\Users\\andyp\\anaconda3\\lib\\site-packages\\sklearn\\model_selection\\_validation.py:593: DataConversionWarning: A column-vector y was passed when a 1d array was expected. Please change the shape of y to (n_samples,), for example using ravel().\n",
      "  estimator.fit(X_train, y_train, **fit_params)\n",
      "C:\\Users\\andyp\\anaconda3\\lib\\site-packages\\sklearn\\model_selection\\_validation.py:593: DataConversionWarning: A column-vector y was passed when a 1d array was expected. Please change the shape of y to (n_samples,), for example using ravel().\n",
      "  estimator.fit(X_train, y_train, **fit_params)\n"
     ]
    },
    {
     "data": {
      "text/plain": "0.8226466916354557"
     },
     "execution_count": 127,
     "metadata": {},
     "output_type": "execute_result"
    }
   ],
   "source": [
    "from sklearn.model_selection import KFold, cross_val_score\n",
    "from sklearn.ensemble import RandomForestClassifier\n",
    "\n",
    "X_train = X_train[feature]\n",
    "target = train[label]\n",
    "\n",
    "k_fold = KFold(n_splits=10, shuffle=True, random_state=0)\n",
    "\n",
    "clf = RandomForestClassifier(n_estimators=50, max_depth=6, random_state=0)\n",
    "cross_val_score(clf, X_train, target, cv=k_fold, scoring='accuracy', ).mean()\n",
    "# Accuracy\n",
    "# 0.8271660424469414"
   ],
   "metadata": {
    "collapsed": false,
    "pycharm": {
     "name": "#%%\n"
    }
   }
  },
  {
   "cell_type": "code",
   "execution_count": 128,
   "outputs": [
    {
     "name": "stderr",
     "output_type": "stream",
     "text": [
      "<ipython-input-128-364b9240be26>:6: DataConversionWarning: A column-vector y was passed when a 1d array was expected. Please change the shape of y to (n_samples,), for example using ravel().\n",
      "  clf.fit(x_train, y_train)\n"
     ]
    },
    {
     "data": {
      "text/plain": "array([0, 0, 0, 0, 1, 0, 1, 0, 1, 0, 0, 0, 1, 0, 1, 1, 0, 0, 0, 1, 0, 1,\n       1, 0, 1, 0, 1, 0, 0, 0, 0, 0, 1, 0, 0, 0, 1, 0, 0, 0, 0, 0, 0, 1,\n       1, 0, 0, 0, 1, 1, 0, 0, 1, 1, 0, 0, 0, 0, 0, 1, 0, 0, 0, 1, 1, 1,\n       1, 0, 0, 1, 1, 0, 0, 0, 1, 0, 0, 1, 0, 1, 1, 0, 0, 0, 0, 0, 1, 1,\n       1, 1, 1, 0, 1, 0, 0, 0, 1, 0, 1, 0, 1, 0, 0, 0, 1, 0, 0, 0, 0, 0,\n       0, 1, 1, 1, 1, 0, 0, 1, 0, 1, 1, 0, 1, 0, 0, 1, 0, 1, 0, 0, 0, 1,\n       0, 0, 0, 0, 0, 0, 0, 0, 0, 1, 0, 0, 0, 0, 0, 0, 0, 0, 1, 0, 0, 1,\n       0, 0, 1, 1, 0, 1, 1, 1, 1, 0, 0, 1, 0, 0, 1, 0, 0, 0, 0, 0, 0, 1,\n       1, 0, 1, 1, 0, 0, 1, 0, 1, 0, 1, 0, 0, 0, 0, 0, 1, 0, 1, 0, 1, 1,\n       0, 1, 1, 1, 1, 1, 0, 0, 0, 0, 1, 0, 0, 0, 0, 1, 0, 0, 1, 0, 1, 0,\n       1, 0, 1, 0, 1, 1, 0, 1, 0, 0, 0, 1, 0, 0, 0, 0, 0, 0, 1, 1, 1, 1,\n       0, 0, 0, 0, 1, 0, 1, 1, 1, 0, 0, 0, 0, 0, 0, 0, 1, 0, 0, 0, 1, 1,\n       0, 0, 0, 0, 1, 0, 0, 0, 1, 1, 0, 1, 0, 0, 0, 0, 0, 1, 1, 1, 1, 0,\n       0, 0, 0, 0, 0, 1, 0, 1, 0, 0, 1, 0, 0, 0, 0, 0, 0, 0, 1, 1, 0, 1,\n       0, 0, 0, 0, 0, 0, 1, 1, 0, 0, 0, 0, 0, 0, 0, 0, 1, 0, 1, 0, 0, 0,\n       1, 0, 0, 1, 0, 0, 0, 0, 0, 1, 0, 0, 0, 1, 1, 1, 0, 1, 0, 1, 1, 0,\n       0, 0, 1, 0, 1, 0, 0, 1, 0, 1, 1, 0, 1, 0, 0, 1, 1, 0, 0, 1, 0, 0,\n       1, 1, 0, 0, 0, 0, 0, 0, 1, 1, 0, 1, 0, 0, 0, 0, 0, 1, 1, 0, 0, 1,\n       0, 1, 0, 0, 1, 0, 1, 0, 0, 0, 0, 0, 1, 1, 1, 1, 1, 0, 1, 0, 0, 1],\n      dtype=int64)"
     },
     "execution_count": 128,
     "metadata": {},
     "output_type": "execute_result"
    }
   ],
   "source": [
    "x_train = X_train[feature]\n",
    "x_test = X_test[feature]\n",
    "y_train = train[label]\n",
    "\n",
    "clf = RandomForestClassifier(n_estimators=50, max_depth=6, random_state=0)\n",
    "clf.fit(x_train, y_train)\n",
    "y_preds = clf.predict(x_test)\n",
    "\n",
    "y_preds"
   ],
   "metadata": {
    "collapsed": false,
    "pycharm": {
     "name": "#%%\n"
    }
   }
  },
  {
   "cell_type": "code",
   "execution_count": 129,
   "outputs": [
    {
     "name": "stdout",
     "output_type": "stream",
     "text": [
      "현재 날짜 및 시각 :  [5, 24, 16, 37, 33]\n"
     ]
    }
   ],
   "source": [
    "import datetime\n",
    "\n",
    "# 현재 날짜와 시각 구하기\n",
    "now = datetime.datetime.now()\n",
    "date_list = [now.month, now.day, now.hour, now.minute, now.second]\n",
    "# 현재 날짜와 시각 출력하기\n",
    "print(\"현재 날짜 및 시각 : \", date_list)\n",
    "\n",
    "# 제출 파일 생성\n",
    "\n",
    "submission['Survived'] = y_preds\n",
    "submission.to_csv(f'submission_Random_blog_{date_list[0]}_{date_list[1]}_{date_list[2]}_{date_list[3]}_{date_list[4]}.csv')"
   ],
   "metadata": {
    "collapsed": false,
    "pycharm": {
     "name": "#%%\n"
    }
   }
  },
  {
   "cell_type": "code",
   "execution_count": 138,
   "outputs": [],
   "source": [
    "num_train = len(train) # 훈련 데이터 개수\n",
    "\n",
    "# 훈련 데이터와 테스트 데이터 나누기\n",
    "\n",
    "X_train= all_data[:num_train] # 0~num_train -1 행\n",
    "X_test = all_data[num_train:] # num_train ~ 마지막 행\n",
    "\n",
    "y_train = train['Survived'].values\n",
    "\n",
    "\n",
    "x_train = X_train[feature]\n",
    "x_test = X_test[feature]\n",
    "y_train = train[label]"
   ],
   "metadata": {
    "collapsed": false,
    "pycharm": {
     "name": "#%%\n"
    }
   }
  },
  {
   "cell_type": "code",
   "execution_count": 139,
   "outputs": [
    {
     "name": "stdout",
     "output_type": "stream",
     "text": [
      "Best Model: DecisionTreeClassifier(max_depth=5, min_samples_leaf=6, min_samples_split=3)\n",
      "Best Parameters: {'max_depth': 5, 'min_samples_leaf': 6, 'min_samples_split': 3}\n"
     ]
    },
    {
     "name": "stderr",
     "output_type": "stream",
     "text": [
      "C:\\Users\\andyp\\anaconda3\\lib\\site-packages\\sklearn\\model_selection\\_search.py:918: UserWarning: One or more of the test scores are non-finite: [  nan 0.81  0.809 0.81  0.811 0.81    nan 0.814 0.814 0.817 0.811 0.818\n",
      "   nan 0.816 0.818 0.815 0.817 0.815   nan 0.814 0.815 0.81  0.813 0.81\n",
      "   nan 0.807 0.805 0.804 0.805 0.809   nan 0.811 0.811 0.813 0.811 0.813\n",
      "   nan 0.809 0.811 0.809 0.811 0.816   nan 0.809 0.809 0.81  0.807 0.808\n",
      "   nan 0.815 0.81  0.814 0.813 0.814]\n",
      "  warnings.warn(\n"
     ]
    }
   ],
   "source": [
    "from sklearn.model_selection import GridSearchCV\n",
    "from sklearn.tree import DecisionTreeClassifier\n",
    "\n",
    "dt_model = DecisionTreeClassifier()\n",
    "\n",
    "# 그리드 서치를 위한 하이퍼파라미터 그리드 준비\n",
    "param_grid = {\n",
    "    'max_depth': [5,10,12],\n",
    "    'min_samples_split': [1, 2, 3, 5, 7, 10],\n",
    "    'min_samples_leaf': [4, 5, 6]\n",
    "}\n",
    "\n",
    "# 그리드 서치 객체 생성\n",
    "grid_search = GridSearchCV(dt_model, param_grid, cv=10 , n_jobs=-1)\n",
    "\n",
    "# 그리드 서치 수행\n",
    "grid_search.fit(x_train, y_train)\n",
    "\n",
    "# 최적의 모델 및 파라미터 출력\n",
    "best_model_grid_search_dc = grid_search.best_estimator_\n",
    "best_params_grid_search_dc = grid_search.best_params_\n",
    "print(\"Best Model:\", best_model_grid_search_dc)\n",
    "print(\"Best Parameters:\", best_params_grid_search_dc)"
   ],
   "metadata": {
    "collapsed": false,
    "pycharm": {
     "name": "#%%\n"
    }
   }
  },
  {
   "cell_type": "code",
   "execution_count": 140,
   "outputs": [
    {
     "data": {
      "text/plain": "array([0, 0, 0, 0, 0, 0, 1, 0, 1, 0, 0, 0, 1, 0, 1, 1, 0, 0, 0, 1, 0, 1,\n       1, 0, 1, 0, 1, 0, 0, 0, 0, 0, 0, 0, 1, 0, 0, 0, 0, 0, 0, 0, 0, 1,\n       1, 0, 1, 0, 1, 0, 0, 0, 1, 1, 0, 0, 0, 0, 0, 1, 0, 0, 0, 1, 1, 1,\n       1, 0, 1, 1, 1, 0, 0, 1, 1, 1, 0, 1, 0, 1, 1, 0, 0, 0, 0, 0, 1, 0,\n       1, 1, 0, 0, 1, 0, 0, 0, 1, 0, 0, 0, 1, 0, 0, 0, 1, 0, 0, 0, 0, 0,\n       0, 1, 1, 1, 1, 0, 0, 1, 1, 1, 1, 0, 1, 0, 0, 0, 0, 1, 0, 0, 0, 1,\n       0, 0, 0, 0, 0, 0, 0, 0, 0, 1, 0, 0, 0, 0, 0, 0, 0, 0, 1, 0, 0, 0,\n       0, 0, 1, 0, 0, 0, 1, 1, 1, 0, 0, 0, 1, 0, 1, 0, 0, 0, 0, 0, 0, 1,\n       1, 1, 1, 1, 0, 1, 1, 0, 1, 0, 1, 0, 0, 0, 0, 0, 1, 0, 1, 0, 1, 0,\n       0, 0, 1, 1, 1, 1, 0, 0, 1, 0, 1, 0, 0, 0, 0, 1, 0, 0, 1, 0, 1, 0,\n       1, 0, 1, 0, 1, 1, 0, 1, 0, 0, 0, 1, 0, 0, 1, 0, 0, 0, 1, 1, 1, 1,\n       1, 0, 1, 0, 1, 0, 1, 1, 1, 0, 1, 0, 0, 0, 0, 0, 1, 0, 0, 0, 1, 1,\n       0, 0, 0, 0, 0, 0, 1, 0, 1, 1, 0, 1, 0, 0, 0, 0, 0, 1, 1, 1, 1, 0,\n       0, 0, 1, 0, 0, 1, 0, 1, 0, 0, 1, 0, 0, 0, 0, 1, 0, 0, 1, 1, 0, 1,\n       0, 0, 0, 0, 0, 1, 1, 1, 1, 0, 0, 0, 0, 1, 0, 0, 1, 0, 1, 0, 0, 0,\n       1, 1, 0, 1, 0, 0, 0, 0, 0, 1, 0, 0, 0, 1, 1, 0, 0, 1, 0, 1, 1, 0,\n       0, 0, 1, 0, 1, 0, 0, 0, 0, 1, 1, 0, 1, 0, 0, 0, 1, 0, 0, 1, 0, 0,\n       1, 1, 0, 0, 0, 0, 0, 0, 0, 0, 0, 1, 0, 0, 0, 0, 0, 1, 1, 0, 0, 1,\n       0, 1, 0, 0, 1, 0, 1, 0, 1, 1, 0, 1, 1, 1, 1, 1, 0, 0, 1, 0, 0, 1],\n      dtype=int64)"
     },
     "execution_count": 140,
     "metadata": {},
     "output_type": "execute_result"
    }
   ],
   "source": [
    "\n",
    "\n",
    "\n",
    "y_preds = best_model_grid_search_dc.predict(x_test)\n",
    "\n",
    "y_preds\n"
   ],
   "metadata": {
    "collapsed": false,
    "pycharm": {
     "name": "#%%\n"
    }
   }
  },
  {
   "cell_type": "code",
   "execution_count": 141,
   "outputs": [
    {
     "name": "stdout",
     "output_type": "stream",
     "text": [
      "Decsion Tree에 대한 점수 : 0.8395061728395061\n"
     ]
    }
   ],
   "source": [
    "print(f'Decsion Tree에 대한 점수 : {best_model_grid_search_dc.score(x_train, y_train)}')"
   ],
   "metadata": {
    "collapsed": false,
    "pycharm": {
     "name": "#%%\n"
    }
   }
  },
  {
   "cell_type": "code",
   "execution_count": 142,
   "outputs": [
    {
     "data": {
      "text/plain": "<Figure size 2160x1080 with 1 Axes>",
      "image/png": "[encoded data removed]"
     },
     "metadata": {
      "needs_background": "light"
     },
     "output_type": "display_data"
    },
    {
     "name": "stdout",
     "output_type": "stream",
     "text": [
      "현재 날짜 및 시각 :  [5, 24, 16, 41, 21]\n"
     ]
    }
   ],
   "source": [
    "from sklearn.tree import plot_tree\n",
    "\n",
    "fig = plt.figure(figsize=(30, 15))  # 그래프 크기 설정\n",
    "\n",
    "ax = plot_tree(best_model_grid_search_dc, max_depth=5, fontsize=15)\n",
    "# 트리 그래프 출력\n",
    "\n",
    "plt.show()\n",
    "import datetime\n",
    "\n",
    "# 현재 날짜와 시각 구하기\n",
    "now = datetime.datetime.now()\n",
    "date_list = [now.month, now.day, now.hour, now.minute, now.second]\n",
    "# 현재 날짜와 시각 출력하기\n",
    "print(\"현재 날짜 및 시각 : \", date_list)\n",
    "\n",
    "# 제출 파일 생성\n",
    "\n",
    "submission['Survived'] = y_preds\n",
    "submission.to_csv(\n",
    "    f'submission_gridsearch_DescisionTree_{date_list[0]}_{date_list[1]}_{date_list[2]}_{date_list[3]}_{date_list[4]}.csv')"
   ],
   "metadata": {
    "collapsed": false,
    "pycharm": {
     "name": "#%%\n"
    }
   }
  },
  {
   "cell_type": "code",
   "execution_count": 160,
   "outputs": [],
   "source": [
    "from sklearn.linear_model import LogisticRegressionCV\n",
    "\n",
    "num_train = len(train) # 훈련 데이터 개수\n",
    "\n",
    "# 훈련 데이터와 테스트 데이터 나누기\n",
    "\n",
    "X_train= all_data[:num_train] # 0~num_train -1 행\n",
    "X_test = all_data[num_train:] # num_train ~ 마지막 행\n",
    "\n",
    "# y_train = train['Survived'].values\n",
    "\n",
    "x_train = X_train[feature]\n",
    "x_test = X_test[feature]\n",
    "y_train = train[label]\n",
    "y_train = y_train.values.ravel()\n",
    "\n",
    "from sklearn.model_selection import GridSearchCV\n",
    "from sklearn.tree import DecisionTreeClassifier\n",
    "from sklearn.ensemble import RandomForestClassifier\n",
    "import xgboost as xgb\n",
    "import lightgbm as lgb\n",
    "from sklearn.linear_model import LogisticRegression\n",
    "from sklearn.metrics import accuracy_score\n",
    "\n",
    "# 개별 모델 생성\n",
    "model_dc_tree = DecisionTreeClassifier()\n",
    "model_rf = RandomForestClassifier(n_estimators=50, max_depth=6, random_state=0)\n",
    "model_xgb = xgb.XGBClassifier()\n",
    "model_lgb = lgb.LGBMClassifier()\n",
    "model_logistic = LogisticRegression(C=1.0, max_iter=1000, solver='sag')\n",
    "\n",
    "# 개별 모델의 하이퍼파라미터 그리드 준비\n",
    "param_grid_dc_tree = {'max_depth': [3, 5, 7], 'min_samples_split': [2, 5, 10]}\n",
    "param_grid_xgb = {'max_depth': [3, 5, 7], 'learning_rate': [0.1, 0.01, 0.001]}\n",
    "param_grid_lgb = {'max_depth': [3, 5, 7], 'learning_rate': [0.1, 0.01, 0.001]}\n",
    "\n",
    "# 개별 모델의 그리드 서치 객체 생성\n",
    "grid_search_dc_tree = GridSearchCV(model_dc_tree, param_grid_dc_tree, cv=5)\n",
    "grid_search_xgb = GridSearchCV(model_xgb, param_grid_xgb, cv=5)\n",
    "grid_search_lgb = GridSearchCV(model_lgb, param_grid_lgb, cv=5)\n",
    "\n",
    "# 개별 모델의 그리드 서치 수행\n",
    "grid_search_dc_tree.fit(x_train, y_train)\n",
    "grid_search_xgb.fit(x_train, y_train)\n",
    "grid_search_lgb.fit(x_train, y_train)\n",
    "\n",
    "# 최적의 개별 모델 및 파라미터 출력\n",
    "best_model_dc_tree = grid_search_dc_tree.best_estimator_\n",
    "best_model_xgb = grid_search_xgb.best_estimator_\n",
    "best_model_lgb = grid_search_lgb.best_estimator_\n",
    "\n",
    "# 앙상블 모델 생성\n",
    "ensemble_model = VotingClassifier(\n",
    "    estimators=[\n",
    "        ('dcT', best_model_dc_tree),\n",
    "        ('rf', model_rf),\n",
    "        ('xgb', best_model_xgb),\n",
    "        ('lgb', best_model_lgb),\n",
    "        ('log', model_logistic)\n",
    "    ],\n",
    "    voting='hard'\n",
    ")\n"
   ],
   "metadata": {
    "collapsed": false,
    "pycharm": {
     "name": "#%%\n"
    }
   }
  },
  {
   "cell_type": "code",
   "execution_count": 161,
   "outputs": [
    {
     "name": "stdout",
     "output_type": "stream",
     "text": [
      "0.8203870162297129\n",
      "0.8686868686868687\n"
     ]
    }
   ],
   "source": [
    "\n",
    "# 앙상블 모델 훈련\n",
    "ensemble_model.fit(x_train, y_train)\n",
    "print(cross_val_score(ensemble_model, x_train, y_train, cv=k_fold, scoring='accuracy', ).mean())\n",
    "# 앙상블 모델 예측\n",
    "ensemble_predictions = ensemble_model.predict(x_test)\n",
    "print(ensemble_model.score(x_train, y_train))"
   ],
   "metadata": {
    "collapsed": false,
    "pycharm": {
     "name": "#%%\n"
    }
   }
  },
  {
   "cell_type": "code",
   "execution_count": 162,
   "outputs": [
    {
     "name": "stdout",
     "output_type": "stream",
     "text": [
      "현재 날짜 및 시각 :  [5, 24, 17, 4, 32]\n"
     ]
    }
   ],
   "source": [
    "import datetime\n",
    "\n",
    "# 현재 날짜와 시각 구하기\n",
    "now = datetime.datetime.now()\n",
    "date_list = [now.month, now.day, now.hour, now.minute, now.second]\n",
    "# 현재 날짜와 시각 출력하기\n",
    "print(\"현재 날짜 및 시각 : \", date_list)\n",
    "\n",
    "# 제출 파일 생성\n",
    "\n",
    "submission['Survived'] = ensemble_predictions\n",
    "submission.to_csv(\n",
    "    f'submission_gridsearch_ensemble_blog_{date_list[0]}_{date_list[1]}_{date_list[2]}_{date_list[3]}_{date_list[4]}.csv')"
   ],
   "metadata": {
    "collapsed": false,
    "pycharm": {
     "name": "#%%\n"
    }
   }
  },
  {
   "cell_type": "markdown",
   "source": [],
   "metadata": {
    "collapsed": false,
    "pycharm": {
     "name": "#%% md\n"
    }
   }
  },
  {
   "cell_type": "code",
   "execution_count": null,
   "outputs": [],
   "source": [],
   "metadata": {
    "collapsed": false,
    "pycharm": {
     "name": "#%%\n"
    }
   }
  }
 ],
 "metadata": {
  "kernelspec": {
   "display_name": "Python 3",
   "language": "python",
   "name": "python3"
  },
  "language_info": {
   "codemirror_mode": {
    "name": "ipython",
    "version": 2
   },
   "file_extension": ".py",
   "mimetype": "text/x-python",
   "name": "python",
   "nbconvert_exporter": "python",
   "pygments_lexer": "ipython2",
   "version": "2.7.6"
  }
 },
 "nbformat": 4,
 "nbformat_minor": 0
}