{
 "cells": [
  {
   "cell_type": "code",
   "execution_count": 1579,
   "outputs": [],
   "source": [
    "import itertools\n",
    "import platform\n",
    "import matplotlib\n",
    "import pandas as pd\n",
    "import matplotlib.pyplot as plt\n",
    "from matplotlib import font_manager, rc\n",
    "import seaborn as sns\n",
    "%precision 3\n",
    "from matplotlib import pyplot as plt\n",
    "%matplotlib inline\n",
    "#그래프를 주피터 놋북에 그리기 위해\n",
    "import numpy as np\n",
    "import copy\n",
    "from matplotlib import ticker\n",
    "from scipy.stats import probplot\n",
    "from scipy import stats\n",
    "import collections\n",
    "import itertools\n",
    "import math\n",
    "#from varname import nameof\n",
    "import sys\n",
    "from scipy import stats\n",
    "from scipy.stats import bernoulli\n",
    "import scipy\n",
    "from collections import deque\n",
    "from sympy import Symbol, solve\n",
    "\n",
    "#히스토그램 그리기\n",
    "# Window\n",
    "if platform.system() == 'Windows':\n",
    "    matplotlib.rc('font', family='Malgun Gothic')\n",
    "elif platform.system() == 'Darwin': # Mac\n",
    "    matplotlib.rc('font', family='AppleGothic')\n",
    "else: #linux\n",
    "    matplotlib.rc('font', family='NanumGothic')\n",
    "\n",
    "# 그래프에 마이너스 표시가 되도록 변경\n",
    "matplotlib.rcParams['axes.unicode_minus'] = False\n",
    "\n",
    "# 한글 폰트 설정\n",
    "font_location = 'C:/Windows/Fonts/MALGUNSL.TTF' #맑은고딕\n",
    "font_name = font_manager.FontProperties(fname=font_location).get_name()\n",
    "rc('font',family=font_name)"
   ],
   "metadata": {
    "collapsed": false,
    "pycharm": {
     "name": "#%%\n"
    }
   }
  },
  {
   "cell_type": "code",
   "execution_count": 1580,
   "outputs": [],
   "source": [
    "import pandas as pd\n",
    "\n",
    "data_path = '../titanic/'\n",
    "\n",
    "train = pd.read_csv(data_path + 'train.csv' , index_col = 'PassengerId')\n",
    "test = pd.read_csv(data_path + 'test.csv' , index_col = 'PassengerId')\n",
    "submission = pd.read_csv(data_path + 'gender_submission.csv' , index_col= 'PassengerId')"
   ],
   "metadata": {
    "collapsed": false,
    "pycharm": {
     "name": "#%%\n"
    }
   }
  },
  {
   "cell_type": "code",
   "execution_count": 1581,
   "outputs": [
    {
     "name": "stdout",
     "output_type": "stream",
     "text": [
      "<class 'pandas.core.frame.DataFrame'>\n",
      "Int64Index: 891 entries, 1 to 891\n",
      "Data columns (total 11 columns):\n",
      " #   Column    Non-Null Count  Dtype  \n",
      "---  ------    --------------  -----  \n",
      " 0   Survived  891 non-null    int64  \n",
      " 1   Pclass    891 non-null    int64  \n",
      " 2   Name      891 non-null    object \n",
      " 3   Sex       891 non-null    object \n",
      " 4   Age       714 non-null    float64\n",
      " 5   SibSp     891 non-null    int64  \n",
      " 6   Parch     891 non-null    int64  \n",
      " 7   Ticket    891 non-null    object \n",
      " 8   Fare      891 non-null    float64\n",
      " 9   Cabin     204 non-null    object \n",
      " 10  Embarked  889 non-null    object \n",
      "dtypes: float64(2), int64(4), object(5)\n",
      "memory usage: 83.5+ KB\n"
     ]
    }
   ],
   "source": [
    "train.info()"
   ],
   "metadata": {
    "collapsed": false,
    "pycharm": {
     "name": "#%%\n"
    }
   }
  },
  {
   "cell_type": "code",
   "execution_count": 1582,
   "outputs": [
    {
     "name": "stdout",
     "output_type": "stream",
     "text": [
      "<class 'pandas.core.frame.DataFrame'>\n",
      "Int64Index: 418 entries, 892 to 1309\n",
      "Data columns (total 10 columns):\n",
      " #   Column    Non-Null Count  Dtype  \n",
      "---  ------    --------------  -----  \n",
      " 0   Pclass    418 non-null    int64  \n",
      " 1   Name      418 non-null    object \n",
      " 2   Sex       418 non-null    object \n",
      " 3   Age       332 non-null    float64\n",
      " 4   SibSp     418 non-null    int64  \n",
      " 5   Parch     418 non-null    int64  \n",
      " 6   Ticket    418 non-null    object \n",
      " 7   Fare      417 non-null    float64\n",
      " 8   Cabin     91 non-null     object \n",
      " 9   Embarked  418 non-null    object \n",
      "dtypes: float64(2), int64(3), object(5)\n",
      "memory usage: 35.9+ KB\n"
     ]
    }
   ],
   "source": [
    "test.info()"
   ],
   "metadata": {
    "collapsed": false,
    "pycharm": {
     "name": "#%%\n"
    }
   }
  },
  {
   "cell_type": "code",
   "execution_count": 1583,
   "outputs": [
    {
     "data": {
      "text/plain": "             Survived\nPassengerId          \n892                 0\n893                 1\n894                 0\n895                 0\n896                 1\n...               ...\n1305                0\n1306                1\n1307                0\n1308                0\n1309                0\n\n[418 rows x 1 columns]",
      "text/html": "<div>\n<style scoped>\n    .dataframe tbody tr th:only-of-type {\n        vertical-align: middle;\n    }\n\n    .dataframe tbody tr th {\n        vertical-align: top;\n    }\n\n    .dataframe thead th {\n        text-align: right;\n    }\n</style>\n<table border=\"1\" class=\"dataframe\">\n  <thead>\n    <tr style=\"text-align: right;\">\n      <th></th>\n      <th>Survived</th>\n    </tr>\n    <tr>\n      <th>PassengerId</th>\n      <th></th>\n    </tr>\n  </thead>\n  <tbody>\n    <tr>\n      <th>892</th>\n      <td>0</td>\n    </tr>\n    <tr>\n      <th>893</th>\n      <td>1</td>\n    </tr>\n    <tr>\n      <th>894</th>\n      <td>0</td>\n    </tr>\n    <tr>\n      <th>895</th>\n      <td>0</td>\n    </tr>\n    <tr>\n      <th>896</th>\n      <td>1</td>\n    </tr>\n    <tr>\n      <th>...</th>\n      <td>...</td>\n    </tr>\n    <tr>\n      <th>1305</th>\n      <td>0</td>\n    </tr>\n    <tr>\n      <th>1306</th>\n      <td>1</td>\n    </tr>\n    <tr>\n      <th>1307</th>\n      <td>0</td>\n    </tr>\n    <tr>\n      <th>1308</th>\n      <td>0</td>\n    </tr>\n    <tr>\n      <th>1309</th>\n      <td>0</td>\n    </tr>\n  </tbody>\n</table>\n<p>418 rows × 1 columns</p>\n</div>"
     },
     "execution_count": 1583,
     "metadata": {},
     "output_type": "execute_result"
    }
   ],
   "source": [
    "submission"
   ],
   "metadata": {
    "collapsed": false,
    "pycharm": {
     "name": "#%%\n"
    }
   }
  },
  {
   "cell_type": "code",
   "execution_count": 1584,
   "outputs": [
    {
     "data": {
      "text/plain": "             Pclass                                               Name  \\\nPassengerId                                                              \n1                 3                            Braund, Mr. Owen Harris   \n2                 1  Cumings, Mrs. John Bradley (Florence Briggs Th...   \n3                 3                             Heikkinen, Miss. Laina   \n4                 1       Futrelle, Mrs. Jacques Heath (Lily May Peel)   \n5                 3                           Allen, Mr. William Henry   \n...             ...                                                ...   \n1305              3                                 Spector, Mr. Woolf   \n1306              1                       Oliva y Ocana, Dona. Fermina   \n1307              3                       Saether, Mr. Simon Sivertsen   \n1308              3                                Ware, Mr. Frederick   \n1309              3                           Peter, Master. Michael J   \n\n                Sex   Age  SibSp  Parch              Ticket      Fare Cabin  \\\nPassengerId                                                                   \n1              male  22.0      1      0           A/5 21171    7.2500   NaN   \n2            female  38.0      1      0            PC 17599   71.2833   C85   \n3            female  26.0      0      0    STON/O2. 3101282    7.9250   NaN   \n4            female  35.0      1      0              113803   53.1000  C123   \n5              male  35.0      0      0              373450    8.0500   NaN   \n...             ...   ...    ...    ...                 ...       ...   ...   \n1305           male   NaN      0      0           A.5. 3236    8.0500   NaN   \n1306         female  39.0      0      0            PC 17758  108.9000  C105   \n1307           male  38.5      0      0  SOTON/O.Q. 3101262    7.2500   NaN   \n1308           male   NaN      0      0              359309    8.0500   NaN   \n1309           male   NaN      1      1                2668   22.3583   NaN   \n\n            Embarked  \nPassengerId           \n1                  S  \n2                  C  \n3                  S  \n4                  S  \n5                  S  \n...              ...  \n1305               S  \n1306               C  \n1307               S  \n1308               S  \n1309               C  \n\n[1309 rows x 10 columns]",
      "text/html": "<div>\n<style scoped>\n    .dataframe tbody tr th:only-of-type {\n        vertical-align: middle;\n    }\n\n    .dataframe tbody tr th {\n        vertical-align: top;\n    }\n\n    .dataframe thead th {\n        text-align: right;\n    }\n</style>\n<table border=\"1\" class=\"dataframe\">\n  <thead>\n    <tr style=\"text-align: right;\">\n      <th></th>\n      <th>Pclass</th>\n      <th>Name</th>\n      <th>Sex</th>\n      <th>Age</th>\n      <th>SibSp</th>\n      <th>Parch</th>\n      <th>Ticket</th>\n      <th>Fare</th>\n      <th>Cabin</th>\n      <th>Embarked</th>\n    </tr>\n    <tr>\n      <th>PassengerId</th>\n      <th></th>\n      <th></th>\n      <th></th>\n      <th></th>\n      <th></th>\n      <th></th>\n      <th></th>\n      <th></th>\n      <th></th>\n      <th></th>\n    </tr>\n  </thead>\n  <tbody>\n    <tr>\n      <th>1</th>\n      <td>3</td>\n      <td>Braund, Mr. Owen Harris</td>\n      <td>male</td>\n      <td>22.0</td>\n      <td>1</td>\n      <td>0</td>\n      <td>A/5 21171</td>\n      <td>7.2500</td>\n      <td>NaN</td>\n      <td>S</td>\n    </tr>\n    <tr>\n      <th>2</th>\n      <td>1</td>\n      <td>Cumings, Mrs. John Bradley (Florence Briggs Th...</td>\n      <td>female</td>\n      <td>38.0</td>\n      <td>1</td>\n      <td>0</td>\n      <td>PC 17599</td>\n      <td>71.2833</td>\n      <td>C85</td>\n      <td>C</td>\n    </tr>\n    <tr>\n      <th>3</th>\n      <td>3</td>\n      <td>Heikkinen, Miss. Laina</td>\n      <td>female</td>\n      <td>26.0</td>\n      <td>0</td>\n      <td>0</td>\n      <td>STON/O2. 3101282</td>\n      <td>7.9250</td>\n      <td>NaN</td>\n      <td>S</td>\n    </tr>\n    <tr>\n      <th>4</th>\n      <td>1</td>\n      <td>Futrelle, Mrs. Jacques Heath (Lily May Peel)</td>\n      <td>female</td>\n      <td>35.0</td>\n      <td>1</td>\n      <td>0</td>\n      <td>113803</td>\n      <td>53.1000</td>\n      <td>C123</td>\n      <td>S</td>\n    </tr>\n    <tr>\n      <th>5</th>\n      <td>3</td>\n      <td>Allen, Mr. William Henry</td>\n      <td>male</td>\n      <td>35.0</td>\n      <td>0</td>\n      <td>0</td>\n      <td>373450</td>\n      <td>8.0500</td>\n      <td>NaN</td>\n      <td>S</td>\n    </tr>\n    <tr>\n      <th>...</th>\n      <td>...</td>\n      <td>...</td>\n      <td>...</td>\n      <td>...</td>\n      <td>...</td>\n      <td>...</td>\n      <td>...</td>\n      <td>...</td>\n      <td>...</td>\n      <td>...</td>\n    </tr>\n    <tr>\n      <th>1305</th>\n      <td>3</td>\n      <td>Spector, Mr. Woolf</td>\n      <td>male</td>\n      <td>NaN</td>\n      <td>0</td>\n      <td>0</td>\n      <td>A.5. 3236</td>\n      <td>8.0500</td>\n      <td>NaN</td>\n      <td>S</td>\n    </tr>\n    <tr>\n      <th>1306</th>\n      <td>1</td>\n      <td>Oliva y Ocana, Dona. Fermina</td>\n      <td>female</td>\n      <td>39.0</td>\n      <td>0</td>\n      <td>0</td>\n      <td>PC 17758</td>\n      <td>108.9000</td>\n      <td>C105</td>\n      <td>C</td>\n    </tr>\n    <tr>\n      <th>1307</th>\n      <td>3</td>\n      <td>Saether, Mr. Simon Sivertsen</td>\n      <td>male</td>\n      <td>38.5</td>\n      <td>0</td>\n      <td>0</td>\n      <td>SOTON/O.Q. 3101262</td>\n      <td>7.2500</td>\n      <td>NaN</td>\n      <td>S</td>\n    </tr>\n    <tr>\n      <th>1308</th>\n      <td>3</td>\n      <td>Ware, Mr. Frederick</td>\n      <td>male</td>\n      <td>NaN</td>\n      <td>0</td>\n      <td>0</td>\n      <td>359309</td>\n      <td>8.0500</td>\n      <td>NaN</td>\n      <td>S</td>\n    </tr>\n    <tr>\n      <th>1309</th>\n      <td>3</td>\n      <td>Peter, Master. Michael J</td>\n      <td>male</td>\n      <td>NaN</td>\n      <td>1</td>\n      <td>1</td>\n      <td>2668</td>\n      <td>22.3583</td>\n      <td>NaN</td>\n      <td>C</td>\n    </tr>\n  </tbody>\n</table>\n<p>1309 rows × 10 columns</p>\n</div>"
     },
     "execution_count": 1584,
     "metadata": {},
     "output_type": "execute_result"
    }
   ],
   "source": [
    "all_data = pd.concat([train,test]) # 훈련 데이터와 테스트 데이터 합치기\n",
    "all_data = all_data.drop('Survived' , axis = 1) # 타깃값 제거\n",
    "all_data"
   ],
   "metadata": {
    "collapsed": false,
    "pycharm": {
     "name": "#%%\n"
    }
   }
  },
  {
   "cell_type": "markdown",
   "source": [
    "## AGE 에 대해 NaN 값 처리"
   ],
   "metadata": {
    "collapsed": false,
    "pycharm": {
     "name": "#%% md\n"
    }
   }
  },
  {
   "cell_type": "code",
   "execution_count": 1585,
   "outputs": [],
   "source": [
    "# all_data['Name'] = list(map(lambda x : x.split()[1][:-1] , all_data['Name']))\n",
    "# all_data['Name'].unique()"
   ],
   "metadata": {
    "collapsed": false,
    "pycharm": {
     "name": "#%%\n"
    }
   }
  },
  {
   "cell_type": "code",
   "execution_count": 1586,
   "outputs": [
    {
     "data": {
      "text/plain": "             Pclass  Name     Sex   Age  SibSp  Parch              Ticket  \\\nPassengerId                                                                 \n1                 3    Mr    male  22.0      1      0           A/5 21171   \n2                 1   Mrs  female  38.0      1      0            PC 17599   \n3                 3  Miss  female  26.0      0      0    STON/O2. 3101282   \n4                 1   Mrs  female  35.0      1      0              113803   \n5                 3    Mr    male  35.0      0      0              373450   \n...             ...   ...     ...   ...    ...    ...                 ...   \n1305              3    Mr    male   NaN      0      0           A.5. 3236   \n1306              1  baby  female  39.0      0      0            PC 17758   \n1307              3    Mr    male  38.5      0      0  SOTON/O.Q. 3101262   \n1308              3    Mr    male   NaN      0      0              359309   \n1309              3  baby    male   NaN      1      1                2668   \n\n                 Fare Cabin Embarked  \nPassengerId                           \n1              7.2500   NaN        S  \n2             71.2833   C85        C  \n3              7.9250   NaN        S  \n4             53.1000  C123        S  \n5              8.0500   NaN        S  \n...               ...   ...      ...  \n1305           8.0500   NaN        S  \n1306         108.9000  C105        C  \n1307           7.2500   NaN        S  \n1308           8.0500   NaN        S  \n1309          22.3583   NaN        C  \n\n[1309 rows x 10 columns]",
      "text/html": "<div>\n<style scoped>\n    .dataframe tbody tr th:only-of-type {\n        vertical-align: middle;\n    }\n\n    .dataframe tbody tr th {\n        vertical-align: top;\n    }\n\n    .dataframe thead th {\n        text-align: right;\n    }\n</style>\n<table border=\"1\" class=\"dataframe\">\n  <thead>\n    <tr style=\"text-align: right;\">\n      <th></th>\n      <th>Pclass</th>\n      <th>Name</th>\n      <th>Sex</th>\n      <th>Age</th>\n      <th>SibSp</th>\n      <th>Parch</th>\n      <th>Ticket</th>\n      <th>Fare</th>\n      <th>Cabin</th>\n      <th>Embarked</th>\n    </tr>\n    <tr>\n      <th>PassengerId</th>\n      <th></th>\n      <th></th>\n      <th></th>\n      <th></th>\n      <th></th>\n      <th></th>\n      <th></th>\n      <th></th>\n      <th></th>\n      <th></th>\n    </tr>\n  </thead>\n  <tbody>\n    <tr>\n      <th>1</th>\n      <td>3</td>\n      <td>Mr</td>\n      <td>male</td>\n      <td>22.0</td>\n      <td>1</td>\n      <td>0</td>\n      <td>A/5 21171</td>\n      <td>7.2500</td>\n      <td>NaN</td>\n      <td>S</td>\n    </tr>\n    <tr>\n      <th>2</th>\n      <td>1</td>\n      <td>Mrs</td>\n      <td>female</td>\n      <td>38.0</td>\n      <td>1</td>\n      <td>0</td>\n      <td>PC 17599</td>\n      <td>71.2833</td>\n      <td>C85</td>\n      <td>C</td>\n    </tr>\n    <tr>\n      <th>3</th>\n      <td>3</td>\n      <td>Miss</td>\n      <td>female</td>\n      <td>26.0</td>\n      <td>0</td>\n      <td>0</td>\n      <td>STON/O2. 3101282</td>\n      <td>7.9250</td>\n      <td>NaN</td>\n      <td>S</td>\n    </tr>\n    <tr>\n      <th>4</th>\n      <td>1</td>\n      <td>Mrs</td>\n      <td>female</td>\n      <td>35.0</td>\n      <td>1</td>\n      <td>0</td>\n      <td>113803</td>\n      <td>53.1000</td>\n      <td>C123</td>\n      <td>S</td>\n    </tr>\n    <tr>\n      <th>5</th>\n      <td>3</td>\n      <td>Mr</td>\n      <td>male</td>\n      <td>35.0</td>\n      <td>0</td>\n      <td>0</td>\n      <td>373450</td>\n      <td>8.0500</td>\n      <td>NaN</td>\n      <td>S</td>\n    </tr>\n    <tr>\n      <th>...</th>\n      <td>...</td>\n      <td>...</td>\n      <td>...</td>\n      <td>...</td>\n      <td>...</td>\n      <td>...</td>\n      <td>...</td>\n      <td>...</td>\n      <td>...</td>\n      <td>...</td>\n    </tr>\n    <tr>\n      <th>1305</th>\n      <td>3</td>\n      <td>Mr</td>\n      <td>male</td>\n      <td>NaN</td>\n      <td>0</td>\n      <td>0</td>\n      <td>A.5. 3236</td>\n      <td>8.0500</td>\n      <td>NaN</td>\n      <td>S</td>\n    </tr>\n    <tr>\n      <th>1306</th>\n      <td>1</td>\n      <td>baby</td>\n      <td>female</td>\n      <td>39.0</td>\n      <td>0</td>\n      <td>0</td>\n      <td>PC 17758</td>\n      <td>108.9000</td>\n      <td>C105</td>\n      <td>C</td>\n    </tr>\n    <tr>\n      <th>1307</th>\n      <td>3</td>\n      <td>Mr</td>\n      <td>male</td>\n      <td>38.5</td>\n      <td>0</td>\n      <td>0</td>\n      <td>SOTON/O.Q. 3101262</td>\n      <td>7.2500</td>\n      <td>NaN</td>\n      <td>S</td>\n    </tr>\n    <tr>\n      <th>1308</th>\n      <td>3</td>\n      <td>Mr</td>\n      <td>male</td>\n      <td>NaN</td>\n      <td>0</td>\n      <td>0</td>\n      <td>359309</td>\n      <td>8.0500</td>\n      <td>NaN</td>\n      <td>S</td>\n    </tr>\n    <tr>\n      <th>1309</th>\n      <td>3</td>\n      <td>baby</td>\n      <td>male</td>\n      <td>NaN</td>\n      <td>1</td>\n      <td>1</td>\n      <td>2668</td>\n      <td>22.3583</td>\n      <td>NaN</td>\n      <td>C</td>\n    </tr>\n  </tbody>\n</table>\n<p>1309 rows × 10 columns</p>\n</div>"
     },
     "execution_count": 1586,
     "metadata": {},
     "output_type": "execute_result"
    }
   ],
   "source": [
    "all_data['Name'] = all_data['Name'].apply(lambda x: 'baby' if x.split()[1][:-1] not in ['Mr', 'Miss', 'Mrs'] else x.split()[1][:-1])\n",
    "all_data\n"
   ],
   "metadata": {
    "collapsed": false,
    "pycharm": {
     "name": "#%%\n"
    }
   }
  },
  {
   "cell_type": "code",
   "execution_count": 1587,
   "outputs": [],
   "source": [
    "# from sklearn.preprocessing import OneHotEncoder\n",
    "# from sklearn.linear_model import LinearRegression\n",
    "# from sklearn.preprocessing import LabelEncoder , OneHotEncoder #레이블 인코더 , 원 핫 인코더\n",
    "#\n",
    "# label_encoder = LabelEncoder() # 레이블 인코더 생성\n",
    "# onehot_encoder = OneHotEncoder()\n",
    "#\n",
    "# all_data_label_encoded = label_encoder.fit_transform(all_data) # 레이블 인코더 적용\n",
    "#\n",
    "# all_data_onehot_encoded = onehot_encoder.fit_transform(all_data_label_encoded.reshape(-1,1))\n",
    "# # reshape(-1,1) 메서드를 이용해 2차원으로 바꾸었다.\n",
    "# print('원-핫 인코딩 적용 후 데이터 ' , all_data_onehot_encoded.toarray())\n",
    "#\n",
    "#\n",
    "# all_data_onehot_encoded"
   ],
   "metadata": {
    "collapsed": false,
    "pycharm": {
     "name": "#%%\n"
    }
   }
  },
  {
   "cell_type": "code",
   "execution_count": 1588,
   "outputs": [
    {
     "data": {
      "text/plain": "             Pclass  Name     Sex   Age  SibSp  Parch      Fare Embarked\nPassengerId                                                             \n1                 3    Mr    male  22.0      1      0    7.2500        S\n2                 1   Mrs  female  38.0      1      0   71.2833        C\n3                 3  Miss  female  26.0      0      0    7.9250        S\n4                 1   Mrs  female  35.0      1      0   53.1000        S\n5                 3    Mr    male  35.0      0      0    8.0500        S\n...             ...   ...     ...   ...    ...    ...       ...      ...\n1305              3    Mr    male   NaN      0      0    8.0500        S\n1306              1  baby  female  39.0      0      0  108.9000        C\n1307              3    Mr    male  38.5      0      0    7.2500        S\n1308              3    Mr    male   NaN      0      0    8.0500        S\n1309              3  baby    male   NaN      1      1   22.3583        C\n\n[1309 rows x 8 columns]",
      "text/html": "<div>\n<style scoped>\n    .dataframe tbody tr th:only-of-type {\n        vertical-align: middle;\n    }\n\n    .dataframe tbody tr th {\n        vertical-align: top;\n    }\n\n    .dataframe thead th {\n        text-align: right;\n    }\n</style>\n<table border=\"1\" class=\"dataframe\">\n  <thead>\n    <tr style=\"text-align: right;\">\n      <th></th>\n      <th>Pclass</th>\n      <th>Name</th>\n      <th>Sex</th>\n      <th>Age</th>\n      <th>SibSp</th>\n      <th>Parch</th>\n      <th>Fare</th>\n      <th>Embarked</th>\n    </tr>\n    <tr>\n      <th>PassengerId</th>\n      <th></th>\n      <th></th>\n      <th></th>\n      <th></th>\n      <th></th>\n      <th></th>\n      <th></th>\n      <th></th>\n    </tr>\n  </thead>\n  <tbody>\n    <tr>\n      <th>1</th>\n      <td>3</td>\n      <td>Mr</td>\n      <td>male</td>\n      <td>22.0</td>\n      <td>1</td>\n      <td>0</td>\n      <td>7.2500</td>\n      <td>S</td>\n    </tr>\n    <tr>\n      <th>2</th>\n      <td>1</td>\n      <td>Mrs</td>\n      <td>female</td>\n      <td>38.0</td>\n      <td>1</td>\n      <td>0</td>\n      <td>71.2833</td>\n      <td>C</td>\n    </tr>\n    <tr>\n      <th>3</th>\n      <td>3</td>\n      <td>Miss</td>\n      <td>female</td>\n      <td>26.0</td>\n      <td>0</td>\n      <td>0</td>\n      <td>7.9250</td>\n      <td>S</td>\n    </tr>\n    <tr>\n      <th>4</th>\n      <td>1</td>\n      <td>Mrs</td>\n      <td>female</td>\n      <td>35.0</td>\n      <td>1</td>\n      <td>0</td>\n      <td>53.1000</td>\n      <td>S</td>\n    </tr>\n    <tr>\n      <th>5</th>\n      <td>3</td>\n      <td>Mr</td>\n      <td>male</td>\n      <td>35.0</td>\n      <td>0</td>\n      <td>0</td>\n      <td>8.0500</td>\n      <td>S</td>\n    </tr>\n    <tr>\n      <th>...</th>\n      <td>...</td>\n      <td>...</td>\n      <td>...</td>\n      <td>...</td>\n      <td>...</td>\n      <td>...</td>\n      <td>...</td>\n      <td>...</td>\n    </tr>\n    <tr>\n      <th>1305</th>\n      <td>3</td>\n      <td>Mr</td>\n      <td>male</td>\n      <td>NaN</td>\n      <td>0</td>\n      <td>0</td>\n      <td>8.0500</td>\n      <td>S</td>\n    </tr>\n    <tr>\n      <th>1306</th>\n      <td>1</td>\n      <td>baby</td>\n      <td>female</td>\n      <td>39.0</td>\n      <td>0</td>\n      <td>0</td>\n      <td>108.9000</td>\n      <td>C</td>\n    </tr>\n    <tr>\n      <th>1307</th>\n      <td>3</td>\n      <td>Mr</td>\n      <td>male</td>\n      <td>38.5</td>\n      <td>0</td>\n      <td>0</td>\n      <td>7.2500</td>\n      <td>S</td>\n    </tr>\n    <tr>\n      <th>1308</th>\n      <td>3</td>\n      <td>Mr</td>\n      <td>male</td>\n      <td>NaN</td>\n      <td>0</td>\n      <td>0</td>\n      <td>8.0500</td>\n      <td>S</td>\n    </tr>\n    <tr>\n      <th>1309</th>\n      <td>3</td>\n      <td>baby</td>\n      <td>male</td>\n      <td>NaN</td>\n      <td>1</td>\n      <td>1</td>\n      <td>22.3583</td>\n      <td>C</td>\n    </tr>\n  </tbody>\n</table>\n<p>1309 rows × 8 columns</p>\n</div>"
     },
     "execution_count": 1588,
     "metadata": {},
     "output_type": "execute_result"
    }
   ],
   "source": [
    "all_data.drop(all_data[['Ticket' , 'Cabin']] , axis = 1 , inplace=True)\n",
    "\n",
    "all_data"
   ],
   "metadata": {
    "collapsed": false,
    "pycharm": {
     "name": "#%%\n"
    }
   }
  },
  {
   "cell_type": "code",
   "execution_count": 1589,
   "outputs": [
    {
     "data": {
      "text/plain": "             Pclass  Name   Sex   Age  SibSp  Parch  Fare Embarked\nPassengerId                                                       \n180               3    Mr  male  36.0      0      0   0.0        S\n264               1    Mr  male  40.0      0      0   0.0        S\n272               3    Mr  male  25.0      0      0   0.0        S\n278               2    Mr  male   NaN      0      0   0.0        S\n303               3    Mr  male  19.0      0      0   0.0        S\n414               2    Mr  male   NaN      0      0   0.0        S\n467               2    Mr  male   NaN      0      0   0.0        S\n482               2    Mr  male   NaN      0      0   0.0        S\n598               3    Mr  male  49.0      0      0   0.0        S\n634               1    Mr  male   NaN      0      0   0.0        S\n675               2    Mr  male   NaN      0      0   0.0        S\n733               2    Mr  male   NaN      0      0   0.0        S\n807               1    Mr  male  39.0      0      0   0.0        S\n816               1    Mr  male   NaN      0      0   0.0        S\n823               1  baby  male  38.0      0      0   0.0        S\n1158              1    Mr  male   NaN      0      0   0.0        S\n1264              1    Mr  male  49.0      0      0   0.0        S",
      "text/html": "<div>\n<style scoped>\n    .dataframe tbody tr th:only-of-type {\n        vertical-align: middle;\n    }\n\n    .dataframe tbody tr th {\n        vertical-align: top;\n    }\n\n    .dataframe thead th {\n        text-align: right;\n    }\n</style>\n<table border=\"1\" class=\"dataframe\">\n  <thead>\n    <tr style=\"text-align: right;\">\n      <th></th>\n      <th>Pclass</th>\n      <th>Name</th>\n      <th>Sex</th>\n      <th>Age</th>\n      <th>SibSp</th>\n      <th>Parch</th>\n      <th>Fare</th>\n      <th>Embarked</th>\n    </tr>\n    <tr>\n      <th>PassengerId</th>\n      <th></th>\n      <th></th>\n      <th></th>\n      <th></th>\n      <th></th>\n      <th></th>\n      <th></th>\n      <th></th>\n    </tr>\n  </thead>\n  <tbody>\n    <tr>\n      <th>180</th>\n      <td>3</td>\n      <td>Mr</td>\n      <td>male</td>\n      <td>36.0</td>\n      <td>0</td>\n      <td>0</td>\n      <td>0.0</td>\n      <td>S</td>\n    </tr>\n    <tr>\n      <th>264</th>\n      <td>1</td>\n      <td>Mr</td>\n      <td>male</td>\n      <td>40.0</td>\n      <td>0</td>\n      <td>0</td>\n      <td>0.0</td>\n      <td>S</td>\n    </tr>\n    <tr>\n      <th>272</th>\n      <td>3</td>\n      <td>Mr</td>\n      <td>male</td>\n      <td>25.0</td>\n      <td>0</td>\n      <td>0</td>\n      <td>0.0</td>\n      <td>S</td>\n    </tr>\n    <tr>\n      <th>278</th>\n      <td>2</td>\n      <td>Mr</td>\n      <td>male</td>\n      <td>NaN</td>\n      <td>0</td>\n      <td>0</td>\n      <td>0.0</td>\n      <td>S</td>\n    </tr>\n    <tr>\n      <th>303</th>\n      <td>3</td>\n      <td>Mr</td>\n      <td>male</td>\n      <td>19.0</td>\n      <td>0</td>\n      <td>0</td>\n      <td>0.0</td>\n      <td>S</td>\n    </tr>\n    <tr>\n      <th>414</th>\n      <td>2</td>\n      <td>Mr</td>\n      <td>male</td>\n      <td>NaN</td>\n      <td>0</td>\n      <td>0</td>\n      <td>0.0</td>\n      <td>S</td>\n    </tr>\n    <tr>\n      <th>467</th>\n      <td>2</td>\n      <td>Mr</td>\n      <td>male</td>\n      <td>NaN</td>\n      <td>0</td>\n      <td>0</td>\n      <td>0.0</td>\n      <td>S</td>\n    </tr>\n    <tr>\n      <th>482</th>\n      <td>2</td>\n      <td>Mr</td>\n      <td>male</td>\n      <td>NaN</td>\n      <td>0</td>\n      <td>0</td>\n      <td>0.0</td>\n      <td>S</td>\n    </tr>\n    <tr>\n      <th>598</th>\n      <td>3</td>\n      <td>Mr</td>\n      <td>male</td>\n      <td>49.0</td>\n      <td>0</td>\n      <td>0</td>\n      <td>0.0</td>\n      <td>S</td>\n    </tr>\n    <tr>\n      <th>634</th>\n      <td>1</td>\n      <td>Mr</td>\n      <td>male</td>\n      <td>NaN</td>\n      <td>0</td>\n      <td>0</td>\n      <td>0.0</td>\n      <td>S</td>\n    </tr>\n    <tr>\n      <th>675</th>\n      <td>2</td>\n      <td>Mr</td>\n      <td>male</td>\n      <td>NaN</td>\n      <td>0</td>\n      <td>0</td>\n      <td>0.0</td>\n      <td>S</td>\n    </tr>\n    <tr>\n      <th>733</th>\n      <td>2</td>\n      <td>Mr</td>\n      <td>male</td>\n      <td>NaN</td>\n      <td>0</td>\n      <td>0</td>\n      <td>0.0</td>\n      <td>S</td>\n    </tr>\n    <tr>\n      <th>807</th>\n      <td>1</td>\n      <td>Mr</td>\n      <td>male</td>\n      <td>39.0</td>\n      <td>0</td>\n      <td>0</td>\n      <td>0.0</td>\n      <td>S</td>\n    </tr>\n    <tr>\n      <th>816</th>\n      <td>1</td>\n      <td>Mr</td>\n      <td>male</td>\n      <td>NaN</td>\n      <td>0</td>\n      <td>0</td>\n      <td>0.0</td>\n      <td>S</td>\n    </tr>\n    <tr>\n      <th>823</th>\n      <td>1</td>\n      <td>baby</td>\n      <td>male</td>\n      <td>38.0</td>\n      <td>0</td>\n      <td>0</td>\n      <td>0.0</td>\n      <td>S</td>\n    </tr>\n    <tr>\n      <th>1158</th>\n      <td>1</td>\n      <td>Mr</td>\n      <td>male</td>\n      <td>NaN</td>\n      <td>0</td>\n      <td>0</td>\n      <td>0.0</td>\n      <td>S</td>\n    </tr>\n    <tr>\n      <th>1264</th>\n      <td>1</td>\n      <td>Mr</td>\n      <td>male</td>\n      <td>49.0</td>\n      <td>0</td>\n      <td>0</td>\n      <td>0.0</td>\n      <td>S</td>\n    </tr>\n  </tbody>\n</table>\n</div>"
     },
     "execution_count": 1589,
     "metadata": {},
     "output_type": "execute_result"
    }
   ],
   "source": [
    "all_data[all_data['Fare'] == 0]"
   ],
   "metadata": {
    "collapsed": false,
    "pycharm": {
     "name": "#%%\n"
    }
   }
  },
  {
   "cell_type": "code",
   "execution_count": 1590,
   "outputs": [
    {
     "data": {
      "text/plain": "             Pclass  Name     Sex   Age  SibSp  Parch      Fare Embarked\nPassengerId                                                             \n1                 3    Mr    male  22.0      1      0    7.2500        S\n2                 1   Mrs  female  38.0      1      0   71.2833        C\n3                 3  Miss  female  26.0      0      0    7.9250        S\n4                 1   Mrs  female  35.0      1      0   53.1000        S\n5                 3    Mr    male  35.0      0      0    8.0500        S\n...             ...   ...     ...   ...    ...    ...       ...      ...\n1305              3    Mr    male   NaN      0      0    8.0500        S\n1306              1  baby  female  39.0      0      0  108.9000        C\n1307              3    Mr    male  38.5      0      0    7.2500        S\n1308              3    Mr    male   NaN      0      0    8.0500        S\n1309              3  baby    male   NaN      1      1   22.3583        C\n\n[1309 rows x 8 columns]",
      "text/html": "<div>\n<style scoped>\n    .dataframe tbody tr th:only-of-type {\n        vertical-align: middle;\n    }\n\n    .dataframe tbody tr th {\n        vertical-align: top;\n    }\n\n    .dataframe thead th {\n        text-align: right;\n    }\n</style>\n<table border=\"1\" class=\"dataframe\">\n  <thead>\n    <tr style=\"text-align: right;\">\n      <th></th>\n      <th>Pclass</th>\n      <th>Name</th>\n      <th>Sex</th>\n      <th>Age</th>\n      <th>SibSp</th>\n      <th>Parch</th>\n      <th>Fare</th>\n      <th>Embarked</th>\n    </tr>\n    <tr>\n      <th>PassengerId</th>\n      <th></th>\n      <th></th>\n      <th></th>\n      <th></th>\n      <th></th>\n      <th></th>\n      <th></th>\n      <th></th>\n    </tr>\n  </thead>\n  <tbody>\n    <tr>\n      <th>1</th>\n      <td>3</td>\n      <td>Mr</td>\n      <td>male</td>\n      <td>22.0</td>\n      <td>1</td>\n      <td>0</td>\n      <td>7.2500</td>\n      <td>S</td>\n    </tr>\n    <tr>\n      <th>2</th>\n      <td>1</td>\n      <td>Mrs</td>\n      <td>female</td>\n      <td>38.0</td>\n      <td>1</td>\n      <td>0</td>\n      <td>71.2833</td>\n      <td>C</td>\n    </tr>\n    <tr>\n      <th>3</th>\n      <td>3</td>\n      <td>Miss</td>\n      <td>female</td>\n      <td>26.0</td>\n      <td>0</td>\n      <td>0</td>\n      <td>7.9250</td>\n      <td>S</td>\n    </tr>\n    <tr>\n      <th>4</th>\n      <td>1</td>\n      <td>Mrs</td>\n      <td>female</td>\n      <td>35.0</td>\n      <td>1</td>\n      <td>0</td>\n      <td>53.1000</td>\n      <td>S</td>\n    </tr>\n    <tr>\n      <th>5</th>\n      <td>3</td>\n      <td>Mr</td>\n      <td>male</td>\n      <td>35.0</td>\n      <td>0</td>\n      <td>0</td>\n      <td>8.0500</td>\n      <td>S</td>\n    </tr>\n    <tr>\n      <th>...</th>\n      <td>...</td>\n      <td>...</td>\n      <td>...</td>\n      <td>...</td>\n      <td>...</td>\n      <td>...</td>\n      <td>...</td>\n      <td>...</td>\n    </tr>\n    <tr>\n      <th>1305</th>\n      <td>3</td>\n      <td>Mr</td>\n      <td>male</td>\n      <td>NaN</td>\n      <td>0</td>\n      <td>0</td>\n      <td>8.0500</td>\n      <td>S</td>\n    </tr>\n    <tr>\n      <th>1306</th>\n      <td>1</td>\n      <td>baby</td>\n      <td>female</td>\n      <td>39.0</td>\n      <td>0</td>\n      <td>0</td>\n      <td>108.9000</td>\n      <td>C</td>\n    </tr>\n    <tr>\n      <th>1307</th>\n      <td>3</td>\n      <td>Mr</td>\n      <td>male</td>\n      <td>38.5</td>\n      <td>0</td>\n      <td>0</td>\n      <td>7.2500</td>\n      <td>S</td>\n    </tr>\n    <tr>\n      <th>1308</th>\n      <td>3</td>\n      <td>Mr</td>\n      <td>male</td>\n      <td>NaN</td>\n      <td>0</td>\n      <td>0</td>\n      <td>8.0500</td>\n      <td>S</td>\n    </tr>\n    <tr>\n      <th>1309</th>\n      <td>3</td>\n      <td>baby</td>\n      <td>male</td>\n      <td>NaN</td>\n      <td>1</td>\n      <td>1</td>\n      <td>22.3583</td>\n      <td>C</td>\n    </tr>\n  </tbody>\n</table>\n<p>1309 rows × 8 columns</p>\n</div>"
     },
     "execution_count": 1590,
     "metadata": {},
     "output_type": "execute_result"
    }
   ],
   "source": [
    "all_data['Embarked'] = all_data['Embarked'].fillna(all_data['Embarked'].mode().iloc[0])\n",
    "\n",
    "fare_medians = all_data[all_data['Fare'] != 0].groupby('Pclass')['Fare'].median()\n",
    "# fare_medians\n",
    "# Fare 값이 0인 데이터를 PClass 등급에 따라 중앙값으로 채우기\n",
    "for i, row in all_data.iterrows():\n",
    "    if row['Fare'] == 0 or row['Fare'] == 'NaN':\n",
    "        all_data.at[i, 'Fare'] = fare_medians[row['Pclass']]\n",
    "all_data['Fare'] = all_data['Fare'].fillna(all_data['Fare'].mode().iloc[0])\n",
    "# 결과 확인\n",
    "all_data.loc[816:824]\n",
    "\n",
    "all_data"
   ],
   "metadata": {
    "collapsed": false,
    "pycharm": {
     "name": "#%%\n"
    }
   }
  },
  {
   "cell_type": "code",
   "execution_count": 1591,
   "outputs": [
    {
     "data": {
      "text/plain": "Empty DataFrame\nColumns: [Pclass, Name, Sex, Age, SibSp, Parch, Fare, Embarked]\nIndex: []",
      "text/html": "<div>\n<style scoped>\n    .dataframe tbody tr th:only-of-type {\n        vertical-align: middle;\n    }\n\n    .dataframe tbody tr th {\n        vertical-align: top;\n    }\n\n    .dataframe thead th {\n        text-align: right;\n    }\n</style>\n<table border=\"1\" class=\"dataframe\">\n  <thead>\n    <tr style=\"text-align: right;\">\n      <th></th>\n      <th>Pclass</th>\n      <th>Name</th>\n      <th>Sex</th>\n      <th>Age</th>\n      <th>SibSp</th>\n      <th>Parch</th>\n      <th>Fare</th>\n      <th>Embarked</th>\n    </tr>\n    <tr>\n      <th>PassengerId</th>\n      <th></th>\n      <th></th>\n      <th></th>\n      <th></th>\n      <th></th>\n      <th></th>\n      <th></th>\n      <th></th>\n    </tr>\n  </thead>\n  <tbody>\n  </tbody>\n</table>\n</div>"
     },
     "execution_count": 1591,
     "metadata": {},
     "output_type": "execute_result"
    }
   ],
   "source": [
    "all_data[all_data['Fare'] == 0]"
   ],
   "metadata": {
    "collapsed": false,
    "pycharm": {
     "name": "#%%\n"
    }
   }
  },
  {
   "cell_type": "code",
   "execution_count": 1592,
   "outputs": [
    {
     "name": "stdout",
     "output_type": "stream",
     "text": [
      "<class 'pandas.core.frame.DataFrame'>\n",
      "Int64Index: 1309 entries, 1 to 1309\n",
      "Data columns (total 8 columns):\n",
      " #   Column    Non-Null Count  Dtype  \n",
      "---  ------    --------------  -----  \n",
      " 0   Pclass    1309 non-null   int64  \n",
      " 1   Name      1309 non-null   object \n",
      " 2   Sex       1309 non-null   object \n",
      " 3   Age       1046 non-null   float64\n",
      " 4   SibSp     1309 non-null   int64  \n",
      " 5   Parch     1309 non-null   int64  \n",
      " 6   Fare      1309 non-null   float64\n",
      " 7   Embarked  1309 non-null   object \n",
      "dtypes: float64(2), int64(3), object(3)\n",
      "memory usage: 124.3+ KB\n"
     ]
    }
   ],
   "source": [
    "all_data.info()"
   ],
   "metadata": {
    "collapsed": false,
    "pycharm": {
     "name": "#%%\n"
    }
   }
  },
  {
   "cell_type": "code",
   "execution_count": 1593,
   "outputs": [],
   "source": [
    "binary_col = []\n",
    "object_col = []\n",
    "\n",
    "for i in all_data.columns.tolist():\n",
    "    if all_data[i].dtype in ['int64' , 'float64']:\n",
    "        binary_col.append(i)\n",
    "    else:\n",
    "        object_col.append(i)"
   ],
   "metadata": {
    "collapsed": false,
    "pycharm": {
     "name": "#%%\n"
    }
   }
  },
  {
   "cell_type": "code",
   "execution_count": 1594,
   "outputs": [
    {
     "data": {
      "text/plain": "             Name     Sex Embarked\nPassengerId                       \n1              Mr    male        S\n2             Mrs  female        C\n3            Miss  female        S\n4             Mrs  female        S\n5              Mr    male        S\n...           ...     ...      ...\n1305           Mr    male        S\n1306         baby  female        C\n1307           Mr    male        S\n1308           Mr    male        S\n1309         baby    male        C\n\n[1309 rows x 3 columns]",
      "text/html": "<div>\n<style scoped>\n    .dataframe tbody tr th:only-of-type {\n        vertical-align: middle;\n    }\n\n    .dataframe tbody tr th {\n        vertical-align: top;\n    }\n\n    .dataframe thead th {\n        text-align: right;\n    }\n</style>\n<table border=\"1\" class=\"dataframe\">\n  <thead>\n    <tr style=\"text-align: right;\">\n      <th></th>\n      <th>Name</th>\n      <th>Sex</th>\n      <th>Embarked</th>\n    </tr>\n    <tr>\n      <th>PassengerId</th>\n      <th></th>\n      <th></th>\n      <th></th>\n    </tr>\n  </thead>\n  <tbody>\n    <tr>\n      <th>1</th>\n      <td>Mr</td>\n      <td>male</td>\n      <td>S</td>\n    </tr>\n    <tr>\n      <th>2</th>\n      <td>Mrs</td>\n      <td>female</td>\n      <td>C</td>\n    </tr>\n    <tr>\n      <th>3</th>\n      <td>Miss</td>\n      <td>female</td>\n      <td>S</td>\n    </tr>\n    <tr>\n      <th>4</th>\n      <td>Mrs</td>\n      <td>female</td>\n      <td>S</td>\n    </tr>\n    <tr>\n      <th>5</th>\n      <td>Mr</td>\n      <td>male</td>\n      <td>S</td>\n    </tr>\n    <tr>\n      <th>...</th>\n      <td>...</td>\n      <td>...</td>\n      <td>...</td>\n    </tr>\n    <tr>\n      <th>1305</th>\n      <td>Mr</td>\n      <td>male</td>\n      <td>S</td>\n    </tr>\n    <tr>\n      <th>1306</th>\n      <td>baby</td>\n      <td>female</td>\n      <td>C</td>\n    </tr>\n    <tr>\n      <th>1307</th>\n      <td>Mr</td>\n      <td>male</td>\n      <td>S</td>\n    </tr>\n    <tr>\n      <th>1308</th>\n      <td>Mr</td>\n      <td>male</td>\n      <td>S</td>\n    </tr>\n    <tr>\n      <th>1309</th>\n      <td>baby</td>\n      <td>male</td>\n      <td>C</td>\n    </tr>\n  </tbody>\n</table>\n<p>1309 rows × 3 columns</p>\n</div>"
     },
     "execution_count": 1594,
     "metadata": {},
     "output_type": "execute_result"
    }
   ],
   "source": [
    "all_data[object_col]"
   ],
   "metadata": {
    "collapsed": false,
    "pycharm": {
     "name": "#%%\n"
    }
   }
  },
  {
   "cell_type": "code",
   "execution_count": 1595,
   "outputs": [
    {
     "data": {
      "text/plain": "             Pclass  Name  Sex   Age  SibSp  Parch      Fare  Embarked\nPassengerId                                                           \n1                 3     1    1  22.0      1      0    7.2500         2\n2                 1     2    0  38.0      1      0   71.2833         0\n3                 3     0    0  26.0      0      0    7.9250         2\n4                 1     2    0  35.0      1      0   53.1000         2\n5                 3     1    1  35.0      0      0    8.0500         2\n...             ...   ...  ...   ...    ...    ...       ...       ...\n1305              3     1    1   NaN      0      0    8.0500         2\n1306              1     3    0  39.0      0      0  108.9000         0\n1307              3     1    1  38.5      0      0    7.2500         2\n1308              3     1    1   NaN      0      0    8.0500         2\n1309              3     3    1   NaN      1      1   22.3583         0\n\n[1309 rows x 8 columns]",
      "text/html": "<div>\n<style scoped>\n    .dataframe tbody tr th:only-of-type {\n        vertical-align: middle;\n    }\n\n    .dataframe tbody tr th {\n        vertical-align: top;\n    }\n\n    .dataframe thead th {\n        text-align: right;\n    }\n</style>\n<table border=\"1\" class=\"dataframe\">\n  <thead>\n    <tr style=\"text-align: right;\">\n      <th></th>\n      <th>Pclass</th>\n      <th>Name</th>\n      <th>Sex</th>\n      <th>Age</th>\n      <th>SibSp</th>\n      <th>Parch</th>\n      <th>Fare</th>\n      <th>Embarked</th>\n    </tr>\n    <tr>\n      <th>PassengerId</th>\n      <th></th>\n      <th></th>\n      <th></th>\n      <th></th>\n      <th></th>\n      <th></th>\n      <th></th>\n      <th></th>\n    </tr>\n  </thead>\n  <tbody>\n    <tr>\n      <th>1</th>\n      <td>3</td>\n      <td>1</td>\n      <td>1</td>\n      <td>22.0</td>\n      <td>1</td>\n      <td>0</td>\n      <td>7.2500</td>\n      <td>2</td>\n    </tr>\n    <tr>\n      <th>2</th>\n      <td>1</td>\n      <td>2</td>\n      <td>0</td>\n      <td>38.0</td>\n      <td>1</td>\n      <td>0</td>\n      <td>71.2833</td>\n      <td>0</td>\n    </tr>\n    <tr>\n      <th>3</th>\n      <td>3</td>\n      <td>0</td>\n      <td>0</td>\n      <td>26.0</td>\n      <td>0</td>\n      <td>0</td>\n      <td>7.9250</td>\n      <td>2</td>\n    </tr>\n    <tr>\n      <th>4</th>\n      <td>1</td>\n      <td>2</td>\n      <td>0</td>\n      <td>35.0</td>\n      <td>1</td>\n      <td>0</td>\n      <td>53.1000</td>\n      <td>2</td>\n    </tr>\n    <tr>\n      <th>5</th>\n      <td>3</td>\n      <td>1</td>\n      <td>1</td>\n      <td>35.0</td>\n      <td>0</td>\n      <td>0</td>\n      <td>8.0500</td>\n      <td>2</td>\n    </tr>\n    <tr>\n      <th>...</th>\n      <td>...</td>\n      <td>...</td>\n      <td>...</td>\n      <td>...</td>\n      <td>...</td>\n      <td>...</td>\n      <td>...</td>\n      <td>...</td>\n    </tr>\n    <tr>\n      <th>1305</th>\n      <td>3</td>\n      <td>1</td>\n      <td>1</td>\n      <td>NaN</td>\n      <td>0</td>\n      <td>0</td>\n      <td>8.0500</td>\n      <td>2</td>\n    </tr>\n    <tr>\n      <th>1306</th>\n      <td>1</td>\n      <td>3</td>\n      <td>0</td>\n      <td>39.0</td>\n      <td>0</td>\n      <td>0</td>\n      <td>108.9000</td>\n      <td>0</td>\n    </tr>\n    <tr>\n      <th>1307</th>\n      <td>3</td>\n      <td>1</td>\n      <td>1</td>\n      <td>38.5</td>\n      <td>0</td>\n      <td>0</td>\n      <td>7.2500</td>\n      <td>2</td>\n    </tr>\n    <tr>\n      <th>1308</th>\n      <td>3</td>\n      <td>1</td>\n      <td>1</td>\n      <td>NaN</td>\n      <td>0</td>\n      <td>0</td>\n      <td>8.0500</td>\n      <td>2</td>\n    </tr>\n    <tr>\n      <th>1309</th>\n      <td>3</td>\n      <td>3</td>\n      <td>1</td>\n      <td>NaN</td>\n      <td>1</td>\n      <td>1</td>\n      <td>22.3583</td>\n      <td>0</td>\n    </tr>\n  </tbody>\n</table>\n<p>1309 rows × 8 columns</p>\n</div>"
     },
     "execution_count": 1595,
     "metadata": {},
     "output_type": "execute_result"
    }
   ],
   "source": [
    "from sklearn.preprocessing import OneHotEncoder ,LabelEncoder\n",
    "\n",
    "encoder = OneHotEncoder() # 원-핫 인코더 생성\n",
    "le = LabelEncoder()\n",
    "for i in range(len(object_col)):\n",
    "    all_data_label_encoded = le.fit_transform(all_data[object_col[i]])\n",
    "    all_data[object_col[i]] = all_data_label_encoded\n",
    "all_data"
   ],
   "metadata": {
    "collapsed": false,
    "pycharm": {
     "name": "#%%\n"
    }
   }
  },
  {
   "cell_type": "code",
   "execution_count": 1596,
   "outputs": [
    {
     "data": {
      "text/plain": "             Pclass  Name  Sex   Age  SibSp  Parch     Fare  Embarked\nPassengerId                                                          \n1                 3     1    1  22.0      1      0   7.2500         2\n2                 1     2    0  38.0      1      0  71.2833         0\n3                 3     0    0  26.0      0      0   7.9250         2\n4                 1     2    0  35.0      1      0  53.1000         2\n5                 3     1    1  35.0      0      0   8.0500         2\n...             ...   ...  ...   ...    ...    ...      ...       ...\n887               2     3    1  27.0      0      0  13.0000         2\n888               1     0    0  19.0      0      0  30.0000         2\n889               3     0    0   NaN      1      2  23.4500         2\n890               1     1    1  26.0      0      0  30.0000         0\n891               3     1    1  32.0      0      0   7.7500         1\n\n[891 rows x 8 columns]",
      "text/html": "<div>\n<style scoped>\n    .dataframe tbody tr th:only-of-type {\n        vertical-align: middle;\n    }\n\n    .dataframe tbody tr th {\n        vertical-align: top;\n    }\n\n    .dataframe thead th {\n        text-align: right;\n    }\n</style>\n<table border=\"1\" class=\"dataframe\">\n  <thead>\n    <tr style=\"text-align: right;\">\n      <th></th>\n      <th>Pclass</th>\n      <th>Name</th>\n      <th>Sex</th>\n      <th>Age</th>\n      <th>SibSp</th>\n      <th>Parch</th>\n      <th>Fare</th>\n      <th>Embarked</th>\n    </tr>\n    <tr>\n      <th>PassengerId</th>\n      <th></th>\n      <th></th>\n      <th></th>\n      <th></th>\n      <th></th>\n      <th></th>\n      <th></th>\n      <th></th>\n    </tr>\n  </thead>\n  <tbody>\n    <tr>\n      <th>1</th>\n      <td>3</td>\n      <td>1</td>\n      <td>1</td>\n      <td>22.0</td>\n      <td>1</td>\n      <td>0</td>\n      <td>7.2500</td>\n      <td>2</td>\n    </tr>\n    <tr>\n      <th>2</th>\n      <td>1</td>\n      <td>2</td>\n      <td>0</td>\n      <td>38.0</td>\n      <td>1</td>\n      <td>0</td>\n      <td>71.2833</td>\n      <td>0</td>\n    </tr>\n    <tr>\n      <th>3</th>\n      <td>3</td>\n      <td>0</td>\n      <td>0</td>\n      <td>26.0</td>\n      <td>0</td>\n      <td>0</td>\n      <td>7.9250</td>\n      <td>2</td>\n    </tr>\n    <tr>\n      <th>4</th>\n      <td>1</td>\n      <td>2</td>\n      <td>0</td>\n      <td>35.0</td>\n      <td>1</td>\n      <td>0</td>\n      <td>53.1000</td>\n      <td>2</td>\n    </tr>\n    <tr>\n      <th>5</th>\n      <td>3</td>\n      <td>1</td>\n      <td>1</td>\n      <td>35.0</td>\n      <td>0</td>\n      <td>0</td>\n      <td>8.0500</td>\n      <td>2</td>\n    </tr>\n    <tr>\n      <th>...</th>\n      <td>...</td>\n      <td>...</td>\n      <td>...</td>\n      <td>...</td>\n      <td>...</td>\n      <td>...</td>\n      <td>...</td>\n      <td>...</td>\n    </tr>\n    <tr>\n      <th>887</th>\n      <td>2</td>\n      <td>3</td>\n      <td>1</td>\n      <td>27.0</td>\n      <td>0</td>\n      <td>0</td>\n      <td>13.0000</td>\n      <td>2</td>\n    </tr>\n    <tr>\n      <th>888</th>\n      <td>1</td>\n      <td>0</td>\n      <td>0</td>\n      <td>19.0</td>\n      <td>0</td>\n      <td>0</td>\n      <td>30.0000</td>\n      <td>2</td>\n    </tr>\n    <tr>\n      <th>889</th>\n      <td>3</td>\n      <td>0</td>\n      <td>0</td>\n      <td>NaN</td>\n      <td>1</td>\n      <td>2</td>\n      <td>23.4500</td>\n      <td>2</td>\n    </tr>\n    <tr>\n      <th>890</th>\n      <td>1</td>\n      <td>1</td>\n      <td>1</td>\n      <td>26.0</td>\n      <td>0</td>\n      <td>0</td>\n      <td>30.0000</td>\n      <td>0</td>\n    </tr>\n    <tr>\n      <th>891</th>\n      <td>3</td>\n      <td>1</td>\n      <td>1</td>\n      <td>32.0</td>\n      <td>0</td>\n      <td>0</td>\n      <td>7.7500</td>\n      <td>1</td>\n    </tr>\n  </tbody>\n</table>\n<p>891 rows × 8 columns</p>\n</div>"
     },
     "execution_count": 1596,
     "metadata": {},
     "output_type": "execute_result"
    }
   ],
   "source": [
    "all_data.iloc[:len(train)]"
   ],
   "metadata": {
    "collapsed": false,
    "pycharm": {
     "name": "#%%\n"
    }
   }
  },
  {
   "cell_type": "code",
   "execution_count": 1597,
   "outputs": [
    {
     "data": {
      "text/plain": "             Pclass  Name  Sex  Age  SibSp  Parch     Fare  Embarked\nPassengerId                                                         \n6                 3     1    1  NaN      0      0   8.4583         1\n18                2     1    1  NaN      0      0  13.0000         2\n20                3     2    0  NaN      0      0   7.2250         0\n27                3     1    1  NaN      0      0   7.2250         0\n29                3     0    0  NaN      0      0   7.8792         1\n...             ...   ...  ...  ...    ...    ...      ...       ...\n1300              3     0    0  NaN      0      0   7.7208         1\n1302              3     0    0  NaN      0      0   7.7500         1\n1305              3     1    1  NaN      0      0   8.0500         2\n1308              3     1    1  NaN      0      0   8.0500         2\n1309              3     3    1  NaN      1      1  22.3583         0\n\n[263 rows x 8 columns]",
      "text/html": "<div>\n<style scoped>\n    .dataframe tbody tr th:only-of-type {\n        vertical-align: middle;\n    }\n\n    .dataframe tbody tr th {\n        vertical-align: top;\n    }\n\n    .dataframe thead th {\n        text-align: right;\n    }\n</style>\n<table border=\"1\" class=\"dataframe\">\n  <thead>\n    <tr style=\"text-align: right;\">\n      <th></th>\n      <th>Pclass</th>\n      <th>Name</th>\n      <th>Sex</th>\n      <th>Age</th>\n      <th>SibSp</th>\n      <th>Parch</th>\n      <th>Fare</th>\n      <th>Embarked</th>\n    </tr>\n    <tr>\n      <th>PassengerId</th>\n      <th></th>\n      <th></th>\n      <th></th>\n      <th></th>\n      <th></th>\n      <th></th>\n      <th></th>\n      <th></th>\n    </tr>\n  </thead>\n  <tbody>\n    <tr>\n      <th>6</th>\n      <td>3</td>\n      <td>1</td>\n      <td>1</td>\n      <td>NaN</td>\n      <td>0</td>\n      <td>0</td>\n      <td>8.4583</td>\n      <td>1</td>\n    </tr>\n    <tr>\n      <th>18</th>\n      <td>2</td>\n      <td>1</td>\n      <td>1</td>\n      <td>NaN</td>\n      <td>0</td>\n      <td>0</td>\n      <td>13.0000</td>\n      <td>2</td>\n    </tr>\n    <tr>\n      <th>20</th>\n      <td>3</td>\n      <td>2</td>\n      <td>0</td>\n      <td>NaN</td>\n      <td>0</td>\n      <td>0</td>\n      <td>7.2250</td>\n      <td>0</td>\n    </tr>\n    <tr>\n      <th>27</th>\n      <td>3</td>\n      <td>1</td>\n      <td>1</td>\n      <td>NaN</td>\n      <td>0</td>\n      <td>0</td>\n      <td>7.2250</td>\n      <td>0</td>\n    </tr>\n    <tr>\n      <th>29</th>\n      <td>3</td>\n      <td>0</td>\n      <td>0</td>\n      <td>NaN</td>\n      <td>0</td>\n      <td>0</td>\n      <td>7.8792</td>\n      <td>1</td>\n    </tr>\n    <tr>\n      <th>...</th>\n      <td>...</td>\n      <td>...</td>\n      <td>...</td>\n      <td>...</td>\n      <td>...</td>\n      <td>...</td>\n      <td>...</td>\n      <td>...</td>\n    </tr>\n    <tr>\n      <th>1300</th>\n      <td>3</td>\n      <td>0</td>\n      <td>0</td>\n      <td>NaN</td>\n      <td>0</td>\n      <td>0</td>\n      <td>7.7208</td>\n      <td>1</td>\n    </tr>\n    <tr>\n      <th>1302</th>\n      <td>3</td>\n      <td>0</td>\n      <td>0</td>\n      <td>NaN</td>\n      <td>0</td>\n      <td>0</td>\n      <td>7.7500</td>\n      <td>1</td>\n    </tr>\n    <tr>\n      <th>1305</th>\n      <td>3</td>\n      <td>1</td>\n      <td>1</td>\n      <td>NaN</td>\n      <td>0</td>\n      <td>0</td>\n      <td>8.0500</td>\n      <td>2</td>\n    </tr>\n    <tr>\n      <th>1308</th>\n      <td>3</td>\n      <td>1</td>\n      <td>1</td>\n      <td>NaN</td>\n      <td>0</td>\n      <td>0</td>\n      <td>8.0500</td>\n      <td>2</td>\n    </tr>\n    <tr>\n      <th>1309</th>\n      <td>3</td>\n      <td>3</td>\n      <td>1</td>\n      <td>NaN</td>\n      <td>1</td>\n      <td>1</td>\n      <td>22.3583</td>\n      <td>0</td>\n    </tr>\n  </tbody>\n</table>\n<p>263 rows × 8 columns</p>\n</div>"
     },
     "execution_count": 1597,
     "metadata": {},
     "output_type": "execute_result"
    }
   ],
   "source": [
    "all_data[pd.isnull(all_data['Age'])]"
   ],
   "metadata": {
    "collapsed": false,
    "pycharm": {
     "name": "#%%\n"
    }
   }
  },
  {
   "cell_type": "code",
   "execution_count": 1598,
   "outputs": [
    {
     "name": "stdout",
     "output_type": "stream",
     "text": [
      "891\n"
     ]
    },
    {
     "data": {
      "text/plain": "PassengerId\n1       22.0\n2       38.0\n3       26.0\n4       35.0\n5       35.0\n        ... \n1301     3.0\n1303    37.0\n1304    28.0\n1306    39.0\n1307    38.5\nName: Age, Length: 1046, dtype: float64"
     },
     "execution_count": 1598,
     "metadata": {},
     "output_type": "execute_result"
    }
   ],
   "source": [
    "\n",
    "num_train = len(train) # 훈련데이터 개수\n",
    "print(num_train)\n",
    "\n",
    "X_train = all_data[~pd.isnull(all_data['Age'])]\n",
    "X_test = all_data[pd.isnull(all_data['Age'])]\n",
    "\n",
    "\n",
    "X_train = X_train.drop(['Age'] , axis =1)\n",
    "X_test = X_test.drop(['Age'] , axis =1)\n",
    "train2 = all_data[~pd.isnull(all_data['Age'])]\n",
    "y = train2['Age']\n",
    "y"
   ],
   "metadata": {
    "collapsed": false,
    "pycharm": {
     "name": "#%%\n"
    }
   }
  },
  {
   "cell_type": "code",
   "execution_count": 1599,
   "outputs": [
    {
     "data": {
      "text/plain": "             Pclass  Name  Sex  SibSp  Parch      Fare  Embarked\nPassengerId                                                     \n1                 3     1    1      1      0    7.2500         2\n2                 1     2    0      1      0   71.2833         0\n3                 3     0    0      0      0    7.9250         2\n4                 1     2    0      1      0   53.1000         2\n5                 3     1    1      0      0    8.0500         2\n...             ...   ...  ...    ...    ...       ...       ...\n1301              3     0    0      1      1   13.7750         2\n1303              1     2    0      1      0   90.0000         1\n1304              3     0    0      0      0    7.7750         2\n1306              1     3    0      0      0  108.9000         0\n1307              3     1    1      0      0    7.2500         2\n\n[1046 rows x 7 columns]",
      "text/html": "<div>\n<style scoped>\n    .dataframe tbody tr th:only-of-type {\n        vertical-align: middle;\n    }\n\n    .dataframe tbody tr th {\n        vertical-align: top;\n    }\n\n    .dataframe thead th {\n        text-align: right;\n    }\n</style>\n<table border=\"1\" class=\"dataframe\">\n  <thead>\n    <tr style=\"text-align: right;\">\n      <th></th>\n      <th>Pclass</th>\n      <th>Name</th>\n      <th>Sex</th>\n      <th>SibSp</th>\n      <th>Parch</th>\n      <th>Fare</th>\n      <th>Embarked</th>\n    </tr>\n    <tr>\n      <th>PassengerId</th>\n      <th></th>\n      <th></th>\n      <th></th>\n      <th></th>\n      <th></th>\n      <th></th>\n      <th></th>\n    </tr>\n  </thead>\n  <tbody>\n    <tr>\n      <th>1</th>\n      <td>3</td>\n      <td>1</td>\n      <td>1</td>\n      <td>1</td>\n      <td>0</td>\n      <td>7.2500</td>\n      <td>2</td>\n    </tr>\n    <tr>\n      <th>2</th>\n      <td>1</td>\n      <td>2</td>\n      <td>0</td>\n      <td>1</td>\n      <td>0</td>\n      <td>71.2833</td>\n      <td>0</td>\n    </tr>\n    <tr>\n      <th>3</th>\n      <td>3</td>\n      <td>0</td>\n      <td>0</td>\n      <td>0</td>\n      <td>0</td>\n      <td>7.9250</td>\n      <td>2</td>\n    </tr>\n    <tr>\n      <th>4</th>\n      <td>1</td>\n      <td>2</td>\n      <td>0</td>\n      <td>1</td>\n      <td>0</td>\n      <td>53.1000</td>\n      <td>2</td>\n    </tr>\n    <tr>\n      <th>5</th>\n      <td>3</td>\n      <td>1</td>\n      <td>1</td>\n      <td>0</td>\n      <td>0</td>\n      <td>8.0500</td>\n      <td>2</td>\n    </tr>\n    <tr>\n      <th>...</th>\n      <td>...</td>\n      <td>...</td>\n      <td>...</td>\n      <td>...</td>\n      <td>...</td>\n      <td>...</td>\n      <td>...</td>\n    </tr>\n    <tr>\n      <th>1301</th>\n      <td>3</td>\n      <td>0</td>\n      <td>0</td>\n      <td>1</td>\n      <td>1</td>\n      <td>13.7750</td>\n      <td>2</td>\n    </tr>\n    <tr>\n      <th>1303</th>\n      <td>1</td>\n      <td>2</td>\n      <td>0</td>\n      <td>1</td>\n      <td>0</td>\n      <td>90.0000</td>\n      <td>1</td>\n    </tr>\n    <tr>\n      <th>1304</th>\n      <td>3</td>\n      <td>0</td>\n      <td>0</td>\n      <td>0</td>\n      <td>0</td>\n      <td>7.7750</td>\n      <td>2</td>\n    </tr>\n    <tr>\n      <th>1306</th>\n      <td>1</td>\n      <td>3</td>\n      <td>0</td>\n      <td>0</td>\n      <td>0</td>\n      <td>108.9000</td>\n      <td>0</td>\n    </tr>\n    <tr>\n      <th>1307</th>\n      <td>3</td>\n      <td>1</td>\n      <td>1</td>\n      <td>0</td>\n      <td>0</td>\n      <td>7.2500</td>\n      <td>2</td>\n    </tr>\n  </tbody>\n</table>\n<p>1046 rows × 7 columns</p>\n</div>"
     },
     "execution_count": 1599,
     "metadata": {},
     "output_type": "execute_result"
    }
   ],
   "source": [
    "X_train"
   ],
   "metadata": {
    "collapsed": false,
    "pycharm": {
     "name": "#%%\n"
    }
   }
  },
  {
   "cell_type": "code",
   "execution_count": 1600,
   "outputs": [
    {
     "data": {
      "text/plain": "PassengerId\n1       22.0\n2       38.0\n3       26.0\n4       35.0\n5       35.0\n        ... \n1301     3.0\n1303    37.0\n1304    28.0\n1306    39.0\n1307    38.5\nName: Age, Length: 1046, dtype: float64"
     },
     "execution_count": 1600,
     "metadata": {},
     "output_type": "execute_result"
    }
   ],
   "source": [
    "y"
   ],
   "metadata": {
    "collapsed": false,
    "pycharm": {
     "name": "#%%\n"
    }
   }
  },
  {
   "cell_type": "code",
   "execution_count": 1601,
   "outputs": [
    {
     "data": {
      "text/plain": "Empty DataFrame\nColumns: [Pclass, Name, Sex, SibSp, Parch, Fare, Embarked]\nIndex: []",
      "text/html": "<div>\n<style scoped>\n    .dataframe tbody tr th:only-of-type {\n        vertical-align: middle;\n    }\n\n    .dataframe tbody tr th {\n        vertical-align: top;\n    }\n\n    .dataframe thead th {\n        text-align: right;\n    }\n</style>\n<table border=\"1\" class=\"dataframe\">\n  <thead>\n    <tr style=\"text-align: right;\">\n      <th></th>\n      <th>Pclass</th>\n      <th>Name</th>\n      <th>Sex</th>\n      <th>SibSp</th>\n      <th>Parch</th>\n      <th>Fare</th>\n      <th>Embarked</th>\n    </tr>\n    <tr>\n      <th>PassengerId</th>\n      <th></th>\n      <th></th>\n      <th></th>\n      <th></th>\n      <th></th>\n      <th></th>\n      <th></th>\n    </tr>\n  </thead>\n  <tbody>\n  </tbody>\n</table>\n</div>"
     },
     "execution_count": 1601,
     "metadata": {},
     "output_type": "execute_result"
    }
   ],
   "source": [
    "X_train[X_train['Fare'].isnull()==True]"
   ],
   "metadata": {
    "collapsed": false,
    "pycharm": {
     "name": "#%%\n"
    }
   }
  },
  {
   "cell_type": "code",
   "execution_count": 1602,
   "outputs": [
    {
     "data": {
      "text/plain": "Empty DataFrame\nColumns: [Pclass, Name, Sex, SibSp, Parch, Fare, Embarked]\nIndex: []",
      "text/html": "<div>\n<style scoped>\n    .dataframe tbody tr th:only-of-type {\n        vertical-align: middle;\n    }\n\n    .dataframe tbody tr th {\n        vertical-align: top;\n    }\n\n    .dataframe thead th {\n        text-align: right;\n    }\n</style>\n<table border=\"1\" class=\"dataframe\">\n  <thead>\n    <tr style=\"text-align: right;\">\n      <th></th>\n      <th>Pclass</th>\n      <th>Name</th>\n      <th>Sex</th>\n      <th>SibSp</th>\n      <th>Parch</th>\n      <th>Fare</th>\n      <th>Embarked</th>\n    </tr>\n    <tr>\n      <th>PassengerId</th>\n      <th></th>\n      <th></th>\n      <th></th>\n      <th></th>\n      <th></th>\n      <th></th>\n      <th></th>\n    </tr>\n  </thead>\n  <tbody>\n  </tbody>\n</table>\n</div>"
     },
     "execution_count": 1602,
     "metadata": {},
     "output_type": "execute_result"
    }
   ],
   "source": [
    "X_train[X_train['Embarked'].isnull()==True]"
   ],
   "metadata": {
    "collapsed": false,
    "pycharm": {
     "name": "#%%\n"
    }
   }
  },
  {
   "cell_type": "code",
   "execution_count": 1603,
   "outputs": [
    {
     "data": {
      "text/plain": "LinearRegression()"
     },
     "execution_count": 1603,
     "metadata": {},
     "output_type": "execute_result"
    }
   ],
   "source": [
    "from sklearn.linear_model import LinearRegression\n",
    "\n",
    "linear_reg_model = LinearRegression()\n",
    "\n",
    "linear_reg_model.fit(X_train , y) # 모델 훈련"
   ],
   "metadata": {
    "collapsed": false,
    "pycharm": {
     "name": "#%%\n"
    }
   }
  },
  {
   "cell_type": "code",
   "execution_count": 1604,
   "outputs": [
    {
     "data": {
      "text/plain": "array([26.569, 34.167, 25.562, 25.796, 22.826, 27.329, 36.553, 22.825,\n       25.797, 25.801, 27.33 , 23.125, 22.825, 18.913, 41.113, 39.536,\n       24.682, 27.329, 27.33 , 22.825, 27.33 , 27.33 , 27.329, 27.329,\n       19.44 , 27.33 , 26.564, 17.482, 23.247, 27.326, 27.334,  0.957,\n       39.817, 41.053, 19.3  , -6.287, 32.651, 41.203, 22.891, 26.564,\n       22.825, -2.548, 23.077, 27.329, 12.056, 23.588, 18.615, 19.386,\n       27.325, 39.621, 26.564, 22.825, 41.085, 22.825, 34.18 , 41.054,\n       39.536, 41.082, 22.825, 19.687, 29.659, 27.33 , 36.313, -2.548,\n       15.947, 38.002, 27.329, 23.659, 41.11 , 25.796, 22.826, 22.826,\n       23.125, 25.562, 22.825, 36.153, 27.329, 26.564, 12.056, 27.329,\n       26.559, 34.18 , 27.096, 25.801, 27.325, 26.564, 23.659, 27.331,\n       23.918, 27.33 , 37.493, 26.564, 27.33 , 34.18 , 26.564, 27.325,\n       41.215, 34.18 , 12.056, 23.918, 25.841, 27.374, 22.824, 41.057,\n       27.33 , 26.666, 25.796, 25.797, 42.271, 25.797, 23.291, 27.371,\n       36.149, 26.565, 40.778, 26.564, 27.33 , 23.591, 25.797, 22.825,\n       22.12 , 25.806, 27.33 , 20.459, 30.552, 25.796, 27.329, 41.156,\n       27.324, 19.386, 26.564, 26.564, 41.274, 23.894, 27.632, 27.327,\n       27.329, 22.825, 27.329, 27.329, 37.494, 34.18 , 22.827, 27.632,\n       22.825, 24.682, 41.057, 26.612, 22.825, 34.18 , 27.329, 27.329,\n       41.079, 27.371, 43.114, 23.179, 25.796, 26.564, 26.564, 21.574,\n       26.564, -6.287, 39.554, 41.274, 26.559, 27.632, 26.564, 25.797,\n       27.33 , 39.548, -2.548, 36.196, 25.797, -6.287, 30.844, 27.329,\n       17.835, 27.329, 40.855, 18.913, 21.339, 23.591, 27.632, 41.057,\n       26.564, 32.654, 23.894, 33.982, 27.33 , 27.329, 33.388, 22.355,\n       28.082, 27.329, 27.33 , 26.564, 26.564, 27.335, 22.825, 25.792,\n       23.077, 26.564, 15.947, 22.474, 22.305, 41.215, 41.057, 25.801,\n       22.825, 27.324, 39.301, 27.327, 25.797, 26.564, -6.287, 41.054,\n       27.096, 22.873, 39.523, 27.324, 22.826, 27.33 , 23.247, 22.825,\n       26.565, 27.329, 25.079, 22.12 , 27.327, 26.564, 27.329, 41.274,\n       27.327, 23.591, 26.564, 19.386, 25.796, 22.825, 27.325, 25.797,\n       27.33 , 41.138, 25.797, 18.913, 32.651, 22.825, 27.327, 25.796,\n       29.301, 13.582, 26.206, 27.329, 26.564, 13.347, 22.355, 26.564,\n       27.136, 34.166, 22.825, 22.825, 27.33 , 27.33 , 24.726])"
     },
     "execution_count": 1604,
     "metadata": {},
     "output_type": "execute_result"
    }
   ],
   "source": [
    "preds = linear_reg_model.predict(X_test)\n",
    "preds.tolist()\n",
    "preds"
   ],
   "metadata": {
    "collapsed": false,
    "pycharm": {
     "name": "#%%\n"
    }
   }
  },
  {
   "cell_type": "code",
   "execution_count": 1605,
   "outputs": [
    {
     "data": {
      "text/plain": "             Pclass  Name  Sex   Age  SibSp  Parch      Fare  Embarked\nPassengerId                                                           \n1                 3     1    1  22.0      1      0    7.2500         2\n2                 1     2    0  38.0      1      0   71.2833         0\n3                 3     0    0  26.0      0      0    7.9250         2\n4                 1     2    0  35.0      1      0   53.1000         2\n5                 3     1    1  35.0      0      0    8.0500         2\n...             ...   ...  ...   ...    ...    ...       ...       ...\n1305              3     1    1   NaN      0      0    8.0500         2\n1306              1     3    0  39.0      0      0  108.9000         0\n1307              3     1    1  38.5      0      0    7.2500         2\n1308              3     1    1   NaN      0      0    8.0500         2\n1309              3     3    1   NaN      1      1   22.3583         0\n\n[1309 rows x 8 columns]",
      "text/html": "<div>\n<style scoped>\n    .dataframe tbody tr th:only-of-type {\n        vertical-align: middle;\n    }\n\n    .dataframe tbody tr th {\n        vertical-align: top;\n    }\n\n    .dataframe thead th {\n        text-align: right;\n    }\n</style>\n<table border=\"1\" class=\"dataframe\">\n  <thead>\n    <tr style=\"text-align: right;\">\n      <th></th>\n      <th>Pclass</th>\n      <th>Name</th>\n      <th>Sex</th>\n      <th>Age</th>\n      <th>SibSp</th>\n      <th>Parch</th>\n      <th>Fare</th>\n      <th>Embarked</th>\n    </tr>\n    <tr>\n      <th>PassengerId</th>\n      <th></th>\n      <th></th>\n      <th></th>\n      <th></th>\n      <th></th>\n      <th></th>\n      <th></th>\n      <th></th>\n    </tr>\n  </thead>\n  <tbody>\n    <tr>\n      <th>1</th>\n      <td>3</td>\n      <td>1</td>\n      <td>1</td>\n      <td>22.0</td>\n      <td>1</td>\n      <td>0</td>\n      <td>7.2500</td>\n      <td>2</td>\n    </tr>\n    <tr>\n      <th>2</th>\n      <td>1</td>\n      <td>2</td>\n      <td>0</td>\n      <td>38.0</td>\n      <td>1</td>\n      <td>0</td>\n      <td>71.2833</td>\n      <td>0</td>\n    </tr>\n    <tr>\n      <th>3</th>\n      <td>3</td>\n      <td>0</td>\n      <td>0</td>\n      <td>26.0</td>\n      <td>0</td>\n      <td>0</td>\n      <td>7.9250</td>\n      <td>2</td>\n    </tr>\n    <tr>\n      <th>4</th>\n      <td>1</td>\n      <td>2</td>\n      <td>0</td>\n      <td>35.0</td>\n      <td>1</td>\n      <td>0</td>\n      <td>53.1000</td>\n      <td>2</td>\n    </tr>\n    <tr>\n      <th>5</th>\n      <td>3</td>\n      <td>1</td>\n      <td>1</td>\n      <td>35.0</td>\n      <td>0</td>\n      <td>0</td>\n      <td>8.0500</td>\n      <td>2</td>\n    </tr>\n    <tr>\n      <th>...</th>\n      <td>...</td>\n      <td>...</td>\n      <td>...</td>\n      <td>...</td>\n      <td>...</td>\n      <td>...</td>\n      <td>...</td>\n      <td>...</td>\n    </tr>\n    <tr>\n      <th>1305</th>\n      <td>3</td>\n      <td>1</td>\n      <td>1</td>\n      <td>NaN</td>\n      <td>0</td>\n      <td>0</td>\n      <td>8.0500</td>\n      <td>2</td>\n    </tr>\n    <tr>\n      <th>1306</th>\n      <td>1</td>\n      <td>3</td>\n      <td>0</td>\n      <td>39.0</td>\n      <td>0</td>\n      <td>0</td>\n      <td>108.9000</td>\n      <td>0</td>\n    </tr>\n    <tr>\n      <th>1307</th>\n      <td>3</td>\n      <td>1</td>\n      <td>1</td>\n      <td>38.5</td>\n      <td>0</td>\n      <td>0</td>\n      <td>7.2500</td>\n      <td>2</td>\n    </tr>\n    <tr>\n      <th>1308</th>\n      <td>3</td>\n      <td>1</td>\n      <td>1</td>\n      <td>NaN</td>\n      <td>0</td>\n      <td>0</td>\n      <td>8.0500</td>\n      <td>2</td>\n    </tr>\n    <tr>\n      <th>1309</th>\n      <td>3</td>\n      <td>3</td>\n      <td>1</td>\n      <td>NaN</td>\n      <td>1</td>\n      <td>1</td>\n      <td>22.3583</td>\n      <td>0</td>\n    </tr>\n  </tbody>\n</table>\n<p>1309 rows × 8 columns</p>\n</div>"
     },
     "execution_count": 1605,
     "metadata": {},
     "output_type": "execute_result"
    }
   ],
   "source": [
    "all_data"
   ],
   "metadata": {
    "collapsed": false,
    "pycharm": {
     "name": "#%%\n"
    }
   }
  },
  {
   "cell_type": "code",
   "execution_count": 1606,
   "outputs": [
    {
     "name": "stdout",
     "output_type": "stream",
     "text": [
      "<class 'pandas.core.frame.DataFrame'>\n",
      "Int64Index: 1309 entries, 1 to 1309\n",
      "Data columns (total 8 columns):\n",
      " #   Column    Non-Null Count  Dtype  \n",
      "---  ------    --------------  -----  \n",
      " 0   Pclass    1309 non-null   int64  \n",
      " 1   Name      1309 non-null   int32  \n",
      " 2   Sex       1309 non-null   int32  \n",
      " 3   Age       1046 non-null   float64\n",
      " 4   SibSp     1309 non-null   int64  \n",
      " 5   Parch     1309 non-null   int64  \n",
      " 6   Fare      1309 non-null   float64\n",
      " 7   Embarked  1309 non-null   int32  \n",
      "dtypes: float64(2), int32(3), int64(3)\n",
      "memory usage: 109.0 KB\n"
     ]
    }
   ],
   "source": [
    "all_data.info()"
   ],
   "metadata": {
    "collapsed": false,
    "pycharm": {
     "name": "#%%\n"
    }
   }
  },
  {
   "cell_type": "code",
   "execution_count": 1607,
   "outputs": [],
   "source": [
    "nan_idx = all_data['Age'].isnull()\n",
    "all_data.loc[nan_idx, 'Age'] = preds"
   ],
   "metadata": {
    "collapsed": false,
    "pycharm": {
     "name": "#%%\n"
    }
   }
  },
  {
   "cell_type": "code",
   "execution_count": 1608,
   "outputs": [
    {
     "data": {
      "text/plain": "             Pclass  Name  Sex        Age  SibSp  Parch      Fare  Embarked\nPassengerId                                                                \n1                 3     1    1  22.000000      1      0    7.2500         2\n2                 1     2    0  38.000000      1      0   71.2833         0\n3                 3     0    0  26.000000      0      0    7.9250         2\n4                 1     2    0  35.000000      1      0   53.1000         2\n5                 3     1    1  35.000000      0      0    8.0500         2\n...             ...   ...  ...        ...    ...    ...       ...       ...\n1305              3     1    1  27.330409      0      0    8.0500         2\n1306              1     3    0  39.000000      0      0  108.9000         0\n1307              3     1    1  38.500000      0      0    7.2500         2\n1308              3     1    1  27.330409      0      0    8.0500         2\n1309              3     3    1  24.725898      1      1   22.3583         0\n\n[1309 rows x 8 columns]",
      "text/html": "<div>\n<style scoped>\n    .dataframe tbody tr th:only-of-type {\n        vertical-align: middle;\n    }\n\n    .dataframe tbody tr th {\n        vertical-align: top;\n    }\n\n    .dataframe thead th {\n        text-align: right;\n    }\n</style>\n<table border=\"1\" class=\"dataframe\">\n  <thead>\n    <tr style=\"text-align: right;\">\n      <th></th>\n      <th>Pclass</th>\n      <th>Name</th>\n      <th>Sex</th>\n      <th>Age</th>\n      <th>SibSp</th>\n      <th>Parch</th>\n      <th>Fare</th>\n      <th>Embarked</th>\n    </tr>\n    <tr>\n      <th>PassengerId</th>\n      <th></th>\n      <th></th>\n      <th></th>\n      <th></th>\n      <th></th>\n      <th></th>\n      <th></th>\n      <th></th>\n    </tr>\n  </thead>\n  <tbody>\n    <tr>\n      <th>1</th>\n      <td>3</td>\n      <td>1</td>\n      <td>1</td>\n      <td>22.000000</td>\n      <td>1</td>\n      <td>0</td>\n      <td>7.2500</td>\n      <td>2</td>\n    </tr>\n    <tr>\n      <th>2</th>\n      <td>1</td>\n      <td>2</td>\n      <td>0</td>\n      <td>38.000000</td>\n      <td>1</td>\n      <td>0</td>\n      <td>71.2833</td>\n      <td>0</td>\n    </tr>\n    <tr>\n      <th>3</th>\n      <td>3</td>\n      <td>0</td>\n      <td>0</td>\n      <td>26.000000</td>\n      <td>0</td>\n      <td>0</td>\n      <td>7.9250</td>\n      <td>2</td>\n    </tr>\n    <tr>\n      <th>4</th>\n      <td>1</td>\n      <td>2</td>\n      <td>0</td>\n      <td>35.000000</td>\n      <td>1</td>\n      <td>0</td>\n      <td>53.1000</td>\n      <td>2</td>\n    </tr>\n    <tr>\n      <th>5</th>\n      <td>3</td>\n      <td>1</td>\n      <td>1</td>\n      <td>35.000000</td>\n      <td>0</td>\n      <td>0</td>\n      <td>8.0500</td>\n      <td>2</td>\n    </tr>\n    <tr>\n      <th>...</th>\n      <td>...</td>\n      <td>...</td>\n      <td>...</td>\n      <td>...</td>\n      <td>...</td>\n      <td>...</td>\n      <td>...</td>\n      <td>...</td>\n    </tr>\n    <tr>\n      <th>1305</th>\n      <td>3</td>\n      <td>1</td>\n      <td>1</td>\n      <td>27.330409</td>\n      <td>0</td>\n      <td>0</td>\n      <td>8.0500</td>\n      <td>2</td>\n    </tr>\n    <tr>\n      <th>1306</th>\n      <td>1</td>\n      <td>3</td>\n      <td>0</td>\n      <td>39.000000</td>\n      <td>0</td>\n      <td>0</td>\n      <td>108.9000</td>\n      <td>0</td>\n    </tr>\n    <tr>\n      <th>1307</th>\n      <td>3</td>\n      <td>1</td>\n      <td>1</td>\n      <td>38.500000</td>\n      <td>0</td>\n      <td>0</td>\n      <td>7.2500</td>\n      <td>2</td>\n    </tr>\n    <tr>\n      <th>1308</th>\n      <td>3</td>\n      <td>1</td>\n      <td>1</td>\n      <td>27.330409</td>\n      <td>0</td>\n      <td>0</td>\n      <td>8.0500</td>\n      <td>2</td>\n    </tr>\n    <tr>\n      <th>1309</th>\n      <td>3</td>\n      <td>3</td>\n      <td>1</td>\n      <td>24.725898</td>\n      <td>1</td>\n      <td>1</td>\n      <td>22.3583</td>\n      <td>0</td>\n    </tr>\n  </tbody>\n</table>\n<p>1309 rows × 8 columns</p>\n</div>"
     },
     "execution_count": 1608,
     "metadata": {},
     "output_type": "execute_result"
    }
   ],
   "source": [
    "all_data"
   ],
   "metadata": {
    "collapsed": false,
    "pycharm": {
     "name": "#%%\n"
    }
   }
  },
  {
   "cell_type": "markdown",
   "source": [
    "## 위에꺼 까지가 연령에 대한 전처리 ==> 회귀 분석 사용"
   ],
   "metadata": {
    "collapsed": false,
    "pycharm": {
     "name": "#%% md\n"
    }
   }
  },
  {
   "cell_type": "code",
   "execution_count": 1609,
   "outputs": [
    {
     "name": "stdout",
     "output_type": "stream",
     "text": [
      "<class 'pandas.core.frame.DataFrame'>\n",
      "Int64Index: 1309 entries, 1 to 1309\n",
      "Data columns (total 8 columns):\n",
      " #   Column    Non-Null Count  Dtype  \n",
      "---  ------    --------------  -----  \n",
      " 0   Pclass    1309 non-null   int64  \n",
      " 1   Name      1309 non-null   int32  \n",
      " 2   Sex       1309 non-null   int32  \n",
      " 3   Age       1309 non-null   float64\n",
      " 4   SibSp     1309 non-null   int64  \n",
      " 5   Parch     1309 non-null   int64  \n",
      " 6   Fare      1309 non-null   float64\n",
      " 7   Embarked  1309 non-null   int32  \n",
      "dtypes: float64(2), int32(3), int64(3)\n",
      "memory usage: 109.0 KB\n"
     ]
    }
   ],
   "source": [
    "all_data.info()"
   ],
   "metadata": {
    "collapsed": false,
    "pycharm": {
     "name": "#%%\n"
    }
   }
  },
  {
   "cell_type": "code",
   "execution_count": 1610,
   "outputs": [
    {
     "data": {
      "text/plain": "             Pclass        Age  SibSp  Parch      Fare\nPassengerId                                           \n1                 3  22.000000      1      0    7.2500\n2                 1  38.000000      1      0   71.2833\n3                 3  26.000000      0      0    7.9250\n4                 1  35.000000      1      0   53.1000\n5                 3  35.000000      0      0    8.0500\n...             ...        ...    ...    ...       ...\n1305              3  27.330409      0      0    8.0500\n1306              1  39.000000      0      0  108.9000\n1307              3  38.500000      0      0    7.2500\n1308              3  27.330409      0      0    8.0500\n1309              3  24.725898      1      1   22.3583\n\n[1309 rows x 5 columns]",
      "text/html": "<div>\n<style scoped>\n    .dataframe tbody tr th:only-of-type {\n        vertical-align: middle;\n    }\n\n    .dataframe tbody tr th {\n        vertical-align: top;\n    }\n\n    .dataframe thead th {\n        text-align: right;\n    }\n</style>\n<table border=\"1\" class=\"dataframe\">\n  <thead>\n    <tr style=\"text-align: right;\">\n      <th></th>\n      <th>Pclass</th>\n      <th>Age</th>\n      <th>SibSp</th>\n      <th>Parch</th>\n      <th>Fare</th>\n    </tr>\n    <tr>\n      <th>PassengerId</th>\n      <th></th>\n      <th></th>\n      <th></th>\n      <th></th>\n      <th></th>\n    </tr>\n  </thead>\n  <tbody>\n    <tr>\n      <th>1</th>\n      <td>3</td>\n      <td>22.000000</td>\n      <td>1</td>\n      <td>0</td>\n      <td>7.2500</td>\n    </tr>\n    <tr>\n      <th>2</th>\n      <td>1</td>\n      <td>38.000000</td>\n      <td>1</td>\n      <td>0</td>\n      <td>71.2833</td>\n    </tr>\n    <tr>\n      <th>3</th>\n      <td>3</td>\n      <td>26.000000</td>\n      <td>0</td>\n      <td>0</td>\n      <td>7.9250</td>\n    </tr>\n    <tr>\n      <th>4</th>\n      <td>1</td>\n      <td>35.000000</td>\n      <td>1</td>\n      <td>0</td>\n      <td>53.1000</td>\n    </tr>\n    <tr>\n      <th>5</th>\n      <td>3</td>\n      <td>35.000000</td>\n      <td>0</td>\n      <td>0</td>\n      <td>8.0500</td>\n    </tr>\n    <tr>\n      <th>...</th>\n      <td>...</td>\n      <td>...</td>\n      <td>...</td>\n      <td>...</td>\n      <td>...</td>\n    </tr>\n    <tr>\n      <th>1305</th>\n      <td>3</td>\n      <td>27.330409</td>\n      <td>0</td>\n      <td>0</td>\n      <td>8.0500</td>\n    </tr>\n    <tr>\n      <th>1306</th>\n      <td>1</td>\n      <td>39.000000</td>\n      <td>0</td>\n      <td>0</td>\n      <td>108.9000</td>\n    </tr>\n    <tr>\n      <th>1307</th>\n      <td>3</td>\n      <td>38.500000</td>\n      <td>0</td>\n      <td>0</td>\n      <td>7.2500</td>\n    </tr>\n    <tr>\n      <th>1308</th>\n      <td>3</td>\n      <td>27.330409</td>\n      <td>0</td>\n      <td>0</td>\n      <td>8.0500</td>\n    </tr>\n    <tr>\n      <th>1309</th>\n      <td>3</td>\n      <td>24.725898</td>\n      <td>1</td>\n      <td>1</td>\n      <td>22.3583</td>\n    </tr>\n  </tbody>\n</table>\n<p>1309 rows × 5 columns</p>\n</div>"
     },
     "execution_count": 1610,
     "metadata": {},
     "output_type": "execute_result"
    }
   ],
   "source": [
    "all_data[binary_col]"
   ],
   "metadata": {
    "collapsed": false,
    "pycharm": {
     "name": "#%%\n"
    }
   }
  },
  {
   "cell_type": "code",
   "execution_count": 1611,
   "outputs": [
    {
     "name": "stdout",
     "output_type": "stream",
     "text": [
      "<class 'pandas.core.frame.DataFrame'>\n",
      "Int64Index: 1309 entries, 1 to 1309\n",
      "Data columns (total 5 columns):\n",
      " #   Column  Non-Null Count  Dtype  \n",
      "---  ------  --------------  -----  \n",
      " 0   Pclass  1309 non-null   int64  \n",
      " 1   Age     1309 non-null   float64\n",
      " 2   SibSp   1309 non-null   int64  \n",
      " 3   Parch   1309 non-null   int64  \n",
      " 4   Fare    1309 non-null   float64\n",
      "dtypes: float64(2), int64(3)\n",
      "memory usage: 93.6 KB\n"
     ]
    }
   ],
   "source": [
    "all_data[binary_col].info()"
   ],
   "metadata": {
    "collapsed": false,
    "pycharm": {
     "name": "#%%\n"
    }
   }
  },
  {
   "cell_type": "code",
   "execution_count": 1612,
   "outputs": [
    {
     "data": {
      "text/plain": "             Pclass  Name  Sex        Age  SibSp  Parch      Fare  Embarked\nPassengerId                                                                \n1                 3     1    1  22.000000      1      0    7.2500         2\n2                 1     2    0  38.000000      1      0   71.2833         0\n3                 3     0    0  26.000000      0      0    7.9250         2\n4                 1     2    0  35.000000      1      0   53.1000         2\n5                 3     1    1  35.000000      0      0    8.0500         2\n...             ...   ...  ...        ...    ...    ...       ...       ...\n1305              3     1    1  27.330409      0      0    8.0500         2\n1306              1     3    0  39.000000      0      0  108.9000         0\n1307              3     1    1  38.500000      0      0    7.2500         2\n1308              3     1    1  27.330409      0      0    8.0500         2\n1309              3     3    1  24.725898      1      1   22.3583         0\n\n[1309 rows x 8 columns]",
      "text/html": "<div>\n<style scoped>\n    .dataframe tbody tr th:only-of-type {\n        vertical-align: middle;\n    }\n\n    .dataframe tbody tr th {\n        vertical-align: top;\n    }\n\n    .dataframe thead th {\n        text-align: right;\n    }\n</style>\n<table border=\"1\" class=\"dataframe\">\n  <thead>\n    <tr style=\"text-align: right;\">\n      <th></th>\n      <th>Pclass</th>\n      <th>Name</th>\n      <th>Sex</th>\n      <th>Age</th>\n      <th>SibSp</th>\n      <th>Parch</th>\n      <th>Fare</th>\n      <th>Embarked</th>\n    </tr>\n    <tr>\n      <th>PassengerId</th>\n      <th></th>\n      <th></th>\n      <th></th>\n      <th></th>\n      <th></th>\n      <th></th>\n      <th></th>\n      <th></th>\n    </tr>\n  </thead>\n  <tbody>\n    <tr>\n      <th>1</th>\n      <td>3</td>\n      <td>1</td>\n      <td>1</td>\n      <td>22.000000</td>\n      <td>1</td>\n      <td>0</td>\n      <td>7.2500</td>\n      <td>2</td>\n    </tr>\n    <tr>\n      <th>2</th>\n      <td>1</td>\n      <td>2</td>\n      <td>0</td>\n      <td>38.000000</td>\n      <td>1</td>\n      <td>0</td>\n      <td>71.2833</td>\n      <td>0</td>\n    </tr>\n    <tr>\n      <th>3</th>\n      <td>3</td>\n      <td>0</td>\n      <td>0</td>\n      <td>26.000000</td>\n      <td>0</td>\n      <td>0</td>\n      <td>7.9250</td>\n      <td>2</td>\n    </tr>\n    <tr>\n      <th>4</th>\n      <td>1</td>\n      <td>2</td>\n      <td>0</td>\n      <td>35.000000</td>\n      <td>1</td>\n      <td>0</td>\n      <td>53.1000</td>\n      <td>2</td>\n    </tr>\n    <tr>\n      <th>5</th>\n      <td>3</td>\n      <td>1</td>\n      <td>1</td>\n      <td>35.000000</td>\n      <td>0</td>\n      <td>0</td>\n      <td>8.0500</td>\n      <td>2</td>\n    </tr>\n    <tr>\n      <th>...</th>\n      <td>...</td>\n      <td>...</td>\n      <td>...</td>\n      <td>...</td>\n      <td>...</td>\n      <td>...</td>\n      <td>...</td>\n      <td>...</td>\n    </tr>\n    <tr>\n      <th>1305</th>\n      <td>3</td>\n      <td>1</td>\n      <td>1</td>\n      <td>27.330409</td>\n      <td>0</td>\n      <td>0</td>\n      <td>8.0500</td>\n      <td>2</td>\n    </tr>\n    <tr>\n      <th>1306</th>\n      <td>1</td>\n      <td>3</td>\n      <td>0</td>\n      <td>39.000000</td>\n      <td>0</td>\n      <td>0</td>\n      <td>108.9000</td>\n      <td>0</td>\n    </tr>\n    <tr>\n      <th>1307</th>\n      <td>3</td>\n      <td>1</td>\n      <td>1</td>\n      <td>38.500000</td>\n      <td>0</td>\n      <td>0</td>\n      <td>7.2500</td>\n      <td>2</td>\n    </tr>\n    <tr>\n      <th>1308</th>\n      <td>3</td>\n      <td>1</td>\n      <td>1</td>\n      <td>27.330409</td>\n      <td>0</td>\n      <td>0</td>\n      <td>8.0500</td>\n      <td>2</td>\n    </tr>\n    <tr>\n      <th>1309</th>\n      <td>3</td>\n      <td>3</td>\n      <td>1</td>\n      <td>24.725898</td>\n      <td>1</td>\n      <td>1</td>\n      <td>22.3583</td>\n      <td>0</td>\n    </tr>\n  </tbody>\n</table>\n<p>1309 rows × 8 columns</p>\n</div>"
     },
     "execution_count": 1612,
     "metadata": {},
     "output_type": "execute_result"
    }
   ],
   "source": [
    "all_data"
   ],
   "metadata": {
    "collapsed": false,
    "pycharm": {
     "name": "#%%\n"
    }
   }
  },
  {
   "cell_type": "markdown",
   "source": [
    "## 성능 개선 없이 그냥 베이스라인 모델 돌려보기"
   ],
   "metadata": {
    "collapsed": false,
    "pycharm": {
     "name": "#%% md\n"
    }
   }
  },
  {
   "cell_type": "code",
   "execution_count": 1613,
   "outputs": [
    {
     "data": {
      "text/plain": "<1309x541 sparse matrix of type '<class 'numpy.float64'>'\n\twith 10472 stored elements in Compressed Sparse Row format>"
     },
     "execution_count": 1613,
     "metadata": {},
     "output_type": "execute_result"
    }
   ],
   "source": [
    "from sklearn.preprocessing import OneHotEncoder\n",
    "\n",
    "encoder = OneHotEncoder() # 원-핫 인코더 생성\n",
    "\n",
    "all_data_encoded = encoder.fit_transform(all_data)\n",
    "\n",
    "all_data_encoded"
   ],
   "metadata": {
    "collapsed": false,
    "pycharm": {
     "name": "#%%\n"
    }
   }
  },
  {
   "cell_type": "markdown",
   "source": [
    "### 데이터 나누기"
   ],
   "metadata": {
    "collapsed": false,
    "pycharm": {
     "name": "#%% md\n"
    }
   }
  },
  {
   "cell_type": "code",
   "execution_count": 1614,
   "outputs": [],
   "source": [
    "num_train = len(train) # 훈련 데이터 개수\n",
    "\n",
    "# 훈련 데이터와 테스트 데이터 나누기\n",
    "\n",
    "X_train = all_data_encoded[:num_train] # 0~num_train -1 행\n",
    "X_test = all_data_encoded[num_train:] # num_train ~ 마지막 행\n",
    "\n",
    "y = train['Survived']"
   ],
   "metadata": {
    "collapsed": false,
    "pycharm": {
     "name": "#%%\n"
    }
   }
  },
  {
   "cell_type": "code",
   "execution_count": 1615,
   "outputs": [],
   "source": [
    "from sklearn.model_selection import train_test_split\n",
    "\n",
    "# 훈련 데이터 , 검증 데이터 분리\n",
    "\n",
    "X_train , X_valid , y_train , y_valid = train_test_split(X_train , y , test_size=0.1 , stratify=y,random_state=10)\n",
    "\n",
    "# test_size 는 검증 데이터 크기를 지정하는 파라미터이다.\n",
    "# 값이 정수면 검증 데이터의 개수를 , 실수면 비율을 의미한다. 여기서는 0.1을 전달했으므로 10%를 검증 데이터로 분리하겠다는 의미이다.\n",
    "\n",
    "# stratify 파라미터를 지정하지 않으면 훈련 데이터와 검증 데이터에 타깃값이 불균형하게 분포 될 수 있다."
   ],
   "metadata": {
    "collapsed": false,
    "pycharm": {
     "name": "#%%\n"
    }
   }
  },
  {
   "cell_type": "markdown",
   "source": [
    "### 모델 훈련"
   ],
   "metadata": {
    "collapsed": false,
    "pycharm": {
     "name": "#%% md\n"
    }
   }
  },
  {
   "cell_type": "code",
   "execution_count": 1616,
   "outputs": [
    {
     "data": {
      "text/plain": "LogisticRegression(max_iter=1000, random_state=42)"
     },
     "execution_count": 1616,
     "metadata": {},
     "output_type": "execute_result"
    }
   ],
   "source": [
    "from sklearn.linear_model import LogisticRegression\n",
    "\n",
    "logistic_model = LogisticRegression(max_iter = 1000 , random_state=42)\n",
    "logistic_model.fit(X_train,y_train) # 모델 훈련"
   ],
   "metadata": {
    "collapsed": false,
    "pycharm": {
     "name": "#%%\n"
    }
   }
  },
  {
   "cell_type": "markdown",
   "source": [
    "# 모델 성능 검증\n",
    "\n",
    "- predict()는 타깃값 자체를 예측한다.\n",
    "\n",
    "- predict_proba()는 타깃값의 확률(0일 확률과 1일 확률)을 예측한다."
   ],
   "metadata": {
    "collapsed": false,
    "pycharm": {
     "name": "#%% md\n"
    }
   }
  },
  {
   "cell_type": "code",
   "execution_count": 1617,
   "outputs": [
    {
     "data": {
      "text/plain": "array([[0.643, 0.357],\n       [0.552, 0.448],\n       [0.744, 0.256],\n       [0.848, 0.152],\n       [0.882, 0.118],\n       [0.905, 0.095],\n       [0.279, 0.721],\n       [0.112, 0.888],\n       [0.948, 0.052],\n       [0.414, 0.586],\n       [0.602, 0.398],\n       [0.94 , 0.06 ],\n       [0.146, 0.854],\n       [0.975, 0.025],\n       [0.963, 0.037],\n       [0.578, 0.422],\n       [0.844, 0.156],\n       [0.348, 0.652],\n       [0.168, 0.832],\n       [0.965, 0.035],\n       [0.923, 0.077],\n       [0.035, 0.965],\n       [0.022, 0.978],\n       [0.872, 0.128],\n       [0.824, 0.176],\n       [0.595, 0.405],\n       [0.726, 0.274],\n       [0.835, 0.165],\n       [0.386, 0.614],\n       [0.128, 0.872],\n       [0.616, 0.384],\n       [0.071, 0.929],\n       [0.957, 0.043],\n       [0.919, 0.081],\n       [0.046, 0.954],\n       [0.633, 0.367],\n       [0.903, 0.097],\n       [0.718, 0.282],\n       [0.804, 0.196],\n       [0.708, 0.292],\n       [0.912, 0.088],\n       [0.267, 0.733],\n       [0.678, 0.322],\n       [0.814, 0.186],\n       [0.941, 0.059],\n       [0.953, 0.047],\n       [0.679, 0.321],\n       [0.057, 0.943],\n       [0.067, 0.933],\n       [0.338, 0.662],\n       [0.948, 0.052],\n       [0.12 , 0.88 ],\n       [0.741, 0.259],\n       [0.468, 0.532],\n       [0.05 , 0.95 ],\n       [0.081, 0.919],\n       [0.948, 0.052],\n       [0.189, 0.811],\n       [0.955, 0.045],\n       [0.679, 0.321],\n       [0.213, 0.787],\n       [0.928, 0.072],\n       [0.156, 0.844],\n       [0.675, 0.325],\n       [0.854, 0.146],\n       [0.812, 0.188],\n       [0.613, 0.387],\n       [0.24 , 0.76 ],\n       [0.812, 0.188],\n       [0.985, 0.015],\n       [0.947, 0.053],\n       [0.192, 0.808],\n       [0.267, 0.733],\n       [0.042, 0.958],\n       [0.948, 0.052],\n       [0.061, 0.939],\n       [0.886, 0.114],\n       [0.937, 0.063],\n       [0.116, 0.884],\n       [0.757, 0.243],\n       [0.824, 0.176],\n       [0.672, 0.328],\n       [0.693, 0.307],\n       [0.485, 0.515],\n       [0.84 , 0.16 ],\n       [0.631, 0.369],\n       [0.371, 0.629],\n       [0.859, 0.141],\n       [0.812, 0.188],\n       [0.387, 0.613]])"
     },
     "execution_count": 1617,
     "metadata": {},
     "output_type": "execute_result"
    }
   ],
   "source": [
    "logistic_model.predict_proba(X_valid)"
   ],
   "metadata": {
    "collapsed": false,
    "pycharm": {
     "name": "#%%\n"
    }
   }
  },
  {
   "cell_type": "code",
   "execution_count": 1618,
   "outputs": [
    {
     "data": {
      "text/plain": "array([0, 0, 0, 0, 0, 0, 1, 1, 0, 1, 0, 0, 1, 0, 0, 0, 0, 1, 1, 0, 0, 1,\n       1, 0, 0, 0, 0, 0, 1, 1, 0, 1, 0, 0, 1, 0, 0, 0, 0, 0, 0, 1, 0, 0,\n       0, 0, 0, 1, 1, 1, 0, 1, 0, 1, 1, 1, 0, 1, 0, 0, 1, 0, 1, 0, 0, 0,\n       0, 1, 0, 0, 0, 1, 1, 1, 0, 1, 0, 0, 1, 0, 0, 0, 0, 1, 0, 0, 1, 0,\n       0, 1], dtype=int64)"
     },
     "execution_count": 1618,
     "metadata": {},
     "output_type": "execute_result"
    }
   ],
   "source": [
    "logistic_model.predict(X_valid)"
   ],
   "metadata": {
    "collapsed": false,
    "pycharm": {
     "name": "#%%\n"
    }
   }
  },
  {
   "cell_type": "code",
   "execution_count": 1619,
   "outputs": [],
   "source": [
    "# 검증 데이터를 활용한 타깃 예측\n",
    "\n",
    "y_valid_preds = logistic_model.predict_proba(X_valid)[:,1]"
   ],
   "metadata": {
    "collapsed": false,
    "pycharm": {
     "name": "#%%\n"
    }
   }
  },
  {
   "cell_type": "code",
   "execution_count": 1620,
   "outputs": [
    {
     "name": "stdout",
     "output_type": "stream",
     "text": [
      "검증 데이터 ROC AUC : 0.8629\n"
     ]
    }
   ],
   "source": [
    "from sklearn.metrics import roc_auc_score # ROC AUC 점수 계산 함수\n",
    "\n",
    "# 검증 데이터 ROC AUC\n",
    "\n",
    "roc_auc = roc_auc_score(y_valid , y_valid_preds)\n",
    "\n",
    "print(f'검증 데이터 ROC AUC : {roc_auc:.4f}')"
   ],
   "metadata": {
    "collapsed": false,
    "pycharm": {
     "name": "#%%\n"
    }
   }
  },
  {
   "cell_type": "code",
   "execution_count": 1621,
   "outputs": [
    {
     "data": {
      "text/plain": "array([0, 0, 0, 0, 1, 0, 0, 0, 1, 0, 0, 0, 1, 0, 1, 1, 0, 0, 1, 1, 0, 0,\n       1, 0, 1, 0, 1, 0, 0, 0, 0, 0, 1, 1, 0, 0, 1, 0, 0, 0, 0, 0, 0, 1,\n       1, 0, 0, 0, 1, 1, 0, 0, 1, 1, 0, 0, 0, 0, 0, 1, 0, 0, 0, 1, 1, 1,\n       1, 0, 1, 1, 1, 0, 1, 1, 1, 0, 0, 1, 0, 1, 0, 0, 0, 0, 0, 0, 1, 0,\n       1, 1, 1, 0, 1, 0, 0, 0, 1, 0, 1, 0, 1, 0, 0, 0, 1, 0, 0, 0, 0, 0,\n       0, 1, 1, 1, 1, 0, 0, 1, 1, 1, 1, 0, 1, 0, 0, 1, 0, 1, 0, 0, 0, 1,\n       0, 0, 0, 0, 0, 0, 1, 0, 0, 1, 0, 0, 1, 0, 0, 0, 0, 0, 1, 0, 0, 1,\n       0, 0, 1, 0, 1, 1, 1, 0, 1, 0, 0, 1, 0, 0, 1, 1, 0, 0, 0, 0, 0, 1,\n       1, 0, 1, 1, 0, 0, 1, 0, 1, 0, 1, 0, 0, 0, 0, 0, 0, 0, 0, 0, 1, 0,\n       0, 1, 1, 0, 0, 1, 0, 0, 1, 0, 1, 0, 0, 0, 0, 1, 0, 0, 1, 0, 1, 0,\n       1, 0, 1, 0, 1, 0, 0, 1, 0, 0, 0, 1, 0, 0, 0, 0, 0, 0, 1, 1, 1, 1,\n       0, 0, 0, 0, 1, 0, 1, 0, 1, 0, 1, 0, 0, 0, 0, 0, 1, 0, 0, 0, 1, 1,\n       0, 0, 0, 0, 1, 0, 0, 0, 1, 1, 0, 1, 0, 0, 0, 0, 0, 0, 1, 1, 0, 0,\n       0, 0, 0, 0, 0, 1, 0, 1, 0, 0, 1, 0, 0, 0, 0, 0, 0, 0, 1, 1, 0, 0,\n       0, 1, 0, 0, 0, 0, 1, 1, 0, 0, 0, 0, 0, 0, 0, 0, 1, 0, 1, 0, 0, 0,\n       1, 0, 0, 1, 0, 0, 1, 0, 0, 0, 0, 0, 0, 1, 0, 1, 0, 1, 0, 1, 1, 0,\n       0, 0, 1, 0, 1, 0, 0, 1, 0, 1, 1, 0, 1, 0, 0, 1, 1, 1, 0, 1, 0, 0,\n       1, 1, 1, 0, 0, 0, 0, 0, 1, 1, 0, 1, 0, 0, 0, 0, 0, 1, 0, 0, 0, 1,\n       0, 1, 0, 0, 1, 0, 1, 0, 0, 0, 0, 0, 1, 1, 1, 1, 0, 0, 1, 0, 0, 0],\n      dtype=int64)"
     },
     "execution_count": 1621,
     "metadata": {},
     "output_type": "execute_result"
    }
   ],
   "source": [
    "# 타깃값 1일 확룰 예측\n",
    "\n",
    "y_preds= logistic_model.predict(X_test)\n",
    "y_preds"
   ],
   "metadata": {
    "collapsed": false,
    "pycharm": {
     "name": "#%%\n"
    }
   }
  },
  {
   "cell_type": "code",
   "execution_count": 1622,
   "outputs": [],
   "source": [
    "# 제출 파일 생성\n",
    "\n",
    "submission['Survived'] = y_preds\n",
    "submission.to_csv('submission_1.csv')"
   ],
   "metadata": {
    "collapsed": false,
    "pycharm": {
     "name": "#%%\n"
    }
   }
  },
  {
   "cell_type": "markdown",
   "source": [
    "## 성능 개선 -> 피처 엔지니어링"
   ],
   "metadata": {
    "collapsed": false,
    "pycharm": {
     "name": "#%% md\n"
    }
   }
  },
  {
   "cell_type": "code",
   "execution_count": 1623,
   "outputs": [],
   "source": [
    "# all_data_bin = all_data[binary_col].fillna(all_data[binary_col].mode().iloc[0]) # NaN 값 제일 많은값으로 대체\n",
    "#\n",
    "# all_data_bin"
   ],
   "metadata": {
    "collapsed": false,
    "pycharm": {
     "name": "#%%\n"
    }
   }
  },
  {
   "cell_type": "code",
   "execution_count": 1624,
   "outputs": [
    {
     "name": "stdout",
     "output_type": "stream",
     "text": [
      "<class 'pandas.core.frame.DataFrame'>\n",
      "Int64Index: 1309 entries, 1 to 1309\n",
      "Data columns (total 3 columns):\n",
      " #   Column    Non-Null Count  Dtype\n",
      "---  ------    --------------  -----\n",
      " 0   Name      1309 non-null   int32\n",
      " 1   Sex       1309 non-null   int32\n",
      " 2   Embarked  1309 non-null   int32\n",
      "dtypes: int32(3)\n",
      "memory usage: 57.9 KB\n"
     ]
    }
   ],
   "source": [
    "# object_col = ['Name' , 'Sex' , 'Ticket' , 'Embarked']\n",
    "all_data_obj = all_data[object_col]\n",
    "# all_data_obj = all_data[object_col].fillna(all_data[object_col].mode().iloc[0])\n",
    "all_data_obj[object_col].info()\n",
    "# NaN 값 제일 많은값으로 대체인데, train[object_col]에는 NaN값 특히 Cabin에 있다. ==> Cabin값은 빼는게 낫지 않을까?"
   ],
   "metadata": {
    "collapsed": false,
    "pycharm": {
     "name": "#%%\n"
    }
   }
  },
  {
   "cell_type": "markdown",
   "source": [],
   "metadata": {
    "collapsed": false,
    "pycharm": {
     "name": "#%% md\n"
    }
   }
  },
  {
   "cell_type": "code",
   "execution_count": 1625,
   "outputs": [],
   "source": [
    "import seaborn as sns\n",
    "import matplotlib as mpl\n",
    "import matplotlib.pyplot as plt\n",
    "%matplotlib inline"
   ],
   "metadata": {
    "collapsed": false,
    "pycharm": {
     "name": "#%%\n"
    }
   }
  },
  {
   "cell_type": "markdown",
   "source": [
    "## 타깃값 분포"
   ],
   "metadata": {
    "collapsed": false,
    "pycharm": {
     "name": "#%% md\n"
    }
   }
  },
  {
   "cell_type": "code",
   "execution_count": 1626,
   "outputs": [],
   "source": [
    "def write_percent(ax , total_size):\n",
    "    '''도형 객체를 순회하며 막대 상단에 타깃값 비율 표시'''\n",
    "    for patch in ax.patches:\n",
    "        height = patch.get_height() # 도형 높이(데이터 개수)\n",
    "        width = patch.get_width() # 도형 너비\n",
    "        left_coord = patch.get_x() # 도형 왼쪽 테두리의 x축 위치\n",
    "        percent = height/total_size*100 # 타깃값 비율\n",
    "\n",
    "\n",
    "        # (x, y) 좌표에 텍스트 입력\n",
    "        ax.text(x= left_coord + width/2.0 ,   # x축 위치\n",
    "                y = height + total_size*0.001, #y축 위치\n",
    "                s = f'{percent : 1.1f}%', # 입력 텍스트\n",
    "                ha = 'center') #가운데 정렬\n",
    "\n",
    "\n",
    "\n",
    "# plt.figure(figsize=(7,6))\n",
    "# train_bin['Survival'] = train['Survived'].map({0: '사망', 1: '생존'})\n",
    "# ax = sns.countplot(x='Survival' , data = train_bin)\n",
    "# write_percent(ax , len(train)) # 비율 표시\n",
    "# ax.set_title('타이타닉 호 생존자')"
   ],
   "metadata": {
    "collapsed": false,
    "pycharm": {
     "name": "#%%\n"
    }
   }
  },
  {
   "cell_type": "code",
   "execution_count": 1627,
   "outputs": [
    {
     "data": {
      "text/plain": "['Pclass', 'Age', 'SibSp', 'Parch', 'Fare']"
     },
     "execution_count": 1627,
     "metadata": {},
     "output_type": "execute_result"
    }
   ],
   "source": [
    "binary_col"
   ],
   "metadata": {
    "collapsed": false,
    "pycharm": {
     "name": "#%%\n"
    }
   }
  },
  {
   "cell_type": "markdown",
   "source": [
    "## 연속형 피처 분포"
   ],
   "metadata": {
    "collapsed": false,
    "pycharm": {
     "name": "#%% md\n"
    }
   }
  },
  {
   "cell_type": "code",
   "execution_count": 1628,
   "outputs": [
    {
     "data": {
      "text/plain": "             Pclass        Age  SibSp  Parch      Fare\nPassengerId                                           \n1                 3  22.000000      1      0    7.2500\n2                 1  38.000000      1      0   71.2833\n3                 3  26.000000      0      0    7.9250\n4                 1  35.000000      1      0   53.1000\n5                 3  35.000000      0      0    8.0500\n...             ...        ...    ...    ...       ...\n1305              3  27.330409      0      0    8.0500\n1306              1  39.000000      0      0  108.9000\n1307              3  38.500000      0      0    7.2500\n1308              3  27.330409      0      0    8.0500\n1309              3  24.725898      1      1   22.3583\n\n[1309 rows x 5 columns]",
      "text/html": "<div>\n<style scoped>\n    .dataframe tbody tr th:only-of-type {\n        vertical-align: middle;\n    }\n\n    .dataframe tbody tr th {\n        vertical-align: top;\n    }\n\n    .dataframe thead th {\n        text-align: right;\n    }\n</style>\n<table border=\"1\" class=\"dataframe\">\n  <thead>\n    <tr style=\"text-align: right;\">\n      <th></th>\n      <th>Pclass</th>\n      <th>Age</th>\n      <th>SibSp</th>\n      <th>Parch</th>\n      <th>Fare</th>\n    </tr>\n    <tr>\n      <th>PassengerId</th>\n      <th></th>\n      <th></th>\n      <th></th>\n      <th></th>\n      <th></th>\n    </tr>\n  </thead>\n  <tbody>\n    <tr>\n      <th>1</th>\n      <td>3</td>\n      <td>22.000000</td>\n      <td>1</td>\n      <td>0</td>\n      <td>7.2500</td>\n    </tr>\n    <tr>\n      <th>2</th>\n      <td>1</td>\n      <td>38.000000</td>\n      <td>1</td>\n      <td>0</td>\n      <td>71.2833</td>\n    </tr>\n    <tr>\n      <th>3</th>\n      <td>3</td>\n      <td>26.000000</td>\n      <td>0</td>\n      <td>0</td>\n      <td>7.9250</td>\n    </tr>\n    <tr>\n      <th>4</th>\n      <td>1</td>\n      <td>35.000000</td>\n      <td>1</td>\n      <td>0</td>\n      <td>53.1000</td>\n    </tr>\n    <tr>\n      <th>5</th>\n      <td>3</td>\n      <td>35.000000</td>\n      <td>0</td>\n      <td>0</td>\n      <td>8.0500</td>\n    </tr>\n    <tr>\n      <th>...</th>\n      <td>...</td>\n      <td>...</td>\n      <td>...</td>\n      <td>...</td>\n      <td>...</td>\n    </tr>\n    <tr>\n      <th>1305</th>\n      <td>3</td>\n      <td>27.330409</td>\n      <td>0</td>\n      <td>0</td>\n      <td>8.0500</td>\n    </tr>\n    <tr>\n      <th>1306</th>\n      <td>1</td>\n      <td>39.000000</td>\n      <td>0</td>\n      <td>0</td>\n      <td>108.9000</td>\n    </tr>\n    <tr>\n      <th>1307</th>\n      <td>3</td>\n      <td>38.500000</td>\n      <td>0</td>\n      <td>0</td>\n      <td>7.2500</td>\n    </tr>\n    <tr>\n      <th>1308</th>\n      <td>3</td>\n      <td>27.330409</td>\n      <td>0</td>\n      <td>0</td>\n      <td>8.0500</td>\n    </tr>\n    <tr>\n      <th>1309</th>\n      <td>3</td>\n      <td>24.725898</td>\n      <td>1</td>\n      <td>1</td>\n      <td>22.3583</td>\n    </tr>\n  </tbody>\n</table>\n<p>1309 rows × 5 columns</p>\n</div>"
     },
     "execution_count": 1628,
     "metadata": {},
     "output_type": "execute_result"
    }
   ],
   "source": [
    "all_data_bin = all_data[binary_col]\n",
    "\n",
    "all_data_bin"
   ],
   "metadata": {
    "collapsed": false,
    "pycharm": {
     "name": "#%%\n"
    }
   }
  },
  {
   "cell_type": "markdown",
   "source": [
    "## 명목형 자료에 대해 계급간격 공식을 이용하여 범주화 시키기\n",
    "\n",
    "- https://knowallworld.tistory.com/197"
   ],
   "metadata": {
    "collapsed": false,
    "pycharm": {
     "name": "#%% md\n"
    }
   }
  },
  {
   "cell_type": "code",
   "execution_count": 1629,
   "outputs": [],
   "source": [
    "K = 60 # 계급간격\n",
    "AGG = 10 # Age 간격"
   ],
   "metadata": {
    "collapsed": false,
    "pycharm": {
     "name": "#%%\n"
    }
   }
  },
  {
   "cell_type": "code",
   "execution_count": 1630,
   "outputs": [
    {
     "name": "stdout",
     "output_type": "stream",
     "text": [
      "[530 216 191  81  29  41  43  24  34  23  13   0  13   4   0  13   3   9\n",
      "   0   4   0   0   0   0   9   4   5   0   3   0  13   0   0   0   0   0\n",
      "   0   0   0   0   0   0   0   0   0   0   0   0   0   0   0   0   0   0\n",
      "   0   0   0   0   0]\n",
      "[  3.171  11.657  20.143  28.629  37.115  45.601  54.087  62.573  71.059\n",
      "  79.545  88.031  96.517 105.002 113.488 121.974 130.46  138.946 147.432\n",
      " 155.918 164.404 172.89  181.376 189.862 198.348 206.834 215.32  223.806\n",
      " 232.292 240.778 249.264 257.75  266.236 274.722 283.208 291.694 300.18\n",
      " 308.666 317.152 325.638 334.124 342.61  351.096 359.582 368.068 376.554\n",
      " 385.04  393.526 402.012 410.498 418.983 427.469 435.955 444.441 452.927\n",
      " 461.413 469.899 478.385 486.871 495.357 503.843]\n"
     ]
    },
    {
     "data": {
      "text/plain": "(array([  0., 100., 200., 300., 400., 500., 600.]),\n <a list of 7 Text major ticklabel objects>)"
     },
     "execution_count": 1630,
     "metadata": {},
     "output_type": "execute_result"
    },
    {
     "data": {
      "text/plain": "<Figure size 432x288 with 1 Axes>",
      "image/png": "[encoded data removed]"
     },
     "metadata": {
      "needs_background": "light"
     },
     "output_type": "display_data"
    }
   ],
   "source": [
    "width = (max(all_data_bin['Fare']) - min(all_data_bin['Fare'])) / K #계급 간격 구하는 공식\n",
    "bins = np.arange(min(all_data_bin['Fare']), max(all_data_bin['Fare']), width)\n",
    "\n",
    "\n",
    "hist, bins = np.histogram(all_data_bin['Fare'], bins)\n",
    "print(hist)\n",
    "print(bins)\n",
    "\n",
    "plt.hist(all_data_bin['Fare'], bins , rwidth = 0.8 , color = 'green' , alpha = 0.5)\n",
    "plt.xlabel('양적자료' , fontsize = 14)\n",
    "plt.xticks(fontsize = 14)\n",
    "plt.yticks(fontsize = 14)"
   ],
   "metadata": {
    "collapsed": false,
    "pycharm": {
     "name": "#%%\n"
    }
   }
  },
  {
   "cell_type": "code",
   "execution_count": 1631,
   "outputs": [
    {
     "data": {
      "text/plain": "             Pclass        Age  SibSp  Parch     Fare\nPassengerId                                          \n816               1  41.273666      0      0  61.3792\n817               3  23.000000      0      0   7.9250\n818               2  31.000000      1      1  37.0042\n819               3  43.000000      0      0   6.4500\n820               3  10.000000      3      2  27.9000\n821               1  52.000000      1      1  93.5000\n822               3  27.000000      0      0   8.6625\n823               1  38.000000      0      0  61.3792\n824               3  27.000000      0      1  12.4750",
      "text/html": "<div>\n<style scoped>\n    .dataframe tbody tr th:only-of-type {\n        vertical-align: middle;\n    }\n\n    .dataframe tbody tr th {\n        vertical-align: top;\n    }\n\n    .dataframe thead th {\n        text-align: right;\n    }\n</style>\n<table border=\"1\" class=\"dataframe\">\n  <thead>\n    <tr style=\"text-align: right;\">\n      <th></th>\n      <th>Pclass</th>\n      <th>Age</th>\n      <th>SibSp</th>\n      <th>Parch</th>\n      <th>Fare</th>\n    </tr>\n    <tr>\n      <th>PassengerId</th>\n      <th></th>\n      <th></th>\n      <th></th>\n      <th></th>\n      <th></th>\n    </tr>\n  </thead>\n  <tbody>\n    <tr>\n      <th>816</th>\n      <td>1</td>\n      <td>41.273666</td>\n      <td>0</td>\n      <td>0</td>\n      <td>61.3792</td>\n    </tr>\n    <tr>\n      <th>817</th>\n      <td>3</td>\n      <td>23.000000</td>\n      <td>0</td>\n      <td>0</td>\n      <td>7.9250</td>\n    </tr>\n    <tr>\n      <th>818</th>\n      <td>2</td>\n      <td>31.000000</td>\n      <td>1</td>\n      <td>1</td>\n      <td>37.0042</td>\n    </tr>\n    <tr>\n      <th>819</th>\n      <td>3</td>\n      <td>43.000000</td>\n      <td>0</td>\n      <td>0</td>\n      <td>6.4500</td>\n    </tr>\n    <tr>\n      <th>820</th>\n      <td>3</td>\n      <td>10.000000</td>\n      <td>3</td>\n      <td>2</td>\n      <td>27.9000</td>\n    </tr>\n    <tr>\n      <th>821</th>\n      <td>1</td>\n      <td>52.000000</td>\n      <td>1</td>\n      <td>1</td>\n      <td>93.5000</td>\n    </tr>\n    <tr>\n      <th>822</th>\n      <td>3</td>\n      <td>27.000000</td>\n      <td>0</td>\n      <td>0</td>\n      <td>8.6625</td>\n    </tr>\n    <tr>\n      <th>823</th>\n      <td>1</td>\n      <td>38.000000</td>\n      <td>0</td>\n      <td>0</td>\n      <td>61.3792</td>\n    </tr>\n    <tr>\n      <th>824</th>\n      <td>3</td>\n      <td>27.000000</td>\n      <td>0</td>\n      <td>1</td>\n      <td>12.4750</td>\n    </tr>\n  </tbody>\n</table>\n</div>"
     },
     "execution_count": 1631,
     "metadata": {},
     "output_type": "execute_result"
    }
   ],
   "source": [
    "# PClass 등급별 Fare 중앙값(median) 계산\n",
    "fare_medians = all_data_bin[all_data_bin['Fare'] != 0].groupby('Pclass')['Fare'].median()\n",
    "# fare_medians\n",
    "# Fare 값이 0인 데이터를 PClass 등급에 따라 중앙값으로 채우기\n",
    "for i, row in all_data_bin.iterrows():\n",
    "    if row['Fare'] == 0:\n",
    "        all_data_bin.at[i, 'Fare'] = fare_medians[row['Pclass']]\n",
    "\n",
    "# 결과 확인\n",
    "all_data_bin.loc[816:824]"
   ],
   "metadata": {
    "collapsed": false,
    "pycharm": {
     "name": "#%%\n"
    }
   }
  },
  {
   "cell_type": "code",
   "execution_count": 1632,
   "outputs": [
    {
     "name": "stdout",
     "output_type": "stream",
     "text": [
      "             Pclass  Age  SibSp  Parch    Fare  log_Fare\n",
      "PassengerId                                             \n",
      "913               3  9.0      0      1  3.1708  1.153984\n"
     ]
    },
    {
     "name": "stderr",
     "output_type": "stream",
     "text": [
      "<ipython-input-1632-17cb4e2c0935>:1: SettingWithCopyWarning: \n",
      "A value is trying to be set on a copy of a slice from a DataFrame.\n",
      "Try using .loc[row_indexer,col_indexer] = value instead\n",
      "\n",
      "See the caveats in the documentation: https://pandas.pydata.org/pandas-docs/stable/user_guide/indexing.html#returning-a-view-versus-a-copy\n",
      "  all_data_bin['log_Fare'] = np.log(all_data_bin['Fare'])\n"
     ]
    }
   ],
   "source": [
    "all_data_bin['log_Fare'] = np.log(all_data_bin['Fare'])\n",
    "min_log_fare = min(all_data_bin['log_Fare'])\n",
    "min_log_fare_row = all_data_bin[all_data_bin['log_Fare'] == min_log_fare]\n",
    "print(min_log_fare_row)\n",
    "# 제일 log_Fare 값이 작은 열 출력\n",
    "\n",
    "\n"
   ],
   "metadata": {
    "collapsed": false,
    "pycharm": {
     "name": "#%%\n"
    }
   }
  },
  {
   "cell_type": "code",
   "execution_count": 1633,
   "outputs": [
    {
     "name": "stdout",
     "output_type": "stream",
     "text": [
      "width : 0.08474972441987998\n",
      "6.238967387173662\n",
      "1.1539839219808636\n",
      "hist : [  1   0   1   0   0   1   0   1   9  89 307  36  26   9  44  12  73  51\n",
      "  45  20  13  14  32  31  71  52  34  28  18  21   7  11  13  34  25  11\n",
      "  17  32  20  16   0  10   7   0  13  12   4   0   0   9   9   3  13   0\n",
      "   0   0   0   0   0]\n",
      "bins : [1.154 1.239 1.323 1.408 1.493 1.578 1.662 1.747 1.832 1.917 2.001 2.086\n",
      " 2.171 2.256 2.34  2.425 2.51  2.595 2.679 2.764 2.849 2.934 3.018 3.103\n",
      " 3.188 3.273 3.357 3.442 3.527 3.612 3.696 3.781 3.866 3.951 4.035 4.12\n",
      " 4.205 4.29  4.374 4.459 4.544 4.629 4.713 4.798 4.883 4.968 5.052 5.137\n",
      " 5.222 5.307 5.391 5.476 5.561 5.646 5.73  5.815 5.9   5.985 6.069 6.154]\n"
     ]
    },
    {
     "data": {
      "text/plain": "(array([  0.,  50., 100., 150., 200., 250., 300., 350.]),\n <a list of 8 Text major ticklabel objects>)"
     },
     "execution_count": 1633,
     "metadata": {},
     "output_type": "execute_result"
    },
    {
     "data": {
      "text/plain": "<Figure size 432x288 with 1 Axes>",
      "image/png": "[encoded data removed]"
     },
     "metadata": {
      "needs_background": "light"
     },
     "output_type": "display_data"
    }
   ],
   "source": [
    "width = (max(all_data_bin['log_Fare']) - min(all_data_bin['log_Fare'])) / K #계급 간격 구하는 공식\n",
    "print(f'width : {width}')\n",
    "print(max(all_data_bin['log_Fare']))\n",
    "print(min(all_data_bin['log_Fare']))\n",
    "bins = np.arange(min(all_data_bin['log_Fare']), max(all_data_bin['log_Fare']), width)\n",
    "hist, bins = np.histogram(all_data_bin['log_Fare'], bins)\n",
    "print(f'hist : {hist}')\n",
    "print(f'bins : {bins}')\n",
    "\n",
    "plt.hist(all_data_bin['log_Fare'], bins , rwidth = 0.8 , color = 'green' , alpha = 0.5)\n",
    "plt.xlabel('log화 한 계급간격' , fontsize = 14)\n",
    "plt.xticks(fontsize = 14)\n",
    "plt.yticks(fontsize = 14)"
   ],
   "metadata": {
    "collapsed": false,
    "pycharm": {
     "name": "#%%\n"
    }
   }
  },
  {
   "cell_type": "code",
   "execution_count": 1634,
   "outputs": [
    {
     "name": "stdout",
     "output_type": "stream",
     "text": [
      "[1.154 1.239 1.323 1.408 1.493 1.578 1.662 1.747 1.832 1.917 2.001 2.086\n",
      " 2.171 2.256 2.34  2.425 2.51  2.595 2.679 2.764 2.849 2.934 3.018 3.103\n",
      " 3.188 3.273 3.357 3.442 3.527 3.612 3.696 3.781 3.866 3.951 4.035 4.12\n",
      " 4.205 4.29  4.374 4.459 4.544 4.629 4.713 4.798 4.883 4.968 5.052 5.137\n",
      " 5.222 5.307 5.391 5.476 5.561 5.646 5.73  5.815 5.9   5.985 6.069 6.154]\n"
     ]
    },
    {
     "name": "stderr",
     "output_type": "stream",
     "text": [
      "<ipython-input-1634-0b5141b36130>:16: SettingWithCopyWarning: \n",
      "A value is trying to be set on a copy of a slice from a DataFrame.\n",
      "Try using .loc[row_indexer,col_indexer] = value instead\n",
      "\n",
      "See the caveats in the documentation: https://pandas.pydata.org/pandas-docs/stable/user_guide/indexing.html#returning-a-view-versus-a-copy\n",
      "  all_data_bin['Fare_binned'] = pd.cut(all_data_bin['log_Fare'], bins=len(labels), labels=labels , ordered = False)\n"
     ]
    },
    {
     "data": {
      "text/plain": "             Pclass        Age  SibSp  Parch      Fare  log_Fare Fare_binned\nPassengerId                                                                 \n1                 3  22.000000      1      0    7.2500  1.981001         1.9\n2                 1  38.000000      1      0   71.2833  4.266662         4.2\n3                 3  26.000000      0      0    7.9250  2.070022         2.0\n4                 1  35.000000      1      0   53.1000  3.972177         4.0\n5                 3  35.000000      0      0    8.0500  2.085672         2.0\n...             ...        ...    ...    ...       ...       ...         ...\n1305              3  27.330409      0      0    8.0500  2.085672         2.0\n1306              1  39.000000      0      0  108.9000  4.690430         4.6\n1307              3  38.500000      0      0    7.2500  1.981001         1.9\n1308              3  27.330409      0      0    8.0500  2.085672         2.0\n1309              3  24.725898      1      1   22.3583  3.107198         3.1\n\n[1309 rows x 7 columns]",
      "text/html": "<div>\n<style scoped>\n    .dataframe tbody tr th:only-of-type {\n        vertical-align: middle;\n    }\n\n    .dataframe tbody tr th {\n        vertical-align: top;\n    }\n\n    .dataframe thead th {\n        text-align: right;\n    }\n</style>\n<table border=\"1\" class=\"dataframe\">\n  <thead>\n    <tr style=\"text-align: right;\">\n      <th></th>\n      <th>Pclass</th>\n      <th>Age</th>\n      <th>SibSp</th>\n      <th>Parch</th>\n      <th>Fare</th>\n      <th>log_Fare</th>\n      <th>Fare_binned</th>\n    </tr>\n    <tr>\n      <th>PassengerId</th>\n      <th></th>\n      <th></th>\n      <th></th>\n      <th></th>\n      <th></th>\n      <th></th>\n      <th></th>\n    </tr>\n  </thead>\n  <tbody>\n    <tr>\n      <th>1</th>\n      <td>3</td>\n      <td>22.000000</td>\n      <td>1</td>\n      <td>0</td>\n      <td>7.2500</td>\n      <td>1.981001</td>\n      <td>1.9</td>\n    </tr>\n    <tr>\n      <th>2</th>\n      <td>1</td>\n      <td>38.000000</td>\n      <td>1</td>\n      <td>0</td>\n      <td>71.2833</td>\n      <td>4.266662</td>\n      <td>4.2</td>\n    </tr>\n    <tr>\n      <th>3</th>\n      <td>3</td>\n      <td>26.000000</td>\n      <td>0</td>\n      <td>0</td>\n      <td>7.9250</td>\n      <td>2.070022</td>\n      <td>2.0</td>\n    </tr>\n    <tr>\n      <th>4</th>\n      <td>1</td>\n      <td>35.000000</td>\n      <td>1</td>\n      <td>0</td>\n      <td>53.1000</td>\n      <td>3.972177</td>\n      <td>4.0</td>\n    </tr>\n    <tr>\n      <th>5</th>\n      <td>3</td>\n      <td>35.000000</td>\n      <td>0</td>\n      <td>0</td>\n      <td>8.0500</td>\n      <td>2.085672</td>\n      <td>2.0</td>\n    </tr>\n    <tr>\n      <th>...</th>\n      <td>...</td>\n      <td>...</td>\n      <td>...</td>\n      <td>...</td>\n      <td>...</td>\n      <td>...</td>\n      <td>...</td>\n    </tr>\n    <tr>\n      <th>1305</th>\n      <td>3</td>\n      <td>27.330409</td>\n      <td>0</td>\n      <td>0</td>\n      <td>8.0500</td>\n      <td>2.085672</td>\n      <td>2.0</td>\n    </tr>\n    <tr>\n      <th>1306</th>\n      <td>1</td>\n      <td>39.000000</td>\n      <td>0</td>\n      <td>0</td>\n      <td>108.9000</td>\n      <td>4.690430</td>\n      <td>4.6</td>\n    </tr>\n    <tr>\n      <th>1307</th>\n      <td>3</td>\n      <td>38.500000</td>\n      <td>0</td>\n      <td>0</td>\n      <td>7.2500</td>\n      <td>1.981001</td>\n      <td>1.9</td>\n    </tr>\n    <tr>\n      <th>1308</th>\n      <td>3</td>\n      <td>27.330409</td>\n      <td>0</td>\n      <td>0</td>\n      <td>8.0500</td>\n      <td>2.085672</td>\n      <td>2.0</td>\n    </tr>\n    <tr>\n      <th>1309</th>\n      <td>3</td>\n      <td>24.725898</td>\n      <td>1</td>\n      <td>1</td>\n      <td>22.3583</td>\n      <td>3.107198</td>\n      <td>3.1</td>\n    </tr>\n  </tbody>\n</table>\n<p>1309 rows × 7 columns</p>\n</div>"
     },
     "execution_count": 1634,
     "metadata": {},
     "output_type": "execute_result"
    }
   ],
   "source": [
    "# 범주의 크기를 지정할 width 변수 설정\n",
    "\n",
    "bins = np.arange(min(all_data_bin['log_Fare']), max(all_data_bin['log_Fare']), width)\n",
    "print(bins)\n",
    "hist, bins = np.histogram(all_data_bin['log_Fare'], bins)\n",
    "width = len(bins)\n",
    "\n",
    "# 범주의 최솟값(min)과 최댓값(max)을 계산\n",
    "min_val = all_data_bin['log_Fare'].min()\n",
    "max_val = all_data_bin['log_Fare'].max()\n",
    "\n",
    "# 최솟값과 최댓값을 width 간격으로 나눠서 labels 배열 생성\n",
    "labels = [f'{round(i,1)}' for i in bins]\n",
    "\n",
    "# train['Fare'] 값을 labels에 맞게 범주형으로 변환\n",
    "all_data_bin['Fare_binned'] = pd.cut(all_data_bin['log_Fare'], bins=len(labels), labels=labels , ordered = False)\n",
    "# train 데이터프레임 내용 확인\n",
    "all_data_bin\n"
   ],
   "metadata": {
    "collapsed": false,
    "pycharm": {
     "name": "#%%\n"
    }
   }
  },
  {
   "cell_type": "code",
   "execution_count": 1635,
   "outputs": [
    {
     "data": {
      "text/plain": "             Pclass        Age  SibSp  Parch      Fare  log_Fare Fare_binned  \\\nPassengerId                                                                    \n1                 3  22.000000      1      0    7.2500  1.981001         1.9   \n2                 1  38.000000      1      0   71.2833  4.266662         4.2   \n3                 3  26.000000      0      0    7.9250  2.070022         2.0   \n4                 1  35.000000      1      0   53.1000  3.972177         4.0   \n5                 3  35.000000      0      0    8.0500  2.085672         2.0   \n...             ...        ...    ...    ...       ...       ...         ...   \n1305              3  27.330409      0      0    8.0500  2.085672         2.0   \n1306              1  39.000000      0      0  108.9000  4.690430         4.6   \n1307              3  38.500000      0      0    7.2500  1.981001         1.9   \n1308              3  27.330409      0      0    8.0500  2.085672         2.0   \n1309              3  24.725898      1      1   22.3583  3.107198         3.1   \n\n            Fare_binned_범위  \nPassengerId                 \n1                  1.9~2.0  \n2                  4.2~4.3  \n3                  2.0~2.1  \n4                  3.9~4.0  \n5                  2.0~2.1  \n...                    ...  \n1305               2.0~2.1  \n1306               4.6~4.7  \n1307               1.9~2.0  \n1308               2.0~2.1  \n1309               3.0~3.1  \n\n[1309 rows x 8 columns]",
      "text/html": "<div>\n<style scoped>\n    .dataframe tbody tr th:only-of-type {\n        vertical-align: middle;\n    }\n\n    .dataframe tbody tr th {\n        vertical-align: top;\n    }\n\n    .dataframe thead th {\n        text-align: right;\n    }\n</style>\n<table border=\"1\" class=\"dataframe\">\n  <thead>\n    <tr style=\"text-align: right;\">\n      <th></th>\n      <th>Pclass</th>\n      <th>Age</th>\n      <th>SibSp</th>\n      <th>Parch</th>\n      <th>Fare</th>\n      <th>log_Fare</th>\n      <th>Fare_binned</th>\n      <th>Fare_binned_범위</th>\n    </tr>\n    <tr>\n      <th>PassengerId</th>\n      <th></th>\n      <th></th>\n      <th></th>\n      <th></th>\n      <th></th>\n      <th></th>\n      <th></th>\n      <th></th>\n    </tr>\n  </thead>\n  <tbody>\n    <tr>\n      <th>1</th>\n      <td>3</td>\n      <td>22.000000</td>\n      <td>1</td>\n      <td>0</td>\n      <td>7.2500</td>\n      <td>1.981001</td>\n      <td>1.9</td>\n      <td>1.9~2.0</td>\n    </tr>\n    <tr>\n      <th>2</th>\n      <td>1</td>\n      <td>38.000000</td>\n      <td>1</td>\n      <td>0</td>\n      <td>71.2833</td>\n      <td>4.266662</td>\n      <td>4.2</td>\n      <td>4.2~4.3</td>\n    </tr>\n    <tr>\n      <th>3</th>\n      <td>3</td>\n      <td>26.000000</td>\n      <td>0</td>\n      <td>0</td>\n      <td>7.9250</td>\n      <td>2.070022</td>\n      <td>2.0</td>\n      <td>2.0~2.1</td>\n    </tr>\n    <tr>\n      <th>4</th>\n      <td>1</td>\n      <td>35.000000</td>\n      <td>1</td>\n      <td>0</td>\n      <td>53.1000</td>\n      <td>3.972177</td>\n      <td>4.0</td>\n      <td>3.9~4.0</td>\n    </tr>\n    <tr>\n      <th>5</th>\n      <td>3</td>\n      <td>35.000000</td>\n      <td>0</td>\n      <td>0</td>\n      <td>8.0500</td>\n      <td>2.085672</td>\n      <td>2.0</td>\n      <td>2.0~2.1</td>\n    </tr>\n    <tr>\n      <th>...</th>\n      <td>...</td>\n      <td>...</td>\n      <td>...</td>\n      <td>...</td>\n      <td>...</td>\n      <td>...</td>\n      <td>...</td>\n      <td>...</td>\n    </tr>\n    <tr>\n      <th>1305</th>\n      <td>3</td>\n      <td>27.330409</td>\n      <td>0</td>\n      <td>0</td>\n      <td>8.0500</td>\n      <td>2.085672</td>\n      <td>2.0</td>\n      <td>2.0~2.1</td>\n    </tr>\n    <tr>\n      <th>1306</th>\n      <td>1</td>\n      <td>39.000000</td>\n      <td>0</td>\n      <td>0</td>\n      <td>108.9000</td>\n      <td>4.690430</td>\n      <td>4.6</td>\n      <td>4.6~4.7</td>\n    </tr>\n    <tr>\n      <th>1307</th>\n      <td>3</td>\n      <td>38.500000</td>\n      <td>0</td>\n      <td>0</td>\n      <td>7.2500</td>\n      <td>1.981001</td>\n      <td>1.9</td>\n      <td>1.9~2.0</td>\n    </tr>\n    <tr>\n      <th>1308</th>\n      <td>3</td>\n      <td>27.330409</td>\n      <td>0</td>\n      <td>0</td>\n      <td>8.0500</td>\n      <td>2.085672</td>\n      <td>2.0</td>\n      <td>2.0~2.1</td>\n    </tr>\n    <tr>\n      <th>1309</th>\n      <td>3</td>\n      <td>24.725898</td>\n      <td>1</td>\n      <td>1</td>\n      <td>22.3583</td>\n      <td>3.107198</td>\n      <td>3.1</td>\n      <td>3.0~3.1</td>\n    </tr>\n  </tbody>\n</table>\n<p>1309 rows × 8 columns</p>\n</div>"
     },
     "execution_count": 1635,
     "metadata": {},
     "output_type": "execute_result"
    }
   ],
   "source": [
    "labels = [f\"{bins[i]:.1f}~{bins[i+1]:.1f}\" for i in range(len(bins)-1)]\n",
    "\n",
    "# train['Fare'] 값을 labels에 맞게 범주형으로 변환\n",
    "all_data_bin['Fare_binned_범위'] = pd.cut(all_data_bin['log_Fare'], bins=len(labels), labels=labels , ordered=False)\n",
    "# train 데이터프레임 내용 확인\n",
    "all_data_bin"
   ],
   "metadata": {
    "collapsed": false,
    "pycharm": {
     "name": "#%%\n"
    }
   }
  },
  {
   "cell_type": "code",
   "execution_count": 1636,
   "outputs": [
    {
     "name": "stdout",
     "output_type": "stream",
     "text": [
      "['1.9', '4.2', '2.0', '4.0', '2.1', ..., '5.3', '1.3', '5.4', '1.6', '1.2']\n",
      "Length: 42\n",
      "Categories (42, object): ['1.9', '4.2', '2.0', '4.0', ..., '1.3', '5.4', '1.6', '1.2']\n",
      "['1.9~2.0', '4.2~4.3', '2.0~2.1', '3.9~4.0', '2.1~2.2', ..., '4.5~4.5', '4.5~4.6', '3.7~3.8', '1.6~1.7', '1.2~1.2']\n",
      "Length: 47\n",
      "Categories (47, object): ['1.9~2.0', '4.2~4.3', '2.0~2.1', '3.9~4.0', ..., '4.5~4.6', '3.7~3.8', '1.6~1.7', '1.2~1.2']\n"
     ]
    }
   ],
   "source": [
    "print(all_data_bin['Fare_binned'].unique())\n",
    "\n",
    "print(all_data_bin['Fare_binned_범위'].unique())"
   ],
   "metadata": {
    "collapsed": false,
    "pycharm": {
     "name": "#%%\n"
    }
   }
  },
  {
   "cell_type": "code",
   "execution_count": 1637,
   "outputs": [
    {
     "name": "stderr",
     "output_type": "stream",
     "text": [
      "posx and posy should be finite values\n",
      "posx and posy should be finite values\n",
      "posx and posy should be finite values\n",
      "posx and posy should be finite values\n",
      "posx and posy should be finite values\n",
      "posx and posy should be finite values\n",
      "posx and posy should be finite values\n",
      "posx and posy should be finite values\n",
      "posx and posy should be finite values\n",
      "posx and posy should be finite values\n",
      "posx and posy should be finite values\n",
      "posx and posy should be finite values\n",
      "posx and posy should be finite values\n",
      "posx and posy should be finite values\n",
      "posx and posy should be finite values\n",
      "posx and posy should be finite values\n",
      "posx and posy should be finite values\n",
      "posx and posy should be finite values\n",
      "posx and posy should be finite values\n",
      "posx and posy should be finite values\n",
      "posx and posy should be finite values\n",
      "posx and posy should be finite values\n",
      "posx and posy should be finite values\n",
      "posx and posy should be finite values\n",
      "posx and posy should be finite values\n",
      "posx and posy should be finite values\n",
      "posx and posy should be finite values\n",
      "posx and posy should be finite values\n",
      "posx and posy should be finite values\n",
      "posx and posy should be finite values\n",
      "posx and posy should be finite values\n",
      "posx and posy should be finite values\n",
      "posx and posy should be finite values\n",
      "posx and posy should be finite values\n",
      "posx and posy should be finite values\n",
      "posx and posy should be finite values\n",
      "posx and posy should be finite values\n",
      "posx and posy should be finite values\n",
      "posx and posy should be finite values\n",
      "posx and posy should be finite values\n",
      "posx and posy should be finite values\n",
      "posx and posy should be finite values\n",
      "posx and posy should be finite values\n",
      "posx and posy should be finite values\n",
      "posx and posy should be finite values\n",
      "posx and posy should be finite values\n",
      "posx and posy should be finite values\n",
      "posx and posy should be finite values\n",
      "posx and posy should be finite values\n",
      "posx and posy should be finite values\n",
      "posx and posy should be finite values\n",
      "posx and posy should be finite values\n",
      "posx and posy should be finite values\n",
      "posx and posy should be finite values\n"
     ]
    },
    {
     "data": {
      "text/plain": "<Figure size 720x1152 with 1 Axes>",
      "image/png": "[encoded data removed]"
     },
     "metadata": {
      "needs_background": "light"
     },
     "output_type": "display_data"
    }
   ],
   "source": [
    "from matplotlib import gridspec\n",
    "\n",
    "mpl.rc('font' , size = 12)\n",
    "grid = gridspec.GridSpec(3,2) # 그래프(서브플롯)을 3행 2열로 배치\n",
    "plt.figure(figsize=(10,16)) # 전체 Figure 크기 설정\n",
    "plt.subplots_adjust(wspace= 0.4 , hspace= 0.3) # 서브플롯 간 좌우/상하 여백 설정\n",
    "all_data_bin['Survival'] = train['Survived'].map({0: '사망', 1: '생존'})\n",
    "# 서브플롯 그리기# 피처 목록\n",
    "\n",
    "for idx, feature in enumerate(['Fare_binned']) :\n",
    "\n",
    "    ax = plt.subplot(grid[idx])\n",
    "\n",
    "    # ax 축에 타깃값 분포 카운트플롯 그리기\n",
    "    sns.countplot(x=feature , data = all_data_bin , hue = 'Survival' , palette = 'pastel' , ax= ax)\n",
    "    # hue는 세부적으로 나눠 그릴 기준 피처, 여기서는 타깃값(target)을 전달했다.\n",
    "    ax.set_title(f'LOG화한 Fare 타이타닉호 생존자') # 그래프 제목 설정\n",
    "    write_percent(ax, len(all_data_bin))\n",
    "\n"
   ],
   "metadata": {
    "collapsed": false,
    "pycharm": {
     "name": "#%%\n"
    }
   }
  },
  {
   "cell_type": "code",
   "execution_count": 1638,
   "outputs": [
    {
     "data": {
      "text/plain": "array([  3.171,   3.451,   3.756,   4.089,   4.45 ,   4.844,   5.272,\n         5.739,   6.246,   6.799,   7.4  ,   8.054,   8.767,   9.542,\n        10.386,  11.305,  12.305,  13.393,  14.577,  15.867,  17.27 ,\n        18.798,  20.46 ,  22.27 ,  24.239,  26.383,  28.717,  31.256,\n        34.021,  37.03 ,  40.305,  43.87 ,  47.75 ,  51.973,  56.57 ,\n        61.573,  67.019,  72.946,  79.398,  86.42 ,  94.064, 102.383,\n       111.438, 121.295, 132.022, 143.699, 156.409, 170.242, 185.299,\n       201.688, 219.526, 238.942, 260.075, 283.077, 308.114, 335.365,\n       365.026, 397.311, 432.451, 470.698])"
     },
     "execution_count": 1638,
     "metadata": {},
     "output_type": "execute_result"
    }
   ],
   "source": [
    "bins_exp = np.exp(bins)\n",
    "bins_exp"
   ],
   "metadata": {
    "collapsed": false,
    "pycharm": {
     "name": "#%%\n"
    }
   }
  },
  {
   "cell_type": "markdown",
   "source": [
    "### 'AGE' 계급간격 구하기"
   ],
   "metadata": {
    "collapsed": false,
    "pycharm": {
     "name": "#%% md\n"
    }
   }
  },
  {
   "cell_type": "code",
   "execution_count": 1639,
   "outputs": [
    {
     "data": {
      "text/plain": "count    1309.000000\nmean       29.249849\nstd        13.474684\nmin        -6.287089\n25%        22.000000\n50%        27.325825\n75%        36.313293\nmax        80.000000\nName: Age, dtype: float64"
     },
     "execution_count": 1639,
     "metadata": {},
     "output_type": "execute_result"
    }
   ],
   "source": [
    "all_data_bin['Age'].describe()"
   ],
   "metadata": {
    "collapsed": false,
    "pycharm": {
     "name": "#%%\n"
    }
   }
  },
  {
   "cell_type": "code",
   "execution_count": 1640,
   "outputs": [
    {
     "name": "stdout",
     "output_type": "stream",
     "text": [
      "[1232]\n",
      "[-6.287 53.713]\n"
     ]
    },
    {
     "data": {
      "text/plain": "(array([   0.,  200.,  400.,  600.,  800., 1000., 1200., 1400.]),\n <a list of 8 Text major ticklabel objects>)"
     },
     "execution_count": 1640,
     "metadata": {},
     "output_type": "execute_result"
    },
    {
     "data": {
      "text/plain": "<Figure size 432x288 with 1 Axes>",
      "image/png": "[encoded data removed]"
     },
     "metadata": {
      "needs_background": "light"
     },
     "output_type": "display_data"
    }
   ],
   "source": [
    "bins = np.arange(min(all_data_bin['Age']), max(all_data_bin['Age']), width)\n",
    "\n",
    "\n",
    "hist, bins = np.histogram(all_data_bin['Age'], bins)\n",
    "print(hist)\n",
    "print(bins)\n",
    "\n",
    "plt.hist(all_data_bin['Age'], bins , rwidth = 0.8 , color = 'green' , alpha = 0.5)\n",
    "plt.xlabel('양적자료' , fontsize = 14)\n",
    "plt.xticks(fontsize = 14)\n",
    "plt.yticks(fontsize = 14)\n",
    "\n"
   ],
   "metadata": {
    "collapsed": false,
    "pycharm": {
     "name": "#%%\n"
    }
   }
  },
  {
   "cell_type": "markdown",
   "source": [
    "### 분포가 생각보다 일정해서 log 화 안해도 될거 같다.\n",
    "---\n",
    "\n",
    "### 대신 간격의 수를 줄여야 겠다. 10대 20대 30대 이런식으로 하는것이 좋을 거 같다.\n",
    "\n",
    "- describe()에서 최대값이 80살 , 최소값이 0살이므로 10개의 계급간격을 나누면 좋을거 같다."
   ],
   "metadata": {
    "collapsed": false,
    "pycharm": {
     "name": "#%% md\n"
    }
   }
  },
  {
   "cell_type": "code",
   "execution_count": 1641,
   "outputs": [
    {
     "name": "stdout",
     "output_type": "stream",
     "text": [
      "width : 8.628708874236596\n",
      "80.0\n",
      "-6.2870887423659525\n",
      "hist : [ 83 162 525 263 159  70  32   8]\n",
      "bins : [ 0 10 20 30 40 50 60 70 80]\n"
     ]
    },
    {
     "data": {
      "text/plain": "(array([  0., 100., 200., 300., 400., 500., 600.]),\n <a list of 7 Text major ticklabel objects>)"
     },
     "execution_count": 1641,
     "metadata": {},
     "output_type": "execute_result"
    },
    {
     "data": {
      "text/plain": "<Figure size 432x288 with 1 Axes>",
      "image/png": "[encoded data removed]"
     },
     "metadata": {
      "needs_background": "light"
     },
     "output_type": "display_data"
    }
   ],
   "source": [
    "width = (max(all_data_bin['Age']) - min(all_data_bin['Age'])) / 10 #계급 간격 구하는 공식\n",
    "\n",
    "# width = np.arange(0,90,10)\n",
    "\n",
    "print(f'width : {width}')\n",
    "print(max(all_data_bin['Age']))\n",
    "print(min(all_data_bin['Age']))\n",
    "bins = np.arange(0,90,AGG)\n",
    "hist, bins = np.histogram(all_data_bin['Age'], bins)\n",
    "print(f'hist : {hist}')\n",
    "print(f'bins : {bins}')\n",
    "\n",
    "plt.hist(all_data_bin['Age'], bins , rwidth = 0.8 , color = 'green' , alpha = 0.5)\n",
    "plt.xlabel('연령대 별 계급간격' , fontsize = 14)\n",
    "plt.xticks(fontsize = 14)\n",
    "plt.yticks(fontsize = 14)"
   ],
   "metadata": {
    "collapsed": false,
    "pycharm": {
     "name": "#%%\n"
    }
   }
  },
  {
   "cell_type": "code",
   "execution_count": 1642,
   "outputs": [],
   "source": [
    "# labels = [f'{i}' for i in bins]\n",
    "#\n",
    "# # train['Fare'] 값을 labels에 맞게 범주형으로 변환\n",
    "# all_data_bin['Age_Categorical'] = pd.cut(all_data_bin['Age'], bins=len(labels), labels=labels)\n",
    "# # train 데이터프레임 내용 확인\n",
    "# all_data_bin"
   ],
   "metadata": {
    "collapsed": false,
    "pycharm": {
     "name": "#%%\n"
    }
   }
  },
  {
   "cell_type": "code",
   "execution_count": 1643,
   "outputs": [],
   "source": [
    "# age_cat_with_daes = all_data_bin['Age_Categorical'].apply(lambda x: str(x)+'대')\n",
    "#\n",
    "# # train_bin['Age_Categorical'] 열 대체\n",
    "# all_data_bin['Age_Categorical'] = age_cat_with_daes\n",
    "#\n",
    "# all_data_bin"
   ],
   "metadata": {
    "collapsed": false,
    "pycharm": {
     "name": "#%%\n"
    }
   }
  },
  {
   "cell_type": "code",
   "execution_count": 1644,
   "outputs": [
    {
     "data": {
      "text/plain": "['Pclass',\n 'Age',\n 'SibSp',\n 'Parch',\n 'Fare',\n 'log_Fare',\n 'Fare_binned',\n 'Fare_binned_범위',\n 'Survival']"
     },
     "execution_count": 1644,
     "metadata": {},
     "output_type": "execute_result"
    }
   ],
   "source": [
    "all_data_bin.columns.tolist()"
   ],
   "metadata": {
    "collapsed": false,
    "pycharm": {
     "name": "#%%\n"
    }
   }
  },
  {
   "cell_type": "code",
   "execution_count": 1645,
   "outputs": [
    {
     "data": {
      "text/plain": "                   Age  Pclass  SibSp  Parch Survival      Fare Fare_binned_범위\nPassengerId                                                                   \n1            22.000000       3      1      0       사망    7.2500        1.9~2.0\n2            38.000000       1      1      0       생존   71.2833        4.2~4.3\n3            26.000000       3      0      0       생존    7.9250        2.0~2.1\n4            35.000000       1      1      0       생존   53.1000        3.9~4.0\n5            35.000000       3      0      0       사망    8.0500        2.0~2.1\n...                ...     ...    ...    ...      ...       ...            ...\n1305         27.330409       3      0      0      NaN    8.0500        2.0~2.1\n1306         39.000000       1      0      0      NaN  108.9000        4.6~4.7\n1307         38.500000       3      0      0      NaN    7.2500        1.9~2.0\n1308         27.330409       3      0      0      NaN    8.0500        2.0~2.1\n1309         24.725898       3      1      1      NaN   22.3583        3.0~3.1\n\n[1309 rows x 7 columns]",
      "text/html": "<div>\n<style scoped>\n    .dataframe tbody tr th:only-of-type {\n        vertical-align: middle;\n    }\n\n    .dataframe tbody tr th {\n        vertical-align: top;\n    }\n\n    .dataframe thead th {\n        text-align: right;\n    }\n</style>\n<table border=\"1\" class=\"dataframe\">\n  <thead>\n    <tr style=\"text-align: right;\">\n      <th></th>\n      <th>Age</th>\n      <th>Pclass</th>\n      <th>SibSp</th>\n      <th>Parch</th>\n      <th>Survival</th>\n      <th>Fare</th>\n      <th>Fare_binned_범위</th>\n    </tr>\n    <tr>\n      <th>PassengerId</th>\n      <th></th>\n      <th></th>\n      <th></th>\n      <th></th>\n      <th></th>\n      <th></th>\n      <th></th>\n    </tr>\n  </thead>\n  <tbody>\n    <tr>\n      <th>1</th>\n      <td>22.000000</td>\n      <td>3</td>\n      <td>1</td>\n      <td>0</td>\n      <td>사망</td>\n      <td>7.2500</td>\n      <td>1.9~2.0</td>\n    </tr>\n    <tr>\n      <th>2</th>\n      <td>38.000000</td>\n      <td>1</td>\n      <td>1</td>\n      <td>0</td>\n      <td>생존</td>\n      <td>71.2833</td>\n      <td>4.2~4.3</td>\n    </tr>\n    <tr>\n      <th>3</th>\n      <td>26.000000</td>\n      <td>3</td>\n      <td>0</td>\n      <td>0</td>\n      <td>생존</td>\n      <td>7.9250</td>\n      <td>2.0~2.1</td>\n    </tr>\n    <tr>\n      <th>4</th>\n      <td>35.000000</td>\n      <td>1</td>\n      <td>1</td>\n      <td>0</td>\n      <td>생존</td>\n      <td>53.1000</td>\n      <td>3.9~4.0</td>\n    </tr>\n    <tr>\n      <th>5</th>\n      <td>35.000000</td>\n      <td>3</td>\n      <td>0</td>\n      <td>0</td>\n      <td>사망</td>\n      <td>8.0500</td>\n      <td>2.0~2.1</td>\n    </tr>\n    <tr>\n      <th>...</th>\n      <td>...</td>\n      <td>...</td>\n      <td>...</td>\n      <td>...</td>\n      <td>...</td>\n      <td>...</td>\n      <td>...</td>\n    </tr>\n    <tr>\n      <th>1305</th>\n      <td>27.330409</td>\n      <td>3</td>\n      <td>0</td>\n      <td>0</td>\n      <td>NaN</td>\n      <td>8.0500</td>\n      <td>2.0~2.1</td>\n    </tr>\n    <tr>\n      <th>1306</th>\n      <td>39.000000</td>\n      <td>1</td>\n      <td>0</td>\n      <td>0</td>\n      <td>NaN</td>\n      <td>108.9000</td>\n      <td>4.6~4.7</td>\n    </tr>\n    <tr>\n      <th>1307</th>\n      <td>38.500000</td>\n      <td>3</td>\n      <td>0</td>\n      <td>0</td>\n      <td>NaN</td>\n      <td>7.2500</td>\n      <td>1.9~2.0</td>\n    </tr>\n    <tr>\n      <th>1308</th>\n      <td>27.330409</td>\n      <td>3</td>\n      <td>0</td>\n      <td>0</td>\n      <td>NaN</td>\n      <td>8.0500</td>\n      <td>2.0~2.1</td>\n    </tr>\n    <tr>\n      <th>1309</th>\n      <td>24.725898</td>\n      <td>3</td>\n      <td>1</td>\n      <td>1</td>\n      <td>NaN</td>\n      <td>22.3583</td>\n      <td>3.0~3.1</td>\n    </tr>\n  </tbody>\n</table>\n<p>1309 rows × 7 columns</p>\n</div>"
     },
     "execution_count": 1645,
     "metadata": {},
     "output_type": "execute_result"
    }
   ],
   "source": [
    "all_data_bin2 = all_data_bin[['Age','Pclass' ,'SibSp','Parch' ,'Survival' , 'Fare' ,'Fare_binned_범위' ]]\n",
    "all_data_bin2"
   ],
   "metadata": {
    "collapsed": false,
    "pycharm": {
     "name": "#%%\n"
    }
   }
  },
  {
   "cell_type": "code",
   "execution_count": 1646,
   "outputs": [],
   "source": [
    "# # 3행 2열\n",
    "# mpl.rc('font' , size = 12)\n",
    "# grid = gridspec.GridSpec(3,3) # 그래프(서브플롯)을 3행 2열로 배치\n",
    "# plt.figure(figsize=(15,16)) # 전체 Figure 크기 설정\n",
    "# plt.subplots_adjust(wspace= 0.4 , hspace= 0.3) # 서브플롯 간 좌우/상하 여백 설정\n",
    "#\n",
    "# # 서브플롯 그리기# 피처 목록\n",
    "#\n",
    "# for idx, feature in enumerate(all_data_bin2.columns.tolist()) :\n",
    "#\n",
    "#     ax = plt.subplot(grid[idx])\n",
    "#\n",
    "#     # ax 축에 타깃값 분포 카운트플롯 그리기\n",
    "#     sns.countplot(x=feature , data = all_data_bin2 , hue = 'Survival' , palette = 'pastel' , ax= ax)\n",
    "#     # hue는 세부적으로 나눠 그릴 기준 피처, 여기서는 타깃값(target)을 전달했다.\n",
    "#     ax.set_title(f'{feature} 타이타닉호 생존자') # 그래프 제목 설정\n",
    "#     write_percent(ax, len(all_data_bin2))\n",
    "\n",
    "\n",
    "\n",
    "# binary_col은 2진 피처가 아니다. 명목형 피처라 해도 될거 같다."
   ],
   "metadata": {
    "collapsed": false,
    "pycharm": {
     "name": "#%%\n"
    }
   }
  },
  {
   "cell_type": "markdown",
   "source": [
    "## train_bin 에는 log 화밑 계급화 시킨 값들 모두 포함 시켰다.\n",
    "\n",
    "## train_bin2 로 train 데이터로 활용하면 좋을 수 도 있겠다.\n"
   ],
   "metadata": {
    "collapsed": false,
    "pycharm": {
     "name": "#%% md\n"
    }
   }
  },
  {
   "cell_type": "markdown",
   "source": [
    "---\n",
    "\n",
    "## 명목형 피처 전처리를 해보자"
   ],
   "metadata": {
    "collapsed": false,
    "pycharm": {
     "name": "#%% md\n"
    }
   }
  },
  {
   "cell_type": "code",
   "execution_count": 1647,
   "outputs": [
    {
     "data": {
      "text/plain": "             Name  Sex  Embarked\nPassengerId                     \n1               1    1         2\n2               2    0         0\n3               0    0         2\n4               2    0         2\n5               1    1         2\n...           ...  ...       ...\n1305            1    1         2\n1306            3    0         0\n1307            1    1         2\n1308            1    1         2\n1309            3    1         0\n\n[1309 rows x 3 columns]",
      "text/html": "<div>\n<style scoped>\n    .dataframe tbody tr th:only-of-type {\n        vertical-align: middle;\n    }\n\n    .dataframe tbody tr th {\n        vertical-align: top;\n    }\n\n    .dataframe thead th {\n        text-align: right;\n    }\n</style>\n<table border=\"1\" class=\"dataframe\">\n  <thead>\n    <tr style=\"text-align: right;\">\n      <th></th>\n      <th>Name</th>\n      <th>Sex</th>\n      <th>Embarked</th>\n    </tr>\n    <tr>\n      <th>PassengerId</th>\n      <th></th>\n      <th></th>\n      <th></th>\n    </tr>\n  </thead>\n  <tbody>\n    <tr>\n      <th>1</th>\n      <td>1</td>\n      <td>1</td>\n      <td>2</td>\n    </tr>\n    <tr>\n      <th>2</th>\n      <td>2</td>\n      <td>0</td>\n      <td>0</td>\n    </tr>\n    <tr>\n      <th>3</th>\n      <td>0</td>\n      <td>0</td>\n      <td>2</td>\n    </tr>\n    <tr>\n      <th>4</th>\n      <td>2</td>\n      <td>0</td>\n      <td>2</td>\n    </tr>\n    <tr>\n      <th>5</th>\n      <td>1</td>\n      <td>1</td>\n      <td>2</td>\n    </tr>\n    <tr>\n      <th>...</th>\n      <td>...</td>\n      <td>...</td>\n      <td>...</td>\n    </tr>\n    <tr>\n      <th>1305</th>\n      <td>1</td>\n      <td>1</td>\n      <td>2</td>\n    </tr>\n    <tr>\n      <th>1306</th>\n      <td>3</td>\n      <td>0</td>\n      <td>0</td>\n    </tr>\n    <tr>\n      <th>1307</th>\n      <td>1</td>\n      <td>1</td>\n      <td>2</td>\n    </tr>\n    <tr>\n      <th>1308</th>\n      <td>1</td>\n      <td>1</td>\n      <td>2</td>\n    </tr>\n    <tr>\n      <th>1309</th>\n      <td>3</td>\n      <td>1</td>\n      <td>0</td>\n    </tr>\n  </tbody>\n</table>\n<p>1309 rows × 3 columns</p>\n</div>"
     },
     "execution_count": 1647,
     "metadata": {},
     "output_type": "execute_result"
    }
   ],
   "source": [
    "all_data_obj"
   ],
   "metadata": {
    "collapsed": false,
    "pycharm": {
     "name": "#%%\n"
    }
   }
  },
  {
   "cell_type": "markdown",
   "source": [
    "## 내 생각엔 Name은 필요 없을 거 같고 , 'Sex'와 'Embarked' 만 필요할거 같다.\n",
    "\n",
    "==> MR. MRS. MISS . baby 등 필요할듯"
   ],
   "metadata": {
    "collapsed": false,
    "pycharm": {
     "name": "#%% md\n"
    }
   }
  },
  {
   "cell_type": "code",
   "execution_count": 1648,
   "outputs": [],
   "source": [
    "# all_data_obj = all_data_obj[['Sex' , 'Embarked']]\n",
    "# all_data_obj"
   ],
   "metadata": {
    "collapsed": false,
    "pycharm": {
     "name": "#%%\n"
    }
   }
  },
  {
   "cell_type": "code",
   "execution_count": 1649,
   "outputs": [
    {
     "data": {
      "text/plain": "             Name  Sex  Embarked Survival\nPassengerId                              \n1               1    1         2       사망\n2               2    0         0       생존\n3               0    0         2       생존\n4               2    0         2       생존\n5               1    1         2       사망\n...           ...  ...       ...      ...\n1305            1    1         2      NaN\n1306            3    0         0      NaN\n1307            1    1         2      NaN\n1308            1    1         2      NaN\n1309            3    1         0      NaN\n\n[1309 rows x 4 columns]",
      "text/html": "<div>\n<style scoped>\n    .dataframe tbody tr th:only-of-type {\n        vertical-align: middle;\n    }\n\n    .dataframe tbody tr th {\n        vertical-align: top;\n    }\n\n    .dataframe thead th {\n        text-align: right;\n    }\n</style>\n<table border=\"1\" class=\"dataframe\">\n  <thead>\n    <tr style=\"text-align: right;\">\n      <th></th>\n      <th>Name</th>\n      <th>Sex</th>\n      <th>Embarked</th>\n      <th>Survival</th>\n    </tr>\n    <tr>\n      <th>PassengerId</th>\n      <th></th>\n      <th></th>\n      <th></th>\n      <th></th>\n    </tr>\n  </thead>\n  <tbody>\n    <tr>\n      <th>1</th>\n      <td>1</td>\n      <td>1</td>\n      <td>2</td>\n      <td>사망</td>\n    </tr>\n    <tr>\n      <th>2</th>\n      <td>2</td>\n      <td>0</td>\n      <td>0</td>\n      <td>생존</td>\n    </tr>\n    <tr>\n      <th>3</th>\n      <td>0</td>\n      <td>0</td>\n      <td>2</td>\n      <td>생존</td>\n    </tr>\n    <tr>\n      <th>4</th>\n      <td>2</td>\n      <td>0</td>\n      <td>2</td>\n      <td>생존</td>\n    </tr>\n    <tr>\n      <th>5</th>\n      <td>1</td>\n      <td>1</td>\n      <td>2</td>\n      <td>사망</td>\n    </tr>\n    <tr>\n      <th>...</th>\n      <td>...</td>\n      <td>...</td>\n      <td>...</td>\n      <td>...</td>\n    </tr>\n    <tr>\n      <th>1305</th>\n      <td>1</td>\n      <td>1</td>\n      <td>2</td>\n      <td>NaN</td>\n    </tr>\n    <tr>\n      <th>1306</th>\n      <td>3</td>\n      <td>0</td>\n      <td>0</td>\n      <td>NaN</td>\n    </tr>\n    <tr>\n      <th>1307</th>\n      <td>1</td>\n      <td>1</td>\n      <td>2</td>\n      <td>NaN</td>\n    </tr>\n    <tr>\n      <th>1308</th>\n      <td>1</td>\n      <td>1</td>\n      <td>2</td>\n      <td>NaN</td>\n    </tr>\n    <tr>\n      <th>1309</th>\n      <td>3</td>\n      <td>1</td>\n      <td>0</td>\n      <td>NaN</td>\n    </tr>\n  </tbody>\n</table>\n<p>1309 rows × 4 columns</p>\n</div>"
     },
     "execution_count": 1649,
     "metadata": {},
     "output_type": "execute_result"
    }
   ],
   "source": [
    "all_data_obj2 =  pd.merge(all_data_obj, all_data_bin2['Survival'] , how='outer' , on=('PassengerId'))\n",
    "all_data_obj2"
   ],
   "metadata": {
    "collapsed": false,
    "pycharm": {
     "name": "#%%\n"
    }
   }
  },
  {
   "cell_type": "code",
   "execution_count": 1650,
   "outputs": [
    {
     "name": "stderr",
     "output_type": "stream",
     "text": [
      "posx and posy should be finite values\n",
      "posx and posy should be finite values\n",
      "posx and posy should be finite values\n",
      "posx and posy should be finite values\n"
     ]
    },
    {
     "data": {
      "text/plain": "<Figure size 1080x1152 with 4 Axes>",
      "image/png": "[encoded data removed]"
     },
     "metadata": {
      "needs_background": "light"
     },
     "output_type": "display_data"
    }
   ],
   "source": [
    "# 3행 2열\n",
    "mpl.rc('font' , size = 12)\n",
    "grid = gridspec.GridSpec(2,2) # 그래프(서브플롯)을 3행 2열로 배치\n",
    "plt.figure(figsize=(15,16)) # 전체 Figure 크기 설정\n",
    "plt.subplots_adjust(wspace= 0.4 , hspace= 0.3) # 서브플롯 간 좌우/상하 여백 설정\n",
    "\n",
    "# 서브플롯 그리기# 피처 목록\n",
    "\n",
    "for idx, feature in enumerate(all_data_obj2.columns.tolist()) :\n",
    "\n",
    "    ax = plt.subplot(grid[idx])\n",
    "\n",
    "    # ax 축에 타깃값 분포 카운트플롯 그리기\n",
    "    sns.countplot(x=feature , data =all_data_obj2 , hue = 'Survival' , palette = 'pastel' , ax= ax)\n",
    "    # hue는 세부적으로 나눠 그릴 기준 피처, 여기서는 타깃값(target)을 전달했다.\n",
    "    ax.set_title(f'{feature} 타이타닉호 생존자') # 그래프 제목 설정\n",
    "    write_percent(ax, len(all_data_obj2))\n"
   ],
   "metadata": {
    "collapsed": false,
    "pycharm": {
     "name": "#%%\n"
    }
   }
  },
  {
   "cell_type": "code",
   "execution_count": 1651,
   "outputs": [
    {
     "data": {
      "text/plain": "             Name  Sex  Embarked        Age  Pclass  SibSp  Parch      Fare  \\\nPassengerId                                                                   \n1               1    1         2  22.000000       3      1      0    7.2500   \n2               2    0         0  38.000000       1      1      0   71.2833   \n3               0    0         2  26.000000       3      0      0    7.9250   \n4               2    0         2  35.000000       1      1      0   53.1000   \n5               1    1         2  35.000000       3      0      0    8.0500   \n...           ...  ...       ...        ...     ...    ...    ...       ...   \n1305            1    1         2  27.330409       3      0      0    8.0500   \n1306            3    0         0  39.000000       1      0      0  108.9000   \n1307            1    1         2  38.500000       3      0      0    7.2500   \n1308            1    1         2  27.330409       3      0      0    8.0500   \n1309            3    1         0  24.725898       3      1      1   22.3583   \n\n            Fare_binned_범위  \nPassengerId                 \n1                  1.9~2.0  \n2                  4.2~4.3  \n3                  2.0~2.1  \n4                  3.9~4.0  \n5                  2.0~2.1  \n...                    ...  \n1305               2.0~2.1  \n1306               4.6~4.7  \n1307               1.9~2.0  \n1308               2.0~2.1  \n1309               3.0~3.1  \n\n[1309 rows x 9 columns]",
      "text/html": "<div>\n<style scoped>\n    .dataframe tbody tr th:only-of-type {\n        vertical-align: middle;\n    }\n\n    .dataframe tbody tr th {\n        vertical-align: top;\n    }\n\n    .dataframe thead th {\n        text-align: right;\n    }\n</style>\n<table border=\"1\" class=\"dataframe\">\n  <thead>\n    <tr style=\"text-align: right;\">\n      <th></th>\n      <th>Name</th>\n      <th>Sex</th>\n      <th>Embarked</th>\n      <th>Age</th>\n      <th>Pclass</th>\n      <th>SibSp</th>\n      <th>Parch</th>\n      <th>Fare</th>\n      <th>Fare_binned_범위</th>\n    </tr>\n    <tr>\n      <th>PassengerId</th>\n      <th></th>\n      <th></th>\n      <th></th>\n      <th></th>\n      <th></th>\n      <th></th>\n      <th></th>\n      <th></th>\n      <th></th>\n    </tr>\n  </thead>\n  <tbody>\n    <tr>\n      <th>1</th>\n      <td>1</td>\n      <td>1</td>\n      <td>2</td>\n      <td>22.000000</td>\n      <td>3</td>\n      <td>1</td>\n      <td>0</td>\n      <td>7.2500</td>\n      <td>1.9~2.0</td>\n    </tr>\n    <tr>\n      <th>2</th>\n      <td>2</td>\n      <td>0</td>\n      <td>0</td>\n      <td>38.000000</td>\n      <td>1</td>\n      <td>1</td>\n      <td>0</td>\n      <td>71.2833</td>\n      <td>4.2~4.3</td>\n    </tr>\n    <tr>\n      <th>3</th>\n      <td>0</td>\n      <td>0</td>\n      <td>2</td>\n      <td>26.000000</td>\n      <td>3</td>\n      <td>0</td>\n      <td>0</td>\n      <td>7.9250</td>\n      <td>2.0~2.1</td>\n    </tr>\n    <tr>\n      <th>4</th>\n      <td>2</td>\n      <td>0</td>\n      <td>2</td>\n      <td>35.000000</td>\n      <td>1</td>\n      <td>1</td>\n      <td>0</td>\n      <td>53.1000</td>\n      <td>3.9~4.0</td>\n    </tr>\n    <tr>\n      <th>5</th>\n      <td>1</td>\n      <td>1</td>\n      <td>2</td>\n      <td>35.000000</td>\n      <td>3</td>\n      <td>0</td>\n      <td>0</td>\n      <td>8.0500</td>\n      <td>2.0~2.1</td>\n    </tr>\n    <tr>\n      <th>...</th>\n      <td>...</td>\n      <td>...</td>\n      <td>...</td>\n      <td>...</td>\n      <td>...</td>\n      <td>...</td>\n      <td>...</td>\n      <td>...</td>\n      <td>...</td>\n    </tr>\n    <tr>\n      <th>1305</th>\n      <td>1</td>\n      <td>1</td>\n      <td>2</td>\n      <td>27.330409</td>\n      <td>3</td>\n      <td>0</td>\n      <td>0</td>\n      <td>8.0500</td>\n      <td>2.0~2.1</td>\n    </tr>\n    <tr>\n      <th>1306</th>\n      <td>3</td>\n      <td>0</td>\n      <td>0</td>\n      <td>39.000000</td>\n      <td>1</td>\n      <td>0</td>\n      <td>0</td>\n      <td>108.9000</td>\n      <td>4.6~4.7</td>\n    </tr>\n    <tr>\n      <th>1307</th>\n      <td>1</td>\n      <td>1</td>\n      <td>2</td>\n      <td>38.500000</td>\n      <td>3</td>\n      <td>0</td>\n      <td>0</td>\n      <td>7.2500</td>\n      <td>1.9~2.0</td>\n    </tr>\n    <tr>\n      <th>1308</th>\n      <td>1</td>\n      <td>1</td>\n      <td>2</td>\n      <td>27.330409</td>\n      <td>3</td>\n      <td>0</td>\n      <td>0</td>\n      <td>8.0500</td>\n      <td>2.0~2.1</td>\n    </tr>\n    <tr>\n      <th>1309</th>\n      <td>3</td>\n      <td>1</td>\n      <td>0</td>\n      <td>24.725898</td>\n      <td>3</td>\n      <td>1</td>\n      <td>1</td>\n      <td>22.3583</td>\n      <td>3.0~3.1</td>\n    </tr>\n  </tbody>\n</table>\n<p>1309 rows × 9 columns</p>\n</div>"
     },
     "execution_count": 1651,
     "metadata": {},
     "output_type": "execute_result"
    }
   ],
   "source": [
    "all_data2 = pd.merge(all_data_obj , all_data_bin2, how='outer' , on=('PassengerId'))\n",
    "\n",
    "all_data2 = all_data2[['Name','Sex' , 'Embarked' ,'Age', 'Pclass' ,'SibSp' , 'Parch' , 'Fare','Fare_binned_범위']]\n",
    "\n",
    "all_data2"
   ],
   "metadata": {
    "collapsed": false,
    "pycharm": {
     "name": "#%%\n"
    }
   }
  },
  {
   "cell_type": "markdown",
   "source": [
    "## 모델링_with 피처엔지니어링\n",
    "\n",
    "- 명목형 피처는 OneHotEncoding ==> Name , Sex , Embarked\n",
    "\n",
    "- Pclass 는 MinMaxScaler로"
   ],
   "metadata": {
    "collapsed": false,
    "pycharm": {
     "name": "#%% md\n"
    }
   }
  },
  {
   "cell_type": "code",
   "execution_count": 1667,
   "outputs": [
    {
     "data": {
      "text/plain": "<1309x9 sparse matrix of type '<class 'numpy.float64'>'\n\twith 3927 stored elements in Compressed Sparse Row format>"
     },
     "execution_count": 1667,
     "metadata": {},
     "output_type": "execute_result"
    }
   ],
   "source": [
    "from sklearn.preprocessing import OneHotEncoder\n",
    "\n",
    "onehot_encoder = OneHotEncoder() # 원-핫 인코더 생성\n",
    "nom_feature = ['Name' , 'Sex' , 'Embarked']\n",
    "encoded_nom_matrix = onehot_encoder.fit_transform(all_data2[nom_feature])\n",
    "\n",
    "encoded_nom_matrix"
   ],
   "metadata": {
    "collapsed": false,
    "pycharm": {
     "name": "#%%\n"
    }
   }
  },
  {
   "cell_type": "code",
   "execution_count": 1668,
   "outputs": [],
   "source": [
    "all_data2 = all_data2.drop(nom_feature , axis =1)"
   ],
   "metadata": {
    "collapsed": false,
    "pycharm": {
     "name": "#%%\n"
    }
   }
  },
  {
   "cell_type": "code",
   "execution_count": 1669,
   "outputs": [],
   "source": [
    "from sklearn.preprocessing import  MinMaxScaler\n",
    "\n",
    "ord_features = ['Age' , 'Pclass' , 'SibSp', 'Parch', 'Fare']\n",
    "all_data2[ord_features] = MinMaxScaler().fit_transform(all_data2[ord_features])"
   ],
   "metadata": {
    "collapsed": false,
    "pycharm": {
     "name": "#%%\n"
    }
   }
  },
  {
   "cell_type": "markdown",
   "source": [
    "# 인코딩 및 스케일링 된 피처 합치기"
   ],
   "metadata": {
    "collapsed": false,
    "pycharm": {
     "name": "#%% md\n"
    }
   }
  },
  {
   "cell_type": "code",
   "execution_count": 1670,
   "outputs": [
    {
     "data": {
      "text/plain": "<1309x14 sparse matrix of type '<class 'numpy.float64'>'\n\twith 8251 stored elements in Compressed Sparse Row format>"
     },
     "execution_count": 1670,
     "metadata": {},
     "output_type": "execute_result"
    }
   ],
   "source": [
    "from scipy import sparse\n",
    "\n",
    "all_data_sprs = sparse.hstack([sparse.csr_matrix(all_data2),\n",
    "                               encoded_nom_matrix,\n",
    "                               ],\n",
    "                              format='csr')\n",
    "\n",
    "all_data_sprs"
   ],
   "metadata": {
    "collapsed": false,
    "pycharm": {
     "name": "#%%\n"
    }
   }
  },
  {
   "cell_type": "code",
   "execution_count": 1671,
   "outputs": [
    {
     "data": {
      "text/plain": "                  Age  Pclass  SibSp     Parch      Fare\nPassengerId                                             \n1            0.327825     1.0  0.125  0.000000  0.008012\n2            0.513253     0.0  0.125  0.000000  0.133775\n3            0.374182     1.0  0.000  0.000000  0.009337\n4            0.478485     0.0  0.125  0.000000  0.098062\n5            0.478485     1.0  0.000  0.000000  0.009583\n...               ...     ...    ...       ...       ...\n1305         0.389601     1.0  0.000  0.000000  0.009583\n1306         0.524842     0.0  0.000  0.000000  0.207655\n1307         0.519047     1.0  0.000  0.000000  0.008012\n1308         0.389601     1.0  0.000  0.000000  0.009583\n1309         0.359416     1.0  0.125  0.111111  0.037685\n\n[1309 rows x 5 columns]",
      "text/html": "<div>\n<style scoped>\n    .dataframe tbody tr th:only-of-type {\n        vertical-align: middle;\n    }\n\n    .dataframe tbody tr th {\n        vertical-align: top;\n    }\n\n    .dataframe thead th {\n        text-align: right;\n    }\n</style>\n<table border=\"1\" class=\"dataframe\">\n  <thead>\n    <tr style=\"text-align: right;\">\n      <th></th>\n      <th>Age</th>\n      <th>Pclass</th>\n      <th>SibSp</th>\n      <th>Parch</th>\n      <th>Fare</th>\n    </tr>\n    <tr>\n      <th>PassengerId</th>\n      <th></th>\n      <th></th>\n      <th></th>\n      <th></th>\n      <th></th>\n    </tr>\n  </thead>\n  <tbody>\n    <tr>\n      <th>1</th>\n      <td>0.327825</td>\n      <td>1.0</td>\n      <td>0.125</td>\n      <td>0.000000</td>\n      <td>0.008012</td>\n    </tr>\n    <tr>\n      <th>2</th>\n      <td>0.513253</td>\n      <td>0.0</td>\n      <td>0.125</td>\n      <td>0.000000</td>\n      <td>0.133775</td>\n    </tr>\n    <tr>\n      <th>3</th>\n      <td>0.374182</td>\n      <td>1.0</td>\n      <td>0.000</td>\n      <td>0.000000</td>\n      <td>0.009337</td>\n    </tr>\n    <tr>\n      <th>4</th>\n      <td>0.478485</td>\n      <td>0.0</td>\n      <td>0.125</td>\n      <td>0.000000</td>\n      <td>0.098062</td>\n    </tr>\n    <tr>\n      <th>5</th>\n      <td>0.478485</td>\n      <td>1.0</td>\n      <td>0.000</td>\n      <td>0.000000</td>\n      <td>0.009583</td>\n    </tr>\n    <tr>\n      <th>...</th>\n      <td>...</td>\n      <td>...</td>\n      <td>...</td>\n      <td>...</td>\n      <td>...</td>\n    </tr>\n    <tr>\n      <th>1305</th>\n      <td>0.389601</td>\n      <td>1.0</td>\n      <td>0.000</td>\n      <td>0.000000</td>\n      <td>0.009583</td>\n    </tr>\n    <tr>\n      <th>1306</th>\n      <td>0.524842</td>\n      <td>0.0</td>\n      <td>0.000</td>\n      <td>0.000000</td>\n      <td>0.207655</td>\n    </tr>\n    <tr>\n      <th>1307</th>\n      <td>0.519047</td>\n      <td>1.0</td>\n      <td>0.000</td>\n      <td>0.000000</td>\n      <td>0.008012</td>\n    </tr>\n    <tr>\n      <th>1308</th>\n      <td>0.389601</td>\n      <td>1.0</td>\n      <td>0.000</td>\n      <td>0.000000</td>\n      <td>0.009583</td>\n    </tr>\n    <tr>\n      <th>1309</th>\n      <td>0.359416</td>\n      <td>1.0</td>\n      <td>0.125</td>\n      <td>0.111111</td>\n      <td>0.037685</td>\n    </tr>\n  </tbody>\n</table>\n<p>1309 rows × 5 columns</p>\n</div>"
     },
     "execution_count": 1671,
     "metadata": {},
     "output_type": "execute_result"
    }
   ],
   "source": [
    "# all_data2"
   ],
   "metadata": {
    "collapsed": false,
    "pycharm": {
     "name": "#%%\n"
    }
   }
  },
  {
   "cell_type": "code",
   "execution_count": 1653,
   "outputs": [
    {
     "data": {
      "text/plain": "             Name  Sex  Embarked        Age  Pclass  SibSp  Parch      Fare\nPassengerId                                                                \n1               1    1         2  22.000000       3      1      0  0.008012\n2               2    0         0  38.000000       1      1      0  0.133775\n3               0    0         2  26.000000       3      0      0  0.009337\n4               2    0         2  35.000000       1      1      0  0.098062\n5               1    1         2  35.000000       3      0      0  0.009583\n...           ...  ...       ...        ...     ...    ...    ...       ...\n1305            1    1         2  27.330409       3      0      0  0.009583\n1306            3    0         0  39.000000       1      0      0  0.207655\n1307            1    1         2  38.500000       3      0      0  0.008012\n1308            1    1         2  27.330409       3      0      0  0.009583\n1309            3    1         0  24.725898       3      1      1  0.037685\n\n[1309 rows x 8 columns]",
      "text/html": "<div>\n<style scoped>\n    .dataframe tbody tr th:only-of-type {\n        vertical-align: middle;\n    }\n\n    .dataframe tbody tr th {\n        vertical-align: top;\n    }\n\n    .dataframe thead th {\n        text-align: right;\n    }\n</style>\n<table border=\"1\" class=\"dataframe\">\n  <thead>\n    <tr style=\"text-align: right;\">\n      <th></th>\n      <th>Name</th>\n      <th>Sex</th>\n      <th>Embarked</th>\n      <th>Age</th>\n      <th>Pclass</th>\n      <th>SibSp</th>\n      <th>Parch</th>\n      <th>Fare</th>\n    </tr>\n    <tr>\n      <th>PassengerId</th>\n      <th></th>\n      <th></th>\n      <th></th>\n      <th></th>\n      <th></th>\n      <th></th>\n      <th></th>\n      <th></th>\n    </tr>\n  </thead>\n  <tbody>\n    <tr>\n      <th>1</th>\n      <td>1</td>\n      <td>1</td>\n      <td>2</td>\n      <td>22.000000</td>\n      <td>3</td>\n      <td>1</td>\n      <td>0</td>\n      <td>0.008012</td>\n    </tr>\n    <tr>\n      <th>2</th>\n      <td>2</td>\n      <td>0</td>\n      <td>0</td>\n      <td>38.000000</td>\n      <td>1</td>\n      <td>1</td>\n      <td>0</td>\n      <td>0.133775</td>\n    </tr>\n    <tr>\n      <th>3</th>\n      <td>0</td>\n      <td>0</td>\n      <td>2</td>\n      <td>26.000000</td>\n      <td>3</td>\n      <td>0</td>\n      <td>0</td>\n      <td>0.009337</td>\n    </tr>\n    <tr>\n      <th>4</th>\n      <td>2</td>\n      <td>0</td>\n      <td>2</td>\n      <td>35.000000</td>\n      <td>1</td>\n      <td>1</td>\n      <td>0</td>\n      <td>0.098062</td>\n    </tr>\n    <tr>\n      <th>5</th>\n      <td>1</td>\n      <td>1</td>\n      <td>2</td>\n      <td>35.000000</td>\n      <td>3</td>\n      <td>0</td>\n      <td>0</td>\n      <td>0.009583</td>\n    </tr>\n    <tr>\n      <th>...</th>\n      <td>...</td>\n      <td>...</td>\n      <td>...</td>\n      <td>...</td>\n      <td>...</td>\n      <td>...</td>\n      <td>...</td>\n      <td>...</td>\n    </tr>\n    <tr>\n      <th>1305</th>\n      <td>1</td>\n      <td>1</td>\n      <td>2</td>\n      <td>27.330409</td>\n      <td>3</td>\n      <td>0</td>\n      <td>0</td>\n      <td>0.009583</td>\n    </tr>\n    <tr>\n      <th>1306</th>\n      <td>3</td>\n      <td>0</td>\n      <td>0</td>\n      <td>39.000000</td>\n      <td>1</td>\n      <td>0</td>\n      <td>0</td>\n      <td>0.207655</td>\n    </tr>\n    <tr>\n      <th>1307</th>\n      <td>1</td>\n      <td>1</td>\n      <td>2</td>\n      <td>38.500000</td>\n      <td>3</td>\n      <td>0</td>\n      <td>0</td>\n      <td>0.008012</td>\n    </tr>\n    <tr>\n      <th>1308</th>\n      <td>1</td>\n      <td>1</td>\n      <td>2</td>\n      <td>27.330409</td>\n      <td>3</td>\n      <td>0</td>\n      <td>0</td>\n      <td>0.009583</td>\n    </tr>\n    <tr>\n      <th>1309</th>\n      <td>3</td>\n      <td>1</td>\n      <td>0</td>\n      <td>24.725898</td>\n      <td>3</td>\n      <td>1</td>\n      <td>1</td>\n      <td>0.037685</td>\n    </tr>\n  </tbody>\n</table>\n<p>1309 rows × 8 columns</p>\n</div>"
     },
     "execution_count": 1653,
     "metadata": {},
     "output_type": "execute_result"
    }
   ],
   "source": [
    "# features = all_data2.columns.tolist()\n",
    "# all_data2 = all_data2[features[:-1]]\n",
    "# all_data2"
   ],
   "metadata": {
    "collapsed": false,
    "pycharm": {
     "name": "#%%\n"
    }
   }
  },
  {
   "cell_type": "code",
   "execution_count": 1672,
   "outputs": [],
   "source": [
    "num_train = len(train) # 훈련 데이터 개수\n",
    "\n",
    "# 훈련 데이터와 테스트 데이터 나누기\n",
    "\n",
    "X_train = all_data_sprs[:num_train] # 0~num_train -1 행\n",
    "X_test = all_data_sprs[num_train:] # num_train ~ 마지막 행\n",
    "\n",
    "y = train['Survived']"
   ],
   "metadata": {
    "collapsed": false,
    "pycharm": {
     "name": "#%%\n"
    }
   }
  },
  {
   "cell_type": "code",
   "execution_count": 1673,
   "outputs": [],
   "source": [
    "from sklearn.model_selection import train_test_split\n",
    "\n",
    "# 훈련 데이터 , 검증 데이터 분리\n",
    "\n",
    "X_train , X_valid , y_train , y_valid = train_test_split(X_train , y , test_size=0.1 , stratify=y,random_state=10)\n",
    "\n",
    "# test_size 는 검증 데이터 크기를 지정하는 파라미터이다.\n",
    "# 값이 정수면 검증 데이터의 개수를 , 실수면 비율을 의미한다. 여기서는 0.1을 전달했으므로 10%를 검증 데이터로 분리하겠다는 의미이다.\n",
    "\n",
    "# stratify 파라미터를 지정하지 않으면 훈련 데이터와 검증 데이터에 타깃값이 불균형하게 분포 될 수 있다."
   ],
   "metadata": {
    "collapsed": false,
    "pycharm": {
     "name": "#%%\n"
    }
   }
  },
  {
   "cell_type": "markdown",
   "source": [
    "## 하이퍼파라미터 최적화"
   ],
   "metadata": {
    "collapsed": false,
    "pycharm": {
     "name": "#%% md\n"
    }
   }
  },
  {
   "cell_type": "code",
   "execution_count": 1674,
   "outputs": [
    {
     "name": "stdout",
     "output_type": "stream",
     "text": [
      "최적 하이퍼파라미터:  {'C': 0.2, 'max_iter': 800, 'random_state': 42, 'solver': 'liblinear'}\n",
      "Wall time: 188 ms\n"
     ]
    }
   ],
   "source": [
    "%%time\n",
    "\n",
    "from sklearn.model_selection import GridSearchCV\n",
    "from sklearn.linear_model import LogisticRegression\n",
    "\n",
    "# 로지스틱 회귀 모델 생성\n",
    "\n",
    "logistic_model = LogisticRegression()\n",
    "\n",
    "# 하이퍼파라미터 값 목록\n",
    "\n",
    "lr_params = {'C': [0.1,0.125,0.2] , 'max_iter' : [800,900,1000],\n",
    "             'solver' : ['liblinear'] , 'random_state' : [42]}\n",
    "\n",
    "\n",
    "# 그리드서치 객체 생성\n",
    "\n",
    "gridsearch_logistic_model = GridSearchCV(estimator= logistic_model ,\n",
    "                                         param_grid= lr_params,\n",
    "                                         scoring = 'roc_auc' , # 평가지표\n",
    "                                         cv = 5)\n",
    "\n",
    "# 그리드서치 수행\n",
    "\n",
    "gridsearch_logistic_model.fit(X_train,y_train)\n",
    "print('최적 하이퍼파라미터: ' , gridsearch_logistic_model.best_params_)"
   ],
   "metadata": {
    "collapsed": false,
    "pycharm": {
     "name": "#%%\n"
    }
   }
  },
  {
   "cell_type": "code",
   "execution_count": 1675,
   "outputs": [],
   "source": [
    "y_valid_preds = gridsearch_logistic_model.predict_proba(X_valid)[:,1]"
   ],
   "metadata": {
    "collapsed": false,
    "pycharm": {
     "name": "#%%\n"
    }
   }
  },
  {
   "cell_type": "code",
   "execution_count": 1676,
   "outputs": [
    {
     "name": "stdout",
     "output_type": "stream",
     "text": [
      "검증 데이터 ROC AUC :0.8784\n"
     ]
    }
   ],
   "source": [
    "from sklearn.metrics import roc_auc_score # Roc AUC 점수 계산 함수\n",
    "\n",
    "# 검증 데이터 ROC AUC\n",
    "\n",
    "roc_auc = roc_auc_score(y_valid , y_valid_preds)\n",
    "\n",
    "print(f'검증 데이터 ROC AUC :{roc_auc:.4f}')"
   ],
   "metadata": {
    "collapsed": false,
    "pycharm": {
     "name": "#%%\n"
    }
   }
  },
  {
   "cell_type": "code",
   "execution_count": 1677,
   "outputs": [
    {
     "data": {
      "text/plain": "array([0, 1, 0, 0, 1, 0, 1, 0, 1, 0, 0, 0, 1, 0, 1, 1, 0, 0, 1, 1, 0, 0,\n       1, 0, 1, 0, 1, 0, 0, 0, 0, 0, 1, 1, 0, 0, 1, 1, 0, 0, 0, 0, 0, 1,\n       1, 0, 0, 0, 1, 1, 0, 0, 1, 1, 0, 0, 0, 0, 0, 1, 0, 0, 0, 1, 1, 1,\n       1, 0, 0, 1, 1, 0, 1, 1, 1, 0, 0, 1, 0, 1, 0, 0, 0, 0, 0, 0, 1, 1,\n       1, 0, 1, 0, 1, 0, 0, 0, 1, 0, 1, 0, 1, 0, 0, 0, 1, 0, 0, 0, 0, 0,\n       0, 1, 1, 1, 1, 0, 0, 1, 0, 1, 1, 0, 1, 0, 0, 1, 0, 1, 0, 0, 0, 1,\n       1, 0, 0, 0, 0, 0, 1, 0, 0, 1, 0, 0, 0, 0, 0, 0, 0, 0, 1, 0, 0, 1,\n       0, 0, 1, 1, 0, 1, 1, 0, 1, 0, 0, 1, 0, 0, 1, 1, 0, 0, 0, 0, 0, 1,\n       1, 0, 1, 1, 0, 0, 1, 0, 1, 0, 1, 0, 0, 0, 0, 0, 0, 0, 0, 0, 1, 1,\n       0, 1, 1, 0, 1, 1, 0, 0, 1, 0, 1, 0, 0, 0, 0, 1, 0, 0, 1, 0, 1, 0,\n       1, 0, 1, 0, 1, 1, 0, 1, 0, 0, 0, 1, 0, 0, 0, 0, 0, 0, 1, 1, 1, 1,\n       0, 0, 0, 0, 1, 0, 1, 1, 1, 0, 0, 0, 0, 0, 0, 0, 1, 0, 0, 0, 1, 1,\n       0, 0, 0, 0, 1, 0, 0, 0, 1, 1, 0, 1, 0, 0, 0, 0, 1, 0, 1, 1, 1, 0,\n       0, 0, 0, 0, 0, 1, 0, 1, 0, 0, 1, 0, 0, 0, 0, 0, 0, 0, 1, 1, 0, 0,\n       0, 1, 0, 0, 0, 1, 1, 1, 0, 0, 0, 0, 0, 0, 0, 0, 1, 0, 1, 0, 0, 0,\n       1, 0, 0, 1, 0, 0, 0, 0, 0, 0, 0, 0, 0, 1, 0, 1, 0, 1, 0, 1, 1, 0,\n       0, 0, 1, 0, 1, 0, 0, 1, 0, 1, 1, 0, 1, 1, 0, 1, 1, 1, 0, 1, 0, 0,\n       1, 1, 1, 0, 0, 0, 0, 0, 1, 1, 0, 1, 0, 0, 0, 0, 0, 1, 0, 0, 0, 1,\n       0, 1, 0, 0, 1, 0, 1, 0, 0, 0, 0, 0, 1, 1, 1, 1, 1, 0, 1, 0, 0, 0],\n      dtype=int64)"
     },
     "execution_count": 1677,
     "metadata": {},
     "output_type": "execute_result"
    }
   ],
   "source": [
    "# 검증 데이터를 활용한 타깃 예측\n",
    "\n",
    "y_preds = gridsearch_logistic_model.predict_proba(X_test)[:, 1]\n",
    "y_preds = gridsearch_logistic_model.predict(X_test)\n",
    "y_preds"
   ],
   "metadata": {
    "collapsed": false,
    "pycharm": {
     "name": "#%%\n"
    }
   }
  },
  {
   "cell_type": "code",
   "execution_count": 1677,
   "outputs": [],
   "source": [],
   "metadata": {
    "collapsed": false,
    "pycharm": {
     "name": "#%%\n"
    }
   }
  },
  {
   "cell_type": "code",
   "execution_count": 1678,
   "outputs": [],
   "source": [
    "# from sklearn.linear_model import LogisticRegression\n",
    "#\n",
    "# logistic_model = LogisticRegression(max_iter = 1000 , random_state=42)\n",
    "# logistic_model.fit(X_train,y_train) # 모델 훈련"
   ],
   "metadata": {
    "collapsed": false,
    "pycharm": {
     "name": "#%%\n"
    }
   }
  },
  {
   "cell_type": "code",
   "execution_count": 1679,
   "outputs": [],
   "source": [
    "# logistic_model.predict(X_valid)"
   ],
   "metadata": {
    "collapsed": false,
    "pycharm": {
     "name": "#%%\n"
    }
   }
  },
  {
   "cell_type": "code",
   "execution_count": 1680,
   "outputs": [],
   "source": [
    "# # 검증 데이터를 활용한 타깃 예측\n",
    "#\n",
    "# y_valid_preds = logistic_model.predict_proba(X_valid)[:, 1]\n",
    "# # from sklearn.metrics import roc_auc_score  # ROC AUC 점수 계산 함수\n",
    "# #\n",
    "# # # 검증 데이터 ROC AUC\n",
    "# #\n",
    "# # roc_auc = roc_auc_score(y_valid, y_valid_preds)\n",
    "# #\n",
    "# # print(f'검증 데이터 ROC AUC : {roc_auc:.4f}')\n",
    "# # 타깃값 1일 확룰 예측\n",
    "#\n",
    "# y_preds = logistic_model.predict(X_test)\n",
    "# y_preds"
   ],
   "metadata": {
    "collapsed": false,
    "pycharm": {
     "name": "#%%\n"
    }
   }
  },
  {
   "cell_type": "code",
   "execution_count": 1681,
   "outputs": [
    {
     "name": "stdout",
     "output_type": "stream",
     "text": [
      "현재 날짜 및 시각 :  [4, 29, 21, 49]\n"
     ]
    }
   ],
   "source": [
    "import datetime\n",
    "\n",
    "# 현재 날짜와 시각 구하기\n",
    "now = datetime.datetime.now()\n",
    "date_list = [now.month, now.day, now.hour, now.minute]\n",
    "# 현재 날짜와 시각 출력하기\n",
    "print(\"현재 날짜 및 시각 : \",date_list)\n",
    "\n"
   ],
   "metadata": {
    "collapsed": false,
    "pycharm": {
     "name": "#%%\n"
    }
   }
  },
  {
   "cell_type": "code",
   "execution_count": 1682,
   "outputs": [],
   "source": [
    "# 제출 파일 생성\n",
    "\n",
    "submission['Survived'] = y_preds\n",
    "submission.to_csv(f'submission_{date_list[0]}_{date_list[1]}_{date_list[2]}_{date_list[3]}.csv')"
   ],
   "metadata": {
    "collapsed": false,
    "pycharm": {
     "name": "#%%\n"
    }
   }
  },
  {
   "cell_type": "code",
   "execution_count": 1664,
   "outputs": [],
   "source": [],
   "metadata": {
    "collapsed": false,
    "pycharm": {
     "name": "#%%\n"
    }
   }
  },
  {
   "cell_type": "code",
   "execution_count": 1664,
   "outputs": [],
   "source": [],
   "metadata": {
    "collapsed": false,
    "pycharm": {
     "name": "#%%\n"
    }
   }
  }
 ],
 "metadata": {
  "kernelspec": {
   "display_name": "Python 3",
   "language": "python",
   "name": "python3"
  },
  "language_info": {
   "codemirror_mode": {
    "name": "ipython",
    "version": 2
   },
   "file_extension": ".py",
   "mimetype": "text/x-python",
   "name": "python",
   "nbconvert_exporter": "python",
   "pygments_lexer": "ipython2",
   "version": "2.7.6"
  }
 },
 "nbformat": 4,
 "nbformat_minor": 0
}