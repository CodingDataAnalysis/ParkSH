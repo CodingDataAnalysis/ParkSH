{
 "cells": [
  {
   "cell_type": "code",
   "execution_count": 96,
   "outputs": [],
   "source": [
    "import itertools\n",
    "import platform\n",
    "import matplotlib\n",
    "import pandas as pd\n",
    "import matplotlib.pyplot as plt\n",
    "from matplotlib import font_manager, rc\n",
    "import seaborn as sns\n",
    "%precision 3\n",
    "from matplotlib import pyplot as plt\n",
    "%matplotlib inline\n",
    "#그래프를 주피터 놋북에 그리기 위해\n",
    "import numpy as np\n",
    "import copy\n",
    "from matplotlib import ticker\n",
    "from scipy.stats import probplot\n",
    "from scipy import stats\n",
    "import collections\n",
    "import itertools\n",
    "import math\n",
    "#from varname import nameof\n",
    "import sys\n",
    "from scipy import stats\n",
    "from scipy.stats import bernoulli\n",
    "import scipy\n",
    "from collections import deque\n",
    "from sympy import Symbol, solve\n",
    "\n",
    "#히스토그램 그리기\n",
    "# Window\n",
    "if platform.system() == 'Windows':\n",
    "    matplotlib.rc('font', family='Malgun Gothic')\n",
    "elif platform.system() == 'Darwin': # Mac\n",
    "    matplotlib.rc('font', family='AppleGothic')\n",
    "else: #linux\n",
    "    matplotlib.rc('font', family='NanumGothic')\n",
    "\n",
    "# 그래프에 마이너스 표시가 되도록 변경\n",
    "matplotlib.rcParams['axes.unicode_minus'] = False\n",
    "\n",
    "# 한글 폰트 설정\n",
    "font_location = 'C:/Windows/Fonts/MALGUNSL.TTF' #맑은고딕\n",
    "font_name = font_manager.FontProperties(fname=font_location).get_name()\n",
    "rc('font',family=font_name)"
   ],
   "metadata": {
    "collapsed": false,
    "pycharm": {
     "name": "#%%\n"
    }
   }
  },
  {
   "cell_type": "code",
   "execution_count": 97,
   "outputs": [],
   "source": [
    "import pandas as pd\n",
    "\n",
    "data_path = '../titanic/'\n",
    "\n",
    "train = pd.read_csv(data_path + 'train.csv' , index_col = 'PassengerId')\n",
    "test = pd.read_csv(data_path + 'test.csv' , index_col = 'PassengerId')\n",
    "submission = pd.read_csv(data_path + 'gender_submission.csv' , index_col= 'PassengerId')"
   ],
   "metadata": {
    "collapsed": false,
    "pycharm": {
     "name": "#%%\n"
    }
   }
  },
  {
   "cell_type": "code",
   "execution_count": 98,
   "outputs": [
    {
     "data": {
      "text/plain": "             Survived\nPassengerId          \n892                 0\n893                 1\n894                 0\n895                 0\n896                 1\n...               ...\n1305                0\n1306                1\n1307                0\n1308                0\n1309                0\n\n[418 rows x 1 columns]",
      "text/html": "<div>\n<style scoped>\n    .dataframe tbody tr th:only-of-type {\n        vertical-align: middle;\n    }\n\n    .dataframe tbody tr th {\n        vertical-align: top;\n    }\n\n    .dataframe thead th {\n        text-align: right;\n    }\n</style>\n<table border=\"1\" class=\"dataframe\">\n  <thead>\n    <tr style=\"text-align: right;\">\n      <th></th>\n      <th>Survived</th>\n    </tr>\n    <tr>\n      <th>PassengerId</th>\n      <th></th>\n    </tr>\n  </thead>\n  <tbody>\n    <tr>\n      <th>892</th>\n      <td>0</td>\n    </tr>\n    <tr>\n      <th>893</th>\n      <td>1</td>\n    </tr>\n    <tr>\n      <th>894</th>\n      <td>0</td>\n    </tr>\n    <tr>\n      <th>895</th>\n      <td>0</td>\n    </tr>\n    <tr>\n      <th>896</th>\n      <td>1</td>\n    </tr>\n    <tr>\n      <th>...</th>\n      <td>...</td>\n    </tr>\n    <tr>\n      <th>1305</th>\n      <td>0</td>\n    </tr>\n    <tr>\n      <th>1306</th>\n      <td>1</td>\n    </tr>\n    <tr>\n      <th>1307</th>\n      <td>0</td>\n    </tr>\n    <tr>\n      <th>1308</th>\n      <td>0</td>\n    </tr>\n    <tr>\n      <th>1309</th>\n      <td>0</td>\n    </tr>\n  </tbody>\n</table>\n<p>418 rows × 1 columns</p>\n</div>"
     },
     "execution_count": 98,
     "metadata": {},
     "output_type": "execute_result"
    }
   ],
   "source": [
    "submission"
   ],
   "metadata": {
    "collapsed": false,
    "pycharm": {
     "name": "#%%\n"
    }
   }
  },
  {
   "cell_type": "code",
   "execution_count": 99,
   "outputs": [
    {
     "data": {
      "text/plain": "             Pclass                                               Name  \\\nPassengerId                                                              \n1                 3                            Braund, Mr. Owen Harris   \n2                 1  Cumings, Mrs. John Bradley (Florence Briggs Th...   \n3                 3                             Heikkinen, Miss. Laina   \n4                 1       Futrelle, Mrs. Jacques Heath (Lily May Peel)   \n5                 3                           Allen, Mr. William Henry   \n...             ...                                                ...   \n1305              3                                 Spector, Mr. Woolf   \n1306              1                       Oliva y Ocana, Dona. Fermina   \n1307              3                       Saether, Mr. Simon Sivertsen   \n1308              3                                Ware, Mr. Frederick   \n1309              3                           Peter, Master. Michael J   \n\n                Sex   Age  SibSp  Parch              Ticket      Fare Cabin  \\\nPassengerId                                                                   \n1              male  22.0      1      0           A/5 21171    7.2500   NaN   \n2            female  38.0      1      0            PC 17599   71.2833   C85   \n3            female  26.0      0      0    STON/O2. 3101282    7.9250   NaN   \n4            female  35.0      1      0              113803   53.1000  C123   \n5              male  35.0      0      0              373450    8.0500   NaN   \n...             ...   ...    ...    ...                 ...       ...   ...   \n1305           male   NaN      0      0           A.5. 3236    8.0500   NaN   \n1306         female  39.0      0      0            PC 17758  108.9000  C105   \n1307           male  38.5      0      0  SOTON/O.Q. 3101262    7.2500   NaN   \n1308           male   NaN      0      0              359309    8.0500   NaN   \n1309           male   NaN      1      1                2668   22.3583   NaN   \n\n            Embarked  \nPassengerId           \n1                  S  \n2                  C  \n3                  S  \n4                  S  \n5                  S  \n...              ...  \n1305               S  \n1306               C  \n1307               S  \n1308               S  \n1309               C  \n\n[1309 rows x 10 columns]",
      "text/html": "<div>\n<style scoped>\n    .dataframe tbody tr th:only-of-type {\n        vertical-align: middle;\n    }\n\n    .dataframe tbody tr th {\n        vertical-align: top;\n    }\n\n    .dataframe thead th {\n        text-align: right;\n    }\n</style>\n<table border=\"1\" class=\"dataframe\">\n  <thead>\n    <tr style=\"text-align: right;\">\n      <th></th>\n      <th>Pclass</th>\n      <th>Name</th>\n      <th>Sex</th>\n      <th>Age</th>\n      <th>SibSp</th>\n      <th>Parch</th>\n      <th>Ticket</th>\n      <th>Fare</th>\n      <th>Cabin</th>\n      <th>Embarked</th>\n    </tr>\n    <tr>\n      <th>PassengerId</th>\n      <th></th>\n      <th></th>\n      <th></th>\n      <th></th>\n      <th></th>\n      <th></th>\n      <th></th>\n      <th></th>\n      <th></th>\n      <th></th>\n    </tr>\n  </thead>\n  <tbody>\n    <tr>\n      <th>1</th>\n      <td>3</td>\n      <td>Braund, Mr. Owen Harris</td>\n      <td>male</td>\n      <td>22.0</td>\n      <td>1</td>\n      <td>0</td>\n      <td>A/5 21171</td>\n      <td>7.2500</td>\n      <td>NaN</td>\n      <td>S</td>\n    </tr>\n    <tr>\n      <th>2</th>\n      <td>1</td>\n      <td>Cumings, Mrs. John Bradley (Florence Briggs Th...</td>\n      <td>female</td>\n      <td>38.0</td>\n      <td>1</td>\n      <td>0</td>\n      <td>PC 17599</td>\n      <td>71.2833</td>\n      <td>C85</td>\n      <td>C</td>\n    </tr>\n    <tr>\n      <th>3</th>\n      <td>3</td>\n      <td>Heikkinen, Miss. Laina</td>\n      <td>female</td>\n      <td>26.0</td>\n      <td>0</td>\n      <td>0</td>\n      <td>STON/O2. 3101282</td>\n      <td>7.9250</td>\n      <td>NaN</td>\n      <td>S</td>\n    </tr>\n    <tr>\n      <th>4</th>\n      <td>1</td>\n      <td>Futrelle, Mrs. Jacques Heath (Lily May Peel)</td>\n      <td>female</td>\n      <td>35.0</td>\n      <td>1</td>\n      <td>0</td>\n      <td>113803</td>\n      <td>53.1000</td>\n      <td>C123</td>\n      <td>S</td>\n    </tr>\n    <tr>\n      <th>5</th>\n      <td>3</td>\n      <td>Allen, Mr. William Henry</td>\n      <td>male</td>\n      <td>35.0</td>\n      <td>0</td>\n      <td>0</td>\n      <td>373450</td>\n      <td>8.0500</td>\n      <td>NaN</td>\n      <td>S</td>\n    </tr>\n    <tr>\n      <th>...</th>\n      <td>...</td>\n      <td>...</td>\n      <td>...</td>\n      <td>...</td>\n      <td>...</td>\n      <td>...</td>\n      <td>...</td>\n      <td>...</td>\n      <td>...</td>\n      <td>...</td>\n    </tr>\n    <tr>\n      <th>1305</th>\n      <td>3</td>\n      <td>Spector, Mr. Woolf</td>\n      <td>male</td>\n      <td>NaN</td>\n      <td>0</td>\n      <td>0</td>\n      <td>A.5. 3236</td>\n      <td>8.0500</td>\n      <td>NaN</td>\n      <td>S</td>\n    </tr>\n    <tr>\n      <th>1306</th>\n      <td>1</td>\n      <td>Oliva y Ocana, Dona. Fermina</td>\n      <td>female</td>\n      <td>39.0</td>\n      <td>0</td>\n      <td>0</td>\n      <td>PC 17758</td>\n      <td>108.9000</td>\n      <td>C105</td>\n      <td>C</td>\n    </tr>\n    <tr>\n      <th>1307</th>\n      <td>3</td>\n      <td>Saether, Mr. Simon Sivertsen</td>\n      <td>male</td>\n      <td>38.5</td>\n      <td>0</td>\n      <td>0</td>\n      <td>SOTON/O.Q. 3101262</td>\n      <td>7.2500</td>\n      <td>NaN</td>\n      <td>S</td>\n    </tr>\n    <tr>\n      <th>1308</th>\n      <td>3</td>\n      <td>Ware, Mr. Frederick</td>\n      <td>male</td>\n      <td>NaN</td>\n      <td>0</td>\n      <td>0</td>\n      <td>359309</td>\n      <td>8.0500</td>\n      <td>NaN</td>\n      <td>S</td>\n    </tr>\n    <tr>\n      <th>1309</th>\n      <td>3</td>\n      <td>Peter, Master. Michael J</td>\n      <td>male</td>\n      <td>NaN</td>\n      <td>1</td>\n      <td>1</td>\n      <td>2668</td>\n      <td>22.3583</td>\n      <td>NaN</td>\n      <td>C</td>\n    </tr>\n  </tbody>\n</table>\n<p>1309 rows × 10 columns</p>\n</div>"
     },
     "execution_count": 99,
     "metadata": {},
     "output_type": "execute_result"
    }
   ],
   "source": [
    "all_data = pd.concat([train,test]) # 훈련 데이터와 테스트 데이터 합치기\n",
    "all_data = all_data.drop('Survived' , axis = 1) # 타깃값 제거\n",
    "all_data"
   ],
   "metadata": {
    "collapsed": false,
    "pycharm": {
     "name": "#%%\n"
    }
   }
  },
  {
   "cell_type": "code",
   "execution_count": 100,
   "outputs": [],
   "source": [
    "binary_col = []\n",
    "object_col = []\n",
    "\n",
    "for i in all_data.columns.tolist():\n",
    "    if all_data[i].dtype in ['int64' , 'float64']:\n",
    "        binary_col.append(i)\n",
    "    else:\n",
    "        object_col.append(i)"
   ],
   "metadata": {
    "collapsed": false,
    "pycharm": {
     "name": "#%%\n"
    }
   }
  },
  {
   "cell_type": "code",
   "execution_count": 101,
   "outputs": [
    {
     "data": {
      "text/plain": "             Pclass   Age  SibSp  Parch      Fare\nPassengerId                                      \n1                 3  22.0      1      0    7.2500\n2                 1  38.0      1      0   71.2833\n3                 3  26.0      0      0    7.9250\n4                 1  35.0      1      0   53.1000\n5                 3  35.0      0      0    8.0500\n...             ...   ...    ...    ...       ...\n1305              3   NaN      0      0    8.0500\n1306              1  39.0      0      0  108.9000\n1307              3  38.5      0      0    7.2500\n1308              3   NaN      0      0    8.0500\n1309              3   NaN      1      1   22.3583\n\n[1309 rows x 5 columns]",
      "text/html": "<div>\n<style scoped>\n    .dataframe tbody tr th:only-of-type {\n        vertical-align: middle;\n    }\n\n    .dataframe tbody tr th {\n        vertical-align: top;\n    }\n\n    .dataframe thead th {\n        text-align: right;\n    }\n</style>\n<table border=\"1\" class=\"dataframe\">\n  <thead>\n    <tr style=\"text-align: right;\">\n      <th></th>\n      <th>Pclass</th>\n      <th>Age</th>\n      <th>SibSp</th>\n      <th>Parch</th>\n      <th>Fare</th>\n    </tr>\n    <tr>\n      <th>PassengerId</th>\n      <th></th>\n      <th></th>\n      <th></th>\n      <th></th>\n      <th></th>\n    </tr>\n  </thead>\n  <tbody>\n    <tr>\n      <th>1</th>\n      <td>3</td>\n      <td>22.0</td>\n      <td>1</td>\n      <td>0</td>\n      <td>7.2500</td>\n    </tr>\n    <tr>\n      <th>2</th>\n      <td>1</td>\n      <td>38.0</td>\n      <td>1</td>\n      <td>0</td>\n      <td>71.2833</td>\n    </tr>\n    <tr>\n      <th>3</th>\n      <td>3</td>\n      <td>26.0</td>\n      <td>0</td>\n      <td>0</td>\n      <td>7.9250</td>\n    </tr>\n    <tr>\n      <th>4</th>\n      <td>1</td>\n      <td>35.0</td>\n      <td>1</td>\n      <td>0</td>\n      <td>53.1000</td>\n    </tr>\n    <tr>\n      <th>5</th>\n      <td>3</td>\n      <td>35.0</td>\n      <td>0</td>\n      <td>0</td>\n      <td>8.0500</td>\n    </tr>\n    <tr>\n      <th>...</th>\n      <td>...</td>\n      <td>...</td>\n      <td>...</td>\n      <td>...</td>\n      <td>...</td>\n    </tr>\n    <tr>\n      <th>1305</th>\n      <td>3</td>\n      <td>NaN</td>\n      <td>0</td>\n      <td>0</td>\n      <td>8.0500</td>\n    </tr>\n    <tr>\n      <th>1306</th>\n      <td>1</td>\n      <td>39.0</td>\n      <td>0</td>\n      <td>0</td>\n      <td>108.9000</td>\n    </tr>\n    <tr>\n      <th>1307</th>\n      <td>3</td>\n      <td>38.5</td>\n      <td>0</td>\n      <td>0</td>\n      <td>7.2500</td>\n    </tr>\n    <tr>\n      <th>1308</th>\n      <td>3</td>\n      <td>NaN</td>\n      <td>0</td>\n      <td>0</td>\n      <td>8.0500</td>\n    </tr>\n    <tr>\n      <th>1309</th>\n      <td>3</td>\n      <td>NaN</td>\n      <td>1</td>\n      <td>1</td>\n      <td>22.3583</td>\n    </tr>\n  </tbody>\n</table>\n<p>1309 rows × 5 columns</p>\n</div>"
     },
     "execution_count": 101,
     "metadata": {},
     "output_type": "execute_result"
    }
   ],
   "source": [
    "all_data[binary_col]"
   ],
   "metadata": {
    "collapsed": false,
    "pycharm": {
     "name": "#%%\n"
    }
   }
  },
  {
   "cell_type": "code",
   "execution_count": 102,
   "outputs": [
    {
     "name": "stdout",
     "output_type": "stream",
     "text": [
      "<class 'pandas.core.frame.DataFrame'>\n",
      "Int64Index: 1309 entries, 1 to 1309\n",
      "Data columns (total 5 columns):\n",
      " #   Column  Non-Null Count  Dtype  \n",
      "---  ------  --------------  -----  \n",
      " 0   Pclass  1309 non-null   int64  \n",
      " 1   Age     1046 non-null   float64\n",
      " 2   SibSp   1309 non-null   int64  \n",
      " 3   Parch   1309 non-null   int64  \n",
      " 4   Fare    1308 non-null   float64\n",
      "dtypes: float64(2), int64(3)\n",
      "memory usage: 61.4 KB\n"
     ]
    }
   ],
   "source": [
    "all_data[binary_col].info()"
   ],
   "metadata": {
    "collapsed": false,
    "pycharm": {
     "name": "#%%\n"
    }
   }
  },
  {
   "cell_type": "code",
   "execution_count": 103,
   "outputs": [
    {
     "data": {
      "text/plain": "             Pclass                                               Name  \\\nPassengerId                                                              \n1                 3                            Braund, Mr. Owen Harris   \n2                 1  Cumings, Mrs. John Bradley (Florence Briggs Th...   \n3                 3                             Heikkinen, Miss. Laina   \n4                 1       Futrelle, Mrs. Jacques Heath (Lily May Peel)   \n5                 3                           Allen, Mr. William Henry   \n...             ...                                                ...   \n1305              3                                 Spector, Mr. Woolf   \n1306              1                       Oliva y Ocana, Dona. Fermina   \n1307              3                       Saether, Mr. Simon Sivertsen   \n1308              3                                Ware, Mr. Frederick   \n1309              3                           Peter, Master. Michael J   \n\n                Sex   Age  SibSp  Parch              Ticket      Fare Cabin  \\\nPassengerId                                                                   \n1              male  22.0      1      0           A/5 21171    7.2500   NaN   \n2            female  38.0      1      0            PC 17599   71.2833   C85   \n3            female  26.0      0      0    STON/O2. 3101282    7.9250   NaN   \n4            female  35.0      1      0              113803   53.1000  C123   \n5              male  35.0      0      0              373450    8.0500   NaN   \n...             ...   ...    ...    ...                 ...       ...   ...   \n1305           male   NaN      0      0           A.5. 3236    8.0500   NaN   \n1306         female  39.0      0      0            PC 17758  108.9000  C105   \n1307           male  38.5      0      0  SOTON/O.Q. 3101262    7.2500   NaN   \n1308           male   NaN      0      0              359309    8.0500   NaN   \n1309           male   NaN      1      1                2668   22.3583   NaN   \n\n            Embarked  \nPassengerId           \n1                  S  \n2                  C  \n3                  S  \n4                  S  \n5                  S  \n...              ...  \n1305               S  \n1306               C  \n1307               S  \n1308               S  \n1309               C  \n\n[1309 rows x 10 columns]",
      "text/html": "<div>\n<style scoped>\n    .dataframe tbody tr th:only-of-type {\n        vertical-align: middle;\n    }\n\n    .dataframe tbody tr th {\n        vertical-align: top;\n    }\n\n    .dataframe thead th {\n        text-align: right;\n    }\n</style>\n<table border=\"1\" class=\"dataframe\">\n  <thead>\n    <tr style=\"text-align: right;\">\n      <th></th>\n      <th>Pclass</th>\n      <th>Name</th>\n      <th>Sex</th>\n      <th>Age</th>\n      <th>SibSp</th>\n      <th>Parch</th>\n      <th>Ticket</th>\n      <th>Fare</th>\n      <th>Cabin</th>\n      <th>Embarked</th>\n    </tr>\n    <tr>\n      <th>PassengerId</th>\n      <th></th>\n      <th></th>\n      <th></th>\n      <th></th>\n      <th></th>\n      <th></th>\n      <th></th>\n      <th></th>\n      <th></th>\n      <th></th>\n    </tr>\n  </thead>\n  <tbody>\n    <tr>\n      <th>1</th>\n      <td>3</td>\n      <td>Braund, Mr. Owen Harris</td>\n      <td>male</td>\n      <td>22.0</td>\n      <td>1</td>\n      <td>0</td>\n      <td>A/5 21171</td>\n      <td>7.2500</td>\n      <td>NaN</td>\n      <td>S</td>\n    </tr>\n    <tr>\n      <th>2</th>\n      <td>1</td>\n      <td>Cumings, Mrs. John Bradley (Florence Briggs Th...</td>\n      <td>female</td>\n      <td>38.0</td>\n      <td>1</td>\n      <td>0</td>\n      <td>PC 17599</td>\n      <td>71.2833</td>\n      <td>C85</td>\n      <td>C</td>\n    </tr>\n    <tr>\n      <th>3</th>\n      <td>3</td>\n      <td>Heikkinen, Miss. Laina</td>\n      <td>female</td>\n      <td>26.0</td>\n      <td>0</td>\n      <td>0</td>\n      <td>STON/O2. 3101282</td>\n      <td>7.9250</td>\n      <td>NaN</td>\n      <td>S</td>\n    </tr>\n    <tr>\n      <th>4</th>\n      <td>1</td>\n      <td>Futrelle, Mrs. Jacques Heath (Lily May Peel)</td>\n      <td>female</td>\n      <td>35.0</td>\n      <td>1</td>\n      <td>0</td>\n      <td>113803</td>\n      <td>53.1000</td>\n      <td>C123</td>\n      <td>S</td>\n    </tr>\n    <tr>\n      <th>5</th>\n      <td>3</td>\n      <td>Allen, Mr. William Henry</td>\n      <td>male</td>\n      <td>35.0</td>\n      <td>0</td>\n      <td>0</td>\n      <td>373450</td>\n      <td>8.0500</td>\n      <td>NaN</td>\n      <td>S</td>\n    </tr>\n    <tr>\n      <th>...</th>\n      <td>...</td>\n      <td>...</td>\n      <td>...</td>\n      <td>...</td>\n      <td>...</td>\n      <td>...</td>\n      <td>...</td>\n      <td>...</td>\n      <td>...</td>\n      <td>...</td>\n    </tr>\n    <tr>\n      <th>1305</th>\n      <td>3</td>\n      <td>Spector, Mr. Woolf</td>\n      <td>male</td>\n      <td>NaN</td>\n      <td>0</td>\n      <td>0</td>\n      <td>A.5. 3236</td>\n      <td>8.0500</td>\n      <td>NaN</td>\n      <td>S</td>\n    </tr>\n    <tr>\n      <th>1306</th>\n      <td>1</td>\n      <td>Oliva y Ocana, Dona. Fermina</td>\n      <td>female</td>\n      <td>39.0</td>\n      <td>0</td>\n      <td>0</td>\n      <td>PC 17758</td>\n      <td>108.9000</td>\n      <td>C105</td>\n      <td>C</td>\n    </tr>\n    <tr>\n      <th>1307</th>\n      <td>3</td>\n      <td>Saether, Mr. Simon Sivertsen</td>\n      <td>male</td>\n      <td>38.5</td>\n      <td>0</td>\n      <td>0</td>\n      <td>SOTON/O.Q. 3101262</td>\n      <td>7.2500</td>\n      <td>NaN</td>\n      <td>S</td>\n    </tr>\n    <tr>\n      <th>1308</th>\n      <td>3</td>\n      <td>Ware, Mr. Frederick</td>\n      <td>male</td>\n      <td>NaN</td>\n      <td>0</td>\n      <td>0</td>\n      <td>359309</td>\n      <td>8.0500</td>\n      <td>NaN</td>\n      <td>S</td>\n    </tr>\n    <tr>\n      <th>1309</th>\n      <td>3</td>\n      <td>Peter, Master. Michael J</td>\n      <td>male</td>\n      <td>NaN</td>\n      <td>1</td>\n      <td>1</td>\n      <td>2668</td>\n      <td>22.3583</td>\n      <td>NaN</td>\n      <td>C</td>\n    </tr>\n  </tbody>\n</table>\n<p>1309 rows × 10 columns</p>\n</div>"
     },
     "execution_count": 103,
     "metadata": {},
     "output_type": "execute_result"
    }
   ],
   "source": [
    "all_data"
   ],
   "metadata": {
    "collapsed": false,
    "pycharm": {
     "name": "#%%\n"
    }
   }
  },
  {
   "cell_type": "markdown",
   "source": [
    "## 성능 개선 없이 그냥 베이스라인 모델 돌려보기"
   ],
   "metadata": {
    "collapsed": false,
    "pycharm": {
     "name": "#%% md\n"
    }
   }
  },
  {
   "cell_type": "code",
   "execution_count": 104,
   "outputs": [
    {
     "data": {
      "text/plain": "<1309x2828 sparse matrix of type '<class 'numpy.float64'>'\n\twith 13090 stored elements in Compressed Sparse Row format>"
     },
     "execution_count": 104,
     "metadata": {},
     "output_type": "execute_result"
    }
   ],
   "source": [
    "from sklearn.preprocessing import OneHotEncoder\n",
    "\n",
    "encoder = OneHotEncoder() # 원-핫 인코더 생성\n",
    "\n",
    "all_data_encoded = encoder.fit_transform(all_data)\n",
    "\n",
    "all_data_encoded"
   ],
   "metadata": {
    "collapsed": false,
    "pycharm": {
     "name": "#%%\n"
    }
   }
  },
  {
   "cell_type": "markdown",
   "source": [
    "### 데이터 나누기"
   ],
   "metadata": {
    "collapsed": false,
    "pycharm": {
     "name": "#%% md\n"
    }
   }
  },
  {
   "cell_type": "code",
   "execution_count": 105,
   "outputs": [],
   "source": [
    "num_train = len(train) # 훈련 데이터 개수\n",
    "\n",
    "# 훈련 데이터와 테스트 데이터 나누기\n",
    "\n",
    "X_train = all_data_encoded[:num_train] # 0~num_train -1 행\n",
    "X_test = all_data_encoded[num_train:] # num_train ~ 마지막 행\n",
    "\n",
    "y = train['Survived']"
   ],
   "metadata": {
    "collapsed": false,
    "pycharm": {
     "name": "#%%\n"
    }
   }
  },
  {
   "cell_type": "code",
   "execution_count": 106,
   "outputs": [],
   "source": [
    "from sklearn.model_selection import train_test_split\n",
    "\n",
    "# 훈련 데이터 , 검증 데이터 분리\n",
    "\n",
    "X_train , X_valid , y_train , y_valid = train_test_split(X_train , y , test_size=0.1 , stratify=y,random_state=10)\n",
    "\n",
    "# test_size 는 검증 데이터 크기를 지정하는 파라미터이다.\n",
    "# 값이 정수면 검증 데이터의 개수를 , 실수면 비율을 의미한다. 여기서는 0.1을 전달했으므로 10%를 검증 데이터로 분리하겠다는 의미이다.\n",
    "\n",
    "# stratify 파라미터를 지정하지 않으면 훈련 데이터와 검증 데이터에 타깃값이 불균형하게 분포 될 수 있다."
   ],
   "metadata": {
    "collapsed": false,
    "pycharm": {
     "name": "#%%\n"
    }
   }
  },
  {
   "cell_type": "markdown",
   "source": [
    "### 모델 훈련"
   ],
   "metadata": {
    "collapsed": false,
    "pycharm": {
     "name": "#%% md\n"
    }
   }
  },
  {
   "cell_type": "code",
   "execution_count": 107,
   "outputs": [
    {
     "data": {
      "text/plain": "LogisticRegression(max_iter=1000, random_state=42)"
     },
     "execution_count": 107,
     "metadata": {},
     "output_type": "execute_result"
    }
   ],
   "source": [
    "from sklearn.linear_model import LogisticRegression\n",
    "\n",
    "logistic_model = LogisticRegression(max_iter = 1000 , random_state=42)\n",
    "logistic_model.fit(X_train,y_train) # 모델 훈련"
   ],
   "metadata": {
    "collapsed": false,
    "pycharm": {
     "name": "#%%\n"
    }
   }
  },
  {
   "cell_type": "markdown",
   "source": [
    "# 모델 성능 검증\n",
    "\n",
    "- predict()는 타깃값 자체를 예측한다.\n",
    "\n",
    "- predict_proba()는 타깃값의 확률(0일 확률과 1일 확률)을 예측한다."
   ],
   "metadata": {
    "collapsed": false,
    "pycharm": {
     "name": "#%% md\n"
    }
   }
  },
  {
   "cell_type": "code",
   "execution_count": 108,
   "outputs": [
    {
     "data": {
      "text/plain": "array([[0.853, 0.147],\n       [0.553, 0.447],\n       [0.839, 0.161],\n       [0.838, 0.162],\n       [0.795, 0.205],\n       [0.889, 0.111],\n       [0.36 , 0.64 ],\n       [0.097, 0.903],\n       [0.942, 0.058],\n       [0.744, 0.256],\n       [0.868, 0.132],\n       [0.949, 0.051],\n       [0.101, 0.899],\n       [0.971, 0.029],\n       [0.962, 0.038],\n       [0.599, 0.401],\n       [0.933, 0.067],\n       [0.268, 0.732],\n       [0.139, 0.861],\n       [0.95 , 0.05 ],\n       [0.932, 0.068],\n       [0.035, 0.965],\n       [0.02 , 0.98 ],\n       [0.882, 0.118],\n       [0.928, 0.072],\n       [0.535, 0.465],\n       [0.619, 0.381],\n       [0.83 , 0.17 ],\n       [0.342, 0.658],\n       [0.178, 0.822],\n       [0.646, 0.354],\n       [0.047, 0.953],\n       [0.947, 0.053],\n       [0.933, 0.067],\n       [0.072, 0.928],\n       [0.688, 0.312],\n       [0.901, 0.099],\n       [0.651, 0.349],\n       [0.729, 0.271],\n       [0.617, 0.383],\n       [0.92 , 0.08 ],\n       [0.365, 0.635],\n       [0.613, 0.387],\n       [0.797, 0.203],\n       [0.972, 0.028],\n       [0.963, 0.037],\n       [0.861, 0.139],\n       [0.038, 0.962],\n       [0.021, 0.979],\n       [0.324, 0.676],\n       [0.946, 0.054],\n       [0.09 , 0.91 ],\n       [0.765, 0.235],\n       [0.511, 0.489],\n       [0.039, 0.961],\n       [0.07 , 0.93 ],\n       [0.946, 0.054],\n       [0.215, 0.785],\n       [0.953, 0.047],\n       [0.638, 0.362],\n       [0.213, 0.787],\n       [0.906, 0.094],\n       [0.175, 0.825],\n       [0.573, 0.427],\n       [0.767, 0.233],\n       [0.816, 0.184],\n       [0.565, 0.435],\n       [0.2  , 0.8  ],\n       [0.861, 0.139],\n       [0.979, 0.021],\n       [0.947, 0.053],\n       [0.247, 0.753],\n       [0.365, 0.635],\n       [0.048, 0.952],\n       [0.946, 0.054],\n       [0.111, 0.889],\n       [0.889, 0.111],\n       [0.907, 0.093],\n       [0.083, 0.917],\n       [0.794, 0.206],\n       [0.928, 0.072],\n       [0.535, 0.465],\n       [0.93 , 0.07 ],\n       [0.407, 0.593],\n       [0.882, 0.118],\n       [0.495, 0.505],\n       [0.703, 0.297],\n       [0.875, 0.125],\n       [0.861, 0.139],\n       [0.36 , 0.64 ]])"
     },
     "execution_count": 108,
     "metadata": {},
     "output_type": "execute_result"
    }
   ],
   "source": [
    "logistic_model.predict_proba(X_valid)"
   ],
   "metadata": {
    "collapsed": false,
    "pycharm": {
     "name": "#%%\n"
    }
   }
  },
  {
   "cell_type": "code",
   "execution_count": 109,
   "outputs": [
    {
     "data": {
      "text/plain": "array([0, 0, 0, 0, 0, 0, 1, 1, 0, 0, 0, 0, 1, 0, 0, 0, 0, 1, 1, 0, 0, 1,\n       1, 0, 0, 0, 0, 0, 1, 1, 0, 1, 0, 0, 1, 0, 0, 0, 0, 0, 0, 1, 0, 0,\n       0, 0, 0, 1, 1, 1, 0, 1, 0, 0, 1, 1, 0, 1, 0, 0, 1, 0, 1, 0, 0, 0,\n       0, 1, 0, 0, 0, 1, 1, 1, 0, 1, 0, 0, 1, 0, 0, 0, 0, 1, 0, 1, 0, 0,\n       0, 1], dtype=int64)"
     },
     "execution_count": 109,
     "metadata": {},
     "output_type": "execute_result"
    }
   ],
   "source": [
    "logistic_model.predict(X_valid)"
   ],
   "metadata": {
    "collapsed": false,
    "pycharm": {
     "name": "#%%\n"
    }
   }
  },
  {
   "cell_type": "code",
   "execution_count": 110,
   "outputs": [],
   "source": [
    "# 검증 데이터를 활용한 타깃 예측\n",
    "\n",
    "y_valid_preds = logistic_model.predict_proba(X_valid)[:,1]"
   ],
   "metadata": {
    "collapsed": false,
    "pycharm": {
     "name": "#%%\n"
    }
   }
  },
  {
   "cell_type": "code",
   "execution_count": 111,
   "outputs": [
    {
     "name": "stdout",
     "output_type": "stream",
     "text": [
      "검증 데이터 ROC AUC : 0.8395\n"
     ]
    }
   ],
   "source": [
    "from sklearn.metrics import roc_auc_score # ROC AUC 점수 계산 함수\n",
    "\n",
    "# 검증 데이터 ROC AUC\n",
    "\n",
    "roc_auc = roc_auc_score(y_valid , y_valid_preds)\n",
    "\n",
    "print(f'검증 데이터 ROC AUC : {roc_auc:.4f}')"
   ],
   "metadata": {
    "collapsed": false,
    "pycharm": {
     "name": "#%%\n"
    }
   }
  },
  {
   "cell_type": "code",
   "execution_count": 112,
   "outputs": [
    {
     "data": {
      "text/plain": "array([0, 0, 0, 0, 1, 0, 1, 0, 1, 0, 0, 0, 1, 0, 1, 1, 0, 0, 1, 1, 0, 0,\n       1, 0, 1, 0, 1, 0, 0, 0, 0, 0, 1, 0, 0, 0, 1, 0, 0, 0, 0, 0, 0, 1,\n       1, 0, 0, 0, 1, 1, 0, 0, 1, 1, 0, 0, 0, 0, 0, 1, 0, 0, 0, 1, 1, 1,\n       1, 0, 1, 1, 1, 0, 1, 0, 1, 0, 0, 1, 0, 1, 0, 0, 0, 0, 0, 0, 1, 0,\n       1, 0, 1, 0, 1, 0, 0, 0, 1, 0, 1, 0, 1, 0, 0, 0, 1, 0, 0, 0, 0, 0,\n       0, 1, 1, 1, 1, 0, 0, 1, 1, 1, 1, 0, 1, 0, 0, 1, 0, 1, 0, 0, 0, 0,\n       0, 0, 0, 0, 0, 0, 0, 0, 0, 1, 0, 0, 0, 0, 0, 0, 0, 0, 1, 0, 0, 1,\n       0, 0, 1, 0, 1, 1, 1, 0, 1, 0, 0, 1, 1, 0, 1, 1, 0, 0, 0, 0, 0, 1,\n       1, 1, 1, 1, 0, 0, 1, 0, 1, 0, 1, 0, 0, 0, 0, 0, 0, 0, 0, 0, 1, 0,\n       0, 1, 1, 0, 0, 1, 0, 0, 1, 0, 1, 0, 0, 0, 0, 1, 0, 0, 1, 0, 1, 0,\n       1, 0, 1, 0, 1, 1, 0, 1, 0, 0, 0, 1, 0, 0, 1, 0, 0, 0, 1, 1, 1, 1,\n       1, 0, 0, 0, 1, 0, 1, 0, 1, 0, 1, 0, 0, 0, 0, 0, 1, 0, 0, 0, 1, 1,\n       0, 0, 0, 0, 1, 0, 0, 0, 1, 1, 0, 1, 0, 0, 0, 0, 0, 0, 1, 1, 0, 0,\n       0, 0, 0, 0, 0, 1, 0, 1, 0, 0, 1, 0, 0, 0, 0, 0, 0, 0, 1, 1, 0, 0,\n       0, 1, 0, 0, 0, 1, 1, 1, 0, 0, 0, 0, 0, 0, 0, 0, 1, 0, 1, 0, 0, 0,\n       1, 0, 0, 1, 0, 0, 0, 0, 0, 0, 0, 0, 0, 1, 0, 1, 0, 1, 0, 1, 1, 0,\n       0, 0, 1, 0, 1, 0, 0, 1, 0, 1, 1, 0, 1, 0, 0, 1, 1, 0, 0, 1, 0, 0,\n       1, 1, 1, 0, 0, 0, 0, 0, 1, 1, 0, 1, 0, 0, 0, 0, 0, 1, 0, 0, 0, 1,\n       0, 1, 0, 0, 1, 0, 1, 0, 0, 1, 0, 0, 1, 1, 1, 1, 1, 0, 1, 0, 0, 0],\n      dtype=int64)"
     },
     "execution_count": 112,
     "metadata": {},
     "output_type": "execute_result"
    }
   ],
   "source": [
    "# 타깃값 1일 확룰 예측\n",
    "\n",
    "y_preds= logistic_model.predict(X_test)\n",
    "y_preds"
   ],
   "metadata": {
    "collapsed": false,
    "pycharm": {
     "name": "#%%\n"
    }
   }
  },
  {
   "cell_type": "code",
   "execution_count": 113,
   "outputs": [],
   "source": [
    "# 제출 파일 생성\n",
    "\n",
    "submission['Survived'] = y_preds\n",
    "submission.to_csv('submission_1.csv')"
   ],
   "metadata": {
    "collapsed": false,
    "pycharm": {
     "name": "#%%\n"
    }
   }
  },
  {
   "cell_type": "markdown",
   "source": [
    "## 성능 개선 -> 피처 엔지니어링"
   ],
   "metadata": {
    "collapsed": false,
    "pycharm": {
     "name": "#%% md\n"
    }
   }
  },
  {
   "cell_type": "code",
   "execution_count": 114,
   "outputs": [
    {
     "data": {
      "text/plain": "             Pclass   Age  SibSp  Parch      Fare\nPassengerId                                      \n1                 3  22.0      1      0    7.2500\n2                 1  38.0      1      0   71.2833\n3                 3  26.0      0      0    7.9250\n4                 1  35.0      1      0   53.1000\n5                 3  35.0      0      0    8.0500\n...             ...   ...    ...    ...       ...\n1305              3  24.0      0      0    8.0500\n1306              1  39.0      0      0  108.9000\n1307              3  38.5      0      0    7.2500\n1308              3  24.0      0      0    8.0500\n1309              3  24.0      1      1   22.3583\n\n[1309 rows x 5 columns]",
      "text/html": "<div>\n<style scoped>\n    .dataframe tbody tr th:only-of-type {\n        vertical-align: middle;\n    }\n\n    .dataframe tbody tr th {\n        vertical-align: top;\n    }\n\n    .dataframe thead th {\n        text-align: right;\n    }\n</style>\n<table border=\"1\" class=\"dataframe\">\n  <thead>\n    <tr style=\"text-align: right;\">\n      <th></th>\n      <th>Pclass</th>\n      <th>Age</th>\n      <th>SibSp</th>\n      <th>Parch</th>\n      <th>Fare</th>\n    </tr>\n    <tr>\n      <th>PassengerId</th>\n      <th></th>\n      <th></th>\n      <th></th>\n      <th></th>\n      <th></th>\n    </tr>\n  </thead>\n  <tbody>\n    <tr>\n      <th>1</th>\n      <td>3</td>\n      <td>22.0</td>\n      <td>1</td>\n      <td>0</td>\n      <td>7.2500</td>\n    </tr>\n    <tr>\n      <th>2</th>\n      <td>1</td>\n      <td>38.0</td>\n      <td>1</td>\n      <td>0</td>\n      <td>71.2833</td>\n    </tr>\n    <tr>\n      <th>3</th>\n      <td>3</td>\n      <td>26.0</td>\n      <td>0</td>\n      <td>0</td>\n      <td>7.9250</td>\n    </tr>\n    <tr>\n      <th>4</th>\n      <td>1</td>\n      <td>35.0</td>\n      <td>1</td>\n      <td>0</td>\n      <td>53.1000</td>\n    </tr>\n    <tr>\n      <th>5</th>\n      <td>3</td>\n      <td>35.0</td>\n      <td>0</td>\n      <td>0</td>\n      <td>8.0500</td>\n    </tr>\n    <tr>\n      <th>...</th>\n      <td>...</td>\n      <td>...</td>\n      <td>...</td>\n      <td>...</td>\n      <td>...</td>\n    </tr>\n    <tr>\n      <th>1305</th>\n      <td>3</td>\n      <td>24.0</td>\n      <td>0</td>\n      <td>0</td>\n      <td>8.0500</td>\n    </tr>\n    <tr>\n      <th>1306</th>\n      <td>1</td>\n      <td>39.0</td>\n      <td>0</td>\n      <td>0</td>\n      <td>108.9000</td>\n    </tr>\n    <tr>\n      <th>1307</th>\n      <td>3</td>\n      <td>38.5</td>\n      <td>0</td>\n      <td>0</td>\n      <td>7.2500</td>\n    </tr>\n    <tr>\n      <th>1308</th>\n      <td>3</td>\n      <td>24.0</td>\n      <td>0</td>\n      <td>0</td>\n      <td>8.0500</td>\n    </tr>\n    <tr>\n      <th>1309</th>\n      <td>3</td>\n      <td>24.0</td>\n      <td>1</td>\n      <td>1</td>\n      <td>22.3583</td>\n    </tr>\n  </tbody>\n</table>\n<p>1309 rows × 5 columns</p>\n</div>"
     },
     "execution_count": 114,
     "metadata": {},
     "output_type": "execute_result"
    }
   ],
   "source": [
    "all_data_bin = all_data[binary_col].fillna(all_data[binary_col].mode().iloc[0]) # NaN 값 제일 많은값으로 대체\n",
    "\n",
    "all_data_bin"
   ],
   "metadata": {
    "collapsed": false,
    "pycharm": {
     "name": "#%%\n"
    }
   }
  },
  {
   "cell_type": "code",
   "execution_count": 115,
   "outputs": [
    {
     "data": {
      "text/plain": "                                                          Name     Sex  \\\nPassengerId                                                              \n1                                      Braund, Mr. Owen Harris    male   \n2            Cumings, Mrs. John Bradley (Florence Briggs Th...  female   \n3                                       Heikkinen, Miss. Laina  female   \n4                 Futrelle, Mrs. Jacques Heath (Lily May Peel)  female   \n5                                     Allen, Mr. William Henry    male   \n...                                                        ...     ...   \n1305                                        Spector, Mr. Woolf    male   \n1306                              Oliva y Ocana, Dona. Fermina  female   \n1307                              Saether, Mr. Simon Sivertsen    male   \n1308                                       Ware, Mr. Frederick    male   \n1309                                  Peter, Master. Michael J    male   \n\n                         Ticket Embarked  \nPassengerId                               \n1                     A/5 21171        S  \n2                      PC 17599        C  \n3              STON/O2. 3101282        S  \n4                        113803        S  \n5                        373450        S  \n...                         ...      ...  \n1305                  A.5. 3236        S  \n1306                   PC 17758        C  \n1307         SOTON/O.Q. 3101262        S  \n1308                     359309        S  \n1309                       2668        C  \n\n[1309 rows x 4 columns]",
      "text/html": "<div>\n<style scoped>\n    .dataframe tbody tr th:only-of-type {\n        vertical-align: middle;\n    }\n\n    .dataframe tbody tr th {\n        vertical-align: top;\n    }\n\n    .dataframe thead th {\n        text-align: right;\n    }\n</style>\n<table border=\"1\" class=\"dataframe\">\n  <thead>\n    <tr style=\"text-align: right;\">\n      <th></th>\n      <th>Name</th>\n      <th>Sex</th>\n      <th>Ticket</th>\n      <th>Embarked</th>\n    </tr>\n    <tr>\n      <th>PassengerId</th>\n      <th></th>\n      <th></th>\n      <th></th>\n      <th></th>\n    </tr>\n  </thead>\n  <tbody>\n    <tr>\n      <th>1</th>\n      <td>Braund, Mr. Owen Harris</td>\n      <td>male</td>\n      <td>A/5 21171</td>\n      <td>S</td>\n    </tr>\n    <tr>\n      <th>2</th>\n      <td>Cumings, Mrs. John Bradley (Florence Briggs Th...</td>\n      <td>female</td>\n      <td>PC 17599</td>\n      <td>C</td>\n    </tr>\n    <tr>\n      <th>3</th>\n      <td>Heikkinen, Miss. Laina</td>\n      <td>female</td>\n      <td>STON/O2. 3101282</td>\n      <td>S</td>\n    </tr>\n    <tr>\n      <th>4</th>\n      <td>Futrelle, Mrs. Jacques Heath (Lily May Peel)</td>\n      <td>female</td>\n      <td>113803</td>\n      <td>S</td>\n    </tr>\n    <tr>\n      <th>5</th>\n      <td>Allen, Mr. William Henry</td>\n      <td>male</td>\n      <td>373450</td>\n      <td>S</td>\n    </tr>\n    <tr>\n      <th>...</th>\n      <td>...</td>\n      <td>...</td>\n      <td>...</td>\n      <td>...</td>\n    </tr>\n    <tr>\n      <th>1305</th>\n      <td>Spector, Mr. Woolf</td>\n      <td>male</td>\n      <td>A.5. 3236</td>\n      <td>S</td>\n    </tr>\n    <tr>\n      <th>1306</th>\n      <td>Oliva y Ocana, Dona. Fermina</td>\n      <td>female</td>\n      <td>PC 17758</td>\n      <td>C</td>\n    </tr>\n    <tr>\n      <th>1307</th>\n      <td>Saether, Mr. Simon Sivertsen</td>\n      <td>male</td>\n      <td>SOTON/O.Q. 3101262</td>\n      <td>S</td>\n    </tr>\n    <tr>\n      <th>1308</th>\n      <td>Ware, Mr. Frederick</td>\n      <td>male</td>\n      <td>359309</td>\n      <td>S</td>\n    </tr>\n    <tr>\n      <th>1309</th>\n      <td>Peter, Master. Michael J</td>\n      <td>male</td>\n      <td>2668</td>\n      <td>C</td>\n    </tr>\n  </tbody>\n</table>\n<p>1309 rows × 4 columns</p>\n</div>"
     },
     "execution_count": 115,
     "metadata": {},
     "output_type": "execute_result"
    }
   ],
   "source": [
    "object_col = ['Name' , 'Sex' , 'Ticket' , 'Embarked']\n",
    "object_col\n",
    "all_data_obj = all_data[object_col].fillna(all_data[object_col].mode().iloc[0])\n",
    "all_data_obj\n",
    "# NaN 값 제일 많은값으로 대체인데, train[object_col]에는 NaN값 특히 Cabin에 있다. ==> Cabin값은 빼는게 낫지 않을까?"
   ],
   "metadata": {
    "collapsed": false,
    "pycharm": {
     "name": "#%%\n"
    }
   }
  },
  {
   "cell_type": "markdown",
   "source": [],
   "metadata": {
    "collapsed": false,
    "pycharm": {
     "name": "#%% md\n"
    }
   }
  },
  {
   "cell_type": "code",
   "execution_count": 116,
   "outputs": [],
   "source": [
    "import seaborn as sns\n",
    "import matplotlib as mpl\n",
    "import matplotlib.pyplot as plt\n",
    "%matplotlib inline"
   ],
   "metadata": {
    "collapsed": false,
    "pycharm": {
     "name": "#%%\n"
    }
   }
  },
  {
   "cell_type": "markdown",
   "source": [
    "## 타깃값 분포"
   ],
   "metadata": {
    "collapsed": false,
    "pycharm": {
     "name": "#%% md\n"
    }
   }
  },
  {
   "cell_type": "code",
   "execution_count": 117,
   "outputs": [],
   "source": [
    "def write_percent(ax , total_size):\n",
    "    '''도형 객체를 순회하며 막대 상단에 타깃값 비율 표시'''\n",
    "    for patch in ax.patches:\n",
    "        height = patch.get_height() # 도형 높이(데이터 개수)\n",
    "        width = patch.get_width() # 도형 너비\n",
    "        left_coord = patch.get_x() # 도형 왼쪽 테두리의 x축 위치\n",
    "        percent = height/total_size*100 # 타깃값 비율\n",
    "\n",
    "\n",
    "        # (x, y) 좌표에 텍스트 입력\n",
    "        ax.text(x= left_coord + width/2.0 ,   # x축 위치\n",
    "                y = height + total_size*0.001, #y축 위치\n",
    "                s = f'{percent : 1.1f}%', # 입력 텍스트\n",
    "                ha = 'center') #가운데 정렬\n",
    "\n",
    "\n",
    "\n",
    "# plt.figure(figsize=(7,6))\n",
    "# train_bin['Survival'] = train['Survived'].map({0: '사망', 1: '생존'})\n",
    "# ax = sns.countplot(x='Survival' , data = train_bin)\n",
    "# write_percent(ax , len(train)) # 비율 표시\n",
    "# ax.set_title('타이타닉 호 생존자')"
   ],
   "metadata": {
    "collapsed": false,
    "pycharm": {
     "name": "#%%\n"
    }
   }
  },
  {
   "cell_type": "markdown",
   "source": [
    "## 연속형 피처 분포"
   ],
   "metadata": {
    "collapsed": false,
    "pycharm": {
     "name": "#%% md\n"
    }
   }
  },
  {
   "cell_type": "code",
   "execution_count": 118,
   "outputs": [
    {
     "data": {
      "text/plain": "             Pclass   Age  SibSp  Parch      Fare\nPassengerId                                      \n1                 3  22.0      1      0    7.2500\n2                 1  38.0      1      0   71.2833\n3                 3  26.0      0      0    7.9250\n4                 1  35.0      1      0   53.1000\n5                 3  35.0      0      0    8.0500\n...             ...   ...    ...    ...       ...\n1305              3  24.0      0      0    8.0500\n1306              1  39.0      0      0  108.9000\n1307              3  38.5      0      0    7.2500\n1308              3  24.0      0      0    8.0500\n1309              3  24.0      1      1   22.3583\n\n[1309 rows x 5 columns]",
      "text/html": "<div>\n<style scoped>\n    .dataframe tbody tr th:only-of-type {\n        vertical-align: middle;\n    }\n\n    .dataframe tbody tr th {\n        vertical-align: top;\n    }\n\n    .dataframe thead th {\n        text-align: right;\n    }\n</style>\n<table border=\"1\" class=\"dataframe\">\n  <thead>\n    <tr style=\"text-align: right;\">\n      <th></th>\n      <th>Pclass</th>\n      <th>Age</th>\n      <th>SibSp</th>\n      <th>Parch</th>\n      <th>Fare</th>\n    </tr>\n    <tr>\n      <th>PassengerId</th>\n      <th></th>\n      <th></th>\n      <th></th>\n      <th></th>\n      <th></th>\n    </tr>\n  </thead>\n  <tbody>\n    <tr>\n      <th>1</th>\n      <td>3</td>\n      <td>22.0</td>\n      <td>1</td>\n      <td>0</td>\n      <td>7.2500</td>\n    </tr>\n    <tr>\n      <th>2</th>\n      <td>1</td>\n      <td>38.0</td>\n      <td>1</td>\n      <td>0</td>\n      <td>71.2833</td>\n    </tr>\n    <tr>\n      <th>3</th>\n      <td>3</td>\n      <td>26.0</td>\n      <td>0</td>\n      <td>0</td>\n      <td>7.9250</td>\n    </tr>\n    <tr>\n      <th>4</th>\n      <td>1</td>\n      <td>35.0</td>\n      <td>1</td>\n      <td>0</td>\n      <td>53.1000</td>\n    </tr>\n    <tr>\n      <th>5</th>\n      <td>3</td>\n      <td>35.0</td>\n      <td>0</td>\n      <td>0</td>\n      <td>8.0500</td>\n    </tr>\n    <tr>\n      <th>...</th>\n      <td>...</td>\n      <td>...</td>\n      <td>...</td>\n      <td>...</td>\n      <td>...</td>\n    </tr>\n    <tr>\n      <th>1305</th>\n      <td>3</td>\n      <td>24.0</td>\n      <td>0</td>\n      <td>0</td>\n      <td>8.0500</td>\n    </tr>\n    <tr>\n      <th>1306</th>\n      <td>1</td>\n      <td>39.0</td>\n      <td>0</td>\n      <td>0</td>\n      <td>108.9000</td>\n    </tr>\n    <tr>\n      <th>1307</th>\n      <td>3</td>\n      <td>38.5</td>\n      <td>0</td>\n      <td>0</td>\n      <td>7.2500</td>\n    </tr>\n    <tr>\n      <th>1308</th>\n      <td>3</td>\n      <td>24.0</td>\n      <td>0</td>\n      <td>0</td>\n      <td>8.0500</td>\n    </tr>\n    <tr>\n      <th>1309</th>\n      <td>3</td>\n      <td>24.0</td>\n      <td>1</td>\n      <td>1</td>\n      <td>22.3583</td>\n    </tr>\n  </tbody>\n</table>\n<p>1309 rows × 5 columns</p>\n</div>"
     },
     "execution_count": 118,
     "metadata": {},
     "output_type": "execute_result"
    }
   ],
   "source": [
    "all_data_bin"
   ],
   "metadata": {
    "collapsed": false,
    "pycharm": {
     "name": "#%%\n"
    }
   }
  },
  {
   "cell_type": "markdown",
   "source": [
    "## 명목형 자료에 대해 계급간격 공식을 이용하여 범주화 시키기\n",
    "\n",
    "- https://knowallworld.tistory.com/197"
   ],
   "metadata": {
    "collapsed": false,
    "pycharm": {
     "name": "#%% md\n"
    }
   }
  },
  {
   "cell_type": "code",
   "execution_count": 119,
   "outputs": [
    {
     "name": "stdout",
     "output_type": "stream",
     "text": [
      "[1225   46   34    0]\n",
      "[  0.    102.466 204.932 307.398 409.863]\n"
     ]
    },
    {
     "data": {
      "text/plain": "(array([   0.,  200.,  400.,  600.,  800., 1000., 1200., 1400.]),\n <a list of 8 Text major ticklabel objects>)"
     },
     "execution_count": 119,
     "metadata": {},
     "output_type": "execute_result"
    },
    {
     "data": {
      "text/plain": "<Figure size 432x288 with 1 Axes>",
      "image/png": "[encoded data removed]"
     },
     "metadata": {
      "needs_background": "light"
     },
     "output_type": "display_data"
    }
   ],
   "source": [
    "width = (max(all_data_bin['Fare']) - min(all_data_bin['Fare'])) / 5 #계급 간격 구하는 공식\n",
    "bins = np.arange(min(all_data_bin['Fare']), max(all_data_bin['Fare']), width)\n",
    "\n",
    "\n",
    "hist, bins = np.histogram(all_data_bin['Fare'], bins)\n",
    "print(hist)\n",
    "print(bins)\n",
    "\n",
    "plt.hist(all_data_bin['Fare'], bins , rwidth = 0.8 , color = 'green' , alpha = 0.5)\n",
    "plt.xlabel('양적자료' , fontsize = 14)\n",
    "plt.xticks(fontsize = 14)\n",
    "plt.yticks(fontsize = 14)"
   ],
   "metadata": {
    "collapsed": false,
    "pycharm": {
     "name": "#%%\n"
    }
   }
  },
  {
   "cell_type": "code",
   "execution_count": 120,
   "outputs": [
    {
     "data": {
      "text/plain": "             Pclass   Age  SibSp  Parch     Fare\nPassengerId                                     \n816               1  24.0      0      0  61.3792\n817               3  23.0      0      0   7.9250\n818               2  31.0      1      1  37.0042\n819               3  43.0      0      0   6.4500\n820               3  10.0      3      2  27.9000\n821               1  52.0      1      1  93.5000\n822               3  27.0      0      0   8.6625\n823               1  38.0      0      0  61.3792\n824               3  27.0      0      1  12.4750",
      "text/html": "<div>\n<style scoped>\n    .dataframe tbody tr th:only-of-type {\n        vertical-align: middle;\n    }\n\n    .dataframe tbody tr th {\n        vertical-align: top;\n    }\n\n    .dataframe thead th {\n        text-align: right;\n    }\n</style>\n<table border=\"1\" class=\"dataframe\">\n  <thead>\n    <tr style=\"text-align: right;\">\n      <th></th>\n      <th>Pclass</th>\n      <th>Age</th>\n      <th>SibSp</th>\n      <th>Parch</th>\n      <th>Fare</th>\n    </tr>\n    <tr>\n      <th>PassengerId</th>\n      <th></th>\n      <th></th>\n      <th></th>\n      <th></th>\n      <th></th>\n    </tr>\n  </thead>\n  <tbody>\n    <tr>\n      <th>816</th>\n      <td>1</td>\n      <td>24.0</td>\n      <td>0</td>\n      <td>0</td>\n      <td>61.3792</td>\n    </tr>\n    <tr>\n      <th>817</th>\n      <td>3</td>\n      <td>23.0</td>\n      <td>0</td>\n      <td>0</td>\n      <td>7.9250</td>\n    </tr>\n    <tr>\n      <th>818</th>\n      <td>2</td>\n      <td>31.0</td>\n      <td>1</td>\n      <td>1</td>\n      <td>37.0042</td>\n    </tr>\n    <tr>\n      <th>819</th>\n      <td>3</td>\n      <td>43.0</td>\n      <td>0</td>\n      <td>0</td>\n      <td>6.4500</td>\n    </tr>\n    <tr>\n      <th>820</th>\n      <td>3</td>\n      <td>10.0</td>\n      <td>3</td>\n      <td>2</td>\n      <td>27.9000</td>\n    </tr>\n    <tr>\n      <th>821</th>\n      <td>1</td>\n      <td>52.0</td>\n      <td>1</td>\n      <td>1</td>\n      <td>93.5000</td>\n    </tr>\n    <tr>\n      <th>822</th>\n      <td>3</td>\n      <td>27.0</td>\n      <td>0</td>\n      <td>0</td>\n      <td>8.6625</td>\n    </tr>\n    <tr>\n      <th>823</th>\n      <td>1</td>\n      <td>38.0</td>\n      <td>0</td>\n      <td>0</td>\n      <td>61.3792</td>\n    </tr>\n    <tr>\n      <th>824</th>\n      <td>3</td>\n      <td>27.0</td>\n      <td>0</td>\n      <td>1</td>\n      <td>12.4750</td>\n    </tr>\n  </tbody>\n</table>\n</div>"
     },
     "execution_count": 120,
     "metadata": {},
     "output_type": "execute_result"
    }
   ],
   "source": [
    "# PClass 등급별 Fare 중앙값(median) 계산\n",
    "fare_medians = all_data_bin[all_data_bin['Fare'] != 0].groupby('Pclass')['Fare'].median()\n",
    "# fare_medians\n",
    "# Fare 값이 0인 데이터를 PClass 등급에 따라 중앙값으로 채우기\n",
    "for i, row in all_data_bin.iterrows():\n",
    "    if row['Fare'] == 0:\n",
    "        all_data_bin.at[i, 'Fare'] = fare_medians[row['Pclass']]\n",
    "\n",
    "# 결과 확인\n",
    "all_data_bin.loc[816:824]"
   ],
   "metadata": {
    "collapsed": false,
    "pycharm": {
     "name": "#%%\n"
    }
   }
  },
  {
   "cell_type": "code",
   "execution_count": 121,
   "outputs": [
    {
     "name": "stdout",
     "output_type": "stream",
     "text": [
      "             Pclass  Age  SibSp  Parch    Fare  log_Fare\n",
      "PassengerId                                             \n",
      "913               3  9.0      0      1  3.1708  1.153984\n"
     ]
    }
   ],
   "source": [
    "all_data_bin['log_Fare'] = np.log(all_data_bin['Fare'])\n",
    "min_log_fare = min(all_data_bin['log_Fare'])\n",
    "min_log_fare_row = all_data_bin[all_data_bin['log_Fare'] == min_log_fare]\n",
    "print(min_log_fare_row)\n",
    "# 제일 log_Fare 값이 작은 열 출력\n",
    "\n",
    "\n"
   ],
   "metadata": {
    "collapsed": false,
    "pycharm": {
     "name": "#%%\n"
    }
   }
  },
  {
   "cell_type": "code",
   "execution_count": 122,
   "outputs": [
    {
     "name": "stdout",
     "output_type": "stream",
     "text": [
      "width : 1.0169966930385597\n",
      "6.238967387173662\n",
      "1.1539839219808636\n",
      "hist : [445 370 325 131]\n",
      "bins : [1.154 2.171 3.188 4.205 5.222]\n"
     ]
    },
    {
     "data": {
      "text/plain": "(array([  0., 100., 200., 300., 400., 500.]),\n <a list of 6 Text major ticklabel objects>)"
     },
     "execution_count": 122,
     "metadata": {},
     "output_type": "execute_result"
    },
    {
     "data": {
      "text/plain": "<Figure size 432x288 with 1 Axes>",
      "image/png": "[encoded data removed]"
     },
     "metadata": {
      "needs_background": "light"
     },
     "output_type": "display_data"
    }
   ],
   "source": [
    "width = (max(all_data_bin['log_Fare']) - min(all_data_bin['log_Fare'])) / 5 #계급 간격 구하는 공식\n",
    "print(f'width : {width}')\n",
    "print(max(all_data_bin['log_Fare']))\n",
    "print(min(all_data_bin['log_Fare']))\n",
    "bins = np.arange(min(all_data_bin['log_Fare']), max(all_data_bin['log_Fare']), width)\n",
    "hist, bins = np.histogram(all_data_bin['log_Fare'], bins)\n",
    "print(f'hist : {hist}')\n",
    "print(f'bins : {bins}')\n",
    "\n",
    "plt.hist(all_data_bin['log_Fare'], bins , rwidth = 0.8 , color = 'green' , alpha = 0.5)\n",
    "plt.xlabel('log화 한 계급간격' , fontsize = 14)\n",
    "plt.xticks(fontsize = 14)\n",
    "plt.yticks(fontsize = 14)"
   ],
   "metadata": {
    "collapsed": false,
    "pycharm": {
     "name": "#%%\n"
    }
   }
  },
  {
   "cell_type": "code",
   "execution_count": 123,
   "outputs": [
    {
     "name": "stdout",
     "output_type": "stream",
     "text": [
      "[1.154 2.171 3.188 4.205 5.222]\n"
     ]
    },
    {
     "data": {
      "text/plain": "             Pclass   Age  SibSp  Parch      Fare  log_Fare Fare_binned\nPassengerId                                                            \n1                 3  22.0      1      0    7.2500  1.981001         1.2\n2                 1  38.0      1      0   71.2833  4.266662         4.2\n3                 3  26.0      0      0    7.9250  2.070022         1.2\n4                 1  35.0      1      0   53.1000  3.972177         3.2\n5                 3  35.0      0      0    8.0500  2.085672         1.2\n...             ...   ...    ...    ...       ...       ...         ...\n1305              3  24.0      0      0    8.0500  2.085672         1.2\n1306              1  39.0      0      0  108.9000  4.690430         4.2\n1307              3  38.5      0      0    7.2500  1.981001         1.2\n1308              3  24.0      0      0    8.0500  2.085672         1.2\n1309              3  24.0      1      1   22.3583  3.107198         2.2\n\n[1309 rows x 7 columns]",
      "text/html": "<div>\n<style scoped>\n    .dataframe tbody tr th:only-of-type {\n        vertical-align: middle;\n    }\n\n    .dataframe tbody tr th {\n        vertical-align: top;\n    }\n\n    .dataframe thead th {\n        text-align: right;\n    }\n</style>\n<table border=\"1\" class=\"dataframe\">\n  <thead>\n    <tr style=\"text-align: right;\">\n      <th></th>\n      <th>Pclass</th>\n      <th>Age</th>\n      <th>SibSp</th>\n      <th>Parch</th>\n      <th>Fare</th>\n      <th>log_Fare</th>\n      <th>Fare_binned</th>\n    </tr>\n    <tr>\n      <th>PassengerId</th>\n      <th></th>\n      <th></th>\n      <th></th>\n      <th></th>\n      <th></th>\n      <th></th>\n      <th></th>\n    </tr>\n  </thead>\n  <tbody>\n    <tr>\n      <th>1</th>\n      <td>3</td>\n      <td>22.0</td>\n      <td>1</td>\n      <td>0</td>\n      <td>7.2500</td>\n      <td>1.981001</td>\n      <td>1.2</td>\n    </tr>\n    <tr>\n      <th>2</th>\n      <td>1</td>\n      <td>38.0</td>\n      <td>1</td>\n      <td>0</td>\n      <td>71.2833</td>\n      <td>4.266662</td>\n      <td>4.2</td>\n    </tr>\n    <tr>\n      <th>3</th>\n      <td>3</td>\n      <td>26.0</td>\n      <td>0</td>\n      <td>0</td>\n      <td>7.9250</td>\n      <td>2.070022</td>\n      <td>1.2</td>\n    </tr>\n    <tr>\n      <th>4</th>\n      <td>1</td>\n      <td>35.0</td>\n      <td>1</td>\n      <td>0</td>\n      <td>53.1000</td>\n      <td>3.972177</td>\n      <td>3.2</td>\n    </tr>\n    <tr>\n      <th>5</th>\n      <td>3</td>\n      <td>35.0</td>\n      <td>0</td>\n      <td>0</td>\n      <td>8.0500</td>\n      <td>2.085672</td>\n      <td>1.2</td>\n    </tr>\n    <tr>\n      <th>...</th>\n      <td>...</td>\n      <td>...</td>\n      <td>...</td>\n      <td>...</td>\n      <td>...</td>\n      <td>...</td>\n      <td>...</td>\n    </tr>\n    <tr>\n      <th>1305</th>\n      <td>3</td>\n      <td>24.0</td>\n      <td>0</td>\n      <td>0</td>\n      <td>8.0500</td>\n      <td>2.085672</td>\n      <td>1.2</td>\n    </tr>\n    <tr>\n      <th>1306</th>\n      <td>1</td>\n      <td>39.0</td>\n      <td>0</td>\n      <td>0</td>\n      <td>108.9000</td>\n      <td>4.690430</td>\n      <td>4.2</td>\n    </tr>\n    <tr>\n      <th>1307</th>\n      <td>3</td>\n      <td>38.5</td>\n      <td>0</td>\n      <td>0</td>\n      <td>7.2500</td>\n      <td>1.981001</td>\n      <td>1.2</td>\n    </tr>\n    <tr>\n      <th>1308</th>\n      <td>3</td>\n      <td>24.0</td>\n      <td>0</td>\n      <td>0</td>\n      <td>8.0500</td>\n      <td>2.085672</td>\n      <td>1.2</td>\n    </tr>\n    <tr>\n      <th>1309</th>\n      <td>3</td>\n      <td>24.0</td>\n      <td>1</td>\n      <td>1</td>\n      <td>22.3583</td>\n      <td>3.107198</td>\n      <td>2.2</td>\n    </tr>\n  </tbody>\n</table>\n<p>1309 rows × 7 columns</p>\n</div>"
     },
     "execution_count": 123,
     "metadata": {},
     "output_type": "execute_result"
    }
   ],
   "source": [
    "# 범주의 크기를 지정할 width 변수 설정\n",
    "\n",
    "bins = np.arange(min(all_data_bin['log_Fare']), max(all_data_bin['log_Fare']), width)\n",
    "print(bins)\n",
    "hist, bins = np.histogram(all_data_bin['log_Fare'], bins)\n",
    "width = len(bins)\n",
    "\n",
    "# 범주의 최솟값(min)과 최댓값(max)을 계산\n",
    "min_val = all_data_bin['log_Fare'].min()\n",
    "max_val = all_data_bin['log_Fare'].max()\n",
    "\n",
    "# 최솟값과 최댓값을 width 간격으로 나눠서 labels 배열 생성\n",
    "labels = [f'{round(i,1)}' for i in bins]\n",
    "\n",
    "# train['Fare'] 값을 labels에 맞게 범주형으로 변환\n",
    "all_data_bin['Fare_binned'] = pd.cut(all_data_bin['log_Fare'], bins=len(labels), labels=labels)\n",
    "# train 데이터프레임 내용 확인\n",
    "all_data_bin\n"
   ],
   "metadata": {
    "collapsed": false,
    "pycharm": {
     "name": "#%%\n"
    }
   }
  },
  {
   "cell_type": "code",
   "execution_count": 124,
   "outputs": [
    {
     "data": {
      "text/plain": "             Pclass   Age  SibSp  Parch      Fare  log_Fare Fare_binned  \\\nPassengerId                                                               \n1                 3  22.0      1      0    7.2500  1.981001         1.2   \n2                 1  38.0      1      0   71.2833  4.266662         4.2   \n3                 3  26.0      0      0    7.9250  2.070022         1.2   \n4                 1  35.0      1      0   53.1000  3.972177         3.2   \n5                 3  35.0      0      0    8.0500  2.085672         1.2   \n...             ...   ...    ...    ...       ...       ...         ...   \n1305              3  24.0      0      0    8.0500  2.085672         1.2   \n1306              1  39.0      0      0  108.9000  4.690430         4.2   \n1307              3  38.5      0      0    7.2500  1.981001         1.2   \n1308              3  24.0      0      0    8.0500  2.085672         1.2   \n1309              3  24.0      1      1   22.3583  3.107198         2.2   \n\n            Fare_binned_범위  \nPassengerId                 \n1                  1.2~2.2  \n2                  3.2~4.2  \n3                  1.2~2.2  \n4                  3.2~4.2  \n5                  1.2~2.2  \n...                    ...  \n1305               1.2~2.2  \n1306               3.2~4.2  \n1307               1.2~2.2  \n1308               1.2~2.2  \n1309               2.2~3.2  \n\n[1309 rows x 8 columns]",
      "text/html": "<div>\n<style scoped>\n    .dataframe tbody tr th:only-of-type {\n        vertical-align: middle;\n    }\n\n    .dataframe tbody tr th {\n        vertical-align: top;\n    }\n\n    .dataframe thead th {\n        text-align: right;\n    }\n</style>\n<table border=\"1\" class=\"dataframe\">\n  <thead>\n    <tr style=\"text-align: right;\">\n      <th></th>\n      <th>Pclass</th>\n      <th>Age</th>\n      <th>SibSp</th>\n      <th>Parch</th>\n      <th>Fare</th>\n      <th>log_Fare</th>\n      <th>Fare_binned</th>\n      <th>Fare_binned_범위</th>\n    </tr>\n    <tr>\n      <th>PassengerId</th>\n      <th></th>\n      <th></th>\n      <th></th>\n      <th></th>\n      <th></th>\n      <th></th>\n      <th></th>\n      <th></th>\n    </tr>\n  </thead>\n  <tbody>\n    <tr>\n      <th>1</th>\n      <td>3</td>\n      <td>22.0</td>\n      <td>1</td>\n      <td>0</td>\n      <td>7.2500</td>\n      <td>1.981001</td>\n      <td>1.2</td>\n      <td>1.2~2.2</td>\n    </tr>\n    <tr>\n      <th>2</th>\n      <td>1</td>\n      <td>38.0</td>\n      <td>1</td>\n      <td>0</td>\n      <td>71.2833</td>\n      <td>4.266662</td>\n      <td>4.2</td>\n      <td>3.2~4.2</td>\n    </tr>\n    <tr>\n      <th>3</th>\n      <td>3</td>\n      <td>26.0</td>\n      <td>0</td>\n      <td>0</td>\n      <td>7.9250</td>\n      <td>2.070022</td>\n      <td>1.2</td>\n      <td>1.2~2.2</td>\n    </tr>\n    <tr>\n      <th>4</th>\n      <td>1</td>\n      <td>35.0</td>\n      <td>1</td>\n      <td>0</td>\n      <td>53.1000</td>\n      <td>3.972177</td>\n      <td>3.2</td>\n      <td>3.2~4.2</td>\n    </tr>\n    <tr>\n      <th>5</th>\n      <td>3</td>\n      <td>35.0</td>\n      <td>0</td>\n      <td>0</td>\n      <td>8.0500</td>\n      <td>2.085672</td>\n      <td>1.2</td>\n      <td>1.2~2.2</td>\n    </tr>\n    <tr>\n      <th>...</th>\n      <td>...</td>\n      <td>...</td>\n      <td>...</td>\n      <td>...</td>\n      <td>...</td>\n      <td>...</td>\n      <td>...</td>\n      <td>...</td>\n    </tr>\n    <tr>\n      <th>1305</th>\n      <td>3</td>\n      <td>24.0</td>\n      <td>0</td>\n      <td>0</td>\n      <td>8.0500</td>\n      <td>2.085672</td>\n      <td>1.2</td>\n      <td>1.2~2.2</td>\n    </tr>\n    <tr>\n      <th>1306</th>\n      <td>1</td>\n      <td>39.0</td>\n      <td>0</td>\n      <td>0</td>\n      <td>108.9000</td>\n      <td>4.690430</td>\n      <td>4.2</td>\n      <td>3.2~4.2</td>\n    </tr>\n    <tr>\n      <th>1307</th>\n      <td>3</td>\n      <td>38.5</td>\n      <td>0</td>\n      <td>0</td>\n      <td>7.2500</td>\n      <td>1.981001</td>\n      <td>1.2</td>\n      <td>1.2~2.2</td>\n    </tr>\n    <tr>\n      <th>1308</th>\n      <td>3</td>\n      <td>24.0</td>\n      <td>0</td>\n      <td>0</td>\n      <td>8.0500</td>\n      <td>2.085672</td>\n      <td>1.2</td>\n      <td>1.2~2.2</td>\n    </tr>\n    <tr>\n      <th>1309</th>\n      <td>3</td>\n      <td>24.0</td>\n      <td>1</td>\n      <td>1</td>\n      <td>22.3583</td>\n      <td>3.107198</td>\n      <td>2.2</td>\n      <td>2.2~3.2</td>\n    </tr>\n  </tbody>\n</table>\n<p>1309 rows × 8 columns</p>\n</div>"
     },
     "execution_count": 124,
     "metadata": {},
     "output_type": "execute_result"
    }
   ],
   "source": [
    "labels = [f\"{bins[i]:.1f}~{bins[i+1]:.1f}\" for i in range(len(bins)-1)]\n",
    "\n",
    "# train['Fare'] 값을 labels에 맞게 범주형으로 변환\n",
    "all_data_bin['Fare_binned_범위'] = pd.cut(all_data_bin['log_Fare'], bins=len(labels), labels=labels)\n",
    "# train 데이터프레임 내용 확인\n",
    "all_data_bin"
   ],
   "metadata": {
    "collapsed": false,
    "pycharm": {
     "name": "#%%\n"
    }
   }
  },
  {
   "cell_type": "code",
   "execution_count": 125,
   "outputs": [
    {
     "name": "stdout",
     "output_type": "stream",
     "text": [
      "['1.2', '4.2', '3.2', '2.2', '5.2']\n",
      "Categories (5, object): ['1.2' < '2.2' < '3.2' < '4.2' < '5.2']\n"
     ]
    }
   ],
   "source": [
    "print(all_data_bin['Fare_binned'].unique())"
   ],
   "metadata": {
    "collapsed": false,
    "pycharm": {
     "name": "#%%\n"
    }
   }
  },
  {
   "cell_type": "code",
   "execution_count": 126,
   "outputs": [
    {
     "data": {
      "text/plain": "<Figure size 720x1152 with 1 Axes>",
      "image/png": "[encoded data removed]"
     },
     "metadata": {
      "needs_background": "light"
     },
     "output_type": "display_data"
    }
   ],
   "source": [
    "from matplotlib import gridspec\n",
    "\n",
    "mpl.rc('font' , size = 12)\n",
    "grid = gridspec.GridSpec(3,2) # 그래프(서브플롯)을 3행 2열로 배치\n",
    "plt.figure(figsize=(10,16)) # 전체 Figure 크기 설정\n",
    "plt.subplots_adjust(wspace= 0.4 , hspace= 0.3) # 서브플롯 간 좌우/상하 여백 설정\n",
    "all_data_bin['Survival'] = train['Survived'].map({0: '사망', 1: '생존'})\n",
    "# 서브플롯 그리기# 피처 목록\n",
    "\n",
    "for idx, feature in enumerate(['Fare_binned']) :\n",
    "\n",
    "    ax = plt.subplot(grid[idx])\n",
    "\n",
    "    # ax 축에 타깃값 분포 카운트플롯 그리기\n",
    "    sns.countplot(x=feature , data = all_data_bin , hue = 'Survival' , palette = 'pastel' , ax= ax)\n",
    "    # hue는 세부적으로 나눠 그릴 기준 피처, 여기서는 타깃값(target)을 전달했다.\n",
    "    ax.set_title(f'LOG화한 Fare 타이타닉호 생존자') # 그래프 제목 설정\n",
    "    write_percent(ax, len(all_data_bin))\n",
    "\n"
   ],
   "metadata": {
    "collapsed": false,
    "pycharm": {
     "name": "#%%\n"
    }
   }
  },
  {
   "cell_type": "code",
   "execution_count": 127,
   "outputs": [
    {
     "data": {
      "text/plain": "array([  3.171,   8.767,  24.239,  67.019, 185.299])"
     },
     "execution_count": 127,
     "metadata": {},
     "output_type": "execute_result"
    }
   ],
   "source": [
    "bins_exp = np.exp(bins)\n",
    "bins_exp"
   ],
   "metadata": {
    "collapsed": false,
    "pycharm": {
     "name": "#%%\n"
    }
   }
  },
  {
   "cell_type": "markdown",
   "source": [
    "### 'AGE' 계급간격 구하기"
   ],
   "metadata": {
    "collapsed": false,
    "pycharm": {
     "name": "#%% md\n"
    }
   }
  },
  {
   "cell_type": "code",
   "execution_count": 128,
   "outputs": [
    {
     "data": {
      "text/plain": "count    1309.000000\nmean       28.699519\nstd        13.097097\nmin         0.170000\n25%        22.000000\n50%        24.000000\n75%        35.000000\nmax        80.000000\nName: Age, dtype: float64"
     },
     "execution_count": 128,
     "metadata": {},
     "output_type": "execute_result"
    }
   ],
   "source": [
    "all_data_bin['Age'].describe()"
   ],
   "metadata": {
    "collapsed": false,
    "pycharm": {
     "name": "#%%\n"
    }
   }
  },
  {
   "cell_type": "code",
   "execution_count": 129,
   "outputs": [
    {
     "name": "stdout",
     "output_type": "stream",
     "text": [
      "[ 56  30  29 133 458 166 115  95  72  60  36  26  23   4   4]\n",
      "[ 0.17  5.17 10.17 15.17 20.17 25.17 30.17 35.17 40.17 45.17 50.17 55.17\n",
      " 60.17 65.17 70.17 75.17]\n"
     ]
    },
    {
     "data": {
      "text/plain": "(array([  0., 100., 200., 300., 400., 500.]),\n <a list of 6 Text major ticklabel objects>)"
     },
     "execution_count": 129,
     "metadata": {},
     "output_type": "execute_result"
    },
    {
     "data": {
      "text/plain": "<Figure size 432x288 with 1 Axes>",
      "image/png": "[encoded data removed]"
     },
     "metadata": {
      "needs_background": "light"
     },
     "output_type": "display_data"
    }
   ],
   "source": [
    "bins = np.arange(min(all_data_bin['Age']), max(all_data_bin['Age']), width)\n",
    "\n",
    "\n",
    "hist, bins = np.histogram(all_data_bin['Age'], bins)\n",
    "print(hist)\n",
    "print(bins)\n",
    "\n",
    "plt.hist(all_data_bin['Age'], bins , rwidth = 0.8 , color = 'green' , alpha = 0.5)\n",
    "plt.xlabel('양적자료' , fontsize = 14)\n",
    "plt.xticks(fontsize = 14)\n",
    "plt.yticks(fontsize = 14)\n",
    "\n"
   ],
   "metadata": {
    "collapsed": false,
    "pycharm": {
     "name": "#%%\n"
    }
   }
  },
  {
   "cell_type": "markdown",
   "source": [
    "### 분포가 생각보다 일정해서 log 화 안해도 될거 같다.\n",
    "---\n",
    "\n",
    "### 대신 간격의 수를 줄여야 겠다. 10대 20대 30대 이런식으로 하는것이 좋을 거 같다.\n",
    "\n",
    "- describe()에서 최대값이 80살 , 최소값이 0살이므로 10개의 계급간격을 나누면 좋을거 같다."
   ],
   "metadata": {
    "collapsed": false,
    "pycharm": {
     "name": "#%% md\n"
    }
   }
  },
  {
   "cell_type": "code",
   "execution_count": 130,
   "outputs": [
    {
     "name": "stdout",
     "output_type": "stream",
     "text": [
      "width : 7.983\n",
      "80.0\n",
      "0.17\n",
      "hist : [ 82 143 607 232 135  70  32   8]\n",
      "bins : [ 0 10 20 30 40 50 60 70 80]\n"
     ]
    },
    {
     "data": {
      "text/plain": "(array([  0., 100., 200., 300., 400., 500., 600., 700.]),\n <a list of 8 Text major ticklabel objects>)"
     },
     "execution_count": 130,
     "metadata": {},
     "output_type": "execute_result"
    },
    {
     "data": {
      "text/plain": "<Figure size 432x288 with 1 Axes>",
      "image/png": "[encoded data removed]"
     },
     "metadata": {
      "needs_background": "light"
     },
     "output_type": "display_data"
    }
   ],
   "source": [
    "width = (max(all_data_bin['Age']) - min(all_data_bin['Age'])) / 10 #계급 간격 구하는 공식\n",
    "\n",
    "# width = np.arange(0,90,10)\n",
    "\n",
    "print(f'width : {width}')\n",
    "print(max(all_data_bin['Age']))\n",
    "print(min(all_data_bin['Age']))\n",
    "bins = np.arange(0,90,10)\n",
    "hist, bins = np.histogram(all_data_bin['Age'], bins)\n",
    "print(f'hist : {hist}')\n",
    "print(f'bins : {bins}')\n",
    "\n",
    "plt.hist(all_data_bin['Age'], bins , rwidth = 0.8 , color = 'green' , alpha = 0.5)\n",
    "plt.xlabel('연령대 별 계급간격' , fontsize = 14)\n",
    "plt.xticks(fontsize = 14)\n",
    "plt.yticks(fontsize = 14)"
   ],
   "metadata": {
    "collapsed": false,
    "pycharm": {
     "name": "#%%\n"
    }
   }
  },
  {
   "cell_type": "code",
   "execution_count": 131,
   "outputs": [
    {
     "data": {
      "text/plain": "             Pclass   Age  SibSp  Parch      Fare  log_Fare Fare_binned  \\\nPassengerId                                                               \n1                 3  22.0      1      0    7.2500  1.981001         1.2   \n2                 1  38.0      1      0   71.2833  4.266662         4.2   \n3                 3  26.0      0      0    7.9250  2.070022         1.2   \n4                 1  35.0      1      0   53.1000  3.972177         3.2   \n5                 3  35.0      0      0    8.0500  2.085672         1.2   \n...             ...   ...    ...    ...       ...       ...         ...   \n1305              3  24.0      0      0    8.0500  2.085672         1.2   \n1306              1  39.0      0      0  108.9000  4.690430         4.2   \n1307              3  38.5      0      0    7.2500  1.981001         1.2   \n1308              3  24.0      0      0    8.0500  2.085672         1.2   \n1309              3  24.0      1      1   22.3583  3.107198         2.2   \n\n            Fare_binned_범위 Survival Age_Categorical  \nPassengerId                                          \n1                  1.2~2.2       사망              20  \n2                  3.2~4.2       생존              40  \n3                  1.2~2.2       생존              20  \n4                  3.2~4.2       생존              30  \n5                  1.2~2.2       사망              30  \n...                    ...      ...             ...  \n1305               1.2~2.2      NaN              20  \n1306               3.2~4.2      NaN              40  \n1307               1.2~2.2      NaN              40  \n1308               1.2~2.2      NaN              20  \n1309               2.2~3.2      NaN              20  \n\n[1309 rows x 10 columns]",
      "text/html": "<div>\n<style scoped>\n    .dataframe tbody tr th:only-of-type {\n        vertical-align: middle;\n    }\n\n    .dataframe tbody tr th {\n        vertical-align: top;\n    }\n\n    .dataframe thead th {\n        text-align: right;\n    }\n</style>\n<table border=\"1\" class=\"dataframe\">\n  <thead>\n    <tr style=\"text-align: right;\">\n      <th></th>\n      <th>Pclass</th>\n      <th>Age</th>\n      <th>SibSp</th>\n      <th>Parch</th>\n      <th>Fare</th>\n      <th>log_Fare</th>\n      <th>Fare_binned</th>\n      <th>Fare_binned_범위</th>\n      <th>Survival</th>\n      <th>Age_Categorical</th>\n    </tr>\n    <tr>\n      <th>PassengerId</th>\n      <th></th>\n      <th></th>\n      <th></th>\n      <th></th>\n      <th></th>\n      <th></th>\n      <th></th>\n      <th></th>\n      <th></th>\n      <th></th>\n    </tr>\n  </thead>\n  <tbody>\n    <tr>\n      <th>1</th>\n      <td>3</td>\n      <td>22.0</td>\n      <td>1</td>\n      <td>0</td>\n      <td>7.2500</td>\n      <td>1.981001</td>\n      <td>1.2</td>\n      <td>1.2~2.2</td>\n      <td>사망</td>\n      <td>20</td>\n    </tr>\n    <tr>\n      <th>2</th>\n      <td>1</td>\n      <td>38.0</td>\n      <td>1</td>\n      <td>0</td>\n      <td>71.2833</td>\n      <td>4.266662</td>\n      <td>4.2</td>\n      <td>3.2~4.2</td>\n      <td>생존</td>\n      <td>40</td>\n    </tr>\n    <tr>\n      <th>3</th>\n      <td>3</td>\n      <td>26.0</td>\n      <td>0</td>\n      <td>0</td>\n      <td>7.9250</td>\n      <td>2.070022</td>\n      <td>1.2</td>\n      <td>1.2~2.2</td>\n      <td>생존</td>\n      <td>20</td>\n    </tr>\n    <tr>\n      <th>4</th>\n      <td>1</td>\n      <td>35.0</td>\n      <td>1</td>\n      <td>0</td>\n      <td>53.1000</td>\n      <td>3.972177</td>\n      <td>3.2</td>\n      <td>3.2~4.2</td>\n      <td>생존</td>\n      <td>30</td>\n    </tr>\n    <tr>\n      <th>5</th>\n      <td>3</td>\n      <td>35.0</td>\n      <td>0</td>\n      <td>0</td>\n      <td>8.0500</td>\n      <td>2.085672</td>\n      <td>1.2</td>\n      <td>1.2~2.2</td>\n      <td>사망</td>\n      <td>30</td>\n    </tr>\n    <tr>\n      <th>...</th>\n      <td>...</td>\n      <td>...</td>\n      <td>...</td>\n      <td>...</td>\n      <td>...</td>\n      <td>...</td>\n      <td>...</td>\n      <td>...</td>\n      <td>...</td>\n      <td>...</td>\n    </tr>\n    <tr>\n      <th>1305</th>\n      <td>3</td>\n      <td>24.0</td>\n      <td>0</td>\n      <td>0</td>\n      <td>8.0500</td>\n      <td>2.085672</td>\n      <td>1.2</td>\n      <td>1.2~2.2</td>\n      <td>NaN</td>\n      <td>20</td>\n    </tr>\n    <tr>\n      <th>1306</th>\n      <td>1</td>\n      <td>39.0</td>\n      <td>0</td>\n      <td>0</td>\n      <td>108.9000</td>\n      <td>4.690430</td>\n      <td>4.2</td>\n      <td>3.2~4.2</td>\n      <td>NaN</td>\n      <td>40</td>\n    </tr>\n    <tr>\n      <th>1307</th>\n      <td>3</td>\n      <td>38.5</td>\n      <td>0</td>\n      <td>0</td>\n      <td>7.2500</td>\n      <td>1.981001</td>\n      <td>1.2</td>\n      <td>1.2~2.2</td>\n      <td>NaN</td>\n      <td>40</td>\n    </tr>\n    <tr>\n      <th>1308</th>\n      <td>3</td>\n      <td>24.0</td>\n      <td>0</td>\n      <td>0</td>\n      <td>8.0500</td>\n      <td>2.085672</td>\n      <td>1.2</td>\n      <td>1.2~2.2</td>\n      <td>NaN</td>\n      <td>20</td>\n    </tr>\n    <tr>\n      <th>1309</th>\n      <td>3</td>\n      <td>24.0</td>\n      <td>1</td>\n      <td>1</td>\n      <td>22.3583</td>\n      <td>3.107198</td>\n      <td>2.2</td>\n      <td>2.2~3.2</td>\n      <td>NaN</td>\n      <td>20</td>\n    </tr>\n  </tbody>\n</table>\n<p>1309 rows × 10 columns</p>\n</div>"
     },
     "execution_count": 131,
     "metadata": {},
     "output_type": "execute_result"
    }
   ],
   "source": [
    "labels = [f'{i}' for i in bins]\n",
    "\n",
    "# train['Fare'] 값을 labels에 맞게 범주형으로 변환\n",
    "all_data_bin['Age_Categorical'] = pd.cut(all_data_bin['Age'], bins=len(labels), labels=labels)\n",
    "# train 데이터프레임 내용 확인\n",
    "all_data_bin"
   ],
   "metadata": {
    "collapsed": false,
    "pycharm": {
     "name": "#%%\n"
    }
   }
  },
  {
   "cell_type": "code",
   "execution_count": 132,
   "outputs": [
    {
     "data": {
      "text/plain": "             Pclass   Age  SibSp  Parch      Fare  log_Fare Fare_binned  \\\nPassengerId                                                               \n1                 3  22.0      1      0    7.2500  1.981001         1.2   \n2                 1  38.0      1      0   71.2833  4.266662         4.2   \n3                 3  26.0      0      0    7.9250  2.070022         1.2   \n4                 1  35.0      1      0   53.1000  3.972177         3.2   \n5                 3  35.0      0      0    8.0500  2.085672         1.2   \n...             ...   ...    ...    ...       ...       ...         ...   \n1305              3  24.0      0      0    8.0500  2.085672         1.2   \n1306              1  39.0      0      0  108.9000  4.690430         4.2   \n1307              3  38.5      0      0    7.2500  1.981001         1.2   \n1308              3  24.0      0      0    8.0500  2.085672         1.2   \n1309              3  24.0      1      1   22.3583  3.107198         2.2   \n\n            Fare_binned_범위 Survival Age_Categorical  \nPassengerId                                          \n1                  1.2~2.2       사망             20대  \n2                  3.2~4.2       생존             40대  \n3                  1.2~2.2       생존             20대  \n4                  3.2~4.2       생존             30대  \n5                  1.2~2.2       사망             30대  \n...                    ...      ...             ...  \n1305               1.2~2.2      NaN             20대  \n1306               3.2~4.2      NaN             40대  \n1307               1.2~2.2      NaN             40대  \n1308               1.2~2.2      NaN             20대  \n1309               2.2~3.2      NaN             20대  \n\n[1309 rows x 10 columns]",
      "text/html": "<div>\n<style scoped>\n    .dataframe tbody tr th:only-of-type {\n        vertical-align: middle;\n    }\n\n    .dataframe tbody tr th {\n        vertical-align: top;\n    }\n\n    .dataframe thead th {\n        text-align: right;\n    }\n</style>\n<table border=\"1\" class=\"dataframe\">\n  <thead>\n    <tr style=\"text-align: right;\">\n      <th></th>\n      <th>Pclass</th>\n      <th>Age</th>\n      <th>SibSp</th>\n      <th>Parch</th>\n      <th>Fare</th>\n      <th>log_Fare</th>\n      <th>Fare_binned</th>\n      <th>Fare_binned_범위</th>\n      <th>Survival</th>\n      <th>Age_Categorical</th>\n    </tr>\n    <tr>\n      <th>PassengerId</th>\n      <th></th>\n      <th></th>\n      <th></th>\n      <th></th>\n      <th></th>\n      <th></th>\n      <th></th>\n      <th></th>\n      <th></th>\n      <th></th>\n    </tr>\n  </thead>\n  <tbody>\n    <tr>\n      <th>1</th>\n      <td>3</td>\n      <td>22.0</td>\n      <td>1</td>\n      <td>0</td>\n      <td>7.2500</td>\n      <td>1.981001</td>\n      <td>1.2</td>\n      <td>1.2~2.2</td>\n      <td>사망</td>\n      <td>20대</td>\n    </tr>\n    <tr>\n      <th>2</th>\n      <td>1</td>\n      <td>38.0</td>\n      <td>1</td>\n      <td>0</td>\n      <td>71.2833</td>\n      <td>4.266662</td>\n      <td>4.2</td>\n      <td>3.2~4.2</td>\n      <td>생존</td>\n      <td>40대</td>\n    </tr>\n    <tr>\n      <th>3</th>\n      <td>3</td>\n      <td>26.0</td>\n      <td>0</td>\n      <td>0</td>\n      <td>7.9250</td>\n      <td>2.070022</td>\n      <td>1.2</td>\n      <td>1.2~2.2</td>\n      <td>생존</td>\n      <td>20대</td>\n    </tr>\n    <tr>\n      <th>4</th>\n      <td>1</td>\n      <td>35.0</td>\n      <td>1</td>\n      <td>0</td>\n      <td>53.1000</td>\n      <td>3.972177</td>\n      <td>3.2</td>\n      <td>3.2~4.2</td>\n      <td>생존</td>\n      <td>30대</td>\n    </tr>\n    <tr>\n      <th>5</th>\n      <td>3</td>\n      <td>35.0</td>\n      <td>0</td>\n      <td>0</td>\n      <td>8.0500</td>\n      <td>2.085672</td>\n      <td>1.2</td>\n      <td>1.2~2.2</td>\n      <td>사망</td>\n      <td>30대</td>\n    </tr>\n    <tr>\n      <th>...</th>\n      <td>...</td>\n      <td>...</td>\n      <td>...</td>\n      <td>...</td>\n      <td>...</td>\n      <td>...</td>\n      <td>...</td>\n      <td>...</td>\n      <td>...</td>\n      <td>...</td>\n    </tr>\n    <tr>\n      <th>1305</th>\n      <td>3</td>\n      <td>24.0</td>\n      <td>0</td>\n      <td>0</td>\n      <td>8.0500</td>\n      <td>2.085672</td>\n      <td>1.2</td>\n      <td>1.2~2.2</td>\n      <td>NaN</td>\n      <td>20대</td>\n    </tr>\n    <tr>\n      <th>1306</th>\n      <td>1</td>\n      <td>39.0</td>\n      <td>0</td>\n      <td>0</td>\n      <td>108.9000</td>\n      <td>4.690430</td>\n      <td>4.2</td>\n      <td>3.2~4.2</td>\n      <td>NaN</td>\n      <td>40대</td>\n    </tr>\n    <tr>\n      <th>1307</th>\n      <td>3</td>\n      <td>38.5</td>\n      <td>0</td>\n      <td>0</td>\n      <td>7.2500</td>\n      <td>1.981001</td>\n      <td>1.2</td>\n      <td>1.2~2.2</td>\n      <td>NaN</td>\n      <td>40대</td>\n    </tr>\n    <tr>\n      <th>1308</th>\n      <td>3</td>\n      <td>24.0</td>\n      <td>0</td>\n      <td>0</td>\n      <td>8.0500</td>\n      <td>2.085672</td>\n      <td>1.2</td>\n      <td>1.2~2.2</td>\n      <td>NaN</td>\n      <td>20대</td>\n    </tr>\n    <tr>\n      <th>1309</th>\n      <td>3</td>\n      <td>24.0</td>\n      <td>1</td>\n      <td>1</td>\n      <td>22.3583</td>\n      <td>3.107198</td>\n      <td>2.2</td>\n      <td>2.2~3.2</td>\n      <td>NaN</td>\n      <td>20대</td>\n    </tr>\n  </tbody>\n</table>\n<p>1309 rows × 10 columns</p>\n</div>"
     },
     "execution_count": 132,
     "metadata": {},
     "output_type": "execute_result"
    }
   ],
   "source": [
    "age_cat_with_daes = all_data_bin['Age_Categorical'].apply(lambda x: str(x)+'대')\n",
    "\n",
    "# train_bin['Age_Categorical'] 열 대체\n",
    "all_data_bin['Age_Categorical'] = age_cat_with_daes\n",
    "\n",
    "all_data_bin"
   ],
   "metadata": {
    "collapsed": false,
    "pycharm": {
     "name": "#%%\n"
    }
   }
  },
  {
   "cell_type": "code",
   "execution_count": 133,
   "outputs": [
    {
     "data": {
      "text/plain": "['Pclass',\n 'Age',\n 'SibSp',\n 'Parch',\n 'Fare',\n 'log_Fare',\n 'Fare_binned',\n 'Fare_binned_범위',\n 'Survival',\n 'Age_Categorical']"
     },
     "execution_count": 133,
     "metadata": {},
     "output_type": "execute_result"
    }
   ],
   "source": [
    "all_data_bin.columns.tolist()"
   ],
   "metadata": {
    "collapsed": false,
    "pycharm": {
     "name": "#%%\n"
    }
   }
  },
  {
   "cell_type": "code",
   "execution_count": 134,
   "outputs": [
    {
     "data": {
      "text/plain": "             Pclass  SibSp  Parch Survival Fare_binned_범위 Age_Categorical\nPassengerId                                                              \n1                 3      1      0       사망        1.2~2.2             20대\n2                 1      1      0       생존        3.2~4.2             40대\n3                 3      0      0       생존        1.2~2.2             20대\n4                 1      1      0       생존        3.2~4.2             30대\n5                 3      0      0       사망        1.2~2.2             30대\n...             ...    ...    ...      ...            ...             ...\n1305              3      0      0      NaN        1.2~2.2             20대\n1306              1      0      0      NaN        3.2~4.2             40대\n1307              3      0      0      NaN        1.2~2.2             40대\n1308              3      0      0      NaN        1.2~2.2             20대\n1309              3      1      1      NaN        2.2~3.2             20대\n\n[1309 rows x 6 columns]",
      "text/html": "<div>\n<style scoped>\n    .dataframe tbody tr th:only-of-type {\n        vertical-align: middle;\n    }\n\n    .dataframe tbody tr th {\n        vertical-align: top;\n    }\n\n    .dataframe thead th {\n        text-align: right;\n    }\n</style>\n<table border=\"1\" class=\"dataframe\">\n  <thead>\n    <tr style=\"text-align: right;\">\n      <th></th>\n      <th>Pclass</th>\n      <th>SibSp</th>\n      <th>Parch</th>\n      <th>Survival</th>\n      <th>Fare_binned_범위</th>\n      <th>Age_Categorical</th>\n    </tr>\n    <tr>\n      <th>PassengerId</th>\n      <th></th>\n      <th></th>\n      <th></th>\n      <th></th>\n      <th></th>\n      <th></th>\n    </tr>\n  </thead>\n  <tbody>\n    <tr>\n      <th>1</th>\n      <td>3</td>\n      <td>1</td>\n      <td>0</td>\n      <td>사망</td>\n      <td>1.2~2.2</td>\n      <td>20대</td>\n    </tr>\n    <tr>\n      <th>2</th>\n      <td>1</td>\n      <td>1</td>\n      <td>0</td>\n      <td>생존</td>\n      <td>3.2~4.2</td>\n      <td>40대</td>\n    </tr>\n    <tr>\n      <th>3</th>\n      <td>3</td>\n      <td>0</td>\n      <td>0</td>\n      <td>생존</td>\n      <td>1.2~2.2</td>\n      <td>20대</td>\n    </tr>\n    <tr>\n      <th>4</th>\n      <td>1</td>\n      <td>1</td>\n      <td>0</td>\n      <td>생존</td>\n      <td>3.2~4.2</td>\n      <td>30대</td>\n    </tr>\n    <tr>\n      <th>5</th>\n      <td>3</td>\n      <td>0</td>\n      <td>0</td>\n      <td>사망</td>\n      <td>1.2~2.2</td>\n      <td>30대</td>\n    </tr>\n    <tr>\n      <th>...</th>\n      <td>...</td>\n      <td>...</td>\n      <td>...</td>\n      <td>...</td>\n      <td>...</td>\n      <td>...</td>\n    </tr>\n    <tr>\n      <th>1305</th>\n      <td>3</td>\n      <td>0</td>\n      <td>0</td>\n      <td>NaN</td>\n      <td>1.2~2.2</td>\n      <td>20대</td>\n    </tr>\n    <tr>\n      <th>1306</th>\n      <td>1</td>\n      <td>0</td>\n      <td>0</td>\n      <td>NaN</td>\n      <td>3.2~4.2</td>\n      <td>40대</td>\n    </tr>\n    <tr>\n      <th>1307</th>\n      <td>3</td>\n      <td>0</td>\n      <td>0</td>\n      <td>NaN</td>\n      <td>1.2~2.2</td>\n      <td>40대</td>\n    </tr>\n    <tr>\n      <th>1308</th>\n      <td>3</td>\n      <td>0</td>\n      <td>0</td>\n      <td>NaN</td>\n      <td>1.2~2.2</td>\n      <td>20대</td>\n    </tr>\n    <tr>\n      <th>1309</th>\n      <td>3</td>\n      <td>1</td>\n      <td>1</td>\n      <td>NaN</td>\n      <td>2.2~3.2</td>\n      <td>20대</td>\n    </tr>\n  </tbody>\n</table>\n<p>1309 rows × 6 columns</p>\n</div>"
     },
     "execution_count": 134,
     "metadata": {},
     "output_type": "execute_result"
    }
   ],
   "source": [
    "all_data_bin2 = all_data_bin[['Pclass' ,'SibSp','Parch' ,'Survival' , 'Fare_binned_범위' , 'Age_Categorical']]\n",
    "all_data_bin2"
   ],
   "metadata": {
    "collapsed": false,
    "pycharm": {
     "name": "#%%\n"
    }
   }
  },
  {
   "cell_type": "code",
   "execution_count": 135,
   "outputs": [
    {
     "name": "stderr",
     "output_type": "stream",
     "text": [
      "posx and posy should be finite values\n",
      "posx and posy should be finite values\n",
      "posx and posy should be finite values\n",
      "posx and posy should be finite values\n",
      "posx and posy should be finite values\n",
      "posx and posy should be finite values\n",
      "posx and posy should be finite values\n",
      "posx and posy should be finite values\n",
      "posx and posy should be finite values\n",
      "posx and posy should be finite values\n",
      "posx and posy should be finite values\n",
      "posx and posy should be finite values\n",
      "posx and posy should be finite values\n",
      "posx and posy should be finite values\n",
      "posx and posy should be finite values\n",
      "posx and posy should be finite values\n"
     ]
    },
    {
     "data": {
      "text/plain": "<Figure size 1080x1152 with 6 Axes>",
      "image/png": "[encoded data removed]"
     },
     "metadata": {
      "needs_background": "light"
     },
     "output_type": "display_data"
    }
   ],
   "source": [
    "# 3행 2열\n",
    "mpl.rc('font' , size = 12)\n",
    "grid = gridspec.GridSpec(3,2) # 그래프(서브플롯)을 3행 2열로 배치\n",
    "plt.figure(figsize=(15,16)) # 전체 Figure 크기 설정\n",
    "plt.subplots_adjust(wspace= 0.4 , hspace= 0.3) # 서브플롯 간 좌우/상하 여백 설정\n",
    "\n",
    "# 서브플롯 그리기# 피처 목록\n",
    "\n",
    "for idx, feature in enumerate(all_data_bin2.columns.tolist()) :\n",
    "\n",
    "    ax = plt.subplot(grid[idx])\n",
    "\n",
    "    # ax 축에 타깃값 분포 카운트플롯 그리기\n",
    "    sns.countplot(x=feature , data = all_data_bin2 , hue = 'Survival' , palette = 'pastel' , ax= ax)\n",
    "    # hue는 세부적으로 나눠 그릴 기준 피처, 여기서는 타깃값(target)을 전달했다.\n",
    "    ax.set_title(f'{feature} 타이타닉호 생존자') # 그래프 제목 설정\n",
    "    write_percent(ax, len(all_data_bin2))\n",
    "\n",
    "\n",
    "\n",
    "# binary_col은 2진 피처가 아니다. 명목형 피처라 해도 될거 같다."
   ],
   "metadata": {
    "collapsed": false,
    "pycharm": {
     "name": "#%%\n"
    }
   }
  },
  {
   "cell_type": "markdown",
   "source": [
    "## train_bin 에는 log 화밑 계급화 시킨 값들 모두 포함 시켰다.\n",
    "\n",
    "## train_bin2 로 train 데이터로 활용하면 좋을 수 도 있겠다.\n"
   ],
   "metadata": {
    "collapsed": false,
    "pycharm": {
     "name": "#%% md\n"
    }
   }
  },
  {
   "cell_type": "markdown",
   "source": [
    "---\n",
    "\n",
    "## 명목형 피처 전처리를 해보자"
   ],
   "metadata": {
    "collapsed": false,
    "pycharm": {
     "name": "#%% md\n"
    }
   }
  },
  {
   "cell_type": "code",
   "execution_count": 136,
   "outputs": [
    {
     "data": {
      "text/plain": "                                                          Name     Sex  \\\nPassengerId                                                              \n1                                      Braund, Mr. Owen Harris    male   \n2            Cumings, Mrs. John Bradley (Florence Briggs Th...  female   \n3                                       Heikkinen, Miss. Laina  female   \n4                 Futrelle, Mrs. Jacques Heath (Lily May Peel)  female   \n5                                     Allen, Mr. William Henry    male   \n...                                                        ...     ...   \n1305                                        Spector, Mr. Woolf    male   \n1306                              Oliva y Ocana, Dona. Fermina  female   \n1307                              Saether, Mr. Simon Sivertsen    male   \n1308                                       Ware, Mr. Frederick    male   \n1309                                  Peter, Master. Michael J    male   \n\n                         Ticket Embarked  \nPassengerId                               \n1                     A/5 21171        S  \n2                      PC 17599        C  \n3              STON/O2. 3101282        S  \n4                        113803        S  \n5                        373450        S  \n...                         ...      ...  \n1305                  A.5. 3236        S  \n1306                   PC 17758        C  \n1307         SOTON/O.Q. 3101262        S  \n1308                     359309        S  \n1309                       2668        C  \n\n[1309 rows x 4 columns]",
      "text/html": "<div>\n<style scoped>\n    .dataframe tbody tr th:only-of-type {\n        vertical-align: middle;\n    }\n\n    .dataframe tbody tr th {\n        vertical-align: top;\n    }\n\n    .dataframe thead th {\n        text-align: right;\n    }\n</style>\n<table border=\"1\" class=\"dataframe\">\n  <thead>\n    <tr style=\"text-align: right;\">\n      <th></th>\n      <th>Name</th>\n      <th>Sex</th>\n      <th>Ticket</th>\n      <th>Embarked</th>\n    </tr>\n    <tr>\n      <th>PassengerId</th>\n      <th></th>\n      <th></th>\n      <th></th>\n      <th></th>\n    </tr>\n  </thead>\n  <tbody>\n    <tr>\n      <th>1</th>\n      <td>Braund, Mr. Owen Harris</td>\n      <td>male</td>\n      <td>A/5 21171</td>\n      <td>S</td>\n    </tr>\n    <tr>\n      <th>2</th>\n      <td>Cumings, Mrs. John Bradley (Florence Briggs Th...</td>\n      <td>female</td>\n      <td>PC 17599</td>\n      <td>C</td>\n    </tr>\n    <tr>\n      <th>3</th>\n      <td>Heikkinen, Miss. Laina</td>\n      <td>female</td>\n      <td>STON/O2. 3101282</td>\n      <td>S</td>\n    </tr>\n    <tr>\n      <th>4</th>\n      <td>Futrelle, Mrs. Jacques Heath (Lily May Peel)</td>\n      <td>female</td>\n      <td>113803</td>\n      <td>S</td>\n    </tr>\n    <tr>\n      <th>5</th>\n      <td>Allen, Mr. William Henry</td>\n      <td>male</td>\n      <td>373450</td>\n      <td>S</td>\n    </tr>\n    <tr>\n      <th>...</th>\n      <td>...</td>\n      <td>...</td>\n      <td>...</td>\n      <td>...</td>\n    </tr>\n    <tr>\n      <th>1305</th>\n      <td>Spector, Mr. Woolf</td>\n      <td>male</td>\n      <td>A.5. 3236</td>\n      <td>S</td>\n    </tr>\n    <tr>\n      <th>1306</th>\n      <td>Oliva y Ocana, Dona. Fermina</td>\n      <td>female</td>\n      <td>PC 17758</td>\n      <td>C</td>\n    </tr>\n    <tr>\n      <th>1307</th>\n      <td>Saether, Mr. Simon Sivertsen</td>\n      <td>male</td>\n      <td>SOTON/O.Q. 3101262</td>\n      <td>S</td>\n    </tr>\n    <tr>\n      <th>1308</th>\n      <td>Ware, Mr. Frederick</td>\n      <td>male</td>\n      <td>359309</td>\n      <td>S</td>\n    </tr>\n    <tr>\n      <th>1309</th>\n      <td>Peter, Master. Michael J</td>\n      <td>male</td>\n      <td>2668</td>\n      <td>C</td>\n    </tr>\n  </tbody>\n</table>\n<p>1309 rows × 4 columns</p>\n</div>"
     },
     "execution_count": 136,
     "metadata": {},
     "output_type": "execute_result"
    }
   ],
   "source": [
    "all_data_obj"
   ],
   "metadata": {
    "collapsed": false,
    "pycharm": {
     "name": "#%%\n"
    }
   }
  },
  {
   "cell_type": "markdown",
   "source": [
    "## 내 생각엔 Name은 필요 없을 거 같고 , 'Sex'와 'Embarked' 만 필요할거 같다."
   ],
   "metadata": {
    "collapsed": false,
    "pycharm": {
     "name": "#%% md\n"
    }
   }
  },
  {
   "cell_type": "code",
   "execution_count": 137,
   "outputs": [
    {
     "data": {
      "text/plain": "                Sex Embarked\nPassengerId                 \n1              male        S\n2            female        C\n3            female        S\n4            female        S\n5              male        S\n...             ...      ...\n1305           male        S\n1306         female        C\n1307           male        S\n1308           male        S\n1309           male        C\n\n[1309 rows x 2 columns]",
      "text/html": "<div>\n<style scoped>\n    .dataframe tbody tr th:only-of-type {\n        vertical-align: middle;\n    }\n\n    .dataframe tbody tr th {\n        vertical-align: top;\n    }\n\n    .dataframe thead th {\n        text-align: right;\n    }\n</style>\n<table border=\"1\" class=\"dataframe\">\n  <thead>\n    <tr style=\"text-align: right;\">\n      <th></th>\n      <th>Sex</th>\n      <th>Embarked</th>\n    </tr>\n    <tr>\n      <th>PassengerId</th>\n      <th></th>\n      <th></th>\n    </tr>\n  </thead>\n  <tbody>\n    <tr>\n      <th>1</th>\n      <td>male</td>\n      <td>S</td>\n    </tr>\n    <tr>\n      <th>2</th>\n      <td>female</td>\n      <td>C</td>\n    </tr>\n    <tr>\n      <th>3</th>\n      <td>female</td>\n      <td>S</td>\n    </tr>\n    <tr>\n      <th>4</th>\n      <td>female</td>\n      <td>S</td>\n    </tr>\n    <tr>\n      <th>5</th>\n      <td>male</td>\n      <td>S</td>\n    </tr>\n    <tr>\n      <th>...</th>\n      <td>...</td>\n      <td>...</td>\n    </tr>\n    <tr>\n      <th>1305</th>\n      <td>male</td>\n      <td>S</td>\n    </tr>\n    <tr>\n      <th>1306</th>\n      <td>female</td>\n      <td>C</td>\n    </tr>\n    <tr>\n      <th>1307</th>\n      <td>male</td>\n      <td>S</td>\n    </tr>\n    <tr>\n      <th>1308</th>\n      <td>male</td>\n      <td>S</td>\n    </tr>\n    <tr>\n      <th>1309</th>\n      <td>male</td>\n      <td>C</td>\n    </tr>\n  </tbody>\n</table>\n<p>1309 rows × 2 columns</p>\n</div>"
     },
     "execution_count": 137,
     "metadata": {},
     "output_type": "execute_result"
    }
   ],
   "source": [
    "all_data_obj = all_data_obj[['Sex' , 'Embarked']]\n",
    "all_data_obj"
   ],
   "metadata": {
    "collapsed": false,
    "pycharm": {
     "name": "#%%\n"
    }
   }
  },
  {
   "cell_type": "code",
   "execution_count": 138,
   "outputs": [
    {
     "data": {
      "text/plain": "                Sex Embarked Survival\nPassengerId                          \n1              male        S       사망\n2            female        C       생존\n3            female        S       생존\n4            female        S       생존\n5              male        S       사망\n...             ...      ...      ...\n1305           male        S      NaN\n1306         female        C      NaN\n1307           male        S      NaN\n1308           male        S      NaN\n1309           male        C      NaN\n\n[1309 rows x 3 columns]",
      "text/html": "<div>\n<style scoped>\n    .dataframe tbody tr th:only-of-type {\n        vertical-align: middle;\n    }\n\n    .dataframe tbody tr th {\n        vertical-align: top;\n    }\n\n    .dataframe thead th {\n        text-align: right;\n    }\n</style>\n<table border=\"1\" class=\"dataframe\">\n  <thead>\n    <tr style=\"text-align: right;\">\n      <th></th>\n      <th>Sex</th>\n      <th>Embarked</th>\n      <th>Survival</th>\n    </tr>\n    <tr>\n      <th>PassengerId</th>\n      <th></th>\n      <th></th>\n      <th></th>\n    </tr>\n  </thead>\n  <tbody>\n    <tr>\n      <th>1</th>\n      <td>male</td>\n      <td>S</td>\n      <td>사망</td>\n    </tr>\n    <tr>\n      <th>2</th>\n      <td>female</td>\n      <td>C</td>\n      <td>생존</td>\n    </tr>\n    <tr>\n      <th>3</th>\n      <td>female</td>\n      <td>S</td>\n      <td>생존</td>\n    </tr>\n    <tr>\n      <th>4</th>\n      <td>female</td>\n      <td>S</td>\n      <td>생존</td>\n    </tr>\n    <tr>\n      <th>5</th>\n      <td>male</td>\n      <td>S</td>\n      <td>사망</td>\n    </tr>\n    <tr>\n      <th>...</th>\n      <td>...</td>\n      <td>...</td>\n      <td>...</td>\n    </tr>\n    <tr>\n      <th>1305</th>\n      <td>male</td>\n      <td>S</td>\n      <td>NaN</td>\n    </tr>\n    <tr>\n      <th>1306</th>\n      <td>female</td>\n      <td>C</td>\n      <td>NaN</td>\n    </tr>\n    <tr>\n      <th>1307</th>\n      <td>male</td>\n      <td>S</td>\n      <td>NaN</td>\n    </tr>\n    <tr>\n      <th>1308</th>\n      <td>male</td>\n      <td>S</td>\n      <td>NaN</td>\n    </tr>\n    <tr>\n      <th>1309</th>\n      <td>male</td>\n      <td>C</td>\n      <td>NaN</td>\n    </tr>\n  </tbody>\n</table>\n<p>1309 rows × 3 columns</p>\n</div>"
     },
     "execution_count": 138,
     "metadata": {},
     "output_type": "execute_result"
    }
   ],
   "source": [
    "all_data_obj2 =  pd.merge(all_data_obj, all_data_bin2['Survival'] , how='outer' , on=('PassengerId'))\n",
    "all_data_obj2"
   ],
   "metadata": {
    "collapsed": false,
    "pycharm": {
     "name": "#%%\n"
    }
   }
  },
  {
   "cell_type": "code",
   "execution_count": 139,
   "outputs": [
    {
     "name": "stderr",
     "output_type": "stream",
     "text": [
      "posx and posy should be finite values\n",
      "posx and posy should be finite values\n",
      "posx and posy should be finite values\n",
      "posx and posy should be finite values\n"
     ]
    },
    {
     "data": {
      "text/plain": "<Figure size 1080x1152 with 3 Axes>",
      "image/png": "[encoded data removed]"
     },
     "metadata": {
      "needs_background": "light"
     },
     "output_type": "display_data"
    }
   ],
   "source": [
    "# 3행 2열\n",
    "mpl.rc('font' , size = 12)\n",
    "grid = gridspec.GridSpec(2,2) # 그래프(서브플롯)을 3행 2열로 배치\n",
    "plt.figure(figsize=(15,16)) # 전체 Figure 크기 설정\n",
    "plt.subplots_adjust(wspace= 0.4 , hspace= 0.3) # 서브플롯 간 좌우/상하 여백 설정\n",
    "\n",
    "# 서브플롯 그리기# 피처 목록\n",
    "\n",
    "for idx, feature in enumerate(all_data_obj2.columns.tolist()) :\n",
    "\n",
    "    ax = plt.subplot(grid[idx])\n",
    "\n",
    "    # ax 축에 타깃값 분포 카운트플롯 그리기\n",
    "    sns.countplot(x=feature , data =all_data_obj2 , hue = 'Survival' , palette = 'pastel' , ax= ax)\n",
    "    # hue는 세부적으로 나눠 그릴 기준 피처, 여기서는 타깃값(target)을 전달했다.\n",
    "    ax.set_title(f'{feature} 타이타닉호 생존자') # 그래프 제목 설정\n",
    "    write_percent(ax, len(all_data_obj2))\n"
   ],
   "metadata": {
    "collapsed": false,
    "pycharm": {
     "name": "#%%\n"
    }
   }
  },
  {
   "cell_type": "code",
   "execution_count": 149,
   "outputs": [
    {
     "data": {
      "text/plain": "                Sex Embarked  Pclass  SibSp  Parch Fare_binned_범위  \\\nPassengerId                                                         \n1              male        S       3      1      0        1.2~2.2   \n2            female        C       1      1      0        3.2~4.2   \n3            female        S       3      0      0        1.2~2.2   \n4            female        S       1      1      0        3.2~4.2   \n5              male        S       3      0      0        1.2~2.2   \n...             ...      ...     ...    ...    ...            ...   \n1305           male        S       3      0      0        1.2~2.2   \n1306         female        C       1      0      0        3.2~4.2   \n1307           male        S       3      0      0        1.2~2.2   \n1308           male        S       3      0      0        1.2~2.2   \n1309           male        C       3      1      1        2.2~3.2   \n\n            Age_Categorical  \nPassengerId                  \n1                       20대  \n2                       40대  \n3                       20대  \n4                       30대  \n5                       30대  \n...                     ...  \n1305                    20대  \n1306                    40대  \n1307                    40대  \n1308                    20대  \n1309                    20대  \n\n[1309 rows x 7 columns]",
      "text/html": "<div>\n<style scoped>\n    .dataframe tbody tr th:only-of-type {\n        vertical-align: middle;\n    }\n\n    .dataframe tbody tr th {\n        vertical-align: top;\n    }\n\n    .dataframe thead th {\n        text-align: right;\n    }\n</style>\n<table border=\"1\" class=\"dataframe\">\n  <thead>\n    <tr style=\"text-align: right;\">\n      <th></th>\n      <th>Sex</th>\n      <th>Embarked</th>\n      <th>Pclass</th>\n      <th>SibSp</th>\n      <th>Parch</th>\n      <th>Fare_binned_범위</th>\n      <th>Age_Categorical</th>\n    </tr>\n    <tr>\n      <th>PassengerId</th>\n      <th></th>\n      <th></th>\n      <th></th>\n      <th></th>\n      <th></th>\n      <th></th>\n      <th></th>\n    </tr>\n  </thead>\n  <tbody>\n    <tr>\n      <th>1</th>\n      <td>male</td>\n      <td>S</td>\n      <td>3</td>\n      <td>1</td>\n      <td>0</td>\n      <td>1.2~2.2</td>\n      <td>20대</td>\n    </tr>\n    <tr>\n      <th>2</th>\n      <td>female</td>\n      <td>C</td>\n      <td>1</td>\n      <td>1</td>\n      <td>0</td>\n      <td>3.2~4.2</td>\n      <td>40대</td>\n    </tr>\n    <tr>\n      <th>3</th>\n      <td>female</td>\n      <td>S</td>\n      <td>3</td>\n      <td>0</td>\n      <td>0</td>\n      <td>1.2~2.2</td>\n      <td>20대</td>\n    </tr>\n    <tr>\n      <th>4</th>\n      <td>female</td>\n      <td>S</td>\n      <td>1</td>\n      <td>1</td>\n      <td>0</td>\n      <td>3.2~4.2</td>\n      <td>30대</td>\n    </tr>\n    <tr>\n      <th>5</th>\n      <td>male</td>\n      <td>S</td>\n      <td>3</td>\n      <td>0</td>\n      <td>0</td>\n      <td>1.2~2.2</td>\n      <td>30대</td>\n    </tr>\n    <tr>\n      <th>...</th>\n      <td>...</td>\n      <td>...</td>\n      <td>...</td>\n      <td>...</td>\n      <td>...</td>\n      <td>...</td>\n      <td>...</td>\n    </tr>\n    <tr>\n      <th>1305</th>\n      <td>male</td>\n      <td>S</td>\n      <td>3</td>\n      <td>0</td>\n      <td>0</td>\n      <td>1.2~2.2</td>\n      <td>20대</td>\n    </tr>\n    <tr>\n      <th>1306</th>\n      <td>female</td>\n      <td>C</td>\n      <td>1</td>\n      <td>0</td>\n      <td>0</td>\n      <td>3.2~4.2</td>\n      <td>40대</td>\n    </tr>\n    <tr>\n      <th>1307</th>\n      <td>male</td>\n      <td>S</td>\n      <td>3</td>\n      <td>0</td>\n      <td>0</td>\n      <td>1.2~2.2</td>\n      <td>40대</td>\n    </tr>\n    <tr>\n      <th>1308</th>\n      <td>male</td>\n      <td>S</td>\n      <td>3</td>\n      <td>0</td>\n      <td>0</td>\n      <td>1.2~2.2</td>\n      <td>20대</td>\n    </tr>\n    <tr>\n      <th>1309</th>\n      <td>male</td>\n      <td>C</td>\n      <td>3</td>\n      <td>1</td>\n      <td>1</td>\n      <td>2.2~3.2</td>\n      <td>20대</td>\n    </tr>\n  </tbody>\n</table>\n<p>1309 rows × 7 columns</p>\n</div>"
     },
     "execution_count": 149,
     "metadata": {},
     "output_type": "execute_result"
    }
   ],
   "source": [
    "all_data2 = pd.merge(all_data_obj , all_data_bin2, how='outer' , on=('PassengerId'))\n",
    "\n",
    "all_data2 = all_data2[['Sex' , 'Embarked' , 'Pclass' ,'SibSp' , 'Parch' , 'Fare_binned_범위' , 'Age_Categorical']]\n",
    "\n",
    "all_data2"
   ],
   "metadata": {
    "collapsed": false,
    "pycharm": {
     "name": "#%%\n"
    }
   }
  },
  {
   "cell_type": "markdown",
   "source": [
    "## 모델링"
   ],
   "metadata": {
    "collapsed": false,
    "pycharm": {
     "name": "#%% md\n"
    }
   }
  },
  {
   "cell_type": "code",
   "execution_count": 150,
   "outputs": [
    {
     "data": {
      "text/plain": "<1309x36 sparse matrix of type '<class 'numpy.float64'>'\n\twith 9163 stored elements in Compressed Sparse Row format>"
     },
     "execution_count": 150,
     "metadata": {},
     "output_type": "execute_result"
    }
   ],
   "source": [
    "from sklearn.preprocessing import OneHotEncoder\n",
    "\n",
    "encoder = OneHotEncoder() # 원-핫 인코더 생성\n",
    "\n",
    "all_data_encoded = encoder.fit_transform(all_data2)\n",
    "\n",
    "all_data_encoded"
   ],
   "metadata": {
    "collapsed": false,
    "pycharm": {
     "name": "#%%\n"
    }
   }
  },
  {
   "cell_type": "code",
   "execution_count": 151,
   "outputs": [],
   "source": [
    "num_train = len(train) # 훈련 데이터 개수\n",
    "\n",
    "# 훈련 데이터와 테스트 데이터 나누기\n",
    "\n",
    "X_train = all_data_encoded[:num_train] # 0~num_train -1 행\n",
    "X_test = all_data_encoded[num_train:] # num_train ~ 마지막 행\n",
    "\n",
    "y = train['Survived']"
   ],
   "metadata": {
    "collapsed": false,
    "pycharm": {
     "name": "#%%\n"
    }
   }
  },
  {
   "cell_type": "code",
   "execution_count": 152,
   "outputs": [],
   "source": [
    "from sklearn.model_selection import train_test_split\n",
    "\n",
    "# 훈련 데이터 , 검증 데이터 분리\n",
    "\n",
    "X_train , X_valid , y_train , y_valid = train_test_split(X_train , y , test_size=0.1 , stratify=y,random_state=10)\n",
    "\n",
    "# test_size 는 검증 데이터 크기를 지정하는 파라미터이다.\n",
    "# 값이 정수면 검증 데이터의 개수를 , 실수면 비율을 의미한다. 여기서는 0.1을 전달했으므로 10%를 검증 데이터로 분리하겠다는 의미이다.\n",
    "\n",
    "# stratify 파라미터를 지정하지 않으면 훈련 데이터와 검증 데이터에 타깃값이 불균형하게 분포 될 수 있다."
   ],
   "metadata": {
    "collapsed": false,
    "pycharm": {
     "name": "#%%\n"
    }
   }
  },
  {
   "cell_type": "code",
   "execution_count": 153,
   "outputs": [
    {
     "data": {
      "text/plain": "LogisticRegression(max_iter=1000, random_state=42)"
     },
     "execution_count": 153,
     "metadata": {},
     "output_type": "execute_result"
    }
   ],
   "source": [
    "from sklearn.linear_model import LogisticRegression\n",
    "\n",
    "logistic_model = LogisticRegression(max_iter = 1000 , random_state=42)\n",
    "logistic_model.fit(X_train,y_train) # 모델 훈련"
   ],
   "metadata": {
    "collapsed": false,
    "pycharm": {
     "name": "#%%\n"
    }
   }
  },
  {
   "cell_type": "code",
   "execution_count": 154,
   "outputs": [
    {
     "data": {
      "text/plain": "array([0, 1, 0, 0, 0, 0, 1, 1, 0, 0, 0, 0, 1, 0, 0, 0, 0, 1, 1, 0, 0, 1,\n       1, 0, 0, 0, 0, 0, 0, 1, 0, 1, 0, 0, 1, 0, 0, 0, 0, 0, 0, 1, 1, 0,\n       0, 0, 0, 1, 1, 1, 0, 1, 0, 1, 1, 1, 0, 1, 0, 0, 1, 0, 1, 0, 0, 0,\n       1, 1, 0, 0, 0, 1, 1, 1, 0, 1, 0, 0, 1, 0, 0, 0, 1, 0, 0, 0, 0, 0,\n       0, 1], dtype=int64)"
     },
     "execution_count": 154,
     "metadata": {},
     "output_type": "execute_result"
    }
   ],
   "source": [
    "logistic_model.predict(X_valid)"
   ],
   "metadata": {
    "collapsed": false,
    "pycharm": {
     "name": "#%%\n"
    }
   }
  },
  {
   "cell_type": "code",
   "execution_count": 155,
   "outputs": [
    {
     "name": "stdout",
     "output_type": "stream",
     "text": [
      "검증 데이터 ROC AUC : 0.8629\n"
     ]
    },
    {
     "data": {
      "text/plain": "array([0, 0, 0, 0, 0, 0, 1, 0, 1, 0, 0, 0, 1, 0, 1, 1, 0, 0, 1, 1, 0, 0,\n       1, 1, 1, 0, 1, 0, 0, 0, 0, 0, 1, 0, 1, 0, 1, 1, 0, 0, 0, 0, 0, 1,\n       1, 0, 0, 0, 1, 0, 0, 0, 1, 1, 0, 0, 0, 0, 0, 1, 0, 0, 0, 1, 1, 1,\n       1, 0, 1, 1, 1, 0, 1, 1, 1, 1, 0, 1, 0, 1, 0, 0, 0, 0, 0, 0, 1, 1,\n       1, 1, 1, 0, 1, 0, 0, 0, 1, 0, 1, 0, 1, 0, 0, 0, 1, 0, 0, 0, 0, 0,\n       0, 1, 1, 1, 1, 0, 0, 1, 1, 1, 1, 0, 1, 0, 0, 1, 0, 1, 0, 0, 0, 0,\n       0, 0, 0, 0, 0, 0, 1, 0, 0, 1, 0, 0, 0, 0, 0, 0, 0, 0, 1, 0, 0, 0,\n       0, 0, 1, 1, 0, 0, 1, 0, 1, 0, 0, 0, 0, 0, 1, 1, 0, 0, 0, 0, 0, 1,\n       1, 0, 1, 1, 0, 1, 1, 0, 1, 0, 1, 0, 0, 0, 0, 0, 0, 0, 1, 0, 1, 1,\n       0, 1, 1, 0, 0, 1, 0, 0, 1, 0, 1, 0, 0, 0, 0, 1, 0, 0, 1, 0, 1, 0,\n       1, 0, 1, 0, 1, 1, 0, 1, 0, 0, 0, 1, 0, 0, 1, 0, 0, 0, 1, 1, 1, 1,\n       0, 0, 0, 0, 1, 0, 1, 1, 1, 0, 1, 0, 0, 0, 0, 0, 1, 0, 0, 0, 1, 1,\n       0, 0, 0, 0, 1, 0, 0, 0, 1, 1, 0, 1, 0, 0, 0, 0, 1, 0, 1, 1, 1, 0,\n       0, 0, 0, 0, 0, 1, 0, 0, 0, 0, 1, 0, 1, 0, 0, 0, 0, 0, 1, 1, 0, 0,\n       0, 0, 0, 0, 0, 1, 1, 1, 0, 0, 0, 0, 0, 0, 0, 0, 1, 0, 1, 0, 0, 0,\n       1, 0, 0, 1, 0, 0, 0, 0, 0, 0, 0, 0, 0, 1, 0, 1, 0, 1, 0, 1, 1, 0,\n       0, 0, 1, 0, 1, 0, 0, 1, 0, 1, 1, 0, 1, 1, 0, 1, 1, 0, 0, 1, 0, 0,\n       1, 1, 1, 0, 0, 0, 0, 0, 1, 1, 0, 1, 0, 0, 0, 0, 0, 1, 0, 0, 0, 1,\n       0, 1, 0, 0, 1, 0, 1, 1, 0, 0, 0, 0, 1, 1, 1, 1, 1, 0, 1, 0, 0, 0],\n      dtype=int64)"
     },
     "execution_count": 155,
     "metadata": {},
     "output_type": "execute_result"
    }
   ],
   "source": [
    "# 검증 데이터를 활용한 타깃 예측\n",
    "\n",
    "y_valid_preds = logistic_model.predict_proba(X_valid)[:, 1]\n",
    "from sklearn.metrics import roc_auc_score  # ROC AUC 점수 계산 함수\n",
    "\n",
    "# 검증 데이터 ROC AUC\n",
    "\n",
    "roc_auc = roc_auc_score(y_valid, y_valid_preds)\n",
    "\n",
    "print(f'검증 데이터 ROC AUC : {roc_auc:.4f}')\n",
    "# 타깃값 1일 확룰 예측\n",
    "\n",
    "y_preds = logistic_model.predict(X_test)\n",
    "y_preds"
   ],
   "metadata": {
    "collapsed": false,
    "pycharm": {
     "name": "#%%\n"
    }
   }
  },
  {
   "cell_type": "code",
   "execution_count": 156,
   "outputs": [],
   "source": [
    "# 제출 파일 생성\n",
    "\n",
    "submission['Survived'] = y_preds\n",
    "submission.to_csv('submission_3.csv')"
   ],
   "metadata": {
    "collapsed": false,
    "pycharm": {
     "name": "#%%\n"
    }
   }
  },
  {
   "cell_type": "code",
   "execution_count": null,
   "outputs": [],
   "source": [],
   "metadata": {
    "collapsed": false,
    "pycharm": {
     "name": "#%%\n"
    }
   }
  }
 ],
 "metadata": {
  "kernelspec": {
   "display_name": "Python 3",
   "language": "python",
   "name": "python3"
  },
  "language_info": {
   "codemirror_mode": {
    "name": "ipython",
    "version": 2
   },
   "file_extension": ".py",
   "mimetype": "text/x-python",
   "name": "python",
   "nbconvert_exporter": "python",
   "pygments_lexer": "ipython2",
   "version": "2.7.6"
  }
 },
 "nbformat": 4,
 "nbformat_minor": 0
}