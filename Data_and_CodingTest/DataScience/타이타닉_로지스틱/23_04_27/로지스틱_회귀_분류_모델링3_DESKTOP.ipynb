{
 "cells": [
  {
   "cell_type": "code",
   "execution_count": 951,
   "outputs": [],
   "source": [
    "import itertools\n",
    "import platform\n",
    "import matplotlib\n",
    "import pandas as pd\n",
    "import matplotlib.pyplot as plt\n",
    "from matplotlib import font_manager, rc\n",
    "import seaborn as sns\n",
    "%precision 3\n",
    "from matplotlib import pyplot as plt\n",
    "%matplotlib inline\n",
    "#그래프를 주피터 놋북에 그리기 위해\n",
    "import numpy as np\n",
    "import copy\n",
    "from matplotlib import ticker\n",
    "from scipy.stats import probplot\n",
    "from scipy import stats\n",
    "import collections\n",
    "import itertools\n",
    "import math\n",
    "#from varname import nameof\n",
    "import sys\n",
    "from scipy import stats\n",
    "from scipy.stats import bernoulli\n",
    "import scipy\n",
    "from collections import deque\n",
    "from sympy import Symbol, solve\n",
    "\n",
    "#히스토그램 그리기\n",
    "# Window\n",
    "if platform.system() == 'Windows':\n",
    "    matplotlib.rc('font', family='Malgun Gothic')\n",
    "elif platform.system() == 'Darwin': # Mac\n",
    "    matplotlib.rc('font', family='AppleGothic')\n",
    "else: #linux\n",
    "    matplotlib.rc('font', family='NanumGothic')\n",
    "\n",
    "# 그래프에 마이너스 표시가 되도록 변경\n",
    "matplotlib.rcParams['axes.unicode_minus'] = False\n",
    "\n",
    "# 한글 폰트 설정\n",
    "font_location = 'C:/Windows/Fonts/MALGUNSL.TTF' #맑은고딕\n",
    "font_name = font_manager.FontProperties(fname=font_location).get_name()\n",
    "rc('font',family=font_name)"
   ],
   "metadata": {
    "collapsed": false,
    "pycharm": {
     "name": "#%%\n"
    }
   }
  },
  {
   "cell_type": "code",
   "execution_count": 952,
   "outputs": [],
   "source": [
    "import pandas as pd\n",
    "\n",
    "data_path = '../titanic/'\n",
    "\n",
    "train = pd.read_csv(data_path + 'train.csv' , index_col = 'PassengerId')\n",
    "test = pd.read_csv(data_path + 'test.csv' , index_col = 'PassengerId')\n",
    "submission = pd.read_csv(data_path + 'gender_submission.csv' , index_col= 'PassengerId')"
   ],
   "metadata": {
    "collapsed": false,
    "pycharm": {
     "name": "#%%\n"
    }
   }
  },
  {
   "cell_type": "code",
   "execution_count": 953,
   "outputs": [
    {
     "data": {
      "text/plain": "             Survived  Pclass  \\\nPassengerId                     \n1                   0       3   \n2                   1       1   \n3                   1       3   \n4                   1       1   \n5                   0       3   \n...               ...     ...   \n887                 0       2   \n888                 1       1   \n889                 0       3   \n890                 1       1   \n891                 0       3   \n\n                                                          Name     Sex   Age  \\\nPassengerId                                                                    \n1                                      Braund, Mr. Owen Harris    male  22.0   \n2            Cumings, Mrs. John Bradley (Florence Briggs Th...  female  38.0   \n3                                       Heikkinen, Miss. Laina  female  26.0   \n4                 Futrelle, Mrs. Jacques Heath (Lily May Peel)  female  35.0   \n5                                     Allen, Mr. William Henry    male  35.0   \n...                                                        ...     ...   ...   \n887                                      Montvila, Rev. Juozas    male  27.0   \n888                               Graham, Miss. Margaret Edith  female  19.0   \n889                   Johnston, Miss. Catherine Helen \"Carrie\"  female   NaN   \n890                                      Behr, Mr. Karl Howell    male  26.0   \n891                                        Dooley, Mr. Patrick    male  32.0   \n\n             SibSp  Parch            Ticket     Fare Cabin Embarked  \nPassengerId                                                          \n1                1      0         A/5 21171   7.2500   NaN        S  \n2                1      0          PC 17599  71.2833   C85        C  \n3                0      0  STON/O2. 3101282   7.9250   NaN        S  \n4                1      0            113803  53.1000  C123        S  \n5                0      0            373450   8.0500   NaN        S  \n...            ...    ...               ...      ...   ...      ...  \n887              0      0            211536  13.0000   NaN        S  \n888              0      0            112053  30.0000   B42        S  \n889              1      2        W./C. 6607  23.4500   NaN        S  \n890              0      0            111369  30.0000  C148        C  \n891              0      0            370376   7.7500   NaN        Q  \n\n[891 rows x 11 columns]",
      "text/html": "<div>\n<style scoped>\n    .dataframe tbody tr th:only-of-type {\n        vertical-align: middle;\n    }\n\n    .dataframe tbody tr th {\n        vertical-align: top;\n    }\n\n    .dataframe thead th {\n        text-align: right;\n    }\n</style>\n<table border=\"1\" class=\"dataframe\">\n  <thead>\n    <tr style=\"text-align: right;\">\n      <th></th>\n      <th>Survived</th>\n      <th>Pclass</th>\n      <th>Name</th>\n      <th>Sex</th>\n      <th>Age</th>\n      <th>SibSp</th>\n      <th>Parch</th>\n      <th>Ticket</th>\n      <th>Fare</th>\n      <th>Cabin</th>\n      <th>Embarked</th>\n    </tr>\n    <tr>\n      <th>PassengerId</th>\n      <th></th>\n      <th></th>\n      <th></th>\n      <th></th>\n      <th></th>\n      <th></th>\n      <th></th>\n      <th></th>\n      <th></th>\n      <th></th>\n      <th></th>\n    </tr>\n  </thead>\n  <tbody>\n    <tr>\n      <th>1</th>\n      <td>0</td>\n      <td>3</td>\n      <td>Braund, Mr. Owen Harris</td>\n      <td>male</td>\n      <td>22.0</td>\n      <td>1</td>\n      <td>0</td>\n      <td>A/5 21171</td>\n      <td>7.2500</td>\n      <td>NaN</td>\n      <td>S</td>\n    </tr>\n    <tr>\n      <th>2</th>\n      <td>1</td>\n      <td>1</td>\n      <td>Cumings, Mrs. John Bradley (Florence Briggs Th...</td>\n      <td>female</td>\n      <td>38.0</td>\n      <td>1</td>\n      <td>0</td>\n      <td>PC 17599</td>\n      <td>71.2833</td>\n      <td>C85</td>\n      <td>C</td>\n    </tr>\n    <tr>\n      <th>3</th>\n      <td>1</td>\n      <td>3</td>\n      <td>Heikkinen, Miss. Laina</td>\n      <td>female</td>\n      <td>26.0</td>\n      <td>0</td>\n      <td>0</td>\n      <td>STON/O2. 3101282</td>\n      <td>7.9250</td>\n      <td>NaN</td>\n      <td>S</td>\n    </tr>\n    <tr>\n      <th>4</th>\n      <td>1</td>\n      <td>1</td>\n      <td>Futrelle, Mrs. Jacques Heath (Lily May Peel)</td>\n      <td>female</td>\n      <td>35.0</td>\n      <td>1</td>\n      <td>0</td>\n      <td>113803</td>\n      <td>53.1000</td>\n      <td>C123</td>\n      <td>S</td>\n    </tr>\n    <tr>\n      <th>5</th>\n      <td>0</td>\n      <td>3</td>\n      <td>Allen, Mr. William Henry</td>\n      <td>male</td>\n      <td>35.0</td>\n      <td>0</td>\n      <td>0</td>\n      <td>373450</td>\n      <td>8.0500</td>\n      <td>NaN</td>\n      <td>S</td>\n    </tr>\n    <tr>\n      <th>...</th>\n      <td>...</td>\n      <td>...</td>\n      <td>...</td>\n      <td>...</td>\n      <td>...</td>\n      <td>...</td>\n      <td>...</td>\n      <td>...</td>\n      <td>...</td>\n      <td>...</td>\n      <td>...</td>\n    </tr>\n    <tr>\n      <th>887</th>\n      <td>0</td>\n      <td>2</td>\n      <td>Montvila, Rev. Juozas</td>\n      <td>male</td>\n      <td>27.0</td>\n      <td>0</td>\n      <td>0</td>\n      <td>211536</td>\n      <td>13.0000</td>\n      <td>NaN</td>\n      <td>S</td>\n    </tr>\n    <tr>\n      <th>888</th>\n      <td>1</td>\n      <td>1</td>\n      <td>Graham, Miss. Margaret Edith</td>\n      <td>female</td>\n      <td>19.0</td>\n      <td>0</td>\n      <td>0</td>\n      <td>112053</td>\n      <td>30.0000</td>\n      <td>B42</td>\n      <td>S</td>\n    </tr>\n    <tr>\n      <th>889</th>\n      <td>0</td>\n      <td>3</td>\n      <td>Johnston, Miss. Catherine Helen \"Carrie\"</td>\n      <td>female</td>\n      <td>NaN</td>\n      <td>1</td>\n      <td>2</td>\n      <td>W./C. 6607</td>\n      <td>23.4500</td>\n      <td>NaN</td>\n      <td>S</td>\n    </tr>\n    <tr>\n      <th>890</th>\n      <td>1</td>\n      <td>1</td>\n      <td>Behr, Mr. Karl Howell</td>\n      <td>male</td>\n      <td>26.0</td>\n      <td>0</td>\n      <td>0</td>\n      <td>111369</td>\n      <td>30.0000</td>\n      <td>C148</td>\n      <td>C</td>\n    </tr>\n    <tr>\n      <th>891</th>\n      <td>0</td>\n      <td>3</td>\n      <td>Dooley, Mr. Patrick</td>\n      <td>male</td>\n      <td>32.0</td>\n      <td>0</td>\n      <td>0</td>\n      <td>370376</td>\n      <td>7.7500</td>\n      <td>NaN</td>\n      <td>Q</td>\n    </tr>\n  </tbody>\n</table>\n<p>891 rows × 11 columns</p>\n</div>"
     },
     "execution_count": 953,
     "metadata": {},
     "output_type": "execute_result"
    }
   ],
   "source": [
    "train"
   ],
   "metadata": {
    "collapsed": false,
    "pycharm": {
     "name": "#%%\n"
    }
   }
  },
  {
   "cell_type": "code",
   "execution_count": 954,
   "outputs": [
    {
     "name": "stdout",
     "output_type": "stream",
     "text": [
      "<class 'pandas.core.frame.DataFrame'>\n",
      "Int64Index: 891 entries, 1 to 891\n",
      "Data columns (total 11 columns):\n",
      " #   Column    Non-Null Count  Dtype  \n",
      "---  ------    --------------  -----  \n",
      " 0   Survived  891 non-null    int64  \n",
      " 1   Pclass    891 non-null    int64  \n",
      " 2   Name      891 non-null    object \n",
      " 3   Sex       891 non-null    object \n",
      " 4   Age       714 non-null    float64\n",
      " 5   SibSp     891 non-null    int64  \n",
      " 6   Parch     891 non-null    int64  \n",
      " 7   Ticket    891 non-null    object \n",
      " 8   Fare      891 non-null    float64\n",
      " 9   Cabin     204 non-null    object \n",
      " 10  Embarked  889 non-null    object \n",
      "dtypes: float64(2), int64(4), object(5)\n",
      "memory usage: 83.5+ KB\n"
     ]
    }
   ],
   "source": [
    "train.info()"
   ],
   "metadata": {
    "collapsed": false,
    "pycharm": {
     "name": "#%%\n"
    }
   }
  },
  {
   "cell_type": "code",
   "execution_count": 955,
   "outputs": [
    {
     "name": "stdout",
     "output_type": "stream",
     "text": [
      "<class 'pandas.core.frame.DataFrame'>\n",
      "Int64Index: 418 entries, 892 to 1309\n",
      "Data columns (total 10 columns):\n",
      " #   Column    Non-Null Count  Dtype  \n",
      "---  ------    --------------  -----  \n",
      " 0   Pclass    418 non-null    int64  \n",
      " 1   Name      418 non-null    object \n",
      " 2   Sex       418 non-null    object \n",
      " 3   Age       332 non-null    float64\n",
      " 4   SibSp     418 non-null    int64  \n",
      " 5   Parch     418 non-null    int64  \n",
      " 6   Ticket    418 non-null    object \n",
      " 7   Fare      417 non-null    float64\n",
      " 8   Cabin     91 non-null     object \n",
      " 9   Embarked  418 non-null    object \n",
      "dtypes: float64(2), int64(3), object(5)\n",
      "memory usage: 35.9+ KB\n"
     ]
    }
   ],
   "source": [
    "test.info()"
   ],
   "metadata": {
    "collapsed": false,
    "pycharm": {
     "name": "#%%\n"
    }
   }
  },
  {
   "cell_type": "code",
   "execution_count": 956,
   "outputs": [
    {
     "data": {
      "text/plain": "             Survived\nPassengerId          \n892                 0\n893                 1\n894                 0\n895                 0\n896                 1\n...               ...\n1305                0\n1306                1\n1307                0\n1308                0\n1309                0\n\n[418 rows x 1 columns]",
      "text/html": "<div>\n<style scoped>\n    .dataframe tbody tr th:only-of-type {\n        vertical-align: middle;\n    }\n\n    .dataframe tbody tr th {\n        vertical-align: top;\n    }\n\n    .dataframe thead th {\n        text-align: right;\n    }\n</style>\n<table border=\"1\" class=\"dataframe\">\n  <thead>\n    <tr style=\"text-align: right;\">\n      <th></th>\n      <th>Survived</th>\n    </tr>\n    <tr>\n      <th>PassengerId</th>\n      <th></th>\n    </tr>\n  </thead>\n  <tbody>\n    <tr>\n      <th>892</th>\n      <td>0</td>\n    </tr>\n    <tr>\n      <th>893</th>\n      <td>1</td>\n    </tr>\n    <tr>\n      <th>894</th>\n      <td>0</td>\n    </tr>\n    <tr>\n      <th>895</th>\n      <td>0</td>\n    </tr>\n    <tr>\n      <th>896</th>\n      <td>1</td>\n    </tr>\n    <tr>\n      <th>...</th>\n      <td>...</td>\n    </tr>\n    <tr>\n      <th>1305</th>\n      <td>0</td>\n    </tr>\n    <tr>\n      <th>1306</th>\n      <td>1</td>\n    </tr>\n    <tr>\n      <th>1307</th>\n      <td>0</td>\n    </tr>\n    <tr>\n      <th>1308</th>\n      <td>0</td>\n    </tr>\n    <tr>\n      <th>1309</th>\n      <td>0</td>\n    </tr>\n  </tbody>\n</table>\n<p>418 rows × 1 columns</p>\n</div>"
     },
     "execution_count": 956,
     "metadata": {},
     "output_type": "execute_result"
    }
   ],
   "source": [
    "submission"
   ],
   "metadata": {
    "collapsed": false,
    "pycharm": {
     "name": "#%%\n"
    }
   }
  },
  {
   "cell_type": "code",
   "execution_count": 957,
   "outputs": [
    {
     "data": {
      "text/plain": "             Pclass                                               Name  \\\nPassengerId                                                              \n1                 3                            Braund, Mr. Owen Harris   \n2                 1  Cumings, Mrs. John Bradley (Florence Briggs Th...   \n3                 3                             Heikkinen, Miss. Laina   \n4                 1       Futrelle, Mrs. Jacques Heath (Lily May Peel)   \n5                 3                           Allen, Mr. William Henry   \n...             ...                                                ...   \n1305              3                                 Spector, Mr. Woolf   \n1306              1                       Oliva y Ocana, Dona. Fermina   \n1307              3                       Saether, Mr. Simon Sivertsen   \n1308              3                                Ware, Mr. Frederick   \n1309              3                           Peter, Master. Michael J   \n\n                Sex   Age  SibSp  Parch              Ticket      Fare Cabin  \\\nPassengerId                                                                   \n1              male  22.0      1      0           A/5 21171    7.2500   NaN   \n2            female  38.0      1      0            PC 17599   71.2833   C85   \n3            female  26.0      0      0    STON/O2. 3101282    7.9250   NaN   \n4            female  35.0      1      0              113803   53.1000  C123   \n5              male  35.0      0      0              373450    8.0500   NaN   \n...             ...   ...    ...    ...                 ...       ...   ...   \n1305           male   NaN      0      0           A.5. 3236    8.0500   NaN   \n1306         female  39.0      0      0            PC 17758  108.9000  C105   \n1307           male  38.5      0      0  SOTON/O.Q. 3101262    7.2500   NaN   \n1308           male   NaN      0      0              359309    8.0500   NaN   \n1309           male   NaN      1      1                2668   22.3583   NaN   \n\n            Embarked  \nPassengerId           \n1                  S  \n2                  C  \n3                  S  \n4                  S  \n5                  S  \n...              ...  \n1305               S  \n1306               C  \n1307               S  \n1308               S  \n1309               C  \n\n[1309 rows x 10 columns]",
      "text/html": "<div>\n<style scoped>\n    .dataframe tbody tr th:only-of-type {\n        vertical-align: middle;\n    }\n\n    .dataframe tbody tr th {\n        vertical-align: top;\n    }\n\n    .dataframe thead th {\n        text-align: right;\n    }\n</style>\n<table border=\"1\" class=\"dataframe\">\n  <thead>\n    <tr style=\"text-align: right;\">\n      <th></th>\n      <th>Pclass</th>\n      <th>Name</th>\n      <th>Sex</th>\n      <th>Age</th>\n      <th>SibSp</th>\n      <th>Parch</th>\n      <th>Ticket</th>\n      <th>Fare</th>\n      <th>Cabin</th>\n      <th>Embarked</th>\n    </tr>\n    <tr>\n      <th>PassengerId</th>\n      <th></th>\n      <th></th>\n      <th></th>\n      <th></th>\n      <th></th>\n      <th></th>\n      <th></th>\n      <th></th>\n      <th></th>\n      <th></th>\n    </tr>\n  </thead>\n  <tbody>\n    <tr>\n      <th>1</th>\n      <td>3</td>\n      <td>Braund, Mr. Owen Harris</td>\n      <td>male</td>\n      <td>22.0</td>\n      <td>1</td>\n      <td>0</td>\n      <td>A/5 21171</td>\n      <td>7.2500</td>\n      <td>NaN</td>\n      <td>S</td>\n    </tr>\n    <tr>\n      <th>2</th>\n      <td>1</td>\n      <td>Cumings, Mrs. John Bradley (Florence Briggs Th...</td>\n      <td>female</td>\n      <td>38.0</td>\n      <td>1</td>\n      <td>0</td>\n      <td>PC 17599</td>\n      <td>71.2833</td>\n      <td>C85</td>\n      <td>C</td>\n    </tr>\n    <tr>\n      <th>3</th>\n      <td>3</td>\n      <td>Heikkinen, Miss. Laina</td>\n      <td>female</td>\n      <td>26.0</td>\n      <td>0</td>\n      <td>0</td>\n      <td>STON/O2. 3101282</td>\n      <td>7.9250</td>\n      <td>NaN</td>\n      <td>S</td>\n    </tr>\n    <tr>\n      <th>4</th>\n      <td>1</td>\n      <td>Futrelle, Mrs. Jacques Heath (Lily May Peel)</td>\n      <td>female</td>\n      <td>35.0</td>\n      <td>1</td>\n      <td>0</td>\n      <td>113803</td>\n      <td>53.1000</td>\n      <td>C123</td>\n      <td>S</td>\n    </tr>\n    <tr>\n      <th>5</th>\n      <td>3</td>\n      <td>Allen, Mr. William Henry</td>\n      <td>male</td>\n      <td>35.0</td>\n      <td>0</td>\n      <td>0</td>\n      <td>373450</td>\n      <td>8.0500</td>\n      <td>NaN</td>\n      <td>S</td>\n    </tr>\n    <tr>\n      <th>...</th>\n      <td>...</td>\n      <td>...</td>\n      <td>...</td>\n      <td>...</td>\n      <td>...</td>\n      <td>...</td>\n      <td>...</td>\n      <td>...</td>\n      <td>...</td>\n      <td>...</td>\n    </tr>\n    <tr>\n      <th>1305</th>\n      <td>3</td>\n      <td>Spector, Mr. Woolf</td>\n      <td>male</td>\n      <td>NaN</td>\n      <td>0</td>\n      <td>0</td>\n      <td>A.5. 3236</td>\n      <td>8.0500</td>\n      <td>NaN</td>\n      <td>S</td>\n    </tr>\n    <tr>\n      <th>1306</th>\n      <td>1</td>\n      <td>Oliva y Ocana, Dona. Fermina</td>\n      <td>female</td>\n      <td>39.0</td>\n      <td>0</td>\n      <td>0</td>\n      <td>PC 17758</td>\n      <td>108.9000</td>\n      <td>C105</td>\n      <td>C</td>\n    </tr>\n    <tr>\n      <th>1307</th>\n      <td>3</td>\n      <td>Saether, Mr. Simon Sivertsen</td>\n      <td>male</td>\n      <td>38.5</td>\n      <td>0</td>\n      <td>0</td>\n      <td>SOTON/O.Q. 3101262</td>\n      <td>7.2500</td>\n      <td>NaN</td>\n      <td>S</td>\n    </tr>\n    <tr>\n      <th>1308</th>\n      <td>3</td>\n      <td>Ware, Mr. Frederick</td>\n      <td>male</td>\n      <td>NaN</td>\n      <td>0</td>\n      <td>0</td>\n      <td>359309</td>\n      <td>8.0500</td>\n      <td>NaN</td>\n      <td>S</td>\n    </tr>\n    <tr>\n      <th>1309</th>\n      <td>3</td>\n      <td>Peter, Master. Michael J</td>\n      <td>male</td>\n      <td>NaN</td>\n      <td>1</td>\n      <td>1</td>\n      <td>2668</td>\n      <td>22.3583</td>\n      <td>NaN</td>\n      <td>C</td>\n    </tr>\n  </tbody>\n</table>\n<p>1309 rows × 10 columns</p>\n</div>"
     },
     "execution_count": 957,
     "metadata": {},
     "output_type": "execute_result"
    }
   ],
   "source": [
    "all_data = pd.concat([train,test]) # 훈련 데이터와 테스트 데이터 합치기\n",
    "all_data = all_data.drop('Survived' , axis = 1) # 타깃값 제거\n",
    "all_data"
   ],
   "metadata": {
    "collapsed": false,
    "pycharm": {
     "name": "#%%\n"
    }
   }
  },
  {
   "cell_type": "markdown",
   "source": [
    "## AGE 에 대해 NaN 값 처리"
   ],
   "metadata": {
    "collapsed": false,
    "pycharm": {
     "name": "#%% md\n"
    }
   }
  },
  {
   "cell_type": "code",
   "execution_count": 958,
   "outputs": [],
   "source": [
    "# all_data['Name'] = list(map(lambda x : x.split()[1][:-1] , all_data['Name']))\n",
    "# all_data['Name'].unique()"
   ],
   "metadata": {
    "collapsed": false,
    "pycharm": {
     "name": "#%%\n"
    }
   }
  },
  {
   "cell_type": "code",
   "execution_count": 958,
   "outputs": [],
   "source": [],
   "metadata": {
    "collapsed": false,
    "pycharm": {
     "name": "#%%\n"
    }
   }
  },
  {
   "cell_type": "code",
   "execution_count": 959,
   "outputs": [
    {
     "data": {
      "text/plain": "PassengerId\n1                                 Braund, Mr. Owen Harris\n2       Cumings, Mrs. John Bradley (Florence Briggs Th...\n3                                  Heikkinen, Miss. Laina\n4            Futrelle, Mrs. Jacques Heath (Lily May Peel)\n5                                Allen, Mr. William Henry\n                              ...                        \n1305                                   Spector, Mr. Woolf\n1306                         Oliva y Ocana, Dona. Fermina\n1307                         Saether, Mr. Simon Sivertsen\n1308                                  Ware, Mr. Frederick\n1309                             Peter, Master. Michael J\nName: Name, Length: 1309, dtype: object"
     },
     "execution_count": 959,
     "metadata": {},
     "output_type": "execute_result"
    }
   ],
   "source": [
    "all_data['Name']"
   ],
   "metadata": {
    "collapsed": false,
    "pycharm": {
     "name": "#%%\n"
    }
   }
  },
  {
   "cell_type": "code",
   "execution_count": 960,
   "outputs": [],
   "source": [
    "# all_data['Name'] = all_data['Name'].apply(lambda x: x if x.split()[1][:-1] not in ['Mr', 'Miss', 'Mrs','Master'] else x.split()[1][:-1])\n",
    "# all_data['Name'].unique()"
   ],
   "metadata": {
    "collapsed": false,
    "pycharm": {
     "name": "#%%\n"
    }
   }
  },
  {
   "cell_type": "code",
   "execution_count": 961,
   "outputs": [
    {
     "name": "stdout",
     "output_type": "stream",
     "text": [
      "PassengerId\n",
      "1           Mr\n",
      "2          Mrs\n",
      "3         Miss\n",
      "4          Mrs\n",
      "5           Mr\n",
      "         ...  \n",
      "1305        Mr\n",
      "1306      Dona\n",
      "1307        Mr\n",
      "1308        Mr\n",
      "1309    Master\n",
      "Name: Occupation, Length: 1309, dtype: object\n"
     ]
    }
   ],
   "source": [
    "all_data[\"Occupation\"] = all_data[\"Name\"].str.split(\",|\\\\.\").str[1].str.strip()\n",
    "\n",
    "# 직업 정보를 출력합니다.\n",
    "print(all_data[\"Occupation\"])"
   ],
   "metadata": {
    "collapsed": false,
    "pycharm": {
     "name": "#%%\n"
    }
   }
  },
  {
   "cell_type": "code",
   "execution_count": 962,
   "outputs": [
    {
     "data": {
      "text/plain": "array(['Mr', 'Mrs', 'Miss', 'Master', 'Don', 'Rev', 'Dr', 'Mme', 'Ms',\n       'Major', 'Lady', 'Sir', 'Mlle', 'Col', 'Capt', 'the Countess',\n       'Jonkheer', 'Dona'], dtype=object)"
     },
     "execution_count": 962,
     "metadata": {},
     "output_type": "execute_result"
    }
   ],
   "source": [
    "all_data['Occupation'].unique()"
   ],
   "metadata": {
    "collapsed": false,
    "pycharm": {
     "name": "#%%\n"
    }
   }
  },
  {
   "cell_type": "code",
   "execution_count": 963,
   "outputs": [
    {
     "data": {
      "text/plain": "array(['Don', 'Rev', 'Dr', 'Mme', 'Ms', 'Major', 'Lady', 'Sir', 'Mlle',\n       'Col', 'Capt', 'the Countess', 'Jonkheer'], dtype=object)"
     },
     "execution_count": 963,
     "metadata": {},
     "output_type": "execute_result"
    }
   ],
   "source": [
    "t = all_data['Occupation'].unique()[4:-1]\n",
    "t"
   ],
   "metadata": {
    "collapsed": false,
    "pycharm": {
     "name": "#%%\n"
    }
   }
  },
  {
   "cell_type": "code",
   "execution_count": 963,
   "outputs": [],
   "source": [],
   "metadata": {
    "collapsed": false,
    "pycharm": {
     "name": "#%%\n"
    }
   }
  },
  {
   "cell_type": "code",
   "execution_count": 964,
   "outputs": [
    {
     "name": "stdout",
     "output_type": "stream",
     "text": [
      "             Pclass                                         Name     Sex  \\\n",
      "PassengerId                                                                \n",
      "31                1                     Uruchurtu, Don. Manuel E    male   \n",
      "545               1                   Douglas, Mr. Walter Donald    male   \n",
      "980               3                      O'Donoghue, Ms. Bridget  female   \n",
      "1131              1  Douglas, Mrs. Walter Donald (Mahala Dutton)  female   \n",
      "1306              1                 Oliva y Ocana, Dona. Fermina  female   \n",
      "\n",
      "              Age  SibSp  Parch    Ticket      Fare Cabin Embarked Occupation  \n",
      "PassengerId                                                                    \n",
      "31           40.0      0      0  PC 17601   27.7208   NaN        C        Don  \n",
      "545          50.0      1      0  PC 17761  106.4250   C86        C         Mr  \n",
      "980           NaN      0      0    364856    7.7500   NaN        Q         Ms  \n",
      "1131         48.0      1      0  PC 17761  106.4250   C86        C        Mrs  \n",
      "1306         39.0      0      0  PC 17758  108.9000  C105        C       Dona  \n",
      "             Pclass                               Name   Sex   Age  SibSp  \\\n",
      "PassengerId                                                                 \n",
      "150               2  Byles, Rev. Thomas Roussel Davids  male  42.0      0   \n",
      "151               2         Bateman, Rev. Robert James  male  51.0      0   \n",
      "250               2      Carter, Rev. Ernest Courtenay  male  54.0      1   \n",
      "627               2     Kirkland, Rev. Charles Leonard  male  57.0      0   \n",
      "849               2                  Harper, Rev. John  male  28.0      0   \n",
      "887               2              Montvila, Rev. Juozas  male  27.0      0   \n",
      "1041              2             Lahtinen, Rev. William  male  30.0      1   \n",
      "1056              2      Peruschitz, Rev. Joseph Maria  male  41.0      0   \n",
      "\n",
      "             Parch       Ticket    Fare Cabin Embarked Occupation  \n",
      "PassengerId                                                        \n",
      "150              0       244310  13.000   NaN        S        Rev  \n",
      "151              0  S.O.P. 1166  12.525   NaN        S        Rev  \n",
      "250              0       244252  26.000   NaN        S        Rev  \n",
      "627              0       219533  12.350   NaN        Q        Rev  \n",
      "849              1       248727  33.000   NaN        S        Rev  \n",
      "887              0       211536  13.000   NaN        S        Rev  \n",
      "1041             1       250651  26.000   NaN        S        Rev  \n",
      "1056             0       237393  13.000   NaN        S        Rev  \n",
      "             Pclass                                               Name  \\\n",
      "PassengerId                                                              \n",
      "48                3                          O'Driscoll, Miss. Bridget   \n",
      "131               3                               Drazenoic, Mr. Jozef   \n",
      "246               1                        Minahan, Dr. William Edward   \n",
      "318               2                               Moraweck, Dr. Ernest   \n",
      "399               2                                   Pain, Dr. Alfred   \n",
      "417               2    Drew, Mrs. James Vivian (Lulu Thorne Christian)   \n",
      "633               1                          Stahelin-Maeglin, Dr. Max   \n",
      "661               1                      Frauenthal, Dr. Henry William   \n",
      "680               1                 Cardeza, Mr. Thomas Drake Martinez   \n",
      "767               1                          Brewe, Dr. Arthur Jackson   \n",
      "797               1                        Leader, Dr. Alice (Farnham)   \n",
      "1030              3                              Drapkin, Miss. Jennie   \n",
      "1086              2                      Drew, Master. Marshall Brines   \n",
      "1139              2                             Drew, Mr. James Vivian   \n",
      "1185              1                              Dodge, Dr. Washington   \n",
      "1235              1  Cardeza, Mrs. James Warburton Martinez (Charlo...   \n",
      "1297              2       Nourney, Mr. Alfred (Baron von Drachstedt\")\"   \n",
      "\n",
      "                Sex   Age  SibSp  Parch           Ticket      Fare  \\\n",
      "PassengerId                                                          \n",
      "48           female   NaN      0      0            14311    7.7500   \n",
      "131            male  33.0      0      0           349241    7.8958   \n",
      "246            male  44.0      2      0            19928   90.0000   \n",
      "318            male  54.0      0      0            29011   14.0000   \n",
      "399            male  23.0      0      0           244278   10.5000   \n",
      "417          female  34.0      1      1            28220   32.5000   \n",
      "633            male  32.0      0      0            13214   30.5000   \n",
      "661            male  50.0      2      0         PC 17611  133.6500   \n",
      "680            male  36.0      0      1         PC 17755  512.3292   \n",
      "767            male   NaN      0      0           112379   39.6000   \n",
      "797          female  49.0      0      0            17465   25.9292   \n",
      "1030         female  23.0      0      0  SOTON/OQ 392083    8.0500   \n",
      "1086           male   8.0      0      2            28220   32.5000   \n",
      "1139           male  42.0      1      1            28220   32.5000   \n",
      "1185           male  53.0      1      1            33638   81.8583   \n",
      "1235         female  58.0      0      1         PC 17755  512.3292   \n",
      "1297           male  20.0      0      0    SC/PARIS 2166   13.8625   \n",
      "\n",
      "                   Cabin Embarked Occupation  \n",
      "PassengerId                                   \n",
      "48                   NaN        Q       Miss  \n",
      "131                  NaN        C         Mr  \n",
      "246                  C78        Q         Dr  \n",
      "318                  NaN        S         Dr  \n",
      "399                  NaN        S         Dr  \n",
      "417                  NaN        S        Mrs  \n",
      "633                  B50        C         Dr  \n",
      "661                  NaN        S         Dr  \n",
      "680          B51 B53 B55        C         Mr  \n",
      "767                  NaN        C         Dr  \n",
      "797                  D17        S         Dr  \n",
      "1030                 NaN        S       Miss  \n",
      "1086                 NaN        S     Master  \n",
      "1139                 NaN        S         Mr  \n",
      "1185                 A34        S         Dr  \n",
      "1235         B51 B53 B55        C        Mrs  \n",
      "1297                 D38        C         Mr  \n",
      "             Pclass                           Name     Sex   Age  SibSp  \\\n",
      "PassengerId                                                               \n",
      "370               1  Aubart, Mme. Leontine Pauline  female  24.0      0   \n",
      "\n",
      "             Parch    Ticket  Fare Cabin Embarked Occupation  \n",
      "PassengerId                                                   \n",
      "370              0  PC 17477  69.3   B35        C        Mme  \n",
      "             Pclass                       Name     Sex   Age  SibSp  Parch  \\\n",
      "PassengerId                                                                  \n",
      "444               2  Reynaldo, Ms. Encarnacion  female  28.0      0      0   \n",
      "980               3    O'Donoghue, Ms. Bridget  female   NaN      0      0   \n",
      "\n",
      "             Ticket   Fare Cabin Embarked Occupation  \n",
      "PassengerId                                           \n",
      "444          230434  13.00   NaN        S         Ms  \n",
      "980          364856   7.75   NaN        Q         Ms  \n",
      "             Pclass                               Name   Sex   Age  SibSp  \\\n",
      "PassengerId                                                                 \n",
      "450               1     Peuchen, Major. Arthur Godfrey  male  52.0      0   \n",
      "537               1  Butt, Major. Archibald Willingham  male  45.0      0   \n",
      "\n",
      "             Parch  Ticket   Fare Cabin Embarked Occupation  \n",
      "PassengerId                                                  \n",
      "450              0  113786  30.50  C104        S      Major  \n",
      "537              0  113050  26.55   B38        S      Major  \n",
      "             Pclass                                               Name  \\\n",
      "PassengerId                                                              \n",
      "557               1  Duff Gordon, Lady. (Lucille Christiana Sutherl...   \n",
      "\n",
      "                Sex   Age  SibSp  Parch Ticket  Fare Cabin Embarked Occupation  \n",
      "PassengerId                                                                     \n",
      "557          female  48.0      1      0  11755  39.6   A16        C       Lady  \n",
      "             Pclass                                          Name   Sex   Age  \\\n",
      "PassengerId                                                                     \n",
      "61                3                         Sirayanian, Mr. Orsen  male  22.0   \n",
      "600               1  Duff Gordon, Sir. Cosmo Edmund (\"Mr Morgan\")  male  49.0   \n",
      "838               3                           Sirota, Mr. Maurice  male   NaN   \n",
      "\n",
      "             SibSp  Parch    Ticket     Fare Cabin Embarked Occupation  \n",
      "PassengerId                                                             \n",
      "61               0      0      2669   7.2292   NaN        C         Mr  \n",
      "600              1      0  PC 17485  56.9292   A20        C        Sir  \n",
      "838              0      0    392092   8.0500   NaN        S         Mr  \n",
      "             Pclass                                              Name     Sex  \\\n",
      "PassengerId                                                                     \n",
      "642               1                              Sagesser, Mlle. Emma  female   \n",
      "711               1  Mayne, Mlle. Berthe Antonine (\"Mrs de Villiers\")  female   \n",
      "\n",
      "              Age  SibSp  Parch    Ticket     Fare Cabin Embarked Occupation  \n",
      "PassengerId                                                                   \n",
      "642          24.0      0      0  PC 17477  69.3000   B35        C       Mlle  \n",
      "711          24.0      0      0  PC 17482  49.5042   C90        C       Mlle  \n",
      "             Pclass                                         Name     Sex  \\\n",
      "PassengerId                                                                \n",
      "238               2             Collyer, Miss. Marjorie \"Lottie\"  female   \n",
      "243               2              Coleridge, Mr. Reginald Charles    male   \n",
      "343               2                   Collander, Mr. Erik Gustaf    male   \n",
      "515               3                            Coleff, Mr. Satio    male   \n",
      "638               2                          Collyer, Mr. Harvey    male   \n",
      "648               1          Simonius-Blumer, Col. Oberst Alfons    male   \n",
      "663               1                   Colley, Mr. Edward Pomeroy    male   \n",
      "664               3                             Coleff, Mr. Peju    male   \n",
      "695               1                              Weir, Col. John    male   \n",
      "802               2  Collyer, Mrs. Harvey (Charlotte Annie Tate)  female   \n",
      "935               2        Corbett, Mrs. Walter H (Irene Colvin)  female   \n",
      "1023              1                    Gracie, Col. Archibald IV    male   \n",
      "1094              1                       Astor, Col. John Jacob    male   \n",
      "1099              2                 Collett, Mr. Sidney C Stuart    male   \n",
      "1288              3                         Colbert, Mr. Patrick    male   \n",
      "\n",
      "              Age  SibSp  Parch       Ticket      Fare    Cabin Embarked  \\\n",
      "PassengerId                                                                \n",
      "238           8.0      0      2   C.A. 31921   26.2500      NaN        S   \n",
      "243          29.0      0      0  W./C. 14263   10.5000      NaN        S   \n",
      "343          28.0      0      0       248740   13.0000      NaN        S   \n",
      "515          24.0      0      0       349209    7.4958      NaN        S   \n",
      "638          31.0      1      1   C.A. 31921   26.2500      NaN        S   \n",
      "648          56.0      0      0        13213   35.5000      A26        C   \n",
      "663          47.0      0      0         5727   25.5875      E58        S   \n",
      "664          36.0      0      0       349210    7.4958      NaN        S   \n",
      "695          60.0      0      0       113800   26.5500      NaN        S   \n",
      "802          31.0      1      1   C.A. 31921   26.2500      NaN        S   \n",
      "935          30.0      0      0       237249   13.0000      NaN        S   \n",
      "1023         53.0      0      0       113780   28.5000      C51        C   \n",
      "1094         47.0      1      0     PC 17757  227.5250  C62 C64        C   \n",
      "1099         24.0      0      0        28034   10.5000      NaN        S   \n",
      "1288         24.0      0      0       371109    7.2500      NaN        Q   \n",
      "\n",
      "            Occupation  \n",
      "PassengerId             \n",
      "238               Miss  \n",
      "243                 Mr  \n",
      "343                 Mr  \n",
      "515                 Mr  \n",
      "638                 Mr  \n",
      "648                Col  \n",
      "663                 Mr  \n",
      "664                 Mr  \n",
      "695                Col  \n",
      "802                Mrs  \n",
      "935                Mrs  \n",
      "1023               Col  \n",
      "1094               Col  \n",
      "1099                Mr  \n",
      "1288                Mr  \n",
      "             Pclass                          Name   Sex   Age  SibSp  Parch  \\\n",
      "PassengerId                                                                   \n",
      "746               1  Crosby, Capt. Edward Gifford  male  70.0      1      1   \n",
      "\n",
      "                Ticket  Fare Cabin Embarked Occupation  \n",
      "PassengerId                                             \n",
      "746          WE/P 5735  71.0   B22        S       Capt  \n",
      "             Pclass                                               Name  \\\n",
      "PassengerId                                                              \n",
      "760               1  Rothes, the Countess. of (Lucy Noel Martha Dye...   \n",
      "\n",
      "                Sex   Age  SibSp  Parch  Ticket  Fare Cabin Embarked  \\\n",
      "PassengerId                                                            \n",
      "760          female  33.0      0      0  110152  86.5   B77        S   \n",
      "\n",
      "               Occupation  \n",
      "PassengerId                \n",
      "760          the Countess  \n",
      "             Pclass                             Name   Sex   Age  SibSp  \\\n",
      "PassengerId                                                               \n",
      "823               1  Reuchlin, Jonkheer. John George  male  38.0      0   \n",
      "\n",
      "             Parch Ticket  Fare Cabin Embarked Occupation  \n",
      "PassengerId                                                \n",
      "823              0  19972   0.0   NaN        S   Jonkheer  \n"
     ]
    }
   ],
   "source": [
    "for i in t:\n",
    "\n",
    "    print(all_data[all_data[\"Name\"].str.contains(i)])"
   ],
   "metadata": {
    "collapsed": false,
    "pycharm": {
     "name": "#%%\n"
    }
   }
  },
  {
   "cell_type": "code",
   "execution_count": 964,
   "outputs": [],
   "source": [],
   "metadata": {
    "collapsed": false,
    "pycharm": {
     "name": "#%%\n"
    }
   }
  },
  {
   "cell_type": "code",
   "execution_count": 965,
   "outputs": [],
   "source": [
    "all_data['Name'] =all_data['Occupation']"
   ],
   "metadata": {
    "collapsed": false,
    "pycharm": {
     "name": "#%%\n"
    }
   }
  },
  {
   "cell_type": "code",
   "execution_count": 966,
   "outputs": [
    {
     "data": {
      "text/plain": "             Pclass  Name     Sex   Age  SibSp  Parch              Ticket  \\\nPassengerId                                                                 \n1                 3    Mr    male  22.0      1      0           A/5 21171   \n2                 1   Mrs  female  38.0      1      0            PC 17599   \n3                 3  Miss  female  26.0      0      0    STON/O2. 3101282   \n4                 1   Mrs  female  35.0      1      0              113803   \n5                 3    Mr    male  35.0      0      0              373450   \n...             ...   ...     ...   ...    ...    ...                 ...   \n1305              3    Mr    male   NaN      0      0           A.5. 3236   \n1306              1  baby  female  39.0      0      0            PC 17758   \n1307              3    Mr    male  38.5      0      0  SOTON/O.Q. 3101262   \n1308              3    Mr    male   NaN      0      0              359309   \n1309              3  baby    male   NaN      1      1                2668   \n\n                 Fare Cabin Embarked Occupation  \nPassengerId                                      \n1              7.2500   NaN        S         Mr  \n2             71.2833   C85        C        Mrs  \n3              7.9250   NaN        S       Miss  \n4             53.1000  C123        S        Mrs  \n5              8.0500   NaN        S         Mr  \n...               ...   ...      ...        ...  \n1305           8.0500   NaN        S         Mr  \n1306         108.9000  C105        C       Dona  \n1307           7.2500   NaN        S         Mr  \n1308           8.0500   NaN        S         Mr  \n1309          22.3583   NaN        C     Master  \n\n[1309 rows x 11 columns]",
      "text/html": "<div>\n<style scoped>\n    .dataframe tbody tr th:only-of-type {\n        vertical-align: middle;\n    }\n\n    .dataframe tbody tr th {\n        vertical-align: top;\n    }\n\n    .dataframe thead th {\n        text-align: right;\n    }\n</style>\n<table border=\"1\" class=\"dataframe\">\n  <thead>\n    <tr style=\"text-align: right;\">\n      <th></th>\n      <th>Pclass</th>\n      <th>Name</th>\n      <th>Sex</th>\n      <th>Age</th>\n      <th>SibSp</th>\n      <th>Parch</th>\n      <th>Ticket</th>\n      <th>Fare</th>\n      <th>Cabin</th>\n      <th>Embarked</th>\n      <th>Occupation</th>\n    </tr>\n    <tr>\n      <th>PassengerId</th>\n      <th></th>\n      <th></th>\n      <th></th>\n      <th></th>\n      <th></th>\n      <th></th>\n      <th></th>\n      <th></th>\n      <th></th>\n      <th></th>\n      <th></th>\n    </tr>\n  </thead>\n  <tbody>\n    <tr>\n      <th>1</th>\n      <td>3</td>\n      <td>Mr</td>\n      <td>male</td>\n      <td>22.0</td>\n      <td>1</td>\n      <td>0</td>\n      <td>A/5 21171</td>\n      <td>7.2500</td>\n      <td>NaN</td>\n      <td>S</td>\n      <td>Mr</td>\n    </tr>\n    <tr>\n      <th>2</th>\n      <td>1</td>\n      <td>Mrs</td>\n      <td>female</td>\n      <td>38.0</td>\n      <td>1</td>\n      <td>0</td>\n      <td>PC 17599</td>\n      <td>71.2833</td>\n      <td>C85</td>\n      <td>C</td>\n      <td>Mrs</td>\n    </tr>\n    <tr>\n      <th>3</th>\n      <td>3</td>\n      <td>Miss</td>\n      <td>female</td>\n      <td>26.0</td>\n      <td>0</td>\n      <td>0</td>\n      <td>STON/O2. 3101282</td>\n      <td>7.9250</td>\n      <td>NaN</td>\n      <td>S</td>\n      <td>Miss</td>\n    </tr>\n    <tr>\n      <th>4</th>\n      <td>1</td>\n      <td>Mrs</td>\n      <td>female</td>\n      <td>35.0</td>\n      <td>1</td>\n      <td>0</td>\n      <td>113803</td>\n      <td>53.1000</td>\n      <td>C123</td>\n      <td>S</td>\n      <td>Mrs</td>\n    </tr>\n    <tr>\n      <th>5</th>\n      <td>3</td>\n      <td>Mr</td>\n      <td>male</td>\n      <td>35.0</td>\n      <td>0</td>\n      <td>0</td>\n      <td>373450</td>\n      <td>8.0500</td>\n      <td>NaN</td>\n      <td>S</td>\n      <td>Mr</td>\n    </tr>\n    <tr>\n      <th>...</th>\n      <td>...</td>\n      <td>...</td>\n      <td>...</td>\n      <td>...</td>\n      <td>...</td>\n      <td>...</td>\n      <td>...</td>\n      <td>...</td>\n      <td>...</td>\n      <td>...</td>\n      <td>...</td>\n    </tr>\n    <tr>\n      <th>1305</th>\n      <td>3</td>\n      <td>Mr</td>\n      <td>male</td>\n      <td>NaN</td>\n      <td>0</td>\n      <td>0</td>\n      <td>A.5. 3236</td>\n      <td>8.0500</td>\n      <td>NaN</td>\n      <td>S</td>\n      <td>Mr</td>\n    </tr>\n    <tr>\n      <th>1306</th>\n      <td>1</td>\n      <td>baby</td>\n      <td>female</td>\n      <td>39.0</td>\n      <td>0</td>\n      <td>0</td>\n      <td>PC 17758</td>\n      <td>108.9000</td>\n      <td>C105</td>\n      <td>C</td>\n      <td>Dona</td>\n    </tr>\n    <tr>\n      <th>1307</th>\n      <td>3</td>\n      <td>Mr</td>\n      <td>male</td>\n      <td>38.5</td>\n      <td>0</td>\n      <td>0</td>\n      <td>SOTON/O.Q. 3101262</td>\n      <td>7.2500</td>\n      <td>NaN</td>\n      <td>S</td>\n      <td>Mr</td>\n    </tr>\n    <tr>\n      <th>1308</th>\n      <td>3</td>\n      <td>Mr</td>\n      <td>male</td>\n      <td>NaN</td>\n      <td>0</td>\n      <td>0</td>\n      <td>359309</td>\n      <td>8.0500</td>\n      <td>NaN</td>\n      <td>S</td>\n      <td>Mr</td>\n    </tr>\n    <tr>\n      <th>1309</th>\n      <td>3</td>\n      <td>baby</td>\n      <td>male</td>\n      <td>NaN</td>\n      <td>1</td>\n      <td>1</td>\n      <td>2668</td>\n      <td>22.3583</td>\n      <td>NaN</td>\n      <td>C</td>\n      <td>Master</td>\n    </tr>\n  </tbody>\n</table>\n<p>1309 rows × 11 columns</p>\n</div>"
     },
     "execution_count": 966,
     "metadata": {},
     "output_type": "execute_result"
    }
   ],
   "source": [
    "all_data['Name'] = all_data['Name'].apply(lambda x: 'baby' if x not in ['Mr', 'Miss', 'Mrs'] else x)\n",
    "all_data\n"
   ],
   "metadata": {
    "collapsed": false,
    "pycharm": {
     "name": "#%%\n"
    }
   }
  },
  {
   "cell_type": "code",
   "execution_count": 967,
   "outputs": [],
   "source": [
    "# from sklearn.preprocessing import OneHotEncoder\n",
    "# from sklearn.linear_model import LinearRegression\n",
    "# from sklearn.preprocessing import LabelEncoder , OneHotEncoder #레이블 인코더 , 원 핫 인코더\n",
    "#\n",
    "# label_encoder = LabelEncoder() # 레이블 인코더 생성\n",
    "# onehot_encoder = OneHotEncoder()\n",
    "#\n",
    "# all_data_label_encoded = label_encoder.fit_transform(all_data) # 레이블 인코더 적용\n",
    "#\n",
    "# all_data_onehot_encoded = onehot_encoder.fit_transform(all_data_label_encoded.reshape(-1,1))\n",
    "# # reshape(-1,1) 메서드를 이용해 2차원으로 바꾸었다.\n",
    "# print('원-핫 인코딩 적용 후 데이터 ' , all_data_onehot_encoded.toarray())\n",
    "#\n",
    "#\n",
    "# all_data_onehot_encoded"
   ],
   "metadata": {
    "collapsed": false,
    "pycharm": {
     "name": "#%%\n"
    }
   }
  },
  {
   "cell_type": "code",
   "execution_count": 968,
   "outputs": [
    {
     "data": {
      "text/plain": "             Pclass  Name     Sex   Age  SibSp  Parch      Fare Embarked  \\\nPassengerId                                                                \n1                 3    Mr    male  22.0      1      0    7.2500        S   \n2                 1   Mrs  female  38.0      1      0   71.2833        C   \n3                 3  Miss  female  26.0      0      0    7.9250        S   \n4                 1   Mrs  female  35.0      1      0   53.1000        S   \n5                 3    Mr    male  35.0      0      0    8.0500        S   \n...             ...   ...     ...   ...    ...    ...       ...      ...   \n1305              3    Mr    male   NaN      0      0    8.0500        S   \n1306              1  baby  female  39.0      0      0  108.9000        C   \n1307              3    Mr    male  38.5      0      0    7.2500        S   \n1308              3    Mr    male   NaN      0      0    8.0500        S   \n1309              3  baby    male   NaN      1      1   22.3583        C   \n\n            Occupation  \nPassengerId             \n1                   Mr  \n2                  Mrs  \n3                 Miss  \n4                  Mrs  \n5                   Mr  \n...                ...  \n1305                Mr  \n1306              Dona  \n1307                Mr  \n1308                Mr  \n1309            Master  \n\n[1309 rows x 9 columns]",
      "text/html": "<div>\n<style scoped>\n    .dataframe tbody tr th:only-of-type {\n        vertical-align: middle;\n    }\n\n    .dataframe tbody tr th {\n        vertical-align: top;\n    }\n\n    .dataframe thead th {\n        text-align: right;\n    }\n</style>\n<table border=\"1\" class=\"dataframe\">\n  <thead>\n    <tr style=\"text-align: right;\">\n      <th></th>\n      <th>Pclass</th>\n      <th>Name</th>\n      <th>Sex</th>\n      <th>Age</th>\n      <th>SibSp</th>\n      <th>Parch</th>\n      <th>Fare</th>\n      <th>Embarked</th>\n      <th>Occupation</th>\n    </tr>\n    <tr>\n      <th>PassengerId</th>\n      <th></th>\n      <th></th>\n      <th></th>\n      <th></th>\n      <th></th>\n      <th></th>\n      <th></th>\n      <th></th>\n      <th></th>\n    </tr>\n  </thead>\n  <tbody>\n    <tr>\n      <th>1</th>\n      <td>3</td>\n      <td>Mr</td>\n      <td>male</td>\n      <td>22.0</td>\n      <td>1</td>\n      <td>0</td>\n      <td>7.2500</td>\n      <td>S</td>\n      <td>Mr</td>\n    </tr>\n    <tr>\n      <th>2</th>\n      <td>1</td>\n      <td>Mrs</td>\n      <td>female</td>\n      <td>38.0</td>\n      <td>1</td>\n      <td>0</td>\n      <td>71.2833</td>\n      <td>C</td>\n      <td>Mrs</td>\n    </tr>\n    <tr>\n      <th>3</th>\n      <td>3</td>\n      <td>Miss</td>\n      <td>female</td>\n      <td>26.0</td>\n      <td>0</td>\n      <td>0</td>\n      <td>7.9250</td>\n      <td>S</td>\n      <td>Miss</td>\n    </tr>\n    <tr>\n      <th>4</th>\n      <td>1</td>\n      <td>Mrs</td>\n      <td>female</td>\n      <td>35.0</td>\n      <td>1</td>\n      <td>0</td>\n      <td>53.1000</td>\n      <td>S</td>\n      <td>Mrs</td>\n    </tr>\n    <tr>\n      <th>5</th>\n      <td>3</td>\n      <td>Mr</td>\n      <td>male</td>\n      <td>35.0</td>\n      <td>0</td>\n      <td>0</td>\n      <td>8.0500</td>\n      <td>S</td>\n      <td>Mr</td>\n    </tr>\n    <tr>\n      <th>...</th>\n      <td>...</td>\n      <td>...</td>\n      <td>...</td>\n      <td>...</td>\n      <td>...</td>\n      <td>...</td>\n      <td>...</td>\n      <td>...</td>\n      <td>...</td>\n    </tr>\n    <tr>\n      <th>1305</th>\n      <td>3</td>\n      <td>Mr</td>\n      <td>male</td>\n      <td>NaN</td>\n      <td>0</td>\n      <td>0</td>\n      <td>8.0500</td>\n      <td>S</td>\n      <td>Mr</td>\n    </tr>\n    <tr>\n      <th>1306</th>\n      <td>1</td>\n      <td>baby</td>\n      <td>female</td>\n      <td>39.0</td>\n      <td>0</td>\n      <td>0</td>\n      <td>108.9000</td>\n      <td>C</td>\n      <td>Dona</td>\n    </tr>\n    <tr>\n      <th>1307</th>\n      <td>3</td>\n      <td>Mr</td>\n      <td>male</td>\n      <td>38.5</td>\n      <td>0</td>\n      <td>0</td>\n      <td>7.2500</td>\n      <td>S</td>\n      <td>Mr</td>\n    </tr>\n    <tr>\n      <th>1308</th>\n      <td>3</td>\n      <td>Mr</td>\n      <td>male</td>\n      <td>NaN</td>\n      <td>0</td>\n      <td>0</td>\n      <td>8.0500</td>\n      <td>S</td>\n      <td>Mr</td>\n    </tr>\n    <tr>\n      <th>1309</th>\n      <td>3</td>\n      <td>baby</td>\n      <td>male</td>\n      <td>NaN</td>\n      <td>1</td>\n      <td>1</td>\n      <td>22.3583</td>\n      <td>C</td>\n      <td>Master</td>\n    </tr>\n  </tbody>\n</table>\n<p>1309 rows × 9 columns</p>\n</div>"
     },
     "execution_count": 968,
     "metadata": {},
     "output_type": "execute_result"
    }
   ],
   "source": [
    "all_data.drop(all_data[['Ticket' , 'Cabin']] , axis = 1 , inplace=True)\n",
    "\n",
    "all_data"
   ],
   "metadata": {
    "collapsed": false,
    "pycharm": {
     "name": "#%%\n"
    }
   }
  },
  {
   "cell_type": "code",
   "execution_count": 969,
   "outputs": [
    {
     "data": {
      "text/plain": "             Pclass  Name   Sex   Age  SibSp  Parch  Fare Embarked Occupation\nPassengerId                                                                  \n180               3    Mr  male  36.0      0      0   0.0        S         Mr\n264               1    Mr  male  40.0      0      0   0.0        S         Mr\n272               3    Mr  male  25.0      0      0   0.0        S         Mr\n278               2    Mr  male   NaN      0      0   0.0        S         Mr\n303               3    Mr  male  19.0      0      0   0.0        S         Mr\n414               2    Mr  male   NaN      0      0   0.0        S         Mr\n467               2    Mr  male   NaN      0      0   0.0        S         Mr\n482               2    Mr  male   NaN      0      0   0.0        S         Mr\n598               3    Mr  male  49.0      0      0   0.0        S         Mr\n634               1    Mr  male   NaN      0      0   0.0        S         Mr\n675               2    Mr  male   NaN      0      0   0.0        S         Mr\n733               2    Mr  male   NaN      0      0   0.0        S         Mr\n807               1    Mr  male  39.0      0      0   0.0        S         Mr\n816               1    Mr  male   NaN      0      0   0.0        S         Mr\n823               1  baby  male  38.0      0      0   0.0        S   Jonkheer\n1158              1    Mr  male   NaN      0      0   0.0        S         Mr\n1264              1    Mr  male  49.0      0      0   0.0        S         Mr",
      "text/html": "<div>\n<style scoped>\n    .dataframe tbody tr th:only-of-type {\n        vertical-align: middle;\n    }\n\n    .dataframe tbody tr th {\n        vertical-align: top;\n    }\n\n    .dataframe thead th {\n        text-align: right;\n    }\n</style>\n<table border=\"1\" class=\"dataframe\">\n  <thead>\n    <tr style=\"text-align: right;\">\n      <th></th>\n      <th>Pclass</th>\n      <th>Name</th>\n      <th>Sex</th>\n      <th>Age</th>\n      <th>SibSp</th>\n      <th>Parch</th>\n      <th>Fare</th>\n      <th>Embarked</th>\n      <th>Occupation</th>\n    </tr>\n    <tr>\n      <th>PassengerId</th>\n      <th></th>\n      <th></th>\n      <th></th>\n      <th></th>\n      <th></th>\n      <th></th>\n      <th></th>\n      <th></th>\n      <th></th>\n    </tr>\n  </thead>\n  <tbody>\n    <tr>\n      <th>180</th>\n      <td>3</td>\n      <td>Mr</td>\n      <td>male</td>\n      <td>36.0</td>\n      <td>0</td>\n      <td>0</td>\n      <td>0.0</td>\n      <td>S</td>\n      <td>Mr</td>\n    </tr>\n    <tr>\n      <th>264</th>\n      <td>1</td>\n      <td>Mr</td>\n      <td>male</td>\n      <td>40.0</td>\n      <td>0</td>\n      <td>0</td>\n      <td>0.0</td>\n      <td>S</td>\n      <td>Mr</td>\n    </tr>\n    <tr>\n      <th>272</th>\n      <td>3</td>\n      <td>Mr</td>\n      <td>male</td>\n      <td>25.0</td>\n      <td>0</td>\n      <td>0</td>\n      <td>0.0</td>\n      <td>S</td>\n      <td>Mr</td>\n    </tr>\n    <tr>\n      <th>278</th>\n      <td>2</td>\n      <td>Mr</td>\n      <td>male</td>\n      <td>NaN</td>\n      <td>0</td>\n      <td>0</td>\n      <td>0.0</td>\n      <td>S</td>\n      <td>Mr</td>\n    </tr>\n    <tr>\n      <th>303</th>\n      <td>3</td>\n      <td>Mr</td>\n      <td>male</td>\n      <td>19.0</td>\n      <td>0</td>\n      <td>0</td>\n      <td>0.0</td>\n      <td>S</td>\n      <td>Mr</td>\n    </tr>\n    <tr>\n      <th>414</th>\n      <td>2</td>\n      <td>Mr</td>\n      <td>male</td>\n      <td>NaN</td>\n      <td>0</td>\n      <td>0</td>\n      <td>0.0</td>\n      <td>S</td>\n      <td>Mr</td>\n    </tr>\n    <tr>\n      <th>467</th>\n      <td>2</td>\n      <td>Mr</td>\n      <td>male</td>\n      <td>NaN</td>\n      <td>0</td>\n      <td>0</td>\n      <td>0.0</td>\n      <td>S</td>\n      <td>Mr</td>\n    </tr>\n    <tr>\n      <th>482</th>\n      <td>2</td>\n      <td>Mr</td>\n      <td>male</td>\n      <td>NaN</td>\n      <td>0</td>\n      <td>0</td>\n      <td>0.0</td>\n      <td>S</td>\n      <td>Mr</td>\n    </tr>\n    <tr>\n      <th>598</th>\n      <td>3</td>\n      <td>Mr</td>\n      <td>male</td>\n      <td>49.0</td>\n      <td>0</td>\n      <td>0</td>\n      <td>0.0</td>\n      <td>S</td>\n      <td>Mr</td>\n    </tr>\n    <tr>\n      <th>634</th>\n      <td>1</td>\n      <td>Mr</td>\n      <td>male</td>\n      <td>NaN</td>\n      <td>0</td>\n      <td>0</td>\n      <td>0.0</td>\n      <td>S</td>\n      <td>Mr</td>\n    </tr>\n    <tr>\n      <th>675</th>\n      <td>2</td>\n      <td>Mr</td>\n      <td>male</td>\n      <td>NaN</td>\n      <td>0</td>\n      <td>0</td>\n      <td>0.0</td>\n      <td>S</td>\n      <td>Mr</td>\n    </tr>\n    <tr>\n      <th>733</th>\n      <td>2</td>\n      <td>Mr</td>\n      <td>male</td>\n      <td>NaN</td>\n      <td>0</td>\n      <td>0</td>\n      <td>0.0</td>\n      <td>S</td>\n      <td>Mr</td>\n    </tr>\n    <tr>\n      <th>807</th>\n      <td>1</td>\n      <td>Mr</td>\n      <td>male</td>\n      <td>39.0</td>\n      <td>0</td>\n      <td>0</td>\n      <td>0.0</td>\n      <td>S</td>\n      <td>Mr</td>\n    </tr>\n    <tr>\n      <th>816</th>\n      <td>1</td>\n      <td>Mr</td>\n      <td>male</td>\n      <td>NaN</td>\n      <td>0</td>\n      <td>0</td>\n      <td>0.0</td>\n      <td>S</td>\n      <td>Mr</td>\n    </tr>\n    <tr>\n      <th>823</th>\n      <td>1</td>\n      <td>baby</td>\n      <td>male</td>\n      <td>38.0</td>\n      <td>0</td>\n      <td>0</td>\n      <td>0.0</td>\n      <td>S</td>\n      <td>Jonkheer</td>\n    </tr>\n    <tr>\n      <th>1158</th>\n      <td>1</td>\n      <td>Mr</td>\n      <td>male</td>\n      <td>NaN</td>\n      <td>0</td>\n      <td>0</td>\n      <td>0.0</td>\n      <td>S</td>\n      <td>Mr</td>\n    </tr>\n    <tr>\n      <th>1264</th>\n      <td>1</td>\n      <td>Mr</td>\n      <td>male</td>\n      <td>49.0</td>\n      <td>0</td>\n      <td>0</td>\n      <td>0.0</td>\n      <td>S</td>\n      <td>Mr</td>\n    </tr>\n  </tbody>\n</table>\n</div>"
     },
     "execution_count": 969,
     "metadata": {},
     "output_type": "execute_result"
    }
   ],
   "source": [
    "all_data[all_data['Fare'] == 0]"
   ],
   "metadata": {
    "collapsed": false,
    "pycharm": {
     "name": "#%%\n"
    }
   }
  },
  {
   "cell_type": "code",
   "execution_count": 970,
   "outputs": [
    {
     "data": {
      "text/plain": "             Pclass  Name     Sex   Age  SibSp  Parch      Fare Embarked  \\\nPassengerId                                                                \n1                 3    Mr    male  22.0      1      0    7.2500        S   \n2                 1   Mrs  female  38.0      1      0   71.2833        C   \n3                 3  Miss  female  26.0      0      0    7.9250        S   \n4                 1   Mrs  female  35.0      1      0   53.1000        S   \n5                 3    Mr    male  35.0      0      0    8.0500        S   \n...             ...   ...     ...   ...    ...    ...       ...      ...   \n1305              3    Mr    male   NaN      0      0    8.0500        S   \n1306              1  baby  female  39.0      0      0  108.9000        C   \n1307              3    Mr    male  38.5      0      0    7.2500        S   \n1308              3    Mr    male   NaN      0      0    8.0500        S   \n1309              3  baby    male   NaN      1      1   22.3583        C   \n\n            Occupation  \nPassengerId             \n1                   Mr  \n2                  Mrs  \n3                 Miss  \n4                  Mrs  \n5                   Mr  \n...                ...  \n1305                Mr  \n1306              Dona  \n1307                Mr  \n1308                Mr  \n1309            Master  \n\n[1309 rows x 9 columns]",
      "text/html": "<div>\n<style scoped>\n    .dataframe tbody tr th:only-of-type {\n        vertical-align: middle;\n    }\n\n    .dataframe tbody tr th {\n        vertical-align: top;\n    }\n\n    .dataframe thead th {\n        text-align: right;\n    }\n</style>\n<table border=\"1\" class=\"dataframe\">\n  <thead>\n    <tr style=\"text-align: right;\">\n      <th></th>\n      <th>Pclass</th>\n      <th>Name</th>\n      <th>Sex</th>\n      <th>Age</th>\n      <th>SibSp</th>\n      <th>Parch</th>\n      <th>Fare</th>\n      <th>Embarked</th>\n      <th>Occupation</th>\n    </tr>\n    <tr>\n      <th>PassengerId</th>\n      <th></th>\n      <th></th>\n      <th></th>\n      <th></th>\n      <th></th>\n      <th></th>\n      <th></th>\n      <th></th>\n      <th></th>\n    </tr>\n  </thead>\n  <tbody>\n    <tr>\n      <th>1</th>\n      <td>3</td>\n      <td>Mr</td>\n      <td>male</td>\n      <td>22.0</td>\n      <td>1</td>\n      <td>0</td>\n      <td>7.2500</td>\n      <td>S</td>\n      <td>Mr</td>\n    </tr>\n    <tr>\n      <th>2</th>\n      <td>1</td>\n      <td>Mrs</td>\n      <td>female</td>\n      <td>38.0</td>\n      <td>1</td>\n      <td>0</td>\n      <td>71.2833</td>\n      <td>C</td>\n      <td>Mrs</td>\n    </tr>\n    <tr>\n      <th>3</th>\n      <td>3</td>\n      <td>Miss</td>\n      <td>female</td>\n      <td>26.0</td>\n      <td>0</td>\n      <td>0</td>\n      <td>7.9250</td>\n      <td>S</td>\n      <td>Miss</td>\n    </tr>\n    <tr>\n      <th>4</th>\n      <td>1</td>\n      <td>Mrs</td>\n      <td>female</td>\n      <td>35.0</td>\n      <td>1</td>\n      <td>0</td>\n      <td>53.1000</td>\n      <td>S</td>\n      <td>Mrs</td>\n    </tr>\n    <tr>\n      <th>5</th>\n      <td>3</td>\n      <td>Mr</td>\n      <td>male</td>\n      <td>35.0</td>\n      <td>0</td>\n      <td>0</td>\n      <td>8.0500</td>\n      <td>S</td>\n      <td>Mr</td>\n    </tr>\n    <tr>\n      <th>...</th>\n      <td>...</td>\n      <td>...</td>\n      <td>...</td>\n      <td>...</td>\n      <td>...</td>\n      <td>...</td>\n      <td>...</td>\n      <td>...</td>\n      <td>...</td>\n    </tr>\n    <tr>\n      <th>1305</th>\n      <td>3</td>\n      <td>Mr</td>\n      <td>male</td>\n      <td>NaN</td>\n      <td>0</td>\n      <td>0</td>\n      <td>8.0500</td>\n      <td>S</td>\n      <td>Mr</td>\n    </tr>\n    <tr>\n      <th>1306</th>\n      <td>1</td>\n      <td>baby</td>\n      <td>female</td>\n      <td>39.0</td>\n      <td>0</td>\n      <td>0</td>\n      <td>108.9000</td>\n      <td>C</td>\n      <td>Dona</td>\n    </tr>\n    <tr>\n      <th>1307</th>\n      <td>3</td>\n      <td>Mr</td>\n      <td>male</td>\n      <td>38.5</td>\n      <td>0</td>\n      <td>0</td>\n      <td>7.2500</td>\n      <td>S</td>\n      <td>Mr</td>\n    </tr>\n    <tr>\n      <th>1308</th>\n      <td>3</td>\n      <td>Mr</td>\n      <td>male</td>\n      <td>NaN</td>\n      <td>0</td>\n      <td>0</td>\n      <td>8.0500</td>\n      <td>S</td>\n      <td>Mr</td>\n    </tr>\n    <tr>\n      <th>1309</th>\n      <td>3</td>\n      <td>baby</td>\n      <td>male</td>\n      <td>NaN</td>\n      <td>1</td>\n      <td>1</td>\n      <td>22.3583</td>\n      <td>C</td>\n      <td>Master</td>\n    </tr>\n  </tbody>\n</table>\n<p>1309 rows × 9 columns</p>\n</div>"
     },
     "execution_count": 970,
     "metadata": {},
     "output_type": "execute_result"
    }
   ],
   "source": [
    "all_data['Embarked'] = all_data['Embarked'].fillna(all_data['Embarked'].mode().iloc[0])\n",
    "\n",
    "fare_medians = all_data[all_data['Fare'] != 0].groupby('Pclass')['Fare'].median()\n",
    "# fare_medians\n",
    "# Fare 값이 0인 데이터를 PClass 등급에 따라 중앙값으로 채우기\n",
    "for i, row in all_data.iterrows():\n",
    "    if row['Fare'] == 0 or row['Fare'] == 'NaN':\n",
    "        all_data.at[i, 'Fare'] = fare_medians[row['Pclass']]\n",
    "all_data['Fare'] = all_data['Fare'].fillna(all_data['Fare'].mode().iloc[0])\n",
    "# 결과 확인\n",
    "all_data.loc[816:824]\n",
    "\n",
    "all_data"
   ],
   "metadata": {
    "collapsed": false,
    "pycharm": {
     "name": "#%%\n"
    }
   }
  },
  {
   "cell_type": "code",
   "execution_count": 971,
   "outputs": [
    {
     "data": {
      "text/plain": "Empty DataFrame\nColumns: [Pclass, Name, Sex, Age, SibSp, Parch, Fare, Embarked, Occupation]\nIndex: []",
      "text/html": "<div>\n<style scoped>\n    .dataframe tbody tr th:only-of-type {\n        vertical-align: middle;\n    }\n\n    .dataframe tbody tr th {\n        vertical-align: top;\n    }\n\n    .dataframe thead th {\n        text-align: right;\n    }\n</style>\n<table border=\"1\" class=\"dataframe\">\n  <thead>\n    <tr style=\"text-align: right;\">\n      <th></th>\n      <th>Pclass</th>\n      <th>Name</th>\n      <th>Sex</th>\n      <th>Age</th>\n      <th>SibSp</th>\n      <th>Parch</th>\n      <th>Fare</th>\n      <th>Embarked</th>\n      <th>Occupation</th>\n    </tr>\n    <tr>\n      <th>PassengerId</th>\n      <th></th>\n      <th></th>\n      <th></th>\n      <th></th>\n      <th></th>\n      <th></th>\n      <th></th>\n      <th></th>\n      <th></th>\n    </tr>\n  </thead>\n  <tbody>\n  </tbody>\n</table>\n</div>"
     },
     "execution_count": 971,
     "metadata": {},
     "output_type": "execute_result"
    }
   ],
   "source": [
    "all_data[all_data['Fare'] == 0]"
   ],
   "metadata": {
    "collapsed": false,
    "pycharm": {
     "name": "#%%\n"
    }
   }
  },
  {
   "cell_type": "code",
   "execution_count": 972,
   "outputs": [
    {
     "name": "stdout",
     "output_type": "stream",
     "text": [
      "<class 'pandas.core.frame.DataFrame'>\n",
      "Int64Index: 1309 entries, 1 to 1309\n",
      "Data columns (total 9 columns):\n",
      " #   Column      Non-Null Count  Dtype  \n",
      "---  ------      --------------  -----  \n",
      " 0   Pclass      1309 non-null   int64  \n",
      " 1   Name        1309 non-null   object \n",
      " 2   Sex         1309 non-null   object \n",
      " 3   Age         1046 non-null   float64\n",
      " 4   SibSp       1309 non-null   int64  \n",
      " 5   Parch       1309 non-null   int64  \n",
      " 6   Fare        1309 non-null   float64\n",
      " 7   Embarked    1309 non-null   object \n",
      " 8   Occupation  1309 non-null   object \n",
      "dtypes: float64(2), int64(3), object(4)\n",
      "memory usage: 134.6+ KB\n"
     ]
    }
   ],
   "source": [
    "all_data.info()"
   ],
   "metadata": {
    "collapsed": false,
    "pycharm": {
     "name": "#%%\n"
    }
   }
  },
  {
   "cell_type": "code",
   "execution_count": 973,
   "outputs": [],
   "source": [
    "binary_col = []\n",
    "object_col = []\n",
    "\n",
    "for i in all_data.columns.tolist():\n",
    "    if all_data[i].dtype in ['int64' , 'float64']:\n",
    "        binary_col.append(i)\n",
    "    else:\n",
    "        object_col.append(i)"
   ],
   "metadata": {
    "collapsed": false,
    "pycharm": {
     "name": "#%%\n"
    }
   }
  },
  {
   "cell_type": "code",
   "execution_count": 974,
   "outputs": [
    {
     "data": {
      "text/plain": "             Name     Sex Embarked Occupation\nPassengerId                                  \n1              Mr    male        S         Mr\n2             Mrs  female        C        Mrs\n3            Miss  female        S       Miss\n4             Mrs  female        S        Mrs\n5              Mr    male        S         Mr\n...           ...     ...      ...        ...\n1305           Mr    male        S         Mr\n1306         baby  female        C       Dona\n1307           Mr    male        S         Mr\n1308           Mr    male        S         Mr\n1309         baby    male        C     Master\n\n[1309 rows x 4 columns]",
      "text/html": "<div>\n<style scoped>\n    .dataframe tbody tr th:only-of-type {\n        vertical-align: middle;\n    }\n\n    .dataframe tbody tr th {\n        vertical-align: top;\n    }\n\n    .dataframe thead th {\n        text-align: right;\n    }\n</style>\n<table border=\"1\" class=\"dataframe\">\n  <thead>\n    <tr style=\"text-align: right;\">\n      <th></th>\n      <th>Name</th>\n      <th>Sex</th>\n      <th>Embarked</th>\n      <th>Occupation</th>\n    </tr>\n    <tr>\n      <th>PassengerId</th>\n      <th></th>\n      <th></th>\n      <th></th>\n      <th></th>\n    </tr>\n  </thead>\n  <tbody>\n    <tr>\n      <th>1</th>\n      <td>Mr</td>\n      <td>male</td>\n      <td>S</td>\n      <td>Mr</td>\n    </tr>\n    <tr>\n      <th>2</th>\n      <td>Mrs</td>\n      <td>female</td>\n      <td>C</td>\n      <td>Mrs</td>\n    </tr>\n    <tr>\n      <th>3</th>\n      <td>Miss</td>\n      <td>female</td>\n      <td>S</td>\n      <td>Miss</td>\n    </tr>\n    <tr>\n      <th>4</th>\n      <td>Mrs</td>\n      <td>female</td>\n      <td>S</td>\n      <td>Mrs</td>\n    </tr>\n    <tr>\n      <th>5</th>\n      <td>Mr</td>\n      <td>male</td>\n      <td>S</td>\n      <td>Mr</td>\n    </tr>\n    <tr>\n      <th>...</th>\n      <td>...</td>\n      <td>...</td>\n      <td>...</td>\n      <td>...</td>\n    </tr>\n    <tr>\n      <th>1305</th>\n      <td>Mr</td>\n      <td>male</td>\n      <td>S</td>\n      <td>Mr</td>\n    </tr>\n    <tr>\n      <th>1306</th>\n      <td>baby</td>\n      <td>female</td>\n      <td>C</td>\n      <td>Dona</td>\n    </tr>\n    <tr>\n      <th>1307</th>\n      <td>Mr</td>\n      <td>male</td>\n      <td>S</td>\n      <td>Mr</td>\n    </tr>\n    <tr>\n      <th>1308</th>\n      <td>Mr</td>\n      <td>male</td>\n      <td>S</td>\n      <td>Mr</td>\n    </tr>\n    <tr>\n      <th>1309</th>\n      <td>baby</td>\n      <td>male</td>\n      <td>C</td>\n      <td>Master</td>\n    </tr>\n  </tbody>\n</table>\n<p>1309 rows × 4 columns</p>\n</div>"
     },
     "execution_count": 974,
     "metadata": {},
     "output_type": "execute_result"
    }
   ],
   "source": [
    "all_data[object_col]"
   ],
   "metadata": {
    "collapsed": false,
    "pycharm": {
     "name": "#%%\n"
    }
   }
  },
  {
   "cell_type": "code",
   "execution_count": 975,
   "outputs": [
    {
     "data": {
      "text/plain": "             Pclass  Name  Sex   Age  SibSp  Parch      Fare  Embarked  \\\nPassengerId                                                              \n1                 3     1    1  22.0      1      0    7.2500         2   \n2                 1     2    0  38.0      1      0   71.2833         0   \n3                 3     0    0  26.0      0      0    7.9250         2   \n4                 1     2    0  35.0      1      0   53.1000         2   \n5                 3     1    1  35.0      0      0    8.0500         2   \n...             ...   ...  ...   ...    ...    ...       ...       ...   \n1305              3     1    1   NaN      0      0    8.0500         2   \n1306              1     3    0  39.0      0      0  108.9000         0   \n1307              3     1    1  38.5      0      0    7.2500         2   \n1308              3     1    1   NaN      0      0    8.0500         2   \n1309              3     3    1   NaN      1      1   22.3583         0   \n\n             Occupation  \nPassengerId              \n1                    12  \n2                    13  \n3                     9  \n4                    13  \n5                    12  \n...                 ...  \n1305                 12  \n1306                  3  \n1307                 12  \n1308                 12  \n1309                  8  \n\n[1309 rows x 9 columns]",
      "text/html": "<div>\n<style scoped>\n    .dataframe tbody tr th:only-of-type {\n        vertical-align: middle;\n    }\n\n    .dataframe tbody tr th {\n        vertical-align: top;\n    }\n\n    .dataframe thead th {\n        text-align: right;\n    }\n</style>\n<table border=\"1\" class=\"dataframe\">\n  <thead>\n    <tr style=\"text-align: right;\">\n      <th></th>\n      <th>Pclass</th>\n      <th>Name</th>\n      <th>Sex</th>\n      <th>Age</th>\n      <th>SibSp</th>\n      <th>Parch</th>\n      <th>Fare</th>\n      <th>Embarked</th>\n      <th>Occupation</th>\n    </tr>\n    <tr>\n      <th>PassengerId</th>\n      <th></th>\n      <th></th>\n      <th></th>\n      <th></th>\n      <th></th>\n      <th></th>\n      <th></th>\n      <th></th>\n      <th></th>\n    </tr>\n  </thead>\n  <tbody>\n    <tr>\n      <th>1</th>\n      <td>3</td>\n      <td>1</td>\n      <td>1</td>\n      <td>22.0</td>\n      <td>1</td>\n      <td>0</td>\n      <td>7.2500</td>\n      <td>2</td>\n      <td>12</td>\n    </tr>\n    <tr>\n      <th>2</th>\n      <td>1</td>\n      <td>2</td>\n      <td>0</td>\n      <td>38.0</td>\n      <td>1</td>\n      <td>0</td>\n      <td>71.2833</td>\n      <td>0</td>\n      <td>13</td>\n    </tr>\n    <tr>\n      <th>3</th>\n      <td>3</td>\n      <td>0</td>\n      <td>0</td>\n      <td>26.0</td>\n      <td>0</td>\n      <td>0</td>\n      <td>7.9250</td>\n      <td>2</td>\n      <td>9</td>\n    </tr>\n    <tr>\n      <th>4</th>\n      <td>1</td>\n      <td>2</td>\n      <td>0</td>\n      <td>35.0</td>\n      <td>1</td>\n      <td>0</td>\n      <td>53.1000</td>\n      <td>2</td>\n      <td>13</td>\n    </tr>\n    <tr>\n      <th>5</th>\n      <td>3</td>\n      <td>1</td>\n      <td>1</td>\n      <td>35.0</td>\n      <td>0</td>\n      <td>0</td>\n      <td>8.0500</td>\n      <td>2</td>\n      <td>12</td>\n    </tr>\n    <tr>\n      <th>...</th>\n      <td>...</td>\n      <td>...</td>\n      <td>...</td>\n      <td>...</td>\n      <td>...</td>\n      <td>...</td>\n      <td>...</td>\n      <td>...</td>\n      <td>...</td>\n    </tr>\n    <tr>\n      <th>1305</th>\n      <td>3</td>\n      <td>1</td>\n      <td>1</td>\n      <td>NaN</td>\n      <td>0</td>\n      <td>0</td>\n      <td>8.0500</td>\n      <td>2</td>\n      <td>12</td>\n    </tr>\n    <tr>\n      <th>1306</th>\n      <td>1</td>\n      <td>3</td>\n      <td>0</td>\n      <td>39.0</td>\n      <td>0</td>\n      <td>0</td>\n      <td>108.9000</td>\n      <td>0</td>\n      <td>3</td>\n    </tr>\n    <tr>\n      <th>1307</th>\n      <td>3</td>\n      <td>1</td>\n      <td>1</td>\n      <td>38.5</td>\n      <td>0</td>\n      <td>0</td>\n      <td>7.2500</td>\n      <td>2</td>\n      <td>12</td>\n    </tr>\n    <tr>\n      <th>1308</th>\n      <td>3</td>\n      <td>1</td>\n      <td>1</td>\n      <td>NaN</td>\n      <td>0</td>\n      <td>0</td>\n      <td>8.0500</td>\n      <td>2</td>\n      <td>12</td>\n    </tr>\n    <tr>\n      <th>1309</th>\n      <td>3</td>\n      <td>3</td>\n      <td>1</td>\n      <td>NaN</td>\n      <td>1</td>\n      <td>1</td>\n      <td>22.3583</td>\n      <td>0</td>\n      <td>8</td>\n    </tr>\n  </tbody>\n</table>\n<p>1309 rows × 9 columns</p>\n</div>"
     },
     "execution_count": 975,
     "metadata": {},
     "output_type": "execute_result"
    }
   ],
   "source": [
    "from sklearn.preprocessing import OneHotEncoder ,LabelEncoder\n",
    "\n",
    "encoder = OneHotEncoder() # 원-핫 인코더 생성\n",
    "le = LabelEncoder()\n",
    "for i in range(len(object_col)):\n",
    "    all_data_label_encoded = le.fit_transform(all_data[object_col[i]])\n",
    "    all_data[object_col[i]] = all_data_label_encoded\n",
    "all_data"
   ],
   "metadata": {
    "collapsed": false,
    "pycharm": {
     "name": "#%%\n"
    }
   }
  },
  {
   "cell_type": "code",
   "execution_count": 976,
   "outputs": [
    {
     "data": {
      "text/plain": "             Pclass  Name  Sex   Age  SibSp  Parch     Fare  Embarked  \\\nPassengerId                                                             \n1                 3     1    1  22.0      1      0   7.2500         2   \n2                 1     2    0  38.0      1      0  71.2833         0   \n3                 3     0    0  26.0      0      0   7.9250         2   \n4                 1     2    0  35.0      1      0  53.1000         2   \n5                 3     1    1  35.0      0      0   8.0500         2   \n...             ...   ...  ...   ...    ...    ...      ...       ...   \n887               2     3    1  27.0      0      0  13.0000         2   \n888               1     0    0  19.0      0      0  30.0000         2   \n889               3     0    0   NaN      1      2  23.4500         2   \n890               1     1    1  26.0      0      0  30.0000         0   \n891               3     1    1  32.0      0      0   7.7500         1   \n\n             Occupation  \nPassengerId              \n1                    12  \n2                    13  \n3                     9  \n4                    13  \n5                    12  \n...                 ...  \n887                  15  \n888                   9  \n889                   9  \n890                  12  \n891                  12  \n\n[891 rows x 9 columns]",
      "text/html": "<div>\n<style scoped>\n    .dataframe tbody tr th:only-of-type {\n        vertical-align: middle;\n    }\n\n    .dataframe tbody tr th {\n        vertical-align: top;\n    }\n\n    .dataframe thead th {\n        text-align: right;\n    }\n</style>\n<table border=\"1\" class=\"dataframe\">\n  <thead>\n    <tr style=\"text-align: right;\">\n      <th></th>\n      <th>Pclass</th>\n      <th>Name</th>\n      <th>Sex</th>\n      <th>Age</th>\n      <th>SibSp</th>\n      <th>Parch</th>\n      <th>Fare</th>\n      <th>Embarked</th>\n      <th>Occupation</th>\n    </tr>\n    <tr>\n      <th>PassengerId</th>\n      <th></th>\n      <th></th>\n      <th></th>\n      <th></th>\n      <th></th>\n      <th></th>\n      <th></th>\n      <th></th>\n      <th></th>\n    </tr>\n  </thead>\n  <tbody>\n    <tr>\n      <th>1</th>\n      <td>3</td>\n      <td>1</td>\n      <td>1</td>\n      <td>22.0</td>\n      <td>1</td>\n      <td>0</td>\n      <td>7.2500</td>\n      <td>2</td>\n      <td>12</td>\n    </tr>\n    <tr>\n      <th>2</th>\n      <td>1</td>\n      <td>2</td>\n      <td>0</td>\n      <td>38.0</td>\n      <td>1</td>\n      <td>0</td>\n      <td>71.2833</td>\n      <td>0</td>\n      <td>13</td>\n    </tr>\n    <tr>\n      <th>3</th>\n      <td>3</td>\n      <td>0</td>\n      <td>0</td>\n      <td>26.0</td>\n      <td>0</td>\n      <td>0</td>\n      <td>7.9250</td>\n      <td>2</td>\n      <td>9</td>\n    </tr>\n    <tr>\n      <th>4</th>\n      <td>1</td>\n      <td>2</td>\n      <td>0</td>\n      <td>35.0</td>\n      <td>1</td>\n      <td>0</td>\n      <td>53.1000</td>\n      <td>2</td>\n      <td>13</td>\n    </tr>\n    <tr>\n      <th>5</th>\n      <td>3</td>\n      <td>1</td>\n      <td>1</td>\n      <td>35.0</td>\n      <td>0</td>\n      <td>0</td>\n      <td>8.0500</td>\n      <td>2</td>\n      <td>12</td>\n    </tr>\n    <tr>\n      <th>...</th>\n      <td>...</td>\n      <td>...</td>\n      <td>...</td>\n      <td>...</td>\n      <td>...</td>\n      <td>...</td>\n      <td>...</td>\n      <td>...</td>\n      <td>...</td>\n    </tr>\n    <tr>\n      <th>887</th>\n      <td>2</td>\n      <td>3</td>\n      <td>1</td>\n      <td>27.0</td>\n      <td>0</td>\n      <td>0</td>\n      <td>13.0000</td>\n      <td>2</td>\n      <td>15</td>\n    </tr>\n    <tr>\n      <th>888</th>\n      <td>1</td>\n      <td>0</td>\n      <td>0</td>\n      <td>19.0</td>\n      <td>0</td>\n      <td>0</td>\n      <td>30.0000</td>\n      <td>2</td>\n      <td>9</td>\n    </tr>\n    <tr>\n      <th>889</th>\n      <td>3</td>\n      <td>0</td>\n      <td>0</td>\n      <td>NaN</td>\n      <td>1</td>\n      <td>2</td>\n      <td>23.4500</td>\n      <td>2</td>\n      <td>9</td>\n    </tr>\n    <tr>\n      <th>890</th>\n      <td>1</td>\n      <td>1</td>\n      <td>1</td>\n      <td>26.0</td>\n      <td>0</td>\n      <td>0</td>\n      <td>30.0000</td>\n      <td>0</td>\n      <td>12</td>\n    </tr>\n    <tr>\n      <th>891</th>\n      <td>3</td>\n      <td>1</td>\n      <td>1</td>\n      <td>32.0</td>\n      <td>0</td>\n      <td>0</td>\n      <td>7.7500</td>\n      <td>1</td>\n      <td>12</td>\n    </tr>\n  </tbody>\n</table>\n<p>891 rows × 9 columns</p>\n</div>"
     },
     "execution_count": 976,
     "metadata": {},
     "output_type": "execute_result"
    }
   ],
   "source": [
    "all_data.iloc[:len(train)]"
   ],
   "metadata": {
    "collapsed": false,
    "pycharm": {
     "name": "#%%\n"
    }
   }
  },
  {
   "cell_type": "code",
   "execution_count": 977,
   "outputs": [
    {
     "data": {
      "text/plain": "             Pclass  Name  Sex  Age  SibSp  Parch     Fare  Embarked  \\\nPassengerId                                                            \n6                 3     1    1  NaN      0      0   8.4583         1   \n18                2     1    1  NaN      0      0  13.0000         2   \n20                3     2    0  NaN      0      0   7.2250         0   \n27                3     1    1  NaN      0      0   7.2250         0   \n29                3     0    0  NaN      0      0   7.8792         1   \n...             ...   ...  ...  ...    ...    ...      ...       ...   \n1300              3     0    0  NaN      0      0   7.7208         1   \n1302              3     0    0  NaN      0      0   7.7500         1   \n1305              3     1    1  NaN      0      0   8.0500         2   \n1308              3     1    1  NaN      0      0   8.0500         2   \n1309              3     3    1  NaN      1      1  22.3583         0   \n\n             Occupation  \nPassengerId              \n6                    12  \n18                   12  \n20                   13  \n27                   12  \n29                    9  \n...                 ...  \n1300                  9  \n1302                  9  \n1305                 12  \n1308                 12  \n1309                  8  \n\n[263 rows x 9 columns]",
      "text/html": "<div>\n<style scoped>\n    .dataframe tbody tr th:only-of-type {\n        vertical-align: middle;\n    }\n\n    .dataframe tbody tr th {\n        vertical-align: top;\n    }\n\n    .dataframe thead th {\n        text-align: right;\n    }\n</style>\n<table border=\"1\" class=\"dataframe\">\n  <thead>\n    <tr style=\"text-align: right;\">\n      <th></th>\n      <th>Pclass</th>\n      <th>Name</th>\n      <th>Sex</th>\n      <th>Age</th>\n      <th>SibSp</th>\n      <th>Parch</th>\n      <th>Fare</th>\n      <th>Embarked</th>\n      <th>Occupation</th>\n    </tr>\n    <tr>\n      <th>PassengerId</th>\n      <th></th>\n      <th></th>\n      <th></th>\n      <th></th>\n      <th></th>\n      <th></th>\n      <th></th>\n      <th></th>\n      <th></th>\n    </tr>\n  </thead>\n  <tbody>\n    <tr>\n      <th>6</th>\n      <td>3</td>\n      <td>1</td>\n      <td>1</td>\n      <td>NaN</td>\n      <td>0</td>\n      <td>0</td>\n      <td>8.4583</td>\n      <td>1</td>\n      <td>12</td>\n    </tr>\n    <tr>\n      <th>18</th>\n      <td>2</td>\n      <td>1</td>\n      <td>1</td>\n      <td>NaN</td>\n      <td>0</td>\n      <td>0</td>\n      <td>13.0000</td>\n      <td>2</td>\n      <td>12</td>\n    </tr>\n    <tr>\n      <th>20</th>\n      <td>3</td>\n      <td>2</td>\n      <td>0</td>\n      <td>NaN</td>\n      <td>0</td>\n      <td>0</td>\n      <td>7.2250</td>\n      <td>0</td>\n      <td>13</td>\n    </tr>\n    <tr>\n      <th>27</th>\n      <td>3</td>\n      <td>1</td>\n      <td>1</td>\n      <td>NaN</td>\n      <td>0</td>\n      <td>0</td>\n      <td>7.2250</td>\n      <td>0</td>\n      <td>12</td>\n    </tr>\n    <tr>\n      <th>29</th>\n      <td>3</td>\n      <td>0</td>\n      <td>0</td>\n      <td>NaN</td>\n      <td>0</td>\n      <td>0</td>\n      <td>7.8792</td>\n      <td>1</td>\n      <td>9</td>\n    </tr>\n    <tr>\n      <th>...</th>\n      <td>...</td>\n      <td>...</td>\n      <td>...</td>\n      <td>...</td>\n      <td>...</td>\n      <td>...</td>\n      <td>...</td>\n      <td>...</td>\n      <td>...</td>\n    </tr>\n    <tr>\n      <th>1300</th>\n      <td>3</td>\n      <td>0</td>\n      <td>0</td>\n      <td>NaN</td>\n      <td>0</td>\n      <td>0</td>\n      <td>7.7208</td>\n      <td>1</td>\n      <td>9</td>\n    </tr>\n    <tr>\n      <th>1302</th>\n      <td>3</td>\n      <td>0</td>\n      <td>0</td>\n      <td>NaN</td>\n      <td>0</td>\n      <td>0</td>\n      <td>7.7500</td>\n      <td>1</td>\n      <td>9</td>\n    </tr>\n    <tr>\n      <th>1305</th>\n      <td>3</td>\n      <td>1</td>\n      <td>1</td>\n      <td>NaN</td>\n      <td>0</td>\n      <td>0</td>\n      <td>8.0500</td>\n      <td>2</td>\n      <td>12</td>\n    </tr>\n    <tr>\n      <th>1308</th>\n      <td>3</td>\n      <td>1</td>\n      <td>1</td>\n      <td>NaN</td>\n      <td>0</td>\n      <td>0</td>\n      <td>8.0500</td>\n      <td>2</td>\n      <td>12</td>\n    </tr>\n    <tr>\n      <th>1309</th>\n      <td>3</td>\n      <td>3</td>\n      <td>1</td>\n      <td>NaN</td>\n      <td>1</td>\n      <td>1</td>\n      <td>22.3583</td>\n      <td>0</td>\n      <td>8</td>\n    </tr>\n  </tbody>\n</table>\n<p>263 rows × 9 columns</p>\n</div>"
     },
     "execution_count": 977,
     "metadata": {},
     "output_type": "execute_result"
    }
   ],
   "source": [
    "all_data[pd.isnull(all_data['Age'])]"
   ],
   "metadata": {
    "collapsed": false,
    "pycharm": {
     "name": "#%%\n"
    }
   }
  },
  {
   "cell_type": "code",
   "execution_count": 978,
   "outputs": [
    {
     "name": "stdout",
     "output_type": "stream",
     "text": [
      "891\n"
     ]
    },
    {
     "data": {
      "text/plain": "PassengerId\n1       22.0\n2       38.0\n3       26.0\n4       35.0\n5       35.0\n        ... \n1301     3.0\n1303    37.0\n1304    28.0\n1306    39.0\n1307    38.5\nName: Age, Length: 1046, dtype: float64"
     },
     "execution_count": 978,
     "metadata": {},
     "output_type": "execute_result"
    }
   ],
   "source": [
    "\n",
    "num_train = len(train) # 훈련데이터 개수\n",
    "print(num_train)\n",
    "\n",
    "X_train = all_data[~pd.isnull(all_data['Age'])]\n",
    "X_test = all_data[pd.isnull(all_data['Age'])]\n",
    "\n",
    "\n",
    "X_train = X_train.drop(['Age'] , axis =1)\n",
    "X_test = X_test.drop(['Age'] , axis =1)\n",
    "train2 = all_data[~pd.isnull(all_data['Age'])]\n",
    "y = train2['Age']\n",
    "y"
   ],
   "metadata": {
    "collapsed": false,
    "pycharm": {
     "name": "#%%\n"
    }
   }
  },
  {
   "cell_type": "code",
   "execution_count": 979,
   "outputs": [
    {
     "data": {
      "text/plain": "             Pclass  Name  Sex  SibSp  Parch      Fare  Embarked  Occupation\nPassengerId                                                                 \n1                 3     1    1      1      0    7.2500         2          12\n2                 1     2    0      1      0   71.2833         0          13\n3                 3     0    0      0      0    7.9250         2           9\n4                 1     2    0      1      0   53.1000         2          13\n5                 3     1    1      0      0    8.0500         2          12\n...             ...   ...  ...    ...    ...       ...       ...         ...\n1301              3     0    0      1      1   13.7750         2           9\n1303              1     2    0      1      0   90.0000         1          13\n1304              3     0    0      0      0    7.7750         2           9\n1306              1     3    0      0      0  108.9000         0           3\n1307              3     1    1      0      0    7.2500         2          12\n\n[1046 rows x 8 columns]",
      "text/html": "<div>\n<style scoped>\n    .dataframe tbody tr th:only-of-type {\n        vertical-align: middle;\n    }\n\n    .dataframe tbody tr th {\n        vertical-align: top;\n    }\n\n    .dataframe thead th {\n        text-align: right;\n    }\n</style>\n<table border=\"1\" class=\"dataframe\">\n  <thead>\n    <tr style=\"text-align: right;\">\n      <th></th>\n      <th>Pclass</th>\n      <th>Name</th>\n      <th>Sex</th>\n      <th>SibSp</th>\n      <th>Parch</th>\n      <th>Fare</th>\n      <th>Embarked</th>\n      <th>Occupation</th>\n    </tr>\n    <tr>\n      <th>PassengerId</th>\n      <th></th>\n      <th></th>\n      <th></th>\n      <th></th>\n      <th></th>\n      <th></th>\n      <th></th>\n      <th></th>\n    </tr>\n  </thead>\n  <tbody>\n    <tr>\n      <th>1</th>\n      <td>3</td>\n      <td>1</td>\n      <td>1</td>\n      <td>1</td>\n      <td>0</td>\n      <td>7.2500</td>\n      <td>2</td>\n      <td>12</td>\n    </tr>\n    <tr>\n      <th>2</th>\n      <td>1</td>\n      <td>2</td>\n      <td>0</td>\n      <td>1</td>\n      <td>0</td>\n      <td>71.2833</td>\n      <td>0</td>\n      <td>13</td>\n    </tr>\n    <tr>\n      <th>3</th>\n      <td>3</td>\n      <td>0</td>\n      <td>0</td>\n      <td>0</td>\n      <td>0</td>\n      <td>7.9250</td>\n      <td>2</td>\n      <td>9</td>\n    </tr>\n    <tr>\n      <th>4</th>\n      <td>1</td>\n      <td>2</td>\n      <td>0</td>\n      <td>1</td>\n      <td>0</td>\n      <td>53.1000</td>\n      <td>2</td>\n      <td>13</td>\n    </tr>\n    <tr>\n      <th>5</th>\n      <td>3</td>\n      <td>1</td>\n      <td>1</td>\n      <td>0</td>\n      <td>0</td>\n      <td>8.0500</td>\n      <td>2</td>\n      <td>12</td>\n    </tr>\n    <tr>\n      <th>...</th>\n      <td>...</td>\n      <td>...</td>\n      <td>...</td>\n      <td>...</td>\n      <td>...</td>\n      <td>...</td>\n      <td>...</td>\n      <td>...</td>\n    </tr>\n    <tr>\n      <th>1301</th>\n      <td>3</td>\n      <td>0</td>\n      <td>0</td>\n      <td>1</td>\n      <td>1</td>\n      <td>13.7750</td>\n      <td>2</td>\n      <td>9</td>\n    </tr>\n    <tr>\n      <th>1303</th>\n      <td>1</td>\n      <td>2</td>\n      <td>0</td>\n      <td>1</td>\n      <td>0</td>\n      <td>90.0000</td>\n      <td>1</td>\n      <td>13</td>\n    </tr>\n    <tr>\n      <th>1304</th>\n      <td>3</td>\n      <td>0</td>\n      <td>0</td>\n      <td>0</td>\n      <td>0</td>\n      <td>7.7750</td>\n      <td>2</td>\n      <td>9</td>\n    </tr>\n    <tr>\n      <th>1306</th>\n      <td>1</td>\n      <td>3</td>\n      <td>0</td>\n      <td>0</td>\n      <td>0</td>\n      <td>108.9000</td>\n      <td>0</td>\n      <td>3</td>\n    </tr>\n    <tr>\n      <th>1307</th>\n      <td>3</td>\n      <td>1</td>\n      <td>1</td>\n      <td>0</td>\n      <td>0</td>\n      <td>7.2500</td>\n      <td>2</td>\n      <td>12</td>\n    </tr>\n  </tbody>\n</table>\n<p>1046 rows × 8 columns</p>\n</div>"
     },
     "execution_count": 979,
     "metadata": {},
     "output_type": "execute_result"
    }
   ],
   "source": [
    "X_train"
   ],
   "metadata": {
    "collapsed": false,
    "pycharm": {
     "name": "#%%\n"
    }
   }
  },
  {
   "cell_type": "code",
   "execution_count": 980,
   "outputs": [
    {
     "data": {
      "text/plain": "PassengerId\n1       22.0\n2       38.0\n3       26.0\n4       35.0\n5       35.0\n        ... \n1301     3.0\n1303    37.0\n1304    28.0\n1306    39.0\n1307    38.5\nName: Age, Length: 1046, dtype: float64"
     },
     "execution_count": 980,
     "metadata": {},
     "output_type": "execute_result"
    }
   ],
   "source": [
    "y"
   ],
   "metadata": {
    "collapsed": false,
    "pycharm": {
     "name": "#%%\n"
    }
   }
  },
  {
   "cell_type": "code",
   "execution_count": 981,
   "outputs": [
    {
     "data": {
      "text/plain": "Empty DataFrame\nColumns: [Pclass, Name, Sex, SibSp, Parch, Fare, Embarked, Occupation]\nIndex: []",
      "text/html": "<div>\n<style scoped>\n    .dataframe tbody tr th:only-of-type {\n        vertical-align: middle;\n    }\n\n    .dataframe tbody tr th {\n        vertical-align: top;\n    }\n\n    .dataframe thead th {\n        text-align: right;\n    }\n</style>\n<table border=\"1\" class=\"dataframe\">\n  <thead>\n    <tr style=\"text-align: right;\">\n      <th></th>\n      <th>Pclass</th>\n      <th>Name</th>\n      <th>Sex</th>\n      <th>SibSp</th>\n      <th>Parch</th>\n      <th>Fare</th>\n      <th>Embarked</th>\n      <th>Occupation</th>\n    </tr>\n    <tr>\n      <th>PassengerId</th>\n      <th></th>\n      <th></th>\n      <th></th>\n      <th></th>\n      <th></th>\n      <th></th>\n      <th></th>\n      <th></th>\n    </tr>\n  </thead>\n  <tbody>\n  </tbody>\n</table>\n</div>"
     },
     "execution_count": 981,
     "metadata": {},
     "output_type": "execute_result"
    }
   ],
   "source": [
    "X_train[X_train['Fare'].isnull()==True]"
   ],
   "metadata": {
    "collapsed": false,
    "pycharm": {
     "name": "#%%\n"
    }
   }
  },
  {
   "cell_type": "code",
   "execution_count": 982,
   "outputs": [
    {
     "data": {
      "text/plain": "Empty DataFrame\nColumns: [Pclass, Name, Sex, SibSp, Parch, Fare, Embarked, Occupation]\nIndex: []",
      "text/html": "<div>\n<style scoped>\n    .dataframe tbody tr th:only-of-type {\n        vertical-align: middle;\n    }\n\n    .dataframe tbody tr th {\n        vertical-align: top;\n    }\n\n    .dataframe thead th {\n        text-align: right;\n    }\n</style>\n<table border=\"1\" class=\"dataframe\">\n  <thead>\n    <tr style=\"text-align: right;\">\n      <th></th>\n      <th>Pclass</th>\n      <th>Name</th>\n      <th>Sex</th>\n      <th>SibSp</th>\n      <th>Parch</th>\n      <th>Fare</th>\n      <th>Embarked</th>\n      <th>Occupation</th>\n    </tr>\n    <tr>\n      <th>PassengerId</th>\n      <th></th>\n      <th></th>\n      <th></th>\n      <th></th>\n      <th></th>\n      <th></th>\n      <th></th>\n      <th></th>\n    </tr>\n  </thead>\n  <tbody>\n  </tbody>\n</table>\n</div>"
     },
     "execution_count": 982,
     "metadata": {},
     "output_type": "execute_result"
    }
   ],
   "source": [
    "X_train[X_train['Embarked'].isnull()==True]"
   ],
   "metadata": {
    "collapsed": false,
    "pycharm": {
     "name": "#%%\n"
    }
   }
  },
  {
   "cell_type": "code",
   "execution_count": 983,
   "outputs": [
    {
     "data": {
      "text/plain": "LinearRegression()"
     },
     "execution_count": 983,
     "metadata": {},
     "output_type": "execute_result"
    }
   ],
   "source": [
    "from sklearn.linear_model import LinearRegression\n",
    "\n",
    "linear_reg_model = LinearRegression()\n",
    "\n",
    "linear_reg_model.fit(X_train , y) # 모델 훈련"
   ],
   "metadata": {
    "collapsed": false,
    "pycharm": {
     "name": "#%%\n"
    }
   }
  },
  {
   "cell_type": "code",
   "execution_count": 984,
   "outputs": [
    {
     "data": {
      "text/plain": "array([27.619, 34.839, 29.323, 27.155, 19.583, 28.071, 41.111, 19.582,\n       27.155, 27.159, 28.072, 25.029, 19.582, 21.978, 41.727, 40.762,\n       17.598, 28.071, 28.072, 19.583, 28.072, 28.072, 28.071, 28.07 ,\n       17.057, 28.072, 27.614, 15.509, 27.219, 28.067, 28.076, -0.663,\n       42.95 , 41.661, 13.304, -2.801, 33.941, 41.827, 27.197, 27.614,\n       19.582,  5.231, 24.976, 28.071, 11.166, 20.037, 16.535, 16.998,\n       28.066, 43.285, 27.614, 19.582, 41.696, 19.582, 34.853, 41.661,\n       40.762, 41.692, 19.582, 22.444, 26.347, 28.072, 33.303,  5.231,\n       14.413, 41.933, 28.071, 27.657, 41.723, 27.155, 19.583, 19.583,\n       25.029, 29.323, 19.582, 40.667, 28.071, 27.614, 11.166, 28.071,\n       27.608, 34.853, 30.24 , 27.159, 28.066, 27.614, 27.657, 28.072,\n       25.516, 28.072, 41.369, 27.614, 28.072, 34.853, 27.614, 28.066,\n       41.84 , 34.853, 11.166, 25.516, 27.205, 28.12 , 19.582, 41.665,\n       28.072, 27.727, 27.155, 27.155, 43.011, 27.155, 27.268, 28.116,\n       33.933, 27.615, 42.139, 27.614, 28.072, 20.04 , 27.155, 19.582,\n       26.735, 27.165, 28.072, 17.423, 26.945, 27.155, 28.071, 41.774,\n       28.065, 16.998, 27.614, 27.614, 41.905, 25.489, 28.406, 28.068,\n       28.071, 19.583, 28.071, 28.07 , 41.37 , 34.853, 19.585, 28.406,\n       19.582, 17.598, 41.665, 27.667, 19.582, 34.853, 28.071, 28.071,\n       41.689, 28.116, 26.903, 25.089, 27.155, 27.614, 27.614, 23.38 ,\n       27.614, -2.801, 40.782, 41.905, 27.608, 28.406, 27.614, 27.155,\n       28.072, 40.775,  5.231, 40.715, 27.155, -2.801, 28.082, 28.071,\n       15.349, 28.071, 43.869, 21.978, 25.549, 20.04 , 28.406, 41.665,\n       27.614, 33.945, 25.489, 37.062, 28.072, 28.071, 34.367, 24.566,\n       32.871, 28.07 , 28.072, 27.614, 27.614, 28.076, 19.583, 27.149,\n       24.976, 27.614, 14.413, 26.041, 24.511, 41.839, 41.665, 27.159,\n       19.582, 28.065, 42.93 , 28.068, 27.155, 27.614, -2.801, 41.661,\n       30.241, 19.636, 40.748, 28.065, 19.583, 28.072, 27.219, 19.582,\n       27.615, 28.071, 17.486, 26.735, 28.068, 27.614, 28.071, 41.905,\n       28.068, 20.04 , 27.614, 16.998, 27.155, 19.582, 28.066, 27.155,\n       28.072, 41.755, 27.155, 21.978, 33.941, 19.582, 28.069, 27.155,\n       21.261, 16.14 , 18.504, 28.071, 27.614, 18.308, 24.566, 27.614,\n       30.285, 34.838, 19.582, 19.582, 28.072, 28.072, 17.647])"
     },
     "execution_count": 984,
     "metadata": {},
     "output_type": "execute_result"
    }
   ],
   "source": [
    "preds = linear_reg_model.predict(X_test)\n",
    "preds.tolist()\n",
    "preds"
   ],
   "metadata": {
    "collapsed": false,
    "pycharm": {
     "name": "#%%\n"
    }
   }
  },
  {
   "cell_type": "code",
   "execution_count": 985,
   "outputs": [
    {
     "data": {
      "text/plain": "             Pclass  Name  Sex   Age  SibSp  Parch      Fare  Embarked  \\\nPassengerId                                                              \n1                 3     1    1  22.0      1      0    7.2500         2   \n2                 1     2    0  38.0      1      0   71.2833         0   \n3                 3     0    0  26.0      0      0    7.9250         2   \n4                 1     2    0  35.0      1      0   53.1000         2   \n5                 3     1    1  35.0      0      0    8.0500         2   \n...             ...   ...  ...   ...    ...    ...       ...       ...   \n1305              3     1    1   NaN      0      0    8.0500         2   \n1306              1     3    0  39.0      0      0  108.9000         0   \n1307              3     1    1  38.5      0      0    7.2500         2   \n1308              3     1    1   NaN      0      0    8.0500         2   \n1309              3     3    1   NaN      1      1   22.3583         0   \n\n             Occupation  \nPassengerId              \n1                    12  \n2                    13  \n3                     9  \n4                    13  \n5                    12  \n...                 ...  \n1305                 12  \n1306                  3  \n1307                 12  \n1308                 12  \n1309                  8  \n\n[1309 rows x 9 columns]",
      "text/html": "<div>\n<style scoped>\n    .dataframe tbody tr th:only-of-type {\n        vertical-align: middle;\n    }\n\n    .dataframe tbody tr th {\n        vertical-align: top;\n    }\n\n    .dataframe thead th {\n        text-align: right;\n    }\n</style>\n<table border=\"1\" class=\"dataframe\">\n  <thead>\n    <tr style=\"text-align: right;\">\n      <th></th>\n      <th>Pclass</th>\n      <th>Name</th>\n      <th>Sex</th>\n      <th>Age</th>\n      <th>SibSp</th>\n      <th>Parch</th>\n      <th>Fare</th>\n      <th>Embarked</th>\n      <th>Occupation</th>\n    </tr>\n    <tr>\n      <th>PassengerId</th>\n      <th></th>\n      <th></th>\n      <th></th>\n      <th></th>\n      <th></th>\n      <th></th>\n      <th></th>\n      <th></th>\n      <th></th>\n    </tr>\n  </thead>\n  <tbody>\n    <tr>\n      <th>1</th>\n      <td>3</td>\n      <td>1</td>\n      <td>1</td>\n      <td>22.0</td>\n      <td>1</td>\n      <td>0</td>\n      <td>7.2500</td>\n      <td>2</td>\n      <td>12</td>\n    </tr>\n    <tr>\n      <th>2</th>\n      <td>1</td>\n      <td>2</td>\n      <td>0</td>\n      <td>38.0</td>\n      <td>1</td>\n      <td>0</td>\n      <td>71.2833</td>\n      <td>0</td>\n      <td>13</td>\n    </tr>\n    <tr>\n      <th>3</th>\n      <td>3</td>\n      <td>0</td>\n      <td>0</td>\n      <td>26.0</td>\n      <td>0</td>\n      <td>0</td>\n      <td>7.9250</td>\n      <td>2</td>\n      <td>9</td>\n    </tr>\n    <tr>\n      <th>4</th>\n      <td>1</td>\n      <td>2</td>\n      <td>0</td>\n      <td>35.0</td>\n      <td>1</td>\n      <td>0</td>\n      <td>53.1000</td>\n      <td>2</td>\n      <td>13</td>\n    </tr>\n    <tr>\n      <th>5</th>\n      <td>3</td>\n      <td>1</td>\n      <td>1</td>\n      <td>35.0</td>\n      <td>0</td>\n      <td>0</td>\n      <td>8.0500</td>\n      <td>2</td>\n      <td>12</td>\n    </tr>\n    <tr>\n      <th>...</th>\n      <td>...</td>\n      <td>...</td>\n      <td>...</td>\n      <td>...</td>\n      <td>...</td>\n      <td>...</td>\n      <td>...</td>\n      <td>...</td>\n      <td>...</td>\n    </tr>\n    <tr>\n      <th>1305</th>\n      <td>3</td>\n      <td>1</td>\n      <td>1</td>\n      <td>NaN</td>\n      <td>0</td>\n      <td>0</td>\n      <td>8.0500</td>\n      <td>2</td>\n      <td>12</td>\n    </tr>\n    <tr>\n      <th>1306</th>\n      <td>1</td>\n      <td>3</td>\n      <td>0</td>\n      <td>39.0</td>\n      <td>0</td>\n      <td>0</td>\n      <td>108.9000</td>\n      <td>0</td>\n      <td>3</td>\n    </tr>\n    <tr>\n      <th>1307</th>\n      <td>3</td>\n      <td>1</td>\n      <td>1</td>\n      <td>38.5</td>\n      <td>0</td>\n      <td>0</td>\n      <td>7.2500</td>\n      <td>2</td>\n      <td>12</td>\n    </tr>\n    <tr>\n      <th>1308</th>\n      <td>3</td>\n      <td>1</td>\n      <td>1</td>\n      <td>NaN</td>\n      <td>0</td>\n      <td>0</td>\n      <td>8.0500</td>\n      <td>2</td>\n      <td>12</td>\n    </tr>\n    <tr>\n      <th>1309</th>\n      <td>3</td>\n      <td>3</td>\n      <td>1</td>\n      <td>NaN</td>\n      <td>1</td>\n      <td>1</td>\n      <td>22.3583</td>\n      <td>0</td>\n      <td>8</td>\n    </tr>\n  </tbody>\n</table>\n<p>1309 rows × 9 columns</p>\n</div>"
     },
     "execution_count": 985,
     "metadata": {},
     "output_type": "execute_result"
    }
   ],
   "source": [
    "all_data"
   ],
   "metadata": {
    "collapsed": false,
    "pycharm": {
     "name": "#%%\n"
    }
   }
  },
  {
   "cell_type": "code",
   "execution_count": 986,
   "outputs": [
    {
     "name": "stdout",
     "output_type": "stream",
     "text": [
      "<class 'pandas.core.frame.DataFrame'>\n",
      "Int64Index: 1309 entries, 1 to 1309\n",
      "Data columns (total 9 columns):\n",
      " #   Column      Non-Null Count  Dtype  \n",
      "---  ------      --------------  -----  \n",
      " 0   Pclass      1309 non-null   int64  \n",
      " 1   Name        1309 non-null   int32  \n",
      " 2   Sex         1309 non-null   int32  \n",
      " 3   Age         1046 non-null   float64\n",
      " 4   SibSp       1309 non-null   int64  \n",
      " 5   Parch       1309 non-null   int64  \n",
      " 6   Fare        1309 non-null   float64\n",
      " 7   Embarked    1309 non-null   int32  \n",
      " 8   Occupation  1309 non-null   int32  \n",
      "dtypes: float64(2), int32(4), int64(3)\n",
      "memory usage: 114.1 KB\n"
     ]
    }
   ],
   "source": [
    "all_data.info()"
   ],
   "metadata": {
    "collapsed": false,
    "pycharm": {
     "name": "#%%\n"
    }
   }
  },
  {
   "cell_type": "code",
   "execution_count": 987,
   "outputs": [],
   "source": [
    "nan_idx = all_data['Age'].isnull()\n",
    "all_data.loc[nan_idx, 'Age'] = preds"
   ],
   "metadata": {
    "collapsed": false,
    "pycharm": {
     "name": "#%%\n"
    }
   }
  },
  {
   "cell_type": "code",
   "execution_count": 988,
   "outputs": [
    {
     "data": {
      "text/plain": "             Pclass  Name  Sex        Age  SibSp  Parch      Fare  Embarked  \\\nPassengerId                                                                   \n1                 3     1    1  22.000000      1      0    7.2500         2   \n2                 1     2    0  38.000000      1      0   71.2833         0   \n3                 3     0    0  26.000000      0      0    7.9250         2   \n4                 1     2    0  35.000000      1      0   53.1000         2   \n5                 3     1    1  35.000000      0      0    8.0500         2   \n...             ...   ...  ...        ...    ...    ...       ...       ...   \n1305              3     1    1  28.071796      0      0    8.0500         2   \n1306              1     3    0  39.000000      0      0  108.9000         0   \n1307              3     1    1  38.500000      0      0    7.2500         2   \n1308              3     1    1  28.071796      0      0    8.0500         2   \n1309              3     3    1  17.647205      1      1   22.3583         0   \n\n             Occupation  \nPassengerId              \n1                    12  \n2                    13  \n3                     9  \n4                    13  \n5                    12  \n...                 ...  \n1305                 12  \n1306                  3  \n1307                 12  \n1308                 12  \n1309                  8  \n\n[1309 rows x 9 columns]",
      "text/html": "<div>\n<style scoped>\n    .dataframe tbody tr th:only-of-type {\n        vertical-align: middle;\n    }\n\n    .dataframe tbody tr th {\n        vertical-align: top;\n    }\n\n    .dataframe thead th {\n        text-align: right;\n    }\n</style>\n<table border=\"1\" class=\"dataframe\">\n  <thead>\n    <tr style=\"text-align: right;\">\n      <th></th>\n      <th>Pclass</th>\n      <th>Name</th>\n      <th>Sex</th>\n      <th>Age</th>\n      <th>SibSp</th>\n      <th>Parch</th>\n      <th>Fare</th>\n      <th>Embarked</th>\n      <th>Occupation</th>\n    </tr>\n    <tr>\n      <th>PassengerId</th>\n      <th></th>\n      <th></th>\n      <th></th>\n      <th></th>\n      <th></th>\n      <th></th>\n      <th></th>\n      <th></th>\n      <th></th>\n    </tr>\n  </thead>\n  <tbody>\n    <tr>\n      <th>1</th>\n      <td>3</td>\n      <td>1</td>\n      <td>1</td>\n      <td>22.000000</td>\n      <td>1</td>\n      <td>0</td>\n      <td>7.2500</td>\n      <td>2</td>\n      <td>12</td>\n    </tr>\n    <tr>\n      <th>2</th>\n      <td>1</td>\n      <td>2</td>\n      <td>0</td>\n      <td>38.000000</td>\n      <td>1</td>\n      <td>0</td>\n      <td>71.2833</td>\n      <td>0</td>\n      <td>13</td>\n    </tr>\n    <tr>\n      <th>3</th>\n      <td>3</td>\n      <td>0</td>\n      <td>0</td>\n      <td>26.000000</td>\n      <td>0</td>\n      <td>0</td>\n      <td>7.9250</td>\n      <td>2</td>\n      <td>9</td>\n    </tr>\n    <tr>\n      <th>4</th>\n      <td>1</td>\n      <td>2</td>\n      <td>0</td>\n      <td>35.000000</td>\n      <td>1</td>\n      <td>0</td>\n      <td>53.1000</td>\n      <td>2</td>\n      <td>13</td>\n    </tr>\n    <tr>\n      <th>5</th>\n      <td>3</td>\n      <td>1</td>\n      <td>1</td>\n      <td>35.000000</td>\n      <td>0</td>\n      <td>0</td>\n      <td>8.0500</td>\n      <td>2</td>\n      <td>12</td>\n    </tr>\n    <tr>\n      <th>...</th>\n      <td>...</td>\n      <td>...</td>\n      <td>...</td>\n      <td>...</td>\n      <td>...</td>\n      <td>...</td>\n      <td>...</td>\n      <td>...</td>\n      <td>...</td>\n    </tr>\n    <tr>\n      <th>1305</th>\n      <td>3</td>\n      <td>1</td>\n      <td>1</td>\n      <td>28.071796</td>\n      <td>0</td>\n      <td>0</td>\n      <td>8.0500</td>\n      <td>2</td>\n      <td>12</td>\n    </tr>\n    <tr>\n      <th>1306</th>\n      <td>1</td>\n      <td>3</td>\n      <td>0</td>\n      <td>39.000000</td>\n      <td>0</td>\n      <td>0</td>\n      <td>108.9000</td>\n      <td>0</td>\n      <td>3</td>\n    </tr>\n    <tr>\n      <th>1307</th>\n      <td>3</td>\n      <td>1</td>\n      <td>1</td>\n      <td>38.500000</td>\n      <td>0</td>\n      <td>0</td>\n      <td>7.2500</td>\n      <td>2</td>\n      <td>12</td>\n    </tr>\n    <tr>\n      <th>1308</th>\n      <td>3</td>\n      <td>1</td>\n      <td>1</td>\n      <td>28.071796</td>\n      <td>0</td>\n      <td>0</td>\n      <td>8.0500</td>\n      <td>2</td>\n      <td>12</td>\n    </tr>\n    <tr>\n      <th>1309</th>\n      <td>3</td>\n      <td>3</td>\n      <td>1</td>\n      <td>17.647205</td>\n      <td>1</td>\n      <td>1</td>\n      <td>22.3583</td>\n      <td>0</td>\n      <td>8</td>\n    </tr>\n  </tbody>\n</table>\n<p>1309 rows × 9 columns</p>\n</div>"
     },
     "execution_count": 988,
     "metadata": {},
     "output_type": "execute_result"
    }
   ],
   "source": [
    "all_data"
   ],
   "metadata": {
    "collapsed": false,
    "pycharm": {
     "name": "#%%\n"
    }
   }
  },
  {
   "cell_type": "markdown",
   "source": [
    "## 위에꺼 까지가 연령에 대한 전처리 ==> 회귀 분석 사용"
   ],
   "metadata": {
    "collapsed": false,
    "pycharm": {
     "name": "#%% md\n"
    }
   }
  },
  {
   "cell_type": "code",
   "execution_count": 989,
   "outputs": [
    {
     "name": "stdout",
     "output_type": "stream",
     "text": [
      "<class 'pandas.core.frame.DataFrame'>\n",
      "Int64Index: 1309 entries, 1 to 1309\n",
      "Data columns (total 9 columns):\n",
      " #   Column      Non-Null Count  Dtype  \n",
      "---  ------      --------------  -----  \n",
      " 0   Pclass      1309 non-null   int64  \n",
      " 1   Name        1309 non-null   int32  \n",
      " 2   Sex         1309 non-null   int32  \n",
      " 3   Age         1309 non-null   float64\n",
      " 4   SibSp       1309 non-null   int64  \n",
      " 5   Parch       1309 non-null   int64  \n",
      " 6   Fare        1309 non-null   float64\n",
      " 7   Embarked    1309 non-null   int32  \n",
      " 8   Occupation  1309 non-null   int32  \n",
      "dtypes: float64(2), int32(4), int64(3)\n",
      "memory usage: 114.1 KB\n"
     ]
    }
   ],
   "source": [
    "all_data.info()"
   ],
   "metadata": {
    "collapsed": false,
    "pycharm": {
     "name": "#%%\n"
    }
   }
  },
  {
   "cell_type": "code",
   "execution_count": 990,
   "outputs": [
    {
     "data": {
      "text/plain": "             Pclass        Age  SibSp  Parch      Fare\nPassengerId                                           \n1                 3  22.000000      1      0    7.2500\n2                 1  38.000000      1      0   71.2833\n3                 3  26.000000      0      0    7.9250\n4                 1  35.000000      1      0   53.1000\n5                 3  35.000000      0      0    8.0500\n...             ...        ...    ...    ...       ...\n1305              3  28.071796      0      0    8.0500\n1306              1  39.000000      0      0  108.9000\n1307              3  38.500000      0      0    7.2500\n1308              3  28.071796      0      0    8.0500\n1309              3  17.647205      1      1   22.3583\n\n[1309 rows x 5 columns]",
      "text/html": "<div>\n<style scoped>\n    .dataframe tbody tr th:only-of-type {\n        vertical-align: middle;\n    }\n\n    .dataframe tbody tr th {\n        vertical-align: top;\n    }\n\n    .dataframe thead th {\n        text-align: right;\n    }\n</style>\n<table border=\"1\" class=\"dataframe\">\n  <thead>\n    <tr style=\"text-align: right;\">\n      <th></th>\n      <th>Pclass</th>\n      <th>Age</th>\n      <th>SibSp</th>\n      <th>Parch</th>\n      <th>Fare</th>\n    </tr>\n    <tr>\n      <th>PassengerId</th>\n      <th></th>\n      <th></th>\n      <th></th>\n      <th></th>\n      <th></th>\n    </tr>\n  </thead>\n  <tbody>\n    <tr>\n      <th>1</th>\n      <td>3</td>\n      <td>22.000000</td>\n      <td>1</td>\n      <td>0</td>\n      <td>7.2500</td>\n    </tr>\n    <tr>\n      <th>2</th>\n      <td>1</td>\n      <td>38.000000</td>\n      <td>1</td>\n      <td>0</td>\n      <td>71.2833</td>\n    </tr>\n    <tr>\n      <th>3</th>\n      <td>3</td>\n      <td>26.000000</td>\n      <td>0</td>\n      <td>0</td>\n      <td>7.9250</td>\n    </tr>\n    <tr>\n      <th>4</th>\n      <td>1</td>\n      <td>35.000000</td>\n      <td>1</td>\n      <td>0</td>\n      <td>53.1000</td>\n    </tr>\n    <tr>\n      <th>5</th>\n      <td>3</td>\n      <td>35.000000</td>\n      <td>0</td>\n      <td>0</td>\n      <td>8.0500</td>\n    </tr>\n    <tr>\n      <th>...</th>\n      <td>...</td>\n      <td>...</td>\n      <td>...</td>\n      <td>...</td>\n      <td>...</td>\n    </tr>\n    <tr>\n      <th>1305</th>\n      <td>3</td>\n      <td>28.071796</td>\n      <td>0</td>\n      <td>0</td>\n      <td>8.0500</td>\n    </tr>\n    <tr>\n      <th>1306</th>\n      <td>1</td>\n      <td>39.000000</td>\n      <td>0</td>\n      <td>0</td>\n      <td>108.9000</td>\n    </tr>\n    <tr>\n      <th>1307</th>\n      <td>3</td>\n      <td>38.500000</td>\n      <td>0</td>\n      <td>0</td>\n      <td>7.2500</td>\n    </tr>\n    <tr>\n      <th>1308</th>\n      <td>3</td>\n      <td>28.071796</td>\n      <td>0</td>\n      <td>0</td>\n      <td>8.0500</td>\n    </tr>\n    <tr>\n      <th>1309</th>\n      <td>3</td>\n      <td>17.647205</td>\n      <td>1</td>\n      <td>1</td>\n      <td>22.3583</td>\n    </tr>\n  </tbody>\n</table>\n<p>1309 rows × 5 columns</p>\n</div>"
     },
     "execution_count": 990,
     "metadata": {},
     "output_type": "execute_result"
    }
   ],
   "source": [
    "all_data[binary_col]"
   ],
   "metadata": {
    "collapsed": false,
    "pycharm": {
     "name": "#%%\n"
    }
   }
  },
  {
   "cell_type": "code",
   "execution_count": 991,
   "outputs": [
    {
     "name": "stdout",
     "output_type": "stream",
     "text": [
      "<class 'pandas.core.frame.DataFrame'>\n",
      "Int64Index: 1309 entries, 1 to 1309\n",
      "Data columns (total 5 columns):\n",
      " #   Column  Non-Null Count  Dtype  \n",
      "---  ------  --------------  -----  \n",
      " 0   Pclass  1309 non-null   int64  \n",
      " 1   Age     1309 non-null   float64\n",
      " 2   SibSp   1309 non-null   int64  \n",
      " 3   Parch   1309 non-null   int64  \n",
      " 4   Fare    1309 non-null   float64\n",
      "dtypes: float64(2), int64(3)\n",
      "memory usage: 93.6 KB\n"
     ]
    }
   ],
   "source": [
    "all_data[binary_col].info()"
   ],
   "metadata": {
    "collapsed": false,
    "pycharm": {
     "name": "#%%\n"
    }
   }
  },
  {
   "cell_type": "code",
   "execution_count": 992,
   "outputs": [
    {
     "data": {
      "text/plain": "             Pclass  Name  Sex        Age  SibSp  Parch      Fare  Embarked  \\\nPassengerId                                                                   \n1                 3     1    1  22.000000      1      0    7.2500         2   \n2                 1     2    0  38.000000      1      0   71.2833         0   \n3                 3     0    0  26.000000      0      0    7.9250         2   \n4                 1     2    0  35.000000      1      0   53.1000         2   \n5                 3     1    1  35.000000      0      0    8.0500         2   \n...             ...   ...  ...        ...    ...    ...       ...       ...   \n1305              3     1    1  28.071796      0      0    8.0500         2   \n1306              1     3    0  39.000000      0      0  108.9000         0   \n1307              3     1    1  38.500000      0      0    7.2500         2   \n1308              3     1    1  28.071796      0      0    8.0500         2   \n1309              3     3    1  17.647205      1      1   22.3583         0   \n\n             Occupation  \nPassengerId              \n1                    12  \n2                    13  \n3                     9  \n4                    13  \n5                    12  \n...                 ...  \n1305                 12  \n1306                  3  \n1307                 12  \n1308                 12  \n1309                  8  \n\n[1309 rows x 9 columns]",
      "text/html": "<div>\n<style scoped>\n    .dataframe tbody tr th:only-of-type {\n        vertical-align: middle;\n    }\n\n    .dataframe tbody tr th {\n        vertical-align: top;\n    }\n\n    .dataframe thead th {\n        text-align: right;\n    }\n</style>\n<table border=\"1\" class=\"dataframe\">\n  <thead>\n    <tr style=\"text-align: right;\">\n      <th></th>\n      <th>Pclass</th>\n      <th>Name</th>\n      <th>Sex</th>\n      <th>Age</th>\n      <th>SibSp</th>\n      <th>Parch</th>\n      <th>Fare</th>\n      <th>Embarked</th>\n      <th>Occupation</th>\n    </tr>\n    <tr>\n      <th>PassengerId</th>\n      <th></th>\n      <th></th>\n      <th></th>\n      <th></th>\n      <th></th>\n      <th></th>\n      <th></th>\n      <th></th>\n      <th></th>\n    </tr>\n  </thead>\n  <tbody>\n    <tr>\n      <th>1</th>\n      <td>3</td>\n      <td>1</td>\n      <td>1</td>\n      <td>22.000000</td>\n      <td>1</td>\n      <td>0</td>\n      <td>7.2500</td>\n      <td>2</td>\n      <td>12</td>\n    </tr>\n    <tr>\n      <th>2</th>\n      <td>1</td>\n      <td>2</td>\n      <td>0</td>\n      <td>38.000000</td>\n      <td>1</td>\n      <td>0</td>\n      <td>71.2833</td>\n      <td>0</td>\n      <td>13</td>\n    </tr>\n    <tr>\n      <th>3</th>\n      <td>3</td>\n      <td>0</td>\n      <td>0</td>\n      <td>26.000000</td>\n      <td>0</td>\n      <td>0</td>\n      <td>7.9250</td>\n      <td>2</td>\n      <td>9</td>\n    </tr>\n    <tr>\n      <th>4</th>\n      <td>1</td>\n      <td>2</td>\n      <td>0</td>\n      <td>35.000000</td>\n      <td>1</td>\n      <td>0</td>\n      <td>53.1000</td>\n      <td>2</td>\n      <td>13</td>\n    </tr>\n    <tr>\n      <th>5</th>\n      <td>3</td>\n      <td>1</td>\n      <td>1</td>\n      <td>35.000000</td>\n      <td>0</td>\n      <td>0</td>\n      <td>8.0500</td>\n      <td>2</td>\n      <td>12</td>\n    </tr>\n    <tr>\n      <th>...</th>\n      <td>...</td>\n      <td>...</td>\n      <td>...</td>\n      <td>...</td>\n      <td>...</td>\n      <td>...</td>\n      <td>...</td>\n      <td>...</td>\n      <td>...</td>\n    </tr>\n    <tr>\n      <th>1305</th>\n      <td>3</td>\n      <td>1</td>\n      <td>1</td>\n      <td>28.071796</td>\n      <td>0</td>\n      <td>0</td>\n      <td>8.0500</td>\n      <td>2</td>\n      <td>12</td>\n    </tr>\n    <tr>\n      <th>1306</th>\n      <td>1</td>\n      <td>3</td>\n      <td>0</td>\n      <td>39.000000</td>\n      <td>0</td>\n      <td>0</td>\n      <td>108.9000</td>\n      <td>0</td>\n      <td>3</td>\n    </tr>\n    <tr>\n      <th>1307</th>\n      <td>3</td>\n      <td>1</td>\n      <td>1</td>\n      <td>38.500000</td>\n      <td>0</td>\n      <td>0</td>\n      <td>7.2500</td>\n      <td>2</td>\n      <td>12</td>\n    </tr>\n    <tr>\n      <th>1308</th>\n      <td>3</td>\n      <td>1</td>\n      <td>1</td>\n      <td>28.071796</td>\n      <td>0</td>\n      <td>0</td>\n      <td>8.0500</td>\n      <td>2</td>\n      <td>12</td>\n    </tr>\n    <tr>\n      <th>1309</th>\n      <td>3</td>\n      <td>3</td>\n      <td>1</td>\n      <td>17.647205</td>\n      <td>1</td>\n      <td>1</td>\n      <td>22.3583</td>\n      <td>0</td>\n      <td>8</td>\n    </tr>\n  </tbody>\n</table>\n<p>1309 rows × 9 columns</p>\n</div>"
     },
     "execution_count": 992,
     "metadata": {},
     "output_type": "execute_result"
    }
   ],
   "source": [
    "all_data"
   ],
   "metadata": {
    "collapsed": false,
    "pycharm": {
     "name": "#%%\n"
    }
   }
  },
  {
   "cell_type": "markdown",
   "source": [
    "## 성능 개선 없이 그냥 베이스라인 모델 돌려보기"
   ],
   "metadata": {
    "collapsed": false,
    "pycharm": {
     "name": "#%% md\n"
    }
   }
  },
  {
   "cell_type": "code",
   "execution_count": 993,
   "outputs": [
    {
     "data": {
      "text/plain": "<1309x559 sparse matrix of type '<class 'numpy.float64'>'\n\twith 11781 stored elements in Compressed Sparse Row format>"
     },
     "execution_count": 993,
     "metadata": {},
     "output_type": "execute_result"
    }
   ],
   "source": [
    "from sklearn.preprocessing import OneHotEncoder\n",
    "\n",
    "encoder = OneHotEncoder() # 원-핫 인코더 생성\n",
    "\n",
    "all_data_encoded = encoder.fit_transform(all_data)\n",
    "\n",
    "all_data_encoded"
   ],
   "metadata": {
    "collapsed": false,
    "pycharm": {
     "name": "#%%\n"
    }
   }
  },
  {
   "cell_type": "markdown",
   "source": [
    "### 데이터 나누기"
   ],
   "metadata": {
    "collapsed": false,
    "pycharm": {
     "name": "#%% md\n"
    }
   }
  },
  {
   "cell_type": "code",
   "execution_count": 994,
   "outputs": [],
   "source": [
    "num_train = len(train) # 훈련 데이터 개수\n",
    "\n",
    "# 훈련 데이터와 테스트 데이터 나누기\n",
    "\n",
    "X_train = all_data_encoded[:num_train] # 0~num_train -1 행\n",
    "X_test = all_data_encoded[num_train:] # num_train ~ 마지막 행\n",
    "\n",
    "y = train['Survived']"
   ],
   "metadata": {
    "collapsed": false,
    "pycharm": {
     "name": "#%%\n"
    }
   }
  },
  {
   "cell_type": "code",
   "execution_count": 995,
   "outputs": [],
   "source": [
    "from sklearn.model_selection import train_test_split\n",
    "\n",
    "# 훈련 데이터 , 검증 데이터 분리\n",
    "\n",
    "X_train , X_valid , y_train , y_valid = train_test_split(X_train , y , test_size=0.1 , stratify=y,random_state=10)\n",
    "\n",
    "# test_size 는 검증 데이터 크기를 지정하는 파라미터이다.\n",
    "# 값이 정수면 검증 데이터의 개수를 , 실수면 비율을 의미한다. 여기서는 0.1을 전달했으므로 10%를 검증 데이터로 분리하겠다는 의미이다.\n",
    "\n",
    "# stratify 파라미터를 지정하지 않으면 훈련 데이터와 검증 데이터에 타깃값이 불균형하게 분포 될 수 있다."
   ],
   "metadata": {
    "collapsed": false,
    "pycharm": {
     "name": "#%%\n"
    }
   }
  },
  {
   "cell_type": "markdown",
   "source": [
    "### 모델 훈련"
   ],
   "metadata": {
    "collapsed": false,
    "pycharm": {
     "name": "#%% md\n"
    }
   }
  },
  {
   "cell_type": "code",
   "execution_count": 996,
   "outputs": [
    {
     "data": {
      "text/plain": "LogisticRegression(max_iter=1000, random_state=42)"
     },
     "execution_count": 996,
     "metadata": {},
     "output_type": "execute_result"
    }
   ],
   "source": [
    "from sklearn.linear_model import LogisticRegression\n",
    "\n",
    "logistic_model = LogisticRegression(max_iter = 1000 , random_state=42)\n",
    "logistic_model.fit(X_train,y_train) # 모델 훈련"
   ],
   "metadata": {
    "collapsed": false,
    "pycharm": {
     "name": "#%%\n"
    }
   }
  },
  {
   "cell_type": "markdown",
   "source": [
    "# 모델 성능 검증\n",
    "\n",
    "- predict()는 타깃값 자체를 예측한다.\n",
    "\n",
    "- predict_proba()는 타깃값의 확률(0일 확률과 1일 확률)을 예측한다."
   ],
   "metadata": {
    "collapsed": false,
    "pycharm": {
     "name": "#%% md\n"
    }
   }
  },
  {
   "cell_type": "code",
   "execution_count": 997,
   "outputs": [
    {
     "data": {
      "text/plain": "array([[0.862, 0.138],\n       [0.589, 0.411],\n       [0.721, 0.279],\n       [0.849, 0.151],\n       [0.929, 0.071],\n       [0.906, 0.094],\n       [0.287, 0.713],\n       [0.145, 0.855],\n       [0.947, 0.053],\n       [0.392, 0.608],\n       [0.631, 0.369],\n       [0.946, 0.054],\n       [0.135, 0.865],\n       [0.976, 0.024],\n       [0.967, 0.033],\n       [0.571, 0.429],\n       [0.855, 0.145],\n       [0.306, 0.694],\n       [0.2  , 0.8  ],\n       [0.965, 0.035],\n       [0.927, 0.073],\n       [0.029, 0.971],\n       [0.016, 0.984],\n       [0.878, 0.122],\n       [0.522, 0.478],\n       [0.595, 0.405],\n       [0.703, 0.297],\n       [0.837, 0.163],\n       [0.393, 0.607],\n       [0.121, 0.879],\n       [0.601, 0.399],\n       [0.065, 0.935],\n       [0.955, 0.045],\n       [0.942, 0.058],\n       [0.032, 0.968],\n       [0.618, 0.382],\n       [0.903, 0.097],\n       [0.767, 0.233],\n       [0.792, 0.208],\n       [0.795, 0.205],\n       [0.917, 0.083],\n       [0.261, 0.739],\n       [0.684, 0.316],\n       [0.8  , 0.2  ],\n       [0.884, 0.116],\n       [0.952, 0.048],\n       [0.33 , 0.67 ],\n       [0.041, 0.959],\n       [0.082, 0.918],\n       [0.322, 0.678],\n       [0.95 , 0.05 ],\n       [0.097, 0.903],\n       [0.58 , 0.42 ],\n       [0.441, 0.559],\n       [0.038, 0.962],\n       [0.064, 0.936],\n       [0.95 , 0.05 ],\n       [0.177, 0.823],\n       [0.958, 0.042],\n       [0.657, 0.343],\n       [0.207, 0.793],\n       [0.931, 0.069],\n       [0.135, 0.865],\n       [0.688, 0.312],\n       [0.853, 0.147],\n       [0.818, 0.182],\n       [0.687, 0.313],\n       [0.206, 0.794],\n       [0.81 , 0.19 ],\n       [0.993, 0.007],\n       [0.953, 0.047],\n       [0.186, 0.814],\n       [0.261, 0.739],\n       [0.038, 0.962],\n       [0.95 , 0.05 ],\n       [0.045, 0.955],\n       [0.898, 0.102],\n       [0.936, 0.064],\n       [0.098, 0.902],\n       [0.771, 0.229],\n       [0.522, 0.478],\n       [0.67 , 0.33 ],\n       [0.355, 0.645],\n       [0.513, 0.487],\n       [0.84 , 0.16 ],\n       [0.734, 0.266],\n       [0.633, 0.367],\n       [0.864, 0.136],\n       [0.81 , 0.19 ],\n       [0.182, 0.818]])"
     },
     "execution_count": 997,
     "metadata": {},
     "output_type": "execute_result"
    }
   ],
   "source": [
    "logistic_model.predict_proba(X_valid)"
   ],
   "metadata": {
    "collapsed": false,
    "pycharm": {
     "name": "#%%\n"
    }
   }
  },
  {
   "cell_type": "code",
   "execution_count": 998,
   "outputs": [
    {
     "data": {
      "text/plain": "array([0, 0, 0, 0, 0, 0, 1, 1, 0, 1, 0, 0, 1, 0, 0, 0, 0, 1, 1, 0, 0, 1,\n       1, 0, 0, 0, 0, 0, 1, 1, 0, 1, 0, 0, 1, 0, 0, 0, 0, 0, 0, 1, 0, 0,\n       0, 0, 1, 1, 1, 1, 0, 1, 0, 1, 1, 1, 0, 1, 0, 0, 1, 0, 1, 0, 0, 0,\n       0, 1, 0, 0, 0, 1, 1, 1, 0, 1, 0, 0, 1, 0, 0, 0, 1, 0, 0, 0, 0, 0,\n       0, 1], dtype=int64)"
     },
     "execution_count": 998,
     "metadata": {},
     "output_type": "execute_result"
    }
   ],
   "source": [
    "logistic_model.predict(X_valid)"
   ],
   "metadata": {
    "collapsed": false,
    "pycharm": {
     "name": "#%%\n"
    }
   }
  },
  {
   "cell_type": "code",
   "execution_count": 999,
   "outputs": [],
   "source": [
    "# 검증 데이터를 활용한 타깃 예측\n",
    "\n",
    "y_valid_preds = logistic_model.predict_proba(X_valid)[:,1]"
   ],
   "metadata": {
    "collapsed": false,
    "pycharm": {
     "name": "#%%\n"
    }
   }
  },
  {
   "cell_type": "code",
   "execution_count": 1000,
   "outputs": [
    {
     "name": "stdout",
     "output_type": "stream",
     "text": [
      "검증 데이터 ROC AUC : 0.9055\n"
     ]
    }
   ],
   "source": [
    "from sklearn.metrics import roc_auc_score # ROC AUC 점수 계산 함수\n",
    "\n",
    "# 검증 데이터 ROC AUC\n",
    "\n",
    "roc_auc = roc_auc_score(y_valid , y_valid_preds)\n",
    "\n",
    "print(f'검증 데이터 ROC AUC : {roc_auc:.4f}')"
   ],
   "metadata": {
    "collapsed": false,
    "pycharm": {
     "name": "#%%\n"
    }
   }
  },
  {
   "cell_type": "code",
   "execution_count": 1001,
   "outputs": [
    {
     "data": {
      "text/plain": "array([0, 0, 0, 0, 1, 0, 0, 0, 1, 0, 0, 0, 1, 0, 1, 1, 0, 0, 1, 1, 0, 0,\n       1, 0, 1, 0, 1, 0, 0, 0, 0, 0, 1, 0, 0, 0, 1, 0, 0, 0, 0, 0, 0, 1,\n       1, 0, 0, 0, 1, 1, 0, 1, 1, 1, 0, 0, 0, 0, 0, 1, 0, 0, 0, 1, 1, 1,\n       1, 0, 1, 1, 1, 0, 1, 0, 1, 0, 0, 1, 0, 1, 1, 0, 0, 0, 0, 0, 1, 1,\n       1, 1, 1, 0, 1, 0, 0, 0, 1, 0, 1, 0, 1, 0, 0, 0, 1, 0, 0, 0, 0, 0,\n       0, 1, 1, 1, 1, 0, 0, 1, 1, 1, 1, 0, 1, 0, 0, 1, 0, 1, 0, 0, 0, 1,\n       0, 0, 0, 0, 0, 0, 1, 0, 0, 1, 0, 0, 1, 0, 0, 0, 0, 0, 1, 0, 0, 1,\n       1, 0, 1, 0, 1, 1, 1, 0, 1, 0, 0, 1, 0, 0, 1, 1, 0, 0, 0, 0, 0, 1,\n       1, 0, 1, 1, 0, 0, 1, 0, 1, 0, 1, 0, 0, 0, 0, 0, 0, 0, 1, 0, 1, 0,\n       0, 1, 1, 0, 0, 1, 0, 0, 1, 0, 1, 0, 0, 0, 0, 1, 0, 0, 1, 0, 1, 0,\n       1, 0, 1, 0, 1, 0, 0, 1, 0, 0, 0, 1, 0, 0, 0, 0, 0, 0, 1, 1, 1, 1,\n       0, 0, 0, 0, 1, 0, 1, 0, 1, 0, 1, 0, 0, 0, 0, 0, 1, 0, 0, 0, 1, 1,\n       0, 0, 0, 0, 1, 0, 0, 0, 1, 1, 0, 1, 0, 0, 0, 0, 0, 1, 1, 0, 0, 0,\n       0, 0, 0, 0, 0, 1, 0, 0, 0, 0, 1, 0, 0, 0, 0, 0, 0, 0, 1, 1, 0, 1,\n       0, 1, 0, 0, 0, 1, 1, 1, 0, 0, 0, 0, 0, 0, 0, 0, 1, 0, 1, 0, 0, 0,\n       1, 0, 0, 1, 0, 0, 0, 0, 0, 1, 0, 0, 0, 1, 0, 1, 0, 1, 0, 1, 1, 0,\n       0, 0, 1, 0, 1, 0, 0, 1, 0, 1, 1, 0, 1, 0, 0, 1, 1, 0, 0, 1, 0, 0,\n       1, 1, 1, 0, 0, 1, 0, 0, 1, 1, 0, 1, 0, 0, 0, 0, 0, 1, 1, 0, 0, 1,\n       0, 1, 0, 0, 1, 0, 1, 0, 0, 0, 0, 0, 1, 1, 1, 1, 0, 0, 1, 0, 0, 1],\n      dtype=int64)"
     },
     "execution_count": 1001,
     "metadata": {},
     "output_type": "execute_result"
    }
   ],
   "source": [
    "# 타깃값 1일 확룰 예측\n",
    "\n",
    "y_preds= logistic_model.predict(X_test)\n",
    "y_preds"
   ],
   "metadata": {
    "collapsed": false,
    "pycharm": {
     "name": "#%%\n"
    }
   }
  },
  {
   "cell_type": "code",
   "execution_count": 1002,
   "outputs": [],
   "source": [
    "# 제출 파일 생성\n",
    "\n",
    "submission['Survived'] = y_preds\n",
    "submission.to_csv('submission_1.csv')"
   ],
   "metadata": {
    "collapsed": false,
    "pycharm": {
     "name": "#%%\n"
    }
   }
  },
  {
   "cell_type": "markdown",
   "source": [
    "## 성능 개선 -> 피처 엔지니어링"
   ],
   "metadata": {
    "collapsed": false,
    "pycharm": {
     "name": "#%% md\n"
    }
   }
  },
  {
   "cell_type": "code",
   "execution_count": 1003,
   "outputs": [],
   "source": [
    "# all_data_bin = all_data[binary_col].fillna(all_data[binary_col].mode().iloc[0]) # NaN 값 제일 많은값으로 대체\n",
    "#\n",
    "# all_data_bin"
   ],
   "metadata": {
    "collapsed": false,
    "pycharm": {
     "name": "#%%\n"
    }
   }
  },
  {
   "cell_type": "code",
   "execution_count": 1004,
   "outputs": [
    {
     "name": "stdout",
     "output_type": "stream",
     "text": [
      "<class 'pandas.core.frame.DataFrame'>\n",
      "Int64Index: 1309 entries, 1 to 1309\n",
      "Data columns (total 4 columns):\n",
      " #   Column      Non-Null Count  Dtype\n",
      "---  ------      --------------  -----\n",
      " 0   Name        1309 non-null   int32\n",
      " 1   Sex         1309 non-null   int32\n",
      " 2   Embarked    1309 non-null   int32\n",
      " 3   Occupation  1309 non-null   int32\n",
      "dtypes: int32(4)\n",
      "memory usage: 63.0 KB\n"
     ]
    }
   ],
   "source": [
    "# object_col = ['Name' , 'Sex' , 'Ticket' , 'Embarked']\n",
    "all_data_obj = all_data[object_col]\n",
    "# all_data_obj = all_data[object_col].fillna(all_data[object_col].mode().iloc[0])\n",
    "all_data_obj[object_col].info()\n",
    "# NaN 값 제일 많은값으로 대체인데, train[object_col]에는 NaN값 특히 Cabin에 있다. ==> Cabin값은 빼는게 낫지 않을까?"
   ],
   "metadata": {
    "collapsed": false,
    "pycharm": {
     "name": "#%%\n"
    }
   }
  },
  {
   "cell_type": "markdown",
   "source": [],
   "metadata": {
    "collapsed": false,
    "pycharm": {
     "name": "#%% md\n"
    }
   }
  },
  {
   "cell_type": "code",
   "execution_count": 1005,
   "outputs": [],
   "source": [
    "import seaborn as sns\n",
    "import matplotlib as mpl\n",
    "import matplotlib.pyplot as plt\n",
    "%matplotlib inline"
   ],
   "metadata": {
    "collapsed": false,
    "pycharm": {
     "name": "#%%\n"
    }
   }
  },
  {
   "cell_type": "markdown",
   "source": [
    "## 타깃값 분포"
   ],
   "metadata": {
    "collapsed": false,
    "pycharm": {
     "name": "#%% md\n"
    }
   }
  },
  {
   "cell_type": "code",
   "execution_count": 1006,
   "outputs": [],
   "source": [
    "def write_percent(ax , total_size):\n",
    "    '''도형 객체를 순회하며 막대 상단에 타깃값 비율 표시'''\n",
    "    for patch in ax.patches:\n",
    "        height = patch.get_height() # 도형 높이(데이터 개수)\n",
    "        width = patch.get_width() # 도형 너비\n",
    "        left_coord = patch.get_x() # 도형 왼쪽 테두리의 x축 위치\n",
    "        percent = height/total_size*100 # 타깃값 비율\n",
    "\n",
    "\n",
    "        # (x, y) 좌표에 텍스트 입력\n",
    "        ax.text(x= left_coord + width/2.0 ,   # x축 위치\n",
    "                y = height + total_size*0.001, #y축 위치\n",
    "                s = f'{percent : 1.1f}%', # 입력 텍스트\n",
    "                ha = 'center') #가운데 정렬\n",
    "\n",
    "\n",
    "\n",
    "# plt.figure(figsize=(7,6))\n",
    "# train_bin['Survival'] = train['Survived'].map({0: '사망', 1: '생존'})\n",
    "# ax = sns.countplot(x='Survival' , data = train_bin)\n",
    "# write_percent(ax , len(train)) # 비율 표시\n",
    "# ax.set_title('타이타닉 호 생존자')"
   ],
   "metadata": {
    "collapsed": false,
    "pycharm": {
     "name": "#%%\n"
    }
   }
  },
  {
   "cell_type": "code",
   "execution_count": 1007,
   "outputs": [
    {
     "data": {
      "text/plain": "['Pclass', 'Age', 'SibSp', 'Parch', 'Fare']"
     },
     "execution_count": 1007,
     "metadata": {},
     "output_type": "execute_result"
    }
   ],
   "source": [
    "binary_col"
   ],
   "metadata": {
    "collapsed": false,
    "pycharm": {
     "name": "#%%\n"
    }
   }
  },
  {
   "cell_type": "markdown",
   "source": [
    "## 연속형 피처 분포"
   ],
   "metadata": {
    "collapsed": false,
    "pycharm": {
     "name": "#%% md\n"
    }
   }
  },
  {
   "cell_type": "code",
   "execution_count": 1008,
   "outputs": [
    {
     "data": {
      "text/plain": "             Pclass        Age  SibSp  Parch      Fare\nPassengerId                                           \n1                 3  22.000000      1      0    7.2500\n2                 1  38.000000      1      0   71.2833\n3                 3  26.000000      0      0    7.9250\n4                 1  35.000000      1      0   53.1000\n5                 3  35.000000      0      0    8.0500\n...             ...        ...    ...    ...       ...\n1305              3  28.071796      0      0    8.0500\n1306              1  39.000000      0      0  108.9000\n1307              3  38.500000      0      0    7.2500\n1308              3  28.071796      0      0    8.0500\n1309              3  17.647205      1      1   22.3583\n\n[1309 rows x 5 columns]",
      "text/html": "<div>\n<style scoped>\n    .dataframe tbody tr th:only-of-type {\n        vertical-align: middle;\n    }\n\n    .dataframe tbody tr th {\n        vertical-align: top;\n    }\n\n    .dataframe thead th {\n        text-align: right;\n    }\n</style>\n<table border=\"1\" class=\"dataframe\">\n  <thead>\n    <tr style=\"text-align: right;\">\n      <th></th>\n      <th>Pclass</th>\n      <th>Age</th>\n      <th>SibSp</th>\n      <th>Parch</th>\n      <th>Fare</th>\n    </tr>\n    <tr>\n      <th>PassengerId</th>\n      <th></th>\n      <th></th>\n      <th></th>\n      <th></th>\n      <th></th>\n    </tr>\n  </thead>\n  <tbody>\n    <tr>\n      <th>1</th>\n      <td>3</td>\n      <td>22.000000</td>\n      <td>1</td>\n      <td>0</td>\n      <td>7.2500</td>\n    </tr>\n    <tr>\n      <th>2</th>\n      <td>1</td>\n      <td>38.000000</td>\n      <td>1</td>\n      <td>0</td>\n      <td>71.2833</td>\n    </tr>\n    <tr>\n      <th>3</th>\n      <td>3</td>\n      <td>26.000000</td>\n      <td>0</td>\n      <td>0</td>\n      <td>7.9250</td>\n    </tr>\n    <tr>\n      <th>4</th>\n      <td>1</td>\n      <td>35.000000</td>\n      <td>1</td>\n      <td>0</td>\n      <td>53.1000</td>\n    </tr>\n    <tr>\n      <th>5</th>\n      <td>3</td>\n      <td>35.000000</td>\n      <td>0</td>\n      <td>0</td>\n      <td>8.0500</td>\n    </tr>\n    <tr>\n      <th>...</th>\n      <td>...</td>\n      <td>...</td>\n      <td>...</td>\n      <td>...</td>\n      <td>...</td>\n    </tr>\n    <tr>\n      <th>1305</th>\n      <td>3</td>\n      <td>28.071796</td>\n      <td>0</td>\n      <td>0</td>\n      <td>8.0500</td>\n    </tr>\n    <tr>\n      <th>1306</th>\n      <td>1</td>\n      <td>39.000000</td>\n      <td>0</td>\n      <td>0</td>\n      <td>108.9000</td>\n    </tr>\n    <tr>\n      <th>1307</th>\n      <td>3</td>\n      <td>38.500000</td>\n      <td>0</td>\n      <td>0</td>\n      <td>7.2500</td>\n    </tr>\n    <tr>\n      <th>1308</th>\n      <td>3</td>\n      <td>28.071796</td>\n      <td>0</td>\n      <td>0</td>\n      <td>8.0500</td>\n    </tr>\n    <tr>\n      <th>1309</th>\n      <td>3</td>\n      <td>17.647205</td>\n      <td>1</td>\n      <td>1</td>\n      <td>22.3583</td>\n    </tr>\n  </tbody>\n</table>\n<p>1309 rows × 5 columns</p>\n</div>"
     },
     "execution_count": 1008,
     "metadata": {},
     "output_type": "execute_result"
    }
   ],
   "source": [
    "all_data_bin = all_data[binary_col]\n",
    "\n",
    "all_data_bin"
   ],
   "metadata": {
    "collapsed": false,
    "pycharm": {
     "name": "#%%\n"
    }
   }
  },
  {
   "cell_type": "markdown",
   "source": [
    "## 명목형 자료에 대해 계급간격 공식을 이용하여 범주화 시키기\n",
    "\n",
    "- https://knowallworld.tistory.com/197"
   ],
   "metadata": {
    "collapsed": false,
    "pycharm": {
     "name": "#%% md\n"
    }
   }
  },
  {
   "cell_type": "code",
   "execution_count": 1009,
   "outputs": [],
   "source": [
    "K = 60 # 계급간격\n",
    "AGG = 10 # Age 간격"
   ],
   "metadata": {
    "collapsed": false,
    "pycharm": {
     "name": "#%%\n"
    }
   }
  },
  {
   "cell_type": "code",
   "execution_count": 1010,
   "outputs": [
    {
     "name": "stdout",
     "output_type": "stream",
     "text": [
      "[530 216 191  81  29  41  43  24  34  23  13   0  13   4   0  13   3   9\n",
      "   0   4   0   0   0   0   9   4   5   0   3   0  13   0   0   0   0   0\n",
      "   0   0   0   0   0   0   0   0   0   0   0   0   0   0   0   0   0   0\n",
      "   0   0   0   0   0]\n",
      "[  3.171  11.657  20.143  28.629  37.115  45.601  54.087  62.573  71.059\n",
      "  79.545  88.031  96.517 105.002 113.488 121.974 130.46  138.946 147.432\n",
      " 155.918 164.404 172.89  181.376 189.862 198.348 206.834 215.32  223.806\n",
      " 232.292 240.778 249.264 257.75  266.236 274.722 283.208 291.694 300.18\n",
      " 308.666 317.152 325.638 334.124 342.61  351.096 359.582 368.068 376.554\n",
      " 385.04  393.526 402.012 410.498 418.983 427.469 435.955 444.441 452.927\n",
      " 461.413 469.899 478.385 486.871 495.357 503.843]\n"
     ]
    },
    {
     "data": {
      "text/plain": "(array([  0., 100., 200., 300., 400., 500., 600.]),\n <a list of 7 Text major ticklabel objects>)"
     },
     "execution_count": 1010,
     "metadata": {},
     "output_type": "execute_result"
    },
    {
     "data": {
      "text/plain": "<Figure size 432x288 with 1 Axes>",
      "image/png": "[encoded data removed]"
     },
     "metadata": {
      "needs_background": "light"
     },
     "output_type": "display_data"
    }
   ],
   "source": [
    "width = (max(all_data_bin['Fare']) - min(all_data_bin['Fare'])) / K #계급 간격 구하는 공식\n",
    "bins = np.arange(min(all_data_bin['Fare']), max(all_data_bin['Fare']), width)\n",
    "\n",
    "\n",
    "hist, bins = np.histogram(all_data_bin['Fare'], bins)\n",
    "print(hist)\n",
    "print(bins)\n",
    "\n",
    "plt.hist(all_data_bin['Fare'], bins , rwidth = 0.8 , color = 'green' , alpha = 0.5)\n",
    "plt.xlabel('양적자료' , fontsize = 14)\n",
    "plt.xticks(fontsize = 14)\n",
    "plt.yticks(fontsize = 14)"
   ],
   "metadata": {
    "collapsed": false,
    "pycharm": {
     "name": "#%%\n"
    }
   }
  },
  {
   "cell_type": "code",
   "execution_count": 1011,
   "outputs": [
    {
     "data": {
      "text/plain": "             Pclass        Age  SibSp  Parch     Fare\nPassengerId                                          \n816               1  41.905029      0      0  61.3792\n817               3  23.000000      0      0   7.9250\n818               2  31.000000      1      1  37.0042\n819               3  43.000000      0      0   6.4500\n820               3  10.000000      3      2  27.9000\n821               1  52.000000      1      1  93.5000\n822               3  27.000000      0      0   8.6625\n823               1  38.000000      0      0  61.3792\n824               3  27.000000      0      1  12.4750",
      "text/html": "<div>\n<style scoped>\n    .dataframe tbody tr th:only-of-type {\n        vertical-align: middle;\n    }\n\n    .dataframe tbody tr th {\n        vertical-align: top;\n    }\n\n    .dataframe thead th {\n        text-align: right;\n    }\n</style>\n<table border=\"1\" class=\"dataframe\">\n  <thead>\n    <tr style=\"text-align: right;\">\n      <th></th>\n      <th>Pclass</th>\n      <th>Age</th>\n      <th>SibSp</th>\n      <th>Parch</th>\n      <th>Fare</th>\n    </tr>\n    <tr>\n      <th>PassengerId</th>\n      <th></th>\n      <th></th>\n      <th></th>\n      <th></th>\n      <th></th>\n    </tr>\n  </thead>\n  <tbody>\n    <tr>\n      <th>816</th>\n      <td>1</td>\n      <td>41.905029</td>\n      <td>0</td>\n      <td>0</td>\n      <td>61.3792</td>\n    </tr>\n    <tr>\n      <th>817</th>\n      <td>3</td>\n      <td>23.000000</td>\n      <td>0</td>\n      <td>0</td>\n      <td>7.9250</td>\n    </tr>\n    <tr>\n      <th>818</th>\n      <td>2</td>\n      <td>31.000000</td>\n      <td>1</td>\n      <td>1</td>\n      <td>37.0042</td>\n    </tr>\n    <tr>\n      <th>819</th>\n      <td>3</td>\n      <td>43.000000</td>\n      <td>0</td>\n      <td>0</td>\n      <td>6.4500</td>\n    </tr>\n    <tr>\n      <th>820</th>\n      <td>3</td>\n      <td>10.000000</td>\n      <td>3</td>\n      <td>2</td>\n      <td>27.9000</td>\n    </tr>\n    <tr>\n      <th>821</th>\n      <td>1</td>\n      <td>52.000000</td>\n      <td>1</td>\n      <td>1</td>\n      <td>93.5000</td>\n    </tr>\n    <tr>\n      <th>822</th>\n      <td>3</td>\n      <td>27.000000</td>\n      <td>0</td>\n      <td>0</td>\n      <td>8.6625</td>\n    </tr>\n    <tr>\n      <th>823</th>\n      <td>1</td>\n      <td>38.000000</td>\n      <td>0</td>\n      <td>0</td>\n      <td>61.3792</td>\n    </tr>\n    <tr>\n      <th>824</th>\n      <td>3</td>\n      <td>27.000000</td>\n      <td>0</td>\n      <td>1</td>\n      <td>12.4750</td>\n    </tr>\n  </tbody>\n</table>\n</div>"
     },
     "execution_count": 1011,
     "metadata": {},
     "output_type": "execute_result"
    }
   ],
   "source": [
    "# PClass 등급별 Fare 중앙값(median) 계산\n",
    "fare_medians = all_data_bin[all_data_bin['Fare'] != 0].groupby('Pclass')['Fare'].median()\n",
    "# fare_medians\n",
    "# Fare 값이 0인 데이터를 PClass 등급에 따라 중앙값으로 채우기\n",
    "for i, row in all_data_bin.iterrows():\n",
    "    if row['Fare'] == 0:\n",
    "        all_data_bin.at[i, 'Fare'] = fare_medians[row['Pclass']]\n",
    "\n",
    "# 결과 확인\n",
    "all_data_bin.loc[816:824]"
   ],
   "metadata": {
    "collapsed": false,
    "pycharm": {
     "name": "#%%\n"
    }
   }
  },
  {
   "cell_type": "code",
   "execution_count": 1012,
   "outputs": [
    {
     "name": "stdout",
     "output_type": "stream",
     "text": [
      "             Pclass  Age  SibSp  Parch    Fare  log_Fare\n",
      "PassengerId                                             \n",
      "913               3  9.0      0      1  3.1708  1.153984\n"
     ]
    },
    {
     "name": "stderr",
     "output_type": "stream",
     "text": [
      "<ipython-input-1012-17cb4e2c0935>:1: SettingWithCopyWarning: \n",
      "A value is trying to be set on a copy of a slice from a DataFrame.\n",
      "Try using .loc[row_indexer,col_indexer] = value instead\n",
      "\n",
      "See the caveats in the documentation: https://pandas.pydata.org/pandas-docs/stable/user_guide/indexing.html#returning-a-view-versus-a-copy\n",
      "  all_data_bin['log_Fare'] = np.log(all_data_bin['Fare'])\n"
     ]
    }
   ],
   "source": [
    "all_data_bin['log_Fare'] = np.log(all_data_bin['Fare'])\n",
    "min_log_fare = min(all_data_bin['log_Fare'])\n",
    "min_log_fare_row = all_data_bin[all_data_bin['log_Fare'] == min_log_fare]\n",
    "print(min_log_fare_row)\n",
    "# 제일 log_Fare 값이 작은 열 출력\n",
    "\n",
    "\n"
   ],
   "metadata": {
    "collapsed": false,
    "pycharm": {
     "name": "#%%\n"
    }
   }
  },
  {
   "cell_type": "code",
   "execution_count": 1013,
   "outputs": [
    {
     "name": "stdout",
     "output_type": "stream",
     "text": [
      "width : 0.08474972441987998\n",
      "6.238967387173662\n",
      "1.1539839219808636\n",
      "hist : [  1   0   1   0   0   1   0   1   9  89 307  36  26   9  44  12  73  51\n",
      "  45  20  13  14  32  31  71  52  34  28  18  21   7  11  13  34  25  11\n",
      "  17  32  20  16   0  10   7   0  13  12   4   0   0   9   9   3  13   0\n",
      "   0   0   0   0   0]\n",
      "bins : [1.154 1.239 1.323 1.408 1.493 1.578 1.662 1.747 1.832 1.917 2.001 2.086\n",
      " 2.171 2.256 2.34  2.425 2.51  2.595 2.679 2.764 2.849 2.934 3.018 3.103\n",
      " 3.188 3.273 3.357 3.442 3.527 3.612 3.696 3.781 3.866 3.951 4.035 4.12\n",
      " 4.205 4.29  4.374 4.459 4.544 4.629 4.713 4.798 4.883 4.968 5.052 5.137\n",
      " 5.222 5.307 5.391 5.476 5.561 5.646 5.73  5.815 5.9   5.985 6.069 6.154]\n"
     ]
    },
    {
     "data": {
      "text/plain": "(array([  0.,  50., 100., 150., 200., 250., 300., 350.]),\n <a list of 8 Text major ticklabel objects>)"
     },
     "execution_count": 1013,
     "metadata": {},
     "output_type": "execute_result"
    },
    {
     "data": {
      "text/plain": "<Figure size 432x288 with 1 Axes>",
      "image/png": "[encoded data removed]"
     },
     "metadata": {
      "needs_background": "light"
     },
     "output_type": "display_data"
    }
   ],
   "source": [
    "width = (max(all_data_bin['log_Fare']) - min(all_data_bin['log_Fare'])) / K #계급 간격 구하는 공식\n",
    "print(f'width : {width}')\n",
    "print(max(all_data_bin['log_Fare']))\n",
    "print(min(all_data_bin['log_Fare']))\n",
    "bins = np.arange(min(all_data_bin['log_Fare']), max(all_data_bin['log_Fare']), width)\n",
    "hist, bins = np.histogram(all_data_bin['log_Fare'], bins)\n",
    "print(f'hist : {hist}')\n",
    "print(f'bins : {bins}')\n",
    "\n",
    "plt.hist(all_data_bin['log_Fare'], bins , rwidth = 0.8 , color = 'green' , alpha = 0.5)\n",
    "plt.xlabel('log화 한 계급간격' , fontsize = 14)\n",
    "plt.xticks(fontsize = 14)\n",
    "plt.yticks(fontsize = 14)"
   ],
   "metadata": {
    "collapsed": false,
    "pycharm": {
     "name": "#%%\n"
    }
   }
  },
  {
   "cell_type": "code",
   "execution_count": 1014,
   "outputs": [
    {
     "name": "stdout",
     "output_type": "stream",
     "text": [
      "[1.154 1.239 1.323 1.408 1.493 1.578 1.662 1.747 1.832 1.917 2.001 2.086\n",
      " 2.171 2.256 2.34  2.425 2.51  2.595 2.679 2.764 2.849 2.934 3.018 3.103\n",
      " 3.188 3.273 3.357 3.442 3.527 3.612 3.696 3.781 3.866 3.951 4.035 4.12\n",
      " 4.205 4.29  4.374 4.459 4.544 4.629 4.713 4.798 4.883 4.968 5.052 5.137\n",
      " 5.222 5.307 5.391 5.476 5.561 5.646 5.73  5.815 5.9   5.985 6.069 6.154]\n"
     ]
    },
    {
     "name": "stderr",
     "output_type": "stream",
     "text": [
      "<ipython-input-1014-0b5141b36130>:16: SettingWithCopyWarning: \n",
      "A value is trying to be set on a copy of a slice from a DataFrame.\n",
      "Try using .loc[row_indexer,col_indexer] = value instead\n",
      "\n",
      "See the caveats in the documentation: https://pandas.pydata.org/pandas-docs/stable/user_guide/indexing.html#returning-a-view-versus-a-copy\n",
      "  all_data_bin['Fare_binned'] = pd.cut(all_data_bin['log_Fare'], bins=len(labels), labels=labels , ordered = False)\n"
     ]
    },
    {
     "data": {
      "text/plain": "             Pclass        Age  SibSp  Parch      Fare  log_Fare Fare_binned\nPassengerId                                                                 \n1                 3  22.000000      1      0    7.2500  1.981001         1.9\n2                 1  38.000000      1      0   71.2833  4.266662         4.2\n3                 3  26.000000      0      0    7.9250  2.070022         2.0\n4                 1  35.000000      1      0   53.1000  3.972177         4.0\n5                 3  35.000000      0      0    8.0500  2.085672         2.0\n...             ...        ...    ...    ...       ...       ...         ...\n1305              3  28.071796      0      0    8.0500  2.085672         2.0\n1306              1  39.000000      0      0  108.9000  4.690430         4.6\n1307              3  38.500000      0      0    7.2500  1.981001         1.9\n1308              3  28.071796      0      0    8.0500  2.085672         2.0\n1309              3  17.647205      1      1   22.3583  3.107198         3.1\n\n[1309 rows x 7 columns]",
      "text/html": "<div>\n<style scoped>\n    .dataframe tbody tr th:only-of-type {\n        vertical-align: middle;\n    }\n\n    .dataframe tbody tr th {\n        vertical-align: top;\n    }\n\n    .dataframe thead th {\n        text-align: right;\n    }\n</style>\n<table border=\"1\" class=\"dataframe\">\n  <thead>\n    <tr style=\"text-align: right;\">\n      <th></th>\n      <th>Pclass</th>\n      <th>Age</th>\n      <th>SibSp</th>\n      <th>Parch</th>\n      <th>Fare</th>\n      <th>log_Fare</th>\n      <th>Fare_binned</th>\n    </tr>\n    <tr>\n      <th>PassengerId</th>\n      <th></th>\n      <th></th>\n      <th></th>\n      <th></th>\n      <th></th>\n      <th></th>\n      <th></th>\n    </tr>\n  </thead>\n  <tbody>\n    <tr>\n      <th>1</th>\n      <td>3</td>\n      <td>22.000000</td>\n      <td>1</td>\n      <td>0</td>\n      <td>7.2500</td>\n      <td>1.981001</td>\n      <td>1.9</td>\n    </tr>\n    <tr>\n      <th>2</th>\n      <td>1</td>\n      <td>38.000000</td>\n      <td>1</td>\n      <td>0</td>\n      <td>71.2833</td>\n      <td>4.266662</td>\n      <td>4.2</td>\n    </tr>\n    <tr>\n      <th>3</th>\n      <td>3</td>\n      <td>26.000000</td>\n      <td>0</td>\n      <td>0</td>\n      <td>7.9250</td>\n      <td>2.070022</td>\n      <td>2.0</td>\n    </tr>\n    <tr>\n      <th>4</th>\n      <td>1</td>\n      <td>35.000000</td>\n      <td>1</td>\n      <td>0</td>\n      <td>53.1000</td>\n      <td>3.972177</td>\n      <td>4.0</td>\n    </tr>\n    <tr>\n      <th>5</th>\n      <td>3</td>\n      <td>35.000000</td>\n      <td>0</td>\n      <td>0</td>\n      <td>8.0500</td>\n      <td>2.085672</td>\n      <td>2.0</td>\n    </tr>\n    <tr>\n      <th>...</th>\n      <td>...</td>\n      <td>...</td>\n      <td>...</td>\n      <td>...</td>\n      <td>...</td>\n      <td>...</td>\n      <td>...</td>\n    </tr>\n    <tr>\n      <th>1305</th>\n      <td>3</td>\n      <td>28.071796</td>\n      <td>0</td>\n      <td>0</td>\n      <td>8.0500</td>\n      <td>2.085672</td>\n      <td>2.0</td>\n    </tr>\n    <tr>\n      <th>1306</th>\n      <td>1</td>\n      <td>39.000000</td>\n      <td>0</td>\n      <td>0</td>\n      <td>108.9000</td>\n      <td>4.690430</td>\n      <td>4.6</td>\n    </tr>\n    <tr>\n      <th>1307</th>\n      <td>3</td>\n      <td>38.500000</td>\n      <td>0</td>\n      <td>0</td>\n      <td>7.2500</td>\n      <td>1.981001</td>\n      <td>1.9</td>\n    </tr>\n    <tr>\n      <th>1308</th>\n      <td>3</td>\n      <td>28.071796</td>\n      <td>0</td>\n      <td>0</td>\n      <td>8.0500</td>\n      <td>2.085672</td>\n      <td>2.0</td>\n    </tr>\n    <tr>\n      <th>1309</th>\n      <td>3</td>\n      <td>17.647205</td>\n      <td>1</td>\n      <td>1</td>\n      <td>22.3583</td>\n      <td>3.107198</td>\n      <td>3.1</td>\n    </tr>\n  </tbody>\n</table>\n<p>1309 rows × 7 columns</p>\n</div>"
     },
     "execution_count": 1014,
     "metadata": {},
     "output_type": "execute_result"
    }
   ],
   "source": [
    "# 범주의 크기를 지정할 width 변수 설정\n",
    "\n",
    "bins = np.arange(min(all_data_bin['log_Fare']), max(all_data_bin['log_Fare']), width)\n",
    "print(bins)\n",
    "hist, bins = np.histogram(all_data_bin['log_Fare'], bins)\n",
    "width = len(bins)\n",
    "\n",
    "# 범주의 최솟값(min)과 최댓값(max)을 계산\n",
    "min_val = all_data_bin['log_Fare'].min()\n",
    "max_val = all_data_bin['log_Fare'].max()\n",
    "\n",
    "# 최솟값과 최댓값을 width 간격으로 나눠서 labels 배열 생성\n",
    "labels = [f'{round(i,1)}' for i in bins]\n",
    "\n",
    "# train['Fare'] 값을 labels에 맞게 범주형으로 변환\n",
    "all_data_bin['Fare_binned'] = pd.cut(all_data_bin['log_Fare'], bins=len(labels), labels=labels , ordered = False)\n",
    "# train 데이터프레임 내용 확인\n",
    "all_data_bin\n"
   ],
   "metadata": {
    "collapsed": false,
    "pycharm": {
     "name": "#%%\n"
    }
   }
  },
  {
   "cell_type": "code",
   "execution_count": 1015,
   "outputs": [
    {
     "name": "stderr",
     "output_type": "stream",
     "text": [
      "<ipython-input-1015-43979e340fd4>:4: SettingWithCopyWarning: \n",
      "A value is trying to be set on a copy of a slice from a DataFrame.\n",
      "Try using .loc[row_indexer,col_indexer] = value instead\n",
      "\n",
      "See the caveats in the documentation: https://pandas.pydata.org/pandas-docs/stable/user_guide/indexing.html#returning-a-view-versus-a-copy\n",
      "  all_data_bin['Fare_binned_범위'] = pd.cut(all_data_bin['log_Fare'], bins=len(labels), labels=labels , ordered=False)\n"
     ]
    },
    {
     "data": {
      "text/plain": "             Pclass        Age  SibSp  Parch      Fare  log_Fare Fare_binned  \\\nPassengerId                                                                    \n1                 3  22.000000      1      0    7.2500  1.981001         1.9   \n2                 1  38.000000      1      0   71.2833  4.266662         4.2   \n3                 3  26.000000      0      0    7.9250  2.070022         2.0   \n4                 1  35.000000      1      0   53.1000  3.972177         4.0   \n5                 3  35.000000      0      0    8.0500  2.085672         2.0   \n...             ...        ...    ...    ...       ...       ...         ...   \n1305              3  28.071796      0      0    8.0500  2.085672         2.0   \n1306              1  39.000000      0      0  108.9000  4.690430         4.6   \n1307              3  38.500000      0      0    7.2500  1.981001         1.9   \n1308              3  28.071796      0      0    8.0500  2.085672         2.0   \n1309              3  17.647205      1      1   22.3583  3.107198         3.1   \n\n            Fare_binned_범위  \nPassengerId                 \n1                  1.9~2.0  \n2                  4.2~4.3  \n3                  2.0~2.1  \n4                  3.9~4.0  \n5                  2.0~2.1  \n...                    ...  \n1305               2.0~2.1  \n1306               4.6~4.7  \n1307               1.9~2.0  \n1308               2.0~2.1  \n1309               3.0~3.1  \n\n[1309 rows x 8 columns]",
      "text/html": "<div>\n<style scoped>\n    .dataframe tbody tr th:only-of-type {\n        vertical-align: middle;\n    }\n\n    .dataframe tbody tr th {\n        vertical-align: top;\n    }\n\n    .dataframe thead th {\n        text-align: right;\n    }\n</style>\n<table border=\"1\" class=\"dataframe\">\n  <thead>\n    <tr style=\"text-align: right;\">\n      <th></th>\n      <th>Pclass</th>\n      <th>Age</th>\n      <th>SibSp</th>\n      <th>Parch</th>\n      <th>Fare</th>\n      <th>log_Fare</th>\n      <th>Fare_binned</th>\n      <th>Fare_binned_범위</th>\n    </tr>\n    <tr>\n      <th>PassengerId</th>\n      <th></th>\n      <th></th>\n      <th></th>\n      <th></th>\n      <th></th>\n      <th></th>\n      <th></th>\n      <th></th>\n    </tr>\n  </thead>\n  <tbody>\n    <tr>\n      <th>1</th>\n      <td>3</td>\n      <td>22.000000</td>\n      <td>1</td>\n      <td>0</td>\n      <td>7.2500</td>\n      <td>1.981001</td>\n      <td>1.9</td>\n      <td>1.9~2.0</td>\n    </tr>\n    <tr>\n      <th>2</th>\n      <td>1</td>\n      <td>38.000000</td>\n      <td>1</td>\n      <td>0</td>\n      <td>71.2833</td>\n      <td>4.266662</td>\n      <td>4.2</td>\n      <td>4.2~4.3</td>\n    </tr>\n    <tr>\n      <th>3</th>\n      <td>3</td>\n      <td>26.000000</td>\n      <td>0</td>\n      <td>0</td>\n      <td>7.9250</td>\n      <td>2.070022</td>\n      <td>2.0</td>\n      <td>2.0~2.1</td>\n    </tr>\n    <tr>\n      <th>4</th>\n      <td>1</td>\n      <td>35.000000</td>\n      <td>1</td>\n      <td>0</td>\n      <td>53.1000</td>\n      <td>3.972177</td>\n      <td>4.0</td>\n      <td>3.9~4.0</td>\n    </tr>\n    <tr>\n      <th>5</th>\n      <td>3</td>\n      <td>35.000000</td>\n      <td>0</td>\n      <td>0</td>\n      <td>8.0500</td>\n      <td>2.085672</td>\n      <td>2.0</td>\n      <td>2.0~2.1</td>\n    </tr>\n    <tr>\n      <th>...</th>\n      <td>...</td>\n      <td>...</td>\n      <td>...</td>\n      <td>...</td>\n      <td>...</td>\n      <td>...</td>\n      <td>...</td>\n      <td>...</td>\n    </tr>\n    <tr>\n      <th>1305</th>\n      <td>3</td>\n      <td>28.071796</td>\n      <td>0</td>\n      <td>0</td>\n      <td>8.0500</td>\n      <td>2.085672</td>\n      <td>2.0</td>\n      <td>2.0~2.1</td>\n    </tr>\n    <tr>\n      <th>1306</th>\n      <td>1</td>\n      <td>39.000000</td>\n      <td>0</td>\n      <td>0</td>\n      <td>108.9000</td>\n      <td>4.690430</td>\n      <td>4.6</td>\n      <td>4.6~4.7</td>\n    </tr>\n    <tr>\n      <th>1307</th>\n      <td>3</td>\n      <td>38.500000</td>\n      <td>0</td>\n      <td>0</td>\n      <td>7.2500</td>\n      <td>1.981001</td>\n      <td>1.9</td>\n      <td>1.9~2.0</td>\n    </tr>\n    <tr>\n      <th>1308</th>\n      <td>3</td>\n      <td>28.071796</td>\n      <td>0</td>\n      <td>0</td>\n      <td>8.0500</td>\n      <td>2.085672</td>\n      <td>2.0</td>\n      <td>2.0~2.1</td>\n    </tr>\n    <tr>\n      <th>1309</th>\n      <td>3</td>\n      <td>17.647205</td>\n      <td>1</td>\n      <td>1</td>\n      <td>22.3583</td>\n      <td>3.107198</td>\n      <td>3.1</td>\n      <td>3.0~3.1</td>\n    </tr>\n  </tbody>\n</table>\n<p>1309 rows × 8 columns</p>\n</div>"
     },
     "execution_count": 1015,
     "metadata": {},
     "output_type": "execute_result"
    }
   ],
   "source": [
    "labels = [f\"{bins[i]:.1f}~{bins[i+1]:.1f}\" for i in range(len(bins)-1)]\n",
    "\n",
    "# train['Fare'] 값을 labels에 맞게 범주형으로 변환\n",
    "all_data_bin['Fare_binned_범위'] = pd.cut(all_data_bin['log_Fare'], bins=len(labels), labels=labels , ordered=False)\n",
    "# train 데이터프레임 내용 확인\n",
    "all_data_bin"
   ],
   "metadata": {
    "collapsed": false,
    "pycharm": {
     "name": "#%%\n"
    }
   }
  },
  {
   "cell_type": "code",
   "execution_count": 1016,
   "outputs": [
    {
     "name": "stdout",
     "output_type": "stream",
     "text": [
      "['1.9', '4.2', '2.0', '4.0', '2.1', ..., '5.3', '1.3', '5.4', '1.6', '1.2']\n",
      "Length: 42\n",
      "Categories (42, object): ['1.9', '4.2', '2.0', '4.0', ..., '1.3', '5.4', '1.6', '1.2']\n",
      "['1.9~2.0', '4.2~4.3', '2.0~2.1', '3.9~4.0', '2.1~2.2', ..., '4.5~4.5', '4.5~4.6', '3.7~3.8', '1.6~1.7', '1.2~1.2']\n",
      "Length: 47\n",
      "Categories (47, object): ['1.9~2.0', '4.2~4.3', '2.0~2.1', '3.9~4.0', ..., '4.5~4.6', '3.7~3.8', '1.6~1.7', '1.2~1.2']\n"
     ]
    }
   ],
   "source": [
    "print(all_data_bin['Fare_binned'].unique())\n",
    "\n",
    "print(all_data_bin['Fare_binned_범위'].unique())"
   ],
   "metadata": {
    "collapsed": false,
    "pycharm": {
     "name": "#%%\n"
    }
   }
  },
  {
   "cell_type": "code",
   "execution_count": 1017,
   "outputs": [
    {
     "name": "stderr",
     "output_type": "stream",
     "text": [
      "posx and posy should be finite values\n",
      "posx and posy should be finite values\n",
      "posx and posy should be finite values\n",
      "posx and posy should be finite values\n",
      "posx and posy should be finite values\n",
      "posx and posy should be finite values\n",
      "posx and posy should be finite values\n",
      "posx and posy should be finite values\n",
      "posx and posy should be finite values\n",
      "posx and posy should be finite values\n",
      "posx and posy should be finite values\n",
      "posx and posy should be finite values\n",
      "posx and posy should be finite values\n",
      "posx and posy should be finite values\n",
      "posx and posy should be finite values\n",
      "posx and posy should be finite values\n",
      "posx and posy should be finite values\n",
      "posx and posy should be finite values\n",
      "posx and posy should be finite values\n",
      "posx and posy should be finite values\n",
      "posx and posy should be finite values\n",
      "posx and posy should be finite values\n",
      "posx and posy should be finite values\n",
      "posx and posy should be finite values\n",
      "posx and posy should be finite values\n",
      "posx and posy should be finite values\n",
      "posx and posy should be finite values\n",
      "posx and posy should be finite values\n",
      "posx and posy should be finite values\n",
      "posx and posy should be finite values\n",
      "posx and posy should be finite values\n",
      "posx and posy should be finite values\n",
      "posx and posy should be finite values\n",
      "posx and posy should be finite values\n",
      "posx and posy should be finite values\n",
      "posx and posy should be finite values\n",
      "posx and posy should be finite values\n",
      "posx and posy should be finite values\n",
      "posx and posy should be finite values\n",
      "posx and posy should be finite values\n",
      "posx and posy should be finite values\n",
      "posx and posy should be finite values\n",
      "posx and posy should be finite values\n",
      "posx and posy should be finite values\n",
      "posx and posy should be finite values\n",
      "posx and posy should be finite values\n",
      "posx and posy should be finite values\n",
      "posx and posy should be finite values\n",
      "posx and posy should be finite values\n",
      "posx and posy should be finite values\n",
      "posx and posy should be finite values\n",
      "posx and posy should be finite values\n",
      "posx and posy should be finite values\n",
      "posx and posy should be finite values\n"
     ]
    },
    {
     "data": {
      "text/plain": "<Figure size 720x1152 with 1 Axes>",
      "image/png": "[encoded data removed]"
     },
     "metadata": {
      "needs_background": "light"
     },
     "output_type": "display_data"
    }
   ],
   "source": [
    "from matplotlib import gridspec\n",
    "\n",
    "mpl.rc('font' , size = 12)\n",
    "grid = gridspec.GridSpec(3,2) # 그래프(서브플롯)을 3행 2열로 배치\n",
    "plt.figure(figsize=(10,16)) # 전체 Figure 크기 설정\n",
    "plt.subplots_adjust(wspace= 0.4 , hspace= 0.3) # 서브플롯 간 좌우/상하 여백 설정\n",
    "all_data_bin['Survival'] = train['Survived'].map({0: '사망', 1: '생존'})\n",
    "# 서브플롯 그리기# 피처 목록\n",
    "\n",
    "for idx, feature in enumerate(['Fare_binned']) :\n",
    "\n",
    "    ax = plt.subplot(grid[idx])\n",
    "\n",
    "    # ax 축에 타깃값 분포 카운트플롯 그리기\n",
    "    sns.countplot(x=feature , data = all_data_bin , hue = 'Survival' , palette = 'pastel' , ax= ax)\n",
    "    # hue는 세부적으로 나눠 그릴 기준 피처, 여기서는 타깃값(target)을 전달했다.\n",
    "    ax.set_title(f'LOG화한 Fare 타이타닉호 생존자') # 그래프 제목 설정\n",
    "    write_percent(ax, len(all_data_bin))\n",
    "\n"
   ],
   "metadata": {
    "collapsed": false,
    "pycharm": {
     "name": "#%%\n"
    }
   }
  },
  {
   "cell_type": "code",
   "execution_count": 1018,
   "outputs": [
    {
     "data": {
      "text/plain": "array([  3.171,   3.451,   3.756,   4.089,   4.45 ,   4.844,   5.272,\n         5.739,   6.246,   6.799,   7.4  ,   8.054,   8.767,   9.542,\n        10.386,  11.305,  12.305,  13.393,  14.577,  15.867,  17.27 ,\n        18.798,  20.46 ,  22.27 ,  24.239,  26.383,  28.717,  31.256,\n        34.021,  37.03 ,  40.305,  43.87 ,  47.75 ,  51.973,  56.57 ,\n        61.573,  67.019,  72.946,  79.398,  86.42 ,  94.064, 102.383,\n       111.438, 121.295, 132.022, 143.699, 156.409, 170.242, 185.299,\n       201.688, 219.526, 238.942, 260.075, 283.077, 308.114, 335.365,\n       365.026, 397.311, 432.451, 470.698])"
     },
     "execution_count": 1018,
     "metadata": {},
     "output_type": "execute_result"
    }
   ],
   "source": [
    "bins_exp = np.exp(bins)\n",
    "bins_exp"
   ],
   "metadata": {
    "collapsed": false,
    "pycharm": {
     "name": "#%%\n"
    }
   }
  },
  {
   "cell_type": "markdown",
   "source": [
    "### 'AGE' 계급간격 구하기"
   ],
   "metadata": {
    "collapsed": false,
    "pycharm": {
     "name": "#%% md\n"
    }
   }
  },
  {
   "cell_type": "code",
   "execution_count": 1019,
   "outputs": [
    {
     "data": {
      "text/plain": "count    1309.000000\nmean       29.339579\nstd        13.489511\nmin        -2.801120\n25%        21.000000\n50%        28.000000\n75%        36.500000\nmax        80.000000\nName: Age, dtype: float64"
     },
     "execution_count": 1019,
     "metadata": {},
     "output_type": "execute_result"
    }
   ],
   "source": [
    "all_data_bin['Age'].describe()"
   ],
   "metadata": {
    "collapsed": false,
    "pycharm": {
     "name": "#%%\n"
    }
   }
  },
  {
   "cell_type": "code",
   "execution_count": 1020,
   "outputs": [
    {
     "name": "stdout",
     "output_type": "stream",
     "text": [
      "[1260]\n",
      "[-2.801 57.199]\n"
     ]
    },
    {
     "data": {
      "text/plain": "(array([   0.,  200.,  400.,  600.,  800., 1000., 1200., 1400.]),\n <a list of 8 Text major ticklabel objects>)"
     },
     "execution_count": 1020,
     "metadata": {},
     "output_type": "execute_result"
    },
    {
     "data": {
      "text/plain": "<Figure size 432x288 with 1 Axes>",
      "image/png": "[encoded data removed]"
     },
     "metadata": {
      "needs_background": "light"
     },
     "output_type": "display_data"
    }
   ],
   "source": [
    "bins = np.arange(min(all_data_bin['Age']), max(all_data_bin['Age']), width)\n",
    "\n",
    "\n",
    "hist, bins = np.histogram(all_data_bin['Age'], bins)\n",
    "print(hist)\n",
    "print(bins)\n",
    "\n",
    "plt.hist(all_data_bin['Age'], bins , rwidth = 0.8 , color = 'green' , alpha = 0.5)\n",
    "plt.xlabel('양적자료' , fontsize = 14)\n",
    "plt.xticks(fontsize = 14)\n",
    "plt.yticks(fontsize = 14)\n",
    "\n"
   ],
   "metadata": {
    "collapsed": false,
    "pycharm": {
     "name": "#%%\n"
    }
   }
  },
  {
   "cell_type": "markdown",
   "source": [
    "### 분포가 생각보다 일정해서 log 화 안해도 될거 같다.\n",
    "---\n",
    "\n",
    "### 대신 간격의 수를 줄여야 겠다. 10대 20대 30대 이런식으로 하는것이 좋을 거 같다.\n",
    "\n",
    "- describe()에서 최대값이 80살 , 최소값이 0살이므로 10개의 계급간격을 나누면 좋을거 같다."
   ],
   "metadata": {
    "collapsed": false,
    "pycharm": {
     "name": "#%% md\n"
    }
   }
  },
  {
   "cell_type": "code",
   "execution_count": 1021,
   "outputs": [
    {
     "name": "stdout",
     "output_type": "stream",
     "text": [
      "width : 8.280111987803126\n",
      "80.0\n",
      "-2.8011198780312547\n",
      "hist : [ 85 190 496 251 172  70  32   8]\n",
      "bins : [ 0 10 20 30 40 50 60 70 80]\n"
     ]
    },
    {
     "data": {
      "text/plain": "(array([  0., 100., 200., 300., 400., 500., 600.]),\n <a list of 7 Text major ticklabel objects>)"
     },
     "execution_count": 1021,
     "metadata": {},
     "output_type": "execute_result"
    },
    {
     "data": {
      "text/plain": "<Figure size 432x288 with 1 Axes>",
      "image/png": "[encoded data removed]"
     },
     "metadata": {
      "needs_background": "light"
     },
     "output_type": "display_data"
    }
   ],
   "source": [
    "width = (max(all_data_bin['Age']) - min(all_data_bin['Age'])) / 10 #계급 간격 구하는 공식\n",
    "\n",
    "# width = np.arange(0,90,10)\n",
    "\n",
    "print(f'width : {width}')\n",
    "print(max(all_data_bin['Age']))\n",
    "print(min(all_data_bin['Age']))\n",
    "bins = np.arange(0,90,AGG)\n",
    "hist, bins = np.histogram(all_data_bin['Age'], bins)\n",
    "print(f'hist : {hist}')\n",
    "print(f'bins : {bins}')\n",
    "\n",
    "plt.hist(all_data_bin['Age'], bins , rwidth = 0.8 , color = 'green' , alpha = 0.5)\n",
    "plt.xlabel('연령대 별 계급간격' , fontsize = 14)\n",
    "plt.xticks(fontsize = 14)\n",
    "plt.yticks(fontsize = 14)"
   ],
   "metadata": {
    "collapsed": false,
    "pycharm": {
     "name": "#%%\n"
    }
   }
  },
  {
   "cell_type": "code",
   "execution_count": 1022,
   "outputs": [],
   "source": [
    "# labels = [f'{i}' for i in bins]\n",
    "#\n",
    "# # train['Fare'] 값을 labels에 맞게 범주형으로 변환\n",
    "# all_data_bin['Age_Categorical'] = pd.cut(all_data_bin['Age'], bins=len(labels), labels=labels)\n",
    "# # train 데이터프레임 내용 확인\n",
    "# all_data_bin"
   ],
   "metadata": {
    "collapsed": false,
    "pycharm": {
     "name": "#%%\n"
    }
   }
  },
  {
   "cell_type": "code",
   "execution_count": 1023,
   "outputs": [],
   "source": [
    "# age_cat_with_daes = all_data_bin['Age_Categorical'].apply(lambda x: str(x)+'대')\n",
    "#\n",
    "# # train_bin['Age_Categorical'] 열 대체\n",
    "# all_data_bin['Age_Categorical'] = age_cat_with_daes\n",
    "#\n",
    "# all_data_bin"
   ],
   "metadata": {
    "collapsed": false,
    "pycharm": {
     "name": "#%%\n"
    }
   }
  },
  {
   "cell_type": "code",
   "execution_count": 1024,
   "outputs": [
    {
     "data": {
      "text/plain": "['Pclass',\n 'Age',\n 'SibSp',\n 'Parch',\n 'Fare',\n 'log_Fare',\n 'Fare_binned',\n 'Fare_binned_범위',\n 'Survival']"
     },
     "execution_count": 1024,
     "metadata": {},
     "output_type": "execute_result"
    }
   ],
   "source": [
    "all_data_bin.columns.tolist()"
   ],
   "metadata": {
    "collapsed": false,
    "pycharm": {
     "name": "#%%\n"
    }
   }
  },
  {
   "cell_type": "code",
   "execution_count": 1025,
   "outputs": [
    {
     "data": {
      "text/plain": "                   Age  Pclass  SibSp  Parch Survival      Fare Fare_binned_범위\nPassengerId                                                                   \n1            22.000000       3      1      0       사망    7.2500        1.9~2.0\n2            38.000000       1      1      0       생존   71.2833        4.2~4.3\n3            26.000000       3      0      0       생존    7.9250        2.0~2.1\n4            35.000000       1      1      0       생존   53.1000        3.9~4.0\n5            35.000000       3      0      0       사망    8.0500        2.0~2.1\n...                ...     ...    ...    ...      ...       ...            ...\n1305         28.071796       3      0      0      NaN    8.0500        2.0~2.1\n1306         39.000000       1      0      0      NaN  108.9000        4.6~4.7\n1307         38.500000       3      0      0      NaN    7.2500        1.9~2.0\n1308         28.071796       3      0      0      NaN    8.0500        2.0~2.1\n1309         17.647205       3      1      1      NaN   22.3583        3.0~3.1\n\n[1309 rows x 7 columns]",
      "text/html": "<div>\n<style scoped>\n    .dataframe tbody tr th:only-of-type {\n        vertical-align: middle;\n    }\n\n    .dataframe tbody tr th {\n        vertical-align: top;\n    }\n\n    .dataframe thead th {\n        text-align: right;\n    }\n</style>\n<table border=\"1\" class=\"dataframe\">\n  <thead>\n    <tr style=\"text-align: right;\">\n      <th></th>\n      <th>Age</th>\n      <th>Pclass</th>\n      <th>SibSp</th>\n      <th>Parch</th>\n      <th>Survival</th>\n      <th>Fare</th>\n      <th>Fare_binned_범위</th>\n    </tr>\n    <tr>\n      <th>PassengerId</th>\n      <th></th>\n      <th></th>\n      <th></th>\n      <th></th>\n      <th></th>\n      <th></th>\n      <th></th>\n    </tr>\n  </thead>\n  <tbody>\n    <tr>\n      <th>1</th>\n      <td>22.000000</td>\n      <td>3</td>\n      <td>1</td>\n      <td>0</td>\n      <td>사망</td>\n      <td>7.2500</td>\n      <td>1.9~2.0</td>\n    </tr>\n    <tr>\n      <th>2</th>\n      <td>38.000000</td>\n      <td>1</td>\n      <td>1</td>\n      <td>0</td>\n      <td>생존</td>\n      <td>71.2833</td>\n      <td>4.2~4.3</td>\n    </tr>\n    <tr>\n      <th>3</th>\n      <td>26.000000</td>\n      <td>3</td>\n      <td>0</td>\n      <td>0</td>\n      <td>생존</td>\n      <td>7.9250</td>\n      <td>2.0~2.1</td>\n    </tr>\n    <tr>\n      <th>4</th>\n      <td>35.000000</td>\n      <td>1</td>\n      <td>1</td>\n      <td>0</td>\n      <td>생존</td>\n      <td>53.1000</td>\n      <td>3.9~4.0</td>\n    </tr>\n    <tr>\n      <th>5</th>\n      <td>35.000000</td>\n      <td>3</td>\n      <td>0</td>\n      <td>0</td>\n      <td>사망</td>\n      <td>8.0500</td>\n      <td>2.0~2.1</td>\n    </tr>\n    <tr>\n      <th>...</th>\n      <td>...</td>\n      <td>...</td>\n      <td>...</td>\n      <td>...</td>\n      <td>...</td>\n      <td>...</td>\n      <td>...</td>\n    </tr>\n    <tr>\n      <th>1305</th>\n      <td>28.071796</td>\n      <td>3</td>\n      <td>0</td>\n      <td>0</td>\n      <td>NaN</td>\n      <td>8.0500</td>\n      <td>2.0~2.1</td>\n    </tr>\n    <tr>\n      <th>1306</th>\n      <td>39.000000</td>\n      <td>1</td>\n      <td>0</td>\n      <td>0</td>\n      <td>NaN</td>\n      <td>108.9000</td>\n      <td>4.6~4.7</td>\n    </tr>\n    <tr>\n      <th>1307</th>\n      <td>38.500000</td>\n      <td>3</td>\n      <td>0</td>\n      <td>0</td>\n      <td>NaN</td>\n      <td>7.2500</td>\n      <td>1.9~2.0</td>\n    </tr>\n    <tr>\n      <th>1308</th>\n      <td>28.071796</td>\n      <td>3</td>\n      <td>0</td>\n      <td>0</td>\n      <td>NaN</td>\n      <td>8.0500</td>\n      <td>2.0~2.1</td>\n    </tr>\n    <tr>\n      <th>1309</th>\n      <td>17.647205</td>\n      <td>3</td>\n      <td>1</td>\n      <td>1</td>\n      <td>NaN</td>\n      <td>22.3583</td>\n      <td>3.0~3.1</td>\n    </tr>\n  </tbody>\n</table>\n<p>1309 rows × 7 columns</p>\n</div>"
     },
     "execution_count": 1025,
     "metadata": {},
     "output_type": "execute_result"
    }
   ],
   "source": [
    "all_data_bin2 = all_data_bin[['Age','Pclass' ,'SibSp','Parch' ,'Survival' , 'Fare' ,'Fare_binned_범위' ]]\n",
    "all_data_bin2"
   ],
   "metadata": {
    "collapsed": false,
    "pycharm": {
     "name": "#%%\n"
    }
   }
  },
  {
   "cell_type": "markdown",
   "source": [
    "## train_bin 에는 log 화밑 계급화 시킨 값들 모두 포함 시켰다.\n",
    "\n",
    "## train_bin2 로 train 데이터로 활용하면 좋을 수 도 있겠다.\n"
   ],
   "metadata": {
    "collapsed": false,
    "pycharm": {
     "name": "#%% md\n"
    }
   }
  },
  {
   "cell_type": "markdown",
   "source": [
    "---\n",
    "\n",
    "## 명목형 피처 전처리를 해보자"
   ],
   "metadata": {
    "collapsed": false,
    "pycharm": {
     "name": "#%% md\n"
    }
   }
  },
  {
   "cell_type": "code",
   "execution_count": 1026,
   "outputs": [
    {
     "data": {
      "text/plain": "             Name  Sex  Embarked  Occupation\nPassengerId                                 \n1               1    1         2          12\n2               2    0         0          13\n3               0    0         2           9\n4               2    0         2          13\n5               1    1         2          12\n...           ...  ...       ...         ...\n1305            1    1         2          12\n1306            3    0         0           3\n1307            1    1         2          12\n1308            1    1         2          12\n1309            3    1         0           8\n\n[1309 rows x 4 columns]",
      "text/html": "<div>\n<style scoped>\n    .dataframe tbody tr th:only-of-type {\n        vertical-align: middle;\n    }\n\n    .dataframe tbody tr th {\n        vertical-align: top;\n    }\n\n    .dataframe thead th {\n        text-align: right;\n    }\n</style>\n<table border=\"1\" class=\"dataframe\">\n  <thead>\n    <tr style=\"text-align: right;\">\n      <th></th>\n      <th>Name</th>\n      <th>Sex</th>\n      <th>Embarked</th>\n      <th>Occupation</th>\n    </tr>\n    <tr>\n      <th>PassengerId</th>\n      <th></th>\n      <th></th>\n      <th></th>\n      <th></th>\n    </tr>\n  </thead>\n  <tbody>\n    <tr>\n      <th>1</th>\n      <td>1</td>\n      <td>1</td>\n      <td>2</td>\n      <td>12</td>\n    </tr>\n    <tr>\n      <th>2</th>\n      <td>2</td>\n      <td>0</td>\n      <td>0</td>\n      <td>13</td>\n    </tr>\n    <tr>\n      <th>3</th>\n      <td>0</td>\n      <td>0</td>\n      <td>2</td>\n      <td>9</td>\n    </tr>\n    <tr>\n      <th>4</th>\n      <td>2</td>\n      <td>0</td>\n      <td>2</td>\n      <td>13</td>\n    </tr>\n    <tr>\n      <th>5</th>\n      <td>1</td>\n      <td>1</td>\n      <td>2</td>\n      <td>12</td>\n    </tr>\n    <tr>\n      <th>...</th>\n      <td>...</td>\n      <td>...</td>\n      <td>...</td>\n      <td>...</td>\n    </tr>\n    <tr>\n      <th>1305</th>\n      <td>1</td>\n      <td>1</td>\n      <td>2</td>\n      <td>12</td>\n    </tr>\n    <tr>\n      <th>1306</th>\n      <td>3</td>\n      <td>0</td>\n      <td>0</td>\n      <td>3</td>\n    </tr>\n    <tr>\n      <th>1307</th>\n      <td>1</td>\n      <td>1</td>\n      <td>2</td>\n      <td>12</td>\n    </tr>\n    <tr>\n      <th>1308</th>\n      <td>1</td>\n      <td>1</td>\n      <td>2</td>\n      <td>12</td>\n    </tr>\n    <tr>\n      <th>1309</th>\n      <td>3</td>\n      <td>1</td>\n      <td>0</td>\n      <td>8</td>\n    </tr>\n  </tbody>\n</table>\n<p>1309 rows × 4 columns</p>\n</div>"
     },
     "execution_count": 1026,
     "metadata": {},
     "output_type": "execute_result"
    }
   ],
   "source": [
    "all_data_obj"
   ],
   "metadata": {
    "collapsed": false,
    "pycharm": {
     "name": "#%%\n"
    }
   }
  },
  {
   "cell_type": "markdown",
   "source": [
    "## 내 생각엔 Name은 필요 없을 거 같고 , 'Sex'와 'Embarked' 만 필요할거 같다.\n",
    "\n",
    "==> MR. MRS. MISS . baby 등 필요할듯"
   ],
   "metadata": {
    "collapsed": false,
    "pycharm": {
     "name": "#%% md\n"
    }
   }
  },
  {
   "cell_type": "code",
   "execution_count": 1027,
   "outputs": [],
   "source": [
    "# all_data_obj = all_data_obj[['Sex' , 'Embarked']]\n",
    "# all_data_obj"
   ],
   "metadata": {
    "collapsed": false,
    "pycharm": {
     "name": "#%%\n"
    }
   }
  },
  {
   "cell_type": "code",
   "execution_count": 1028,
   "outputs": [
    {
     "data": {
      "text/plain": "             Name  Sex  Embarked  Occupation Survival\nPassengerId                                          \n1               1    1         2          12       사망\n2               2    0         0          13       생존\n3               0    0         2           9       생존\n4               2    0         2          13       생존\n5               1    1         2          12       사망\n...           ...  ...       ...         ...      ...\n1305            1    1         2          12      NaN\n1306            3    0         0           3      NaN\n1307            1    1         2          12      NaN\n1308            1    1         2          12      NaN\n1309            3    1         0           8      NaN\n\n[1309 rows x 5 columns]",
      "text/html": "<div>\n<style scoped>\n    .dataframe tbody tr th:only-of-type {\n        vertical-align: middle;\n    }\n\n    .dataframe tbody tr th {\n        vertical-align: top;\n    }\n\n    .dataframe thead th {\n        text-align: right;\n    }\n</style>\n<table border=\"1\" class=\"dataframe\">\n  <thead>\n    <tr style=\"text-align: right;\">\n      <th></th>\n      <th>Name</th>\n      <th>Sex</th>\n      <th>Embarked</th>\n      <th>Occupation</th>\n      <th>Survival</th>\n    </tr>\n    <tr>\n      <th>PassengerId</th>\n      <th></th>\n      <th></th>\n      <th></th>\n      <th></th>\n      <th></th>\n    </tr>\n  </thead>\n  <tbody>\n    <tr>\n      <th>1</th>\n      <td>1</td>\n      <td>1</td>\n      <td>2</td>\n      <td>12</td>\n      <td>사망</td>\n    </tr>\n    <tr>\n      <th>2</th>\n      <td>2</td>\n      <td>0</td>\n      <td>0</td>\n      <td>13</td>\n      <td>생존</td>\n    </tr>\n    <tr>\n      <th>3</th>\n      <td>0</td>\n      <td>0</td>\n      <td>2</td>\n      <td>9</td>\n      <td>생존</td>\n    </tr>\n    <tr>\n      <th>4</th>\n      <td>2</td>\n      <td>0</td>\n      <td>2</td>\n      <td>13</td>\n      <td>생존</td>\n    </tr>\n    <tr>\n      <th>5</th>\n      <td>1</td>\n      <td>1</td>\n      <td>2</td>\n      <td>12</td>\n      <td>사망</td>\n    </tr>\n    <tr>\n      <th>...</th>\n      <td>...</td>\n      <td>...</td>\n      <td>...</td>\n      <td>...</td>\n      <td>...</td>\n    </tr>\n    <tr>\n      <th>1305</th>\n      <td>1</td>\n      <td>1</td>\n      <td>2</td>\n      <td>12</td>\n      <td>NaN</td>\n    </tr>\n    <tr>\n      <th>1306</th>\n      <td>3</td>\n      <td>0</td>\n      <td>0</td>\n      <td>3</td>\n      <td>NaN</td>\n    </tr>\n    <tr>\n      <th>1307</th>\n      <td>1</td>\n      <td>1</td>\n      <td>2</td>\n      <td>12</td>\n      <td>NaN</td>\n    </tr>\n    <tr>\n      <th>1308</th>\n      <td>1</td>\n      <td>1</td>\n      <td>2</td>\n      <td>12</td>\n      <td>NaN</td>\n    </tr>\n    <tr>\n      <th>1309</th>\n      <td>3</td>\n      <td>1</td>\n      <td>0</td>\n      <td>8</td>\n      <td>NaN</td>\n    </tr>\n  </tbody>\n</table>\n<p>1309 rows × 5 columns</p>\n</div>"
     },
     "execution_count": 1028,
     "metadata": {},
     "output_type": "execute_result"
    }
   ],
   "source": [
    "all_data_obj2 =  pd.merge(all_data_obj, all_data_bin2['Survival'] , how='outer' , on=('PassengerId'))\n",
    "all_data_obj2"
   ],
   "metadata": {
    "collapsed": false,
    "pycharm": {
     "name": "#%%\n"
    }
   }
  },
  {
   "cell_type": "code",
   "execution_count": 1029,
   "outputs": [],
   "source": [
    "# # 3행 2열\n",
    "# mpl.rc('font' , size = 12)\n",
    "# grid = gridspec.GridSpec(2,2) # 그래프(서브플롯)을 3행 2열로 배치\n",
    "# plt.figure(figsize=(15,16)) # 전체 Figure 크기 설정\n",
    "# plt.subplots_adjust(wspace= 0.4 , hspace= 0.3) # 서브플롯 간 좌우/상하 여백 설정\n",
    "#\n",
    "# # 서브플롯 그리기# 피처 목록\n",
    "#\n",
    "# for idx, feature in enumerate(all_data_obj2.columns.tolist()) :\n",
    "#\n",
    "#     ax = plt.subplot(grid[idx])\n",
    "#\n",
    "#     # ax 축에 타깃값 분포 카운트플롯 그리기\n",
    "#     sns.countplot(x=feature , data =all_data_obj2 , hue = 'Survival' , palette = 'pastel' , ax= ax)\n",
    "#     # hue는 세부적으로 나눠 그릴 기준 피처, 여기서는 타깃값(target)을 전달했다.\n",
    "#     ax.set_title(f'{feature} 타이타닉호 생존자') # 그래프 제목 설정\n",
    "#     write_percent(ax, len(all_data_obj2))\n"
   ],
   "metadata": {
    "collapsed": false,
    "pycharm": {
     "name": "#%%\n"
    }
   }
  },
  {
   "cell_type": "code",
   "execution_count": 1030,
   "outputs": [
    {
     "data": {
      "text/plain": "             Name  Sex  Embarked        Age  Pclass  SibSp  Parch      Fare\nPassengerId                                                                \n1               1    1         2  22.000000       3      1      0    7.2500\n2               2    0         0  38.000000       1      1      0   71.2833\n3               0    0         2  26.000000       3      0      0    7.9250\n4               2    0         2  35.000000       1      1      0   53.1000\n5               1    1         2  35.000000       3      0      0    8.0500\n...           ...  ...       ...        ...     ...    ...    ...       ...\n1305            1    1         2  28.071796       3      0      0    8.0500\n1306            3    0         0  39.000000       1      0      0  108.9000\n1307            1    1         2  38.500000       3      0      0    7.2500\n1308            1    1         2  28.071796       3      0      0    8.0500\n1309            3    1         0  17.647205       3      1      1   22.3583\n\n[1309 rows x 8 columns]",
      "text/html": "<div>\n<style scoped>\n    .dataframe tbody tr th:only-of-type {\n        vertical-align: middle;\n    }\n\n    .dataframe tbody tr th {\n        vertical-align: top;\n    }\n\n    .dataframe thead th {\n        text-align: right;\n    }\n</style>\n<table border=\"1\" class=\"dataframe\">\n  <thead>\n    <tr style=\"text-align: right;\">\n      <th></th>\n      <th>Name</th>\n      <th>Sex</th>\n      <th>Embarked</th>\n      <th>Age</th>\n      <th>Pclass</th>\n      <th>SibSp</th>\n      <th>Parch</th>\n      <th>Fare</th>\n    </tr>\n    <tr>\n      <th>PassengerId</th>\n      <th></th>\n      <th></th>\n      <th></th>\n      <th></th>\n      <th></th>\n      <th></th>\n      <th></th>\n      <th></th>\n    </tr>\n  </thead>\n  <tbody>\n    <tr>\n      <th>1</th>\n      <td>1</td>\n      <td>1</td>\n      <td>2</td>\n      <td>22.000000</td>\n      <td>3</td>\n      <td>1</td>\n      <td>0</td>\n      <td>7.2500</td>\n    </tr>\n    <tr>\n      <th>2</th>\n      <td>2</td>\n      <td>0</td>\n      <td>0</td>\n      <td>38.000000</td>\n      <td>1</td>\n      <td>1</td>\n      <td>0</td>\n      <td>71.2833</td>\n    </tr>\n    <tr>\n      <th>3</th>\n      <td>0</td>\n      <td>0</td>\n      <td>2</td>\n      <td>26.000000</td>\n      <td>3</td>\n      <td>0</td>\n      <td>0</td>\n      <td>7.9250</td>\n    </tr>\n    <tr>\n      <th>4</th>\n      <td>2</td>\n      <td>0</td>\n      <td>2</td>\n      <td>35.000000</td>\n      <td>1</td>\n      <td>1</td>\n      <td>0</td>\n      <td>53.1000</td>\n    </tr>\n    <tr>\n      <th>5</th>\n      <td>1</td>\n      <td>1</td>\n      <td>2</td>\n      <td>35.000000</td>\n      <td>3</td>\n      <td>0</td>\n      <td>0</td>\n      <td>8.0500</td>\n    </tr>\n    <tr>\n      <th>...</th>\n      <td>...</td>\n      <td>...</td>\n      <td>...</td>\n      <td>...</td>\n      <td>...</td>\n      <td>...</td>\n      <td>...</td>\n      <td>...</td>\n    </tr>\n    <tr>\n      <th>1305</th>\n      <td>1</td>\n      <td>1</td>\n      <td>2</td>\n      <td>28.071796</td>\n      <td>3</td>\n      <td>0</td>\n      <td>0</td>\n      <td>8.0500</td>\n    </tr>\n    <tr>\n      <th>1306</th>\n      <td>3</td>\n      <td>0</td>\n      <td>0</td>\n      <td>39.000000</td>\n      <td>1</td>\n      <td>0</td>\n      <td>0</td>\n      <td>108.9000</td>\n    </tr>\n    <tr>\n      <th>1307</th>\n      <td>1</td>\n      <td>1</td>\n      <td>2</td>\n      <td>38.500000</td>\n      <td>3</td>\n      <td>0</td>\n      <td>0</td>\n      <td>7.2500</td>\n    </tr>\n    <tr>\n      <th>1308</th>\n      <td>1</td>\n      <td>1</td>\n      <td>2</td>\n      <td>28.071796</td>\n      <td>3</td>\n      <td>0</td>\n      <td>0</td>\n      <td>8.0500</td>\n    </tr>\n    <tr>\n      <th>1309</th>\n      <td>3</td>\n      <td>1</td>\n      <td>0</td>\n      <td>17.647205</td>\n      <td>3</td>\n      <td>1</td>\n      <td>1</td>\n      <td>22.3583</td>\n    </tr>\n  </tbody>\n</table>\n<p>1309 rows × 8 columns</p>\n</div>"
     },
     "execution_count": 1030,
     "metadata": {},
     "output_type": "execute_result"
    }
   ],
   "source": [
    "all_data2 = pd.merge(all_data_obj , all_data_bin2, how='outer' , on=('PassengerId'))\n",
    "\n",
    "all_data2 = all_data2[['Name','Sex' , 'Embarked' ,'Age', 'Pclass' ,'SibSp' , 'Parch' , 'Fare']]\n",
    "columns_1 = all_data2.columns.tolist()\n",
    "all_data2"
   ],
   "metadata": {
    "collapsed": false,
    "pycharm": {
     "name": "#%%\n"
    }
   }
  },
  {
   "cell_type": "code",
   "execution_count": 1031,
   "outputs": [
    {
     "data": {
      "text/plain": "<Figure size 432x288 with 1 Axes>",
      "image/png": "[encoded data removed]"
     },
     "metadata": {
      "needs_background": "light"
     },
     "output_type": "display_data"
    }
   ],
   "source": [
    "import seaborn as sns\n",
    "from scipy.stats import norm\n",
    "import matplotlib.pyplot as plt\n",
    "\n",
    "# 히스토그램과 정규분포 곡선 그리기\n",
    "sns.histplot(all_data['Age'], kde=True, stat='density', color='skyblue', alpha=0.7)\n",
    "mu, std = norm.fit(all_data['Age'].dropna())\n",
    "xmin, xmax = plt.xlim()\n",
    "x = np.linspace(xmin, xmax, 100)\n",
    "p = norm.pdf(x, mu, std)\n",
    "plt.plot(x, p, 'r', linewidth=2)\n",
    "plt.title(f'Age distribution (mu={mu:.2f}, std={std:.2f})')\n",
    "plt.show()"
   ],
   "metadata": {
    "collapsed": false,
    "pycharm": {
     "name": "#%%\n"
    }
   }
  },
  {
   "cell_type": "markdown",
   "source": [
    "## 모델링_with 피처엔지니어링\n",
    "\n",
    "- 명목형 피처는 OneHotEncoding ==> Name , Sex , Embarked\n",
    "\n",
    "- Pclass 는 MinMaxScaler로"
   ],
   "metadata": {
    "collapsed": false,
    "pycharm": {
     "name": "#%% md\n"
    }
   }
  },
  {
   "cell_type": "code",
   "execution_count": 1032,
   "outputs": [
    {
     "name": "stdout",
     "output_type": "stream",
     "text": [
      "<class 'scipy.sparse.csr.csr_matrix'>\n"
     ]
    },
    {
     "data": {
      "text/plain": "<1309x9 sparse matrix of type '<class 'numpy.float64'>'\n\twith 3927 stored elements in Compressed Sparse Row format>"
     },
     "execution_count": 1032,
     "metadata": {},
     "output_type": "execute_result"
    }
   ],
   "source": [
    "from sklearn.preprocessing import OneHotEncoder\n",
    "\n",
    "onehot_encoder = OneHotEncoder() # 원-핫 인코더 생성\n",
    "nom_feature = ['Name' , 'Sex' , 'Embarked']\n",
    "encoded_nom_matrix = onehot_encoder.fit_transform(all_data2[nom_feature])\n",
    "print(type(encoded_nom_matrix))\n",
    "encoded_nom_matrix"
   ],
   "metadata": {
    "collapsed": false,
    "pycharm": {
     "name": "#%%\n"
    }
   }
  },
  {
   "cell_type": "code",
   "execution_count": 1033,
   "outputs": [
    {
     "name": "stdout",
     "output_type": "stream",
     "text": [
      "['Sex_0', 'Sex_1', 'Sex_2', 'Sex_3', 'Embarked_0', 'Embarked_1']\n"
     ]
    }
   ],
   "source": [
    "from sklearn.preprocessing import OneHotEncoder\n",
    "\n",
    "# 범주형 변수의 원래 이름을 추출합니다.\n",
    "nom_feature = [ 'Sex' , 'Embarked']\n",
    "nom_feature_names = []\n",
    "for feature in nom_feature:\n",
    "    categories = onehot_encoder.categories_[nom_feature.index(feature)]\n",
    "    for category in categories:\n",
    "        nom_feature_names.append(f\"{feature}_{category}\")\n",
    "\n",
    "# 범주형 변수를 OneHotEncoder로 변환합니다.\n",
    "# encoded_nom_matrix = onehot_encoder.transform(all_data2[nom_feature])\n",
    "#\n",
    "# # 변환된 CSR 행렬의 피처명을 추출합니다.\n",
    "# encoded_nom_names = onehot_encoder.get_feature_names(nom_feature_names)\n",
    "\n",
    "# 결과를 출력합니다.\n",
    "print(nom_feature_names)\n"
   ],
   "metadata": {
    "collapsed": false,
    "pycharm": {
     "name": "#%%\n"
    }
   }
  },
  {
   "cell_type": "code",
   "execution_count": 1034,
   "outputs": [
    {
     "name": "stdout",
     "output_type": "stream",
     "text": [
      "<class 'scipy.sparse.csr.csr_matrix'>\n"
     ]
    }
   ],
   "source": [
    "print(type(encoded_nom_matrix))"
   ],
   "metadata": {
    "collapsed": false,
    "pycharm": {
     "name": "#%%\n"
    }
   }
  },
  {
   "cell_type": "code",
   "execution_count": 1035,
   "outputs": [],
   "source": [
    "all_data2 = all_data2.drop(nom_feature , axis =1)"
   ],
   "metadata": {
    "collapsed": false,
    "pycharm": {
     "name": "#%%\n"
    }
   }
  },
  {
   "cell_type": "code",
   "execution_count": 1036,
   "outputs": [],
   "source": [
    "from sklearn.preprocessing import  MinMaxScaler\n",
    "\n",
    "ord_features = ['Pclass' , 'SibSp', 'Parch']\n",
    "all_data2[ord_features] = MinMaxScaler().fit_transform(all_data2[ord_features])"
   ],
   "metadata": {
    "collapsed": false,
    "pycharm": {
     "name": "#%%\n"
    }
   }
  },
  {
   "cell_type": "markdown",
   "source": [
    "# 인코딩 및 스케일링 된 피처 합치기"
   ],
   "metadata": {
    "collapsed": false,
    "pycharm": {
     "name": "#%% md\n"
    }
   }
  },
  {
   "cell_type": "code",
   "execution_count": 1037,
   "outputs": [
    {
     "data": {
      "text/plain": "             Name        Age  Pclass  SibSp     Parch      Fare\nPassengerId                                                    \n1               1  22.000000     1.0  0.125  0.000000    7.2500\n2               2  38.000000     0.0  0.125  0.000000   71.2833\n3               0  26.000000     1.0  0.000  0.000000    7.9250\n4               2  35.000000     0.0  0.125  0.000000   53.1000\n5               1  35.000000     1.0  0.000  0.000000    8.0500\n...           ...        ...     ...    ...       ...       ...\n1305            1  28.071796     1.0  0.000  0.000000    8.0500\n1306            3  39.000000     0.0  0.000  0.000000  108.9000\n1307            1  38.500000     1.0  0.000  0.000000    7.2500\n1308            1  28.071796     1.0  0.000  0.000000    8.0500\n1309            3  17.647205     1.0  0.125  0.111111   22.3583\n\n[1309 rows x 6 columns]",
      "text/html": "<div>\n<style scoped>\n    .dataframe tbody tr th:only-of-type {\n        vertical-align: middle;\n    }\n\n    .dataframe tbody tr th {\n        vertical-align: top;\n    }\n\n    .dataframe thead th {\n        text-align: right;\n    }\n</style>\n<table border=\"1\" class=\"dataframe\">\n  <thead>\n    <tr style=\"text-align: right;\">\n      <th></th>\n      <th>Name</th>\n      <th>Age</th>\n      <th>Pclass</th>\n      <th>SibSp</th>\n      <th>Parch</th>\n      <th>Fare</th>\n    </tr>\n    <tr>\n      <th>PassengerId</th>\n      <th></th>\n      <th></th>\n      <th></th>\n      <th></th>\n      <th></th>\n      <th></th>\n    </tr>\n  </thead>\n  <tbody>\n    <tr>\n      <th>1</th>\n      <td>1</td>\n      <td>22.000000</td>\n      <td>1.0</td>\n      <td>0.125</td>\n      <td>0.000000</td>\n      <td>7.2500</td>\n    </tr>\n    <tr>\n      <th>2</th>\n      <td>2</td>\n      <td>38.000000</td>\n      <td>0.0</td>\n      <td>0.125</td>\n      <td>0.000000</td>\n      <td>71.2833</td>\n    </tr>\n    <tr>\n      <th>3</th>\n      <td>0</td>\n      <td>26.000000</td>\n      <td>1.0</td>\n      <td>0.000</td>\n      <td>0.000000</td>\n      <td>7.9250</td>\n    </tr>\n    <tr>\n      <th>4</th>\n      <td>2</td>\n      <td>35.000000</td>\n      <td>0.0</td>\n      <td>0.125</td>\n      <td>0.000000</td>\n      <td>53.1000</td>\n    </tr>\n    <tr>\n      <th>5</th>\n      <td>1</td>\n      <td>35.000000</td>\n      <td>1.0</td>\n      <td>0.000</td>\n      <td>0.000000</td>\n      <td>8.0500</td>\n    </tr>\n    <tr>\n      <th>...</th>\n      <td>...</td>\n      <td>...</td>\n      <td>...</td>\n      <td>...</td>\n      <td>...</td>\n      <td>...</td>\n    </tr>\n    <tr>\n      <th>1305</th>\n      <td>1</td>\n      <td>28.071796</td>\n      <td>1.0</td>\n      <td>0.000</td>\n      <td>0.000000</td>\n      <td>8.0500</td>\n    </tr>\n    <tr>\n      <th>1306</th>\n      <td>3</td>\n      <td>39.000000</td>\n      <td>0.0</td>\n      <td>0.000</td>\n      <td>0.000000</td>\n      <td>108.9000</td>\n    </tr>\n    <tr>\n      <th>1307</th>\n      <td>1</td>\n      <td>38.500000</td>\n      <td>1.0</td>\n      <td>0.000</td>\n      <td>0.000000</td>\n      <td>7.2500</td>\n    </tr>\n    <tr>\n      <th>1308</th>\n      <td>1</td>\n      <td>28.071796</td>\n      <td>1.0</td>\n      <td>0.000</td>\n      <td>0.000000</td>\n      <td>8.0500</td>\n    </tr>\n    <tr>\n      <th>1309</th>\n      <td>3</td>\n      <td>17.647205</td>\n      <td>1.0</td>\n      <td>0.125</td>\n      <td>0.111111</td>\n      <td>22.3583</td>\n    </tr>\n  </tbody>\n</table>\n<p>1309 rows × 6 columns</p>\n</div>"
     },
     "execution_count": 1037,
     "metadata": {},
     "output_type": "execute_result"
    }
   ],
   "source": [
    "all_data2"
   ],
   "metadata": {
    "collapsed": false,
    "pycharm": {
     "name": "#%%\n"
    }
   }
  },
  {
   "cell_type": "code",
   "execution_count": 1038,
   "outputs": [
    {
     "data": {
      "text/plain": "             Name        Age  Pclass  SibSp     Parch      Fare  log_Fare\nPassengerId                                                              \n1               1  22.000000     1.0  0.125  0.000000    7.2500  1.981001\n2               2  38.000000     0.0  0.125  0.000000   71.2833  4.266662\n3               0  26.000000     1.0  0.000  0.000000    7.9250  2.070022\n4               2  35.000000     0.0  0.125  0.000000   53.1000  3.972177\n5               1  35.000000     1.0  0.000  0.000000    8.0500  2.085672\n...           ...        ...     ...    ...       ...       ...       ...\n1305            1  28.071796     1.0  0.000  0.000000    8.0500  2.085672\n1306            3  39.000000     0.0  0.000  0.000000  108.9000  4.690430\n1307            1  38.500000     1.0  0.000  0.000000    7.2500  1.981001\n1308            1  28.071796     1.0  0.000  0.000000    8.0500  2.085672\n1309            3  17.647205     1.0  0.125  0.111111   22.3583  3.107198\n\n[1309 rows x 7 columns]",
      "text/html": "<div>\n<style scoped>\n    .dataframe tbody tr th:only-of-type {\n        vertical-align: middle;\n    }\n\n    .dataframe tbody tr th {\n        vertical-align: top;\n    }\n\n    .dataframe thead th {\n        text-align: right;\n    }\n</style>\n<table border=\"1\" class=\"dataframe\">\n  <thead>\n    <tr style=\"text-align: right;\">\n      <th></th>\n      <th>Name</th>\n      <th>Age</th>\n      <th>Pclass</th>\n      <th>SibSp</th>\n      <th>Parch</th>\n      <th>Fare</th>\n      <th>log_Fare</th>\n    </tr>\n    <tr>\n      <th>PassengerId</th>\n      <th></th>\n      <th></th>\n      <th></th>\n      <th></th>\n      <th></th>\n      <th></th>\n      <th></th>\n    </tr>\n  </thead>\n  <tbody>\n    <tr>\n      <th>1</th>\n      <td>1</td>\n      <td>22.000000</td>\n      <td>1.0</td>\n      <td>0.125</td>\n      <td>0.000000</td>\n      <td>7.2500</td>\n      <td>1.981001</td>\n    </tr>\n    <tr>\n      <th>2</th>\n      <td>2</td>\n      <td>38.000000</td>\n      <td>0.0</td>\n      <td>0.125</td>\n      <td>0.000000</td>\n      <td>71.2833</td>\n      <td>4.266662</td>\n    </tr>\n    <tr>\n      <th>3</th>\n      <td>0</td>\n      <td>26.000000</td>\n      <td>1.0</td>\n      <td>0.000</td>\n      <td>0.000000</td>\n      <td>7.9250</td>\n      <td>2.070022</td>\n    </tr>\n    <tr>\n      <th>4</th>\n      <td>2</td>\n      <td>35.000000</td>\n      <td>0.0</td>\n      <td>0.125</td>\n      <td>0.000000</td>\n      <td>53.1000</td>\n      <td>3.972177</td>\n    </tr>\n    <tr>\n      <th>5</th>\n      <td>1</td>\n      <td>35.000000</td>\n      <td>1.0</td>\n      <td>0.000</td>\n      <td>0.000000</td>\n      <td>8.0500</td>\n      <td>2.085672</td>\n    </tr>\n    <tr>\n      <th>...</th>\n      <td>...</td>\n      <td>...</td>\n      <td>...</td>\n      <td>...</td>\n      <td>...</td>\n      <td>...</td>\n      <td>...</td>\n    </tr>\n    <tr>\n      <th>1305</th>\n      <td>1</td>\n      <td>28.071796</td>\n      <td>1.0</td>\n      <td>0.000</td>\n      <td>0.000000</td>\n      <td>8.0500</td>\n      <td>2.085672</td>\n    </tr>\n    <tr>\n      <th>1306</th>\n      <td>3</td>\n      <td>39.000000</td>\n      <td>0.0</td>\n      <td>0.000</td>\n      <td>0.000000</td>\n      <td>108.9000</td>\n      <td>4.690430</td>\n    </tr>\n    <tr>\n      <th>1307</th>\n      <td>1</td>\n      <td>38.500000</td>\n      <td>1.0</td>\n      <td>0.000</td>\n      <td>0.000000</td>\n      <td>7.2500</td>\n      <td>1.981001</td>\n    </tr>\n    <tr>\n      <th>1308</th>\n      <td>1</td>\n      <td>28.071796</td>\n      <td>1.0</td>\n      <td>0.000</td>\n      <td>0.000000</td>\n      <td>8.0500</td>\n      <td>2.085672</td>\n    </tr>\n    <tr>\n      <th>1309</th>\n      <td>3</td>\n      <td>17.647205</td>\n      <td>1.0</td>\n      <td>0.125</td>\n      <td>0.111111</td>\n      <td>22.3583</td>\n      <td>3.107198</td>\n    </tr>\n  </tbody>\n</table>\n<p>1309 rows × 7 columns</p>\n</div>"
     },
     "execution_count": 1038,
     "metadata": {},
     "output_type": "execute_result"
    }
   ],
   "source": [
    "all_data2['log_Fare'] = np.log(all_data['Fare'])\n",
    "all_data2"
   ],
   "metadata": {
    "collapsed": false,
    "pycharm": {
     "name": "#%%\n"
    }
   }
  },
  {
   "cell_type": "code",
   "execution_count": 1039,
   "outputs": [
    {
     "data": {
      "text/plain": "array([[-0.122, -0.544, -1.019],\n       [ 1.138,  0.642,  1.383],\n       [-1.382, -0.248, -0.925],\n       ...,\n       [-0.122,  0.679, -1.019],\n       [-0.122, -0.094, -0.909],\n       [ 2.398, -0.867,  0.164]])"
     },
     "execution_count": 1039,
     "metadata": {},
     "output_type": "execute_result"
    }
   ],
   "source": [
    "from sklearn.preprocessing import StandardScaler\n",
    "\n",
    "standard_scaler = StandardScaler()\n",
    "\n",
    "encoded_stan = standard_scaler.fit_transform(all_data2[['Name','Age' , 'log_Fare']])\n",
    "\n",
    "encoded_stan"
   ],
   "metadata": {
    "collapsed": false,
    "pycharm": {
     "name": "#%%\n"
    }
   }
  },
  {
   "cell_type": "code",
   "execution_count": 1040,
   "outputs": [
    {
     "data": {
      "text/plain": "<Figure size 432x288 with 1 Axes>",
      "image/png": "[encoded data removed]"
     },
     "metadata": {
      "needs_background": "light"
     },
     "output_type": "display_data"
    }
   ],
   "source": [
    "import seaborn as sns\n",
    "from scipy.stats import norm\n",
    "import matplotlib.pyplot as plt\n",
    "\n",
    "# 히스토그램과 정규분포 곡선 그리기\n",
    "sns.histplot(all_data2['log_Fare'], kde=True, stat='density', color='skyblue', alpha=0.7)\n",
    "mu, std = norm.fit(all_data2['log_Fare'].dropna())\n",
    "xmin, xmax = plt.xlim()\n",
    "x = np.linspace(xmin, xmax, 100)\n",
    "p = norm.pdf(x, mu, std)\n",
    "plt.plot(x, p, 'r', linewidth=2)\n",
    "plt.title(f'logFare distribution (mu={mu:.2f}, std={std:.2f})')\n",
    "plt.show()"
   ],
   "metadata": {
    "collapsed": false,
    "pycharm": {
     "name": "#%%\n"
    }
   }
  },
  {
   "cell_type": "code",
   "execution_count": 1041,
   "outputs": [
    {
     "data": {
      "text/plain": "             Pclass  SibSp     Parch\nPassengerId                         \n1               1.0  0.125  0.000000\n2               0.0  0.125  0.000000\n3               1.0  0.000  0.000000\n4               0.0  0.125  0.000000\n5               1.0  0.000  0.000000\n...             ...    ...       ...\n1305            1.0  0.000  0.000000\n1306            0.0  0.000  0.000000\n1307            1.0  0.000  0.000000\n1308            1.0  0.000  0.000000\n1309            1.0  0.125  0.111111\n\n[1309 rows x 3 columns]",
      "text/html": "<div>\n<style scoped>\n    .dataframe tbody tr th:only-of-type {\n        vertical-align: middle;\n    }\n\n    .dataframe tbody tr th {\n        vertical-align: top;\n    }\n\n    .dataframe thead th {\n        text-align: right;\n    }\n</style>\n<table border=\"1\" class=\"dataframe\">\n  <thead>\n    <tr style=\"text-align: right;\">\n      <th></th>\n      <th>Pclass</th>\n      <th>SibSp</th>\n      <th>Parch</th>\n    </tr>\n    <tr>\n      <th>PassengerId</th>\n      <th></th>\n      <th></th>\n      <th></th>\n    </tr>\n  </thead>\n  <tbody>\n    <tr>\n      <th>1</th>\n      <td>1.0</td>\n      <td>0.125</td>\n      <td>0.000000</td>\n    </tr>\n    <tr>\n      <th>2</th>\n      <td>0.0</td>\n      <td>0.125</td>\n      <td>0.000000</td>\n    </tr>\n    <tr>\n      <th>3</th>\n      <td>1.0</td>\n      <td>0.000</td>\n      <td>0.000000</td>\n    </tr>\n    <tr>\n      <th>4</th>\n      <td>0.0</td>\n      <td>0.125</td>\n      <td>0.000000</td>\n    </tr>\n    <tr>\n      <th>5</th>\n      <td>1.0</td>\n      <td>0.000</td>\n      <td>0.000000</td>\n    </tr>\n    <tr>\n      <th>...</th>\n      <td>...</td>\n      <td>...</td>\n      <td>...</td>\n    </tr>\n    <tr>\n      <th>1305</th>\n      <td>1.0</td>\n      <td>0.000</td>\n      <td>0.000000</td>\n    </tr>\n    <tr>\n      <th>1306</th>\n      <td>0.0</td>\n      <td>0.000</td>\n      <td>0.000000</td>\n    </tr>\n    <tr>\n      <th>1307</th>\n      <td>1.0</td>\n      <td>0.000</td>\n      <td>0.000000</td>\n    </tr>\n    <tr>\n      <th>1308</th>\n      <td>1.0</td>\n      <td>0.000</td>\n      <td>0.000000</td>\n    </tr>\n    <tr>\n      <th>1309</th>\n      <td>1.0</td>\n      <td>0.125</td>\n      <td>0.111111</td>\n    </tr>\n  </tbody>\n</table>\n<p>1309 rows × 3 columns</p>\n</div>"
     },
     "execution_count": 1041,
     "metadata": {},
     "output_type": "execute_result"
    }
   ],
   "source": [
    "all_data2 = all_data2[[ 'Pclass' , 'SibSp' , 'Parch']]\n",
    "all_data2"
   ],
   "metadata": {
    "collapsed": false,
    "pycharm": {
     "name": "#%%\n"
    }
   }
  },
  {
   "cell_type": "code",
   "execution_count": 1042,
   "outputs": [
    {
     "data": {
      "text/plain": "<1309x15 sparse matrix of type '<class 'numpy.float64'>'\n\twith 9565 stored elements in Compressed Sparse Row format>"
     },
     "execution_count": 1042,
     "metadata": {},
     "output_type": "execute_result"
    }
   ],
   "source": [
    "from scipy import sparse\n",
    "\n",
    "all_data_sprs = sparse.hstack([sparse.csr_matrix(all_data2),\n",
    "                               encoded_nom_matrix,\n",
    "                               sparse.csr_matrix(encoded_stan)],\n",
    "                              format='csr')\n",
    "\n",
    "all_data_sprs"
   ],
   "metadata": {
    "collapsed": false,
    "pycharm": {
     "name": "#%%\n"
    }
   }
  },
  {
   "cell_type": "code",
   "execution_count": 1043,
   "outputs": [
    {
     "data": {
      "text/plain": "['Pclass',\n 'SibSp',\n 'Parch',\n 'Sex_0',\n 'Sex_1',\n 'Sex_2',\n 'Sex_3',\n 'Embarked_0',\n 'Embarked_1',\n 'Name',\n 'Age',\n 'Fare']"
     },
     "execution_count": 1043,
     "metadata": {},
     "output_type": "execute_result"
    }
   ],
   "source": [
    "CSR_NAMES = all_data2.columns.tolist() + nom_feature_names + ['Name','Age' , 'Fare']\n",
    "CSR_NAMES"
   ],
   "metadata": {
    "collapsed": false,
    "pycharm": {
     "name": "#%%\n"
    }
   }
  },
  {
   "cell_type": "code",
   "execution_count": 1044,
   "outputs": [],
   "source": [
    "num_train = len(train) # 훈련 데이터 개수\n",
    "\n",
    "# 훈련 데이터와 테스트 데이터 나누기\n",
    "\n",
    "X_train = all_data_sprs[:num_train] # 0~num_train -1 행\n",
    "X_test = all_data_sprs[num_train:] # num_train ~ 마지막 행\n",
    "\n",
    "y = train['Survived']"
   ],
   "metadata": {
    "collapsed": false,
    "pycharm": {
     "name": "#%%\n"
    }
   }
  },
  {
   "cell_type": "code",
   "execution_count": 1045,
   "outputs": [
    {
     "name": "stdout",
     "output_type": "stream",
     "text": [
      "[[ 1.     0.125  0.    ... -0.122 -0.544 -1.019]\n",
      " [ 0.     0.125  0.    ...  1.138  0.642  1.383]\n",
      " [ 1.     0.     0.    ... -1.382 -0.248 -0.925]\n",
      " ...\n",
      " [ 1.     0.125  0.222 ... -1.382 -1.038  0.214]\n",
      " [ 0.     0.     0.    ... -0.122 -0.248  0.473]\n",
      " [ 1.     0.     0.    ... -0.122  0.197 -0.949]]\n"
     ]
    }
   ],
   "source": [
    "print(X_train.toarray())"
   ],
   "metadata": {
    "collapsed": false,
    "pycharm": {
     "name": "#%%\n"
    }
   }
  },
  {
   "cell_type": "code",
   "execution_count": 1046,
   "outputs": [
    {
     "data": {
      "text/plain": "<891x15 sparse matrix of type '<class 'numpy.float64'>'\n\twith 6517 stored elements in Compressed Sparse Row format>"
     },
     "execution_count": 1046,
     "metadata": {},
     "output_type": "execute_result"
    }
   ],
   "source": [
    "X_train"
   ],
   "metadata": {
    "collapsed": false,
    "pycharm": {
     "name": "#%%\n"
    }
   }
  },
  {
   "cell_type": "code",
   "execution_count": 1047,
   "outputs": [],
   "source": [
    "from sklearn.model_selection import train_test_split\n",
    "\n",
    "# 훈련 데이터 , 검증 데이터 분리\n",
    "\n",
    "# X_train , X_valid , y_train , y_valid = train_test_split(X_train , y , test_size=0.1 , stratify=y,random_state=10)\n",
    "\n",
    "# test_size 는 검증 데이터 크기를 지정하는 파라미터이다.\n",
    "# 값이 정수면 검증 데이터의 개수를 , 실수면 비율을 의미한다. 여기서는 0.1을 전달했으므로 10%를 검증 데이터로 분리하겠다는 의미이다.\n",
    "\n",
    "# stratify 파라미터를 지정하지 않으면 훈련 데이터와 검증 데이터에 타깃값이 불균형하게 분포 될 수 있다."
   ],
   "metadata": {
    "collapsed": false,
    "pycharm": {
     "name": "#%%\n"
    }
   }
  },
  {
   "cell_type": "markdown",
   "source": [
    "## 하이퍼파라미터 최적화"
   ],
   "metadata": {
    "collapsed": false,
    "pycharm": {
     "name": "#%% md\n"
    }
   }
  },
  {
   "cell_type": "code",
   "execution_count": 1048,
   "outputs": [
    {
     "name": "stdout",
     "output_type": "stream",
     "text": [
      "최적 하이퍼파라미터:  {'C': 5, 'max_iter': 800, 'random_state': 42, 'solver': 'liblinear'}\n",
      "Wall time: 802 ms\n"
     ]
    }
   ],
   "source": [
    "%%time\n",
    "\n",
    "from sklearn.model_selection import GridSearchCV\n",
    "from sklearn.linear_model import LogisticRegression\n",
    "\n",
    "# 로지스틱 회귀 모델 생성\n",
    "\n",
    "logistic_model = LogisticRegression()\n",
    "\n",
    "# 하이퍼파라미터 값 목록\n",
    "\n",
    "lr_params = {'C': [0.1,0.125,0.2,0.3,0.4,0.5,0.8, 1.5,5,7,7.2] , 'max_iter' : [800,900,1000,2000],\n",
    "             'solver' : ['liblinear'] , 'random_state' : [42]}\n",
    "# C는 규제강도\n",
    "\n",
    "# 그리드서치 객체 생성\n",
    "\n",
    "gridsearch_logistic_model = GridSearchCV(estimator= logistic_model ,\n",
    "                                         param_grid= lr_params,\n",
    "                                         scoring = 'roc_auc' , # 평가지표\n",
    "                                         cv = 5)\n",
    "\n",
    "# 그리드서치 수행\n",
    "\n",
    "gridsearch_logistic_model.fit(X_train,y)\n",
    "print('최적 하이퍼파라미터: ' , gridsearch_logistic_model.best_params_)"
   ],
   "metadata": {
    "collapsed": false,
    "pycharm": {
     "name": "#%%\n"
    }
   }
  },
  {
   "cell_type": "code",
   "execution_count": 1049,
   "outputs": [],
   "source": [
    "# gridsearch_logistic_model.summary()"
   ],
   "metadata": {
    "collapsed": false,
    "pycharm": {
     "name": "#%%\n"
    }
   }
  },
  {
   "cell_type": "code",
   "execution_count": 1050,
   "outputs": [
    {
     "name": "stdout",
     "output_type": "stream",
     "text": [
      "[[-2.104 -3.491 -2.176  0.454 -0.226  0.28   0.307  1.638 -0.823  0.449\n",
      "   0.328  0.039  0.454 -0.583  0.147]]\n"
     ]
    }
   ],
   "source": [
    "best_logistic_model = gridsearch_logistic_model.best_estimator_\n",
    "\n",
    "print(best_logistic_model.coef_)"
   ],
   "metadata": {
    "collapsed": false,
    "pycharm": {
     "name": "#%%\n"
    }
   }
  },
  {
   "cell_type": "code",
   "execution_count": 1051,
   "outputs": [
    {
     "ename": "ValueError",
     "evalue": "arrays must all be same length",
     "output_type": "error",
     "traceback": [
      "\u001B[1;31m---------------------------------------------------------------------------\u001B[0m",
      "\u001B[1;31mValueError\u001B[0m                                Traceback (most recent call last)",
      "\u001B[1;32m<ipython-input-1051-184f96ff3df4>\u001B[0m in \u001B[0;36m<module>\u001B[1;34m\u001B[0m\n\u001B[0;32m      2\u001B[0m \u001B[1;33m\u001B[0m\u001B[0m\n\u001B[0;32m      3\u001B[0m \u001B[1;31m# 계수와 피처명을 열로 갖는 데이터프레임을 만듭니다.\u001B[0m\u001B[1;33m\u001B[0m\u001B[1;33m\u001B[0m\u001B[1;33m\u001B[0m\u001B[0m\n\u001B[1;32m----> 4\u001B[1;33m coef_df = pd.DataFrame({\"coef\": best_logistic_model.coef_[0],\n\u001B[0m\u001B[0;32m      5\u001B[0m                         \"feature_name\": CSR_NAMES})\n\u001B[0;32m      6\u001B[0m \u001B[1;33m\u001B[0m\u001B[0m\n",
      "\u001B[1;32m~\\anaconda3\\lib\\site-packages\\pandas\\core\\frame.py\u001B[0m in \u001B[0;36m__init__\u001B[1;34m(self, data, index, columns, dtype, copy)\u001B[0m\n\u001B[0;32m    527\u001B[0m \u001B[1;33m\u001B[0m\u001B[0m\n\u001B[0;32m    528\u001B[0m         \u001B[1;32melif\u001B[0m \u001B[0misinstance\u001B[0m\u001B[1;33m(\u001B[0m\u001B[0mdata\u001B[0m\u001B[1;33m,\u001B[0m \u001B[0mdict\u001B[0m\u001B[1;33m)\u001B[0m\u001B[1;33m:\u001B[0m\u001B[1;33m\u001B[0m\u001B[1;33m\u001B[0m\u001B[0m\n\u001B[1;32m--> 529\u001B[1;33m             \u001B[0mmgr\u001B[0m \u001B[1;33m=\u001B[0m \u001B[0minit_dict\u001B[0m\u001B[1;33m(\u001B[0m\u001B[0mdata\u001B[0m\u001B[1;33m,\u001B[0m \u001B[0mindex\u001B[0m\u001B[1;33m,\u001B[0m \u001B[0mcolumns\u001B[0m\u001B[1;33m,\u001B[0m \u001B[0mdtype\u001B[0m\u001B[1;33m=\u001B[0m\u001B[0mdtype\u001B[0m\u001B[1;33m)\u001B[0m\u001B[1;33m\u001B[0m\u001B[1;33m\u001B[0m\u001B[0m\n\u001B[0m\u001B[0;32m    530\u001B[0m         \u001B[1;32melif\u001B[0m \u001B[0misinstance\u001B[0m\u001B[1;33m(\u001B[0m\u001B[0mdata\u001B[0m\u001B[1;33m,\u001B[0m \u001B[0mma\u001B[0m\u001B[1;33m.\u001B[0m\u001B[0mMaskedArray\u001B[0m\u001B[1;33m)\u001B[0m\u001B[1;33m:\u001B[0m\u001B[1;33m\u001B[0m\u001B[1;33m\u001B[0m\u001B[0m\n\u001B[0;32m    531\u001B[0m             \u001B[1;32mimport\u001B[0m \u001B[0mnumpy\u001B[0m\u001B[1;33m.\u001B[0m\u001B[0mma\u001B[0m\u001B[1;33m.\u001B[0m\u001B[0mmrecords\u001B[0m \u001B[1;32mas\u001B[0m \u001B[0mmrecords\u001B[0m\u001B[1;33m\u001B[0m\u001B[1;33m\u001B[0m\u001B[0m\n",
      "\u001B[1;32m~\\anaconda3\\lib\\site-packages\\pandas\\core\\internals\\construction.py\u001B[0m in \u001B[0;36minit_dict\u001B[1;34m(data, index, columns, dtype)\u001B[0m\n\u001B[0;32m    285\u001B[0m             \u001B[0marr\u001B[0m \u001B[1;32mif\u001B[0m \u001B[1;32mnot\u001B[0m \u001B[0mis_datetime64tz_dtype\u001B[0m\u001B[1;33m(\u001B[0m\u001B[0marr\u001B[0m\u001B[1;33m)\u001B[0m \u001B[1;32melse\u001B[0m \u001B[0marr\u001B[0m\u001B[1;33m.\u001B[0m\u001B[0mcopy\u001B[0m\u001B[1;33m(\u001B[0m\u001B[1;33m)\u001B[0m \u001B[1;32mfor\u001B[0m \u001B[0marr\u001B[0m \u001B[1;32min\u001B[0m \u001B[0marrays\u001B[0m\u001B[1;33m\u001B[0m\u001B[1;33m\u001B[0m\u001B[0m\n\u001B[0;32m    286\u001B[0m         ]\n\u001B[1;32m--> 287\u001B[1;33m     \u001B[1;32mreturn\u001B[0m \u001B[0marrays_to_mgr\u001B[0m\u001B[1;33m(\u001B[0m\u001B[0marrays\u001B[0m\u001B[1;33m,\u001B[0m \u001B[0mdata_names\u001B[0m\u001B[1;33m,\u001B[0m \u001B[0mindex\u001B[0m\u001B[1;33m,\u001B[0m \u001B[0mcolumns\u001B[0m\u001B[1;33m,\u001B[0m \u001B[0mdtype\u001B[0m\u001B[1;33m=\u001B[0m\u001B[0mdtype\u001B[0m\u001B[1;33m)\u001B[0m\u001B[1;33m\u001B[0m\u001B[1;33m\u001B[0m\u001B[0m\n\u001B[0m\u001B[0;32m    288\u001B[0m \u001B[1;33m\u001B[0m\u001B[0m\n\u001B[0;32m    289\u001B[0m \u001B[1;33m\u001B[0m\u001B[0m\n",
      "\u001B[1;32m~\\anaconda3\\lib\\site-packages\\pandas\\core\\internals\\construction.py\u001B[0m in \u001B[0;36marrays_to_mgr\u001B[1;34m(arrays, arr_names, index, columns, dtype, verify_integrity)\u001B[0m\n\u001B[0;32m     78\u001B[0m         \u001B[1;31m# figure out the index, if necessary\u001B[0m\u001B[1;33m\u001B[0m\u001B[1;33m\u001B[0m\u001B[1;33m\u001B[0m\u001B[0m\n\u001B[0;32m     79\u001B[0m         \u001B[1;32mif\u001B[0m \u001B[0mindex\u001B[0m \u001B[1;32mis\u001B[0m \u001B[1;32mNone\u001B[0m\u001B[1;33m:\u001B[0m\u001B[1;33m\u001B[0m\u001B[1;33m\u001B[0m\u001B[0m\n\u001B[1;32m---> 80\u001B[1;33m             \u001B[0mindex\u001B[0m \u001B[1;33m=\u001B[0m \u001B[0mextract_index\u001B[0m\u001B[1;33m(\u001B[0m\u001B[0marrays\u001B[0m\u001B[1;33m)\u001B[0m\u001B[1;33m\u001B[0m\u001B[1;33m\u001B[0m\u001B[0m\n\u001B[0m\u001B[0;32m     81\u001B[0m         \u001B[1;32melse\u001B[0m\u001B[1;33m:\u001B[0m\u001B[1;33m\u001B[0m\u001B[1;33m\u001B[0m\u001B[0m\n\u001B[0;32m     82\u001B[0m             \u001B[0mindex\u001B[0m \u001B[1;33m=\u001B[0m \u001B[0mensure_index\u001B[0m\u001B[1;33m(\u001B[0m\u001B[0mindex\u001B[0m\u001B[1;33m)\u001B[0m\u001B[1;33m\u001B[0m\u001B[1;33m\u001B[0m\u001B[0m\n",
      "\u001B[1;32m~\\anaconda3\\lib\\site-packages\\pandas\\core\\internals\\construction.py\u001B[0m in \u001B[0;36mextract_index\u001B[1;34m(data)\u001B[0m\n\u001B[0;32m    399\u001B[0m             \u001B[0mlengths\u001B[0m \u001B[1;33m=\u001B[0m \u001B[0mlist\u001B[0m\u001B[1;33m(\u001B[0m\u001B[0mset\u001B[0m\u001B[1;33m(\u001B[0m\u001B[0mraw_lengths\u001B[0m\u001B[1;33m)\u001B[0m\u001B[1;33m)\u001B[0m\u001B[1;33m\u001B[0m\u001B[1;33m\u001B[0m\u001B[0m\n\u001B[0;32m    400\u001B[0m             \u001B[1;32mif\u001B[0m \u001B[0mlen\u001B[0m\u001B[1;33m(\u001B[0m\u001B[0mlengths\u001B[0m\u001B[1;33m)\u001B[0m \u001B[1;33m>\u001B[0m \u001B[1;36m1\u001B[0m\u001B[1;33m:\u001B[0m\u001B[1;33m\u001B[0m\u001B[1;33m\u001B[0m\u001B[0m\n\u001B[1;32m--> 401\u001B[1;33m                 \u001B[1;32mraise\u001B[0m \u001B[0mValueError\u001B[0m\u001B[1;33m(\u001B[0m\u001B[1;34m\"arrays must all be same length\"\u001B[0m\u001B[1;33m)\u001B[0m\u001B[1;33m\u001B[0m\u001B[1;33m\u001B[0m\u001B[0m\n\u001B[0m\u001B[0;32m    402\u001B[0m \u001B[1;33m\u001B[0m\u001B[0m\n\u001B[0;32m    403\u001B[0m             \u001B[1;32mif\u001B[0m \u001B[0mhave_dicts\u001B[0m\u001B[1;33m:\u001B[0m\u001B[1;33m\u001B[0m\u001B[1;33m\u001B[0m\u001B[0m\n",
      "\u001B[1;31mValueError\u001B[0m: arrays must all be same length"
     ]
    }
   ],
   "source": [
    "import pandas as pd\n",
    "\n",
    "# 계수와 피처명을 열로 갖는 데이터프레임을 만듭니다.\n",
    "coef_df = pd.DataFrame({\"coef\": best_logistic_model.coef_[0],\n",
    "                        \"feature_name\": CSR_NAMES})\n",
    "\n",
    "# 계수를 기준으로 내림차순으로 정렬합니다.\n",
    "coef_df = coef_df.sort_values(by=\"coef\", ascending=False)\n",
    "\n",
    "# 결과를 문자열 형태로 변환합니다.\n",
    "result_str = \"[ \"\n",
    "for index, row in coef_df.iterrows():\n",
    "    result_str += f\"'{row['feature_name']} : {row['coef']:.2f}' , \"\n",
    "result_str = result_str[:-2] + \" ]\"\n",
    "\n",
    "# 결과를 출력합니다.\n",
    "print(result_str)\n"
   ],
   "metadata": {
    "collapsed": false,
    "pycharm": {
     "name": "#%%\n"
    }
   }
  },
  {
   "cell_type": "code",
   "execution_count": null,
   "outputs": [],
   "source": [
    "import re\n",
    "\n",
    "# 피처명을 포함한 전체 리스트를 불러옵니"
   ],
   "metadata": {
    "collapsed": false,
    "pycharm": {
     "name": "#%%\n"
    }
   }
  },
  {
   "cell_type": "code",
   "execution_count": null,
   "outputs": [],
   "source": [
    "y_valid_preds = gridsearch_logistic_model.predict_proba(X_train)[:,1]"
   ],
   "metadata": {
    "collapsed": false,
    "pycharm": {
     "name": "#%%\n"
    }
   }
  },
  {
   "cell_type": "code",
   "execution_count": null,
   "outputs": [],
   "source": [
    "X_train"
   ],
   "metadata": {
    "collapsed": false,
    "pycharm": {
     "name": "#%%\n"
    }
   }
  },
  {
   "cell_type": "code",
   "execution_count": null,
   "outputs": [],
   "source": [
    "from sklearn.metrics import roc_auc_score # Roc AUC 점수 계산 함수\n",
    "\n",
    "# 검증 데이터 ROC AUC\n",
    "\n",
    "roc_auc = roc_auc_score(y , y_valid_preds)\n",
    "\n",
    "print(f'검증 데이터 ROC AUC :{roc_auc:.4f}')\n",
    "\n",
    "print(gridsearch_logistic_model.score(X_train,y))"
   ],
   "metadata": {
    "collapsed": false,
    "pycharm": {
     "name": "#%%\n"
    }
   }
  },
  {
   "cell_type": "code",
   "execution_count": null,
   "outputs": [],
   "source": [
    "# 검증 데이터를 활용한 타깃 예측\n",
    "\n",
    "y_preds = gridsearch_logistic_model.predict_proba(X_test)[:, 1]\n",
    "y_preds = gridsearch_logistic_model.predict(X_test)\n",
    "y_preds"
   ],
   "metadata": {
    "collapsed": false,
    "pycharm": {
     "name": "#%%\n"
    }
   }
  },
  {
   "cell_type": "code",
   "execution_count": null,
   "outputs": [],
   "source": [
    "# gridsearch_logistic_model.coef_ # 결정계수"
   ],
   "metadata": {
    "collapsed": false,
    "pycharm": {
     "name": "#%%\n"
    }
   }
  },
  {
   "cell_type": "code",
   "execution_count": null,
   "outputs": [],
   "source": [
    "# y_preds2 = gridsearch_logistic_model.predict_proba(X_train)[:, 1]\n",
    "# y_preds2 = gridsearch_logistic_model.predict(X_train)\n",
    "# y_preds2"
   ],
   "metadata": {
    "collapsed": false,
    "pycharm": {
     "name": "#%%\n"
    }
   }
  },
  {
   "cell_type": "code",
   "execution_count": null,
   "outputs": [],
   "source": [
    "from sklearn.metrics import roc_curve, auc\n",
    "import matplotlib.pyplot as plt\n",
    "\n",
    "y_pred_proba = gridsearch_logistic_model.predict_proba(X_train)[:, 1]\n",
    "fpr, tpr, thresholds = roc_curve(y, y_pred_proba)\n",
    "roc_auc = auc(fpr, tpr)\n",
    "\n",
    "plt.plot(fpr, tpr, color='darkorange', lw=2, label=f'ROC curve (AUC = {roc_auc:.2f})')\n",
    "plt.plot([0, 1], [0, 1], color='navy', lw=2, linestyle='--')\n",
    "plt.xlim([0.0, 1.0])\n",
    "plt.ylim([0.0, 1.05])\n",
    "plt.xlabel('False Positive Rate')\n",
    "plt.ylabel('True Positive Rate')\n",
    "plt.title('Receiver operating characteristic')\n",
    "plt.legend(loc=\"lower right\")\n",
    "plt.show()\n"
   ],
   "metadata": {
    "collapsed": false,
    "pycharm": {
     "name": "#%%\n"
    }
   }
  },
  {
   "cell_type": "code",
   "execution_count": null,
   "outputs": [],
   "source": [
    "from sklearn.metrics import roc_auc_score\n",
    "\n",
    "y_pred_proba = gridsearch_logistic_model.predict_proba(X_train)[:, 1]\n",
    "roc_auc = roc_auc_score(y, y_pred_proba)\n",
    "print(f'AUC: {roc_auc:.2f}')"
   ],
   "metadata": {
    "collapsed": false,
    "pycharm": {
     "name": "#%%\n"
    }
   }
  },
  {
   "cell_type": "markdown",
   "source": [
    "## 랜덤포레스트 모델을 돌려보자"
   ],
   "metadata": {
    "collapsed": false,
    "pycharm": {
     "name": "#%% md\n"
    }
   }
  },
  {
   "cell_type": "code",
   "execution_count": null,
   "outputs": [],
   "source": [
    "# from sklearn.ensemble import RandomForestRegressor\n",
    "#\n",
    "# # 모델 생성\n",
    "# randomforest_model = RandomForestRegressor()\n",
    "#\n",
    "# # 그리드서치 객체 생성\n",
    "# rf_params = {'random_state':[123, 369, 1004], 'n_estimators':[150, 250, 500, 1000],\n",
    "#              'max_depth':[5, 10, 15, 20, 30], 'max_features':[\"auto\", \"sqrt\", \"log2\"]}\n",
    "#\n",
    "#\n",
    "# # randomstate :\n",
    "# grid_rf_model = GridSearchCV(estimator=randomforest_model, param_grid=rf_params, scoring='r2', cv=5)\n",
    "#\n",
    "# # estimator = 모델 이름\n",
    "# # param_grid = 값 목록\n",
    "# # scoring = 평가지표\n",
    "# # cv = 교차검증 분할 수\n",
    "#  # y= X_train['SalesPrice']\n",
    "# grid_rf_model.fit(X_train, y_train)\n",
    "# print(grid_rf_model.best_params_)"
   ],
   "metadata": {
    "collapsed": false,
    "pycharm": {
     "name": "#%%\n"
    }
   }
  },
  {
   "cell_type": "code",
   "execution_count": null,
   "outputs": [],
   "source": [
    "# # 예측\n",
    "#\n",
    "# preds = grid_rf_model.best_estimator_.predict(X_train)\n",
    "#\n",
    "# # 평가\n",
    "#\n",
    "# # print(f'랜덤포레스트 RMSLE 값 : {rmsle(log_y , preds , True) :.4f}')\n",
    "#\n",
    "# grid_rf_model_preds = grid_rf_model.predict(X_test)\n",
    "#\n",
    "# grid_rf_model_preds"
   ],
   "metadata": {
    "collapsed": false,
    "pycharm": {
     "name": "#%%\n"
    }
   }
  },
  {
   "cell_type": "code",
   "execution_count": null,
   "outputs": [],
   "source": [
    "import datetime\n",
    "\n",
    "# 현재 날짜와 시각 구하기\n",
    "now = datetime.datetime.now()\n",
    "date_list = [now.month, now.day, now.hour, now.minute]\n",
    "# 현재 날짜와 시각 출력하기\n",
    "print(\"현재 날짜 및 시각 : \",date_list)\n",
    "\n"
   ],
   "metadata": {
    "collapsed": false,
    "pycharm": {
     "name": "#%%\n"
    }
   }
  },
  {
   "cell_type": "code",
   "execution_count": null,
   "outputs": [],
   "source": [
    "# 제출 파일 생성\n",
    "\n",
    "submission['Survived'] = y_preds\n",
    "submission.to_csv(f'submission_{date_list[0]}_{date_list[1]}_{date_list[2]}_{date_list[3]}.csv')"
   ],
   "metadata": {
    "collapsed": false,
    "pycharm": {
     "name": "#%%\n"
    }
   }
  },
  {
   "cell_type": "code",
   "execution_count": null,
   "outputs": [],
   "source": [],
   "metadata": {
    "collapsed": false,
    "pycharm": {
     "name": "#%%\n"
    }
   }
  },
  {
   "cell_type": "code",
   "execution_count": null,
   "outputs": [],
   "source": [],
   "metadata": {
    "collapsed": false,
    "pycharm": {
     "name": "#%%\n"
    }
   }
  }
 ],
 "metadata": {
  "kernelspec": {
   "display_name": "Python 3",
   "language": "python",
   "name": "python3"
  },
  "language_info": {
   "codemirror_mode": {
    "name": "ipython",
    "version": 2
   },
   "file_extension": ".py",
   "mimetype": "text/x-python",
   "name": "python",
   "nbconvert_exporter": "python",
   "pygments_lexer": "ipython2",
   "version": "2.7.6"
  }
 },
 "nbformat": 4,
 "nbformat_minor": 0
}