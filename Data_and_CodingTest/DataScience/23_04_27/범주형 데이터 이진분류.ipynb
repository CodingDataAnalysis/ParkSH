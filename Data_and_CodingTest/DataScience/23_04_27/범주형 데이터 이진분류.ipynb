{
 "cells": [
  {
   "cell_type": "code",
   "execution_count": 2,
   "metadata": {
    "collapsed": true,
    "pycharm": {
     "name": "#%%\n"
    }
   },
   "outputs": [
    {
     "data": {
      "text/plain": "        bin_0  bin_1  bin_2 bin_3 bin_4  nom_0      nom_1    nom_2  \\\nid                                                                   \n0           0      0      0     T     Y  Green   Triangle    Snake   \n1           0      1      0     T     Y  Green  Trapezoid  Hamster   \n2           0      0      0     F     Y   Blue  Trapezoid     Lion   \n3           0      1      0     F     Y    Red  Trapezoid    Snake   \n4           0      0      0     F     N    Red  Trapezoid     Lion   \n...       ...    ...    ...   ...   ...    ...        ...      ...   \n299995      0      0      0     T     N    Red  Trapezoid    Snake   \n299996      0      0      0     F     Y  Green  Trapezoid     Lion   \n299997      0      0      0     F     Y   Blue       Star  Axolotl   \n299998      0      1      0     F     Y  Green     Square  Axolotl   \n299999      0      0      0     F     Y   Blue  Trapezoid      Dog   \n\n             nom_3     nom_4  ...      nom_9 ord_0        ord_1        ord_2  \\\nid                            ...                                              \n0          Finland   Bassoon  ...  2f4cb3d51     2  Grandmaster         Cold   \n1           Russia     Piano  ...  f83c56c21     1  Grandmaster          Hot   \n2           Russia  Theremin  ...  ae6800dd0     1       Expert     Lava Hot   \n3           Canada      Oboe  ...  8270f0d71     1  Grandmaster  Boiling Hot   \n4           Canada      Oboe  ...  b164b72a7     1  Grandmaster     Freezing   \n...            ...       ...  ...        ...   ...          ...          ...   \n299995       India      Oboe  ...  e027decef     1  Contributor     Freezing   \n299996      Russia     Piano  ...  80f1411c8     2       Novice     Freezing   \n299997      Russia      Oboe  ...  314dcc15b     3       Novice  Boiling Hot   \n299998  Costa Rica     Piano  ...  ab0ce192b     1       Master  Boiling Hot   \n299999      Russia   Bassoon  ...  ad1af2b45     3  Contributor     Freezing   \n\n       ord_3  ord_4 ord_5 day month target  \nid                                          \n0          h      D    kr   2     2      0  \n1          a      A    bF   7     8      0  \n2          h      R    Jc   7     2      0  \n3          i      D    kW   2     1      1  \n4          a      R    qP   7     8      0  \n...      ...    ...   ...  ..   ...    ...  \n299995     k      K    dh   3     8      0  \n299996     h      W    MO   3     2      0  \n299997     o      A    Bn   7     9      1  \n299998     h      W    uJ   3     8      1  \n299999     i      R    tP   1     3      0  \n\n[300000 rows x 24 columns]",
      "text/html": "<div>\n<style scoped>\n    .dataframe tbody tr th:only-of-type {\n        vertical-align: middle;\n    }\n\n    .dataframe tbody tr th {\n        vertical-align: top;\n    }\n\n    .dataframe thead th {\n        text-align: right;\n    }\n</style>\n<table border=\"1\" class=\"dataframe\">\n  <thead>\n    <tr style=\"text-align: right;\">\n      <th></th>\n      <th>bin_0</th>\n      <th>bin_1</th>\n      <th>bin_2</th>\n      <th>bin_3</th>\n      <th>bin_4</th>\n      <th>nom_0</th>\n      <th>nom_1</th>\n      <th>nom_2</th>\n      <th>nom_3</th>\n      <th>nom_4</th>\n      <th>...</th>\n      <th>nom_9</th>\n      <th>ord_0</th>\n      <th>ord_1</th>\n      <th>ord_2</th>\n      <th>ord_3</th>\n      <th>ord_4</th>\n      <th>ord_5</th>\n      <th>day</th>\n      <th>month</th>\n      <th>target</th>\n    </tr>\n    <tr>\n      <th>id</th>\n      <th></th>\n      <th></th>\n      <th></th>\n      <th></th>\n      <th></th>\n      <th></th>\n      <th></th>\n      <th></th>\n      <th></th>\n      <th></th>\n      <th></th>\n      <th></th>\n      <th></th>\n      <th></th>\n      <th></th>\n      <th></th>\n      <th></th>\n      <th></th>\n      <th></th>\n      <th></th>\n      <th></th>\n    </tr>\n  </thead>\n  <tbody>\n    <tr>\n      <th>0</th>\n      <td>0</td>\n      <td>0</td>\n      <td>0</td>\n      <td>T</td>\n      <td>Y</td>\n      <td>Green</td>\n      <td>Triangle</td>\n      <td>Snake</td>\n      <td>Finland</td>\n      <td>Bassoon</td>\n      <td>...</td>\n      <td>2f4cb3d51</td>\n      <td>2</td>\n      <td>Grandmaster</td>\n      <td>Cold</td>\n      <td>h</td>\n      <td>D</td>\n      <td>kr</td>\n      <td>2</td>\n      <td>2</td>\n      <td>0</td>\n    </tr>\n    <tr>\n      <th>1</th>\n      <td>0</td>\n      <td>1</td>\n      <td>0</td>\n      <td>T</td>\n      <td>Y</td>\n      <td>Green</td>\n      <td>Trapezoid</td>\n      <td>Hamster</td>\n      <td>Russia</td>\n      <td>Piano</td>\n      <td>...</td>\n      <td>f83c56c21</td>\n      <td>1</td>\n      <td>Grandmaster</td>\n      <td>Hot</td>\n      <td>a</td>\n      <td>A</td>\n      <td>bF</td>\n      <td>7</td>\n      <td>8</td>\n      <td>0</td>\n    </tr>\n    <tr>\n      <th>2</th>\n      <td>0</td>\n      <td>0</td>\n      <td>0</td>\n      <td>F</td>\n      <td>Y</td>\n      <td>Blue</td>\n      <td>Trapezoid</td>\n      <td>Lion</td>\n      <td>Russia</td>\n      <td>Theremin</td>\n      <td>...</td>\n      <td>ae6800dd0</td>\n      <td>1</td>\n      <td>Expert</td>\n      <td>Lava Hot</td>\n      <td>h</td>\n      <td>R</td>\n      <td>Jc</td>\n      <td>7</td>\n      <td>2</td>\n      <td>0</td>\n    </tr>\n    <tr>\n      <th>3</th>\n      <td>0</td>\n      <td>1</td>\n      <td>0</td>\n      <td>F</td>\n      <td>Y</td>\n      <td>Red</td>\n      <td>Trapezoid</td>\n      <td>Snake</td>\n      <td>Canada</td>\n      <td>Oboe</td>\n      <td>...</td>\n      <td>8270f0d71</td>\n      <td>1</td>\n      <td>Grandmaster</td>\n      <td>Boiling Hot</td>\n      <td>i</td>\n      <td>D</td>\n      <td>kW</td>\n      <td>2</td>\n      <td>1</td>\n      <td>1</td>\n    </tr>\n    <tr>\n      <th>4</th>\n      <td>0</td>\n      <td>0</td>\n      <td>0</td>\n      <td>F</td>\n      <td>N</td>\n      <td>Red</td>\n      <td>Trapezoid</td>\n      <td>Lion</td>\n      <td>Canada</td>\n      <td>Oboe</td>\n      <td>...</td>\n      <td>b164b72a7</td>\n      <td>1</td>\n      <td>Grandmaster</td>\n      <td>Freezing</td>\n      <td>a</td>\n      <td>R</td>\n      <td>qP</td>\n      <td>7</td>\n      <td>8</td>\n      <td>0</td>\n    </tr>\n    <tr>\n      <th>...</th>\n      <td>...</td>\n      <td>...</td>\n      <td>...</td>\n      <td>...</td>\n      <td>...</td>\n      <td>...</td>\n      <td>...</td>\n      <td>...</td>\n      <td>...</td>\n      <td>...</td>\n      <td>...</td>\n      <td>...</td>\n      <td>...</td>\n      <td>...</td>\n      <td>...</td>\n      <td>...</td>\n      <td>...</td>\n      <td>...</td>\n      <td>...</td>\n      <td>...</td>\n      <td>...</td>\n    </tr>\n    <tr>\n      <th>299995</th>\n      <td>0</td>\n      <td>0</td>\n      <td>0</td>\n      <td>T</td>\n      <td>N</td>\n      <td>Red</td>\n      <td>Trapezoid</td>\n      <td>Snake</td>\n      <td>India</td>\n      <td>Oboe</td>\n      <td>...</td>\n      <td>e027decef</td>\n      <td>1</td>\n      <td>Contributor</td>\n      <td>Freezing</td>\n      <td>k</td>\n      <td>K</td>\n      <td>dh</td>\n      <td>3</td>\n      <td>8</td>\n      <td>0</td>\n    </tr>\n    <tr>\n      <th>299996</th>\n      <td>0</td>\n      <td>0</td>\n      <td>0</td>\n      <td>F</td>\n      <td>Y</td>\n      <td>Green</td>\n      <td>Trapezoid</td>\n      <td>Lion</td>\n      <td>Russia</td>\n      <td>Piano</td>\n      <td>...</td>\n      <td>80f1411c8</td>\n      <td>2</td>\n      <td>Novice</td>\n      <td>Freezing</td>\n      <td>h</td>\n      <td>W</td>\n      <td>MO</td>\n      <td>3</td>\n      <td>2</td>\n      <td>0</td>\n    </tr>\n    <tr>\n      <th>299997</th>\n      <td>0</td>\n      <td>0</td>\n      <td>0</td>\n      <td>F</td>\n      <td>Y</td>\n      <td>Blue</td>\n      <td>Star</td>\n      <td>Axolotl</td>\n      <td>Russia</td>\n      <td>Oboe</td>\n      <td>...</td>\n      <td>314dcc15b</td>\n      <td>3</td>\n      <td>Novice</td>\n      <td>Boiling Hot</td>\n      <td>o</td>\n      <td>A</td>\n      <td>Bn</td>\n      <td>7</td>\n      <td>9</td>\n      <td>1</td>\n    </tr>\n    <tr>\n      <th>299998</th>\n      <td>0</td>\n      <td>1</td>\n      <td>0</td>\n      <td>F</td>\n      <td>Y</td>\n      <td>Green</td>\n      <td>Square</td>\n      <td>Axolotl</td>\n      <td>Costa Rica</td>\n      <td>Piano</td>\n      <td>...</td>\n      <td>ab0ce192b</td>\n      <td>1</td>\n      <td>Master</td>\n      <td>Boiling Hot</td>\n      <td>h</td>\n      <td>W</td>\n      <td>uJ</td>\n      <td>3</td>\n      <td>8</td>\n      <td>1</td>\n    </tr>\n    <tr>\n      <th>299999</th>\n      <td>0</td>\n      <td>0</td>\n      <td>0</td>\n      <td>F</td>\n      <td>Y</td>\n      <td>Blue</td>\n      <td>Trapezoid</td>\n      <td>Dog</td>\n      <td>Russia</td>\n      <td>Bassoon</td>\n      <td>...</td>\n      <td>ad1af2b45</td>\n      <td>3</td>\n      <td>Contributor</td>\n      <td>Freezing</td>\n      <td>i</td>\n      <td>R</td>\n      <td>tP</td>\n      <td>1</td>\n      <td>3</td>\n      <td>0</td>\n    </tr>\n  </tbody>\n</table>\n<p>300000 rows × 24 columns</p>\n</div>"
     },
     "execution_count": 2,
     "metadata": {},
     "output_type": "execute_result"
    }
   ],
   "source": [
    "import pandas as pd\n",
    "\n",
    "data_path = './cat-in-the-dat/'\n",
    "\n",
    "train = pd.read_csv(data_path + 'train.csv' , index_col = 'id')\n",
    "test = pd.read_csv(data_path + 'test.csv' , index_col = 'id')\n",
    "submission = pd.read_csv(data_path + 'sample_submission.csv' , index_col= 'id')\n",
    "\n",
    "train"
   ]
  },
  {
   "cell_type": "code",
   "execution_count": 3,
   "outputs": [],
   "source": [
    "# 명목형 데이터 24개의 열"
   ],
   "metadata": {
    "collapsed": false,
    "pycharm": {
     "name": "#%%\n"
    }
   }
  },
  {
   "cell_type": "code",
   "execution_count": 4,
   "outputs": [
    {
     "data": {
      "text/plain": "        bin_0  bin_1  bin_2 bin_3 bin_4  nom_0      nom_1    nom_2  \\\nid                                                                   \n300000      0      0      1     T     Y   Blue   Triangle  Axolotl   \n300001      0      0      0     T     N    Red     Square     Lion   \n300002      1      0      1     F     Y   Blue     Square      Dog   \n300003      0      0      1     T     Y    Red       Star      Cat   \n300004      0      1      1     F     N    Red  Trapezoid      Dog   \n...       ...    ...    ...   ...   ...    ...        ...      ...   \n499995      0      0      0     F     N  Green     Square     Lion   \n499996      1      0      0     F     Y  Green  Trapezoid     Lion   \n499997      0      1      1     T     Y  Green  Trapezoid     Lion   \n499998      1      0      0     T     Y   Blue       Star  Hamster   \n499999      0      0      0     T     Y  Green       Star     Lion   \n\n             nom_3     nom_4  ...      nom_8      nom_9 ord_0        ord_1  \\\nid                            ...                                            \n300000     Finland     Piano  ...  9d117320c  3c49b42b8     2       Novice   \n300001      Canada     Piano  ...  46ae3059c  285771075     1       Master   \n300002       China     Piano  ...  b759e21f0  6f323c53f     2       Expert   \n300003       China     Piano  ...  0b6ec68ff  b5de3dcc4     1  Contributor   \n300004       China     Piano  ...  f91f3b1ee  967cfa9c9     3  Grandmaster   \n...            ...       ...  ...        ...        ...   ...          ...   \n499995      Canada  Theremin  ...  9e4b23160  acc31291f     1       Novice   \n499996       China     Piano  ...  cfbd87ed0  eae3446d0     1  Contributor   \n499997      Canada      Oboe  ...  1108bcd6c  33dd3cf4b     1       Novice   \n499998  Costa Rica   Bassoon  ...  606ac930b  d4cf587dd     2  Grandmaster   \n499999       India     Piano  ...  4ea576eb6  2d610f52c     2       Novice   \n\n              ord_2  ord_3 ord_4 ord_5 day month  \nid                                                \n300000         Warm      j     P    be   5    11  \n300001     Lava Hot      l     A    RP   7     5  \n300002     Freezing      a     G    tP   1    12  \n300003     Lava Hot      b     Q    ke   2     3  \n300004     Lava Hot      l     W    qK   4    11  \n...             ...    ...   ...   ...  ..   ...  \n499995     Lava Hot      j     A    Gb   1     3  \n499996     Lava Hot      f     S    Ed   2     2  \n499997  Boiling Hot      g     V    TR   3     1  \n499998  Boiling Hot      g     X    Ye   2     1  \n499999     Freezing      l     J    ex   2     2  \n\n[200000 rows x 23 columns]",
      "text/html": "<div>\n<style scoped>\n    .dataframe tbody tr th:only-of-type {\n        vertical-align: middle;\n    }\n\n    .dataframe tbody tr th {\n        vertical-align: top;\n    }\n\n    .dataframe thead th {\n        text-align: right;\n    }\n</style>\n<table border=\"1\" class=\"dataframe\">\n  <thead>\n    <tr style=\"text-align: right;\">\n      <th></th>\n      <th>bin_0</th>\n      <th>bin_1</th>\n      <th>bin_2</th>\n      <th>bin_3</th>\n      <th>bin_4</th>\n      <th>nom_0</th>\n      <th>nom_1</th>\n      <th>nom_2</th>\n      <th>nom_3</th>\n      <th>nom_4</th>\n      <th>...</th>\n      <th>nom_8</th>\n      <th>nom_9</th>\n      <th>ord_0</th>\n      <th>ord_1</th>\n      <th>ord_2</th>\n      <th>ord_3</th>\n      <th>ord_4</th>\n      <th>ord_5</th>\n      <th>day</th>\n      <th>month</th>\n    </tr>\n    <tr>\n      <th>id</th>\n      <th></th>\n      <th></th>\n      <th></th>\n      <th></th>\n      <th></th>\n      <th></th>\n      <th></th>\n      <th></th>\n      <th></th>\n      <th></th>\n      <th></th>\n      <th></th>\n      <th></th>\n      <th></th>\n      <th></th>\n      <th></th>\n      <th></th>\n      <th></th>\n      <th></th>\n      <th></th>\n      <th></th>\n    </tr>\n  </thead>\n  <tbody>\n    <tr>\n      <th>300000</th>\n      <td>0</td>\n      <td>0</td>\n      <td>1</td>\n      <td>T</td>\n      <td>Y</td>\n      <td>Blue</td>\n      <td>Triangle</td>\n      <td>Axolotl</td>\n      <td>Finland</td>\n      <td>Piano</td>\n      <td>...</td>\n      <td>9d117320c</td>\n      <td>3c49b42b8</td>\n      <td>2</td>\n      <td>Novice</td>\n      <td>Warm</td>\n      <td>j</td>\n      <td>P</td>\n      <td>be</td>\n      <td>5</td>\n      <td>11</td>\n    </tr>\n    <tr>\n      <th>300001</th>\n      <td>0</td>\n      <td>0</td>\n      <td>0</td>\n      <td>T</td>\n      <td>N</td>\n      <td>Red</td>\n      <td>Square</td>\n      <td>Lion</td>\n      <td>Canada</td>\n      <td>Piano</td>\n      <td>...</td>\n      <td>46ae3059c</td>\n      <td>285771075</td>\n      <td>1</td>\n      <td>Master</td>\n      <td>Lava Hot</td>\n      <td>l</td>\n      <td>A</td>\n      <td>RP</td>\n      <td>7</td>\n      <td>5</td>\n    </tr>\n    <tr>\n      <th>300002</th>\n      <td>1</td>\n      <td>0</td>\n      <td>1</td>\n      <td>F</td>\n      <td>Y</td>\n      <td>Blue</td>\n      <td>Square</td>\n      <td>Dog</td>\n      <td>China</td>\n      <td>Piano</td>\n      <td>...</td>\n      <td>b759e21f0</td>\n      <td>6f323c53f</td>\n      <td>2</td>\n      <td>Expert</td>\n      <td>Freezing</td>\n      <td>a</td>\n      <td>G</td>\n      <td>tP</td>\n      <td>1</td>\n      <td>12</td>\n    </tr>\n    <tr>\n      <th>300003</th>\n      <td>0</td>\n      <td>0</td>\n      <td>1</td>\n      <td>T</td>\n      <td>Y</td>\n      <td>Red</td>\n      <td>Star</td>\n      <td>Cat</td>\n      <td>China</td>\n      <td>Piano</td>\n      <td>...</td>\n      <td>0b6ec68ff</td>\n      <td>b5de3dcc4</td>\n      <td>1</td>\n      <td>Contributor</td>\n      <td>Lava Hot</td>\n      <td>b</td>\n      <td>Q</td>\n      <td>ke</td>\n      <td>2</td>\n      <td>3</td>\n    </tr>\n    <tr>\n      <th>300004</th>\n      <td>0</td>\n      <td>1</td>\n      <td>1</td>\n      <td>F</td>\n      <td>N</td>\n      <td>Red</td>\n      <td>Trapezoid</td>\n      <td>Dog</td>\n      <td>China</td>\n      <td>Piano</td>\n      <td>...</td>\n      <td>f91f3b1ee</td>\n      <td>967cfa9c9</td>\n      <td>3</td>\n      <td>Grandmaster</td>\n      <td>Lava Hot</td>\n      <td>l</td>\n      <td>W</td>\n      <td>qK</td>\n      <td>4</td>\n      <td>11</td>\n    </tr>\n    <tr>\n      <th>...</th>\n      <td>...</td>\n      <td>...</td>\n      <td>...</td>\n      <td>...</td>\n      <td>...</td>\n      <td>...</td>\n      <td>...</td>\n      <td>...</td>\n      <td>...</td>\n      <td>...</td>\n      <td>...</td>\n      <td>...</td>\n      <td>...</td>\n      <td>...</td>\n      <td>...</td>\n      <td>...</td>\n      <td>...</td>\n      <td>...</td>\n      <td>...</td>\n      <td>...</td>\n      <td>...</td>\n    </tr>\n    <tr>\n      <th>499995</th>\n      <td>0</td>\n      <td>0</td>\n      <td>0</td>\n      <td>F</td>\n      <td>N</td>\n      <td>Green</td>\n      <td>Square</td>\n      <td>Lion</td>\n      <td>Canada</td>\n      <td>Theremin</td>\n      <td>...</td>\n      <td>9e4b23160</td>\n      <td>acc31291f</td>\n      <td>1</td>\n      <td>Novice</td>\n      <td>Lava Hot</td>\n      <td>j</td>\n      <td>A</td>\n      <td>Gb</td>\n      <td>1</td>\n      <td>3</td>\n    </tr>\n    <tr>\n      <th>499996</th>\n      <td>1</td>\n      <td>0</td>\n      <td>0</td>\n      <td>F</td>\n      <td>Y</td>\n      <td>Green</td>\n      <td>Trapezoid</td>\n      <td>Lion</td>\n      <td>China</td>\n      <td>Piano</td>\n      <td>...</td>\n      <td>cfbd87ed0</td>\n      <td>eae3446d0</td>\n      <td>1</td>\n      <td>Contributor</td>\n      <td>Lava Hot</td>\n      <td>f</td>\n      <td>S</td>\n      <td>Ed</td>\n      <td>2</td>\n      <td>2</td>\n    </tr>\n    <tr>\n      <th>499997</th>\n      <td>0</td>\n      <td>1</td>\n      <td>1</td>\n      <td>T</td>\n      <td>Y</td>\n      <td>Green</td>\n      <td>Trapezoid</td>\n      <td>Lion</td>\n      <td>Canada</td>\n      <td>Oboe</td>\n      <td>...</td>\n      <td>1108bcd6c</td>\n      <td>33dd3cf4b</td>\n      <td>1</td>\n      <td>Novice</td>\n      <td>Boiling Hot</td>\n      <td>g</td>\n      <td>V</td>\n      <td>TR</td>\n      <td>3</td>\n      <td>1</td>\n    </tr>\n    <tr>\n      <th>499998</th>\n      <td>1</td>\n      <td>0</td>\n      <td>0</td>\n      <td>T</td>\n      <td>Y</td>\n      <td>Blue</td>\n      <td>Star</td>\n      <td>Hamster</td>\n      <td>Costa Rica</td>\n      <td>Bassoon</td>\n      <td>...</td>\n      <td>606ac930b</td>\n      <td>d4cf587dd</td>\n      <td>2</td>\n      <td>Grandmaster</td>\n      <td>Boiling Hot</td>\n      <td>g</td>\n      <td>X</td>\n      <td>Ye</td>\n      <td>2</td>\n      <td>1</td>\n    </tr>\n    <tr>\n      <th>499999</th>\n      <td>0</td>\n      <td>0</td>\n      <td>0</td>\n      <td>T</td>\n      <td>Y</td>\n      <td>Green</td>\n      <td>Star</td>\n      <td>Lion</td>\n      <td>India</td>\n      <td>Piano</td>\n      <td>...</td>\n      <td>4ea576eb6</td>\n      <td>2d610f52c</td>\n      <td>2</td>\n      <td>Novice</td>\n      <td>Freezing</td>\n      <td>l</td>\n      <td>J</td>\n      <td>ex</td>\n      <td>2</td>\n      <td>2</td>\n    </tr>\n  </tbody>\n</table>\n<p>200000 rows × 23 columns</p>\n</div>"
     },
     "execution_count": 4,
     "metadata": {},
     "output_type": "execute_result"
    }
   ],
   "source": [
    "test # 명목형 데이터 23개의 열"
   ],
   "metadata": {
    "collapsed": false,
    "pycharm": {
     "name": "#%%\n"
    }
   }
  },
  {
   "cell_type": "code",
   "execution_count": 5,
   "outputs": [
    {
     "data": {
      "text/plain": "        target\nid            \n300000     0.5\n300001     0.5\n300002     0.5\n300003     0.5\n300004     0.5\n...        ...\n499995     0.5\n499996     0.5\n499997     0.5\n499998     0.5\n499999     0.5\n\n[200000 rows x 1 columns]",
      "text/html": "<div>\n<style scoped>\n    .dataframe tbody tr th:only-of-type {\n        vertical-align: middle;\n    }\n\n    .dataframe tbody tr th {\n        vertical-align: top;\n    }\n\n    .dataframe thead th {\n        text-align: right;\n    }\n</style>\n<table border=\"1\" class=\"dataframe\">\n  <thead>\n    <tr style=\"text-align: right;\">\n      <th></th>\n      <th>target</th>\n    </tr>\n    <tr>\n      <th>id</th>\n      <th></th>\n    </tr>\n  </thead>\n  <tbody>\n    <tr>\n      <th>300000</th>\n      <td>0.5</td>\n    </tr>\n    <tr>\n      <th>300001</th>\n      <td>0.5</td>\n    </tr>\n    <tr>\n      <th>300002</th>\n      <td>0.5</td>\n    </tr>\n    <tr>\n      <th>300003</th>\n      <td>0.5</td>\n    </tr>\n    <tr>\n      <th>300004</th>\n      <td>0.5</td>\n    </tr>\n    <tr>\n      <th>...</th>\n      <td>...</td>\n    </tr>\n    <tr>\n      <th>499995</th>\n      <td>0.5</td>\n    </tr>\n    <tr>\n      <th>499996</th>\n      <td>0.5</td>\n    </tr>\n    <tr>\n      <th>499997</th>\n      <td>0.5</td>\n    </tr>\n    <tr>\n      <th>499998</th>\n      <td>0.5</td>\n    </tr>\n    <tr>\n      <th>499999</th>\n      <td>0.5</td>\n    </tr>\n  </tbody>\n</table>\n<p>200000 rows × 1 columns</p>\n</div>"
     },
     "execution_count": 5,
     "metadata": {},
     "output_type": "execute_result"
    }
   ],
   "source": [
    "submission # 20000개의 행"
   ],
   "metadata": {
    "collapsed": false,
    "pycharm": {
     "name": "#%%\n"
    }
   }
  },
  {
   "cell_type": "code",
   "execution_count": 6,
   "outputs": [
    {
     "name": "stdout",
     "output_type": "stream",
     "text": [
      "데이터셋 형상 : (300000, 24)\n"
     ]
    },
    {
     "data": {
      "text/plain": "        피처  데이터 타입  결측값 개수  고윳값 개수       첫 번째 값       두 번째 값     세 번째 값\n0    bin_0   int64       0       2            0            0          0\n1    bin_1   int64       0       2            0            1          0\n2    bin_2   int64       0       2            0            0          0\n3    bin_3  object       0       2            T            T          F\n4    bin_4  object       0       2            Y            Y          Y\n5    nom_0  object       0       3        Green        Green       Blue\n6    nom_1  object       0       6     Triangle    Trapezoid  Trapezoid\n7    nom_2  object       0       6        Snake      Hamster       Lion\n8    nom_3  object       0       6      Finland       Russia     Russia\n9    nom_4  object       0       4      Bassoon        Piano   Theremin\n10   nom_5  object       0     222    50f116bcf    b3b4d25d0  3263bdce5\n11   nom_6  object       0     522    3ac1b8814    fbcb50fc1  0922e3cb8\n12   nom_7  object       0    1220    68f6ad3e9    3b6dd5612  a6a36f527\n13   nom_8  object       0    2215    c389000ab    4cd920251  de9c9f684\n14   nom_9  object       0   11981    2f4cb3d51    f83c56c21  ae6800dd0\n15   ord_0   int64       0       3            2            1          1\n16   ord_1  object       0       5  Grandmaster  Grandmaster     Expert\n17   ord_2  object       0       6         Cold          Hot   Lava Hot\n18   ord_3  object       0      15            h            a          h\n19   ord_4  object       0      26            D            A          R\n20   ord_5  object       0     192           kr           bF         Jc\n21     day   int64       0       7            2            7          7\n22   month   int64       0      12            2            8          2\n23  target   int64       0       2            0            0          0",
      "text/html": "<div>\n<style scoped>\n    .dataframe tbody tr th:only-of-type {\n        vertical-align: middle;\n    }\n\n    .dataframe tbody tr th {\n        vertical-align: top;\n    }\n\n    .dataframe thead th {\n        text-align: right;\n    }\n</style>\n<table border=\"1\" class=\"dataframe\">\n  <thead>\n    <tr style=\"text-align: right;\">\n      <th></th>\n      <th>피처</th>\n      <th>데이터 타입</th>\n      <th>결측값 개수</th>\n      <th>고윳값 개수</th>\n      <th>첫 번째 값</th>\n      <th>두 번째 값</th>\n      <th>세 번째 값</th>\n    </tr>\n  </thead>\n  <tbody>\n    <tr>\n      <th>0</th>\n      <td>bin_0</td>\n      <td>int64</td>\n      <td>0</td>\n      <td>2</td>\n      <td>0</td>\n      <td>0</td>\n      <td>0</td>\n    </tr>\n    <tr>\n      <th>1</th>\n      <td>bin_1</td>\n      <td>int64</td>\n      <td>0</td>\n      <td>2</td>\n      <td>0</td>\n      <td>1</td>\n      <td>0</td>\n    </tr>\n    <tr>\n      <th>2</th>\n      <td>bin_2</td>\n      <td>int64</td>\n      <td>0</td>\n      <td>2</td>\n      <td>0</td>\n      <td>0</td>\n      <td>0</td>\n    </tr>\n    <tr>\n      <th>3</th>\n      <td>bin_3</td>\n      <td>object</td>\n      <td>0</td>\n      <td>2</td>\n      <td>T</td>\n      <td>T</td>\n      <td>F</td>\n    </tr>\n    <tr>\n      <th>4</th>\n      <td>bin_4</td>\n      <td>object</td>\n      <td>0</td>\n      <td>2</td>\n      <td>Y</td>\n      <td>Y</td>\n      <td>Y</td>\n    </tr>\n    <tr>\n      <th>5</th>\n      <td>nom_0</td>\n      <td>object</td>\n      <td>0</td>\n      <td>3</td>\n      <td>Green</td>\n      <td>Green</td>\n      <td>Blue</td>\n    </tr>\n    <tr>\n      <th>6</th>\n      <td>nom_1</td>\n      <td>object</td>\n      <td>0</td>\n      <td>6</td>\n      <td>Triangle</td>\n      <td>Trapezoid</td>\n      <td>Trapezoid</td>\n    </tr>\n    <tr>\n      <th>7</th>\n      <td>nom_2</td>\n      <td>object</td>\n      <td>0</td>\n      <td>6</td>\n      <td>Snake</td>\n      <td>Hamster</td>\n      <td>Lion</td>\n    </tr>\n    <tr>\n      <th>8</th>\n      <td>nom_3</td>\n      <td>object</td>\n      <td>0</td>\n      <td>6</td>\n      <td>Finland</td>\n      <td>Russia</td>\n      <td>Russia</td>\n    </tr>\n    <tr>\n      <th>9</th>\n      <td>nom_4</td>\n      <td>object</td>\n      <td>0</td>\n      <td>4</td>\n      <td>Bassoon</td>\n      <td>Piano</td>\n      <td>Theremin</td>\n    </tr>\n    <tr>\n      <th>10</th>\n      <td>nom_5</td>\n      <td>object</td>\n      <td>0</td>\n      <td>222</td>\n      <td>50f116bcf</td>\n      <td>b3b4d25d0</td>\n      <td>3263bdce5</td>\n    </tr>\n    <tr>\n      <th>11</th>\n      <td>nom_6</td>\n      <td>object</td>\n      <td>0</td>\n      <td>522</td>\n      <td>3ac1b8814</td>\n      <td>fbcb50fc1</td>\n      <td>0922e3cb8</td>\n    </tr>\n    <tr>\n      <th>12</th>\n      <td>nom_7</td>\n      <td>object</td>\n      <td>0</td>\n      <td>1220</td>\n      <td>68f6ad3e9</td>\n      <td>3b6dd5612</td>\n      <td>a6a36f527</td>\n    </tr>\n    <tr>\n      <th>13</th>\n      <td>nom_8</td>\n      <td>object</td>\n      <td>0</td>\n      <td>2215</td>\n      <td>c389000ab</td>\n      <td>4cd920251</td>\n      <td>de9c9f684</td>\n    </tr>\n    <tr>\n      <th>14</th>\n      <td>nom_9</td>\n      <td>object</td>\n      <td>0</td>\n      <td>11981</td>\n      <td>2f4cb3d51</td>\n      <td>f83c56c21</td>\n      <td>ae6800dd0</td>\n    </tr>\n    <tr>\n      <th>15</th>\n      <td>ord_0</td>\n      <td>int64</td>\n      <td>0</td>\n      <td>3</td>\n      <td>2</td>\n      <td>1</td>\n      <td>1</td>\n    </tr>\n    <tr>\n      <th>16</th>\n      <td>ord_1</td>\n      <td>object</td>\n      <td>0</td>\n      <td>5</td>\n      <td>Grandmaster</td>\n      <td>Grandmaster</td>\n      <td>Expert</td>\n    </tr>\n    <tr>\n      <th>17</th>\n      <td>ord_2</td>\n      <td>object</td>\n      <td>0</td>\n      <td>6</td>\n      <td>Cold</td>\n      <td>Hot</td>\n      <td>Lava Hot</td>\n    </tr>\n    <tr>\n      <th>18</th>\n      <td>ord_3</td>\n      <td>object</td>\n      <td>0</td>\n      <td>15</td>\n      <td>h</td>\n      <td>a</td>\n      <td>h</td>\n    </tr>\n    <tr>\n      <th>19</th>\n      <td>ord_4</td>\n      <td>object</td>\n      <td>0</td>\n      <td>26</td>\n      <td>D</td>\n      <td>A</td>\n      <td>R</td>\n    </tr>\n    <tr>\n      <th>20</th>\n      <td>ord_5</td>\n      <td>object</td>\n      <td>0</td>\n      <td>192</td>\n      <td>kr</td>\n      <td>bF</td>\n      <td>Jc</td>\n    </tr>\n    <tr>\n      <th>21</th>\n      <td>day</td>\n      <td>int64</td>\n      <td>0</td>\n      <td>7</td>\n      <td>2</td>\n      <td>7</td>\n      <td>7</td>\n    </tr>\n    <tr>\n      <th>22</th>\n      <td>month</td>\n      <td>int64</td>\n      <td>0</td>\n      <td>12</td>\n      <td>2</td>\n      <td>8</td>\n      <td>2</td>\n    </tr>\n    <tr>\n      <th>23</th>\n      <td>target</td>\n      <td>int64</td>\n      <td>0</td>\n      <td>2</td>\n      <td>0</td>\n      <td>0</td>\n      <td>0</td>\n    </tr>\n  </tbody>\n</table>\n</div>"
     },
     "execution_count": 6,
     "metadata": {},
     "output_type": "execute_result"
    }
   ],
   "source": [
    "def resumetable(df):\n",
    "    print(f'데이터셋 형상 : {df.shape}')\n",
    "    summary = pd.DataFrame(df.dtypes , columns = ['데이터 타입'])\n",
    "    summary = summary.reset_index()\n",
    "    summary = summary.rename(columns = {'index' : '피처'})\n",
    "    summary['결측값 개수'] = df.isnull().sum().values\n",
    "    summary['고윳값 개수'] = df.nunique().values\n",
    "    summary['첫 번째 값'] = df.loc[0].values\n",
    "    summary['두 번째 값'] = df.loc[1].values\n",
    "    summary['세 번째 값'] = df.loc[2].values\n",
    "\n",
    "\n",
    "    return summary\n",
    "\n",
    "resumetable(train)\n",
    "\n",
    "# 이진 (binary) 피처 : bin_0 ~ bin_4 ==> 고윳값 개수가 2개씩 ==> 이진 피처이다.\n",
    "# ==> bin_0~ 2 은 데이터타입이 int로써, 실제값이 0또는 1로 구성되어있다.\n",
    "# ==> bin_3~ 4 는 데이터타입이 object로써, 실제값이 T또는 F , Y또는 N이다.\n",
    "# 명목형(nominal) 피처 : nom_0 ~ nom_9\n",
    "# 명목형 피처는 모두 object 타입이고, 결측값은 없다.\n",
    "# 순서형(ordinal) 피처 : ord_0 ~ ord_5 ==> 순서형 데이터는 순서가 중요하다\n",
    "# 순서에 따라 타겟값에 미치는 영향이 다르므로 순서에 유의하며 인코딩해야 한다.\n",
    "# 그 외 피처 : day , month , target"
   ],
   "metadata": {
    "collapsed": false,
    "pycharm": {
     "name": "#%%\n"
    }
   }
  },
  {
   "cell_type": "code",
   "execution_count": 8,
   "outputs": [
    {
     "name": "stdout",
     "output_type": "stream",
     "text": [
      "ord_0 고윳값 : [2 1 3]\n",
      "ord_1 고윳값 : ['Grandmaster' 'Expert' 'Novice' 'Contributor' 'Master']\n",
      "ord_2 고윳값 : ['Cold' 'Hot' 'Lava Hot' 'Boiling Hot' 'Freezing' 'Warm']\n",
      "ord_3 고윳값 : ['h' 'a' 'i' 'j' 'g' 'e' 'd' 'b' 'k' 'f' 'l' 'n' 'o' 'c' 'm']\n",
      "ord_4 고윳값 : ['D' 'A' 'R' 'E' 'P' 'K' 'V' 'Q' 'Z' 'L' 'F' 'T' 'U' 'S' 'Y' 'B' 'H' 'J'\n",
      " 'N' 'G' 'W' 'I' 'O' 'C' 'X' 'M']\n",
      "ord_5 고윳값 : ['kr' 'bF' 'Jc' 'kW' 'qP' 'PZ' 'wy' 'Ed' 'qo' 'CZ' 'qX' 'su' 'dP' 'aP'\n",
      " 'MV' 'oC' 'RL' 'fh' 'gJ' 'Hj' 'TR' 'CL' 'Sc' 'eQ' 'kC' 'qK' 'dh' 'gM'\n",
      " 'Jf' 'fO' 'Eg' 'KZ' 'Vx' 'Fo' 'sV' 'eb' 'YC' 'RG' 'Ye' 'qA' 'lL' 'Qh'\n",
      " 'Bd' 'be' 'hT' 'lF' 'nX' 'kK' 'av' 'uS' 'Jt' 'PA' 'Er' 'Qb' 'od' 'ut'\n",
      " 'Dx' 'Xi' 'on' 'Dc' 'sD' 'rZ' 'Uu' 'sn' 'yc' 'Gb' 'Kq' 'dQ' 'hp' 'kL'\n",
      " 'je' 'CU' 'Fd' 'PQ' 'Bn' 'ex' 'hh' 'ac' 'rp' 'dE' 'oG' 'oK' 'cp' 'mm'\n",
      " 'vK' 'ek' 'dO' 'XI' 'CM' 'Vf' 'aO' 'qv' 'jp' 'Zq' 'Qo' 'DN' 'TZ' 'ke'\n",
      " 'cG' 'tP' 'ud' 'tv' 'aM' 'xy' 'lx' 'To' 'uy' 'ZS' 'vy' 'ZR' 'AP' 'GJ'\n",
      " 'Wv' 'ri' 'qw' 'Xh' 'FI' 'nh' 'KR' 'dB' 'BE' 'Bb' 'mc' 'MC' 'tM' 'NV'\n",
      " 'ih' 'IK' 'Ob' 'RP' 'dN' 'us' 'dZ' 'yN' 'Nf' 'QM' 'jV' 'sY' 'wu' 'SB'\n",
      " 'UO' 'Mx' 'JX' 'Ry' 'Uk' 'uJ' 'LE' 'ps' 'kE' 'MO' 'kw' 'yY' 'zU' 'bJ'\n",
      " 'Kf' 'ck' 'mb' 'Os' 'Ps' 'Ml' 'Ai' 'Wc' 'GD' 'll' 'aF' 'iT' 'cA' 'WE'\n",
      " 'Gx' 'Nk' 'OR' 'Rm' 'BA' 'eG' 'cW' 'jS' 'DH' 'hL' 'Mf' 'Yb' 'Aj' 'oH'\n",
      " 'Zc' 'qJ' 'eg' 'xP' 'vq' 'Id' 'pa' 'ux' 'kU' 'Cl']\n"
     ]
    }
   ],
   "source": [
    "for i in range(6):\n",
    "    feature = 'ord_' + str(i)\n",
    "    print(f'{feature} 고윳값 : {train[feature].unique()}')\n",
    "\n",
    "    # 순서형 피처의 고윳값"
   ],
   "metadata": {
    "collapsed": false,
    "pycharm": {
     "name": "#%%\n"
    }
   }
  },
  {
   "cell_type": "code",
   "execution_count": 9,
   "outputs": [
    {
     "name": "stdout",
     "output_type": "stream",
     "text": [
      "day 고윳값 :  [2 7 5 4 3 1 6]\n",
      "month 고윳값 :  [ 2  8  1  4 10  3  7  9 12 11  5  6]\n",
      "target 고윳값 :  [0 1]\n"
     ]
    }
   ],
   "source": [
    "print('day 고윳값 : ' , train['day'].unique()) # day 피처의 고윳값 7개, 요일을 의미\n",
    "print('month 고윳값 : ', train['month'].unique()) # month 피처의 고윳값은 1~12\n",
    "print('target 고윳값 : ', train['target'].unique())"
   ],
   "metadata": {
    "collapsed": false,
    "pycharm": {
     "name": "#%%\n"
    }
   }
  },
  {
   "cell_type": "code",
   "execution_count": 10,
   "outputs": [],
   "source": [
    "import seaborn as sns\n",
    "import matplotlib as mpl\n",
    "import matplotlib.pyplot as plt\n",
    "%matplotlib inline"
   ],
   "metadata": {
    "collapsed": false,
    "pycharm": {
     "name": "#%%\n"
    }
   }
  },
  {
   "cell_type": "markdown",
   "source": [
    "# 타깃값 분포"
   ],
   "metadata": {
    "collapsed": false,
    "pycharm": {
     "name": "#%% md\n"
    }
   }
  },
  {
   "cell_type": "code",
   "execution_count": null,
   "outputs": [],
   "source": [
    "# 타깃값의 분포를 알면 데이터가 얼마나 불균형한지 파악이 가능하다.\n",
    "# 부족한 타깃값에 더 집중해 모델링을 수행 할 수 있다.\n",
    "\n",
    "mpl.rc('font' ,size = 15) # 폰트 크기 설정\n",
    "plt.figure(figsize= (7,6)) # Figure 사이즈 크기 설정"
   ],
   "metadata": {
    "collapsed": false,
    "pycharm": {
     "name": "#%%\n"
    }
   }
  }
 ],
 "metadata": {
  "kernelspec": {
   "display_name": "Python 3",
   "language": "python",
   "name": "python3"
  },
  "language_info": {
   "codemirror_mode": {
    "name": "ipython",
    "version": 2
   },
   "file_extension": ".py",
   "mimetype": "text/x-python",
   "name": "python",
   "nbconvert_exporter": "python",
   "pygments_lexer": "ipython2",
   "version": "2.7.6"
  }
 },
 "nbformat": 4,
 "nbformat_minor": 0
}