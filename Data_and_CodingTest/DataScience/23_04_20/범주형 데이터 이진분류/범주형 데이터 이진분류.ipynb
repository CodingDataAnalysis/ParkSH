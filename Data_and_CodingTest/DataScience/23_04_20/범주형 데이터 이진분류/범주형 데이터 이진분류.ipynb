{
 "cells": [
  {
   "cell_type": "code",
   "execution_count": 1,
   "metadata": {
    "collapsed": true,
    "pycharm": {
     "name": "#%%\n"
    }
   },
   "outputs": [],
   "source": [
    "# 분류 문제에는 타깃값(종속변수)를 예측할 수도 있고, 타깃값일 확률을 예측할 수 도 있다.\n",
    "# 타깃값이 0 이나 1 이냐가 아닌 1일 확률을 예측한다.\n",
    "\n"
   ]
  },
  {
   "cell_type": "code",
   "execution_count": null,
   "outputs": [],
   "source": [
    "import pandas as pd\n",
    "\n",
    "data_path = './cat-in-the-dat/'\n",
    "\n",
    "train = pd.read_csv(data_path + 'train.csv' , index_col = 'id')\n",
    "test = pd.read_csv(data_path + 'test.csv' , index_col = 'id')\n",
    "submission = pd.read_csv(data_path + 'sample_submission.csv' , index_col= 'id')\n",
    "\n",
    "train"
   ],
   "metadata": {
    "collapsed": false,
    "pycharm": {
     "name": "#%%\n",
     "is_executing": true
    }
   }
  },
  {
   "cell_type": "code",
   "execution_count": null,
   "outputs": [],
   "source": [
    "train.shape , test.shape"
   ],
   "metadata": {
    "collapsed": false,
    "pycharm": {
     "name": "#%%\n",
     "is_executing": true
    }
   }
  },
  {
   "cell_type": "code",
   "execution_count": null,
   "outputs": [],
   "source": [
    "test"
   ],
   "metadata": {
    "collapsed": false,
    "pycharm": {
     "name": "#%%\n",
     "is_executing": true
    }
   }
  },
  {
   "cell_type": "code",
   "execution_count": null,
   "outputs": [],
   "source": [
    "train.head().T"
   ],
   "metadata": {
    "collapsed": false,
    "pycharm": {
     "name": "#%%\n",
     "is_executing": true
    }
   }
  },
  {
   "cell_type": "code",
   "execution_count": null,
   "outputs": [],
   "source": [
    "submission.head()"
   ],
   "metadata": {
    "collapsed": false,
    "pycharm": {
     "name": "#%%\n",
     "is_executing": true
    }
   }
  },
  {
   "cell_type": "code",
   "execution_count": null,
   "outputs": [],
   "source": [
    "test.head()"
   ],
   "metadata": {
    "collapsed": false,
    "pycharm": {
     "name": "#%%\n",
     "is_executing": true
    }
   }
  },
  {
   "cell_type": "code",
   "execution_count": null,
   "outputs": [],
   "source": [
    "# 이번 문제의 목표는 각 테스트 데이터의 타깃값이 1일 확률을 예측하는 것이다.\n",
    "\n",
    "\n",
    "train.describe().T"
   ],
   "metadata": {
    "collapsed": false,
    "pycharm": {
     "name": "#%%\n",
     "is_executing": true
    }
   }
  },
  {
   "cell_type": "code",
   "execution_count": null,
   "outputs": [],
   "source": [
    "train.info()"
   ],
   "metadata": {
    "collapsed": false,
    "pycharm": {
     "name": "#%%\n",
     "is_executing": true
    }
   }
  },
  {
   "cell_type": "code",
   "execution_count": null,
   "outputs": [],
   "source": [
    "def resumetable(df):\n",
    "    print(f'데이터셋 형상 : {df.shape}')\n",
    "    summary = pd.DataFrame(df.dtypes , columns = ['데이터 타입'])\n",
    "    summary = summary.reset_index()\n",
    "    summary = summary.rename(columns = {'index' : '피처'})\n",
    "    summary['결측값 개수'] = df.isnull().sum().values\n",
    "    summary['고윳값 개수'] = df.nunique().values\n",
    "    summary['첫 번째 값'] = df.loc[0].values\n",
    "    summary['두 번째 값'] = df.loc[1].values\n",
    "    summary['세 번째 값'] = df.loc[2].values\n",
    "\n",
    "\n",
    "    return summary\n",
    "\n",
    "resumetable(train)\n",
    "\n",
    "# 이진 (binary) 피처 : bin_0 ~ bin_4 ==> 고윳값 개수가 2개씩 ==> 이진 피처이다.\n",
    "# ==> bin_0~ 2 은 데이터타입이 int로써, 실제값이 0또는 1로 구성되어있다.\n",
    "# ==> bin_3~ 4 는 데이터타입이 object로써, 실제값이 T또는 F , Y또는 N이다.\n",
    "# 명목형(nominal) 피처 : nom_0 ~ nom_9\n",
    "# 명목형 피처는 모두 object 타입이고, 결측값은 없다.\n",
    "# 순서형(ordinal) 피처 : ord_0 ~ ord_5\n",
    "#\n",
    "# 그 외 피처 : day , month , target"
   ],
   "metadata": {
    "collapsed": false,
    "pycharm": {
     "name": "#%%\n",
     "is_executing": true
    }
   }
  },
  {
   "cell_type": "code",
   "execution_count": null,
   "outputs": [],
   "source": [
    "for i in range(3):\n",
    "    feature = 'ord_' + str(i)\n",
    "    print(f'{feature} 고윳값 : {train[feature].unique()}')\n",
    "# 순서형 데이터들의 고윳값 출력"
   ],
   "metadata": {
    "collapsed": false,
    "pycharm": {
     "name": "#%%\n",
     "is_executing": true
    }
   }
  },
  {
   "cell_type": "code",
   "execution_count": null,
   "outputs": [],
   "source": [
    "for i in range(3,6):\n",
    "    feature = 'ord_' + str(i)\n",
    "    print(f'{feature} 고윳값 : {train[feature].unique()}')"
   ],
   "metadata": {
    "collapsed": false,
    "pycharm": {
     "name": "#%%\n",
     "is_executing": true
    }
   }
  },
  {
   "cell_type": "code",
   "execution_count": null,
   "outputs": [],
   "source": [
    "print('day 고윳값 : ',train['day'].unique())\n",
    "print('month 고윳값 :' , train['month'].unique())\n",
    "print('target 고윳값 : ', train['target'].unique())"
   ],
   "metadata": {
    "collapsed": false,
    "pycharm": {
     "name": "#%%\n",
     "is_executing": true
    }
   }
  },
  {
   "cell_type": "markdown",
   "source": [
    "## 데이터 시각화"
   ],
   "metadata": {
    "collapsed": false,
    "pycharm": {
     "name": "#%% md\n"
    }
   }
  },
  {
   "cell_type": "code",
   "execution_count": null,
   "outputs": [],
   "source": [
    "import seaborn as sns\n",
    "import matplotlib as mpl\n",
    "import matplotlib.pyplot as plt\n",
    "%matplotlib inline"
   ],
   "metadata": {
    "collapsed": false,
    "pycharm": {
     "name": "#%%\n",
     "is_executing": true
    }
   }
  },
  {
   "cell_type": "code",
   "execution_count": null,
   "outputs": [],
   "source": [
    "mpl.rc('font' , size = 15)\n",
    "plt.figure(figsize=(7,6))\n",
    "\n",
    "ax = sns.countplot(x='target' , data=train)\n",
    "ax.set_title('Target Distribution')\n",
    "\n",
    "rectangle = ax.patches[0] # 첫 번째 Rectangle 객체\n",
    "print('사각형 높이 :' , rectangle.get_height())\n",
    "print('사각형 너비 :', rectangle.get_width())\n",
    "print('사각형 왼쪽 테두리의 x축 위치 : ' , rectangle.get_x())\n",
    "\n",
    "print('텍스트 위치의 x좌표 : ' , rectangle.get_x() + rectangle.get_width() / 2.0)\n",
    "print('텍스트 위치의 y좌표 : ' , rectangle.get_height() + len(train) *0.001)"
   ],
   "metadata": {
    "collapsed": false,
    "pycharm": {
     "name": "#%%\n",
     "is_executing": true
    }
   }
  },
  {
   "cell_type": "code",
   "execution_count": null,
   "outputs": [],
   "source": [
    "def write_percent(ax , total_size):\n",
    "    # 도형 객체를 순회하며 막대 상단에 타깃값 비율 표시\n",
    "    for patch in ax.patches:\n",
    "        height = patch.get_height() # 도형 높이(데이터 개수)\n",
    "        width = patch.get_width() # 도형 넓이\n",
    "        left_coord = patch.get_x() # 도형 왼쪽 테두리의 x축 위치\n",
    "        percent = height/total_size*100 # 타깃값 비율\n",
    "\n",
    "        # (x,y) 좌표에 텍스트 입력\n",
    "        ax.text(x=left_coord + width/2.0 , y = height + total_size*0.001,\n",
    "                s = f'{percent : 1.1f}%', ha= 'center')\n",
    "plt.figure(figsize=(7,6))\n",
    "\n",
    "ax = sns.countplot(x='target' , data = train)\n",
    "write_percent(ax , len(train)) # 비율 표시\n",
    "ax.set_title('Target Distribution')\n",
    "\n"
   ],
   "metadata": {
    "collapsed": false,
    "pycharm": {
     "name": "#%%\n",
     "is_executing": true
    }
   }
  },
  {
   "cell_type": "code",
   "execution_count": null,
   "outputs": [],
   "source": [
    "import matplotlib.gridspec as gridspec # 여러 그래프를 격자 형태로 배치\n",
    "\n",
    "# 3행 2열\n",
    "mpl.rc('font' , size = 12)\n",
    "grid = gridspec.GridSpec(3,2) # 그래프(서브플롯)을 3행 2열로 배치\n",
    "plt.figure(figsize=(10,16)) # 전체 Figure 크기 설정\n",
    "plt.subplots_adjust(wspace= 0.4 , hspace= 0.3) # 서브플롯 간 좌우/상하 여백 설정\n",
    "\n",
    "# 서브플롯 그리기\n",
    "bin_features = ['bin_0' , 'bin_1' , 'bin_2' , 'bin_3', 'bin_4'] # 피처 목록\n",
    "\n",
    "for idx, feature in enumerate(bin_features) :\n",
    "    ax = plt.subplot(grid[idx])\n",
    "\n",
    "    # ax 축에 타깃값 분포 카운트플롯 그리기\n",
    "    sns.countplot(x=feature , data = train , hue = 'target' , palette = 'pastel' , ax= ax)\n",
    "    # hue는 세부적으로 나눠 그릴 기준 피처, 여기서는 타깃값(target)을 전달했다.\n",
    "    ax.set_title(f'{feature} Distribution by Target') # 그래프 제목 설정\n",
    "    write_percent(ax, len(train))"
   ],
   "metadata": {
    "collapsed": false,
    "pycharm": {
     "name": "#%%\n",
     "is_executing": true
    }
   }
  },
  {
   "cell_type": "markdown",
   "source": [
    "## 교차분석표 생성 함수 만들기"
   ],
   "metadata": {
    "collapsed": false,
    "pycharm": {
     "name": "#%% md\n"
    }
   }
  },
  {
   "cell_type": "code",
   "execution_count": null,
   "outputs": [],
   "source": [
    "# 교차표(cross-tabulation) 혹은 교차분석표는 범주형 데이터 2개를 비교 분석하는 데 사용되는 표로, 각 범주형 데이터의 빈도나 통계량을 행과 열로 결합해놓은 표를 말한다.\n",
    "\n",
    "# 교차분석표를 만드는 이유는 명목형 피처별 타깃값 1 비율을 구하기 위해서이다.\n",
    "\n",
    "pd.crosstab(train['nom_0'] , train['target'])"
   ],
   "metadata": {
    "collapsed": false,
    "pycharm": {
     "name": "#%%\n",
     "is_executing": true
    }
   }
  },
  {
   "cell_type": "code",
   "execution_count": null,
   "outputs": [],
   "source": [
    "crosstab = pd.crosstab(train['nom_0'] , train['target'] , normalize= 'index') * 100\n",
    "# 열을 기준으로 정규화하려면 normalize = 'columns'로 설정해 실행하면 된다.\n",
    "# 정규화한 값(비율) 구하기.\n",
    "crosstab"
   ],
   "metadata": {
    "collapsed": false,
    "pycharm": {
     "name": "#%%\n",
     "is_executing": true
    }
   }
  },
  {
   "cell_type": "code",
   "execution_count": null,
   "outputs": [],
   "source": [
    "crosstab = crosstab.reset_index() # 인덱스 재설정\n",
    "crosstab"
   ],
   "metadata": {
    "collapsed": false,
    "pycharm": {
     "name": "#%%\n",
     "is_executing": true
    }
   }
  },
  {
   "cell_type": "code",
   "execution_count": null,
   "outputs": [],
   "source": [
    "def get_crosstab(df , feature):\n",
    "    crosstab = pd.crosstab(df[feature] , df['target'] , normalize='index') * 100\n",
    "    crosstab = crosstab.reset_index()\n",
    "    return crosstab\n",
    "\n",
    "crosstab = get_crosstab(train, 'nom_0')\n",
    "crosstab"
   ],
   "metadata": {
    "collapsed": false,
    "pycharm": {
     "name": "#%%\n",
     "is_executing": true
    }
   }
  },
  {
   "cell_type": "code",
   "execution_count": null,
   "outputs": [],
   "source": [
    "crosstab[1] # nom_0 피처의 고윳값별 타깃값 1 비율이다."
   ],
   "metadata": {
    "collapsed": false,
    "pycharm": {
     "name": "#%%\n",
     "is_executing": true
    }
   }
  },
  {
   "cell_type": "code",
   "execution_count": null,
   "outputs": [],
   "source": [
    "def plot_pointplot(ax , feature , crosstab):\n",
    "    ax2 = ax.twinx() # x축은 공유하고 y축은 공유하지 않는 새로운 축 생성\n",
    "    # 새로운 축에 포인트플롯 그리기\n",
    "    ax2 = sns.pointplot(x=feature , y =1 , data=crosstab ,\n",
    "                        order = crosstab[feature].values , color = 'black' , legend = True)\n",
    "    ax2.set_ylim(crosstab[1].min()- 5 , crosstab[1].max()*1.1) # y축 범위 설정\n",
    "    ax2.set_ylabel('Target 1 Ratio(%)')"
   ],
   "metadata": {
    "collapsed": false,
    "pycharm": {
     "name": "#%%\n",
     "is_executing": true
    }
   }
  },
  {
   "cell_type": "code",
   "execution_count": null,
   "outputs": [],
   "source": [
    "def plot_cat_dist_with_true_ratio(df, features , num_rows , num_cols , size = (15,20) ):\n",
    "\n",
    "    plt.figure(figsize = size) # 전체 Figure 크기 설정\n",
    "    grid = gridspec.GridSpec(num_rows , num_cols) # 서브플롯 배치\n",
    "    plt.subplots_adjust(wspace = 0.45 , hspace= 0.3) # 서브플롯 좌우/상하 여백 설정\n",
    "\n",
    "    for idx ,feature in enumerate(features):\n",
    "        ax = plt.subplot(grid[idx])\n",
    "        # ax.set_xticks([])\n",
    "        # ax.set_yticks([])\n",
    "        crosstab = get_crosstab(df, feature) # 교차분석표 생성\n",
    "\n",
    "        # ax 축에 타깃값 분포 카운트플롯 그리기\n",
    "\n",
    "\n",
    "        sns.countplot(x = feature , data = df , order = crosstab[feature].values,\n",
    "                      color = 'skyblue' , ax = ax)\n",
    "        plt.grid(visible=False)\n",
    "        write_percent(ax , len(df)) # 비율 표시\n",
    "\n",
    "        plot_pointplot(ax , feature , crosstab) # 포인트플롯 그리기\n",
    "        plt.grid(visible=False)\n",
    "        ax.set_title(f'{feature} Distribution') # 그래프 제목 설정\n",
    "\n",
    "# ==> 이 함수는 인수로 받는 features 피처마다 타깃값별로 분포도를 그린다."
   ],
   "metadata": {
    "collapsed": false,
    "pycharm": {
     "name": "#%%\n",
     "is_executing": true
    }
   }
  },
  {
   "cell_type": "code",
   "execution_count": null,
   "outputs": [],
   "source": [
    "nom_features = ['nom_0', 'nom_1' , 'nom_2' , 'nom_3' ,'nom_4'] # 명목형 피처\n",
    "plot_cat_dist_with_true_ratio(train , nom_features , num_rows= 3 , num_cols=2)"
   ],
   "metadata": {
    "collapsed": false,
    "pycharm": {
     "name": "#%%\n",
     "is_executing": true
    }
   }
  },
  {
   "cell_type": "markdown",
   "source": [
    "## 순서형 피처 분포"
   ],
   "metadata": {
    "collapsed": false,
    "pycharm": {
     "name": "#%% md\n"
    }
   }
  },
  {
   "cell_type": "code",
   "execution_count": null,
   "outputs": [],
   "source": [
    "ord_features = ['ord_0' , 'ord_1' , 'ord_2' , 'ord_3'] # 순서형 피처\n",
    "plot_cat_dist_with_true_ratio(train , ord_features , num_rows=2 , num_cols=2 , size=(15,12))"
   ],
   "metadata": {
    "collapsed": false,
    "pycharm": {
     "name": "#%%\n",
     "is_executing": true
    }
   }
  },
  {
   "cell_type": "code",
   "execution_count": null,
   "outputs": [],
   "source": [
    "from pandas.api.types import CategoricalDtype\n",
    "\n",
    "ord_1_value = ['Novice' , 'Contributor' , 'Expert' , 'Master' , 'Grandmaster']\n",
    "ord_2_value = ['Freezing' , 'Cold' , 'Warm' , 'Hot' , 'Boiling Hot' , 'Lava Hot']\n",
    "\n",
    "# 순서를 지정한 범주형 데이터 타입\n",
    "\n",
    "ord_1_dtype = CategoricalDtype(categories = ord_1_value , ordered = True)\n",
    "ord_2_dtype = CategoricalDtype(categories = ord_2_value , ordered= True)\n",
    "#categories:  범주형 데이터 타입으로 인코딩할 값 목록\n",
    "\n",
    "# 데이터 타입 변경\n",
    "\n",
    "train['ord_1'] = train['ord_1'].astype(ord_1_dtype)\n",
    "train['ord_2'] = train['ord_2'].astype(ord_2_dtype)\n",
    "\n",
    "\n",
    "train.dtypes"
   ],
   "metadata": {
    "collapsed": false,
    "pycharm": {
     "name": "#%%\n",
     "is_executing": true
    }
   }
  },
  {
   "cell_type": "code",
   "execution_count": null,
   "outputs": [],
   "source": [
    "plot_cat_dist_with_true_ratio(train , ord_features , num_rows=2 , num_cols=2 , size=(15,12))\n",
    "\n",
    "# ord_0은 숫자 크기 순으로, ord_1 과 ord_2 는 지정된 순서대로, ord_3는 알파벳 순으로 정렬됐다.\n",
    "\n",
    "# 이 결과로부터 고윳값 순서에 따라 타깃값 1 비율도 비례해서 커진다는 것을 확인할 수 있다."
   ],
   "metadata": {
    "collapsed": false,
    "pycharm": {
     "name": "#%%\n",
     "is_executing": true
    }
   }
  },
  {
   "cell_type": "code",
   "execution_count": null,
   "outputs": [],
   "source": [
    "plot_cat_dist_with_true_ratio(train , ['ord_4' , 'ord_5'] , num_rows=2 , num_cols=1 , size=(15,12))\n",
    "\n",
    "# ord_5는 고윳값 개수가 워낙 많아 x축 라벨이 겹쳤다.\n",
    "# 그러나 타깃값 1 비율의 전체적인 양상을 보는 데는 지장이 없다.\n",
    "# ord_4 , ord_5 모두 고윳값 순서에 다라 타깃값 1 비율이 증가한다.\n",
    "\n",
    "# 순서형 피처 모두 고윳값 순서에 따라 타깃값이 1인 비율이 증가한다는 사실을 알 수 있다."
   ],
   "metadata": {
    "collapsed": false,
    "pycharm": {
     "name": "#%%\n",
     "is_executing": true
    }
   }
  },
  {
   "cell_type": "markdown",
   "source": [
    "## 날짜 피처 분포"
   ],
   "metadata": {
    "collapsed": false,
    "pycharm": {
     "name": "#%% md\n"
    }
   }
  },
  {
   "cell_type": "code",
   "execution_count": null,
   "outputs": [],
   "source": [
    "date_features = ['day' , 'month']\n",
    "plot_cat_dist_with_true_ratio(train , date_features , num_rows= 2,  num_cols= 1 , size=(10,10))\n",
    "\n",
    "# day 피처는 7개인 걸로 보아 요일을 의미한다고 추측할 수 있다.\n",
    "# 1에서 4로 갈수록 타깃값 1 비율이 줄어들고, 4에서 7로 갈 수록 비율이 늘어난다."
   ],
   "metadata": {
    "collapsed": false,
    "pycharm": {
     "name": "#%%\n",
     "is_executing": true
    }
   }
  },
  {
   "cell_type": "code",
   "execution_count": null,
   "outputs": [],
   "source": [],
   "metadata": {
    "collapsed": false,
    "pycharm": {
     "name": "#%%\n",
     "is_executing": true
    }
   }
  }
 ],
 "metadata": {
  "kernelspec": {
   "display_name": "Python 3",
   "language": "python",
   "name": "python3"
  },
  "language_info": {
   "codemirror_mode": {
    "name": "ipython",
    "version": 2
   },
   "file_extension": ".py",
   "mimetype": "text/x-python",
   "name": "python",
   "nbconvert_exporter": "python",
   "pygments_lexer": "ipython2",
   "version": "2.7.6"
  }
 },
 "nbformat": 4,
 "nbformat_minor": 0
}